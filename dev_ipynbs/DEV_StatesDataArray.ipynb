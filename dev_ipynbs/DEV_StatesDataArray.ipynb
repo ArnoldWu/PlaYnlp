{
 "metadata": {
  "name": "",
  "signature": "sha256:b692d0d2864426268fb51e028490d5b56eed19e76b4086a39af6a5dbf905d7df"
 },
 "nbformat": 3,
 "nbformat_minor": 0,
 "worksheets": [
  {
   "cells": [
    {
     "cell_type": "code",
     "collapsed": false,
     "input": [
      "import PlaYnlp.tokenizer as tkr \n",
      "import PlaYnlp.vectorizer as vcr\n",
      "from PlaYnlp import dataio\n",
      "\n",
      "from PlaYnlp.sparse import L0_norm_col_summarizer as L0_col_sum\n",
      "from PlaYnlp.sparse import L1_norm_col_summarizer as L1_col_sum\n",
      "import numpy as np\n",
      "import scipy as sp"
     ],
     "language": "python",
     "metadata": {},
     "outputs": [],
     "prompt_number": 1
    },
    {
     "cell_type": "code",
     "collapsed": false,
     "input": [
      "jieba_without_html_tokenizer = tkr.tokenize_gen(lambda text:tkr.jieba.cut(tkr.nltk.clean_html(text)))\n",
      "unigram_without_html_tokenizer = tkr.tokenize_gen(lambda text:tkr.ngram(tkr.nltk.clean_html(text),n=1))\n",
      "bigram_without_html_tokenizer = tkr.tokenize_gen(lambda text:tkr.ngram(tkr.nltk.clean_html(text),n=2))\n",
      "jieba_vec_count_kwargs = {\"tokenizer\":jieba_without_html_tokenizer,\"lowercase\":False}\n",
      "unigram_vec_count_kwargs = {\"tokenizer\":unigram_without_html_tokenizer,\"lowercase\":False}\n",
      "bigram_vec_count_kwargs = {\"tokenizer\":bigram_without_html_tokenizer,\"lowercase\":False}"
     ],
     "language": "python",
     "metadata": {},
     "outputs": [],
     "prompt_number": 2
    },
    {
     "cell_type": "code",
     "collapsed": false,
     "input": [
      "import pandas as pd \n",
      "test_text_df = pd.DataFrame([u\"\u4eca\u5929\u5929\u6c23\u5f88\u597d\",u\"\u4eca\u5929\u5929\u6c23\u5f88\u721b\",u\"\u6211\u6068\u5b83\",u\"\u5b83\u6068\u6211\",u\"\u6211\u611b\u5b83\",u\"\u5b83\u611b\u6211\",u\"\u4eca\u5929\u5f88\u8870\",\"\u65e5\u5b50\u4e00\u5929\u4e00\u5929\u904e\",\"\u5929\u5929\u5237\u7259\u6d17\u81c9\"])\n",
      "test_text_df.columns = [\"text\"]\n",
      "test_text_df = test_text_df.reset_index()\n",
      "test_text_df"
     ],
     "language": "python",
     "metadata": {},
     "outputs": [
      {
       "html": [
        "<div style=\"max-height:1000px;max-width:1500px;overflow:auto;\">\n",
        "<table border=\"1\" class=\"dataframe\">\n",
        "  <thead>\n",
        "    <tr style=\"text-align: right;\">\n",
        "      <th></th>\n",
        "      <th>index</th>\n",
        "      <th>text</th>\n",
        "    </tr>\n",
        "  </thead>\n",
        "  <tbody>\n",
        "    <tr>\n",
        "      <th>0</th>\n",
        "      <td> 0</td>\n",
        "      <td>  \u4eca\u5929\u5929\u6c23\u5f88\u597d</td>\n",
        "    </tr>\n",
        "    <tr>\n",
        "      <th>1</th>\n",
        "      <td> 1</td>\n",
        "      <td>  \u4eca\u5929\u5929\u6c23\u5f88\u721b</td>\n",
        "    </tr>\n",
        "    <tr>\n",
        "      <th>2</th>\n",
        "      <td> 2</td>\n",
        "      <td>     \u6211\u6068\u5b83</td>\n",
        "    </tr>\n",
        "    <tr>\n",
        "      <th>3</th>\n",
        "      <td> 3</td>\n",
        "      <td>     \u5b83\u6068\u6211</td>\n",
        "    </tr>\n",
        "    <tr>\n",
        "      <th>4</th>\n",
        "      <td> 4</td>\n",
        "      <td>     \u6211\u611b\u5b83</td>\n",
        "    </tr>\n",
        "    <tr>\n",
        "      <th>5</th>\n",
        "      <td> 5</td>\n",
        "      <td>     \u5b83\u611b\u6211</td>\n",
        "    </tr>\n",
        "    <tr>\n",
        "      <th>6</th>\n",
        "      <td> 6</td>\n",
        "      <td>    \u4eca\u5929\u5f88\u8870</td>\n",
        "    </tr>\n",
        "    <tr>\n",
        "      <th>7</th>\n",
        "      <td> 7</td>\n",
        "      <td> \u65e5\u5b50\u4e00\u5929\u4e00\u5929\u904e</td>\n",
        "    </tr>\n",
        "    <tr>\n",
        "      <th>8</th>\n",
        "      <td> 8</td>\n",
        "      <td>  \u5929\u5929\u5237\u7259\u6d17\u81c9</td>\n",
        "    </tr>\n",
        "  </tbody>\n",
        "</table>\n",
        "<p>9 rows \u00d7 2 columns</p>\n",
        "</div>"
       ],
       "metadata": {},
       "output_type": "pyout",
       "prompt_number": 3,
       "text": [
        "   index     text\n",
        "0      0   \u4eca\u5929\u5929\u6c23\u5f88\u597d\n",
        "1      1   \u4eca\u5929\u5929\u6c23\u5f88\u721b\n",
        "2      2      \u6211\u6068\u5b83\n",
        "3      3      \u5b83\u6068\u6211\n",
        "4      4      \u6211\u611b\u5b83\n",
        "5      5      \u5b83\u611b\u6211\n",
        "6      6     \u4eca\u5929\u5f88\u8870\n",
        "7      7  \u65e5\u5b50\u4e00\u5929\u4e00\u5929\u904e\n",
        "8      8   \u5929\u5929\u5237\u7259\u6d17\u81c9\n",
        "\n",
        "[9 rows x 2 columns]"
       ]
      }
     ],
     "prompt_number": 3
    },
    {
     "cell_type": "code",
     "collapsed": false,
     "input": [
      "test_jieba_sdtm = vcr.vectorize_text(df=test_text_df,\n",
      "                                     text_col=\"text\", \n",
      "                                     idx_col=\"index\", \n",
      "                                     cond_query={},\n",
      "                                     idx_query= [],\n",
      "                                     vect_gen=vcr.CountVectorizer, \n",
      "                                     vect_gen_init_kwargs = unigram_vec_count_kwargs)"
     ],
     "language": "python",
     "metadata": {},
     "outputs": [],
     "prompt_number": 4
    },
    {
     "cell_type": "code",
     "collapsed": false,
     "input": [],
     "language": "python",
     "metadata": {},
     "outputs": [],
     "prompt_number": 4
    },
    {
     "cell_type": "code",
     "collapsed": false,
     "input": [
      "import numpy as np\n",
      "import inspect\n",
      "import types"
     ],
     "language": "python",
     "metadata": {},
     "outputs": [],
     "prompt_number": 5
    },
    {
     "cell_type": "code",
     "collapsed": false,
     "input": [],
     "language": "python",
     "metadata": {},
     "outputs": [],
     "prompt_number": 5
    },
    {
     "cell_type": "code",
     "collapsed": false,
     "input": [
      "def clean_no_data_tensors(np_array):\n",
      "    return np_array[map(lambda xx:0 if xx==1 else slice(None,None,None),np_array.shape)]\n",
      "\n",
      "\n",
      "\n",
      "    \n",
      "    "
     ],
     "language": "python",
     "metadata": {},
     "outputs": [],
     "prompt_number": 6
    },
    {
     "cell_type": "code",
     "collapsed": false,
     "input": [],
     "language": "python",
     "metadata": {},
     "outputs": [],
     "prompt_number": 6
    },
    {
     "cell_type": "code",
     "collapsed": false,
     "input": [
      "print \"// \".join(list(tkr.ngram(test_text_df[\"text\"].values[0],[1])))"
     ],
     "language": "python",
     "metadata": {},
     "outputs": [
      {
       "output_type": "stream",
       "stream": "stdout",
       "text": [
        "\u4eca// \u5929// \u5929// \u6c23// \u5f88// \u597d\n"
       ]
      }
     ],
     "prompt_number": 7
    },
    {
     "cell_type": "code",
     "collapsed": false,
     "input": [],
     "language": "python",
     "metadata": {},
     "outputs": [],
     "prompt_number": 7
    },
    {
     "cell_type": "code",
     "collapsed": false,
     "input": [
      "\n",
      "\n",
      "class ValuesArray(np.ndarray):\n",
      "    def __new__(cls, data, dtype=None):\n",
      "        if isinstance(data, cls):\n",
      "            return data\n",
      "        else:\n",
      "            values_array = np.array(data, dtype=dtype).view(cls)\n",
      "            return values_array\n",
      "        \n",
      "    def decompose_into_states_ptrs(self):\n",
      "        u,i = np.unique(self, return_inverse=True)\n",
      "        states_array = StatesArray(data=u)\n",
      "        ptr_array = PtrArray(data=i, eval_cls=type(self))\n",
      "        return states_array, ptr_array\n",
      "        \n",
      "    \n",
      "        "
     ],
     "language": "python",
     "metadata": {},
     "outputs": [],
     "prompt_number": 8
    },
    {
     "cell_type": "code",
     "collapsed": false,
     "input": [
      "val_array = ValuesArray(list(tkr.ngram(test_text_df[\"text\"].values[0],[1])))\n",
      "print \"val_array = \",val_array\n"
     ],
     "language": "python",
     "metadata": {},
     "outputs": [
      {
       "output_type": "stream",
       "stream": "stdout",
       "text": [
        "val_array =  [u'\\u4eca' u'\\u5929' u'\\u5929' u'\\u6c23' u'\\u5f88' u'\\u597d']\n"
       ]
      }
     ],
     "prompt_number": 9
    },
    {
     "cell_type": "code",
     "collapsed": false,
     "input": [
      "u,i = np.unique(val_array, return_inverse=True)\n",
      "print i.dtype\n",
      "print np.array(i).dtype\n",
      "u,i\n"
     ],
     "language": "python",
     "metadata": {},
     "outputs": [
      {
       "output_type": "stream",
       "stream": "stdout",
       "text": [
        "int64\n",
        "int64\n"
       ]
      },
      {
       "metadata": {},
       "output_type": "pyout",
       "prompt_number": 10,
       "text": [
        "(ValuesArray([u'\\u4eca', u'\\u5929', u'\\u597d', u'\\u5f88', u'\\u6c23'], \n",
        "       dtype='<U1'), array([0, 1, 1, 4, 3, 2]))"
       ]
      }
     ],
     "prompt_number": 10
    },
    {
     "cell_type": "code",
     "collapsed": false,
     "input": [
      "class StatesArray(np.ndarray):\n",
      "    def __new__(cls, data, dtype=None):\n",
      "        if isinstance(data, cls):\n",
      "            return data\n",
      "        else:\n",
      "            states_array = np.unique(np.array(data, dtype=dtype)).view(cls)\n",
      "            return states_array\n",
      "    \n",
      "    def _eval(self, ptr_array):\n",
      "        assert isinstance(ptr_array, PtrArray)\n",
      "        return self[ptr_array].view(ptr_array._eval_cls).copy()\n",
      "        \n",
      "    \n",
      "\n",
      "class PtrArray(np.ndarray):\n",
      "    def __new__(cls, data, dtype=None, eval_cls=np.ndarray):\n",
      "        if isinstance(data, cls):\n",
      "            return data\n",
      "        else:\n",
      "            data_array = np.array(data, dtype).view(cls)\n",
      "            data_array._eval_cls = eval_cls\n",
      "            return data_array\n",
      "    \n",
      "    def trans(self, ptrs_transform):\n",
      "        return type(self)(data = ptrs_transform[self],eval_cls=self._eval_cls)\n",
      "\n",
      "    \n",
      "\n",
      "\n",
      "class StatesDictionary(object):\n",
      "    def __init__(self, states_array):\n",
      "        assert isinstance(states_array, StatesArray)\n",
      "        self._states_array = states_array\n",
      "        self._referred_by = []\n",
      "    \n",
      "    def _eval(self, ptr_array):\n",
      "        assert isinstance(ptr_array, PtrArray)\n",
      "        return self._states_array[ptr_array].view(ptr_array._eval_cls).copy()\n",
      "    \n",
      "    def update(self, new_states_array, ptrs_transform):\n",
      "        self._states_array = new_states_array\n",
      "        for one_states_data_array in self._referred_by:\n",
      "            one_states_data_array._ptr_array = one_states_data_array._ptr_array.trans(ptrs_transform)\n",
      "    \n",
      "    \n",
      "        \n",
      "    \n",
      "class StatesDataArray(object):\n",
      "    def __init__(self, states_array, ptr_array):\n",
      "        \n",
      "        self._ptr_array = ptr_array\n",
      "        self._states_dict = StatesDictionary(states_array=states_array)\n",
      "        self._states_dict._referred_by.append(self)\n",
      "    \n",
      "    @property\n",
      "    def _eval(self):\n",
      "        return self._states_dict._eval(self._ptr_array)\n",
      "    \n",
      "    def __repr__(self):\n",
      "        return self._states_dict._eval(self._ptr_array).__repr__()\n",
      "    "
     ],
     "language": "python",
     "metadata": {},
     "outputs": [],
     "prompt_number": 120
    },
    {
     "cell_type": "code",
     "collapsed": false,
     "input": [],
     "language": "python",
     "metadata": {},
     "outputs": [],
     "prompt_number": 120
    },
    {
     "cell_type": "code",
     "collapsed": false,
     "input": [],
     "language": "python",
     "metadata": {},
     "outputs": [],
     "prompt_number": 120
    },
    {
     "cell_type": "code",
     "collapsed": false,
     "input": [
      "StatesArray(u),PtrArray(i)"
     ],
     "language": "python",
     "metadata": {},
     "outputs": [
      {
       "metadata": {},
       "output_type": "pyout",
       "prompt_number": 121,
       "text": [
        "(StatesArray([u'\\u4eca', u'\\u5929', u'\\u597d', u'\\u5b83', u'\\u5f88', u'\\u6068',\n",
        "        u'\\u611b', u'\\u6211', u'\\u6c23', u'\\u721b'], \n",
        "       dtype='<U1'),\n",
        " PtrArray([0, 1, 2, 4, 8, 0, 1, 4, 8, 9, 3, 5, 7, 3, 6, 7]))"
       ]
      }
     ],
     "prompt_number": 121
    },
    {
     "cell_type": "code",
     "collapsed": false,
     "input": [
      "StatesArray(u)._eval(PtrArray(i))"
     ],
     "language": "python",
     "metadata": {},
     "outputs": [
      {
       "metadata": {},
       "output_type": "pyout",
       "prompt_number": 122,
       "text": [
        "array([u'\\u4eca', u'\\u5929', u'\\u597d', u'\\u5f88', u'\\u6c23', u'\\u4eca',\n",
        "       u'\\u5929', u'\\u5f88', u'\\u6c23', u'\\u721b', u'\\u5b83', u'\\u6068',\n",
        "       u'\\u6211', u'\\u5b83', u'\\u611b', u'\\u6211'], \n",
        "      dtype='<U1')"
       ]
      }
     ],
     "prompt_number": 122
    },
    {
     "cell_type": "code",
     "collapsed": false,
     "input": [
      "StatesArray(u)._eval(PtrArray(i, eval_cls=ValuesArray))"
     ],
     "language": "python",
     "metadata": {},
     "outputs": [
      {
       "metadata": {},
       "output_type": "pyout",
       "prompt_number": 123,
       "text": [
        "ValuesArray([u'\\u4eca', u'\\u5929', u'\\u597d', u'\\u5f88', u'\\u6c23', u'\\u4eca',\n",
        "       u'\\u5929', u'\\u5f88', u'\\u6c23', u'\\u721b', u'\\u5b83', u'\\u6068',\n",
        "       u'\\u6211', u'\\u5b83', u'\\u611b', u'\\u6211'], \n",
        "      dtype='<U1')"
       ]
      }
     ],
     "prompt_number": 123
    },
    {
     "cell_type": "code",
     "collapsed": false,
     "input": [],
     "language": "python",
     "metadata": {},
     "outputs": [],
     "prompt_number": 123
    },
    {
     "cell_type": "code",
     "collapsed": false,
     "input": [
      "val_array = ValuesArray(list(tkr.ngram(test_text_df[\"text\"].values[0],[1])))\n",
      "print \"val_array = \",val_array\n",
      "states_array, ptr_array = val_array.decompose_into_states_ptrs()\n",
      "print states_array, ptr_array\n",
      "states_array._eval(ptr_array)"
     ],
     "language": "python",
     "metadata": {},
     "outputs": [
      {
       "output_type": "stream",
       "stream": "stdout",
       "text": [
        "val_array =  [u'\\u4eca' u'\\u5929' u'\\u5929' u'\\u6c23' u'\\u5f88' u'\\u597d']\n",
        "[u'\\u4eca' u'\\u5929' u'\\u597d' u'\\u5f88' u'\\u6c23'] [0 1 1 4 3 2]\n"
       ]
      },
      {
       "metadata": {},
       "output_type": "pyout",
       "prompt_number": 124,
       "text": [
        "ValuesArray([u'\\u4eca', u'\\u5929', u'\\u5929', u'\\u6c23', u'\\u5f88', u'\\u597d'], \n",
        "      dtype='<U1')"
       ]
      }
     ],
     "prompt_number": 124
    },
    {
     "cell_type": "code",
     "collapsed": false,
     "input": [
      "StatesDataArray(*val_array.decompose_into_states_ptrs())"
     ],
     "language": "python",
     "metadata": {},
     "outputs": [
      {
       "metadata": {},
       "output_type": "pyout",
       "prompt_number": 125,
       "text": [
        "ValuesArray([u'\\u4eca', u'\\u5929', u'\\u5929', u'\\u6c23', u'\\u5f88', u'\\u597d'], \n",
        "      dtype='<U1')"
       ]
      }
     ],
     "prompt_number": 125
    },
    {
     "cell_type": "code",
     "collapsed": false,
     "input": [],
     "language": "python",
     "metadata": {},
     "outputs": [],
     "prompt_number": 125
    },
    {
     "cell_type": "code",
     "collapsed": false,
     "input": [
      "val_array1 = ValuesArray(list(tkr.ngram(test_text_df[\"text\"].values[0],[1])))\n",
      "val_array2 = ValuesArray(list(tkr.ngram(test_text_df[\"text\"].values[1],[1])))\n",
      "states_data_array1 = StatesDataArray(*val_array1.decompose_into_states_ptrs())\n",
      "states_data_array2 = StatesDataArray(*val_array2.decompose_into_states_ptrs())"
     ],
     "language": "python",
     "metadata": {},
     "outputs": [],
     "prompt_number": 126
    },
    {
     "cell_type": "code",
     "collapsed": false,
     "input": [
      "\n",
      "print \"// \".join(states_data_array1._eval)\n",
      "print \"// \".join(states_data_array2._eval)\n",
      "states_data_array1, states_data_array2"
     ],
     "language": "python",
     "metadata": {},
     "outputs": [
      {
       "output_type": "stream",
       "stream": "stdout",
       "text": [
        "\u4eca// \u5929// \u5929// \u6c23// \u5f88// \u597d\n",
        "\u4eca// \u5929// \u5929// \u6c23// \u5f88// \u721b\n"
       ]
      },
      {
       "metadata": {},
       "output_type": "pyout",
       "prompt_number": 127,
       "text": [
        "(ValuesArray([u'\\u4eca', u'\\u5929', u'\\u5929', u'\\u6c23', u'\\u5f88', u'\\u597d'], \n",
        "       dtype='<U1'),\n",
        " ValuesArray([u'\\u4eca', u'\\u5929', u'\\u5929', u'\\u6c23', u'\\u5f88', u'\\u721b'], \n",
        "       dtype='<U1'))"
       ]
      }
     ],
     "prompt_number": 127
    },
    {
     "cell_type": "code",
     "collapsed": false,
     "input": [],
     "language": "python",
     "metadata": {},
     "outputs": [],
     "prompt_number": 127
    },
    {
     "cell_type": "code",
     "collapsed": false,
     "input": [
      "print states_data_array1._states_dict._referred_by\n",
      "print states_data_array2._states_dict._referred_by"
     ],
     "language": "python",
     "metadata": {},
     "outputs": [
      {
       "output_type": "stream",
       "stream": "stdout",
       "text": [
        "[ValuesArray([u'\\u4eca', u'\\u5929', u'\\u5929', u'\\u6c23', u'\\u5f88', u'\\u597d'], \n",
        "      dtype='<U1')]\n",
        "[ValuesArray([u'\\u4eca', u'\\u5929', u'\\u5929', u'\\u6c23', u'\\u5f88', u'\\u721b'], \n",
        "      dtype='<U1')]\n"
       ]
      }
     ],
     "prompt_number": 128
    },
    {
     "cell_type": "code",
     "collapsed": false,
     "input": [],
     "language": "python",
     "metadata": {},
     "outputs": [],
     "prompt_number": 128
    },
    {
     "cell_type": "code",
     "collapsed": false,
     "input": [
      "vec = range(10)\n",
      "vec_len = len(vec)\n",
      "np.ones(vec_len,dtype=np.int)[np.array(map(lambda xx:isinstance(xx,int),vec))].sum() == vec_len"
     ],
     "language": "python",
     "metadata": {},
     "outputs": [
      {
       "metadata": {},
       "output_type": "pyout",
       "prompt_number": 129,
       "text": [
        "True"
       ]
      }
     ],
     "prompt_number": 129
    },
    {
     "cell_type": "code",
     "collapsed": false,
     "input": [],
     "language": "python",
     "metadata": {},
     "outputs": [],
     "prompt_number": 129
    },
    {
     "cell_type": "code",
     "collapsed": false,
     "input": [
      "        \n",
      "def check_args(checker, *args):\n",
      "    assert callable(checker)\n",
      "    args_len = len(args)\n",
      "    return np.ones(args_len,dtype=np.int)[np.array(map(checker,args))].sum() == args_len\n",
      "    \n",
      "def is_class_checker(xx):\n",
      "    return inspect.isclass(xx)\n",
      "    \n",
      "\n",
      "\n",
      "    "
     ],
     "language": "python",
     "metadata": {},
     "outputs": [],
     "prompt_number": 130
    },
    {
     "cell_type": "code",
     "collapsed": false,
     "input": [
      "def check_type_of_args(valid_type, *args):\n",
      "    if isinstance(valid_type, (tuple,list)):\n",
      "        assert check_args(is_class_checker,*valid_type)\n",
      "        valid_types = tuple(valid_type)\n",
      "    \n",
      "    elif inspect.isclass(valid_type):\n",
      "        valid_types = valid_type\n",
      "\n",
      "    return check_args(lambda xx:isinstance(xx,valid_types),*args)\n"
     ],
     "language": "python",
     "metadata": {},
     "outputs": [],
     "prompt_number": 131
    },
    {
     "cell_type": "code",
     "collapsed": false,
     "input": [
      "print check_args(lambda xx:isinstance(xx,int),*range(10))\n",
      "print check_args(lambda xx:isinstance(xx,int),*map(str,range(10)))"
     ],
     "language": "python",
     "metadata": {},
     "outputs": [
      {
       "output_type": "stream",
       "stream": "stdout",
       "text": [
        "True\n",
        "False\n"
       ]
      }
     ],
     "prompt_number": 132
    },
    {
     "cell_type": "code",
     "collapsed": false,
     "input": [
      "test_args = range(10) + map(str,range(10)) + map(float,range(10)) + map(unicode,range(10))\n",
      "print test_args\n",
      "print check_type_of_args([int,str,float,unicode], *test_args)\n",
      "print check_type_of_args([int,float,unicode], *test_args)"
     ],
     "language": "python",
     "metadata": {},
     "outputs": [
      {
       "output_type": "stream",
       "stream": "stdout",
       "text": [
        "[0, 1, 2, 3, 4, 5, 6, 7, 8, 9, '0', '1', '2', '3', '4', '5', '6', '7', '8', '9', 0.0, 1.0, 2.0, 3.0, 4.0, 5.0, 6.0, 7.0, 8.0, 9.0, u'0', u'1', u'2', u'3', u'4', u'5', u'6', u'7', u'8', u'9']\n",
        "True\n",
        "False\n"
       ]
      }
     ],
     "prompt_number": 133
    },
    {
     "cell_type": "code",
     "collapsed": false,
     "input": [],
     "language": "python",
     "metadata": {},
     "outputs": [],
     "prompt_number": 133
    },
    {
     "cell_type": "code",
     "collapsed": false,
     "input": [
      "class StatesDictionaryMerger(list):\n",
      "    def __init__(self, *states_dicts):\n",
      "        assert check_type_of_args(StatesDictionary, *states_dicts)\n",
      "        list.__init__(self,states_dicts)\n",
      "        \n",
      "    @property\n",
      "    def merge(self):\n",
      "        states_array_lens = map(lambda xx:len(xx._states_array),states_merger)\n",
      "        sector_position = map(lambda xx:slice(*xx),list(tkr.ngram(np.cumsum([0] + states_array_lens),2)))\n",
      "        join_all_states_arrays = np.concatenate(tuple(map(lambda xx:xx._states_array,states_merger)),axis=0)\n",
      "        u,i = np.unique(join_all_states_arrays,return_inverse=True)        \n",
      "        ptrs_transforms = map(lambda xx:i[xx],sector_position)\n",
      "        \n",
      "        self._new_states_array = StatesArray(data=u)\n",
      "        self._ptrs_transforms = ptrs_transforms\n",
      "        \n",
      "        return self\n",
      "    \n",
      "    def update(self):\n",
      "        for ptrs_trans, states_dict in zip(self._ptrs_transforms,self):\n",
      "            states_dict.update(new_states_array = self._new_states_array, \n",
      "                               ptrs_transform = ptrs_trans)\n",
      "        \n"
     ],
     "language": "python",
     "metadata": {},
     "outputs": [],
     "prompt_number": 134
    },
    {
     "cell_type": "code",
     "collapsed": false,
     "input": [],
     "language": "python",
     "metadata": {},
     "outputs": [],
     "prompt_number": 134
    },
    {
     "cell_type": "code",
     "collapsed": false,
     "input": [
      "val_array1 = ValuesArray(list(tkr.ngram(test_text_df[\"text\"].values[0],[1])))\n",
      "val_array2 = ValuesArray(list(tkr.ngram(test_text_df[\"text\"].values[1],[1])))\n",
      "val_array3 = ValuesArray(list(tkr.ngram(test_text_df[\"text\"].values[2],[1])))\n",
      "val_array4 = ValuesArray(list(tkr.ngram(test_text_df[\"text\"].values[5],[1])))\n",
      "states_data_array1 = StatesDataArray(*val_array1.decompose_into_states_ptrs())\n",
      "states_data_array2 = StatesDataArray(*val_array2.decompose_into_states_ptrs())\n",
      "states_data_array3 = StatesDataArray(*val_array3.decompose_into_states_ptrs())\n",
      "states_data_array4 = StatesDataArray(*val_array4.decompose_into_states_ptrs())"
     ],
     "language": "python",
     "metadata": {},
     "outputs": [],
     "prompt_number": 135
    },
    {
     "cell_type": "code",
     "collapsed": false,
     "input": [
      "states_merger = StatesDictionaryMerger(states_data_array1._states_dict,\n",
      "                                       states_data_array2._states_dict,\n",
      "                                       states_data_array3._states_dict,\n",
      "                                       states_data_array4._states_dict)\n",
      "states_merger"
     ],
     "language": "python",
     "metadata": {},
     "outputs": [
      {
       "metadata": {},
       "output_type": "pyout",
       "prompt_number": 136,
       "text": [
        "[<__main__.StatesDictionary at 0x42b4910>,\n",
        " <__main__.StatesDictionary at 0x42b4790>,\n",
        " <__main__.StatesDictionary at 0x42b4950>,\n",
        " <__main__.StatesDictionary at 0x42b4a90>]"
       ]
      }
     ],
     "prompt_number": 136
    },
    {
     "cell_type": "code",
     "collapsed": false,
     "input": [
      "states_array_lens = map(lambda xx:len(xx._states_array),states_merger)\n",
      "sector_position = map(lambda xx:slice(*xx),list(tkr.ngram(np.cumsum([0] + states_array_lens),2)))\n",
      "join_all_states_arrays = np.concatenate(tuple(map(lambda xx:xx._states_array,states_merger)),axis=0)\n",
      "\n",
      "print [0] + states_array_lens\n",
      "print sector_position\n",
      "u,i = np.unique(join_all_states_arrays,return_inverse=True)\n",
      "print u,i\n",
      "transformer = map(lambda xx:i[xx],sector_position)\n",
      "transformer"
     ],
     "language": "python",
     "metadata": {},
     "outputs": [
      {
       "output_type": "stream",
       "stream": "stdout",
       "text": [
        "[0, 5, 5, 3, 3]\n",
        "[slice(0, 5, None), slice(5, 10, None), slice(10, 13, None), slice(13, 16, None)]\n",
        "[u'\\u4eca' u'\\u5929' u'\\u597d' u'\\u5b83' u'\\u5f88' u'\\u6068' u'\\u611b'\n",
        " u'\\u6211' u'\\u6c23' u'\\u721b'] [0 1 2 4 8 0 1 4 8 9 3 5 7 3 6 7]\n"
       ]
      },
      {
       "metadata": {},
       "output_type": "pyout",
       "prompt_number": 137,
       "text": [
        "[array([0, 1, 2, 4, 8]),\n",
        " array([0, 1, 4, 8, 9]),\n",
        " array([3, 5, 7]),\n",
        " array([3, 6, 7])]"
       ]
      }
     ],
     "prompt_number": 137
    },
    {
     "cell_type": "code",
     "collapsed": false,
     "input": [],
     "language": "python",
     "metadata": {},
     "outputs": [],
     "prompt_number": 137
    },
    {
     "cell_type": "code",
     "collapsed": false,
     "input": [
      "print states_merger\n",
      "print states_merger.merge._new_states_array\n",
      "print states_merger.merge._ptrs_transforms"
     ],
     "language": "python",
     "metadata": {},
     "outputs": [
      {
       "output_type": "stream",
       "stream": "stdout",
       "text": [
        "[<__main__.StatesDictionary object at 0x42b4910>, <__main__.StatesDictionary object at 0x42b4790>, <__main__.StatesDictionary object at 0x42b4950>, <__main__.StatesDictionary object at 0x42b4a90>]\n",
        "[u'\\u4eca' u'\\u5929' u'\\u597d' u'\\u5b83' u'\\u5f88' u'\\u6068' u'\\u611b'\n",
        " u'\\u6211' u'\\u6c23' u'\\u721b']\n",
        "[array([0, 1, 2, 4, 8]), array([0, 1, 4, 8, 9]), array([3, 5, 7]), array([3, 6, 7])]\n"
       ]
      }
     ],
     "prompt_number": 138
    },
    {
     "cell_type": "code",
     "collapsed": false,
     "input": [
      "states_merger.merge.update()"
     ],
     "language": "python",
     "metadata": {},
     "outputs": [],
     "prompt_number": 139
    },
    {
     "cell_type": "code",
     "collapsed": false,
     "input": [],
     "language": "python",
     "metadata": {},
     "outputs": [],
     "prompt_number": 139
    },
    {
     "cell_type": "code",
     "collapsed": false,
     "input": [
      "print states_data_array1._states_dict._states_array\n",
      "print states_data_array1._states_dict._referred_by\n",
      "print states_data_array1._ptr_array\n",
      "print \"// \".join(states_data_array1._eval)\n"
     ],
     "language": "python",
     "metadata": {},
     "outputs": [
      {
       "output_type": "stream",
       "stream": "stdout",
       "text": [
        "[u'\\u4eca' u'\\u5929' u'\\u597d' u'\\u5b83' u'\\u5f88' u'\\u6068' u'\\u611b'\n",
        " u'\\u6211' u'\\u6c23' u'\\u721b']\n",
        "[ValuesArray([u'\\u4eca', u'\\u5929', u'\\u5929', u'\\u6c23', u'\\u5f88', u'\\u597d'], \n",
        "      dtype='<U1')]\n",
        "[0 1 1 8 4 2]\n",
        "\u4eca// \u5929// \u5929// \u6c23// \u5f88// \u597d\n"
       ]
      }
     ],
     "prompt_number": 146
    },
    {
     "cell_type": "code",
     "collapsed": false,
     "input": [
      "print states_data_array2._states_dict._states_array\n",
      "print states_data_array2._states_dict._referred_by\n",
      "print states_data_array2._ptr_array\n",
      "print \"// \".join(states_data_array1._eval)\n"
     ],
     "language": "python",
     "metadata": {},
     "outputs": [
      {
       "output_type": "stream",
       "stream": "stdout",
       "text": [
        "[u'\\u4eca' u'\\u5929' u'\\u597d' u'\\u5b83' u'\\u5f88' u'\\u6068' u'\\u611b'\n",
        " u'\\u6211' u'\\u6c23' u'\\u721b']\n",
        "[ValuesArray([u'\\u4eca', u'\\u5929', u'\\u5929', u'\\u6c23', u'\\u5f88', u'\\u721b'], \n",
        "      dtype='<U1')]\n",
        "[0 1 1 8 4 9]\n",
        "\u4eca// \u5929// \u5929// \u6c23// \u5f88// \u597d\n"
       ]
      }
     ],
     "prompt_number": 147
    },
    {
     "cell_type": "code",
     "collapsed": false,
     "input": [
      "print id(states_data_array1._states_dict._states_array)\n",
      "print id(states_data_array2._states_dict._states_array)\n",
      "print \"// \".join(states_data_array2._states_dict._states_array)"
     ],
     "language": "python",
     "metadata": {},
     "outputs": [
      {
       "output_type": "stream",
       "stream": "stdout",
       "text": [
        "70358992\n",
        "70358992\n",
        "\u4eca// \u5929// \u597d// \u5b83// \u5f88// \u6068// \u611b// \u6211// \u6c23// \u721b\n"
       ]
      }
     ],
     "prompt_number": 149
    },
    {
     "cell_type": "code",
     "collapsed": false,
     "input": [],
     "language": "python",
     "metadata": {},
     "outputs": []
    },
    {
     "cell_type": "code",
     "collapsed": false,
     "input": [],
     "language": "python",
     "metadata": {},
     "outputs": [],
     "prompt_number": 53
    },
    {
     "cell_type": "code",
     "collapsed": false,
     "input": [
      "test = np.array([[np.ones(10)]])\n",
      "test[:] = 101\n",
      "test"
     ],
     "language": "python",
     "metadata": {},
     "outputs": [
      {
       "metadata": {},
       "output_type": "pyout",
       "prompt_number": 15,
       "text": [
        "array([[[ 101.,  101.,  101.,  101.,  101.,  101.,  101.,  101.,  101.,\n",
        "          101.]]])"
       ]
      }
     ],
     "prompt_number": 15
    },
    {
     "cell_type": "code",
     "collapsed": false,
     "input": [
      "print test.shape\n",
      "print map(lambda xx:0 if xx==1 else slice(None,None,None),test.shape)\n",
      "print test[map(lambda xx:0 if xx==1 else slice(None,None,None),test.shape)]\n",
      "test"
     ],
     "language": "python",
     "metadata": {},
     "outputs": [
      {
       "output_type": "stream",
       "stream": "stdout",
       "text": [
        "(1, 1, 10)\n",
        "[0, 0, slice(None, None, None)]\n",
        "[ 101.  101.  101.  101.  101.  101.  101.  101.  101.  101.]\n"
       ]
      },
      {
       "metadata": {},
       "output_type": "pyout",
       "prompt_number": 39,
       "text": [
        "array([[[ 101.,  101.,  101.,  101.,  101.,  101.,  101.,  101.,  101.,\n",
        "          101.]]])"
       ]
      }
     ],
     "prompt_number": 39
    },
    {
     "cell_type": "code",
     "collapsed": false,
     "input": [
      "np.s_[0,0,:]"
     ],
     "language": "python",
     "metadata": {},
     "outputs": [
      {
       "metadata": {},
       "output_type": "pyout",
       "prompt_number": 26,
       "text": [
        "(0, 0, slice(None, None, None))"
       ]
      }
     ],
     "prompt_number": 26
    },
    {
     "cell_type": "code",
     "collapsed": false,
     "input": [
      "test[(0,0,slice(None, None, None))]"
     ],
     "language": "python",
     "metadata": {},
     "outputs": [
      {
       "metadata": {},
       "output_type": "pyout",
       "prompt_number": 35,
       "text": [
        "array([ 101.,  101.,  101.,  101.,  101.,  101.,  101.,  101.,  101.,  101.])"
       ]
      }
     ],
     "prompt_number": 35
    },
    {
     "cell_type": "code",
     "collapsed": true,
     "input": [
      "np.s_[0,0,:] "
     ],
     "language": "python",
     "metadata": {},
     "outputs": [
      {
       "metadata": {},
       "output_type": "pyout",
       "prompt_number": 34,
       "text": [
        "(0, 0, slice(None, None, None))"
       ]
      }
     ],
     "prompt_number": 34
    },
    {
     "cell_type": "code",
     "collapsed": false,
     "input": [],
     "language": "python",
     "metadata": {},
     "outputs": []
    },
    {
     "cell_type": "code",
     "collapsed": false,
     "input": [
      "v3.dtype.fields"
     ],
     "language": "python",
     "metadata": {},
     "outputs": [
      {
       "metadata": {},
       "output_type": "pyout",
       "prompt_number": 42,
       "text": [
        "<dictproxy {'0': (dtype('int64'), 0), '1': (dtype('<U1'), 8)}>"
       ]
      }
     ],
     "prompt_number": 42
    },
    {
     "cell_type": "code",
     "collapsed": false,
     "input": [
      "v3.__array_interface__"
     ],
     "language": "python",
     "metadata": {},
     "outputs": [
      {
       "metadata": {},
       "output_type": "pyout",
       "prompt_number": 12,
       "text": [
        "{'data': (71155280, False),\n",
        " 'descr': [('0', '<i8'), ('1', '<U1')],\n",
        " 'shape': (10,),\n",
        " 'strides': None,\n",
        " 'typestr': '|V12',\n",
        " 'version': 3}"
       ]
      }
     ],
     "prompt_number": 12
    },
    {
     "cell_type": "code",
     "collapsed": false,
     "input": [],
     "language": "python",
     "metadata": {},
     "outputs": [],
     "prompt_number": 42
    },
    {
     "cell_type": "code",
     "collapsed": false,
     "input": [],
     "language": "python",
     "metadata": {},
     "outputs": []
    },
    {
     "cell_type": "code",
     "collapsed": false,
     "input": [
      "print \"// \".join(list(tkr.ngram(test_text_df[\"text\"].values[0],[1,2])))"
     ],
     "language": "python",
     "metadata": {},
     "outputs": [
      {
       "output_type": "stream",
       "stream": "stdout",
       "text": [
        "\u4eca// \u5929// \u5929// \u6c23// \u5f88// \u597d// \u4eca\u5929// \u5929\u5929// \u5929\u6c23// \u6c23\u5f88// \u5f88\u597d\n"
       ]
      }
     ],
     "prompt_number": 13
    },
    {
     "cell_type": "code",
     "collapsed": false,
     "input": [],
     "language": "python",
     "metadata": {},
     "outputs": [],
     "prompt_number": 4
    },
    {
     "cell_type": "code",
     "collapsed": false,
     "input": [],
     "language": "python",
     "metadata": {},
     "outputs": [],
     "prompt_number": 146
    },
    {
     "cell_type": "markdown",
     "metadata": {},
     "source": [
      "# DEV Summary"
     ]
    },
    {
     "cell_type": "code",
     "collapsed": false,
     "input": [
      "import numpy as np\n",
      "import inspect\n",
      "import types\n",
      "import PlaYnlp.tokenizer as tkr "
     ],
     "language": "python",
     "metadata": {},
     "outputs": [],
     "prompt_number": 153
    },
    {
     "cell_type": "code",
     "collapsed": false,
     "input": [
      "def clean_no_data_tensors(np_array):\n",
      "    return np_array[map(lambda xx:0 if xx==1 else slice(None,None,None),np_array.shape)]\n",
      "\n",
      "class ValuesArray(np.ndarray):\n",
      "    def __new__(cls, data, dtype=None):\n",
      "        if isinstance(data, cls):\n",
      "            return data\n",
      "        else:\n",
      "            values_array = np.array(data, dtype=dtype).view(cls)\n",
      "            return values_array\n",
      "        \n",
      "    def decompose_into_states_ptrs(self):\n",
      "        u,i = np.unique(self, return_inverse=True)\n",
      "        states_array = StatesArray(data=u)\n",
      "        ptr_array = PtrArray(data=i, eval_cls=type(self))\n",
      "        return states_array, ptr_array\n",
      "\n",
      "    \n",
      "class StatesArray(np.ndarray):\n",
      "    def __new__(cls, data, dtype=None):\n",
      "        if isinstance(data, cls):\n",
      "            return data\n",
      "        else:\n",
      "            states_array = np.unique(np.array(data, dtype=dtype)).view(cls)\n",
      "            return states_array\n",
      "    \n",
      "    def _eval(self, ptr_array):\n",
      "        assert isinstance(ptr_array, PtrArray)\n",
      "        return self[ptr_array].view(ptr_array._eval_cls).copy()\n",
      "        \n",
      "    \n",
      "\n",
      "class PtrArray(np.ndarray):\n",
      "    def __new__(cls, data, dtype=None, eval_cls=np.ndarray):\n",
      "        if isinstance(data, cls):\n",
      "            return data\n",
      "        else:\n",
      "            data_array = np.array(data, dtype).view(cls)\n",
      "            data_array._eval_cls = eval_cls\n",
      "            return data_array\n",
      "    \n",
      "    def trans(self, ptrs_transform):\n",
      "        return type(self)(data = ptrs_transform[self],eval_cls=self._eval_cls)\n",
      "\n",
      "    \n",
      "\n",
      "\n",
      "class StatesDictionary(object):\n",
      "    def __init__(self, states_array):\n",
      "        assert isinstance(states_array, StatesArray)\n",
      "        self._states_array = states_array\n",
      "        self._referred_by = []\n",
      "    \n",
      "    def _eval(self, ptr_array):\n",
      "        assert isinstance(ptr_array, PtrArray)\n",
      "        return self._states_array[ptr_array].view(ptr_array._eval_cls).copy()\n",
      "    \n",
      "    def update(self, new_states_array, ptrs_transform):\n",
      "        self._states_array = new_states_array\n",
      "        for one_states_data_array in self._referred_by:\n",
      "            one_states_data_array._ptr_array = one_states_data_array._ptr_array.trans(ptrs_transform)\n",
      "    \n",
      "    \n",
      "        \n",
      "    \n",
      "class StatesDataArray(object):\n",
      "    def __init__(self, states_array, ptr_array):\n",
      "        \n",
      "        self._ptr_array = ptr_array\n",
      "        self._states_dict = StatesDictionary(states_array=states_array)\n",
      "        self._states_dict._referred_by.append(self)\n",
      "    \n",
      "    @property\n",
      "    def _eval(self):\n",
      "        return self._states_dict._eval(self._ptr_array)\n",
      "    \n",
      "    def __repr__(self):\n",
      "        return self._states_dict._eval(self._ptr_array).__repr__()\n",
      "\n",
      "    \n",
      "        \n",
      "def check_args(checker, *args):\n",
      "    assert callable(checker)\n",
      "    args_len = len(args)\n",
      "    return np.ones(args_len,dtype=np.int)[np.array(map(checker,args))].sum() == args_len\n",
      "    \n",
      "def is_class_checker(xx):\n",
      "    return inspect.isclass(xx)\n",
      "    \n",
      "\n",
      "\n",
      "def check_type_of_args(valid_type, *args):\n",
      "    if isinstance(valid_type, (tuple,list)):\n",
      "        assert check_args(is_class_checker,*valid_type)\n",
      "        valid_types = tuple(valid_type)\n",
      "    \n",
      "    elif inspect.isclass(valid_type):\n",
      "        valid_types = valid_type\n",
      "\n",
      "    return check_args(lambda xx:isinstance(xx,valid_types),*args)\n",
      "    \n",
      "\n",
      "    \n",
      "class StatesDictionaryMerger(list):\n",
      "    def __init__(self, *states_dicts):\n",
      "        assert check_type_of_args(StatesDictionary, *states_dicts)\n",
      "        list.__init__(self,states_dicts)\n",
      "        \n",
      "    @property\n",
      "    def merge(self):\n",
      "        states_array_lens = map(lambda xx:len(xx._states_array),self)\n",
      "        sector_position = map(lambda xx:slice(*xx),list(tkr.ngram(np.cumsum([0] + states_array_lens),2)))\n",
      "        join_all_states_arrays = np.concatenate(tuple(map(lambda xx:xx._states_array,self)),axis=0)\n",
      "        u,i = np.unique(join_all_states_arrays,return_inverse=True)        \n",
      "        ptrs_transforms = map(lambda xx:i[xx],sector_position)\n",
      "        \n",
      "        self._new_states_array = StatesArray(data=u)\n",
      "        self._ptrs_transforms = ptrs_transforms\n",
      "        \n",
      "        return self\n",
      "    \n",
      "    def update(self):\n",
      "        for ptrs_trans, states_dict in zip(self._ptrs_transforms,self):\n",
      "            states_dict.update(new_states_array = self._new_states_array, \n",
      "                               ptrs_transform = ptrs_trans)\n",
      "        \n"
     ],
     "language": "python",
     "metadata": {},
     "outputs": [],
     "prompt_number": 154
    },
    {
     "cell_type": "code",
     "collapsed": false,
     "input": [],
     "language": "python",
     "metadata": {},
     "outputs": []
    }
   ],
   "metadata": {}
  }
 ]
}