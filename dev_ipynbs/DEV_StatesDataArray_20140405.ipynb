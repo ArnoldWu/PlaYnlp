{
 "metadata": {
  "name": "",
  "signature": "sha256:dcffd1feca8f6015e56cad2d7805c0caeedd4207293f2dd6c21bbc50b6fc3978"
 },
 "nbformat": 3,
 "nbformat_minor": 0,
 "worksheets": [
  {
   "cells": [
    {
     "cell_type": "code",
     "collapsed": false,
     "input": [
      "import PlaYnlp.tokenizer as tkr \n",
      "import PlaYnlp.vectorizer as vcr\n",
      "from PlaYnlp import dataio\n",
      "\n",
      "from PlaYnlp.sparse import L0_norm_col_summarizer as L0_col_sum\n",
      "from PlaYnlp.sparse import L1_norm_col_summarizer as L1_col_sum\n",
      "import numpy as np\n",
      "import scipy as sp"
     ],
     "language": "python",
     "metadata": {},
     "outputs": [],
     "prompt_number": 1
    },
    {
     "cell_type": "code",
     "collapsed": false,
     "input": [
      "jieba_without_html_tokenizer = tkr.tokenize_gen(lambda text:tkr.jieba.cut(tkr.nltk.clean_html(text)))\n",
      "unigram_without_html_tokenizer = tkr.tokenize_gen(lambda text:tkr.ngram(tkr.nltk.clean_html(text),n=1))\n",
      "bigram_without_html_tokenizer = tkr.tokenize_gen(lambda text:tkr.ngram(tkr.nltk.clean_html(text),n=2))\n",
      "jieba_vec_count_kwargs = {\"tokenizer\":jieba_without_html_tokenizer,\"lowercase\":False}\n",
      "unigram_vec_count_kwargs = {\"tokenizer\":unigram_without_html_tokenizer,\"lowercase\":False}\n",
      "bigram_vec_count_kwargs = {\"tokenizer\":bigram_without_html_tokenizer,\"lowercase\":False}"
     ],
     "language": "python",
     "metadata": {},
     "outputs": [],
     "prompt_number": 2
    },
    {
     "cell_type": "code",
     "collapsed": false,
     "input": [
      "import pandas as pd \n",
      "test_text_df = pd.DataFrame([u\"\u4eca\u5929\u5929\u6c23\u5f88\u597d\",u\"\u4eca\u5929\u5929\u6c23\u5f88\u721b\",u\"\u6211\u6068\u5b83\",u\"\u5b83\u6068\u6211\",u\"\u6211\u611b\u5b83\",u\"\u5b83\u611b\u6211\",u\"\u4eca\u5929\u5f88\u8870\",u\"\u65e5\u5b50\u4e00\u5929\u4e00\u5929\u904e\",u\"\u5929\u5929\u5237\u7259\u6d17\u81c9\"])\n",
      "test_text_df.columns = [\"text\"]\n",
      "test_text_df = test_text_df.reset_index()\n",
      "test_text_df[\"idx\"] = map(lambda xx :u\"%05d\" % xx,test_text_df[\"index\"])\n",
      "test_text_df"
     ],
     "language": "python",
     "metadata": {},
     "outputs": [
      {
       "html": [
        "<div style=\"max-height:1000px;max-width:1500px;overflow:auto;\">\n",
        "<table border=\"1\" class=\"dataframe\">\n",
        "  <thead>\n",
        "    <tr style=\"text-align: right;\">\n",
        "      <th></th>\n",
        "      <th>index</th>\n",
        "      <th>text</th>\n",
        "      <th>idx</th>\n",
        "    </tr>\n",
        "  </thead>\n",
        "  <tbody>\n",
        "    <tr>\n",
        "      <th>0</th>\n",
        "      <td> 0</td>\n",
        "      <td>  \u4eca\u5929\u5929\u6c23\u5f88\u597d</td>\n",
        "      <td> 00000</td>\n",
        "    </tr>\n",
        "    <tr>\n",
        "      <th>1</th>\n",
        "      <td> 1</td>\n",
        "      <td>  \u4eca\u5929\u5929\u6c23\u5f88\u721b</td>\n",
        "      <td> 00001</td>\n",
        "    </tr>\n",
        "    <tr>\n",
        "      <th>2</th>\n",
        "      <td> 2</td>\n",
        "      <td>     \u6211\u6068\u5b83</td>\n",
        "      <td> 00002</td>\n",
        "    </tr>\n",
        "    <tr>\n",
        "      <th>3</th>\n",
        "      <td> 3</td>\n",
        "      <td>     \u5b83\u6068\u6211</td>\n",
        "      <td> 00003</td>\n",
        "    </tr>\n",
        "    <tr>\n",
        "      <th>4</th>\n",
        "      <td> 4</td>\n",
        "      <td>     \u6211\u611b\u5b83</td>\n",
        "      <td> 00004</td>\n",
        "    </tr>\n",
        "    <tr>\n",
        "      <th>5</th>\n",
        "      <td> 5</td>\n",
        "      <td>     \u5b83\u611b\u6211</td>\n",
        "      <td> 00005</td>\n",
        "    </tr>\n",
        "    <tr>\n",
        "      <th>6</th>\n",
        "      <td> 6</td>\n",
        "      <td>    \u4eca\u5929\u5f88\u8870</td>\n",
        "      <td> 00006</td>\n",
        "    </tr>\n",
        "    <tr>\n",
        "      <th>7</th>\n",
        "      <td> 7</td>\n",
        "      <td> \u65e5\u5b50\u4e00\u5929\u4e00\u5929\u904e</td>\n",
        "      <td> 00007</td>\n",
        "    </tr>\n",
        "    <tr>\n",
        "      <th>8</th>\n",
        "      <td> 8</td>\n",
        "      <td>  \u5929\u5929\u5237\u7259\u6d17\u81c9</td>\n",
        "      <td> 00008</td>\n",
        "    </tr>\n",
        "  </tbody>\n",
        "</table>\n",
        "<p>9 rows \u00d7 3 columns</p>\n",
        "</div>"
       ],
       "metadata": {},
       "output_type": "pyout",
       "prompt_number": 3,
       "text": [
        "   index     text    idx\n",
        "0      0   \u4eca\u5929\u5929\u6c23\u5f88\u597d  00000\n",
        "1      1   \u4eca\u5929\u5929\u6c23\u5f88\u721b  00001\n",
        "2      2      \u6211\u6068\u5b83  00002\n",
        "3      3      \u5b83\u6068\u6211  00003\n",
        "4      4      \u6211\u611b\u5b83  00004\n",
        "5      5      \u5b83\u611b\u6211  00005\n",
        "6      6     \u4eca\u5929\u5f88\u8870  00006\n",
        "7      7  \u65e5\u5b50\u4e00\u5929\u4e00\u5929\u904e  00007\n",
        "8      8   \u5929\u5929\u5237\u7259\u6d17\u81c9  00008\n",
        "\n",
        "[9 rows x 3 columns]"
       ]
      }
     ],
     "prompt_number": 3
    },
    {
     "cell_type": "code",
     "collapsed": false,
     "input": [
      "test_jieba_sdtm = vcr.vectorize_text(df=test_text_df,\n",
      "                                     text_col=\"text\", \n",
      "                                     idx_col=\"index\", \n",
      "                                     cond_query={},\n",
      "                                     idx_query= [],\n",
      "                                     vect_gen=vcr.CountVectorizer, \n",
      "                                     vect_gen_init_kwargs = unigram_vec_count_kwargs)"
     ],
     "language": "python",
     "metadata": {},
     "outputs": [],
     "prompt_number": 4
    },
    {
     "cell_type": "code",
     "collapsed": false,
     "input": [],
     "language": "python",
     "metadata": {},
     "outputs": [],
     "prompt_number": 4
    },
    {
     "cell_type": "code",
     "collapsed": false,
     "input": [
      "import numpy as np\n",
      "import inspect\n",
      "import types\n",
      "import PlaYnlp.tokenizer as tkr "
     ],
     "language": "python",
     "metadata": {},
     "outputs": [],
     "prompt_number": 5
    },
    {
     "cell_type": "code",
     "collapsed": false,
     "input": [],
     "language": "python",
     "metadata": {},
     "outputs": [],
     "prompt_number": 5
    },
    {
     "cell_type": "code",
     "collapsed": false,
     "input": [
      "def clean_no_data_tensors(np_array):\n",
      "    return np_array[map(lambda xx:0 if xx==1 else slice(None,None,None),np_array.shape)]\n",
      "\n",
      "class ValuesArray(np.ndarray):\n",
      "    def __new__(cls, data, dtype=None):\n",
      "        if isinstance(data, cls):\n",
      "            return data\n",
      "        else:\n",
      "            values_array = np.array(data, dtype=dtype).view(cls)\n",
      "            return values_array\n",
      "        \n",
      "    def decompose_into_states_ptrs(self):\n",
      "        u,i = np.unique(self, return_inverse=True)\n",
      "        states_array = StatesArray(data=u)\n",
      "        ptr_array = PtrArray(data=i, eval_cls=type(self))\n",
      "        return states_array, ptr_array\n",
      "    \n",
      "    def to_states_data_array(self):\n",
      "        return StatesDataArray(*self.decompose_into_states_ptrs())\n",
      "    \n",
      "    \n",
      "class StatesArray(np.ndarray):\n",
      "    def __new__(cls, data, dtype=None):\n",
      "        if isinstance(data, cls):\n",
      "            return data\n",
      "        else:\n",
      "            states_array = np.unique(np.array(data, dtype=dtype)).view(cls)\n",
      "            return states_array\n",
      "    \n",
      "    def _eval(self, ptr_array):\n",
      "        assert isinstance(ptr_array, PtrArray)\n",
      "        return self[ptr_array].view(ptr_array._eval_cls).copy()\n",
      "        \n",
      "    \n",
      "\n",
      "class PtrArray(np.ndarray):\n",
      "    def __new__(cls, data, dtype=None, eval_cls=np.ndarray):\n",
      "        if isinstance(data, cls):\n",
      "            data._eval_cls = eval_cls\n",
      "            return data\n",
      "        else:\n",
      "            data_array = np.array(data, dtype).view(cls)\n",
      "            data_array._eval_cls = eval_cls\n",
      "            return data_array\n",
      "    \n",
      "    def trans(self, ptrs_transform):\n",
      "        return type(self)(data = ptrs_transform[self],eval_cls=self._eval_cls)\n",
      "\n",
      "    def ngram(self, n):\n",
      "        ngram_results = list(tkr.ngram(self,n))\n",
      "        return type(self)(data=ngram_results, eval_cls=self._eval_cls)\n",
      "    \n",
      "    @property\n",
      "    def T(self):\n",
      "        new_np_data = np.array(self).T\n",
      "        return type(self)(data=new_np_data, eval_cls=self._eval_cls)\n",
      "\n",
      "    \n",
      "class StatesDictionary(object):\n",
      "    def __init__(self, states_array):\n",
      "        assert isinstance(states_array, StatesArray)\n",
      "        self._states_array = states_array\n",
      "        self._referred_by = []\n",
      "    \n",
      "    \n",
      "    def _eval(self, ptr_array):\n",
      "        assert isinstance(ptr_array, PtrArray)\n",
      "        return self._states_array[ptr_array].view(ptr_array._eval_cls).copy()\n",
      "    \n",
      "    \n",
      "    def update(self, new_states_array, ptrs_transform):\n",
      "        self._states_array = new_states_array\n",
      "        for one_states_data_array in self._referred_by:\n",
      "            one_states_data_array._ptr_array = one_states_data_array._ptr_array.trans(ptrs_transform)\n",
      "    \n",
      "    \n",
      "    def __getitem__(self, *args):\n",
      "        if isinstance(args[0], PtrArray):\n",
      "            return self._eval(args[0])\n",
      "        else:\n",
      "            return self._states_array[args].view(np.ndarray).copy()\n",
      "        \n",
      "        \n",
      "    @property\n",
      "    def _dtype(self):\n",
      "        return self._states_array.dtype\n",
      "        \n",
      "    \n",
      "class StatesDataArray(object):\n",
      "    _ptr_array_cls = PtrArray\n",
      "    _ptr_array_eval_cls = ValuesArray\n",
      "    \n",
      "    \n",
      "    def __init__(self, states_array, ptr_array):\n",
      "        \n",
      "        assert isinstance(states_array,(StatesDictionary,StatesArray))\n",
      "        assert isinstance(ptr_array, self._ptr_array_cls)\n",
      "        \n",
      "        self._ptr_array = ptr_array    \n",
      "        \n",
      "        if isinstance(states_array,StatesDictionary):\n",
      "            self._states_dict = states_array\n",
      "        else:\n",
      "            self._states_dict = StatesDictionary(states_array=states_array)\n",
      "        \n",
      "        self._states_dict._referred_by.append(self)\n",
      "    \n",
      "    \n",
      "    @property\n",
      "    def _eval(self):\n",
      "        return self._states_dict._eval(self._ptr_array)\n",
      "    \n",
      "    \n",
      "    def __repr__(self):\n",
      "        return self._states_dict._eval(self._ptr_array).__repr__()\n",
      "    \n",
      "    \n",
      "    @property\n",
      "    def _dtype(self):\n",
      "        return self._states_dict._dtype\n",
      "    \n",
      "    \n",
      "    @property\n",
      "    def _shape(self):\n",
      "        return self._ptr_array.shape\n",
      "    \n",
      "    \n",
      "    @property\n",
      "    def _ncol(self):\n",
      "        return self._ptr_array.shape[1] if len(self._ptr_array.shape) > 1 else 1\n",
      "    \n",
      "    \n",
      "    @property\n",
      "    def _nrow(self):\n",
      "        return self._ptr_array.shape[0]\n",
      "    \n",
      "    \n",
      "    def _nrow_ones(self, dtype=np.int64, reshape=True):\n",
      "        if reshape:\n",
      "            return np.ones(self._nrow, dtype=dtype).reshape((self._nrow,1))\n",
      "        else:\n",
      "            return np.ones(self._nrow, dtype=dtype)\n",
      "    \n",
      "    \n",
      "    def _ncol_ones(self, dtype=np.int64, reshape=True):\n",
      "        if reshape:\n",
      "            return np.ones(self._ncol, dtype=dtype).reshape((1,self._ncol))\n",
      "        else:\n",
      "            return np.ones(self._ncol, dtype=dtype)\n",
      "        \n",
      "    \n",
      "    def ngram(self, n, update=True):\n",
      "        if update:\n",
      "            self._ptr_array = self._ptr_array.ngram(n)\n",
      "            return self\n",
      "        else:\n",
      "            return type(self)(states_array=self._states_dict,\n",
      "                              ptr_array=self._ptr_array.ngram(n))\n",
      "            \n",
      "        \n",
      "    def extend_rows_by_array(self, states_data_array, do_clean_no_data_tensor=True, update=True, _nrow_ones_kwargs={}):\n",
      "        assert isinstance(states_data_array, type(self))\n",
      "        \n",
      "        new_ptr_array = np.kron(self._ptr_array,states_data_array._nrow_ones(**_nrow_ones_kwargs))\n",
      "        \n",
      "        if do_clean_no_data_tensor:\n",
      "            new_ptr_array = clean_no_data_tensors(new_ptr_array)\n",
      "        \n",
      "        new_ptr_array = self._ptr_array_cls(data=new_ptr_array,\n",
      "                                            eval_cls=self._ptr_array_eval_cls)\n",
      "        \n",
      "        if update:\n",
      "            self._ptr_array = new_ptr_array\n",
      "            return self\n",
      "        else:\n",
      "            return type(self)(states_array=self._states_dict,\n",
      "                              ptr_array=new_ptr_array)\n",
      "    \n",
      "    \n",
      "    def extend_rows_to_n(self, n, update=True):\n",
      "        assert isinstance(n, int)\n",
      "        assert n % self._nrow == 0\n",
      "        \n",
      "        extend_dim = n / self._nrow\n",
      "        \n",
      "        if extend_dim > 1:\n",
      "        \n",
      "            new_ptr_array = np.kron(self._ptr_array,np.ones(extend_dim,dtype=self._ptr_array.dtype))\n",
      "            print \"new_ptr_array = \",new_ptr_array\n",
      "        \n",
      "            new_ptr_array = self._ptr_array_cls(data=new_ptr_array,\n",
      "                                                eval_cls=self._ptr_array_eval_cls)\n",
      "        \n",
      "            if update:\n",
      "                self._ptr_array = new_ptr_array\n",
      "                return self\n",
      "            else:\n",
      "                return type(self)(states_array=self._states_dict,\n",
      "                                  ptr_array=new_ptr_array)\n",
      "        \n",
      "        else:\n",
      "            return self\n",
      "        \n",
      "    \n",
      "    def _reshape_ptrs_to_2d_col_vector(self, update=True):\n",
      "        \n",
      "        # if self._ptr_array is 1-diml vector\n",
      "        if len(self._ptr_array.shape) == 1:\n",
      "            new_ptr_array = self._ptr_array_cls(data=[self._ptr_array],\n",
      "                                                eval_cls=self._ptr_array_eval_cls).T\n",
      "        \n",
      "            if update:\n",
      "                self._ptr_array = new_ptr_array\n",
      "                return self\n",
      "            else:\n",
      "                return type(self)(states_array=self._states_dict,\n",
      "                                  ptr_array=new_ptr_array)\n",
      "            \n",
      "        else:\n",
      "            return self\n",
      "            \n",
      "            \n",
      "            \n",
      "            \n",
      "        \n",
      "        \n",
      "\n",
      "    \n",
      "        \n",
      "def check_args(checker, *args):\n",
      "    assert callable(checker)\n",
      "    args_len = len(args)\n",
      "    return np.ones(args_len,dtype=np.int)[np.array(map(checker,args))].sum() == args_len\n",
      "    \n",
      "    \n",
      "def class_checker(xx):\n",
      "    return inspect.isclass(xx)\n",
      "    \n",
      "\n",
      "def check_type_of_args(valid_type, *args):\n",
      "    if isinstance(valid_type, (tuple,list)):\n",
      "        assert check_args(class_checker,*valid_type)\n",
      "        valid_types = tuple(valid_type)\n",
      "    \n",
      "    elif inspect.isclass(valid_type):\n",
      "        valid_types = valid_type\n",
      "\n",
      "    return check_args(lambda xx:isinstance(xx,valid_types),*args)    \n",
      "\n",
      "    \n",
      "    \n",
      "class StatesDictionaryMerger(list):\n",
      "    def __init__(self, *states_dicts):\n",
      "        \n",
      "        # checking states_dicts are all StatesDictionary's instance\n",
      "        assert check_type_of_args(StatesDictionary, *states_dicts)\n",
      "        \n",
      "        # checking states_dicts have the same dtype\n",
      "        assert len(np.unique(np.array(map(lambda xx:xx._dtype.type,states_dicts)))) == 1\n",
      "        \n",
      "        list.__init__(self,states_dicts)\n",
      "    \n",
      "    \n",
      "    @property\n",
      "    def _unique_states_array_ids(self):\n",
      "        return np.unique(np.array(map(lambda xx:id(xx._states_array),self)))\n",
      "        \n",
      "    \n",
      "    @property\n",
      "    def merge(self):\n",
      "        \n",
      "        if len(self._unique_states_array_ids) > 1:\n",
      "            states_array_lens = map(lambda xx:len(xx._states_array),self)\n",
      "            sector_position = map(lambda xx:slice(*xx),list(tkr.ngram(np.cumsum([0] + states_array_lens),2)))\n",
      "            join_all_states_arrays = np.concatenate(tuple(map(lambda xx:xx._states_array,self)),axis=0)\n",
      "            u,i = np.unique(join_all_states_arrays,return_inverse=True)        \n",
      "            ptrs_transforms = map(lambda xx:i[xx],sector_position)\n",
      "        \n",
      "            self._new_states_array = StatesArray(data=u)\n",
      "            self._ptrs_transforms = ptrs_transforms\n",
      "        \n",
      "        else:\n",
      "            self._new_states_array = self[0]._states_array\n",
      "        \n",
      "        return self\n",
      "    \n",
      "    \n",
      "    def update(self):\n",
      "        if len(self._unique_states_array_ids) > 1:\n",
      "            for ptrs_trans, states_dict in zip(self._ptrs_transforms,self):\n",
      "                states_dict.update(new_states_array = self._new_states_array, \n",
      "                                   ptrs_transform = ptrs_trans)\n",
      "    \n",
      "    \n",
      "\n",
      "\n",
      "class StatesDataArrayMerger(list):\n",
      "    _ptr_array_cls = PtrArray\n",
      "    _ptr_array_eval_cls = ValuesArray\n",
      "    \n",
      "    \n",
      "    def __init__(self, *states_data_arrays):\n",
      "        \n",
      "        # checking states_data_arrays are all StatesDataArray's instance\n",
      "        assert check_type_of_args(StatesDataArray, *states_data_arrays)\n",
      "        \n",
      "        list.__init__(self,states_data_arrays)\n",
      "        \n",
      "        \n",
      "    def merge(self, axis=0, auto_extend_rows=True):\n",
      "        assert axis in (0,1)\n",
      "        \n",
      "        # [axis=0] Appned more Rows\n",
      "        if axis==0:\n",
      "            \n",
      "            # checking states_data_arrays has the same _ncol\n",
      "            assert len(np.unique(map(lambda xx:xx._ncol,self))) == 1\n",
      "            \n",
      "            states_dict_merger = StatesDictionaryMerger(*map(lambda xx:xx._states_dict,self))\n",
      "            states_dict_merger.merge.update()\n",
      "            #print \"states_dict_merger.merge._new_states_array = \",states_dict_merger.merge._new_states_array\n",
      "            \n",
      "            new_ptrs_array = self._ptr_array_cls(np.concatenate(tuple(map(lambda xx:xx._ptr_array,self)),axis=0),\n",
      "                                                 eval_cls=self._ptr_array_eval_cls)\n",
      "            new_states_array = states_dict_merger.merge._new_states_array\n",
      "            \n",
      "            return StatesDataArray(states_array=new_states_array, ptr_array=new_ptrs_array)\n",
      "            \n",
      "            \n",
      "        # [axis=1] Appned more Columns\n",
      "        else:\n",
      "            \n",
      "            if auto_extend_rows:\n",
      "                \n",
      "                print \"map(lambda xx:xx._shape[0],self) = \",map(lambda xx:xx._shape[0],self)\n",
      "                new_nrows = reduce(lambda x,y:x*y,map(lambda xx:xx._shape[0],self))\n",
      "                print \"new_nrows = \",new_nrows\n",
      "                \n",
      "                # extend the rows of all states_data_arrays to new_nrows\n",
      "                extended_arrays = map(lambda xx:xx.extend_rows_to_n(n=new_nrows, update=True),self)\n",
      "                print \"extended_arrays = \",extended_arrays\n",
      "                return StatesDataMultiArrays(states_data_arrays = extended_arrays)\n",
      "                \n",
      "                \n",
      "                \n",
      "            \n",
      "            else:\n",
      "                \n",
      "                # checking states_data_arrays has the same _nrow\n",
      "                assert len(np.unique(map(lambda xx:xx._nrow,self))) == 1\n",
      "                \n",
      "                return StatesDataMultiArrays(states_data_arrays = self)\n",
      "\n",
      "\n",
      "            \n",
      "            \n",
      "class StatesDataMultiArrays(np.ndarray):\n",
      "    def __new__(cls, states_data_arrays, check_states_data_arrays=True):\n",
      "        \n",
      "        if check_states_data_arrays:\n",
      "            # checking states_data_arrays are all StatesDataArray's instance\n",
      "            assert check_type_of_args(StatesDataArray, *states_data_arrays)\n",
      "        \n",
      "        # checking states_data_arrays have the same _nrow \n",
      "        assert len(np.unique(np.array(map(lambda xx:xx._nrow,states_data_arrays)))) == 1\n",
      "            \n",
      "        return np.array(states_data_arrays).view(cls)\n",
      "            \n",
      "    \n",
      "    @property\n",
      "    def _ncols(self):\n",
      "        return map(lambda xx:xx._ncol,self)\n",
      "    \n",
      "            \n",
      "            \n",
      "class StatesDataMultiArraysMerger(list):\n",
      "    def __init__(self, *states_data_multi_arrays):\n",
      "        \n",
      "        # checking states_data_multi_arrays are all StatesDataMultiArrays's instance\n",
      "        assert check_type_of_args(StatesDataMultiArrays, *states_data_multi_arrays)\n",
      "        \n",
      "        # checking states_data_multi_arrays are all has the same _ncols\n",
      "        assert len(np.unique(map(lambda xx:tuple(xx._ncols),states_data_multi_arrays)).tolist()) == 1\n",
      "        \n",
      "        list.__init__(self,states_data_multi_arrays)\n",
      "        \n",
      "    def merge(self):\n",
      "        zip_cols = zip(*StatesDataMultiArraysMerger(*self))\n",
      "        merge_cols = map(lambda xx:StatesDataArrayMerger(*xx).merge(axis=0),zip_cols)\n",
      "        \n",
      "        return StatesDataMultiArrays(states_data_arrays = merge_cols)\n",
      "        \n",
      "    \n",
      "    \n",
      "        \n",
      "class StatesDataFrame(object):\n",
      "    pass\n",
      "\n",
      "\n",
      "class StatesModelFrame(object):\n",
      "    pass\n"
     ],
     "language": "python",
     "metadata": {},
     "outputs": [],
     "prompt_number": 6
    },
    {
     "cell_type": "code",
     "collapsed": false,
     "input": [],
     "language": "python",
     "metadata": {},
     "outputs": [],
     "prompt_number": 6
    },
    {
     "cell_type": "code",
     "collapsed": false,
     "input": [
      "zip([1,2,3],[1,2],[5,4,2,3])"
     ],
     "language": "python",
     "metadata": {},
     "outputs": [
      {
       "metadata": {},
       "output_type": "pyout",
       "prompt_number": 7,
       "text": [
        "[(1, 1, 5), (2, 2, 4)]"
       ]
      }
     ],
     "prompt_number": 7
    },
    {
     "cell_type": "code",
     "collapsed": false,
     "input": [
      "#text_val_arrays = map(lambda xx:ValuesArray(list(tkr.ngram(xx,[1,2]))),test_text_df[\"text\"].values)\n",
      "text_val_arrays = map(lambda xx:ValuesArray(list(tkr.ngram(xx,[1]))),test_text_df[\"text\"].values)\n"
     ],
     "language": "python",
     "metadata": {},
     "outputs": [],
     "prompt_number": 42
    },
    {
     "cell_type": "code",
     "collapsed": false,
     "input": [
      "#text_states_data_arrays = map(lambda xx:StatesDataArray(*xx.decompose_into_states_ptrs()),#.ngram(2), \n",
      "#                              text_val_arrays)\n",
      "\n",
      "#text_states_data_arrays = map(lambda xx:xx.to_states_data_array(),#.ngram(2), \n",
      "#                              text_val_arrays)\n",
      "\n",
      "text_states_data_arrays = map(lambda xx:xx.to_states_data_array().ngram(2), \n",
      "                              text_val_arrays)\n",
      "\n"
     ],
     "language": "python",
     "metadata": {},
     "outputs": [],
     "prompt_number": 43
    },
    {
     "cell_type": "code",
     "collapsed": false,
     "input": [
      "text_states_data_array_merger = StatesDataArrayMerger(*text_states_data_arrays)\n",
      "text_test_merge = text_states_data_array_merger.merge()\n",
      "\n"
     ],
     "language": "python",
     "metadata": {},
     "outputs": [],
     "prompt_number": 44
    },
    {
     "cell_type": "code",
     "collapsed": false,
     "input": [
      "import pandas as pd\n",
      "#pd.DataFrame(text_test_merge._eval)"
     ],
     "language": "python",
     "metadata": {},
     "outputs": [],
     "prompt_number": 45
    },
    {
     "cell_type": "code",
     "collapsed": false,
     "input": [
      "idx_val_arrays = map(lambda xx:ValuesArray(xx),test_text_df[\"idx\"].values)\n",
      "idx_val_arrays"
     ],
     "language": "python",
     "metadata": {},
     "outputs": [
      {
       "metadata": {},
       "output_type": "pyout",
       "prompt_number": 46,
       "text": [
        "[ValuesArray(u'00000', \n",
        "       dtype='<U5'), ValuesArray(u'00001', \n",
        "       dtype='<U5'), ValuesArray(u'00002', \n",
        "       dtype='<U5'), ValuesArray(u'00003', \n",
        "       dtype='<U5'), ValuesArray(u'00004', \n",
        "       dtype='<U5'), ValuesArray(u'00005', \n",
        "       dtype='<U5'), ValuesArray(u'00006', \n",
        "       dtype='<U5'), ValuesArray(u'00007', \n",
        "       dtype='<U5'), ValuesArray(u'00008', \n",
        "       dtype='<U5')]"
       ]
      }
     ],
     "prompt_number": 46
    },
    {
     "cell_type": "code",
     "collapsed": false,
     "input": [
      "idx_states_data_arrays = map(lambda xx:StatesDataArray(*xx.decompose_into_states_ptrs()), idx_val_arrays)\n",
      "idx_states_data_arrays"
     ],
     "language": "python",
     "metadata": {},
     "outputs": [
      {
       "ename": "NameError",
       "evalue": "name 'idx_val_arrays' is not defined",
       "output_type": "pyerr",
       "traceback": [
        "\u001b[1;31m---------------------------------------------------------------------------\u001b[0m\n\u001b[1;31mNameError\u001b[0m                                 Traceback (most recent call last)",
        "\u001b[1;32m<ipython-input-8-a149127410d1>\u001b[0m in \u001b[0;36m<module>\u001b[1;34m()\u001b[0m\n\u001b[1;32m----> 1\u001b[1;33m \u001b[0midx_states_data_arrays\u001b[0m \u001b[1;33m=\u001b[0m \u001b[0mmap\u001b[0m\u001b[1;33m(\u001b[0m\u001b[1;32mlambda\u001b[0m \u001b[0mxx\u001b[0m\u001b[1;33m:\u001b[0m\u001b[0mStatesDataArray\u001b[0m\u001b[1;33m(\u001b[0m\u001b[1;33m*\u001b[0m\u001b[0mxx\u001b[0m\u001b[1;33m.\u001b[0m\u001b[0mdecompose_into_states_ptrs\u001b[0m\u001b[1;33m(\u001b[0m\u001b[1;33m)\u001b[0m\u001b[1;33m)\u001b[0m\u001b[1;33m,\u001b[0m \u001b[0midx_val_arrays\u001b[0m\u001b[1;33m)\u001b[0m\u001b[1;33m\u001b[0m\u001b[0m\n\u001b[0m\u001b[0;32m      2\u001b[0m \u001b[0midx_states_data_arrays\u001b[0m\u001b[1;33m\u001b[0m\u001b[0m\n",
        "\u001b[1;31mNameError\u001b[0m: name 'idx_val_arrays' is not defined"
       ]
      }
     ],
     "prompt_number": 8
    },
    {
     "cell_type": "code",
     "collapsed": false,
     "input": [
      "zip_idx_text = zip(idx_states_data_arrays, text_states_data_arrays)\n",
      "zip_idx_text\n"
     ],
     "language": "python",
     "metadata": {},
     "outputs": [
      {
       "metadata": {},
       "output_type": "pyout",
       "prompt_number": 48,
       "text": [
        "[(ValuesArray([u'00000'], \n",
        "        dtype='<U5'), ValuesArray([[u'\\u4eca', u'\\u5929'],\n",
        "         [u'\\u5929', u'\\u5929'],\n",
        "         [u'\\u5929', u'\\u6c23'],\n",
        "         [u'\\u6c23', u'\\u5f88'],\n",
        "         [u'\\u5f88', u'\\u597d']], \n",
        "        dtype='<U1')), (ValuesArray([u'00001'], \n",
        "        dtype='<U5'), ValuesArray([[u'\\u4eca', u'\\u5929'],\n",
        "         [u'\\u5929', u'\\u5929'],\n",
        "         [u'\\u5929', u'\\u6c23'],\n",
        "         [u'\\u6c23', u'\\u5f88'],\n",
        "         [u'\\u5f88', u'\\u721b']], \n",
        "        dtype='<U1')), (ValuesArray([u'00002'], \n",
        "        dtype='<U5'), ValuesArray([[u'\\u6211', u'\\u6068'],\n",
        "         [u'\\u6068', u'\\u5b83']], \n",
        "        dtype='<U1')), (ValuesArray([u'00003'], \n",
        "        dtype='<U5'), ValuesArray([[u'\\u5b83', u'\\u6068'],\n",
        "         [u'\\u6068', u'\\u6211']], \n",
        "        dtype='<U1')), (ValuesArray([u'00004'], \n",
        "        dtype='<U5'), ValuesArray([[u'\\u6211', u'\\u611b'],\n",
        "         [u'\\u611b', u'\\u5b83']], \n",
        "        dtype='<U1')), (ValuesArray([u'00005'], \n",
        "        dtype='<U5'), ValuesArray([[u'\\u5b83', u'\\u611b'],\n",
        "         [u'\\u611b', u'\\u6211']], \n",
        "        dtype='<U1')), (ValuesArray([u'00006'], \n",
        "        dtype='<U5'), ValuesArray([[u'\\u4eca', u'\\u5929'],\n",
        "         [u'\\u5929', u'\\u5f88'],\n",
        "         [u'\\u5f88', u'\\u8870']], \n",
        "        dtype='<U1')), (ValuesArray([u'00007'], \n",
        "        dtype='<U5'), ValuesArray([[u'\\u65e5', u'\\u5b50'],\n",
        "         [u'\\u5b50', u'\\u4e00'],\n",
        "         [u'\\u4e00', u'\\u5929'],\n",
        "         [u'\\u5929', u'\\u4e00'],\n",
        "         [u'\\u4e00', u'\\u5929'],\n",
        "         [u'\\u5929', u'\\u904e']], \n",
        "        dtype='<U1')), (ValuesArray([u'00008'], \n",
        "        dtype='<U5'), ValuesArray([[u'\\u5929', u'\\u5929'],\n",
        "         [u'\\u5929', u'\\u5237'],\n",
        "         [u'\\u5237', u'\\u7259'],\n",
        "         [u'\\u7259', u'\\u6d17'],\n",
        "         [u'\\u6d17', u'\\u81c9']], \n",
        "        dtype='<U1'))]"
       ]
      }
     ],
     "prompt_number": 48
    },
    {
     "cell_type": "code",
     "collapsed": false,
     "input": [
      "#reduce(lambda x,y:x*y,map(lambda xx:xx._shape[0],zip_idx_text[1]))"
     ],
     "language": "python",
     "metadata": {},
     "outputs": [],
     "prompt_number": 49
    },
    {
     "cell_type": "code",
     "collapsed": false,
     "input": [
      "test = map(lambda xx:StatesDataArrayMerger(*xx).merge(axis=1),zip_idx_text)\n",
      "#test"
     ],
     "language": "python",
     "metadata": {},
     "outputs": [
      {
       "output_type": "stream",
       "stream": "stdout",
       "text": [
        "map(lambda xx:xx._shape[0],self) =  [1, 5]\n",
        "new_nrows =  5\n",
        "new_ptr_array =  [0 0 0 0 0]\n",
        "extended_arrays =  [ValuesArray([u'00000', u'00000', u'00000', u'00000', u'00000'], \n",
        "      dtype='<U5'), ValuesArray([[u'\\u4eca', u'\\u5929'],\n",
        "       [u'\\u5929', u'\\u5929'],\n",
        "       [u'\\u5929', u'\\u6c23'],\n",
        "       [u'\\u6c23', u'\\u5f88'],\n",
        "       [u'\\u5f88', u'\\u597d']], \n",
        "      dtype='<U1')]\n",
        "map(lambda xx:xx._shape[0],self) =  [1, 5]\n",
        "new_nrows =  5\n",
        "new_ptr_array =  [0 0 0 0 0]\n",
        "extended_arrays =  [ValuesArray([u'00001', u'00001', u'00001', u'00001', u'00001'], \n",
        "      dtype='<U5'), ValuesArray([[u'\\u4eca', u'\\u5929'],\n",
        "       [u'\\u5929', u'\\u5929'],\n",
        "       [u'\\u5929', u'\\u6c23'],\n",
        "       [u'\\u6c23', u'\\u5f88'],\n",
        "       [u'\\u5f88', u'\\u721b']], \n",
        "      dtype='<U1')]\n",
        "map(lambda xx:xx._shape[0],self) =  [1, 2]\n",
        "new_nrows =  2\n",
        "new_ptr_array =  [0 0]\n",
        "extended_arrays =  [ValuesArray([u'00002', u'00002'], \n",
        "      dtype='<U5'), ValuesArray([[u'\\u6211', u'\\u6068'],\n",
        "       [u'\\u6068', u'\\u5b83']], \n",
        "      dtype='<U1')]\n",
        "map(lambda xx:xx._shape[0],self) =  [1, 2]\n",
        "new_nrows =  2\n",
        "new_ptr_array =  [0 0]\n",
        "extended_arrays =  [ValuesArray([u'00003', u'00003'], \n",
        "      dtype='<U5'), ValuesArray([[u'\\u5b83', u'\\u6068'],\n",
        "       [u'\\u6068', u'\\u6211']], \n",
        "      dtype='<U1')]\n",
        "map(lambda xx:xx._shape[0],self) =  [1, 2]\n",
        "new_nrows =  2\n",
        "new_ptr_array =  [0 0]\n",
        "extended_arrays =  [ValuesArray([u'00004', u'00004'], \n",
        "      dtype='<U5'), ValuesArray([[u'\\u6211', u'\\u611b'],\n",
        "       [u'\\u611b', u'\\u5b83']], \n",
        "      dtype='<U1')]\n",
        "map(lambda xx:xx._shape[0],self) =  [1, 2]\n",
        "new_nrows =  2\n",
        "new_ptr_array =  [0 0]\n",
        "extended_arrays =  [ValuesArray([u'00005', u'00005'], \n",
        "      dtype='<U5'), ValuesArray([[u'\\u5b83', u'\\u611b'],\n",
        "       [u'\\u611b', u'\\u6211']], \n",
        "      dtype='<U1')]\n",
        "map(lambda xx:xx._shape[0],self) =  [1, 3]\n",
        "new_nrows =  3\n",
        "new_ptr_array =  [0 0 0]\n",
        "extended_arrays =  [ValuesArray([u'00006', u'00006', u'00006'], \n",
        "      dtype='<U5'), ValuesArray([[u'\\u4eca', u'\\u5929'],\n",
        "       [u'\\u5929', u'\\u5f88'],\n",
        "       [u'\\u5f88', u'\\u8870']], \n",
        "      dtype='<U1')]\n",
        "map(lambda xx:xx._shape[0],self) =  [1, 6]\n",
        "new_nrows =  6\n",
        "new_ptr_array =  [0 0 0 0 0 0]\n",
        "extended_arrays =  [ValuesArray([u'00007', u'00007', u'00007', u'00007', u'00007', u'00007'], \n",
        "      dtype='<U5'), ValuesArray([[u'\\u65e5', u'\\u5b50'],\n",
        "       [u'\\u5b50', u'\\u4e00'],\n",
        "       [u'\\u4e00', u'\\u5929'],\n",
        "       [u'\\u5929', u'\\u4e00'],\n",
        "       [u'\\u4e00', u'\\u5929'],\n",
        "       [u'\\u5929', u'\\u904e']], \n",
        "      dtype='<U1')]\n",
        "map(lambda xx:xx._shape[0],self) =  [1, 5]\n",
        "new_nrows =  5\n",
        "new_ptr_array =  [0 0 0 0 0]\n",
        "extended_arrays =  [ValuesArray([u'00008', u'00008', u'00008', u'00008', u'00008'], \n",
        "      dtype='<U5'), ValuesArray([[u'\\u5929', u'\\u5929'],\n",
        "       [u'\\u5929', u'\\u5237'],\n",
        "       [u'\\u5237', u'\\u7259'],\n",
        "       [u'\\u7259', u'\\u6d17'],\n",
        "       [u'\\u6d17', u'\\u81c9']], \n",
        "      dtype='<U1')]\n"
       ]
      }
     ],
     "prompt_number": 50
    },
    {
     "cell_type": "code",
     "collapsed": false,
     "input": [
      "len(np.unique(map(lambda xx:tuple(xx._ncols),test)).tolist()) == 1"
     ],
     "language": "python",
     "metadata": {},
     "outputs": [
      {
       "metadata": {},
       "output_type": "pyout",
       "prompt_number": 51,
       "text": [
        "True"
       ]
      }
     ],
     "prompt_number": 51
    },
    {
     "cell_type": "code",
     "collapsed": false,
     "input": [
      "test[1]._ncols"
     ],
     "language": "python",
     "metadata": {},
     "outputs": [
      {
       "metadata": {},
       "output_type": "pyout",
       "prompt_number": 52,
       "text": [
        "[1, 2]"
       ]
      }
     ],
     "prompt_number": 52
    },
    {
     "cell_type": "code",
     "collapsed": false,
     "input": [
      "map(lambda xx:len(np.unique(xx)) == 1,zip(*map(lambda xx:xx._ncols,test)))"
     ],
     "language": "python",
     "metadata": {},
     "outputs": [
      {
       "metadata": {},
       "output_type": "pyout",
       "prompt_number": 53,
       "text": [
        "[True, True]"
       ]
      }
     ],
     "prompt_number": 53
    },
    {
     "cell_type": "code",
     "collapsed": false,
     "input": [
      "zip_cols = zip(*StatesDataMultiArraysMerger(*test))\n",
      "\n",
      "#print np.array_equal(*map(lambda xx:map(lambda yy:yy._nrow,xx),zip_cols))\n",
      "print np.unique(np.array(map(lambda xx:map(lambda yy:yy._nrow,xx),zip_cols)))\n",
      "map(lambda xx:map(lambda yy:yy._nrow,xx),zip_cols)"
     ],
     "language": "python",
     "metadata": {},
     "outputs": [
      {
       "output_type": "stream",
       "stream": "stdout",
       "text": [
        "[2 3 5 6]\n"
       ]
      },
      {
       "metadata": {},
       "output_type": "pyout",
       "prompt_number": 54,
       "text": [
        "[[5, 5, 2, 2, 2, 2, 3, 6, 5], [5, 5, 2, 2, 2, 2, 3, 6, 5]]"
       ]
      }
     ],
     "prompt_number": 54
    },
    {
     "cell_type": "code",
     "collapsed": false,
     "input": [],
     "language": "python",
     "metadata": {},
     "outputs": [],
     "prompt_number": 54
    },
    {
     "cell_type": "code",
     "collapsed": false,
     "input": [
      "states_multi_array_merger = StatesDataMultiArraysMerger(*test)"
     ],
     "language": "python",
     "metadata": {},
     "outputs": [],
     "prompt_number": 55
    },
    {
     "cell_type": "code",
     "collapsed": false,
     "input": [
      "states_multi_array_merger.merge()[1]._ptr_array[:,0]"
     ],
     "language": "python",
     "metadata": {},
     "outputs": [
      {
       "metadata": {},
       "output_type": "pyout",
       "prompt_number": 56,
       "text": [
        "PtrArray([ 1,  3,  3, 12,  7,  1,  3,  3, 12,  7, 10,  8,  6,  8, 10,  9,  6,\n",
        "        9,  1,  3,  7, 11,  5,  0,  3,  0,  3,  3,  3,  2, 15, 13])"
       ]
      }
     ],
     "prompt_number": 56
    },
    {
     "cell_type": "code",
     "collapsed": false,
     "input": [],
     "language": "python",
     "metadata": {},
     "outputs": [],
     "prompt_number": 56
    },
    {
     "cell_type": "code",
     "collapsed": false,
     "input": [
      "print type(states_multi_array_merger.merge())\n",
      "\n",
      "temp_ptr_array = states_multi_array_merger.merge()[1]._ptr_array.copy()\n",
      "temp_ptr_array"
     ],
     "language": "python",
     "metadata": {},
     "outputs": [
      {
       "output_type": "stream",
       "stream": "stdout",
       "text": [
        "<class '__main__.StatesDataMultiArrays'>\n"
       ]
      },
      {
       "metadata": {},
       "output_type": "pyout",
       "prompt_number": 121,
       "text": [
        "PtrArray([[ 1,  3],\n",
        "       [ 3,  3],\n",
        "       [ 3, 12],\n",
        "       [12,  7],\n",
        "       [ 7,  4],\n",
        "       [ 1,  3],\n",
        "       [ 3,  3],\n",
        "       [ 3, 12],\n",
        "       [12,  7],\n",
        "       [ 7, 14],\n",
        "       [10,  8],\n",
        "       [ 8,  6],\n",
        "       [ 6,  8],\n",
        "       [ 8, 10],\n",
        "       [10,  9],\n",
        "       [ 9,  6],\n",
        "       [ 6,  9],\n",
        "       [ 9, 10],\n",
        "       [ 1,  3],\n",
        "       [ 3,  7],\n",
        "       [ 7, 17],\n",
        "       [11,  5],\n",
        "       [ 5,  0],\n",
        "       [ 0,  3],\n",
        "       [ 3,  0],\n",
        "       [ 0,  3],\n",
        "       [ 3, 18],\n",
        "       [ 3,  3],\n",
        "       [ 3,  2],\n",
        "       [ 2, 15],\n",
        "       [15, 13],\n",
        "       [13, 16]])"
       ]
      }
     ],
     "prompt_number": 121
    },
    {
     "cell_type": "code",
     "collapsed": false,
     "input": [],
     "language": "python",
     "metadata": {},
     "outputs": [],
     "prompt_number": 121
    },
    {
     "cell_type": "code",
     "collapsed": false,
     "input": [
      "states_multi_array_merger.merge()[1]._ptr_array"
     ],
     "language": "python",
     "metadata": {},
     "outputs": [
      {
       "metadata": {},
       "output_type": "pyout",
       "prompt_number": 122,
       "text": [
        "PtrArray([[ 1,  3],\n",
        "       [ 3,  3],\n",
        "       [ 3, 12],\n",
        "       [12,  7],\n",
        "       [ 7,  4],\n",
        "       [ 1,  3],\n",
        "       [ 3,  3],\n",
        "       [ 3, 12],\n",
        "       [12,  7],\n",
        "       [ 7, 14],\n",
        "       [10,  8],\n",
        "       [ 8,  6],\n",
        "       [ 6,  8],\n",
        "       [ 8, 10],\n",
        "       [10,  9],\n",
        "       [ 9,  6],\n",
        "       [ 6,  9],\n",
        "       [ 9, 10],\n",
        "       [ 1,  3],\n",
        "       [ 3,  7],\n",
        "       [ 7, 17],\n",
        "       [11,  5],\n",
        "       [ 5,  0],\n",
        "       [ 0,  3],\n",
        "       [ 3,  0],\n",
        "       [ 0,  3],\n",
        "       [ 3, 18],\n",
        "       [ 3,  3],\n",
        "       [ 3,  2],\n",
        "       [ 2, 15],\n",
        "       [15, 13],\n",
        "       [13, 16]])"
       ]
      }
     ],
     "prompt_number": 122
    },
    {
     "cell_type": "code",
     "collapsed": false,
     "input": [
      "temp_ptr_array = states_multi_array_merger.merge()[1]._ptr_array.copy()\n",
      "temp_ptr_array.dtype = np.dtype([(\"x1\",temp_ptr_array.dtype),(\"x2\",temp_ptr_array.dtype)])\n",
      "temp_ptr_array"
     ],
     "language": "python",
     "metadata": {},
     "outputs": [
      {
       "metadata": {},
       "output_type": "pyout",
       "prompt_number": 126,
       "text": [
        "PtrArray([[(1, 3)],\n",
        "       [(3, 3)],\n",
        "       [(3, 12)],\n",
        "       [(12, 7)],\n",
        "       [(7, 4)],\n",
        "       [(1, 3)],\n",
        "       [(3, 3)],\n",
        "       [(3, 12)],\n",
        "       [(12, 7)],\n",
        "       [(7, 14)],\n",
        "       [(10, 8)],\n",
        "       [(8, 6)],\n",
        "       [(6, 8)],\n",
        "       [(8, 10)],\n",
        "       [(10, 9)],\n",
        "       [(9, 6)],\n",
        "       [(6, 9)],\n",
        "       [(9, 10)],\n",
        "       [(1, 3)],\n",
        "       [(3, 7)],\n",
        "       [(7, 17)],\n",
        "       [(11, 5)],\n",
        "       [(5, 0)],\n",
        "       [(0, 3)],\n",
        "       [(3, 0)],\n",
        "       [(0, 3)],\n",
        "       [(3, 18)],\n",
        "       [(3, 3)],\n",
        "       [(3, 2)],\n",
        "       [(2, 15)],\n",
        "       [(15, 13)],\n",
        "       [(13, 16)]], \n",
        "      dtype=[('x1', '<i8'), ('x2', '<i8')])"
       ]
      }
     ],
     "prompt_number": 126
    },
    {
     "cell_type": "code",
     "collapsed": false,
     "input": [
      "uu,ii = np.unique(temp_ptr_array,return_inverse=True)\n",
      "uu,ii"
     ],
     "language": "python",
     "metadata": {},
     "outputs": [
      {
       "metadata": {},
       "output_type": "pyout",
       "prompt_number": 124,
       "text": [
        "(PtrArray([(0, 3), (1, 3), (2, 15), (3, 0), (3, 2), (3, 3), (3, 7), (3, 12),\n",
        "        (3, 18), (5, 0), (6, 8), (6, 9), (7, 4), (7, 14), (7, 17), (8, 6),\n",
        "        (8, 10), (9, 6), (9, 10), (10, 8), (10, 9), (11, 5), (12, 7),\n",
        "        (13, 16), (15, 13)], \n",
        "       dtype=[('x1', '<i8'), ('x2', '<i8')]),\n",
        " array([ 1,  5,  7, 22, 12,  1,  5,  7, 22, 13, 19, 15, 10, 16, 20, 17, 11,\n",
        "        18,  1,  6, 14, 21,  9,  0,  3,  0,  8,  5,  4,  2, 24, 23]))"
       ]
      }
     ],
     "prompt_number": 124
    },
    {
     "cell_type": "code",
     "collapsed": false,
     "input": [],
     "language": "python",
     "metadata": {},
     "outputs": []
    },
    {
     "cell_type": "code",
     "collapsed": false,
     "input": [],
     "language": "python",
     "metadata": {},
     "outputs": [],
     "prompt_number": 140
    },
    {
     "cell_type": "code",
     "collapsed": false,
     "input": [
      "#uu[[\"x1\",\"x2\"]]\n",
      "uu[\"x1\"],uu[\"x2\"]"
     ],
     "language": "python",
     "metadata": {},
     "outputs": [
      {
       "metadata": {},
       "output_type": "pyout",
       "prompt_number": 148,
       "text": [
        "(PtrArray([ 0,  1,  2,  3,  3,  3,  3,  3,  3,  5,  6,  6,  7,  7,  7,  8,  8,\n",
        "         9,  9, 10, 10, 11, 12, 13, 15]),\n",
        " PtrArray([ 3,  3, 15,  0,  2,  3,  7, 12, 18,  0,  8,  9,  4, 14, 17,  6, 10,\n",
        "         6, 10,  8,  9,  5,  7, 16, 13]))"
       ]
      }
     ],
     "prompt_number": 148
    },
    {
     "cell_type": "code",
     "collapsed": false,
     "input": [
      "print np.unique(uu[\"x1\"],return_inverse=True)\n",
      "print np.unique(uu[\"x2\"],return_inverse=True)"
     ],
     "language": "python",
     "metadata": {},
     "outputs": [
      {
       "output_type": "stream",
       "stream": "stdout",
       "text": [
        "(PtrArray([ 0,  1,  2,  3,  5,  6,  7,  8,  9, 10, 11, 12, 13, 15]), array([ 0,  1,  2,  3,  3,  3,  3,  3,  3,  4,  5,  5,  6,  6,  6,  7,  7,\n",
        "        8,  8,  9,  9, 10, 11, 12, 13]))\n",
        "(PtrArray([ 0,  2,  3,  4,  5,  6,  7,  8,  9, 10, 12, 13, 14, 15, 16, 17, 18]), array([ 2,  2, 13,  0,  1,  2,  6, 10, 16,  0,  7,  8,  3, 12, 15,  5,  9,\n",
        "        5,  9,  7,  8,  4,  6, 14, 11]))\n"
       ]
      }
     ],
     "prompt_number": 159
    },
    {
     "cell_type": "code",
     "collapsed": false,
     "input": [],
     "language": "python",
     "metadata": {},
     "outputs": []
    },
    {
     "cell_type": "code",
     "collapsed": false,
     "input": [],
     "language": "python",
     "metadata": {},
     "outputs": []
    },
    {
     "cell_type": "code",
     "collapsed": false,
     "input": [],
     "language": "python",
     "metadata": {},
     "outputs": [],
     "prompt_number": 140
    },
    {
     "cell_type": "code",
     "collapsed": false,
     "input": [
      "states_multi_array_merger.merge()[1]._ptr_array"
     ],
     "language": "python",
     "metadata": {},
     "outputs": [
      {
       "metadata": {},
       "output_type": "pyout",
       "prompt_number": 138,
       "text": [
        "PtrArray([[ 1,  3],\n",
        "       [ 3,  3],\n",
        "       [ 3, 12],\n",
        "       [12,  7],\n",
        "       [ 7,  4],\n",
        "       [ 1,  3],\n",
        "       [ 3,  3],\n",
        "       [ 3, 12],\n",
        "       [12,  7],\n",
        "       [ 7, 14],\n",
        "       [10,  8],\n",
        "       [ 8,  6],\n",
        "       [ 6,  8],\n",
        "       [ 8, 10],\n",
        "       [10,  9],\n",
        "       [ 9,  6],\n",
        "       [ 6,  9],\n",
        "       [ 9, 10],\n",
        "       [ 1,  3],\n",
        "       [ 3,  7],\n",
        "       [ 7, 17],\n",
        "       [11,  5],\n",
        "       [ 5,  0],\n",
        "       [ 0,  3],\n",
        "       [ 3,  0],\n",
        "       [ 0,  3],\n",
        "       [ 3, 18],\n",
        "       [ 3,  3],\n",
        "       [ 3,  2],\n",
        "       [ 2, 15],\n",
        "       [15, 13],\n",
        "       [13, 16]])"
       ]
      }
     ],
     "prompt_number": 138
    },
    {
     "cell_type": "code",
     "collapsed": false,
     "input": [],
     "language": "python",
     "metadata": {},
     "outputs": []
    },
    {
     "cell_type": "code",
     "collapsed": false,
     "input": [
      "print states_multi_array_merger.merge()[1]._states_dict._states_array\n"
     ],
     "language": "python",
     "metadata": {},
     "outputs": [
      {
       "output_type": "stream",
       "stream": "stdout",
       "text": [
        "[u'\\u4e00' u'\\u4eca' u'\\u5237' u'\\u5929' u'\\u597d' u'\\u5b50' u'\\u5b83'\n",
        " u'\\u5f88' u'\\u6068' u'\\u611b' u'\\u6211' u'\\u65e5' u'\\u6c23' u'\\u6d17'\n",
        " u'\\u721b' u'\\u7259' u'\\u81c9' u'\\u8870' u'\\u904e']\n"
       ]
      }
     ],
     "prompt_number": 120
    },
    {
     "cell_type": "code",
     "collapsed": false,
     "input": [
      "uuu,iii = np.unique(ii,return_inverse=True)\n",
      "uuu,iii"
     ],
     "language": "python",
     "metadata": {},
     "outputs": [
      {
       "metadata": {},
       "output_type": "pyout",
       "prompt_number": 79,
       "text": [
        "(array([ 0,  1,  2,  3,  4,  5,  6,  7,  8,  9, 10, 11, 12, 13, 14, 15, 16,\n",
        "        17, 18, 19, 20, 21, 22, 23, 24]),\n",
        " array([ 1,  5,  7, 22, 12,  1,  5,  7, 22, 13, 19, 15, 10, 16, 20, 17, 11,\n",
        "        18,  1,  6, 14, 21,  9,  0,  3,  0,  8,  5,  4,  2, 24, 23]))"
       ]
      }
     ],
     "prompt_number": 79
    },
    {
     "cell_type": "code",
     "collapsed": false,
     "input": [
      "np.apply_along_axis(lambda xx:)"
     ],
     "language": "python",
     "metadata": {},
     "outputs": [],
     "prompt_number": 80
    },
    {
     "cell_type": "code",
     "collapsed": false,
     "input": [
      "ii"
     ],
     "language": "python",
     "metadata": {},
     "outputs": [
      {
       "metadata": {},
       "output_type": "pyout",
       "prompt_number": 81,
       "text": [
        "array([ 1,  5,  7, 22, 12,  1,  5,  7, 22, 13, 19, 15, 10, 16, 20, 17, 11,\n",
        "       18,  1,  6, 14, 21,  9,  0,  3,  0,  8,  5,  4,  2, 24, 23])"
       ]
      }
     ],
     "prompt_number": 81
    },
    {
     "cell_type": "code",
     "collapsed": false,
     "input": [],
     "language": "python",
     "metadata": {},
     "outputs": []
    },
    {
     "cell_type": "code",
     "collapsed": false,
     "input": [],
     "language": "python",
     "metadata": {},
     "outputs": []
    },
    {
     "cell_type": "code",
     "collapsed": false,
     "input": [
      "test = sp.sparse.coo_matrix((np.ones(len(ii)),(np.arange(len(ii)),ii)))\n",
      "test"
     ],
     "language": "python",
     "metadata": {},
     "outputs": [
      {
       "metadata": {},
       "output_type": "pyout",
       "prompt_number": 127,
       "text": [
        "<32x25 sparse matrix of type '<type 'numpy.float64'>'\n",
        "\twith 32 stored elements in COOrdinate format>"
       ]
      }
     ],
     "prompt_number": 127
    },
    {
     "cell_type": "code",
     "collapsed": false,
     "input": [
      "test1 = sp.sparse.coo_matrix((test.sum(0).tolist()[0],(uu[\"x1\"],uu[\"x2\"])))\n",
      "test1"
     ],
     "language": "python",
     "metadata": {},
     "outputs": [
      {
       "metadata": {},
       "output_type": "pyout",
       "prompt_number": 156,
       "text": [
        "<16x19 sparse matrix of type '<type 'numpy.float64'>'\n",
        "\twith 25 stored elements in COOrdinate format>"
       ]
      }
     ],
     "prompt_number": 156
    },
    {
     "cell_type": "code",
     "collapsed": false,
     "input": [
      "test1.todense()"
     ],
     "language": "python",
     "metadata": {},
     "outputs": [
      {
       "metadata": {},
       "output_type": "pyout",
       "prompt_number": 157,
       "text": [
        "matrix([[ 0.,  0.,  0.,  2.,  0.,  0.,  0.,  0.,  0.,  0.,  0.,  0.,  0.,\n",
        "          0.,  0.,  0.,  0.,  0.,  0.],\n",
        "        [ 0.,  0.,  0.,  3.,  0.,  0.,  0.,  0.,  0.,  0.,  0.,  0.,  0.,\n",
        "          0.,  0.,  0.,  0.,  0.,  0.],\n",
        "        [ 0.,  0.,  0.,  0.,  0.,  0.,  0.,  0.,  0.,  0.,  0.,  0.,  0.,\n",
        "          0.,  0.,  1.,  0.,  0.,  0.],\n",
        "        [ 1.,  0.,  1.,  3.,  0.,  0.,  0.,  1.,  0.,  0.,  0.,  0.,  2.,\n",
        "          0.,  0.,  0.,  0.,  0.,  1.],\n",
        "        [ 0.,  0.,  0.,  0.,  0.,  0.,  0.,  0.,  0.,  0.,  0.,  0.,  0.,\n",
        "          0.,  0.,  0.,  0.,  0.,  0.],\n",
        "        [ 1.,  0.,  0.,  0.,  0.,  0.,  0.,  0.,  0.,  0.,  0.,  0.,  0.,\n",
        "          0.,  0.,  0.,  0.,  0.,  0.],\n",
        "        [ 0.,  0.,  0.,  0.,  0.,  0.,  0.,  0.,  1.,  1.,  0.,  0.,  0.,\n",
        "          0.,  0.,  0.,  0.,  0.,  0.],\n",
        "        [ 0.,  0.,  0.,  0.,  1.,  0.,  0.,  0.,  0.,  0.,  0.,  0.,  0.,\n",
        "          0.,  1.,  0.,  0.,  1.,  0.],\n",
        "        [ 0.,  0.,  0.,  0.,  0.,  0.,  1.,  0.,  0.,  0.,  1.,  0.,  0.,\n",
        "          0.,  0.,  0.,  0.,  0.,  0.],\n",
        "        [ 0.,  0.,  0.,  0.,  0.,  0.,  1.,  0.,  0.,  0.,  1.,  0.,  0.,\n",
        "          0.,  0.,  0.,  0.,  0.,  0.],\n",
        "        [ 0.,  0.,  0.,  0.,  0.,  0.,  0.,  0.,  1.,  1.,  0.,  0.,  0.,\n",
        "          0.,  0.,  0.,  0.,  0.,  0.],\n",
        "        [ 0.,  0.,  0.,  0.,  0.,  1.,  0.,  0.,  0.,  0.,  0.,  0.,  0.,\n",
        "          0.,  0.,  0.,  0.,  0.,  0.],\n",
        "        [ 0.,  0.,  0.,  0.,  0.,  0.,  0.,  2.,  0.,  0.,  0.,  0.,  0.,\n",
        "          0.,  0.,  0.,  0.,  0.,  0.],\n",
        "        [ 0.,  0.,  0.,  0.,  0.,  0.,  0.,  0.,  0.,  0.,  0.,  0.,  0.,\n",
        "          0.,  0.,  0.,  1.,  0.,  0.],\n",
        "        [ 0.,  0.,  0.,  0.,  0.,  0.,  0.,  0.,  0.,  0.,  0.,  0.,  0.,\n",
        "          0.,  0.,  0.,  0.,  0.,  0.],\n",
        "        [ 0.,  0.,  0.,  0.,  0.,  0.,  0.,  0.,  0.,  0.,  0.,  0.,  0.,\n",
        "          1.,  0.,  0.,  0.,  0.,  0.]])"
       ]
      }
     ],
     "prompt_number": 157
    },
    {
     "cell_type": "code",
     "collapsed": false,
     "input": [],
     "language": "python",
     "metadata": {},
     "outputs": []
    },
    {
     "cell_type": "code",
     "collapsed": false,
     "input": [],
     "language": "python",
     "metadata": {},
     "outputs": []
    },
    {
     "cell_type": "code",
     "collapsed": false,
     "input": [],
     "language": "python",
     "metadata": {},
     "outputs": []
    },
    {
     "cell_type": "code",
     "collapsed": false,
     "input": [],
     "language": "python",
     "metadata": {},
     "outputs": []
    },
    {
     "cell_type": "code",
     "collapsed": false,
     "input": [],
     "language": "python",
     "metadata": {},
     "outputs": [],
     "prompt_number": 57
    },
    {
     "cell_type": "code",
     "collapsed": false,
     "input": [
      "import pandas as pd\n",
      "test_df = pd.DataFrame(np.c_[tuple(map(lambda xx:xx._eval,states_multi_array_merger.merge()))])\n",
      "test_df\n",
      "#pd.DataFrame(map(lambda xx:xx._eval,states_multi_array_merger.merge()))"
     ],
     "language": "python",
     "metadata": {},
     "outputs": [
      {
       "html": [
        "<div style=\"max-height:1000px;max-width:1500px;overflow:auto;\">\n",
        "<table border=\"1\" class=\"dataframe\">\n",
        "  <thead>\n",
        "    <tr style=\"text-align: right;\">\n",
        "      <th></th>\n",
        "      <th>0</th>\n",
        "      <th>1</th>\n",
        "      <th>2</th>\n",
        "    </tr>\n",
        "  </thead>\n",
        "  <tbody>\n",
        "    <tr>\n",
        "      <th>0 </th>\n",
        "      <td> 00000</td>\n",
        "      <td> \u4eca</td>\n",
        "      <td> \u5929</td>\n",
        "    </tr>\n",
        "    <tr>\n",
        "      <th>1 </th>\n",
        "      <td> 00000</td>\n",
        "      <td> \u5929</td>\n",
        "      <td> \u5929</td>\n",
        "    </tr>\n",
        "    <tr>\n",
        "      <th>2 </th>\n",
        "      <td> 00000</td>\n",
        "      <td> \u5929</td>\n",
        "      <td> \u6c23</td>\n",
        "    </tr>\n",
        "    <tr>\n",
        "      <th>3 </th>\n",
        "      <td> 00000</td>\n",
        "      <td> \u6c23</td>\n",
        "      <td> \u5f88</td>\n",
        "    </tr>\n",
        "    <tr>\n",
        "      <th>4 </th>\n",
        "      <td> 00000</td>\n",
        "      <td> \u5f88</td>\n",
        "      <td> \u597d</td>\n",
        "    </tr>\n",
        "    <tr>\n",
        "      <th>5 </th>\n",
        "      <td> 00001</td>\n",
        "      <td> \u4eca</td>\n",
        "      <td> \u5929</td>\n",
        "    </tr>\n",
        "    <tr>\n",
        "      <th>6 </th>\n",
        "      <td> 00001</td>\n",
        "      <td> \u5929</td>\n",
        "      <td> \u5929</td>\n",
        "    </tr>\n",
        "    <tr>\n",
        "      <th>7 </th>\n",
        "      <td> 00001</td>\n",
        "      <td> \u5929</td>\n",
        "      <td> \u6c23</td>\n",
        "    </tr>\n",
        "    <tr>\n",
        "      <th>8 </th>\n",
        "      <td> 00001</td>\n",
        "      <td> \u6c23</td>\n",
        "      <td> \u5f88</td>\n",
        "    </tr>\n",
        "    <tr>\n",
        "      <th>9 </th>\n",
        "      <td> 00001</td>\n",
        "      <td> \u5f88</td>\n",
        "      <td> \u721b</td>\n",
        "    </tr>\n",
        "    <tr>\n",
        "      <th>10</th>\n",
        "      <td> 00002</td>\n",
        "      <td> \u6211</td>\n",
        "      <td> \u6068</td>\n",
        "    </tr>\n",
        "    <tr>\n",
        "      <th>11</th>\n",
        "      <td> 00002</td>\n",
        "      <td> \u6068</td>\n",
        "      <td> \u5b83</td>\n",
        "    </tr>\n",
        "    <tr>\n",
        "      <th>12</th>\n",
        "      <td> 00003</td>\n",
        "      <td> \u5b83</td>\n",
        "      <td> \u6068</td>\n",
        "    </tr>\n",
        "    <tr>\n",
        "      <th>13</th>\n",
        "      <td> 00003</td>\n",
        "      <td> \u6068</td>\n",
        "      <td> \u6211</td>\n",
        "    </tr>\n",
        "    <tr>\n",
        "      <th>14</th>\n",
        "      <td> 00004</td>\n",
        "      <td> \u6211</td>\n",
        "      <td> \u611b</td>\n",
        "    </tr>\n",
        "    <tr>\n",
        "      <th>15</th>\n",
        "      <td> 00004</td>\n",
        "      <td> \u611b</td>\n",
        "      <td> \u5b83</td>\n",
        "    </tr>\n",
        "    <tr>\n",
        "      <th>16</th>\n",
        "      <td> 00005</td>\n",
        "      <td> \u5b83</td>\n",
        "      <td> \u611b</td>\n",
        "    </tr>\n",
        "    <tr>\n",
        "      <th>17</th>\n",
        "      <td> 00005</td>\n",
        "      <td> \u611b</td>\n",
        "      <td> \u6211</td>\n",
        "    </tr>\n",
        "    <tr>\n",
        "      <th>18</th>\n",
        "      <td> 00006</td>\n",
        "      <td> \u4eca</td>\n",
        "      <td> \u5929</td>\n",
        "    </tr>\n",
        "    <tr>\n",
        "      <th>19</th>\n",
        "      <td> 00006</td>\n",
        "      <td> \u5929</td>\n",
        "      <td> \u5f88</td>\n",
        "    </tr>\n",
        "    <tr>\n",
        "      <th>20</th>\n",
        "      <td> 00006</td>\n",
        "      <td> \u5f88</td>\n",
        "      <td> \u8870</td>\n",
        "    </tr>\n",
        "    <tr>\n",
        "      <th>21</th>\n",
        "      <td> 00007</td>\n",
        "      <td> \u65e5</td>\n",
        "      <td> \u5b50</td>\n",
        "    </tr>\n",
        "    <tr>\n",
        "      <th>22</th>\n",
        "      <td> 00007</td>\n",
        "      <td> \u5b50</td>\n",
        "      <td> \u4e00</td>\n",
        "    </tr>\n",
        "    <tr>\n",
        "      <th>23</th>\n",
        "      <td> 00007</td>\n",
        "      <td> \u4e00</td>\n",
        "      <td> \u5929</td>\n",
        "    </tr>\n",
        "    <tr>\n",
        "      <th>24</th>\n",
        "      <td> 00007</td>\n",
        "      <td> \u5929</td>\n",
        "      <td> \u4e00</td>\n",
        "    </tr>\n",
        "    <tr>\n",
        "      <th>25</th>\n",
        "      <td> 00007</td>\n",
        "      <td> \u4e00</td>\n",
        "      <td> \u5929</td>\n",
        "    </tr>\n",
        "    <tr>\n",
        "      <th>26</th>\n",
        "      <td> 00007</td>\n",
        "      <td> \u5929</td>\n",
        "      <td> \u904e</td>\n",
        "    </tr>\n",
        "    <tr>\n",
        "      <th>27</th>\n",
        "      <td> 00008</td>\n",
        "      <td> \u5929</td>\n",
        "      <td> \u5929</td>\n",
        "    </tr>\n",
        "    <tr>\n",
        "      <th>28</th>\n",
        "      <td> 00008</td>\n",
        "      <td> \u5929</td>\n",
        "      <td> \u5237</td>\n",
        "    </tr>\n",
        "    <tr>\n",
        "      <th>29</th>\n",
        "      <td> 00008</td>\n",
        "      <td> \u5237</td>\n",
        "      <td> \u7259</td>\n",
        "    </tr>\n",
        "    <tr>\n",
        "      <th>30</th>\n",
        "      <td> 00008</td>\n",
        "      <td> \u7259</td>\n",
        "      <td> \u6d17</td>\n",
        "    </tr>\n",
        "    <tr>\n",
        "      <th>31</th>\n",
        "      <td> 00008</td>\n",
        "      <td> \u6d17</td>\n",
        "      <td> \u81c9</td>\n",
        "    </tr>\n",
        "  </tbody>\n",
        "</table>\n",
        "<p>32 rows \u00d7 3 columns</p>\n",
        "</div>"
       ],
       "metadata": {},
       "output_type": "pyout",
       "prompt_number": 59,
       "text": [
        "        0  1  2\n",
        "0   00000  \u4eca  \u5929\n",
        "1   00000  \u5929  \u5929\n",
        "2   00000  \u5929  \u6c23\n",
        "3   00000  \u6c23  \u5f88\n",
        "4   00000  \u5f88  \u597d\n",
        "5   00001  \u4eca  \u5929\n",
        "6   00001  \u5929  \u5929\n",
        "7   00001  \u5929  \u6c23\n",
        "8   00001  \u6c23  \u5f88\n",
        "9   00001  \u5f88  \u721b\n",
        "10  00002  \u6211  \u6068\n",
        "11  00002  \u6068  \u5b83\n",
        "12  00003  \u5b83  \u6068\n",
        "13  00003  \u6068  \u6211\n",
        "14  00004  \u6211  \u611b\n",
        "15  00004  \u611b  \u5b83\n",
        "16  00005  \u5b83  \u611b\n",
        "17  00005  \u611b  \u6211\n",
        "18  00006  \u4eca  \u5929\n",
        "19  00006  \u5929  \u5f88\n",
        "20  00006  \u5f88  \u8870\n",
        "21  00007  \u65e5  \u5b50\n",
        "22  00007  \u5b50  \u4e00\n",
        "23  00007  \u4e00  \u5929\n",
        "24  00007  \u5929  \u4e00\n",
        "25  00007  \u4e00  \u5929\n",
        "26  00007  \u5929  \u904e\n",
        "27  00008  \u5929  \u5929\n",
        "28  00008  \u5929  \u5237\n",
        "29  00008  \u5237  \u7259\n",
        "30  00008  \u7259  \u6d17\n",
        "31  00008  \u6d17  \u81c9\n",
        "\n",
        "[32 rows x 3 columns]"
       ]
      }
     ],
     "prompt_number": 59
    },
    {
     "cell_type": "code",
     "collapsed": false,
     "input": [],
     "language": "python",
     "metadata": {},
     "outputs": [],
     "prompt_number": 59
    },
    {
     "cell_type": "code",
     "collapsed": false,
     "input": [
      "test_df.groupby([1,2]).size().unstack().fillna(0)"
     ],
     "language": "python",
     "metadata": {},
     "outputs": [
      {
       "html": [
        "<div style=\"max-height:1000px;max-width:1500px;overflow:auto;\">\n",
        "<table border=\"1\" class=\"dataframe\">\n",
        "  <thead>\n",
        "    <tr style=\"text-align: right;\">\n",
        "      <th>2</th>\n",
        "      <th>\u4e00</th>\n",
        "      <th>\u5237</th>\n",
        "      <th>\u5929</th>\n",
        "      <th>\u597d</th>\n",
        "      <th>\u5b50</th>\n",
        "      <th>\u5b83</th>\n",
        "      <th>\u5f88</th>\n",
        "      <th>\u6068</th>\n",
        "      <th>\u611b</th>\n",
        "      <th>\u6211</th>\n",
        "      <th>\u6c23</th>\n",
        "      <th>\u6d17</th>\n",
        "      <th>\u721b</th>\n",
        "      <th>\u7259</th>\n",
        "      <th>\u81c9</th>\n",
        "      <th>\u8870</th>\n",
        "      <th>\u904e</th>\n",
        "    </tr>\n",
        "    <tr>\n",
        "      <th>1</th>\n",
        "      <th></th>\n",
        "      <th></th>\n",
        "      <th></th>\n",
        "      <th></th>\n",
        "      <th></th>\n",
        "      <th></th>\n",
        "      <th></th>\n",
        "      <th></th>\n",
        "      <th></th>\n",
        "      <th></th>\n",
        "      <th></th>\n",
        "      <th></th>\n",
        "      <th></th>\n",
        "      <th></th>\n",
        "      <th></th>\n",
        "      <th></th>\n",
        "      <th></th>\n",
        "    </tr>\n",
        "  </thead>\n",
        "  <tbody>\n",
        "    <tr>\n",
        "      <th>\u4e00</th>\n",
        "      <td> 0</td>\n",
        "      <td> 0</td>\n",
        "      <td> 2</td>\n",
        "      <td> 0</td>\n",
        "      <td> 0</td>\n",
        "      <td> 0</td>\n",
        "      <td> 0</td>\n",
        "      <td> 0</td>\n",
        "      <td> 0</td>\n",
        "      <td> 0</td>\n",
        "      <td> 0</td>\n",
        "      <td> 0</td>\n",
        "      <td> 0</td>\n",
        "      <td> 0</td>\n",
        "      <td> 0</td>\n",
        "      <td> 0</td>\n",
        "      <td> 0</td>\n",
        "    </tr>\n",
        "    <tr>\n",
        "      <th>\u4eca</th>\n",
        "      <td> 0</td>\n",
        "      <td> 0</td>\n",
        "      <td> 3</td>\n",
        "      <td> 0</td>\n",
        "      <td> 0</td>\n",
        "      <td> 0</td>\n",
        "      <td> 0</td>\n",
        "      <td> 0</td>\n",
        "      <td> 0</td>\n",
        "      <td> 0</td>\n",
        "      <td> 0</td>\n",
        "      <td> 0</td>\n",
        "      <td> 0</td>\n",
        "      <td> 0</td>\n",
        "      <td> 0</td>\n",
        "      <td> 0</td>\n",
        "      <td> 0</td>\n",
        "    </tr>\n",
        "    <tr>\n",
        "      <th>\u5237</th>\n",
        "      <td> 0</td>\n",
        "      <td> 0</td>\n",
        "      <td> 0</td>\n",
        "      <td> 0</td>\n",
        "      <td> 0</td>\n",
        "      <td> 0</td>\n",
        "      <td> 0</td>\n",
        "      <td> 0</td>\n",
        "      <td> 0</td>\n",
        "      <td> 0</td>\n",
        "      <td> 0</td>\n",
        "      <td> 0</td>\n",
        "      <td> 0</td>\n",
        "      <td> 1</td>\n",
        "      <td> 0</td>\n",
        "      <td> 0</td>\n",
        "      <td> 0</td>\n",
        "    </tr>\n",
        "    <tr>\n",
        "      <th>\u5929</th>\n",
        "      <td> 1</td>\n",
        "      <td> 1</td>\n",
        "      <td> 3</td>\n",
        "      <td> 0</td>\n",
        "      <td> 0</td>\n",
        "      <td> 0</td>\n",
        "      <td> 1</td>\n",
        "      <td> 0</td>\n",
        "      <td> 0</td>\n",
        "      <td> 0</td>\n",
        "      <td> 2</td>\n",
        "      <td> 0</td>\n",
        "      <td> 0</td>\n",
        "      <td> 0</td>\n",
        "      <td> 0</td>\n",
        "      <td> 0</td>\n",
        "      <td> 1</td>\n",
        "    </tr>\n",
        "    <tr>\n",
        "      <th>\u5b50</th>\n",
        "      <td> 1</td>\n",
        "      <td> 0</td>\n",
        "      <td> 0</td>\n",
        "      <td> 0</td>\n",
        "      <td> 0</td>\n",
        "      <td> 0</td>\n",
        "      <td> 0</td>\n",
        "      <td> 0</td>\n",
        "      <td> 0</td>\n",
        "      <td> 0</td>\n",
        "      <td> 0</td>\n",
        "      <td> 0</td>\n",
        "      <td> 0</td>\n",
        "      <td> 0</td>\n",
        "      <td> 0</td>\n",
        "      <td> 0</td>\n",
        "      <td> 0</td>\n",
        "    </tr>\n",
        "    <tr>\n",
        "      <th>\u5b83</th>\n",
        "      <td> 0</td>\n",
        "      <td> 0</td>\n",
        "      <td> 0</td>\n",
        "      <td> 0</td>\n",
        "      <td> 0</td>\n",
        "      <td> 0</td>\n",
        "      <td> 0</td>\n",
        "      <td> 1</td>\n",
        "      <td> 1</td>\n",
        "      <td> 0</td>\n",
        "      <td> 0</td>\n",
        "      <td> 0</td>\n",
        "      <td> 0</td>\n",
        "      <td> 0</td>\n",
        "      <td> 0</td>\n",
        "      <td> 0</td>\n",
        "      <td> 0</td>\n",
        "    </tr>\n",
        "    <tr>\n",
        "      <th>\u5f88</th>\n",
        "      <td> 0</td>\n",
        "      <td> 0</td>\n",
        "      <td> 0</td>\n",
        "      <td> 1</td>\n",
        "      <td> 0</td>\n",
        "      <td> 0</td>\n",
        "      <td> 0</td>\n",
        "      <td> 0</td>\n",
        "      <td> 0</td>\n",
        "      <td> 0</td>\n",
        "      <td> 0</td>\n",
        "      <td> 0</td>\n",
        "      <td> 1</td>\n",
        "      <td> 0</td>\n",
        "      <td> 0</td>\n",
        "      <td> 1</td>\n",
        "      <td> 0</td>\n",
        "    </tr>\n",
        "    <tr>\n",
        "      <th>\u6068</th>\n",
        "      <td> 0</td>\n",
        "      <td> 0</td>\n",
        "      <td> 0</td>\n",
        "      <td> 0</td>\n",
        "      <td> 0</td>\n",
        "      <td> 1</td>\n",
        "      <td> 0</td>\n",
        "      <td> 0</td>\n",
        "      <td> 0</td>\n",
        "      <td> 1</td>\n",
        "      <td> 0</td>\n",
        "      <td> 0</td>\n",
        "      <td> 0</td>\n",
        "      <td> 0</td>\n",
        "      <td> 0</td>\n",
        "      <td> 0</td>\n",
        "      <td> 0</td>\n",
        "    </tr>\n",
        "    <tr>\n",
        "      <th>\u611b</th>\n",
        "      <td> 0</td>\n",
        "      <td> 0</td>\n",
        "      <td> 0</td>\n",
        "      <td> 0</td>\n",
        "      <td> 0</td>\n",
        "      <td> 1</td>\n",
        "      <td> 0</td>\n",
        "      <td> 0</td>\n",
        "      <td> 0</td>\n",
        "      <td> 1</td>\n",
        "      <td> 0</td>\n",
        "      <td> 0</td>\n",
        "      <td> 0</td>\n",
        "      <td> 0</td>\n",
        "      <td> 0</td>\n",
        "      <td> 0</td>\n",
        "      <td> 0</td>\n",
        "    </tr>\n",
        "    <tr>\n",
        "      <th>\u6211</th>\n",
        "      <td> 0</td>\n",
        "      <td> 0</td>\n",
        "      <td> 0</td>\n",
        "      <td> 0</td>\n",
        "      <td> 0</td>\n",
        "      <td> 0</td>\n",
        "      <td> 0</td>\n",
        "      <td> 1</td>\n",
        "      <td> 1</td>\n",
        "      <td> 0</td>\n",
        "      <td> 0</td>\n",
        "      <td> 0</td>\n",
        "      <td> 0</td>\n",
        "      <td> 0</td>\n",
        "      <td> 0</td>\n",
        "      <td> 0</td>\n",
        "      <td> 0</td>\n",
        "    </tr>\n",
        "    <tr>\n",
        "      <th>\u65e5</th>\n",
        "      <td> 0</td>\n",
        "      <td> 0</td>\n",
        "      <td> 0</td>\n",
        "      <td> 0</td>\n",
        "      <td> 1</td>\n",
        "      <td> 0</td>\n",
        "      <td> 0</td>\n",
        "      <td> 0</td>\n",
        "      <td> 0</td>\n",
        "      <td> 0</td>\n",
        "      <td> 0</td>\n",
        "      <td> 0</td>\n",
        "      <td> 0</td>\n",
        "      <td> 0</td>\n",
        "      <td> 0</td>\n",
        "      <td> 0</td>\n",
        "      <td> 0</td>\n",
        "    </tr>\n",
        "    <tr>\n",
        "      <th>\u6c23</th>\n",
        "      <td> 0</td>\n",
        "      <td> 0</td>\n",
        "      <td> 0</td>\n",
        "      <td> 0</td>\n",
        "      <td> 0</td>\n",
        "      <td> 0</td>\n",
        "      <td> 2</td>\n",
        "      <td> 0</td>\n",
        "      <td> 0</td>\n",
        "      <td> 0</td>\n",
        "      <td> 0</td>\n",
        "      <td> 0</td>\n",
        "      <td> 0</td>\n",
        "      <td> 0</td>\n",
        "      <td> 0</td>\n",
        "      <td> 0</td>\n",
        "      <td> 0</td>\n",
        "    </tr>\n",
        "    <tr>\n",
        "      <th>\u6d17</th>\n",
        "      <td> 0</td>\n",
        "      <td> 0</td>\n",
        "      <td> 0</td>\n",
        "      <td> 0</td>\n",
        "      <td> 0</td>\n",
        "      <td> 0</td>\n",
        "      <td> 0</td>\n",
        "      <td> 0</td>\n",
        "      <td> 0</td>\n",
        "      <td> 0</td>\n",
        "      <td> 0</td>\n",
        "      <td> 0</td>\n",
        "      <td> 0</td>\n",
        "      <td> 0</td>\n",
        "      <td> 1</td>\n",
        "      <td> 0</td>\n",
        "      <td> 0</td>\n",
        "    </tr>\n",
        "    <tr>\n",
        "      <th>\u7259</th>\n",
        "      <td> 0</td>\n",
        "      <td> 0</td>\n",
        "      <td> 0</td>\n",
        "      <td> 0</td>\n",
        "      <td> 0</td>\n",
        "      <td> 0</td>\n",
        "      <td> 0</td>\n",
        "      <td> 0</td>\n",
        "      <td> 0</td>\n",
        "      <td> 0</td>\n",
        "      <td> 0</td>\n",
        "      <td> 1</td>\n",
        "      <td> 0</td>\n",
        "      <td> 0</td>\n",
        "      <td> 0</td>\n",
        "      <td> 0</td>\n",
        "      <td> 0</td>\n",
        "    </tr>\n",
        "  </tbody>\n",
        "</table>\n",
        "<p>14 rows \u00d7 17 columns</p>\n",
        "</div>"
       ],
       "metadata": {},
       "output_type": "pyout",
       "prompt_number": 60,
       "text": [
        "2  \u4e00  \u5237  \u5929  \u597d  \u5b50  \u5b83  \u5f88  \u6068  \u611b  \u6211  \u6c23  \u6d17  \u721b  \u7259  \u81c9  \u8870  \u904e\n",
        "1                                                   \n",
        "\u4e00  0  0  2  0  0  0  0  0  0  0  0  0  0  0  0  0  0\n",
        "\u4eca  0  0  3  0  0  0  0  0  0  0  0  0  0  0  0  0  0\n",
        "\u5237  0  0  0  0  0  0  0  0  0  0  0  0  0  1  0  0  0\n",
        "\u5929  1  1  3  0  0  0  1  0  0  0  2  0  0  0  0  0  1\n",
        "\u5b50  1  0  0  0  0  0  0  0  0  0  0  0  0  0  0  0  0\n",
        "\u5b83  0  0  0  0  0  0  0  1  1  0  0  0  0  0  0  0  0\n",
        "\u5f88  0  0  0  1  0  0  0  0  0  0  0  0  1  0  0  1  0\n",
        "\u6068  0  0  0  0  0  1  0  0  0  1  0  0  0  0  0  0  0\n",
        "\u611b  0  0  0  0  0  1  0  0  0  1  0  0  0  0  0  0  0\n",
        "\u6211  0  0  0  0  0  0  0  1  1  0  0  0  0  0  0  0  0\n",
        "\u65e5  0  0  0  0  1  0  0  0  0  0  0  0  0  0  0  0  0\n",
        "\u6c23  0  0  0  0  0  0  2  0  0  0  0  0  0  0  0  0  0\n",
        "\u6d17  0  0  0  0  0  0  0  0  0  0  0  0  0  0  1  0  0\n",
        "\u7259  0  0  0  0  0  0  0  0  0  0  0  1  0  0  0  0  0\n",
        "\n",
        "[14 rows x 17 columns]"
       ]
      }
     ],
     "prompt_number": 60
    },
    {
     "cell_type": "code",
     "collapsed": false,
     "input": [],
     "language": "python",
     "metadata": {},
     "outputs": [],
     "prompt_number": 60
    },
    {
     "cell_type": "code",
     "collapsed": false,
     "input": [],
     "language": "python",
     "metadata": {},
     "outputs": []
    },
    {
     "cell_type": "code",
     "collapsed": false,
     "input": [],
     "language": "python",
     "metadata": {},
     "outputs": [],
     "prompt_number": 119
    },
    {
     "cell_type": "code",
     "collapsed": false,
     "input": [
      "#idx_map_row_extend = map(lambda (xx,yy):xx.extend_rows_by_array(yy),zip(idx_states_data_arrays, text_states_data_arrays))\n",
      "#idx_map_row_extend\n",
      "idx_map_row_extend = map(lambda (xx,yy):xx.extend_rows_to_n(yy._nrow),zip(idx_states_data_arrays, text_states_data_arrays))\n",
      "idx_map_row_extend\n",
      "#map(lambda (xx,yy):yy._nrow,zip(idx_states_data_arrays, text_states_data_arrays))"
     ],
     "language": "python",
     "metadata": {},
     "outputs": [
      {
       "metadata": {},
       "output_type": "pyout",
       "prompt_number": 28,
       "text": [
        "[ValuesArray([u'00000', u'00000', u'00000', u'00000', u'00000'], \n",
        "       dtype='<U5'),\n",
        " ValuesArray([u'00001', u'00001', u'00001', u'00001', u'00001'], \n",
        "       dtype='<U5'),\n",
        " ValuesArray([u'00002', u'00002'], \n",
        "       dtype='<U5'),\n",
        " ValuesArray([u'00003', u'00003'], \n",
        "       dtype='<U5'),\n",
        " ValuesArray([u'00004', u'00004'], \n",
        "       dtype='<U5'),\n",
        " ValuesArray([u'00005', u'00005'], \n",
        "       dtype='<U5'),\n",
        " ValuesArray([u'00006', u'00006', u'00006'], \n",
        "       dtype='<U5'),\n",
        " ValuesArray([u'00007', u'00007', u'00007', u'00007', u'00007', u'00007'], \n",
        "       dtype='<U5'),\n",
        " ValuesArray([u'00008', u'00008', u'00008', u'00008', u'00008'], \n",
        "       dtype='<U5')]"
       ]
      }
     ],
     "prompt_number": 28
    },
    {
     "cell_type": "code",
     "collapsed": false,
     "input": [
      "idx_states_data_array_merger = StatesDataArrayMerger(*idx_map_row_extend)\n",
      "idx_merge = idx_states_data_array_merger.merge()\n",
      "idx_merge._eval"
     ],
     "language": "python",
     "metadata": {},
     "outputs": [
      {
       "metadata": {},
       "output_type": "pyout",
       "prompt_number": 29,
       "text": [
        "ValuesArray([u'00000', u'00000', u'00000', u'00000', u'00000', u'00001',\n",
        "       u'00001', u'00001', u'00001', u'00001', u'00002', u'00002',\n",
        "       u'00003', u'00003', u'00004', u'00004', u'00005', u'00005',\n",
        "       u'00006', u'00006', u'00006', u'00007', u'00007', u'00007',\n",
        "       u'00007', u'00007', u'00007', u'00008', u'00008', u'00008',\n",
        "       u'00008', u'00008'], \n",
        "      dtype='<U5')"
       ]
      }
     ],
     "prompt_number": 29
    },
    {
     "cell_type": "code",
     "collapsed": false,
     "input": [
      "idx_merge"
     ],
     "language": "python",
     "metadata": {},
     "outputs": [
      {
       "metadata": {},
       "output_type": "pyout",
       "prompt_number": 30,
       "text": [
        "ValuesArray([u'00000', u'00000', u'00000', u'00000', u'00000', u'00001',\n",
        "       u'00001', u'00001', u'00001', u'00001', u'00002', u'00002',\n",
        "       u'00003', u'00003', u'00004', u'00004', u'00005', u'00005',\n",
        "       u'00006', u'00006', u'00006', u'00007', u'00007', u'00007',\n",
        "       u'00007', u'00007', u'00007', u'00008', u'00008', u'00008',\n",
        "       u'00008', u'00008'], \n",
        "      dtype='<U5')"
       ]
      }
     ],
     "prompt_number": 30
    },
    {
     "cell_type": "code",
     "collapsed": false,
     "input": [
      "idx_merge._ptr_array.shape, text_test_merge._eval.shape"
     ],
     "language": "python",
     "metadata": {},
     "outputs": [
      {
       "metadata": {},
       "output_type": "pyout",
       "prompt_number": 31,
       "text": [
        "((32,), (32, 2))"
       ]
      }
     ],
     "prompt_number": 31
    },
    {
     "cell_type": "code",
     "collapsed": false,
     "input": [],
     "language": "python",
     "metadata": {},
     "outputs": [],
     "prompt_number": 31
    },
    {
     "cell_type": "code",
     "collapsed": false,
     "input": [],
     "language": "python",
     "metadata": {},
     "outputs": [],
     "prompt_number": 31
    },
    {
     "cell_type": "code",
     "collapsed": false,
     "input": [],
     "language": "python",
     "metadata": {},
     "outputs": [],
     "prompt_number": 31
    },
    {
     "cell_type": "code",
     "collapsed": false,
     "input": [],
     "language": "python",
     "metadata": {},
     "outputs": [],
     "prompt_number": 31
    },
    {
     "cell_type": "code",
     "collapsed": false,
     "input": [
      "#np.c_[idx_merge._ptr_array,text_test_merge._ptr_array]"
     ],
     "language": "python",
     "metadata": {},
     "outputs": [],
     "prompt_number": 32
    },
    {
     "cell_type": "code",
     "collapsed": false,
     "input": [
      "idx_merge._reshape_ptrs_to_2d_col_vector()\n",
      "text_test_merge._reshape_ptrs_to_2d_col_vector()\n",
      "#print idx_merge._ptr_array\n",
      "test_df = np.concatenate((idx_merge._ptr_array,text_test_merge._ptr_array),axis=1)\n",
      "test_df"
     ],
     "language": "python",
     "metadata": {},
     "outputs": [
      {
       "metadata": {},
       "output_type": "pyout",
       "prompt_number": 33,
       "text": [
        "array([[ 0,  1,  3],\n",
        "       [ 0,  3,  3],\n",
        "       [ 0,  3, 12],\n",
        "       [ 0, 12,  7],\n",
        "       [ 0,  7,  4],\n",
        "       [ 1,  1,  3],\n",
        "       [ 1,  3,  3],\n",
        "       [ 1,  3, 12],\n",
        "       [ 1, 12,  7],\n",
        "       [ 1,  7, 14],\n",
        "       [ 2, 10,  8],\n",
        "       [ 2,  8,  6],\n",
        "       [ 3,  6,  8],\n",
        "       [ 3,  8, 10],\n",
        "       [ 4, 10,  9],\n",
        "       [ 4,  9,  6],\n",
        "       [ 5,  6,  9],\n",
        "       [ 5,  9, 10],\n",
        "       [ 6,  1,  3],\n",
        "       [ 6,  3,  7],\n",
        "       [ 6,  7, 17],\n",
        "       [ 7, 11,  5],\n",
        "       [ 7,  5,  0],\n",
        "       [ 7,  0,  3],\n",
        "       [ 7,  3,  0],\n",
        "       [ 7,  0,  3],\n",
        "       [ 7,  3, 18],\n",
        "       [ 8,  3,  3],\n",
        "       [ 8,  3,  2],\n",
        "       [ 8,  2, 15],\n",
        "       [ 8, 15, 13],\n",
        "       [ 8, 13, 16]])"
       ]
      }
     ],
     "prompt_number": 33
    },
    {
     "cell_type": "code",
     "collapsed": false,
     "input": [
      "type(np.array_split(test_df,[1,3],axis=1))\n",
      "np.array_split(test_df,[1,3],axis=1)"
     ],
     "language": "python",
     "metadata": {},
     "outputs": [
      {
       "metadata": {},
       "output_type": "pyout",
       "prompt_number": 34,
       "text": [
        "[array([[0],\n",
        "        [0],\n",
        "        [0],\n",
        "        [0],\n",
        "        [0],\n",
        "        [1],\n",
        "        [1],\n",
        "        [1],\n",
        "        [1],\n",
        "        [1],\n",
        "        [2],\n",
        "        [2],\n",
        "        [3],\n",
        "        [3],\n",
        "        [4],\n",
        "        [4],\n",
        "        [5],\n",
        "        [5],\n",
        "        [6],\n",
        "        [6],\n",
        "        [6],\n",
        "        [7],\n",
        "        [7],\n",
        "        [7],\n",
        "        [7],\n",
        "        [7],\n",
        "        [7],\n",
        "        [8],\n",
        "        [8],\n",
        "        [8],\n",
        "        [8],\n",
        "        [8]]), array([[ 1,  3],\n",
        "        [ 3,  3],\n",
        "        [ 3, 12],\n",
        "        [12,  7],\n",
        "        [ 7,  4],\n",
        "        [ 1,  3],\n",
        "        [ 3,  3],\n",
        "        [ 3, 12],\n",
        "        [12,  7],\n",
        "        [ 7, 14],\n",
        "        [10,  8],\n",
        "        [ 8,  6],\n",
        "        [ 6,  8],\n",
        "        [ 8, 10],\n",
        "        [10,  9],\n",
        "        [ 9,  6],\n",
        "        [ 6,  9],\n",
        "        [ 9, 10],\n",
        "        [ 1,  3],\n",
        "        [ 3,  7],\n",
        "        [ 7, 17],\n",
        "        [11,  5],\n",
        "        [ 5,  0],\n",
        "        [ 0,  3],\n",
        "        [ 3,  0],\n",
        "        [ 0,  3],\n",
        "        [ 3, 18],\n",
        "        [ 3,  3],\n",
        "        [ 3,  2],\n",
        "        [ 2, 15],\n",
        "        [15, 13],\n",
        "        [13, 16]]), array([], dtype=float64)]"
       ]
      }
     ],
     "prompt_number": 34
    },
    {
     "cell_type": "code",
     "collapsed": false,
     "input": [
      "idx_merge._reshape_ptrs_to_2d_col_vector()"
     ],
     "language": "python",
     "metadata": {},
     "outputs": [
      {
       "metadata": {},
       "output_type": "pyout",
       "prompt_number": 35,
       "text": [
        "ValuesArray([[u'00000'],\n",
        "       [u'00000'],\n",
        "       [u'00000'],\n",
        "       [u'00000'],\n",
        "       [u'00000'],\n",
        "       [u'00001'],\n",
        "       [u'00001'],\n",
        "       [u'00001'],\n",
        "       [u'00001'],\n",
        "       [u'00001'],\n",
        "       [u'00002'],\n",
        "       [u'00002'],\n",
        "       [u'00003'],\n",
        "       [u'00003'],\n",
        "       [u'00004'],\n",
        "       [u'00004'],\n",
        "       [u'00005'],\n",
        "       [u'00005'],\n",
        "       [u'00006'],\n",
        "       [u'00006'],\n",
        "       [u'00006'],\n",
        "       [u'00007'],\n",
        "       [u'00007'],\n",
        "       [u'00007'],\n",
        "       [u'00007'],\n",
        "       [u'00007'],\n",
        "       [u'00007'],\n",
        "       [u'00008'],\n",
        "       [u'00008'],\n",
        "       [u'00008'],\n",
        "       [u'00008'],\n",
        "       [u'00008']], \n",
        "      dtype='<U5')"
       ]
      }
     ],
     "prompt_number": 35
    },
    {
     "cell_type": "code",
     "collapsed": false,
     "input": [
      "test = idx_merge._ptr_array\n",
      "test._eval_cls\n"
     ],
     "language": "python",
     "metadata": {},
     "outputs": [
      {
       "metadata": {},
       "output_type": "pyout",
       "prompt_number": 36,
       "text": [
        "__main__.ValuesArray"
       ]
      }
     ],
     "prompt_number": 36
    },
    {
     "cell_type": "code",
     "collapsed": false,
     "input": [
      "np.concatenate(tuple(map(lambda xx:xx._ptr_array,np.array([idx_merge,text_test_merge]))),axis=1)"
     ],
     "language": "python",
     "metadata": {},
     "outputs": [
      {
       "metadata": {},
       "output_type": "pyout",
       "prompt_number": 37,
       "text": [
        "array([[ 0,  1,  3],\n",
        "       [ 0,  3,  3],\n",
        "       [ 0,  3, 12],\n",
        "       [ 0, 12,  7],\n",
        "       [ 0,  7,  4],\n",
        "       [ 1,  1,  3],\n",
        "       [ 1,  3,  3],\n",
        "       [ 1,  3, 12],\n",
        "       [ 1, 12,  7],\n",
        "       [ 1,  7, 14],\n",
        "       [ 2, 10,  8],\n",
        "       [ 2,  8,  6],\n",
        "       [ 3,  6,  8],\n",
        "       [ 3,  8, 10],\n",
        "       [ 4, 10,  9],\n",
        "       [ 4,  9,  6],\n",
        "       [ 5,  6,  9],\n",
        "       [ 5,  9, 10],\n",
        "       [ 6,  1,  3],\n",
        "       [ 6,  3,  7],\n",
        "       [ 6,  7, 17],\n",
        "       [ 7, 11,  5],\n",
        "       [ 7,  5,  0],\n",
        "       [ 7,  0,  3],\n",
        "       [ 7,  3,  0],\n",
        "       [ 7,  0,  3],\n",
        "       [ 7,  3, 18],\n",
        "       [ 8,  3,  3],\n",
        "       [ 8,  3,  2],\n",
        "       [ 8,  2, 15],\n",
        "       [ 8, 15, 13],\n",
        "       [ 8, 13, 16]])"
       ]
      }
     ],
     "prompt_number": 37
    },
    {
     "cell_type": "code",
     "collapsed": false,
     "input": [],
     "language": "python",
     "metadata": {},
     "outputs": [],
     "prompt_number": 37
    },
    {
     "cell_type": "code",
     "collapsed": false,
     "input": [],
     "language": "python",
     "metadata": {},
     "outputs": [],
     "prompt_number": 37
    },
    {
     "cell_type": "code",
     "collapsed": false,
     "input": [],
     "language": "python",
     "metadata": {},
     "outputs": [],
     "prompt_number": 37
    },
    {
     "cell_type": "code",
     "collapsed": false,
     "input": [],
     "language": "python",
     "metadata": {},
     "outputs": [],
     "prompt_number": 37
    },
    {
     "cell_type": "code",
     "collapsed": false,
     "input": [
      "text_test_merge._ptr_array"
     ],
     "language": "python",
     "metadata": {},
     "outputs": [
      {
       "metadata": {},
       "output_type": "pyout",
       "prompt_number": 38,
       "text": [
        "PtrArray([[ 1,  3],\n",
        "       [ 3,  3],\n",
        "       [ 3, 12],\n",
        "       [12,  7],\n",
        "       [ 7,  4],\n",
        "       [ 1,  3],\n",
        "       [ 3,  3],\n",
        "       [ 3, 12],\n",
        "       [12,  7],\n",
        "       [ 7, 14],\n",
        "       [10,  8],\n",
        "       [ 8,  6],\n",
        "       [ 6,  8],\n",
        "       [ 8, 10],\n",
        "       [10,  9],\n",
        "       [ 9,  6],\n",
        "       [ 6,  9],\n",
        "       [ 9, 10],\n",
        "       [ 1,  3],\n",
        "       [ 3,  7],\n",
        "       [ 7, 17],\n",
        "       [11,  5],\n",
        "       [ 5,  0],\n",
        "       [ 0,  3],\n",
        "       [ 3,  0],\n",
        "       [ 0,  3],\n",
        "       [ 3, 18],\n",
        "       [ 3,  3],\n",
        "       [ 3,  2],\n",
        "       [ 2, 15],\n",
        "       [15, 13],\n",
        "       [13, 16]])"
       ]
      }
     ],
     "prompt_number": 38
    },
    {
     "cell_type": "code",
     "collapsed": false,
     "input": [],
     "language": "python",
     "metadata": {},
     "outputs": [],
     "prompt_number": 38
    },
    {
     "cell_type": "code",
     "collapsed": false,
     "input": [],
     "language": "python",
     "metadata": {},
     "outputs": []
    },
    {
     "cell_type": "code",
     "collapsed": false,
     "input": [],
     "language": "python",
     "metadata": {},
     "outputs": []
    },
    {
     "cell_type": "code",
     "collapsed": false,
     "input": [],
     "language": "python",
     "metadata": {},
     "outputs": []
    },
    {
     "cell_type": "code",
     "collapsed": false,
     "input": [
      "states_data_array_merger = StatesDataArrayMerger(*text_states_data_arrays)\n",
      "test_merge = states_data_array_merger.merge()"
     ],
     "language": "python",
     "metadata": {},
     "outputs": [],
     "prompt_number": 10
    },
    {
     "cell_type": "code",
     "collapsed": false,
     "input": [
      "test_merge._eval"
     ],
     "language": "python",
     "metadata": {},
     "outputs": [
      {
       "metadata": {},
       "output_type": "pyout",
       "prompt_number": 11,
       "text": [
        "ValuesArray([[u'\\u4eca', u'\\u5929'],\n",
        "       [u'\\u5929', u'\\u5929'],\n",
        "       [u'\\u5929', u'\\u6c23'],\n",
        "       [u'\\u6c23', u'\\u5f88'],\n",
        "       [u'\\u5f88', u'\\u597d'],\n",
        "       [u'\\u4eca', u'\\u5929'],\n",
        "       [u'\\u5929', u'\\u5929'],\n",
        "       [u'\\u5929', u'\\u6c23'],\n",
        "       [u'\\u6c23', u'\\u5f88'],\n",
        "       [u'\\u5f88', u'\\u721b'],\n",
        "       [u'\\u6211', u'\\u6068'],\n",
        "       [u'\\u6068', u'\\u5b83'],\n",
        "       [u'\\u5b83', u'\\u6068'],\n",
        "       [u'\\u6068', u'\\u6211'],\n",
        "       [u'\\u6211', u'\\u611b'],\n",
        "       [u'\\u611b', u'\\u5b83'],\n",
        "       [u'\\u5b83', u'\\u611b'],\n",
        "       [u'\\u611b', u'\\u6211'],\n",
        "       [u'\\u4eca', u'\\u5929'],\n",
        "       [u'\\u5929', u'\\u5f88'],\n",
        "       [u'\\u5f88', u'\\u8870'],\n",
        "       [u'\\u65e5', u'\\u5b50'],\n",
        "       [u'\\u5b50', u'\\u4e00'],\n",
        "       [u'\\u4e00', u'\\u5929'],\n",
        "       [u'\\u5929', u'\\u4e00'],\n",
        "       [u'\\u4e00', u'\\u5929'],\n",
        "       [u'\\u5929', u'\\u904e'],\n",
        "       [u'\\u5929', u'\\u5929'],\n",
        "       [u'\\u5929', u'\\u5237'],\n",
        "       [u'\\u5237', u'\\u7259'],\n",
        "       [u'\\u7259', u'\\u6d17'],\n",
        "       [u'\\u6d17', u'\\u81c9']], \n",
        "      dtype='<U1')"
       ]
      }
     ],
     "prompt_number": 11
    },
    {
     "cell_type": "code",
     "collapsed": false,
     "input": [
      "import pandas as pd"
     ],
     "language": "python",
     "metadata": {},
     "outputs": [],
     "prompt_number": 12
    },
    {
     "cell_type": "code",
     "collapsed": false,
     "input": [
      "test_pd_df = pd.DataFrame(test_merge._eval)\n",
      "test_pd_df_gb_size = test_pd_df.groupby([0,1]).size()\n",
      "test_pd_df_gb_size.unstack()"
     ],
     "language": "python",
     "metadata": {},
     "outputs": [
      {
       "html": [
        "<div style=\"max-height:1000px;max-width:1500px;overflow:auto;\">\n",
        "<table border=\"1\" class=\"dataframe\">\n",
        "  <thead>\n",
        "    <tr style=\"text-align: right;\">\n",
        "      <th>1</th>\n",
        "      <th>\u4e00</th>\n",
        "      <th>\u5237</th>\n",
        "      <th>\u5929</th>\n",
        "      <th>\u597d</th>\n",
        "      <th>\u5b50</th>\n",
        "      <th>\u5b83</th>\n",
        "      <th>\u5f88</th>\n",
        "      <th>\u6068</th>\n",
        "      <th>\u611b</th>\n",
        "      <th>\u6211</th>\n",
        "      <th>\u6c23</th>\n",
        "      <th>\u6d17</th>\n",
        "      <th>\u721b</th>\n",
        "      <th>\u7259</th>\n",
        "      <th>\u81c9</th>\n",
        "      <th>\u8870</th>\n",
        "      <th>\u904e</th>\n",
        "    </tr>\n",
        "    <tr>\n",
        "      <th>0</th>\n",
        "      <th></th>\n",
        "      <th></th>\n",
        "      <th></th>\n",
        "      <th></th>\n",
        "      <th></th>\n",
        "      <th></th>\n",
        "      <th></th>\n",
        "      <th></th>\n",
        "      <th></th>\n",
        "      <th></th>\n",
        "      <th></th>\n",
        "      <th></th>\n",
        "      <th></th>\n",
        "      <th></th>\n",
        "      <th></th>\n",
        "      <th></th>\n",
        "      <th></th>\n",
        "    </tr>\n",
        "  </thead>\n",
        "  <tbody>\n",
        "    <tr>\n",
        "      <th>\u4e00</th>\n",
        "      <td>NaN</td>\n",
        "      <td>NaN</td>\n",
        "      <td>  2</td>\n",
        "      <td>NaN</td>\n",
        "      <td>NaN</td>\n",
        "      <td>NaN</td>\n",
        "      <td>NaN</td>\n",
        "      <td>NaN</td>\n",
        "      <td>NaN</td>\n",
        "      <td>NaN</td>\n",
        "      <td>NaN</td>\n",
        "      <td>NaN</td>\n",
        "      <td>NaN</td>\n",
        "      <td>NaN</td>\n",
        "      <td>NaN</td>\n",
        "      <td>NaN</td>\n",
        "      <td>NaN</td>\n",
        "    </tr>\n",
        "    <tr>\n",
        "      <th>\u4eca</th>\n",
        "      <td>NaN</td>\n",
        "      <td>NaN</td>\n",
        "      <td>  3</td>\n",
        "      <td>NaN</td>\n",
        "      <td>NaN</td>\n",
        "      <td>NaN</td>\n",
        "      <td>NaN</td>\n",
        "      <td>NaN</td>\n",
        "      <td>NaN</td>\n",
        "      <td>NaN</td>\n",
        "      <td>NaN</td>\n",
        "      <td>NaN</td>\n",
        "      <td>NaN</td>\n",
        "      <td>NaN</td>\n",
        "      <td>NaN</td>\n",
        "      <td>NaN</td>\n",
        "      <td>NaN</td>\n",
        "    </tr>\n",
        "    <tr>\n",
        "      <th>\u5237</th>\n",
        "      <td>NaN</td>\n",
        "      <td>NaN</td>\n",
        "      <td>NaN</td>\n",
        "      <td>NaN</td>\n",
        "      <td>NaN</td>\n",
        "      <td>NaN</td>\n",
        "      <td>NaN</td>\n",
        "      <td>NaN</td>\n",
        "      <td>NaN</td>\n",
        "      <td>NaN</td>\n",
        "      <td>NaN</td>\n",
        "      <td>NaN</td>\n",
        "      <td>NaN</td>\n",
        "      <td>  1</td>\n",
        "      <td>NaN</td>\n",
        "      <td>NaN</td>\n",
        "      <td>NaN</td>\n",
        "    </tr>\n",
        "    <tr>\n",
        "      <th>\u5929</th>\n",
        "      <td>  1</td>\n",
        "      <td>  1</td>\n",
        "      <td>  3</td>\n",
        "      <td>NaN</td>\n",
        "      <td>NaN</td>\n",
        "      <td>NaN</td>\n",
        "      <td>  1</td>\n",
        "      <td>NaN</td>\n",
        "      <td>NaN</td>\n",
        "      <td>NaN</td>\n",
        "      <td>  2</td>\n",
        "      <td>NaN</td>\n",
        "      <td>NaN</td>\n",
        "      <td>NaN</td>\n",
        "      <td>NaN</td>\n",
        "      <td>NaN</td>\n",
        "      <td>  1</td>\n",
        "    </tr>\n",
        "    <tr>\n",
        "      <th>\u5b50</th>\n",
        "      <td>  1</td>\n",
        "      <td>NaN</td>\n",
        "      <td>NaN</td>\n",
        "      <td>NaN</td>\n",
        "      <td>NaN</td>\n",
        "      <td>NaN</td>\n",
        "      <td>NaN</td>\n",
        "      <td>NaN</td>\n",
        "      <td>NaN</td>\n",
        "      <td>NaN</td>\n",
        "      <td>NaN</td>\n",
        "      <td>NaN</td>\n",
        "      <td>NaN</td>\n",
        "      <td>NaN</td>\n",
        "      <td>NaN</td>\n",
        "      <td>NaN</td>\n",
        "      <td>NaN</td>\n",
        "    </tr>\n",
        "    <tr>\n",
        "      <th>\u5b83</th>\n",
        "      <td>NaN</td>\n",
        "      <td>NaN</td>\n",
        "      <td>NaN</td>\n",
        "      <td>NaN</td>\n",
        "      <td>NaN</td>\n",
        "      <td>NaN</td>\n",
        "      <td>NaN</td>\n",
        "      <td>  1</td>\n",
        "      <td>  1</td>\n",
        "      <td>NaN</td>\n",
        "      <td>NaN</td>\n",
        "      <td>NaN</td>\n",
        "      <td>NaN</td>\n",
        "      <td>NaN</td>\n",
        "      <td>NaN</td>\n",
        "      <td>NaN</td>\n",
        "      <td>NaN</td>\n",
        "    </tr>\n",
        "    <tr>\n",
        "      <th>\u5f88</th>\n",
        "      <td>NaN</td>\n",
        "      <td>NaN</td>\n",
        "      <td>NaN</td>\n",
        "      <td>  1</td>\n",
        "      <td>NaN</td>\n",
        "      <td>NaN</td>\n",
        "      <td>NaN</td>\n",
        "      <td>NaN</td>\n",
        "      <td>NaN</td>\n",
        "      <td>NaN</td>\n",
        "      <td>NaN</td>\n",
        "      <td>NaN</td>\n",
        "      <td>  1</td>\n",
        "      <td>NaN</td>\n",
        "      <td>NaN</td>\n",
        "      <td>  1</td>\n",
        "      <td>NaN</td>\n",
        "    </tr>\n",
        "    <tr>\n",
        "      <th>\u6068</th>\n",
        "      <td>NaN</td>\n",
        "      <td>NaN</td>\n",
        "      <td>NaN</td>\n",
        "      <td>NaN</td>\n",
        "      <td>NaN</td>\n",
        "      <td>  1</td>\n",
        "      <td>NaN</td>\n",
        "      <td>NaN</td>\n",
        "      <td>NaN</td>\n",
        "      <td>  1</td>\n",
        "      <td>NaN</td>\n",
        "      <td>NaN</td>\n",
        "      <td>NaN</td>\n",
        "      <td>NaN</td>\n",
        "      <td>NaN</td>\n",
        "      <td>NaN</td>\n",
        "      <td>NaN</td>\n",
        "    </tr>\n",
        "    <tr>\n",
        "      <th>\u611b</th>\n",
        "      <td>NaN</td>\n",
        "      <td>NaN</td>\n",
        "      <td>NaN</td>\n",
        "      <td>NaN</td>\n",
        "      <td>NaN</td>\n",
        "      <td>  1</td>\n",
        "      <td>NaN</td>\n",
        "      <td>NaN</td>\n",
        "      <td>NaN</td>\n",
        "      <td>  1</td>\n",
        "      <td>NaN</td>\n",
        "      <td>NaN</td>\n",
        "      <td>NaN</td>\n",
        "      <td>NaN</td>\n",
        "      <td>NaN</td>\n",
        "      <td>NaN</td>\n",
        "      <td>NaN</td>\n",
        "    </tr>\n",
        "    <tr>\n",
        "      <th>\u6211</th>\n",
        "      <td>NaN</td>\n",
        "      <td>NaN</td>\n",
        "      <td>NaN</td>\n",
        "      <td>NaN</td>\n",
        "      <td>NaN</td>\n",
        "      <td>NaN</td>\n",
        "      <td>NaN</td>\n",
        "      <td>  1</td>\n",
        "      <td>  1</td>\n",
        "      <td>NaN</td>\n",
        "      <td>NaN</td>\n",
        "      <td>NaN</td>\n",
        "      <td>NaN</td>\n",
        "      <td>NaN</td>\n",
        "      <td>NaN</td>\n",
        "      <td>NaN</td>\n",
        "      <td>NaN</td>\n",
        "    </tr>\n",
        "    <tr>\n",
        "      <th>\u65e5</th>\n",
        "      <td>NaN</td>\n",
        "      <td>NaN</td>\n",
        "      <td>NaN</td>\n",
        "      <td>NaN</td>\n",
        "      <td>  1</td>\n",
        "      <td>NaN</td>\n",
        "      <td>NaN</td>\n",
        "      <td>NaN</td>\n",
        "      <td>NaN</td>\n",
        "      <td>NaN</td>\n",
        "      <td>NaN</td>\n",
        "      <td>NaN</td>\n",
        "      <td>NaN</td>\n",
        "      <td>NaN</td>\n",
        "      <td>NaN</td>\n",
        "      <td>NaN</td>\n",
        "      <td>NaN</td>\n",
        "    </tr>\n",
        "    <tr>\n",
        "      <th>\u6c23</th>\n",
        "      <td>NaN</td>\n",
        "      <td>NaN</td>\n",
        "      <td>NaN</td>\n",
        "      <td>NaN</td>\n",
        "      <td>NaN</td>\n",
        "      <td>NaN</td>\n",
        "      <td>  2</td>\n",
        "      <td>NaN</td>\n",
        "      <td>NaN</td>\n",
        "      <td>NaN</td>\n",
        "      <td>NaN</td>\n",
        "      <td>NaN</td>\n",
        "      <td>NaN</td>\n",
        "      <td>NaN</td>\n",
        "      <td>NaN</td>\n",
        "      <td>NaN</td>\n",
        "      <td>NaN</td>\n",
        "    </tr>\n",
        "    <tr>\n",
        "      <th>\u6d17</th>\n",
        "      <td>NaN</td>\n",
        "      <td>NaN</td>\n",
        "      <td>NaN</td>\n",
        "      <td>NaN</td>\n",
        "      <td>NaN</td>\n",
        "      <td>NaN</td>\n",
        "      <td>NaN</td>\n",
        "      <td>NaN</td>\n",
        "      <td>NaN</td>\n",
        "      <td>NaN</td>\n",
        "      <td>NaN</td>\n",
        "      <td>NaN</td>\n",
        "      <td>NaN</td>\n",
        "      <td>NaN</td>\n",
        "      <td>  1</td>\n",
        "      <td>NaN</td>\n",
        "      <td>NaN</td>\n",
        "    </tr>\n",
        "    <tr>\n",
        "      <th>\u7259</th>\n",
        "      <td>NaN</td>\n",
        "      <td>NaN</td>\n",
        "      <td>NaN</td>\n",
        "      <td>NaN</td>\n",
        "      <td>NaN</td>\n",
        "      <td>NaN</td>\n",
        "      <td>NaN</td>\n",
        "      <td>NaN</td>\n",
        "      <td>NaN</td>\n",
        "      <td>NaN</td>\n",
        "      <td>NaN</td>\n",
        "      <td>  1</td>\n",
        "      <td>NaN</td>\n",
        "      <td>NaN</td>\n",
        "      <td>NaN</td>\n",
        "      <td>NaN</td>\n",
        "      <td>NaN</td>\n",
        "    </tr>\n",
        "  </tbody>\n",
        "</table>\n",
        "<p>14 rows \u00d7 17 columns</p>\n",
        "</div>"
       ],
       "metadata": {},
       "output_type": "pyout",
       "prompt_number": 13,
       "text": [
        "1   \u4e00   \u5237   \u5929   \u597d   \u5b50   \u5b83   \u5f88   \u6068   \u611b   \u6211   \u6c23   \u6d17   \u721b   \u7259   \u81c9   \u8870   \u904e\n",
        "0                                                                    \n",
        "\u4e00 NaN NaN   2 NaN NaN NaN NaN NaN NaN NaN NaN NaN NaN NaN NaN NaN NaN\n",
        "\u4eca NaN NaN   3 NaN NaN NaN NaN NaN NaN NaN NaN NaN NaN NaN NaN NaN NaN\n",
        "\u5237 NaN NaN NaN NaN NaN NaN NaN NaN NaN NaN NaN NaN NaN   1 NaN NaN NaN\n",
        "\u5929   1   1   3 NaN NaN NaN   1 NaN NaN NaN   2 NaN NaN NaN NaN NaN   1\n",
        "\u5b50   1 NaN NaN NaN NaN NaN NaN NaN NaN NaN NaN NaN NaN NaN NaN NaN NaN\n",
        "\u5b83 NaN NaN NaN NaN NaN NaN NaN   1   1 NaN NaN NaN NaN NaN NaN NaN NaN\n",
        "\u5f88 NaN NaN NaN   1 NaN NaN NaN NaN NaN NaN NaN NaN   1 NaN NaN   1 NaN\n",
        "\u6068 NaN NaN NaN NaN NaN   1 NaN NaN NaN   1 NaN NaN NaN NaN NaN NaN NaN\n",
        "\u611b NaN NaN NaN NaN NaN   1 NaN NaN NaN   1 NaN NaN NaN NaN NaN NaN NaN\n",
        "\u6211 NaN NaN NaN NaN NaN NaN NaN   1   1 NaN NaN NaN NaN NaN NaN NaN NaN\n",
        "\u65e5 NaN NaN NaN NaN   1 NaN NaN NaN NaN NaN NaN NaN NaN NaN NaN NaN NaN\n",
        "\u6c23 NaN NaN NaN NaN NaN NaN   2 NaN NaN NaN NaN NaN NaN NaN NaN NaN NaN\n",
        "\u6d17 NaN NaN NaN NaN NaN NaN NaN NaN NaN NaN NaN NaN NaN NaN   1 NaN NaN\n",
        "\u7259 NaN NaN NaN NaN NaN NaN NaN NaN NaN NaN NaN   1 NaN NaN NaN NaN NaN\n",
        "\n",
        "[14 rows x 17 columns]"
       ]
      }
     ],
     "prompt_number": 13
    },
    {
     "cell_type": "code",
     "collapsed": false,
     "input": [
      "text_val_arrays2 = map(lambda xx:ValuesArray(list(tkr.ngram(xx,[1]))),test_text_df[\"text\"].values)\n",
      "text_states_data_arrays2 = map(lambda xx:StatesDataArray(*xx.decompose_into_states_ptrs()).ngram(3), text_val_arrays2)\n",
      "states_data_array_merger2 = StatesDataArrayMerger(*text_states_data_arrays2)\n",
      "test_merge2 = states_data_array_merger2.merge()"
     ],
     "language": "python",
     "metadata": {},
     "outputs": [],
     "prompt_number": 14
    },
    {
     "cell_type": "code",
     "collapsed": false,
     "input": [
      "print test_merge2._ptr_array\n",
      "test_merge2._eval"
     ],
     "language": "python",
     "metadata": {},
     "outputs": [
      {
       "output_type": "stream",
       "stream": "stdout",
       "text": [
        "[[ 1  3  3]\n",
        " [ 3  3 12]\n",
        " [ 3 12  7]\n",
        " [12  7  4]\n",
        " [ 1  3  3]\n",
        " [ 3  3 12]\n",
        " [ 3 12  7]\n",
        " [12  7 14]\n",
        " [10  8  6]\n",
        " [ 6  8 10]\n",
        " [10  9  6]\n",
        " [ 6  9 10]\n",
        " [ 1  3  7]\n",
        " [ 3  7 17]\n",
        " [11  5  0]\n",
        " [ 5  0  3]\n",
        " [ 0  3  0]\n",
        " [ 3  0  3]\n",
        " [ 0  3 18]\n",
        " [ 3  3  2]\n",
        " [ 3  2 15]\n",
        " [ 2 15 13]\n",
        " [15 13 16]]\n"
       ]
      },
      {
       "metadata": {},
       "output_type": "pyout",
       "prompt_number": 15,
       "text": [
        "ValuesArray([[u'\\u4eca', u'\\u5929', u'\\u5929'],\n",
        "       [u'\\u5929', u'\\u5929', u'\\u6c23'],\n",
        "       [u'\\u5929', u'\\u6c23', u'\\u5f88'],\n",
        "       [u'\\u6c23', u'\\u5f88', u'\\u597d'],\n",
        "       [u'\\u4eca', u'\\u5929', u'\\u5929'],\n",
        "       [u'\\u5929', u'\\u5929', u'\\u6c23'],\n",
        "       [u'\\u5929', u'\\u6c23', u'\\u5f88'],\n",
        "       [u'\\u6c23', u'\\u5f88', u'\\u721b'],\n",
        "       [u'\\u6211', u'\\u6068', u'\\u5b83'],\n",
        "       [u'\\u5b83', u'\\u6068', u'\\u6211'],\n",
        "       [u'\\u6211', u'\\u611b', u'\\u5b83'],\n",
        "       [u'\\u5b83', u'\\u611b', u'\\u6211'],\n",
        "       [u'\\u4eca', u'\\u5929', u'\\u5f88'],\n",
        "       [u'\\u5929', u'\\u5f88', u'\\u8870'],\n",
        "       [u'\\u65e5', u'\\u5b50', u'\\u4e00'],\n",
        "       [u'\\u5b50', u'\\u4e00', u'\\u5929'],\n",
        "       [u'\\u4e00', u'\\u5929', u'\\u4e00'],\n",
        "       [u'\\u5929', u'\\u4e00', u'\\u5929'],\n",
        "       [u'\\u4e00', u'\\u5929', u'\\u904e'],\n",
        "       [u'\\u5929', u'\\u5929', u'\\u5237'],\n",
        "       [u'\\u5929', u'\\u5237', u'\\u7259'],\n",
        "       [u'\\u5237', u'\\u7259', u'\\u6d17'],\n",
        "       [u'\\u7259', u'\\u6d17', u'\\u81c9']], \n",
        "      dtype='<U1')"
       ]
      }
     ],
     "prompt_number": 15
    },
    {
     "cell_type": "code",
     "collapsed": false,
     "input": [
      "test_pd_df2 = pd.DataFrame(test_merge2._eval)\n",
      "test_pd_df2_gb_size = test_pd_df2.groupby([0,1,2]).size()\n",
      "test_pd_df2_gb_size.unstack()"
     ],
     "language": "python",
     "metadata": {},
     "outputs": [
      {
       "html": [
        "<div style=\"max-height:1000px;max-width:1500px;overflow:auto;\">\n",
        "<table border=\"1\" class=\"dataframe\">\n",
        "  <thead>\n",
        "    <tr style=\"text-align: right;\">\n",
        "      <th></th>\n",
        "      <th>2</th>\n",
        "      <th>\u4e00</th>\n",
        "      <th>\u5237</th>\n",
        "      <th>\u5929</th>\n",
        "      <th>\u597d</th>\n",
        "      <th>\u5b83</th>\n",
        "      <th>\u5f88</th>\n",
        "      <th>\u6211</th>\n",
        "      <th>\u6c23</th>\n",
        "      <th>\u6d17</th>\n",
        "      <th>\u721b</th>\n",
        "      <th>\u7259</th>\n",
        "      <th>\u81c9</th>\n",
        "      <th>\u8870</th>\n",
        "      <th>\u904e</th>\n",
        "    </tr>\n",
        "    <tr>\n",
        "      <th>0</th>\n",
        "      <th>1</th>\n",
        "      <th></th>\n",
        "      <th></th>\n",
        "      <th></th>\n",
        "      <th></th>\n",
        "      <th></th>\n",
        "      <th></th>\n",
        "      <th></th>\n",
        "      <th></th>\n",
        "      <th></th>\n",
        "      <th></th>\n",
        "      <th></th>\n",
        "      <th></th>\n",
        "      <th></th>\n",
        "      <th></th>\n",
        "    </tr>\n",
        "  </thead>\n",
        "  <tbody>\n",
        "    <tr>\n",
        "      <th>\u4e00</th>\n",
        "      <th>\u5929</th>\n",
        "      <td>  1</td>\n",
        "      <td>NaN</td>\n",
        "      <td>NaN</td>\n",
        "      <td>NaN</td>\n",
        "      <td>NaN</td>\n",
        "      <td>NaN</td>\n",
        "      <td>NaN</td>\n",
        "      <td>NaN</td>\n",
        "      <td>NaN</td>\n",
        "      <td>NaN</td>\n",
        "      <td>NaN</td>\n",
        "      <td>NaN</td>\n",
        "      <td>NaN</td>\n",
        "      <td>  1</td>\n",
        "    </tr>\n",
        "    <tr>\n",
        "      <th>\u4eca</th>\n",
        "      <th>\u5929</th>\n",
        "      <td>NaN</td>\n",
        "      <td>NaN</td>\n",
        "      <td>  2</td>\n",
        "      <td>NaN</td>\n",
        "      <td>NaN</td>\n",
        "      <td>  1</td>\n",
        "      <td>NaN</td>\n",
        "      <td>NaN</td>\n",
        "      <td>NaN</td>\n",
        "      <td>NaN</td>\n",
        "      <td>NaN</td>\n",
        "      <td>NaN</td>\n",
        "      <td>NaN</td>\n",
        "      <td>NaN</td>\n",
        "    </tr>\n",
        "    <tr>\n",
        "      <th>\u5237</th>\n",
        "      <th>\u7259</th>\n",
        "      <td>NaN</td>\n",
        "      <td>NaN</td>\n",
        "      <td>NaN</td>\n",
        "      <td>NaN</td>\n",
        "      <td>NaN</td>\n",
        "      <td>NaN</td>\n",
        "      <td>NaN</td>\n",
        "      <td>NaN</td>\n",
        "      <td>  1</td>\n",
        "      <td>NaN</td>\n",
        "      <td>NaN</td>\n",
        "      <td>NaN</td>\n",
        "      <td>NaN</td>\n",
        "      <td>NaN</td>\n",
        "    </tr>\n",
        "    <tr>\n",
        "      <th rowspan=\"5\" valign=\"top\">\u5929</th>\n",
        "      <th>\u4e00</th>\n",
        "      <td>NaN</td>\n",
        "      <td>NaN</td>\n",
        "      <td>  1</td>\n",
        "      <td>NaN</td>\n",
        "      <td>NaN</td>\n",
        "      <td>NaN</td>\n",
        "      <td>NaN</td>\n",
        "      <td>NaN</td>\n",
        "      <td>NaN</td>\n",
        "      <td>NaN</td>\n",
        "      <td>NaN</td>\n",
        "      <td>NaN</td>\n",
        "      <td>NaN</td>\n",
        "      <td>NaN</td>\n",
        "    </tr>\n",
        "    <tr>\n",
        "      <th>\u5237</th>\n",
        "      <td>NaN</td>\n",
        "      <td>NaN</td>\n",
        "      <td>NaN</td>\n",
        "      <td>NaN</td>\n",
        "      <td>NaN</td>\n",
        "      <td>NaN</td>\n",
        "      <td>NaN</td>\n",
        "      <td>NaN</td>\n",
        "      <td>NaN</td>\n",
        "      <td>NaN</td>\n",
        "      <td>  1</td>\n",
        "      <td>NaN</td>\n",
        "      <td>NaN</td>\n",
        "      <td>NaN</td>\n",
        "    </tr>\n",
        "    <tr>\n",
        "      <th>\u5929</th>\n",
        "      <td>NaN</td>\n",
        "      <td>  1</td>\n",
        "      <td>NaN</td>\n",
        "      <td>NaN</td>\n",
        "      <td>NaN</td>\n",
        "      <td>NaN</td>\n",
        "      <td>NaN</td>\n",
        "      <td>  2</td>\n",
        "      <td>NaN</td>\n",
        "      <td>NaN</td>\n",
        "      <td>NaN</td>\n",
        "      <td>NaN</td>\n",
        "      <td>NaN</td>\n",
        "      <td>NaN</td>\n",
        "    </tr>\n",
        "    <tr>\n",
        "      <th>\u5f88</th>\n",
        "      <td>NaN</td>\n",
        "      <td>NaN</td>\n",
        "      <td>NaN</td>\n",
        "      <td>NaN</td>\n",
        "      <td>NaN</td>\n",
        "      <td>NaN</td>\n",
        "      <td>NaN</td>\n",
        "      <td>NaN</td>\n",
        "      <td>NaN</td>\n",
        "      <td>NaN</td>\n",
        "      <td>NaN</td>\n",
        "      <td>NaN</td>\n",
        "      <td>  1</td>\n",
        "      <td>NaN</td>\n",
        "    </tr>\n",
        "    <tr>\n",
        "      <th>\u6c23</th>\n",
        "      <td>NaN</td>\n",
        "      <td>NaN</td>\n",
        "      <td>NaN</td>\n",
        "      <td>NaN</td>\n",
        "      <td>NaN</td>\n",
        "      <td>  2</td>\n",
        "      <td>NaN</td>\n",
        "      <td>NaN</td>\n",
        "      <td>NaN</td>\n",
        "      <td>NaN</td>\n",
        "      <td>NaN</td>\n",
        "      <td>NaN</td>\n",
        "      <td>NaN</td>\n",
        "      <td>NaN</td>\n",
        "    </tr>\n",
        "    <tr>\n",
        "      <th>\u5b50</th>\n",
        "      <th>\u4e00</th>\n",
        "      <td>NaN</td>\n",
        "      <td>NaN</td>\n",
        "      <td>  1</td>\n",
        "      <td>NaN</td>\n",
        "      <td>NaN</td>\n",
        "      <td>NaN</td>\n",
        "      <td>NaN</td>\n",
        "      <td>NaN</td>\n",
        "      <td>NaN</td>\n",
        "      <td>NaN</td>\n",
        "      <td>NaN</td>\n",
        "      <td>NaN</td>\n",
        "      <td>NaN</td>\n",
        "      <td>NaN</td>\n",
        "    </tr>\n",
        "    <tr>\n",
        "      <th rowspan=\"2\" valign=\"top\">\u5b83</th>\n",
        "      <th>\u6068</th>\n",
        "      <td>NaN</td>\n",
        "      <td>NaN</td>\n",
        "      <td>NaN</td>\n",
        "      <td>NaN</td>\n",
        "      <td>NaN</td>\n",
        "      <td>NaN</td>\n",
        "      <td>  1</td>\n",
        "      <td>NaN</td>\n",
        "      <td>NaN</td>\n",
        "      <td>NaN</td>\n",
        "      <td>NaN</td>\n",
        "      <td>NaN</td>\n",
        "      <td>NaN</td>\n",
        "      <td>NaN</td>\n",
        "    </tr>\n",
        "    <tr>\n",
        "      <th>\u611b</th>\n",
        "      <td>NaN</td>\n",
        "      <td>NaN</td>\n",
        "      <td>NaN</td>\n",
        "      <td>NaN</td>\n",
        "      <td>NaN</td>\n",
        "      <td>NaN</td>\n",
        "      <td>  1</td>\n",
        "      <td>NaN</td>\n",
        "      <td>NaN</td>\n",
        "      <td>NaN</td>\n",
        "      <td>NaN</td>\n",
        "      <td>NaN</td>\n",
        "      <td>NaN</td>\n",
        "      <td>NaN</td>\n",
        "    </tr>\n",
        "    <tr>\n",
        "      <th rowspan=\"2\" valign=\"top\">\u6211</th>\n",
        "      <th>\u6068</th>\n",
        "      <td>NaN</td>\n",
        "      <td>NaN</td>\n",
        "      <td>NaN</td>\n",
        "      <td>NaN</td>\n",
        "      <td>  1</td>\n",
        "      <td>NaN</td>\n",
        "      <td>NaN</td>\n",
        "      <td>NaN</td>\n",
        "      <td>NaN</td>\n",
        "      <td>NaN</td>\n",
        "      <td>NaN</td>\n",
        "      <td>NaN</td>\n",
        "      <td>NaN</td>\n",
        "      <td>NaN</td>\n",
        "    </tr>\n",
        "    <tr>\n",
        "      <th>\u611b</th>\n",
        "      <td>NaN</td>\n",
        "      <td>NaN</td>\n",
        "      <td>NaN</td>\n",
        "      <td>NaN</td>\n",
        "      <td>  1</td>\n",
        "      <td>NaN</td>\n",
        "      <td>NaN</td>\n",
        "      <td>NaN</td>\n",
        "      <td>NaN</td>\n",
        "      <td>NaN</td>\n",
        "      <td>NaN</td>\n",
        "      <td>NaN</td>\n",
        "      <td>NaN</td>\n",
        "      <td>NaN</td>\n",
        "    </tr>\n",
        "    <tr>\n",
        "      <th>\u65e5</th>\n",
        "      <th>\u5b50</th>\n",
        "      <td>  1</td>\n",
        "      <td>NaN</td>\n",
        "      <td>NaN</td>\n",
        "      <td>NaN</td>\n",
        "      <td>NaN</td>\n",
        "      <td>NaN</td>\n",
        "      <td>NaN</td>\n",
        "      <td>NaN</td>\n",
        "      <td>NaN</td>\n",
        "      <td>NaN</td>\n",
        "      <td>NaN</td>\n",
        "      <td>NaN</td>\n",
        "      <td>NaN</td>\n",
        "      <td>NaN</td>\n",
        "    </tr>\n",
        "    <tr>\n",
        "      <th>\u6c23</th>\n",
        "      <th>\u5f88</th>\n",
        "      <td>NaN</td>\n",
        "      <td>NaN</td>\n",
        "      <td>NaN</td>\n",
        "      <td>  1</td>\n",
        "      <td>NaN</td>\n",
        "      <td>NaN</td>\n",
        "      <td>NaN</td>\n",
        "      <td>NaN</td>\n",
        "      <td>NaN</td>\n",
        "      <td>  1</td>\n",
        "      <td>NaN</td>\n",
        "      <td>NaN</td>\n",
        "      <td>NaN</td>\n",
        "      <td>NaN</td>\n",
        "    </tr>\n",
        "    <tr>\n",
        "      <th>\u7259</th>\n",
        "      <th>\u6d17</th>\n",
        "      <td>NaN</td>\n",
        "      <td>NaN</td>\n",
        "      <td>NaN</td>\n",
        "      <td>NaN</td>\n",
        "      <td>NaN</td>\n",
        "      <td>NaN</td>\n",
        "      <td>NaN</td>\n",
        "      <td>NaN</td>\n",
        "      <td>NaN</td>\n",
        "      <td>NaN</td>\n",
        "      <td>NaN</td>\n",
        "      <td>  1</td>\n",
        "      <td>NaN</td>\n",
        "      <td>NaN</td>\n",
        "    </tr>\n",
        "  </tbody>\n",
        "</table>\n",
        "<p>16 rows \u00d7 14 columns</p>\n",
        "</div>"
       ],
       "metadata": {},
       "output_type": "pyout",
       "prompt_number": 16,
       "text": [
        "2     \u4e00   \u5237   \u5929   \u597d   \u5b83   \u5f88   \u6211   \u6c23   \u6d17   \u721b   \u7259   \u81c9   \u8870   \u904e\n",
        "0 1                                                        \n",
        "\u4e00 \u5929   1 NaN NaN NaN NaN NaN NaN NaN NaN NaN NaN NaN NaN   1\n",
        "\u4eca \u5929 NaN NaN   2 NaN NaN   1 NaN NaN NaN NaN NaN NaN NaN NaN\n",
        "\u5237 \u7259 NaN NaN NaN NaN NaN NaN NaN NaN   1 NaN NaN NaN NaN NaN\n",
        "\u5929 \u4e00 NaN NaN   1 NaN NaN NaN NaN NaN NaN NaN NaN NaN NaN NaN\n",
        "  \u5237 NaN NaN NaN NaN NaN NaN NaN NaN NaN NaN   1 NaN NaN NaN\n",
        "  \u5929 NaN   1 NaN NaN NaN NaN NaN   2 NaN NaN NaN NaN NaN NaN\n",
        "  \u5f88 NaN NaN NaN NaN NaN NaN NaN NaN NaN NaN NaN NaN   1 NaN\n",
        "  \u6c23 NaN NaN NaN NaN NaN   2 NaN NaN NaN NaN NaN NaN NaN NaN\n",
        "\u5b50 \u4e00 NaN NaN   1 NaN NaN NaN NaN NaN NaN NaN NaN NaN NaN NaN\n",
        "\u5b83 \u6068 NaN NaN NaN NaN NaN NaN   1 NaN NaN NaN NaN NaN NaN NaN\n",
        "  \u611b NaN NaN NaN NaN NaN NaN   1 NaN NaN NaN NaN NaN NaN NaN\n",
        "\u6211 \u6068 NaN NaN NaN NaN   1 NaN NaN NaN NaN NaN NaN NaN NaN NaN\n",
        "  \u611b NaN NaN NaN NaN   1 NaN NaN NaN NaN NaN NaN NaN NaN NaN\n",
        "\u65e5 \u5b50   1 NaN NaN NaN NaN NaN NaN NaN NaN NaN NaN NaN NaN NaN\n",
        "\u6c23 \u5f88 NaN NaN NaN   1 NaN NaN NaN NaN NaN   1 NaN NaN NaN NaN\n",
        "\u7259 \u6d17 NaN NaN NaN NaN NaN NaN NaN NaN NaN NaN NaN   1 NaN NaN\n",
        "\n",
        "[16 rows x 14 columns]"
       ]
      }
     ],
     "prompt_number": 16
    },
    {
     "cell_type": "code",
     "collapsed": false,
     "input": [],
     "language": "python",
     "metadata": {},
     "outputs": [],
     "prompt_number": 16
    },
    {
     "cell_type": "code",
     "collapsed": false,
     "input": [],
     "language": "python",
     "metadata": {},
     "outputs": []
    },
    {
     "cell_type": "code",
     "collapsed": false,
     "input": [],
     "language": "python",
     "metadata": {},
     "outputs": []
    },
    {
     "cell_type": "code",
     "collapsed": false,
     "input": [],
     "language": "python",
     "metadata": {},
     "outputs": []
    },
    {
     "cell_type": "code",
     "collapsed": false,
     "input": [],
     "language": "python",
     "metadata": {},
     "outputs": []
    },
    {
     "cell_type": "code",
     "collapsed": false,
     "input": [],
     "language": "python",
     "metadata": {},
     "outputs": []
    },
    {
     "cell_type": "code",
     "collapsed": false,
     "input": [],
     "language": "python",
     "metadata": {},
     "outputs": []
    },
    {
     "cell_type": "code",
     "collapsed": false,
     "input": [],
     "language": "python",
     "metadata": {},
     "outputs": [],
     "prompt_number": 394
    },
    {
     "cell_type": "code",
     "collapsed": false,
     "input": [
      "val_array1 = ValuesArray(list(tkr.ngram(test_text_df[\"text\"].values[0],[1])))\n",
      "val_array2 = ValuesArray(list(tkr.ngram(test_text_df[\"text\"].values[1],[1])))\n",
      "val_array3 = ValuesArray(list(tkr.ngram(test_text_df[\"text\"].values[2],[1])))\n",
      "val_array4 = ValuesArray(list(tkr.ngram(test_text_df[\"text\"].values[5],[1])))\n",
      "states_data_array1 = StatesDataArray(*val_array1.decompose_into_states_ptrs())#.ngram(2)\n",
      "states_data_array2 = StatesDataArray(*val_array2.decompose_into_states_ptrs())#.ngram(2)\n",
      "states_data_array3 = StatesDataArray(*val_array3.decompose_into_states_ptrs())#.ngram(2)\n",
      "states_data_array4 = StatesDataArray(*val_array4.decompose_into_states_ptrs())#.ngram(2)"
     ],
     "language": "python",
     "metadata": {},
     "outputs": [],
     "prompt_number": 30
    },
    {
     "cell_type": "code",
     "collapsed": false,
     "input": [],
     "language": "python",
     "metadata": {},
     "outputs": [],
     "prompt_number": 30
    },
    {
     "cell_type": "code",
     "collapsed": false,
     "input": [],
     "language": "python",
     "metadata": {},
     "outputs": [],
     "prompt_number": 30
    },
    {
     "cell_type": "code",
     "collapsed": false,
     "input": [
      "#states_data_array1.ngram(2,update=False)"
     ],
     "language": "python",
     "metadata": {},
     "outputs": [],
     "prompt_number": 31
    },
    {
     "cell_type": "code",
     "collapsed": false,
     "input": [
      "#states_data_array1._states_dict._referred_by"
     ],
     "language": "python",
     "metadata": {},
     "outputs": [],
     "prompt_number": 32
    },
    {
     "cell_type": "code",
     "collapsed": false,
     "input": [
      "idx_array1 = ValuesArray(test_text_df[\"idx\"].values[0])\n",
      "states_idx_array1 = StatesDataArray(*idx_array1.decompose_into_states_ptrs()).extend_rows(states_data_array1)\n",
      "#states_idx_array1 = StatesDataArray(*idx_array1.decompose_into_states_ptrs()).extend_rows(states_data_array1)\n",
      "\n"
     ],
     "language": "python",
     "metadata": {},
     "outputs": [],
     "prompt_number": 37
    },
    {
     "cell_type": "code",
     "collapsed": false,
     "input": [
      "test = states_idx_array1\n",
      "test"
     ],
     "language": "python",
     "metadata": {},
     "outputs": [
      {
       "metadata": {},
       "output_type": "pyout",
       "prompt_number": 38,
       "text": [
        "ValuesArray([u'00000', u'00000', u'00000', u'00000', u'00000', u'00000'], \n",
        "      dtype='<U5')"
       ]
      }
     ],
     "prompt_number": 38
    },
    {
     "cell_type": "code",
     "collapsed": false,
     "input": [
      "test._states_dict[test._ptr_array]"
     ],
     "language": "python",
     "metadata": {},
     "outputs": [
      {
       "metadata": {},
       "output_type": "pyout",
       "prompt_number": 39,
       "text": [
        "ValuesArray([u'00000', u'00000', u'00000', u'00000', u'00000', u'00000'], \n",
        "      dtype='<U5')"
       ]
      }
     ],
     "prompt_number": 39
    },
    {
     "cell_type": "code",
     "collapsed": false,
     "input": [
      "states_data_array1"
     ],
     "language": "python",
     "metadata": {},
     "outputs": [
      {
       "metadata": {},
       "output_type": "pyout",
       "prompt_number": 40,
       "text": [
        "ValuesArray([u'\\u4eca', u'\\u5929', u'\\u5929', u'\\u6c23', u'\\u5f88', u'\\u597d'], \n",
        "      dtype='<U1')"
       ]
      }
     ],
     "prompt_number": 40
    },
    {
     "cell_type": "code",
     "collapsed": false,
     "input": [],
     "language": "python",
     "metadata": {},
     "outputs": [],
     "prompt_number": 40
    },
    {
     "cell_type": "code",
     "collapsed": false,
     "input": [
      "states_data_array1._dtype.type"
     ],
     "language": "python",
     "metadata": {},
     "outputs": [
      {
       "metadata": {},
       "output_type": "pyout",
       "prompt_number": 402,
       "text": [
        "numpy.unicode_"
       ]
      }
     ],
     "prompt_number": 402
    },
    {
     "cell_type": "code",
     "collapsed": false,
     "input": [
      "states_data_array1._ptr_array"
     ],
     "language": "python",
     "metadata": {},
     "outputs": [
      {
       "metadata": {},
       "output_type": "pyout",
       "prompt_number": 403,
       "text": [
        "PtrArray([0, 1, 1, 4, 3, 2])"
       ]
      }
     ],
     "prompt_number": 403
    },
    {
     "cell_type": "code",
     "collapsed": false,
     "input": [],
     "language": "python",
     "metadata": {},
     "outputs": [],
     "prompt_number": 403
    },
    {
     "cell_type": "code",
     "collapsed": false,
     "input": [
      "states_data_array_merger = StatesDataArrayMerger(states_data_array1,\n",
      "                                                 states_data_array2,\n",
      "                                                 states_data_array3,\n",
      "                                                 states_data_array4)\n",
      "states_data_array_merger"
     ],
     "language": "python",
     "metadata": {},
     "outputs": [
      {
       "metadata": {},
       "output_type": "pyout",
       "prompt_number": 404,
       "text": [
        "[ValuesArray([u'\\u4eca', u'\\u5929', u'\\u5929', u'\\u6c23', u'\\u5f88', u'\\u597d'], \n",
        "       dtype='<U1'),\n",
        " ValuesArray([u'\\u4eca', u'\\u5929', u'\\u5929', u'\\u6c23', u'\\u5f88', u'\\u721b'], \n",
        "       dtype='<U1'),\n",
        " ValuesArray([u'\\u6211', u'\\u6068', u'\\u5b83'], \n",
        "       dtype='<U1'),\n",
        " ValuesArray([u'\\u5b83', u'\\u611b', u'\\u6211'], \n",
        "       dtype='<U1')]"
       ]
      }
     ],
     "prompt_number": 404
    },
    {
     "cell_type": "code",
     "collapsed": false,
     "input": [
      "test_merge = states_data_array_merger.merge()"
     ],
     "language": "python",
     "metadata": {},
     "outputs": [],
     "prompt_number": 405
    },
    {
     "cell_type": "code",
     "collapsed": false,
     "input": [
      "test_merge._eval"
     ],
     "language": "python",
     "metadata": {},
     "outputs": [
      {
       "metadata": {},
       "output_type": "pyout",
       "prompt_number": 406,
       "text": [
        "ValuesArray([u'\\u4eca', u'\\u5929', u'\\u5929', u'\\u6c23', u'\\u5f88', u'\\u597d',\n",
        "       u'\\u4eca', u'\\u5929', u'\\u5929', u'\\u6c23', u'\\u5f88', u'\\u721b',\n",
        "       u'\\u6211', u'\\u6068', u'\\u5b83', u'\\u5b83', u'\\u611b', u'\\u6211'], \n",
        "      dtype='<U1')"
       ]
      }
     ],
     "prompt_number": 406
    },
    {
     "cell_type": "code",
     "collapsed": false,
     "input": [],
     "language": "python",
     "metadata": {},
     "outputs": [],
     "prompt_number": 301
    },
    {
     "cell_type": "code",
     "collapsed": false,
     "input": [
      "test_df = pd.DataFrame(test_merge._eval)\n",
      "test_df"
     ],
     "language": "python",
     "metadata": {},
     "outputs": [
      {
       "html": [
        "<div style=\"max-height:1000px;max-width:1500px;overflow:auto;\">\n",
        "<table border=\"1\" class=\"dataframe\">\n",
        "  <thead>\n",
        "    <tr style=\"text-align: right;\">\n",
        "      <th></th>\n",
        "      <th>0</th>\n",
        "    </tr>\n",
        "  </thead>\n",
        "  <tbody>\n",
        "    <tr>\n",
        "      <th>0 </th>\n",
        "      <td> \u4eca</td>\n",
        "    </tr>\n",
        "    <tr>\n",
        "      <th>1 </th>\n",
        "      <td> \u5929</td>\n",
        "    </tr>\n",
        "    <tr>\n",
        "      <th>2 </th>\n",
        "      <td> \u5929</td>\n",
        "    </tr>\n",
        "    <tr>\n",
        "      <th>3 </th>\n",
        "      <td> \u6c23</td>\n",
        "    </tr>\n",
        "    <tr>\n",
        "      <th>4 </th>\n",
        "      <td> \u5f88</td>\n",
        "    </tr>\n",
        "    <tr>\n",
        "      <th>5 </th>\n",
        "      <td> \u597d</td>\n",
        "    </tr>\n",
        "    <tr>\n",
        "      <th>6 </th>\n",
        "      <td> \u4eca</td>\n",
        "    </tr>\n",
        "    <tr>\n",
        "      <th>7 </th>\n",
        "      <td> \u5929</td>\n",
        "    </tr>\n",
        "    <tr>\n",
        "      <th>8 </th>\n",
        "      <td> \u5929</td>\n",
        "    </tr>\n",
        "    <tr>\n",
        "      <th>9 </th>\n",
        "      <td> \u6c23</td>\n",
        "    </tr>\n",
        "    <tr>\n",
        "      <th>10</th>\n",
        "      <td> \u5f88</td>\n",
        "    </tr>\n",
        "    <tr>\n",
        "      <th>11</th>\n",
        "      <td> \u721b</td>\n",
        "    </tr>\n",
        "    <tr>\n",
        "      <th>12</th>\n",
        "      <td> \u6211</td>\n",
        "    </tr>\n",
        "    <tr>\n",
        "      <th>13</th>\n",
        "      <td> \u6068</td>\n",
        "    </tr>\n",
        "    <tr>\n",
        "      <th>14</th>\n",
        "      <td> \u5b83</td>\n",
        "    </tr>\n",
        "    <tr>\n",
        "      <th>15</th>\n",
        "      <td> \u5b83</td>\n",
        "    </tr>\n",
        "    <tr>\n",
        "      <th>16</th>\n",
        "      <td> \u611b</td>\n",
        "    </tr>\n",
        "    <tr>\n",
        "      <th>17</th>\n",
        "      <td> \u6211</td>\n",
        "    </tr>\n",
        "  </tbody>\n",
        "</table>\n",
        "<p>18 rows \u00d7 1 columns</p>\n",
        "</div>"
       ],
       "metadata": {},
       "output_type": "pyout",
       "prompt_number": 302,
       "text": [
        "    0\n",
        "0   \u4eca\n",
        "1   \u5929\n",
        "2   \u5929\n",
        "3   \u6c23\n",
        "4   \u5f88\n",
        "5   \u597d\n",
        "6   \u4eca\n",
        "7   \u5929\n",
        "8   \u5929\n",
        "9   \u6c23\n",
        "10  \u5f88\n",
        "11  \u721b\n",
        "12  \u6211\n",
        "13  \u6068\n",
        "14  \u5b83\n",
        "15  \u5b83\n",
        "16  \u611b\n",
        "17  \u6211\n",
        "\n",
        "[18 rows x 1 columns]"
       ]
      }
     ],
     "prompt_number": 302
    },
    {
     "cell_type": "code",
     "collapsed": false,
     "input": [
      "test_gb = test_df.groupby([0,1]).size()\n",
      "test_gb.unstack()"
     ],
     "language": "python",
     "metadata": {},
     "outputs": [
      {
       "html": [
        "<div style=\"max-height:1000px;max-width:1500px;overflow:auto;\">\n",
        "<table border=\"1\" class=\"dataframe\">\n",
        "  <thead>\n",
        "    <tr style=\"text-align: right;\">\n",
        "      <th>1</th>\n",
        "      <th>\u5929</th>\n",
        "      <th>\u597d</th>\n",
        "      <th>\u5b83</th>\n",
        "      <th>\u5f88</th>\n",
        "      <th>\u6068</th>\n",
        "      <th>\u611b</th>\n",
        "      <th>\u6211</th>\n",
        "      <th>\u6c23</th>\n",
        "      <th>\u721b</th>\n",
        "    </tr>\n",
        "    <tr>\n",
        "      <th>0</th>\n",
        "      <th></th>\n",
        "      <th></th>\n",
        "      <th></th>\n",
        "      <th></th>\n",
        "      <th></th>\n",
        "      <th></th>\n",
        "      <th></th>\n",
        "      <th></th>\n",
        "      <th></th>\n",
        "    </tr>\n",
        "  </thead>\n",
        "  <tbody>\n",
        "    <tr>\n",
        "      <th>\u4eca</th>\n",
        "      <td>  2</td>\n",
        "      <td>NaN</td>\n",
        "      <td>NaN</td>\n",
        "      <td>NaN</td>\n",
        "      <td>NaN</td>\n",
        "      <td>NaN</td>\n",
        "      <td>NaN</td>\n",
        "      <td>NaN</td>\n",
        "      <td>NaN</td>\n",
        "    </tr>\n",
        "    <tr>\n",
        "      <th>\u5929</th>\n",
        "      <td>  2</td>\n",
        "      <td>NaN</td>\n",
        "      <td>NaN</td>\n",
        "      <td>NaN</td>\n",
        "      <td>NaN</td>\n",
        "      <td>NaN</td>\n",
        "      <td>NaN</td>\n",
        "      <td>  2</td>\n",
        "      <td>NaN</td>\n",
        "    </tr>\n",
        "    <tr>\n",
        "      <th>\u5b83</th>\n",
        "      <td>NaN</td>\n",
        "      <td>NaN</td>\n",
        "      <td>NaN</td>\n",
        "      <td>NaN</td>\n",
        "      <td>NaN</td>\n",
        "      <td>  1</td>\n",
        "      <td>NaN</td>\n",
        "      <td>NaN</td>\n",
        "      <td>NaN</td>\n",
        "    </tr>\n",
        "    <tr>\n",
        "      <th>\u5f88</th>\n",
        "      <td>NaN</td>\n",
        "      <td>  1</td>\n",
        "      <td>NaN</td>\n",
        "      <td>NaN</td>\n",
        "      <td>NaN</td>\n",
        "      <td>NaN</td>\n",
        "      <td>NaN</td>\n",
        "      <td>NaN</td>\n",
        "      <td>  1</td>\n",
        "    </tr>\n",
        "    <tr>\n",
        "      <th>\u6068</th>\n",
        "      <td>NaN</td>\n",
        "      <td>NaN</td>\n",
        "      <td>  1</td>\n",
        "      <td>NaN</td>\n",
        "      <td>NaN</td>\n",
        "      <td>NaN</td>\n",
        "      <td>NaN</td>\n",
        "      <td>NaN</td>\n",
        "      <td>NaN</td>\n",
        "    </tr>\n",
        "    <tr>\n",
        "      <th>\u611b</th>\n",
        "      <td>NaN</td>\n",
        "      <td>NaN</td>\n",
        "      <td>NaN</td>\n",
        "      <td>NaN</td>\n",
        "      <td>NaN</td>\n",
        "      <td>NaN</td>\n",
        "      <td>  1</td>\n",
        "      <td>NaN</td>\n",
        "      <td>NaN</td>\n",
        "    </tr>\n",
        "    <tr>\n",
        "      <th>\u6211</th>\n",
        "      <td>NaN</td>\n",
        "      <td>NaN</td>\n",
        "      <td>NaN</td>\n",
        "      <td>NaN</td>\n",
        "      <td>  1</td>\n",
        "      <td>NaN</td>\n",
        "      <td>NaN</td>\n",
        "      <td>NaN</td>\n",
        "      <td>NaN</td>\n",
        "    </tr>\n",
        "    <tr>\n",
        "      <th>\u6c23</th>\n",
        "      <td>NaN</td>\n",
        "      <td>NaN</td>\n",
        "      <td>NaN</td>\n",
        "      <td>  2</td>\n",
        "      <td>NaN</td>\n",
        "      <td>NaN</td>\n",
        "      <td>NaN</td>\n",
        "      <td>NaN</td>\n",
        "      <td>NaN</td>\n",
        "    </tr>\n",
        "  </tbody>\n",
        "</table>\n",
        "<p>8 rows \u00d7 9 columns</p>\n",
        "</div>"
       ],
       "metadata": {},
       "output_type": "pyout",
       "prompt_number": 235,
       "text": [
        "1   \u5929   \u597d   \u5b83   \u5f88   \u6068   \u611b   \u6211   \u6c23   \u721b\n",
        "0                                    \n",
        "\u4eca   2 NaN NaN NaN NaN NaN NaN NaN NaN\n",
        "\u5929   2 NaN NaN NaN NaN NaN NaN   2 NaN\n",
        "\u5b83 NaN NaN NaN NaN NaN   1 NaN NaN NaN\n",
        "\u5f88 NaN   1 NaN NaN NaN NaN NaN NaN   1\n",
        "\u6068 NaN NaN   1 NaN NaN NaN NaN NaN NaN\n",
        "\u611b NaN NaN NaN NaN NaN NaN   1 NaN NaN\n",
        "\u6211 NaN NaN NaN NaN   1 NaN NaN NaN NaN\n",
        "\u6c23 NaN NaN NaN   2 NaN NaN NaN NaN NaN\n",
        "\n",
        "[8 rows x 9 columns]"
       ]
      }
     ],
     "prompt_number": 235
    },
    {
     "cell_type": "code",
     "collapsed": false,
     "input": [],
     "language": "python",
     "metadata": {},
     "outputs": [],
     "prompt_number": 231
    },
    {
     "cell_type": "code",
     "collapsed": false,
     "input": [
      "np.array_split"
     ],
     "language": "python",
     "metadata": {},
     "outputs": [
      {
       "metadata": {},
       "output_type": "pyout",
       "prompt_number": 236,
       "text": [
        "<function numpy.lib.shape_base.array_split>"
       ]
      }
     ],
     "prompt_number": 236
    },
    {
     "cell_type": "code",
     "collapsed": false,
     "input": [],
     "language": "python",
     "metadata": {},
     "outputs": [],
     "prompt_number": 231
    },
    {
     "cell_type": "code",
     "collapsed": false,
     "input": [],
     "language": "python",
     "metadata": {},
     "outputs": []
    },
    {
     "cell_type": "code",
     "collapsed": false,
     "input": [
      "\n",
      "\n"
     ],
     "language": "python",
     "metadata": {},
     "outputs": []
    },
    {
     "cell_type": "code",
     "collapsed": false,
     "input": [
      "print test_merge._states_dict._states_array\n",
      "print test_merge._ptr_array\n",
      "test_merge._states_dict[test_merge._ptr_array]"
     ],
     "language": "python",
     "metadata": {},
     "outputs": [
      {
       "output_type": "stream",
       "stream": "stdout",
       "text": [
        "[u'\\u4eca' u'\\u5929' u'\\u597d' u'\\u5b83' u'\\u5f88' u'\\u6068' u'\\u611b'\n",
        " u'\\u6211' u'\\u6c23' u'\\u721b']\n",
        "[[0 1]\n",
        " [1 1]\n",
        " [1 8]\n",
        " [8 4]\n",
        " [4 2]\n",
        " [0 1]\n",
        " [1 1]\n",
        " [1 8]\n",
        " [8 4]\n",
        " [4 9]\n",
        " [7 5]\n",
        " [5 3]\n",
        " [3 6]\n",
        " [6 7]]\n",
        "args =  (array([[0, 1],\n",
        "       [1, 1],\n",
        "       [1, 8],\n",
        "       [8, 4],\n",
        "       [4, 2],\n",
        "       [0, 1],\n",
        "       [1, 1],\n",
        "       [1, 8],\n",
        "       [8, 4],\n",
        "       [4, 9],\n",
        "       [7, 5],\n",
        "       [5, 3],\n",
        "       [3, 6],\n",
        "       [6, 7]]),)\n"
       ]
      },
      {
       "metadata": {},
       "output_type": "pyout",
       "prompt_number": 217,
       "text": [
        "array([[u'\\u4eca', u'\\u5929'],\n",
        "       [u'\\u5929', u'\\u5929'],\n",
        "       [u'\\u5929', u'\\u6c23'],\n",
        "       [u'\\u6c23', u'\\u5f88'],\n",
        "       [u'\\u5f88', u'\\u597d'],\n",
        "       [u'\\u4eca', u'\\u5929'],\n",
        "       [u'\\u5929', u'\\u5929'],\n",
        "       [u'\\u5929', u'\\u6c23'],\n",
        "       [u'\\u6c23', u'\\u5f88'],\n",
        "       [u'\\u5f88', u'\\u721b'],\n",
        "       [u'\\u6211', u'\\u6068'],\n",
        "       [u'\\u6068', u'\\u5b83'],\n",
        "       [u'\\u5b83', u'\\u611b'],\n",
        "       [u'\\u611b', u'\\u6211']], \n",
        "      dtype='<U1')"
       ]
      }
     ],
     "prompt_number": 217
    },
    {
     "cell_type": "code",
     "collapsed": false,
     "input": [
      "print states_data_array1._states_dict._states_array\n",
      "print states_data_array1._ptr_array\n",
      "print \"// \".join(states_data_array1._eval.flatten())"
     ],
     "language": "python",
     "metadata": {},
     "outputs": [
      {
       "output_type": "stream",
       "stream": "stdout",
       "text": [
        "[u'\\u4eca' u'\\u5929' u'\\u597d' u'\\u5b83' u'\\u5f88' u'\\u6068' u'\\u611b'\n",
        " u'\\u6211' u'\\u6c23' u'\\u721b']\n",
        "[[0 1]\n",
        " [1 1]\n",
        " [1 8]\n",
        " [8 4]\n",
        " [4 2]]\n",
        "\u4eca// \u5929// \u5929// \u5929// \u5929// \u6c23// \u6c23// \u5f88// \u5f88// \u597d\n"
       ]
      }
     ],
     "prompt_number": 197
    },
    {
     "cell_type": "code",
     "collapsed": false,
     "input": [],
     "language": "python",
     "metadata": {},
     "outputs": []
    },
    {
     "cell_type": "code",
     "collapsed": false,
     "input": [],
     "language": "python",
     "metadata": {},
     "outputs": []
    },
    {
     "cell_type": "code",
     "collapsed": false,
     "input": [
      "print map(lambda xx:xx._shape,states_data_array_merger)\n",
      "print map(lambda xx:xx._ncol,states_data_array_merger)\n",
      "print map(lambda xx:xx._nrow,states_data_array_merger)\n",
      "print map(lambda xx:xx._ptr_array,states_data_array_merger)"
     ],
     "language": "python",
     "metadata": {},
     "outputs": [
      {
       "output_type": "stream",
       "stream": "stdout",
       "text": [
        "[(5, 2), (5, 2), (2, 2), (2, 2)]\n",
        "[2, 2, 2, 2]\n",
        "[5, 5, 2, 2]\n",
        "[PtrArray([[0, 1],\n",
        "       [1, 1],\n",
        "       [1, 4],\n",
        "       [4, 3],\n",
        "       [3, 2]]), PtrArray([[0, 1],\n",
        "       [1, 1],\n",
        "       [1, 3],\n",
        "       [3, 2],\n",
        "       [2, 4]]), PtrArray([[2, 1],\n",
        "       [1, 0]]), PtrArray([[0, 1],\n",
        "       [1, 2]])]\n"
       ]
      }
     ],
     "prompt_number": 140
    },
    {
     "cell_type": "code",
     "collapsed": false,
     "input": [
      "np.vstack(tuple(map(lambda xx:xx._ptr_array,states_data_array_merger)))"
     ],
     "language": "python",
     "metadata": {},
     "outputs": [
      {
       "metadata": {},
       "output_type": "pyout",
       "prompt_number": 143,
       "text": [
        "array([[0, 1],\n",
        "       [1, 1],\n",
        "       [1, 4],\n",
        "       [4, 3],\n",
        "       [3, 2],\n",
        "       [0, 1],\n",
        "       [1, 1],\n",
        "       [1, 3],\n",
        "       [3, 2],\n",
        "       [2, 4],\n",
        "       [2, 1],\n",
        "       [1, 0],\n",
        "       [0, 1],\n",
        "       [1, 2]])"
       ]
      }
     ],
     "prompt_number": 143
    },
    {
     "cell_type": "code",
     "collapsed": false,
     "input": [
      "np.concatenate(tuple(map(lambda xx:xx._ptr_array,states_data_array_merger)),axis=0)"
     ],
     "language": "python",
     "metadata": {},
     "outputs": [
      {
       "metadata": {},
       "output_type": "pyout",
       "prompt_number": 218,
       "text": [
        "array([[0, 1],\n",
        "       [1, 1],\n",
        "       [1, 8],\n",
        "       [8, 4],\n",
        "       [4, 2],\n",
        "       [0, 1],\n",
        "       [1, 1],\n",
        "       [1, 8],\n",
        "       [8, 4],\n",
        "       [4, 9],\n",
        "       [7, 5],\n",
        "       [5, 3],\n",
        "       [3, 6],\n",
        "       [6, 7]])"
       ]
      }
     ],
     "prompt_number": 218
    },
    {
     "cell_type": "code",
     "collapsed": false,
     "input": [],
     "language": "python",
     "metadata": {},
     "outputs": []
    },
    {
     "cell_type": "code",
     "collapsed": false,
     "input": [],
     "language": "python",
     "metadata": {},
     "outputs": []
    },
    {
     "cell_type": "code",
     "collapsed": false,
     "input": [],
     "language": "python",
     "metadata": {},
     "outputs": []
    },
    {
     "cell_type": "code",
     "collapsed": false,
     "input": [],
     "language": "python",
     "metadata": {},
     "outputs": []
    },
    {
     "cell_type": "code",
     "collapsed": false,
     "input": [],
     "language": "python",
     "metadata": {},
     "outputs": []
    },
    {
     "cell_type": "code",
     "collapsed": false,
     "input": [
      "np.concatenate(tuple(map(lambda xx:list(tkr.ngram(xx._ptr_array,2)),states_data_array_merger)),axis=0)"
     ],
     "language": "python",
     "metadata": {},
     "outputs": [
      {
       "metadata": {},
       "output_type": "pyout",
       "prompt_number": 83,
       "text": [
        "array([[0, 1],\n",
        "       [1, 1],\n",
        "       [1, 4],\n",
        "       [4, 3],\n",
        "       [3, 2],\n",
        "       [0, 1],\n",
        "       [1, 1],\n",
        "       [1, 3],\n",
        "       [3, 2],\n",
        "       [2, 4],\n",
        "       [2, 1],\n",
        "       [1, 0],\n",
        "       [0, 1],\n",
        "       [1, 2]])"
       ]
      }
     ],
     "prompt_number": 83
    },
    {
     "cell_type": "code",
     "collapsed": false,
     "input": [
      "test1 = np.concatenate(tuple(map(lambda xx:list(tkr.ngram(xx._ptr_array,2)),states_data_array_merger)),axis=0)\n",
      "test1 "
     ],
     "language": "python",
     "metadata": {},
     "outputs": [
      {
       "metadata": {},
       "output_type": "pyout",
       "prompt_number": 84,
       "text": [
        "array([[0, 1],\n",
        "       [1, 1],\n",
        "       [1, 4],\n",
        "       [4, 3],\n",
        "       [3, 2],\n",
        "       [0, 1],\n",
        "       [1, 1],\n",
        "       [1, 3],\n",
        "       [3, 2],\n",
        "       [2, 4],\n",
        "       [2, 1],\n",
        "       [1, 0],\n",
        "       [0, 1],\n",
        "       [1, 2]])"
       ]
      }
     ],
     "prompt_number": 84
    },
    {
     "cell_type": "code",
     "collapsed": false,
     "input": [
      "test1.shape"
     ],
     "language": "python",
     "metadata": {},
     "outputs": [
      {
       "metadata": {},
       "output_type": "pyout",
       "prompt_number": 27,
       "text": [
        "(14, 2)"
       ]
      }
     ],
     "prompt_number": 27
    },
    {
     "cell_type": "code",
     "collapsed": false,
     "input": [
      "test1.dtype"
     ],
     "language": "python",
     "metadata": {},
     "outputs": [
      {
       "metadata": {},
       "output_type": "pyout",
       "prompt_number": 28,
       "text": [
        "dtype('int64')"
       ]
      }
     ],
     "prompt_number": 28
    },
    {
     "cell_type": "code",
     "collapsed": false,
     "input": [
      "test1.dtype = np.dtype([(\"d1\",test1.dtype),(\"d2\",test1.dtype)])"
     ],
     "language": "python",
     "metadata": {},
     "outputs": [],
     "prompt_number": 29
    },
    {
     "cell_type": "code",
     "collapsed": false,
     "input": [
      "test1"
     ],
     "language": "python",
     "metadata": {},
     "outputs": [
      {
       "metadata": {},
       "output_type": "pyout",
       "prompt_number": 30,
       "text": [
        "array([[(0, 1)],\n",
        "       [(1, 1)],\n",
        "       [(1, 4)],\n",
        "       [(4, 3)],\n",
        "       [(3, 2)],\n",
        "       [(0, 1)],\n",
        "       [(1, 1)],\n",
        "       [(1, 3)],\n",
        "       [(3, 2)],\n",
        "       [(2, 4)],\n",
        "       [(2, 1)],\n",
        "       [(1, 0)],\n",
        "       [(0, 1)],\n",
        "       [(1, 2)]], \n",
        "      dtype=[('d1', '<i8'), ('d2', '<i8')])"
       ]
      }
     ],
     "prompt_number": 30
    },
    {
     "cell_type": "code",
     "collapsed": false,
     "input": [
      "np.unique(test1)"
     ],
     "language": "python",
     "metadata": {},
     "outputs": [
      {
       "metadata": {},
       "output_type": "pyout",
       "prompt_number": 31,
       "text": [
        "array([(0, 1), (1, 0), (1, 1), (1, 2), (1, 3), (1, 4), (2, 1), (2, 4),\n",
        "       (3, 2), (4, 3)], \n",
        "      dtype=[('d1', '<i8'), ('d2', '<i8')])"
       ]
      }
     ],
     "prompt_number": 31
    },
    {
     "cell_type": "code",
     "collapsed": false,
     "input": [
      "test1"
     ],
     "language": "python",
     "metadata": {},
     "outputs": [
      {
       "metadata": {},
       "output_type": "pyout",
       "prompt_number": 24,
       "text": [
        "array([[(0, 1)],\n",
        "       [(1, 1)],\n",
        "       [(1, 4)],\n",
        "       [(4, 3)],\n",
        "       [(3, 2)],\n",
        "       [(0, 1)],\n",
        "       [(1, 1)],\n",
        "       [(1, 3)],\n",
        "       [(3, 2)],\n",
        "       [(2, 4)],\n",
        "       [(2, 1)],\n",
        "       [(1, 0)],\n",
        "       [(0, 1)],\n",
        "       [(1, 2)]], \n",
        "      dtype=[('d1', '<i8'), ('d2', '<i8')])"
       ]
      }
     ],
     "prompt_number": 24
    },
    {
     "cell_type": "code",
     "collapsed": false,
     "input": [
      "clean_no_data_tensors(states_data_array_merger[0]._states_dict[test1[\"d1\"]])"
     ],
     "language": "python",
     "metadata": {},
     "outputs": [
      {
       "output_type": "stream",
       "stream": "stdout",
       "text": [
        "args =  (array([[0],\n",
        "       [1],\n",
        "       [1],\n",
        "       [4],\n",
        "       [3],\n",
        "       [0],\n",
        "       [1],\n",
        "       [1],\n",
        "       [3],\n",
        "       [2],\n",
        "       [2],\n",
        "       [1],\n",
        "       [0],\n",
        "       [1]]),)\n"
       ]
      },
      {
       "metadata": {},
       "output_type": "pyout",
       "prompt_number": 39,
       "text": [
        "array([u'\\u4eca', u'\\u5929', u'\\u5929', u'\\u6c23', u'\\u5f88', u'\\u4eca',\n",
        "       u'\\u5929', u'\\u5929', u'\\u5f88', u'\\u597d', u'\\u597d', u'\\u5929',\n",
        "       u'\\u4eca', u'\\u5929'], \n",
        "      dtype='<U1')"
       ]
      }
     ],
     "prompt_number": 39
    },
    {
     "cell_type": "code",
     "collapsed": false,
     "input": [
      "print np.unique(clean_no_data_tensors(test1))\n",
      "print clean_no_data_tensors(test1)"
     ],
     "language": "python",
     "metadata": {},
     "outputs": [
      {
       "output_type": "stream",
       "stream": "stdout",
       "text": [
        "[(0, 1) (1, 0) (1, 1) (1, 2) (1, 3) (1, 4) (2, 1) (2, 4) (3, 2) (4, 3)]\n",
        "[(0, 1) (1, 1) (1, 4) (4, 3) (3, 2) (0, 1) (1, 1) (1, 3) (3, 2) (2, 4)\n",
        " (2, 1) (1, 0) (0, 1) (1, 2)]\n"
       ]
      }
     ],
     "prompt_number": 44
    },
    {
     "cell_type": "code",
     "collapsed": false,
     "input": [
      "test2 = np.unique(clean_no_data_tensors(test1))\n",
      "test2[\"d2\"]"
     ],
     "language": "python",
     "metadata": {},
     "outputs": [
      {
       "metadata": {},
       "output_type": "pyout",
       "prompt_number": 48,
       "text": [
        "array([1, 0, 1, 2, 3, 4, 1, 4, 2, 3])"
       ]
      }
     ],
     "prompt_number": 48
    },
    {
     "cell_type": "code",
     "collapsed": false,
     "input": [],
     "language": "python",
     "metadata": {},
     "outputs": [],
     "prompt_number": 77
    },
    {
     "cell_type": "code",
     "collapsed": false,
     "input": [
      "test1 = np.concatenate(tuple(map(lambda xx:list(tkr.ngram(xx._ptr_array,2)),states_data_array_merger)),axis=0)\n",
      "test3 = states_data_array_merger[0]._states_dict[clean_no_data_tensors(test1)]\n",
      "test3"
     ],
     "language": "python",
     "metadata": {},
     "outputs": [
      {
       "output_type": "stream",
       "stream": "stdout",
       "text": [
        "args =  (array([[0, 1],\n",
        "       [1, 1],\n",
        "       [1, 4],\n",
        "       [4, 3],\n",
        "       [3, 2],\n",
        "       [0, 1],\n",
        "       [1, 1],\n",
        "       [1, 3],\n",
        "       [3, 2],\n",
        "       [2, 4],\n",
        "       [2, 1],\n",
        "       [1, 0],\n",
        "       [0, 1],\n",
        "       [1, 2]]),)\n"
       ]
      },
      {
       "metadata": {},
       "output_type": "pyout",
       "prompt_number": 54,
       "text": [
        "array([[u'\\u4eca', u'\\u5929'],\n",
        "       [u'\\u5929', u'\\u5929'],\n",
        "       [u'\\u5929', u'\\u6c23'],\n",
        "       [u'\\u6c23', u'\\u5f88'],\n",
        "       [u'\\u5f88', u'\\u597d'],\n",
        "       [u'\\u4eca', u'\\u5929'],\n",
        "       [u'\\u5929', u'\\u5929'],\n",
        "       [u'\\u5929', u'\\u5f88'],\n",
        "       [u'\\u5f88', u'\\u597d'],\n",
        "       [u'\\u597d', u'\\u6c23'],\n",
        "       [u'\\u597d', u'\\u5929'],\n",
        "       [u'\\u5929', u'\\u4eca'],\n",
        "       [u'\\u4eca', u'\\u5929'],\n",
        "       [u'\\u5929', u'\\u597d']], \n",
        "      dtype='<U1')"
       ]
      }
     ],
     "prompt_number": 54
    },
    {
     "cell_type": "code",
     "collapsed": false,
     "input": [
      "import pandas as pd "
     ],
     "language": "python",
     "metadata": {},
     "outputs": [],
     "prompt_number": 55
    },
    {
     "cell_type": "code",
     "collapsed": false,
     "input": [
      "test_df = pd.DataFrame(test3)\n",
      "test_df"
     ],
     "language": "python",
     "metadata": {},
     "outputs": [
      {
       "ename": "NameError",
       "evalue": "name 'test3' is not defined",
       "output_type": "pyerr",
       "traceback": [
        "\u001b[1;31m---------------------------------------------------------------------------\u001b[0m\n\u001b[1;31mNameError\u001b[0m                                 Traceback (most recent call last)",
        "\u001b[1;32m<ipython-input-295-bb83fd72a532>\u001b[0m in \u001b[0;36m<module>\u001b[1;34m()\u001b[0m\n\u001b[1;32m----> 1\u001b[1;33m \u001b[0mtest_df\u001b[0m \u001b[1;33m=\u001b[0m \u001b[0mpd\u001b[0m\u001b[1;33m.\u001b[0m\u001b[0mDataFrame\u001b[0m\u001b[1;33m(\u001b[0m\u001b[0mtest3\u001b[0m\u001b[1;33m)\u001b[0m\u001b[1;33m\u001b[0m\u001b[0m\n\u001b[0m\u001b[0;32m      2\u001b[0m \u001b[0mtest_df\u001b[0m\u001b[1;33m.\u001b[0m\u001b[0munstack\u001b[0m\u001b[1;33m(\u001b[0m\u001b[1;33m)\u001b[0m\u001b[1;33m\u001b[0m\u001b[0m\n",
        "\u001b[1;31mNameError\u001b[0m: name 'test3' is not defined"
       ]
      }
     ],
     "prompt_number": 295
    },
    {
     "cell_type": "code",
     "collapsed": false,
     "input": [
      "test_df.columns"
     ],
     "language": "python",
     "metadata": {},
     "outputs": [
      {
       "metadata": {},
       "output_type": "pyout",
       "prompt_number": 59,
       "text": [
        "Int64Index([0, 1], dtype='int64')"
       ]
      }
     ],
     "prompt_number": 59
    },
    {
     "cell_type": "code",
     "collapsed": false,
     "input": [
      "test_df.groupby([0,1]).size()"
     ],
     "language": "python",
     "metadata": {},
     "outputs": [
      {
       "metadata": {},
       "output_type": "pyout",
       "prompt_number": 73,
       "text": [
        "0  1\n",
        "\u4eca  \u5929    3\n",
        "\u5929  \u4eca    1\n",
        "   \u5929    2\n",
        "   \u597d    1\n",
        "   \u5f88    1\n",
        "   \u6c23    1\n",
        "\u597d  \u5929    1\n",
        "   \u6c23    1\n",
        "\u5f88  \u597d    2\n",
        "\u6c23  \u5f88    1\n",
        "dtype: int64"
       ]
      }
     ],
     "prompt_number": 73
    },
    {
     "cell_type": "code",
     "collapsed": false,
     "input": [],
     "language": "python",
     "metadata": {},
     "outputs": []
    },
    {
     "cell_type": "code",
     "collapsed": false,
     "input": [
      "test = range(10)\n",
      "test.reverse()\n",
      "\n",
      "class A(object):\n",
      "    def __init__(self,x):\n",
      "        self.x = x\n",
      "\n",
      "\n",
      "print np.array(map(A,np.arange(10,20)))[test]\n",
      "print np.array(map(A,np.arange(10,20)))\n",
      "print map(lambda xx:xx.x,np.array(map(A,np.arange(10,20)))[test])\n",
      "print map(lambda xx:xx.x,np.array(map(A,np.arange(10,20))))"
     ],
     "language": "python",
     "metadata": {},
     "outputs": [
      {
       "output_type": "stream",
       "stream": "stdout",
       "text": [
        "[<__main__.A object at 0x359c350> <__main__.A object at 0x359c310>\n",
        " <__main__.A object at 0x359c2d0> <__main__.A object at 0x359c290>\n",
        " <__main__.A object at 0x359c250> <__main__.A object at 0x359c210>\n",
        " <__main__.A object at 0x359c1d0> <__main__.A object at 0x359c190>\n",
        " <__main__.A object at 0x359c150> <__main__.A object at 0x359c090>]\n",
        "[<__main__.A object at 0x359c150> <__main__.A object at 0x359c190>\n",
        " <__main__.A object at 0x359c1d0> <__main__.A object at 0x359c210>\n",
        " <__main__.A object at 0x359c250> <__main__.A object at 0x359c290>\n",
        " <__main__.A object at 0x359c2d0> <__main__.A object at 0x359c310>\n",
        " <__main__.A object at 0x359c350> <__main__.A object at 0x359c590>]\n",
        "[19, 18, 17, 16, 15, 14, 13, 12, 11, 10]\n",
        "[10, 11, 12, 13, 14, 15, 16, 17, 18, 19]\n"
       ]
      }
     ],
     "prompt_number": 69
    },
    {
     "cell_type": "code",
     "collapsed": false,
     "input": [],
     "language": "python",
     "metadata": {},
     "outputs": []
    },
    {
     "cell_type": "code",
     "collapsed": false,
     "input": [],
     "language": "python",
     "metadata": {},
     "outputs": []
    },
    {
     "cell_type": "code",
     "collapsed": false,
     "input": [],
     "language": "python",
     "metadata": {},
     "outputs": []
    },
    {
     "cell_type": "code",
     "collapsed": false,
     "input": [],
     "language": "python",
     "metadata": {},
     "outputs": []
    },
    {
     "cell_type": "code",
     "collapsed": false,
     "input": [],
     "language": "python",
     "metadata": {},
     "outputs": []
    },
    {
     "cell_type": "code",
     "collapsed": false,
     "input": [],
     "language": "python",
     "metadata": {},
     "outputs": [],
     "prompt_number": 249
    },
    {
     "cell_type": "code",
     "collapsed": false,
     "input": [
      "test_sdict_merge = StatesDictionaryMerger(*map(lambda xx:xx._states_dict,states_data_array_merger))\n",
      "test_sdict_merge.merge._new_states_array"
     ],
     "language": "python",
     "metadata": {},
     "outputs": [
      {
       "metadata": {},
       "output_type": "pyout",
       "prompt_number": 250,
       "text": [
        "StatesArray([u'\\u4eca', u'\\u5929', u'\\u597d', u'\\u5b83', u'\\u5f88', u'\\u6068',\n",
        "       u'\\u611b', u'\\u6211', u'\\u6c23', u'\\u721b'], \n",
        "      dtype='<U1')"
       ]
      }
     ],
     "prompt_number": 250
    },
    {
     "cell_type": "code",
     "collapsed": false,
     "input": [
      "test_sdict_merge.update()"
     ],
     "language": "python",
     "metadata": {},
     "outputs": [],
     "prompt_number": 251
    },
    {
     "cell_type": "code",
     "collapsed": false,
     "input": [
      "test_sdict_merge._unique_states_array_ids"
     ],
     "language": "python",
     "metadata": {},
     "outputs": [
      {
       "metadata": {},
       "output_type": "pyout",
       "prompt_number": 252,
       "text": [
        "array([97837496])"
       ]
      }
     ],
     "prompt_number": 252
    },
    {
     "cell_type": "code",
     "collapsed": false,
     "input": [
      "test_sdict_merge[0]"
     ],
     "language": "python",
     "metadata": {},
     "outputs": [
      {
       "metadata": {},
       "output_type": "pyout",
       "prompt_number": 265,
       "text": [
        "<__main__.StatesDictionary at 0x5d48350>"
       ]
      }
     ],
     "prompt_number": 265
    },
    {
     "cell_type": "code",
     "collapsed": false,
     "input": [
      "map(lambda xx:xx._ptr_array,states_data_array_merger)"
     ],
     "language": "python",
     "metadata": {},
     "outputs": [
      {
       "metadata": {},
       "output_type": "pyout",
       "prompt_number": 274,
       "text": [
        "[PtrArray([0, 1, 1, 4, 3, 2]),\n",
        " PtrArray([0, 1, 1, 3, 2, 4]),\n",
        " PtrArray([2, 1, 0]),\n",
        " PtrArray([0, 1, 2])]"
       ]
      }
     ],
     "prompt_number": 274
    },
    {
     "cell_type": "code",
     "collapsed": false,
     "input": [
      "np.concatenate(tuple(map(lambda xx:xx._ptr_array,states_data_array_merger)),axis=0)"
     ],
     "language": "python",
     "metadata": {},
     "outputs": [
      {
       "metadata": {},
       "output_type": "pyout",
       "prompt_number": 253,
       "text": [
        "array([0, 1, 1, 4, 3, 2, 0, 1, 1, 3, 2, 4, 2, 1, 0, 0, 1, 2])"
       ]
      }
     ],
     "prompt_number": 253
    },
    {
     "cell_type": "code",
     "collapsed": false,
     "input": [],
     "language": "python",
     "metadata": {},
     "outputs": [
      {
       "metadata": {},
       "output_type": "pyout",
       "prompt_number": 261,
       "text": [
        "StatesArray([u'\\u4eca', u'\\u5929', u'\\u597d', u'\\u5f88', u'\\u6c23'], \n",
        "      dtype='<U1')"
       ]
      }
     ],
     "prompt_number": 261
    },
    {
     "cell_type": "code",
     "collapsed": false,
     "input": [],
     "language": "python",
     "metadata": {},
     "outputs": []
    },
    {
     "cell_type": "code",
     "collapsed": false,
     "input": [],
     "language": "python",
     "metadata": {},
     "outputs": [],
     "prompt_number": 171
    },
    {
     "cell_type": "code",
     "collapsed": false,
     "input": [
      "states_merger = StatesDictionaryMerger(states_data_array1._states_dict,\n",
      "                                       states_data_array2._states_dict,\n",
      "                                       states_data_array3._states_dict,\n",
      "                                       states_data_array4._states_dict)\n",
      "states_merger"
     ],
     "language": "python",
     "metadata": {},
     "outputs": [
      {
       "metadata": {},
       "output_type": "pyout",
       "prompt_number": 275,
       "text": [
        "[<__main__.StatesDictionary at 0x5d48510>,\n",
        " <__main__.StatesDictionary at 0x5d483d0>,\n",
        " <__main__.StatesDictionary at 0x5d48550>,\n",
        " <__main__.StatesDictionary at 0x5d485d0>]"
       ]
      }
     ],
     "prompt_number": 275
    },
    {
     "cell_type": "code",
     "collapsed": false,
     "input": [
      "states_data_array1._ptr_array"
     ],
     "language": "python",
     "metadata": {},
     "outputs": [
      {
       "metadata": {},
       "output_type": "pyout",
       "prompt_number": 276,
       "text": [
        "PtrArray([0, 1, 1, 8, 4, 2])"
       ]
      }
     ],
     "prompt_number": 276
    },
    {
     "cell_type": "code",
     "collapsed": false,
     "input": [],
     "language": "python",
     "metadata": {},
     "outputs": [],
     "prompt_number": 276
    },
    {
     "cell_type": "code",
     "collapsed": false,
     "input": [
      "print states_merger\n",
      "print states_merger.merge._new_states_array\n",
      "print states_merger.merge._ptrs_transforms"
     ],
     "language": "python",
     "metadata": {},
     "outputs": [
      {
       "output_type": "stream",
       "stream": "stdout",
       "text": [
        "[<__main__.StatesDictionary object at 0x5d48510>, <__main__.StatesDictionary object at 0x5d483d0>, <__main__.StatesDictionary object at 0x5d48550>, <__main__.StatesDictionary object at 0x5d485d0>]\n"
       ]
      },
      {
       "ename": "AttributeError",
       "evalue": "'StatesDictionaryMerger' object has no attribute '_new_states_array'",
       "output_type": "pyerr",
       "traceback": [
        "\u001b[1;31m---------------------------------------------------------------------------\u001b[0m\n\u001b[1;31mAttributeError\u001b[0m                            Traceback (most recent call last)",
        "\u001b[1;32m<ipython-input-277-0da0e367f747>\u001b[0m in \u001b[0;36m<module>\u001b[1;34m()\u001b[0m\n\u001b[0;32m      1\u001b[0m \u001b[1;32mprint\u001b[0m \u001b[0mstates_merger\u001b[0m\u001b[1;33m\u001b[0m\u001b[0m\n\u001b[1;32m----> 2\u001b[1;33m \u001b[1;32mprint\u001b[0m \u001b[0mstates_merger\u001b[0m\u001b[1;33m.\u001b[0m\u001b[0mmerge\u001b[0m\u001b[1;33m.\u001b[0m\u001b[0m_new_states_array\u001b[0m\u001b[1;33m\u001b[0m\u001b[0m\n\u001b[0m\u001b[0;32m      3\u001b[0m \u001b[1;32mprint\u001b[0m \u001b[0mstates_merger\u001b[0m\u001b[1;33m.\u001b[0m\u001b[0mmerge\u001b[0m\u001b[1;33m.\u001b[0m\u001b[0m_ptrs_transforms\u001b[0m\u001b[1;33m\u001b[0m\u001b[0m\n",
        "\u001b[1;31mAttributeError\u001b[0m: 'StatesDictionaryMerger' object has no attribute '_new_states_array'"
       ]
      }
     ],
     "prompt_number": 277
    },
    {
     "cell_type": "code",
     "collapsed": false,
     "input": [
      "states_merger.merge.update()"
     ],
     "language": "python",
     "metadata": {},
     "outputs": [],
     "prompt_number": 269
    },
    {
     "cell_type": "code",
     "collapsed": false,
     "input": [
      "states_data_array1._ptr_array.ngram(4)"
     ],
     "language": "python",
     "metadata": {},
     "outputs": [
      {
       "metadata": {},
       "output_type": "pyout",
       "prompt_number": 270,
       "text": [
        "PtrArray([[0, 1, 1, 8],\n",
        "       [1, 1, 8, 4],\n",
        "       [1, 8, 4, 2]])"
       ]
      }
     ],
     "prompt_number": 270
    },
    {
     "cell_type": "code",
     "collapsed": false,
     "input": [
      "states_data_array1._eval"
     ],
     "language": "python",
     "metadata": {},
     "outputs": [
      {
       "metadata": {},
       "output_type": "pyout",
       "prompt_number": 271,
       "text": [
        "ValuesArray([u'\\u4eca', u'\\u5929', u'\\u5929', u'\\u6c23', u'\\u5f88', u'\\u597d'], \n",
        "      dtype='<U1')"
       ]
      }
     ],
     "prompt_number": 271
    },
    {
     "cell_type": "code",
     "collapsed": false,
     "input": [],
     "language": "python",
     "metadata": {},
     "outputs": [],
     "prompt_number": 271
    },
    {
     "cell_type": "code",
     "collapsed": false,
     "input": [
      "states_data_array1._ptr_array"
     ],
     "language": "python",
     "metadata": {},
     "outputs": [
      {
       "metadata": {},
       "output_type": "pyout",
       "prompt_number": 273,
       "text": [
        "PtrArray([0, 1, 1, 8, 4, 2])"
       ]
      }
     ],
     "prompt_number": 273
    },
    {
     "cell_type": "code",
     "collapsed": false,
     "input": [],
     "language": "python",
     "metadata": {},
     "outputs": []
    },
    {
     "cell_type": "code",
     "collapsed": false,
     "input": [
      "print states_data_array1._states_dict._states_array\n",
      "print states_data_array1._states_dict._referred_by\n",
      "print states_data_array1._ptr_array\n",
      "print \"// \".join(states_data_array1._eval)\n"
     ],
     "language": "python",
     "metadata": {},
     "outputs": [
      {
       "output_type": "stream",
       "stream": "stdout",
       "text": [
        "[u'\\u4eca' u'\\u5929' u'\\u597d' u'\\u5b83' u'\\u5f88' u'\\u6068' u'\\u611b'\n",
        " u'\\u6211' u'\\u6c23' u'\\u721b']\n",
        "[ValuesArray([u'\\u4eca', u'\\u5929', u'\\u5929', u'\\u6c23', u'\\u5f88', u'\\u597d'], \n",
        "      dtype='<U1')]\n",
        "[0 1 1 8 4 2]\n",
        "\u4eca// \u5929// \u5929// \u6c23// \u5f88// \u597d\n"
       ]
      }
     ],
     "prompt_number": 119
    },
    {
     "cell_type": "code",
     "collapsed": false,
     "input": [
      "print states_data_array2._states_dict._states_array\n",
      "print states_data_array2._states_dict._referred_by\n",
      "print states_data_array2._ptr_array\n",
      "print \"// \".join(states_data_array1._eval)\n"
     ],
     "language": "python",
     "metadata": {},
     "outputs": [
      {
       "output_type": "stream",
       "stream": "stdout",
       "text": [
        "[u'\\u4eca' u'\\u5929' u'\\u597d' u'\\u5b83' u'\\u5f88' u'\\u6068' u'\\u611b'\n",
        " u'\\u6211' u'\\u6c23' u'\\u721b']\n",
        "[ValuesArray([u'\\u4eca', u'\\u5929', u'\\u5929', u'\\u6c23', u'\\u5f88', u'\\u721b'], \n",
        "      dtype='<U1')]\n",
        "[0 1 1 8 4 9]\n",
        "\u4eca// \u5929// \u5929// \u6c23// \u5f88// \u597d\n"
       ]
      }
     ],
     "prompt_number": 120
    },
    {
     "cell_type": "code",
     "collapsed": false,
     "input": [
      "print id(states_data_array1._states_dict._states_array)\n",
      "print id(states_data_array2._states_dict._states_array)\n",
      "print \"// \".join(states_data_array2._states_dict._states_array)"
     ],
     "language": "python",
     "metadata": {},
     "outputs": [
      {
       "output_type": "stream",
       "stream": "stdout",
       "text": [
        "65651248\n",
        "65651248\n",
        "\u4eca// \u5929// \u597d// \u5b83// \u5f88// \u6068// \u611b// \u6211// \u6c23// \u721b\n"
       ]
      }
     ],
     "prompt_number": 121
    },
    {
     "cell_type": "code",
     "collapsed": false,
     "input": [],
     "language": "python",
     "metadata": {},
     "outputs": [],
     "prompt_number": 121
    },
    {
     "cell_type": "code",
     "collapsed": false,
     "input": [
      "print list(tkr.ngram(states_data_array1._ptr_array,2))\n",
      "type(states_data_array1._ptr_array)(list(tkr.ngram(states_data_array1._ptr_array,2)))"
     ],
     "language": "python",
     "metadata": {},
     "outputs": [
      {
       "output_type": "stream",
       "stream": "stdout",
       "text": [
        "[PtrArray([0, 1]), PtrArray([1, 1]), PtrArray([1, 8]), PtrArray([8, 4]), PtrArray([4, 2])]\n"
       ]
      },
      {
       "metadata": {},
       "output_type": "pyout",
       "prompt_number": 166,
       "text": [
        "PtrArray([[0, 1],\n",
        "       [1, 1],\n",
        "       [1, 8],\n",
        "       [8, 4],\n",
        "       [4, 2]])"
       ]
      }
     ],
     "prompt_number": 166
    },
    {
     "cell_type": "code",
     "collapsed": false,
     "input": [
      "print states_data_array1._ptr_array"
     ],
     "language": "python",
     "metadata": {},
     "outputs": [
      {
       "output_type": "stream",
       "stream": "stdout",
       "text": [
        "[0 1 1 8 4 2]\n"
       ]
      }
     ],
     "prompt_number": 123
    },
    {
     "cell_type": "code",
     "collapsed": false,
     "input": [
      "np.kron([[100],[10]],map(lambda xx:[xx],np.ones(states_data_array1._ptr_array.shape)))"
     ],
     "language": "python",
     "metadata": {},
     "outputs": [
      {
       "metadata": {},
       "output_type": "pyout",
       "prompt_number": 124,
       "text": [
        "array([[ 100.],\n",
        "       [ 100.],\n",
        "       [ 100.],\n",
        "       [ 100.],\n",
        "       [ 100.],\n",
        "       [ 100.],\n",
        "       [  10.],\n",
        "       [  10.],\n",
        "       [  10.],\n",
        "       [  10.],\n",
        "       [  10.],\n",
        "       [  10.]])"
       ]
      }
     ],
     "prompt_number": 124
    },
    {
     "cell_type": "code",
     "collapsed": false,
     "input": [
      "np.kron(np.eye(2), np.ones((2,2)))"
     ],
     "language": "python",
     "metadata": {},
     "outputs": [
      {
       "metadata": {},
       "output_type": "pyout",
       "prompt_number": 126,
       "text": [
        "array([[ 1.,  1.,  0.,  0.],\n",
        "       [ 1.,  1.,  0.,  0.],\n",
        "       [ 0.,  0.,  1.,  1.],\n",
        "       [ 0.,  0.,  1.,  1.]])"
       ]
      }
     ],
     "prompt_number": 126
    },
    {
     "cell_type": "code",
     "collapsed": false,
     "input": [],
     "language": "python",
     "metadata": {},
     "outputs": [],
     "prompt_number": 28
    },
    {
     "cell_type": "code",
     "collapsed": false,
     "input": [
      "np.r_[np.array([np.ones(states_data_array1._ptr_array.shape)]).T]"
     ],
     "language": "python",
     "metadata": {},
     "outputs": [
      {
       "metadata": {},
       "output_type": "pyout",
       "prompt_number": 138,
       "text": [
        "array([[ 1.],\n",
        "       [ 1.],\n",
        "       [ 1.],\n",
        "       [ 1.],\n",
        "       [ 1.],\n",
        "       [ 1.]])"
       ]
      }
     ],
     "prompt_number": 138
    },
    {
     "cell_type": "code",
     "collapsed": false,
     "input": [
      "print np.arange(10,20)[[5,3,1,4]]\n",
      "#range(10)[[1,5,3,4]]\n"
     ],
     "language": "python",
     "metadata": {},
     "outputs": [
      {
       "output_type": "stream",
       "stream": "stdout",
       "text": [
        "[15 13 11 14]\n"
       ]
      }
     ],
     "prompt_number": 150
    },
    {
     "cell_type": "code",
     "collapsed": false,
     "input": [],
     "language": "python",
     "metadata": {},
     "outputs": []
    }
   ],
   "metadata": {}
  }
 ]
}