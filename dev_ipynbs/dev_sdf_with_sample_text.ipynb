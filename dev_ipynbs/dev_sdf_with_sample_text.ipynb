{
 "metadata": {
  "name": ""
 },
 "nbformat": 3,
 "nbformat_minor": 0,
 "worksheets": [
  {
   "cells": [
    {
     "cell_type": "code",
     "collapsed": false,
     "input": [
      "import pandas as pd \n",
      "test_text_df = pd.DataFrame([u\"\u4eca\u5929\u5929\u6c23\u5f88\u597d\",u\"\u4eca\u5929\u5929\u6c23\u5f88\u721b\",u\"\u6211\u6068\u5b83\",u\"\u5b83\u6068\u6211\",u\"\u6211\u611b\u5b83\",u\"\u5b83\u611b\u6211\",u\"\u4eca\u5929\u5f88\u8870\",\"\u65e5\u5b50\u4e00\u5929\u4e00\u5929\u904e\",\"\u5929\u5929\u5237\u7259\u6d17\u81c9\"])\n",
      "test_text_df.columns = [\"text\"]\n",
      "test_text_df"
     ],
     "language": "python",
     "metadata": {},
     "outputs": [
      {
       "html": [
        "<div style=\"max-height:1000px;max-width:1500px;overflow:auto;\">\n",
        "<table border=\"1\" class=\"dataframe\">\n",
        "  <thead>\n",
        "    <tr style=\"text-align: right;\">\n",
        "      <th></th>\n",
        "      <th>text</th>\n",
        "    </tr>\n",
        "  </thead>\n",
        "  <tbody>\n",
        "    <tr>\n",
        "      <th>0</th>\n",
        "      <td>  \u4eca\u5929\u5929\u6c23\u5f88\u597d</td>\n",
        "    </tr>\n",
        "    <tr>\n",
        "      <th>1</th>\n",
        "      <td>  \u4eca\u5929\u5929\u6c23\u5f88\u721b</td>\n",
        "    </tr>\n",
        "    <tr>\n",
        "      <th>2</th>\n",
        "      <td>     \u6211\u6068\u5b83</td>\n",
        "    </tr>\n",
        "    <tr>\n",
        "      <th>3</th>\n",
        "      <td>     \u5b83\u6068\u6211</td>\n",
        "    </tr>\n",
        "    <tr>\n",
        "      <th>4</th>\n",
        "      <td>     \u6211\u611b\u5b83</td>\n",
        "    </tr>\n",
        "    <tr>\n",
        "      <th>5</th>\n",
        "      <td>     \u5b83\u611b\u6211</td>\n",
        "    </tr>\n",
        "    <tr>\n",
        "      <th>6</th>\n",
        "      <td>    \u4eca\u5929\u5f88\u8870</td>\n",
        "    </tr>\n",
        "    <tr>\n",
        "      <th>7</th>\n",
        "      <td> \u65e5\u5b50\u4e00\u5929\u4e00\u5929\u904e</td>\n",
        "    </tr>\n",
        "    <tr>\n",
        "      <th>8</th>\n",
        "      <td>  \u5929\u5929\u5237\u7259\u6d17\u81c9</td>\n",
        "    </tr>\n",
        "  </tbody>\n",
        "</table>\n",
        "<p>9 rows \u00d7 1 columns</p>\n",
        "</div>"
       ],
       "metadata": {},
       "output_type": "pyout",
       "prompt_number": 1,
       "text": [
        "      text\n",
        "0   \u4eca\u5929\u5929\u6c23\u5f88\u597d\n",
        "1   \u4eca\u5929\u5929\u6c23\u5f88\u721b\n",
        "2      \u6211\u6068\u5b83\n",
        "3      \u5b83\u6068\u6211\n",
        "4      \u6211\u611b\u5b83\n",
        "5      \u5b83\u611b\u6211\n",
        "6     \u4eca\u5929\u5f88\u8870\n",
        "7  \u65e5\u5b50\u4e00\u5929\u4e00\u5929\u904e\n",
        "8   \u5929\u5929\u5237\u7259\u6d17\u81c9\n",
        "\n",
        "[9 rows x 1 columns]"
       ]
      }
     ],
     "prompt_number": 1
    },
    {
     "cell_type": "code",
     "collapsed": false,
     "input": [
      "import PlaYnlp.tokenizer as tkr\n",
      "import PlaYnlp.old._vectorizer as vcr"
     ],
     "language": "python",
     "metadata": {},
     "outputs": [],
     "prompt_number": 3
    },
    {
     "cell_type": "code",
     "collapsed": false,
     "input": [],
     "language": "python",
     "metadata": {},
     "outputs": [],
     "prompt_number": 4
    },
    {
     "cell_type": "code",
     "collapsed": false,
     "input": [
      "jieba_without_html_tokenizer = vcr.tokenize_gen(lambda text:vcr.jieba.cut(vcr.nltk.clean_html(text)))\n",
      "unigram_without_html_tokenizer = vcr.tokenize_gen(lambda text:tkr.ngram(vcr.nltk.clean_html(text),n=1))\n",
      "bigram_without_html_tokenizer = vcr.tokenize_gen(lambda text:tkr.ngram(vcr.nltk.clean_html(text),n=2))"
     ],
     "language": "python",
     "metadata": {},
     "outputs": [],
     "prompt_number": 5
    },
    {
     "cell_type": "code",
     "collapsed": false,
     "input": [
      "jieba_vec_count_kwargs = {\"tokenizer\":jieba_without_html_tokenizer,\"lowercase\":False}\n",
      "unigram_vec_count_kwargs = {\"tokenizer\":unigram_without_html_tokenizer,\"lowercase\":False}\n",
      "bigram_vec_count_kwargs = {\"tokenizer\":bigram_without_html_tokenizer,\"lowercase\":False}"
     ],
     "language": "python",
     "metadata": {},
     "outputs": [],
     "prompt_number": 6
    },
    {
     "cell_type": "code",
     "collapsed": false,
     "input": [
      "jieba_text2vec = vcr.vectorize_text(df=test_text_df,\n",
      "                                    colname=\"text\",\n",
      "                                    query={}, \n",
      "                                    vect_gen=vcr.CountVectorizer, \n",
      "                                    vect_gen_init_kwargs = jieba_vec_count_kwargs)\n"
     ],
     "language": "python",
     "metadata": {},
     "outputs": [
      {
       "output_type": "stream",
       "stream": "stderr",
       "text": [
        "Building Trie..., from /usr/local/lib/python2.7/dist-packages/jieba/dict.txt\n",
        "loading model from cache /tmp/jieba.cache\n",
        "loading model cost "
       ]
      },
      {
       "output_type": "stream",
       "stream": "stderr",
       "text": [
        " 1.97129607201 seconds.\n",
        "Trie has been built succesfully.\n"
       ]
      }
     ],
     "prompt_number": 7
    },
    {
     "cell_type": "code",
     "collapsed": false,
     "input": [
      "jieba_text2vec._sdtm"
     ],
     "language": "python",
     "metadata": {},
     "outputs": [
      {
       "ename": "AttributeError",
       "evalue": "'Text2Vec' object has no attribute '_sdtm'",
       "output_type": "pyerr",
       "traceback": [
        "\u001b[1;31m---------------------------------------------------------------------------\u001b[0m\n\u001b[1;31mAttributeError\u001b[0m                            Traceback (most recent call last)",
        "\u001b[1;32m<ipython-input-9-a6f325c1fcd6>\u001b[0m in \u001b[0;36m<module>\u001b[1;34m()\u001b[0m\n\u001b[1;32m----> 1\u001b[1;33m \u001b[0mjieba_text2vec\u001b[0m\u001b[1;33m.\u001b[0m\u001b[0m_sdtm\u001b[0m\u001b[1;33m\u001b[0m\u001b[0m\n\u001b[0m",
        "\u001b[1;31mAttributeError\u001b[0m: 'Text2Vec' object has no attribute '_sdtm'"
       ]
      }
     ],
     "prompt_number": 9
    },
    {
     "cell_type": "code",
     "collapsed": false,
     "input": [
      "import numpy as np\n",
      "\n",
      "\n",
      "class SparseSparseDataFrameSummary(dict):\n",
      "    \n",
      "    def __init__(self, summary_data, summary_idx, sdf=None):\n",
      "        self[\"summary_data\"] = summary_data\n",
      "        self[\"summary_idx\"] = summary_idx\n",
      "        \n",
      "        if sdf != None:\n",
      "            self[\"sdf\"] = sdf\n",
      "            \n",
      "        \n",
      "    def __lt__(self, upper_bound):\n",
      "        return type(self)(summary_data = self[\"summary_data\"] < upper_bound,\n",
      "                          summary_idx = self[\"summary_idx\"],\n",
      "                          sdf = self[\"sdf\"])\n",
      "    \n",
      "    def __le__(self, upper_bound):\n",
      "        return type(self)(summary_data = self[\"summary_data\"] <= upper_bound,\n",
      "                          summary_idx = self[\"summary_idx\"],\n",
      "                          sdf = self[\"sdf\"])\n",
      "    \n",
      "    def __gt__(self, lower_bound):\n",
      "        return type(self)(summary_data = self[\"summary_data\"] > lower_bound,\n",
      "                          summary_idx = self[\"summary_idx\"],\n",
      "                          sdf = self[\"sdf\"])\n",
      "        \n",
      "    def __ge__(self, lower_bound):\n",
      "        return type(self)(summary_data = self[\"summary_data\"] > lower_bound,\n",
      "                              summary_idx = self[\"summary_idx\"],\n",
      "                              sdf = self[\"sdf\"])\n",
      "    \n",
      "    \n",
      "    def __and__(self, other_summary):\n",
      "        assert isinstance(other_summary, type(self))\n",
      "        assert np.array_equal(self[\"summary_idx\"],other_summary[\"summary_idx\"])\n",
      "        assert self['summary_data'].dtype == np.bool\n",
      "        assert other_summary['summary_data'].dtype == np.bool\n",
      "        \n",
      "        return type(self)(summary_data = self[\"summary_data\"] &  other_summary['summary_data'],\n",
      "                          summary_idx = self[\"summary_idx\"],\n",
      "                          sdf = self[\"sdf\"])\n",
      "        \n",
      "    @property\n",
      "    def _is_bool(self):\n",
      "        return self['summary_data'].dtype == np.bool\n",
      "    \n",
      "    @property\n",
      "    def _has_sdf(self):\n",
      "        return \"sdf\" in self.keys()\n",
      "    \n",
      "    @property\n",
      "    def _filtered_summary_idx(self):\n",
      "        assert self._is_bool\n",
      "        \n",
      "        return self[\"summary_idx\"][self['summary_data']]\n",
      "        \n",
      "    @property\n",
      "    def _sub_sdf(self):\n",
      "        assert self._is_bool and self._has_sdf\n",
      "        \n",
      "        if self[\"sdf\"].is_matched_col_shape(self['summary_data']):        \n",
      "            return self[\"sdf\"].sub_sdf(select_col = self['summary_data'])\n",
      "        \n",
      "        if self[\"sdf\"].is_matched_row_shape(self['summary_data']):        \n",
      "            return self[\"sdf\"].sub_sdf(select_row = self['summary_data'])\n",
      "        \n",
      "\n",
      "\n",
      "class SparseDataFrame(dict):\n",
      "    kmapper = {\"sdtm\":\"smatrix\"}\n",
      "    \n",
      "    def __init__(self, smatrix, col_idx=None, row_idx=None):\n",
      "        self[\"smatrix\"] = smatrix\n",
      "        \n",
      "        if col_idx != None:\n",
      "            assert isinstance(col_idx, (list, np.ndarray))\n",
      "            \n",
      "            if isinstance(col_idx, list):\n",
      "                assert self[\"smatrix\"].shape[1] == len(col_idx)\n",
      "                self[\"col_idx\"] = np.array(col_idx)\n",
      "                \n",
      "            else:\n",
      "                assert self[\"smatrix\"].shape[1] == col_idx.shape[0]\n",
      "                self[\"col_idx\"] = np.array(col_idx)\n",
      "        else:\n",
      "            self[\"col_idx\"] = np.arange(self[\"smatrix\"].shape[1])\n",
      "            \n",
      "            \n",
      "                \n",
      "        if row_idx != None:\n",
      "            assert isinstance(row_idx, (list, np.ndarray))\n",
      "            \n",
      "            if isinstance(row_idx, list):\n",
      "                assert self[\"smatrix\"].shape[0] == len(row_idx)\n",
      "                self[\"row_idx\"] = np.array(row_idx)\n",
      "                \n",
      "            else:\n",
      "                assert self[\"smatrix\"].shape[0] == row_idx.shape[0]\n",
      "                self[\"row_idx\"] = np.array(row_idx)\n",
      "                \n",
      "        else:\n",
      "            self[\"row_idx\"] = np.arange(self[\"smatrix\"].shape[0])\n",
      "    \n",
      "    \n",
      "    \n",
      "    def __getattr__(self, key):\n",
      "        \n",
      "        if key.startswith(\"_\") and key[1:] in self.keys():\n",
      "            return self[key[1:]]\n",
      "        else:\n",
      "            \n",
      "            if key.startswith(\"_\") and key[1:] in self.kmapper.keys() and self.kmapper[key[1:]] in self.keys():\n",
      "                return self[self.kmapper[key[1:]]]\n",
      "            else:\n",
      "                return None\n",
      "        \n",
      "#     @property\n",
      "#     def _smatrix(self):\n",
      "#         return self[\"smatrix\"]\n",
      "    \n",
      "#     @property\n",
      "#     def _col_idx(self):\n",
      "#         return self[\"col_idx\"]\n",
      "    \n",
      "#     @property\n",
      "#     def _row_idx(self):\n",
      "#         return self[\"row_idx\"]\n",
      "\n",
      "    @property\n",
      "    def T(self):\n",
      "        tr_sdf = type(self)(smatrix = self[\"smatrix\"].T,\n",
      "                            col_idx = self[\"row_idx\"],\n",
      "                            row_idx = self[\"col_idx\"])\n",
      "        return tr_sdf\n",
      "    \n",
      "    \n",
      "    def summarize_sdf(self, summarizer=lambda xx:xx.sum(axis=0)):\n",
      "    \n",
      "        summary_data = summarizer(self[\"smatrix\"])\n",
      "        \n",
      "        if len(summary_data.shape) == 1:\n",
      "            _summary_data = summary_data\n",
      "        else:\n",
      "            assert len(summary_data.shape) == 2\n",
      "            assert summary_data.shape[0] == 1 or summary_data.shape[1] == 1\n",
      "            \n",
      "            if summary_data.shape[0] == 1:\n",
      "                _summary_data = np.array(summary_data)[0,:]\n",
      "            else:\n",
      "                _summary_data = np.array(summary_data)[:,0]\n",
      "            \n",
      "        \n",
      "        if _summary_data.shape[0] == self[\"smatrix\"].shape[0]:\n",
      "            return SparseSparseDataFrameSummary(summary_data = _summary_data,\n",
      "                                                summary_idx = self[\"row_idx\"],\n",
      "                                                sdf = self)\n",
      "            \n",
      "        if _summary_data.shape[0] == self[\"smatrix\"].shape[1]:\n",
      "            return SparseSparseDataFrameSummary(summary_data = _summary_data,\n",
      "                                                summary_idx = self[\"col_idx\"],\n",
      "                                                sdf = self)\n",
      "\n",
      "        \n",
      "    def sub_sdf(self, select_col = None, select_row = None):\n",
      "        \n",
      "        if select_col != None:\n",
      "            _select_col_idx = select_col\n",
      "        else:\n",
      "            _select_col_idx = np.arange(len(self[\"col_idx\"]))\n",
      "\n",
      "        new_col_idx = self[\"col_idx\"][_select_col_idx]\n",
      "        \n",
      "        if select_row != None:\n",
      "            _select_row_idx = select_row\n",
      "        else:\n",
      "            _select_row_idx = np.arange(len(self[\"row_idx\"]))\n",
      "\n",
      "        new_row_idx = self[\"row_idx\"][_select_row_idx]\n",
      "        \n",
      "        new_smatrix = self[\"smatrix\"][_select_row_idx,:][:,_select_col_idx]\n",
      "        \n",
      "        return type(self)(smatrix = new_smatrix,\n",
      "                          col_idx = new_col_idx,\n",
      "                          row_idx = new_row_idx)\n",
      "    \n",
      "    \n",
      "    def is_matched_col_shape(self, vec):\n",
      "        if isinstance(vec, list):\n",
      "            return len(vec) == self[\"smatrix\"].shape[1]\n",
      "        \n",
      "        if isinstance(vec, np.ndarray):\n",
      "            assert len(vec.shape) == 1\n",
      "            return vec.shape[0] == self[\"smatrix\"].shape[1]\n",
      "        \n",
      "    def is_matched_row_shape(self,vec):\n",
      "        if isinstance(vec, list):\n",
      "            return len(vec) == self[\"smatrix\"].shape[0]\n",
      "        \n",
      "        if isinstance(vec, np.ndarray):\n",
      "            assert len(vec.shape) == 1\n",
      "            return vec.shape[0] == self[\"smatrix\"].shape[0]\n",
      "            \n",
      "        \n",
      "    def is_col_vec(self,vec):\n",
      "        return self.is_matched_row_shape(vec)\n",
      "        \n",
      "        \n",
      "    def is_row_vec(self,vec):\n",
      "        return self.is_matched_col_shape(vec)\n",
      "        \n",
      "        \n",
      "        "
     ],
     "language": "python",
     "metadata": {},
     "outputs": [],
     "prompt_number": 145
    },
    {
     "cell_type": "code",
     "collapsed": false,
     "input": [
      "test_sdf = SparseDataFrame(jieba_text2vec[\"sdtm\"], \n",
      "                            col_idx = jieba_text2vec[\"vec\"].get_feature_names(),\n",
      "                            row_idx = articles_df[\"url\"].values)"
     ],
     "language": "python",
     "metadata": {},
     "outputs": [],
     "prompt_number": 146
    },
    {
     "cell_type": "code",
     "collapsed": false,
     "input": [
      "test_sdf._smatrix"
     ],
     "language": "python",
     "metadata": {},
     "outputs": [
      {
       "metadata": {},
       "output_type": "pyout",
       "prompt_number": 147,
       "text": [
        "<37122x16356 sparse matrix of type '<type 'numpy.int64'>'\n",
        "\twith 364299 stored elements in Compressed Sparse Column format>"
       ]
      }
     ],
     "prompt_number": 147
    },
    {
     "cell_type": "code",
     "collapsed": false,
     "input": [
      "test_sdf._col_idx"
     ],
     "language": "python",
     "metadata": {},
     "outputs": [
      {
       "metadata": {},
       "output_type": "pyout",
       "prompt_number": 148,
       "text": [
        "array([u' ', u'!', u'\"', ..., u'\\uff51', u'\\uff53', u'\\uff5e'], \n",
        "      dtype='<U27')"
       ]
      }
     ],
     "prompt_number": 148
    },
    {
     "cell_type": "code",
     "collapsed": false,
     "input": [
      "test_sdf._row_idx"
     ],
     "language": "python",
     "metadata": {},
     "outputs": [
      {
       "metadata": {},
       "output_type": "pyout",
       "prompt_number": 149,
       "text": [
        "array([u'http://www.ptt.cc/bbs/Accounting/M.1391579341.A.20A.html',\n",
        "       u'http://www.ptt.cc/bbs/Accounting/M.1391582662.A.8A1.html',\n",
        "       u'http://www.ptt.cc/bbs/Accounting/M.1391590052.A.364.html', ...,\n",
        "       u'http://www.ptt.cc/bbs/Accounting/M.1388857344.A.617.html',\n",
        "       u'http://www.ptt.cc/bbs/Accounting/M.1388937222.A.D5F.html',\n",
        "       u'http://www.ptt.cc/bbs/Accounting/M.1389000970.A.662.html'], dtype=object)"
       ]
      }
     ],
     "prompt_number": 149
    },
    {
     "cell_type": "code",
     "collapsed": false,
     "input": [
      "print test_sdf.smatrix\n",
      "print test_sdf.col_idx\n",
      "print test_sdf.row_idx"
     ],
     "language": "python",
     "metadata": {},
     "outputs": [
      {
       "output_type": "stream",
       "stream": "stdout",
       "text": [
        "None\n",
        "None\n",
        "None\n"
       ]
      }
     ],
     "prompt_number": 150
    },
    {
     "cell_type": "code",
     "collapsed": false,
     "input": [
      "test_sdf._sdtm"
     ],
     "language": "python",
     "metadata": {},
     "outputs": [
      {
       "metadata": {},
       "output_type": "pyout",
       "prompt_number": 151,
       "text": [
        "<37122x16356 sparse matrix of type '<type 'numpy.int64'>'\n",
        "\twith 364299 stored elements in Compressed Sparse Column format>"
       ]
      }
     ],
     "prompt_number": 151
    },
    {
     "cell_type": "code",
     "collapsed": false,
     "input": [
      "test_sdf.summarize_sdf() < 40"
     ],
     "language": "python",
     "metadata": {},
     "outputs": [
      {
       "metadata": {},
       "output_type": "pyout",
       "prompt_number": 152,
       "text": [
        "{'sdf': {'col_idx': array([u' ', u'!', u'\"', ..., u'\\uff51', u'\\uff53', u'\\uff5e'], \n",
        "        dtype='<U27'),\n",
        "  'row_idx': array([u'http://www.ptt.cc/bbs/Accounting/M.1391579341.A.20A.html',\n",
        "         u'http://www.ptt.cc/bbs/Accounting/M.1391582662.A.8A1.html',\n",
        "         u'http://www.ptt.cc/bbs/Accounting/M.1391590052.A.364.html', ...,\n",
        "         u'http://www.ptt.cc/bbs/Accounting/M.1388857344.A.617.html',\n",
        "         u'http://www.ptt.cc/bbs/Accounting/M.1388937222.A.D5F.html',\n",
        "         u'http://www.ptt.cc/bbs/Accounting/M.1389000970.A.662.html'], dtype=object),\n",
        "  'smatrix': <37122x16356 sparse matrix of type '<type 'numpy.int64'>'\n",
        "  \twith 364299 stored elements in Compressed Sparse Column format>},\n",
        " 'summary_data': array([False, False, False, ...,  True,  True, False], dtype=bool),\n",
        " 'summary_idx': array([u' ', u'!', u'\"', ..., u'\\uff51', u'\\uff53', u'\\uff5e'], \n",
        "       dtype='<U27')}"
       ]
      }
     ],
     "prompt_number": 152
    },
    {
     "cell_type": "code",
     "collapsed": false,
     "input": [
      "((test_sdf.summarize_sdf() > 5) & (test_sdf.summarize_sdf() < 400))._filtered_summary_idx"
     ],
     "language": "python",
     "metadata": {},
     "outputs": [
      {
       "metadata": {},
       "output_type": "pyout",
       "prompt_number": 153,
       "text": [
        "array([u'#', u'$', u'%', ..., u'\\uff24', u'\\uff3d', u'\\uff5e'], \n",
        "      dtype='<U27')"
       ]
      }
     ],
     "prompt_number": 153
    },
    {
     "cell_type": "code",
     "collapsed": false,
     "input": [
      "((test_sdf.summarize_sdf() > 5) & (test_sdf.summarize_sdf() < 400))"
     ],
     "language": "python",
     "metadata": {},
     "outputs": [
      {
       "metadata": {},
       "output_type": "pyout",
       "prompt_number": 154,
       "text": [
        "{'sdf': {'col_idx': array([u' ', u'!', u'\"', ..., u'\\uff51', u'\\uff53', u'\\uff5e'], \n",
        "        dtype='<U27'),\n",
        "  'row_idx': array([u'http://www.ptt.cc/bbs/Accounting/M.1391579341.A.20A.html',\n",
        "         u'http://www.ptt.cc/bbs/Accounting/M.1391582662.A.8A1.html',\n",
        "         u'http://www.ptt.cc/bbs/Accounting/M.1391590052.A.364.html', ...,\n",
        "         u'http://www.ptt.cc/bbs/Accounting/M.1388857344.A.617.html',\n",
        "         u'http://www.ptt.cc/bbs/Accounting/M.1388937222.A.D5F.html',\n",
        "         u'http://www.ptt.cc/bbs/Accounting/M.1389000970.A.662.html'], dtype=object),\n",
        "  'smatrix': <37122x16356 sparse matrix of type '<type 'numpy.int64'>'\n",
        "  \twith 364299 stored elements in Compressed Sparse Column format>},\n",
        " 'summary_data': array([False, False, False, ..., False, False,  True], dtype=bool),\n",
        " 'summary_idx': array([u' ', u'!', u'\"', ..., u'\\uff51', u'\\uff53', u'\\uff5e'], \n",
        "       dtype='<U27')}"
       ]
      }
     ],
     "prompt_number": 154
    },
    {
     "cell_type": "code",
     "collapsed": false,
     "input": [
      "((test_sdf.summarize_sdf() > 5) & (test_sdf.summarize_sdf() < 400))._sub_sdf"
     ],
     "language": "python",
     "metadata": {},
     "outputs": [
      {
       "metadata": {},
       "output_type": "pyout",
       "prompt_number": 157,
       "text": [
        "{'col_idx': array([u'#', u'$', u'%', ..., u'\\uff24', u'\\uff3d', u'\\uff5e'], \n",
        "       dtype='<U27'),\n",
        " 'row_idx': array([u'http://www.ptt.cc/bbs/Accounting/M.1391579341.A.20A.html',\n",
        "        u'http://www.ptt.cc/bbs/Accounting/M.1391582662.A.8A1.html',\n",
        "        u'http://www.ptt.cc/bbs/Accounting/M.1391590052.A.364.html', ...,\n",
        "        u'http://www.ptt.cc/bbs/Accounting/M.1388857344.A.617.html',\n",
        "        u'http://www.ptt.cc/bbs/Accounting/M.1388937222.A.D5F.html',\n",
        "        u'http://www.ptt.cc/bbs/Accounting/M.1389000970.A.662.html'], dtype=object),\n",
        " 'smatrix': <37122x3653 sparse matrix of type '<type 'numpy.int64'>'\n",
        " \twith 113608 stored elements in Compressed Sparse Column format>}"
       ]
      }
     ],
     "prompt_number": 157
    },
    {
     "cell_type": "code",
     "collapsed": false,
     "input": [
      "((test_sdf.summarize_sdf() > 5) & (test_sdf.summarize_sdf() < 400))._sub_sdf.T"
     ],
     "language": "python",
     "metadata": {},
     "outputs": [
      {
       "metadata": {},
       "output_type": "pyout",
       "prompt_number": 158,
       "text": [
        "{'col_idx': array([u'http://www.ptt.cc/bbs/Accounting/M.1391579341.A.20A.html',\n",
        "        u'http://www.ptt.cc/bbs/Accounting/M.1391582662.A.8A1.html',\n",
        "        u'http://www.ptt.cc/bbs/Accounting/M.1391590052.A.364.html', ...,\n",
        "        u'http://www.ptt.cc/bbs/Accounting/M.1388857344.A.617.html',\n",
        "        u'http://www.ptt.cc/bbs/Accounting/M.1388937222.A.D5F.html',\n",
        "        u'http://www.ptt.cc/bbs/Accounting/M.1389000970.A.662.html'], dtype=object),\n",
        " 'row_idx': array([u'#', u'$', u'%', ..., u'\\uff24', u'\\uff3d', u'\\uff5e'], \n",
        "       dtype='<U27'),\n",
        " 'smatrix': <3653x37122 sparse matrix of type '<type 'numpy.int64'>'\n",
        " \twith 113608 stored elements in Compressed Sparse Row format>}"
       ]
      }
     ],
     "prompt_number": 158
    },
    {
     "cell_type": "code",
     "collapsed": false,
     "input": [
      "((test_sdf.summarize_sdf() > 5) & (test_sdf.summarize_sdf() < 400))._sub_sdf.T.summarize_sdf()"
     ],
     "language": "python",
     "metadata": {},
     "outputs": [
      {
       "metadata": {},
       "output_type": "pyout",
       "prompt_number": 159,
       "text": [
        "{'sdf': {'col_idx': array([u'http://www.ptt.cc/bbs/Accounting/M.1391579341.A.20A.html',\n",
        "         u'http://www.ptt.cc/bbs/Accounting/M.1391582662.A.8A1.html',\n",
        "         u'http://www.ptt.cc/bbs/Accounting/M.1391590052.A.364.html', ...,\n",
        "         u'http://www.ptt.cc/bbs/Accounting/M.1388857344.A.617.html',\n",
        "         u'http://www.ptt.cc/bbs/Accounting/M.1388937222.A.D5F.html',\n",
        "         u'http://www.ptt.cc/bbs/Accounting/M.1389000970.A.662.html'], dtype=object),\n",
        "  'row_idx': array([u'#', u'$', u'%', ..., u'\\uff24', u'\\uff3d', u'\\uff5e'], \n",
        "        dtype='<U27'),\n",
        "  'smatrix': <3653x37122 sparse matrix of type '<type 'numpy.int64'>'\n",
        "  \twith 113608 stored elements in Compressed Sparse Row format>},\n",
        " 'summary_data': array([2, 4, 7, ..., 4, 4, 5]),\n",
        " 'summary_idx': array([u'http://www.ptt.cc/bbs/Accounting/M.1391579341.A.20A.html',\n",
        "        u'http://www.ptt.cc/bbs/Accounting/M.1391582662.A.8A1.html',\n",
        "        u'http://www.ptt.cc/bbs/Accounting/M.1391590052.A.364.html', ...,\n",
        "        u'http://www.ptt.cc/bbs/Accounting/M.1388857344.A.617.html',\n",
        "        u'http://www.ptt.cc/bbs/Accounting/M.1388937222.A.D5F.html',\n",
        "        u'http://www.ptt.cc/bbs/Accounting/M.1389000970.A.662.html'], dtype=object)}"
       ]
      }
     ],
     "prompt_number": 159
    },
    {
     "cell_type": "code",
     "collapsed": false,
     "input": [],
     "language": "python",
     "metadata": {},
     "outputs": []
    },
    {
     "cell_type": "markdown",
     "metadata": {},
     "source": [
      "https://www.inkling.com/read/learning-python-mark-lutz-4th/chapter-29/indexing-and-slicing---getitem-"
     ]
    },
    {
     "cell_type": "code",
     "collapsed": false,
     "input": [
      "range(10)[slice(None,5)]"
     ],
     "language": "python",
     "metadata": {},
     "outputs": [
      {
       "metadata": {},
       "output_type": "pyout",
       "prompt_number": 9,
       "text": [
        "[0, 1, 2, 3, 4]"
       ]
      }
     ],
     "prompt_number": 9
    },
    {
     "cell_type": "code",
     "collapsed": false,
     "input": [
      "class Test(dict):\n",
      "    def __getattr__(self,name):\n",
      "        return self[name]"
     ],
     "language": "python",
     "metadata": {},
     "outputs": [],
     "prompt_number": 10
    },
    {
     "cell_type": "code",
     "collapsed": false,
     "input": [
      "test = Test()\n",
      "test[\"abc\"] = 123\n",
      "test[\"bc\"] = \"123r432r\"\n",
      "print test.abc\n",
      "print test.bc\n"
     ],
     "language": "python",
     "metadata": {},
     "outputs": [
      {
       "output_type": "stream",
       "stream": "stdout",
       "text": [
        "123\n",
        "123r432r\n"
       ]
      }
     ],
     "prompt_number": 11
    },
    {
     "cell_type": "code",
     "collapsed": false,
     "input": [],
     "language": "python",
     "metadata": {},
     "outputs": [],
     "prompt_number": 11
    },
    {
     "cell_type": "code",
     "collapsed": false,
     "input": [],
     "language": "python",
     "metadata": {},
     "outputs": [],
     "prompt_number": 12
    }
   ],
   "metadata": {}
  }
 ]
}