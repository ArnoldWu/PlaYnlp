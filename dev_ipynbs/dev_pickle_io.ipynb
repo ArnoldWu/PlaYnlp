{
 "metadata": {
  "name": ""
 },
 "nbformat": 3,
 "nbformat_minor": 0,
 "worksheets": [
  {
   "cells": [
    {
     "cell_type": "code",
     "collapsed": false,
     "input": [
      "import PlaYnlp.tokenizer as tkr \n",
      "import PlaYnlp.vectorizer as vcr \n",
      "from PlaYnlp.sparse import L0_norm_col_summarizer as L0_col_sum\n",
      "from PlaYnlp.sparse import L1_norm_col_summarizer as L1_col_sum\n",
      "import numpy as np\n",
      "import scipy as sp"
     ],
     "language": "python",
     "metadata": {},
     "outputs": [],
     "prompt_number": 1
    },
    {
     "cell_type": "code",
     "collapsed": false,
     "input": [
      "jieba_without_html_tokenizer = tkr.tokenize_gen(lambda text:tkr.jieba.cut(tkr.nltk.clean_html(text)))\n",
      "unigram_without_html_tokenizer = tkr.tokenize_gen(lambda text:tkr.ngram(tkr.nltk.clean_html(text),n=1))\n",
      "bigram_without_html_tokenizer = tkr.tokenize_gen(lambda text:tkr.ngram(tkr.nltk.clean_html(text),n=2))\n",
      "jieba_vec_count_kwargs = {\"tokenizer\":jieba_without_html_tokenizer,\"lowercase\":False}\n",
      "unigram_vec_count_kwargs = {\"tokenizer\":unigram_without_html_tokenizer,\"lowercase\":False}\n",
      "bigram_vec_count_kwargs = {\"tokenizer\":bigram_without_html_tokenizer,\"lowercase\":False}"
     ],
     "language": "python",
     "metadata": {},
     "outputs": [],
     "prompt_number": 2
    },
    {
     "cell_type": "code",
     "collapsed": false,
     "input": [
      "import pickle\n",
      "\n",
      "with open(\"PTT___movie.pickle\",\"rb\") as read_file:\n",
      "    articles_df,articles_push_df = pickle.load(read_file)"
     ],
     "language": "python",
     "metadata": {},
     "outputs": [],
     "prompt_number": 3
    },
    {
     "cell_type": "code",
     "collapsed": false,
     "input": [
      "test_ptt_text_sdtm = vcr.vectorize_text(df=articles_df,\n",
      "                                         text_col=\"title\", \n",
      "                                         vect_gen=vcr.CountVectorizer, \n",
      "                                         vect_gen_init_kwargs = jieba_vec_count_kwargs,\n",
      "                                         summarizer = L0_col_sum)"
     ],
     "language": "python",
     "metadata": {},
     "outputs": [
      {
       "output_type": "stream",
       "stream": "stderr",
       "text": [
        "Building Trie..., from /usr/local/lib/python2.7/dist-packages/jieba/dict.txt\n",
        "dumping model to file cache /tmp/jieba.cache"
       ]
      },
      {
       "output_type": "stream",
       "stream": "stderr",
       "text": [
        "\n",
        "loading model cost "
       ]
      },
      {
       "output_type": "stream",
       "stream": "stderr",
       "text": [
        " 4.50751304626 seconds.\n",
        "Trie has been built succesfully.\n"
       ]
      }
     ],
     "prompt_number": 4
    },
    {
     "cell_type": "code",
     "collapsed": false,
     "input": [
      "test_ptt_text_sdtm"
     ],
     "language": "python",
     "metadata": {},
     "outputs": [
      {
       "metadata": {},
       "output_type": "pyout",
       "prompt_number": 5,
       "text": [
        "{'col_idx': array([u' ', u'!', u'\"', ..., u'\\uff3f', u'\\uff5c', u'\\uff5e'], \n",
        "       dtype='<U23'),\n",
        " 'row_idx': array([    0,     1,     2, ..., 26129, 26130, 26131]),\n",
        " 'smatrix': <26132x23366 sparse matrix of type '<type 'numpy.int64'>'\n",
        " \twith 288389 stored elements in Compressed Sparse Column format>,\n",
        " 'summarizer': <function PlaYnlp.sparse.L0_norm_col_summarizer>}"
       ]
      }
     ],
     "prompt_number": 5
    },
    {
     "cell_type": "code",
     "collapsed": false,
     "input": [
      "with open(\"dev_pickle_test.pickle\",\"wb\") as wfile:\n",
      "    pickle.dump(test_ptt_text_sdtm,wfile)"
     ],
     "language": "python",
     "metadata": {},
     "outputs": [],
     "prompt_number": 6
    },
    {
     "cell_type": "code",
     "collapsed": false,
     "input": [
      "with open(\"dev_pickle_test.pickle\",\"rb\") as rfile:\n",
      "    _unpickled_sdtm = pickle.load(rfile)"
     ],
     "language": "python",
     "metadata": {},
     "outputs": [],
     "prompt_number": 15
    },
    {
     "cell_type": "code",
     "collapsed": false,
     "input": [
      "_unpickled_sdtm"
     ],
     "language": "python",
     "metadata": {},
     "outputs": [
      {
       "metadata": {},
       "output_type": "pyout",
       "prompt_number": 16,
       "text": [
        "{'col_idx': array([u' ', u'!', u'\"', ..., u'\\uff3f', u'\\uff5c', u'\\uff5e'], \n",
        "       dtype='<U23'),\n",
        " 'row_idx': array([    0,     1,     2, ..., 26129, 26130, 26131]),\n",
        " 'smatrix': <26132x23366 sparse matrix of type '<type 'numpy.int64'>'\n",
        " \twith 288389 stored elements in Compressed Sparse Column format>,\n",
        " 'summarizer': <function PlaYnlp.sparse.L0_norm_col_summarizer>}"
       ]
      }
     ],
     "prompt_number": 16
    },
    {
     "cell_type": "code",
     "collapsed": false,
     "input": [
      "print \"// \".join((_unpickled_sdtm.summary > 200)._filtered_idx)"
     ],
     "language": "python",
     "metadata": {},
     "outputs": [
      {
       "output_type": "stream",
       "stream": "stdout",
       "text": [
        " // !// \"// (// )// ,// -// ...// /// 2// 2013// 3// 6// :// ?// Fw// Re// The// [// ]// ~// \u2500// \u3000// \u3001// \u300a// \u300b// \u300c// \u300d// \u3010// \u3011// \u4e00\u500b// \u4e00\u90e8// \u4e0d// \u4e16\u754c// \u4e2d// \u4e4b// \u4e4b\u6230// \u4e86// \u4eba// \u4ec0\u9ebc// \u4f60// \u51b0\u96ea// \u5287\u60c5// \u53f0\u7063// \u548c// \u554f\u7247// \u554f\u984c// \u55ce// \u5728// \u5730\u5fc3\u5f15\u529b// \u5927// \u592a\u5e73\u6d0b// \u5947\u7de3// \u597d// \u597d\u96f7// \u5c0e\u6f14// \u5c0f// \u5e74// \u5f71\u8a55// \u5f88// \u5fc3\u5f97// \u60c5\u5831// \u611b\u60c5// \u6211// \u6230// \u6230\u5883// \u63a8\u85a6// \u65b0// \u65b0\u805e// \u662f// \u666e\u96f7// \u6700// \u6703// \u6709// \u6709\u95dc// \u6709\u96f7// \u672b\u65e5// \u6bad\u5c4d// \u70ba// \u7121\u96f7// \u7247// \u7247\u55ae// \u72fc// \u73a9\u547d// \u74b0// \u7591\u554f// \u7684// \u770b// \u7968\u623f// \u7d22\u723e// \u7e3d// \u7f8e\u570b// \u8207// \u82f1\u96c4// \u88ab// \u89c0\u5f8c\u611f// \u8a0e\u8ad6// \u8acb\u554f// \u8acb\u76ca// \u8ca0\u96f7// \u8d08\u7968// \u8d85\u4eba// \u8ddf// \u904a\u6232// \u9078\u7247// \u907a\u843d// \u90fd// \u91d1\u99ac// \u92fc\u9435// \u95dc\u65bc// \u95dc\u982d// \u96f7// \u96f7\u795e// \u96fb\u5f71// \u9810\u544a// \u9ed1// \uff01// \uff08// \uff09// \uff0c// \uff1a// \uff1f\n"
       ]
      }
     ],
     "prompt_number": 17
    },
    {
     "cell_type": "code",
     "collapsed": false,
     "input": [],
     "language": "python",
     "metadata": {},
     "outputs": [],
     "prompt_number": 9
    },
    {
     "cell_type": "code",
     "collapsed": false,
     "input": [
      "one_news_idx = 4977\n",
      "one_news_sdtm = _unpickled_sdtm.select_rows([one_news_idx])\n",
      "print \"(one_news.summary > 0)._filtered_idx.shape = \",(one_news_sdtm.summary > 0)._filtered_idx.shape\n",
      "print \"// \".join(((one_news_sdtm.summary > 0))._filtered_idx)\n",
      "n_words = len((one_news_sdtm.summary > 0)._filtered_idx)\n",
      "print \"n_words = \",n_words\n",
      "filtered_words_sdtm = _unpickled_sdtm.select_columns(one_news_sdtm.summary > 0)\n",
      "\n",
      "words_weights = 1.0 / filtered_words_sdtm.summary._data\n",
      "print \"words_weights = \",words_weights\n",
      "words_weights*filtered_words_sdtm._smatrix.T\n",
      "\n",
      "n_top = 4\n",
      "select_post_ptrs = filtered_words_sdtm.summarize_sdf(lambda xx:words_weights*xx.T)._data.argsort()[-n_top:]\n",
      "print \"select_post_ptrs = \",select_post_ptrs\n",
      "\n",
      "\n",
      "print filtered_words_sdtm.summarize_sdf(lambda xx:words_weights*xx.T)._data[select_post_ptrs]\n",
      "\n",
      "# select_post_ptrs = filtered_words_sdtm.T.summary._data.argsort()[-n_top:]\n",
      "# print select_post_ptrs\n",
      "# filtered_words_sdtm = filtered_words_sdtm.select_rows(select_post_ptrs)\n",
      "# filtered_words_sdtm\n",
      "\n",
      "articles_df.ix[select_post_ptrs][\"title\"]"
     ],
     "language": "python",
     "metadata": {},
     "outputs": [
      {
       "output_type": "stream",
       "stream": "stdout",
       "text": [
        "(one_news.summary > 0)._filtered_idx.shape =  (13,)\n",
        " // (// )// BBS// [// ]// \u5168\u9762// \u555f\u52d5// \u5716\u89e3// \u5de8\u96f7// \u7248// \u8aaa\u660e// \u9644\n",
        "n_words =  13\n",
        "words_weights =  [  4.21371987e-05   4.69043152e-04   4.80538203e-04   3.70370370e-02\n",
        "   3.91711387e-05   3.91696044e-05   7.87401575e-03   1.44927536e-02\n",
        "   2.50000000e-01   2.00000000e-01   8.40336134e-03   7.69230769e-02\n",
        "   2.00000000e-01]\n",
        "select_post_ptrs =  [ 4111  4138 20941  4977]\n",
        "[ 0.27248725  0.27252938  0.40107006  0.79588458]\n"
       ]
      },
      {
       "metadata": {},
       "output_type": "pyout",
       "prompt_number": 27,
       "text": [
        "4111           [\u597d\u96f7] \u5716\u89e3\u5168\u9762\u555f\u52d5\u4e2d\u5922\u5883\u67b6\u69cb\n",
        "4138               [\u8a0e\u8ad6] \u5168\u9762\u555f\u52d5 \u5716\u89e3\n",
        "20941     [\u5de8\u96f7] \u96f7\u795e\u7d22\u723e\u89c0\u5f8c\u611f(\u5de8\u96f7\uff0c\u4e0d\u559c\u52ff\u5165)\n",
        "4977     [\u5de8\u96f7] \u5168\u9762\u555f\u52d5 \u5716\u89e3BBS\u7248 (\u9644\u8aaa\u660e)\n",
        "Name: title, dtype: object"
       ]
      }
     ],
     "prompt_number": 27
    },
    {
     "cell_type": "code",
     "collapsed": false,
     "input": [],
     "language": "python",
     "metadata": {},
     "outputs": []
    },
    {
     "cell_type": "code",
     "collapsed": false,
     "input": [
      "one_news_sdtm = _unpickled_sdtm.select_rows(select_post_ptrs)\n",
      "print \"(one_news.summary > 0)._filtered_idx.shape = \",(one_news_sdtm.summary > 0)._filtered_idx.shape\n",
      "print \"// \".join(((one_news_sdtm.summary > 0))._filtered_idx)\n",
      "n_words = len((one_news_sdtm.summary > 0)._filtered_idx)\n",
      "print \"n_words = \",n_words\n",
      "filtered_words_sdtm = _unpickled_sdtm.select_columns(one_news_sdtm.summary > 0)\n",
      "\n",
      "words_weights = 1.0 / filtered_words_sdtm.summary._data\n",
      "print \"words_weights = \",words_weights\n",
      "words_weights*filtered_words_sdtm._smatrix.T\n",
      "\n",
      "n_top = 20\n",
      "select_post_ptrs = filtered_words_sdtm.summarize_sdf(lambda xx:words_weights*xx.T)._data.argsort()[-n_top:]\n",
      "print \"select_post_ptrs = \",select_post_ptrs\n",
      "\n",
      "\n",
      "print filtered_words_sdtm.summarize_sdf(lambda xx:words_weights*xx.T)._data[select_post_ptrs]\n",
      "\n",
      "# select_post_ptrs = filtered_words_sdtm.T.summary._data.argsort()[-n_top:]\n",
      "# print select_post_ptrs\n",
      "# filtered_words_sdtm = filtered_words_sdtm.select_rows(select_post_ptrs)\n",
      "# filtered_words_sdtm\n",
      "\n",
      "articles_df.ix[select_post_ptrs][\"title\"]"
     ],
     "language": "python",
     "metadata": {},
     "outputs": [
      {
       "output_type": "stream",
       "stream": "stdout",
       "text": [
        "(one_news.summary > 0)._filtered_idx.shape =  (31,)\n",
        " // (// )// BBS// [// ]// \u3002// \u4e0d\u559c// \u4e2d// \u5165// \u5168\u9762// \u52ff// \u555f\u52d5// \u56b4\u8085// \u5716\u89e3// \u5922\u5883// \u5929\u5916// \u5947\u8e5f// \u597d\u96f7// \u5de8\u96f7// \u67b6\u69cb// \u7248// \u7d22\u723e// \u89c0\u5f8c\u611f// \u8aaa\u660e// \u9577\u6587// \u9644// \u96f7\u795e// \uff08// \uff09// \uff0c\n",
        "n_words =  31\n",
        "words_weights =  [  4.21371987e-05   4.69043152e-04   4.80538203e-04   3.70370370e-02\n",
        "   3.91711387e-05   3.91696044e-05   6.21118012e-03   1.66666667e-01\n",
        "   2.68817204e-03   1.42857143e-01   7.87401575e-03   1.25000000e-01\n",
        "   1.44927536e-02   1.25000000e-01   2.50000000e-01   1.42857143e-01\n",
        "   1.66666667e-01   3.57142857e-02   1.93573364e-04   2.00000000e-01\n",
        "   1.25000000e-01   8.40336134e-03   4.83091787e-03   4.36681223e-03\n",
        "   7.69230769e-02   5.00000000e-01   2.00000000e-01   4.83091787e-03\n",
        "   1.68634064e-03   1.68634064e-03   9.75609756e-04]\n",
        "select_post_ptrs =  [12788  9889 10203  6636  2009  1638 14945  3704  3689 23243 17619   822\n",
        "  4138  4162 17792  4111  3933  4977 20941  3930]\n",
        "[ 0.20016262  0.20016262  0.20020475  0.20063166  0.2012215   0.20130577\n",
        "  0.20245929  0.20273714  0.20606768  0.25012048  0.26797762  0.27130816\n",
        "  0.27252938  0.2904708   0.50221321  0.54322614  0.56613332  0.79588458\n",
        "  0.85059813  1.27277828]\n"
       ]
      },
      {
       "metadata": {},
       "output_type": "pyout",
       "prompt_number": 30,
       "text": [
        "12788                        [\u6975\u597d\u96f7] \u9032\u64ca\u7684\u74b0\u592a\u5e73\u6d0b!! \u9644\u6b4c\u66f2\n",
        "9889                         [\u5de8\u96f7]Man of Steel\u7684\u5287\u60c5\n",
        "10203                    Re: [\u5de8\u96f7]Man of Steel\u7684\u5287\u60c5\n",
        "6636                        Fw: [\u9592\u804a] \u92fc\u9435\u4eba3\u8d85\u7d1a\u5de8\u96f7(\u81ea\u91cd\n",
        "2009                   [\u597d\u96f7]\"\u7df4\u7fd2\u66f2\"\u7a76\u7adf\u7df4\u4e86\u4ec0\u9ebc\u66f2\u5b50(\u9644\u7cbe\u5f69\u5287\u7167\u5594)\n",
        "1638              [\u597d\u96f7] \u795e\u9b3c\u5947\u822a\u6700\u7d42\u96c6\u55ce\uff1a\u4e16\u754c\u7684\u76e1\u982d\u5fc3\u5f97 (\u9644\u7cbe\u5f69\u5287\u7167\u5537)\n",
        "14945                     [\u5206\u4eab]\u300a\u5929\u5916\u5947\u8e5f\u300b\u96fb\u5f71\u771f\u6b63\u4ee4\u4eba\u611f\u52d5\u7684\u662f\u6545\u4e8b\n",
        "3704                     [\u597d\u96f7] Up \u5929\u5916\u5947\u8e5f\u2500\u76f8\u8f14\u76f8\u6210\u7684\u8cac\u4efb\u8207\u5922\u60f3\n",
        "3689                         [\u597d\u96f7] \u300a\u5929\u5916\u5947\u8e5f\u300bby\uff08\u6642\u5149\u4e4b\u786f\uff09\n",
        "23243                      [\u7121\u96f7] \u300a\u751c\u871c\u6bba\u6a5f\u300b\u4e00\u5f35\u5716\u89e3\u91cb\u8b66\u532a\u559c\u5287\u7247\n",
        "17619                  [\u8d85\u778e]\u88ab\u5077\u8d70\u7684\u90a3\u4e94\u5e74 \u770b\u5b8c\u5931\u671b\u900f\u4e86!\u672a\u770b\u8005\u52ff\u5165!\n",
        "822                 [\u6709\u96f7]\u6709\u4eba\u4e0d\u559c\u6b61\u7a7fprada\u7684\u60e1\u9b54\u55ce\uff08\u559c\u6b61\u8005\u52ff\u5165-\u8b1d\uff09\n",
        "4138                                [\u8a0e\u8ad6] \u5168\u9762\u555f\u52d5 \u5716\u89e3\n",
        "4162                   [\u8a0e\u8ad6] \u5168\u9762\u555f\u52d5 | \u5922\u5883x\u5fc3\u7406x\u751f\u7406 \u67b6\u69cb\u5256\u6790\n",
        "17792                          [\u597d\u96f7]\u98a8\u7acb\u3061\u306c(\u98a8\u8d77) (\u9577\u6587)\n",
        "4111                            [\u597d\u96f7] \u5716\u89e3\u5168\u9762\u555f\u52d5\u4e2d\u5922\u5883\u67b6\u69cb\n",
        "3933     [\u597d\u96f7] \u56b4\u8085\u8a55\u8ad6\u4e0d\u559c\u52ff\u5165\u3002\u60e1\u68cd\u7279\u5de5 Inglourious Basterds\n",
        "4977                      [\u5de8\u96f7] \u5168\u9762\u555f\u52d5 \u5716\u89e3BBS\u7248 (\u9644\u8aaa\u660e)\n",
        "20941                      [\u5de8\u96f7] \u96f7\u795e\u7d22\u723e\u89c0\u5f8c\u611f(\u5de8\u96f7\uff0c\u4e0d\u559c\u52ff\u5165)\n",
        "3930                       [\u597d\u96f7] \u5929\u5916\u5947\u8e5f\u3002\uff08\u56b4\u8085\u9577\u6587\uff0c\u4e0d\u559c\u52ff\u5165\uff09\n",
        "Name: title, dtype: object"
       ]
      }
     ],
     "prompt_number": 30
    },
    {
     "cell_type": "code",
     "collapsed": false,
     "input": [],
     "language": "python",
     "metadata": {},
     "outputs": []
    },
    {
     "cell_type": "code",
     "collapsed": false,
     "input": [],
     "language": "python",
     "metadata": {},
     "outputs": []
    },
    {
     "cell_type": "code",
     "collapsed": false,
     "input": [],
     "language": "python",
     "metadata": {},
     "outputs": []
    },
    {
     "cell_type": "code",
     "collapsed": false,
     "input": [
      "type(wfile)"
     ],
     "language": "python",
     "metadata": {},
     "outputs": [
      {
       "metadata": {},
       "output_type": "pyout",
       "prompt_number": 10,
       "text": [
        "file"
       ]
      }
     ],
     "prompt_number": 10
    },
    {
     "cell_type": "code",
     "collapsed": false,
     "input": [
      "open"
     ],
     "language": "python",
     "metadata": {},
     "outputs": [
      {
       "metadata": {},
       "output_type": "pyout",
       "prompt_number": 11,
       "text": [
        "<function open>"
       ]
      }
     ],
     "prompt_number": 11
    },
    {
     "cell_type": "code",
     "collapsed": false,
     "input": [
      "isinstance(wfile,file)"
     ],
     "language": "python",
     "metadata": {},
     "outputs": [
      {
       "metadata": {},
       "output_type": "pyout",
       "prompt_number": 14,
       "text": [
        "True"
       ]
      }
     ],
     "prompt_number": 14
    },
    {
     "cell_type": "code",
     "collapsed": false,
     "input": [],
     "language": "python",
     "metadata": {},
     "outputs": [
      {
       "metadata": {},
       "output_type": "pyout",
       "prompt_number": 19,
       "text": [
        "True"
       ]
      }
     ],
     "prompt_number": 19
    },
    {
     "cell_type": "code",
     "collapsed": false,
     "input": [
      "import pandas as pd"
     ],
     "language": "python",
     "metadata": {},
     "outputs": [],
     "prompt_number": 20
    },
    {
     "cell_type": "code",
     "collapsed": false,
     "input": [
      "pd.read_pickle?"
     ],
     "language": "python",
     "metadata": {},
     "outputs": [],
     "prompt_number": 21
    },
    {
     "cell_type": "code",
     "collapsed": false,
     "input": [],
     "language": "python",
     "metadata": {},
     "outputs": []
    }
   ],
   "metadata": {}
  }
 ]
}