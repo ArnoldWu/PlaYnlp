{
 "metadata": {
  "name": ""
 },
 "nbformat": 3,
 "nbformat_minor": 0,
 "worksheets": [
  {
   "cells": [
    {
     "cell_type": "code",
     "collapsed": false,
     "input": [
      "import PlaYnlp.tokenizer as tkr \n",
      "import PlaYnlp.vectorizer as vcr \n",
      "from PlaYnlp.sparse import L0_norm_col_summarizer as L0_col_sum\n",
      "from PlaYnlp.sparse import L1_norm_col_summarizer as L1_col_sum\n",
      "import numpy as np\n",
      "import scipy as sp"
     ],
     "language": "python",
     "metadata": {},
     "outputs": [],
     "prompt_number": 1
    },
    {
     "cell_type": "code",
     "collapsed": false,
     "input": [
      "jieba_without_html_tokenizer = tkr.tokenize_gen(lambda text:tkr.jieba.cut(tkr.nltk.clean_html(text)))\n",
      "unigram_without_html_tokenizer = tkr.tokenize_gen(lambda text:tkr.ngram(tkr.nltk.clean_html(text),n=1))\n",
      "bigram_without_html_tokenizer = tkr.tokenize_gen(lambda text:tkr.ngram(tkr.nltk.clean_html(text),n=2))\n",
      "jieba_vec_count_kwargs = {\"tokenizer\":jieba_without_html_tokenizer,\"lowercase\":False}\n",
      "unigram_vec_count_kwargs = {\"tokenizer\":unigram_without_html_tokenizer,\"lowercase\":False}\n",
      "bigram_vec_count_kwargs = {\"tokenizer\":bigram_without_html_tokenizer,\"lowercase\":False}"
     ],
     "language": "python",
     "metadata": {},
     "outputs": [],
     "prompt_number": 2
    },
    {
     "cell_type": "code",
     "collapsed": false,
     "input": [
      "import pickle\n",
      "\n",
      "with open(\"PTT___movie.pickle\",\"rb\") as read_file:\n",
      "    articles_df,articles_push_df = pickle.load(read_file)"
     ],
     "language": "python",
     "metadata": {},
     "outputs": [],
     "prompt_number": 3
    },
    {
     "cell_type": "code",
     "collapsed": false,
     "input": [
      "test_ptt_text_sdtm = vcr.vectorize_text(df=articles_df,\n",
      "                                         text_col=\"title\", \n",
      "                                         vect_gen=vcr.CountVectorizer, \n",
      "                                         vect_gen_init_kwargs = jieba_vec_count_kwargs,\n",
      "                                         summarizer = L0_col_sum)"
     ],
     "language": "python",
     "metadata": {},
     "outputs": [
      {
       "output_type": "stream",
       "stream": "stderr",
       "text": [
        "Building Trie..., from /usr/local/lib/python2.7/dist-packages/jieba/dict.txt\n",
        "loading model from cache /tmp/jieba.cache\n",
        "loading model cost "
       ]
      },
      {
       "output_type": "stream",
       "stream": "stderr",
       "text": [
        " 3.66118597984 seconds.\n",
        "Trie has been built succesfully.\n"
       ]
      }
     ],
     "prompt_number": 4
    },
    {
     "cell_type": "code",
     "collapsed": false,
     "input": [
      "test_ptt_text_sdtm"
     ],
     "language": "python",
     "metadata": {},
     "outputs": [
      {
       "metadata": {},
       "output_type": "pyout",
       "prompt_number": 5,
       "text": [
        "{'col_idx': array([u' ', u'!', u'\"', ..., u'\\uff3f', u'\\uff5c', u'\\uff5e'], \n",
        "       dtype='<U23'),\n",
        " 'row_idx': array([    0,     1,     2, ..., 26129, 26130, 26131]),\n",
        " 'smatrix': <26132x23366 sparse matrix of type '<type 'numpy.int64'>'\n",
        " \twith 288389 stored elements in Compressed Sparse Column format>,\n",
        " 'summarizer': <function PlaYnlp.sparse.L0_norm_col_summarizer>}"
       ]
      }
     ],
     "prompt_number": 5
    },
    {
     "cell_type": "code",
     "collapsed": false,
     "input": [
      "with open(\"dev_pickle_test.pickle\",\"wb\") as wfile:\n",
      "    pickle.dump(test_ptt_text_sdtm,wfile)"
     ],
     "language": "python",
     "metadata": {},
     "outputs": [],
     "prompt_number": 6
    },
    {
     "cell_type": "code",
     "collapsed": false,
     "input": [
      "with open(\"dev_pickle_test.pickle\",\"rb\") as rfile:\n",
      "    test_pickle = pickle.load(rfile)"
     ],
     "language": "python",
     "metadata": {},
     "outputs": [],
     "prompt_number": 7
    },
    {
     "cell_type": "code",
     "collapsed": false,
     "input": [
      "test_pickle"
     ],
     "language": "python",
     "metadata": {},
     "outputs": [
      {
       "metadata": {},
       "output_type": "pyout",
       "prompt_number": 8,
       "text": [
        "{'col_idx': array([u' ', u'!', u'\"', ..., u'\\uff3f', u'\\uff5c', u'\\uff5e'], \n",
        "       dtype='<U23'),\n",
        " 'row_idx': array([    0,     1,     2, ..., 26129, 26130, 26131]),\n",
        " 'smatrix': <26132x23366 sparse matrix of type '<type 'numpy.int64'>'\n",
        " \twith 288389 stored elements in Compressed Sparse Column format>,\n",
        " 'summarizer': <function PlaYnlp.sparse.L0_norm_col_summarizer>}"
       ]
      }
     ],
     "prompt_number": 8
    },
    {
     "cell_type": "code",
     "collapsed": false,
     "input": [
      "print \"// \".join((test_pickle.summary > 200)._filtered_idx)"
     ],
     "language": "python",
     "metadata": {},
     "outputs": [
      {
       "output_type": "stream",
       "stream": "stdout",
       "text": [
        " // !// \"// (// )// ,// -// ...// /// 2// 2013// 3// 6// :// ?// Fw// Re// The// [// ]// ~// \u2500// \u3000// \u3001// \u300a// \u300b// \u300c// \u300d// \u3010// \u3011// \u4e00\u500b// \u4e00\u90e8// \u4e0d// \u4e16\u754c// \u4e2d// \u4e4b// \u4e4b\u6230// \u4e86// \u4eba// \u4ec0\u9ebc// \u4f60// \u51b0\u96ea// \u5287\u60c5// \u53f0\u7063// \u548c// \u554f\u7247// \u554f\u984c// \u55ce// \u5728// \u5730\u5fc3\u5f15\u529b// \u5927// \u592a\u5e73\u6d0b// \u5947\u7de3// \u597d// \u597d\u96f7// \u5c0e\u6f14// \u5c0f// \u5e74// \u5f71\u8a55// \u5f88// \u5fc3\u5f97// \u60c5\u5831// \u611b\u60c5// \u6211// \u6230// \u6230\u5883// \u63a8\u85a6// \u65b0// \u65b0\u805e// \u662f// \u666e\u96f7// \u6700// \u6703// \u6709// \u6709\u95dc// \u6709\u96f7// \u672b\u65e5// \u6bad\u5c4d// \u70ba// \u7121\u96f7// \u7247// \u7247\u55ae// \u72fc// \u73a9\u547d// \u74b0// \u7591\u554f// \u7684// \u770b// \u7968\u623f// \u7d22\u723e// \u7e3d// \u7f8e\u570b// \u8207// \u82f1\u96c4// \u88ab// \u89c0\u5f8c\u611f// \u8a0e\u8ad6// \u8acb\u554f// \u8acb\u76ca// \u8ca0\u96f7// \u8d08\u7968// \u8d85\u4eba// \u8ddf// \u904a\u6232// \u9078\u7247// \u907a\u843d// \u90fd// \u91d1\u99ac// \u92fc\u9435// \u95dc\u65bc// \u95dc\u982d// \u96f7// \u96f7\u795e// \u96fb\u5f71// \u9810\u544a// \u9ed1// \uff01// \uff08// \uff09// \uff0c// \uff1a// \uff1f\n"
       ]
      }
     ],
     "prompt_number": 16
    },
    {
     "cell_type": "code",
     "collapsed": false,
     "input": [],
     "language": "python",
     "metadata": {},
     "outputs": []
    }
   ],
   "metadata": {}
  }
 ]
}