{
 "metadata": {
  "name": "",
  "signature": "sha256:f1dbbab19ee4f7c4f69f3727e7fa84d13a83f203d46cf0305e6aeb0f4ad923a7"
 },
 "nbformat": 3,
 "nbformat_minor": 0,
 "worksheets": [
  {
   "cells": [
    {
     "cell_type": "code",
     "collapsed": false,
     "input": [
      "import PlaYnlp.tokenizer as tkr \n",
      "import PlaYnlp.vectorizer as vcr\n",
      "from PlaYnlp import dataio\n",
      "\n",
      "from PlaYnlp.sparse import L0_norm_col_summarizer as L0_col_sum\n",
      "from PlaYnlp.sparse import L1_norm_col_summarizer as L1_col_sum\n",
      "import numpy as np\n",
      "import scipy as sp"
     ],
     "language": "python",
     "metadata": {},
     "outputs": [],
     "prompt_number": 2
    },
    {
     "cell_type": "code",
     "collapsed": false,
     "input": [
      "jieba_without_html_tokenizer = tkr.tokenize_gen(lambda text:tkr.jieba.cut(tkr.nltk.clean_html(text)))\n",
      "unigram_without_html_tokenizer = tkr.tokenize_gen(lambda text:tkr.ngram(tkr.nltk.clean_html(text),n=1))\n",
      "bigram_without_html_tokenizer = tkr.tokenize_gen(lambda text:tkr.ngram(tkr.nltk.clean_html(text),n=2))\n",
      "jieba_vec_count_kwargs = {\"tokenizer\":jieba_without_html_tokenizer,\"lowercase\":False}\n",
      "unigram_vec_count_kwargs = {\"tokenizer\":unigram_without_html_tokenizer,\"lowercase\":False}\n",
      "bigram_vec_count_kwargs = {\"tokenizer\":bigram_without_html_tokenizer,\"lowercase\":False}"
     ],
     "language": "python",
     "metadata": {},
     "outputs": [],
     "prompt_number": 3
    },
    {
     "cell_type": "code",
     "collapsed": false,
     "input": [
      "import pandas as pd \n",
      "test_text_df = pd.DataFrame([u\"\u4eca\u5929\u5929\u6c23\u5f88\u597d\",u\"\u4eca\u5929\u5929\u6c23\u5f88\u721b\",u\"\u6211\u6068\u5b83\",u\"\u5b83\u6068\u6211\",u\"\u6211\u611b\u5b83\",u\"\u5b83\u611b\u6211\",u\"\u4eca\u5929\u5f88\u8870\",\"\u65e5\u5b50\u4e00\u5929\u4e00\u5929\u904e\",\"\u5929\u5929\u5237\u7259\u6d17\u81c9\"])\n",
      "test_text_df.columns = [\"text\"]\n",
      "test_text_df = test_text_df.reset_index()\n",
      "test_text_df"
     ],
     "language": "python",
     "metadata": {},
     "outputs": [
      {
       "html": [
        "<div style=\"max-height:1000px;max-width:1500px;overflow:auto;\">\n",
        "<table border=\"1\" class=\"dataframe\">\n",
        "  <thead>\n",
        "    <tr style=\"text-align: right;\">\n",
        "      <th></th>\n",
        "      <th>index</th>\n",
        "      <th>text</th>\n",
        "    </tr>\n",
        "  </thead>\n",
        "  <tbody>\n",
        "    <tr>\n",
        "      <th>0</th>\n",
        "      <td> 0</td>\n",
        "      <td>  \u4eca\u5929\u5929\u6c23\u5f88\u597d</td>\n",
        "    </tr>\n",
        "    <tr>\n",
        "      <th>1</th>\n",
        "      <td> 1</td>\n",
        "      <td>  \u4eca\u5929\u5929\u6c23\u5f88\u721b</td>\n",
        "    </tr>\n",
        "    <tr>\n",
        "      <th>2</th>\n",
        "      <td> 2</td>\n",
        "      <td>     \u6211\u6068\u5b83</td>\n",
        "    </tr>\n",
        "    <tr>\n",
        "      <th>3</th>\n",
        "      <td> 3</td>\n",
        "      <td>     \u5b83\u6068\u6211</td>\n",
        "    </tr>\n",
        "    <tr>\n",
        "      <th>4</th>\n",
        "      <td> 4</td>\n",
        "      <td>     \u6211\u611b\u5b83</td>\n",
        "    </tr>\n",
        "    <tr>\n",
        "      <th>5</th>\n",
        "      <td> 5</td>\n",
        "      <td>     \u5b83\u611b\u6211</td>\n",
        "    </tr>\n",
        "    <tr>\n",
        "      <th>6</th>\n",
        "      <td> 6</td>\n",
        "      <td>    \u4eca\u5929\u5f88\u8870</td>\n",
        "    </tr>\n",
        "    <tr>\n",
        "      <th>7</th>\n",
        "      <td> 7</td>\n",
        "      <td> \u65e5\u5b50\u4e00\u5929\u4e00\u5929\u904e</td>\n",
        "    </tr>\n",
        "    <tr>\n",
        "      <th>8</th>\n",
        "      <td> 8</td>\n",
        "      <td>  \u5929\u5929\u5237\u7259\u6d17\u81c9</td>\n",
        "    </tr>\n",
        "  </tbody>\n",
        "</table>\n",
        "<p>9 rows \u00d7 2 columns</p>\n",
        "</div>"
       ],
       "metadata": {},
       "output_type": "pyout",
       "prompt_number": 4,
       "text": [
        "   index     text\n",
        "0      0   \u4eca\u5929\u5929\u6c23\u5f88\u597d\n",
        "1      1   \u4eca\u5929\u5929\u6c23\u5f88\u721b\n",
        "2      2      \u6211\u6068\u5b83\n",
        "3      3      \u5b83\u6068\u6211\n",
        "4      4      \u6211\u611b\u5b83\n",
        "5      5      \u5b83\u611b\u6211\n",
        "6      6     \u4eca\u5929\u5f88\u8870\n",
        "7      7  \u65e5\u5b50\u4e00\u5929\u4e00\u5929\u904e\n",
        "8      8   \u5929\u5929\u5237\u7259\u6d17\u81c9\n",
        "\n",
        "[9 rows x 2 columns]"
       ]
      }
     ],
     "prompt_number": 4
    },
    {
     "cell_type": "code",
     "collapsed": false,
     "input": [
      "test_jieba_sdtm = vcr.vectorize_text(df=test_text_df,\n",
      "                                     text_col=\"text\", \n",
      "                                     idx_col=\"index\", \n",
      "                                     cond_query={},\n",
      "                                     idx_query= [],\n",
      "                                     vect_gen=vcr.CountVectorizer, \n",
      "                                     vect_gen_init_kwargs = unigram_vec_count_kwargs)"
     ],
     "language": "python",
     "metadata": {},
     "outputs": [],
     "prompt_number": 5
    },
    {
     "cell_type": "code",
     "collapsed": false,
     "input": [],
     "language": "python",
     "metadata": {},
     "outputs": [],
     "prompt_number": 5
    },
    {
     "cell_type": "code",
     "collapsed": false,
     "input": [
      "import numpy as np\n",
      "import types"
     ],
     "language": "python",
     "metadata": {},
     "outputs": [],
     "prompt_number": 6
    },
    {
     "cell_type": "code",
     "collapsed": false,
     "input": [],
     "language": "python",
     "metadata": {},
     "outputs": [],
     "prompt_number": 6
    },
    {
     "cell_type": "code",
     "collapsed": false,
     "input": [
      "def clean_no_data_tensors(np_array):\n",
      "    return np_array[map(lambda xx:0 if xx==1 else slice(None,None,None),np_array.shape)]\n",
      "\n",
      "\n",
      "\n",
      "    \n",
      "    "
     ],
     "language": "python",
     "metadata": {},
     "outputs": [],
     "prompt_number": 7
    },
    {
     "cell_type": "code",
     "collapsed": false,
     "input": [],
     "language": "python",
     "metadata": {},
     "outputs": []
    },
    {
     "cell_type": "code",
     "collapsed": false,
     "input": [
      "print \"// \".join(list(tkr.ngram(test_text_df[\"text\"].values[0],[1])))"
     ],
     "language": "python",
     "metadata": {},
     "outputs": [
      {
       "output_type": "stream",
       "stream": "stdout",
       "text": [
        "\u4eca// \u5929// \u5929// \u6c23// \u5f88// \u597d\n"
       ]
      }
     ],
     "prompt_number": 9
    },
    {
     "cell_type": "code",
     "collapsed": false,
     "input": [],
     "language": "python",
     "metadata": {},
     "outputs": []
    },
    {
     "cell_type": "code",
     "collapsed": false,
     "input": [
      "\n",
      "\n",
      "class ValuesArray(np.ndarray):\n",
      "    def __new__(cls, data, dtype=None):\n",
      "        if isinstance(data, cls):\n",
      "            return data\n",
      "        else:\n",
      "            values_array = np.array(data, dtype=dtype).view(cls)\n",
      "            return values_array\n",
      "\n",
      "\n",
      "\n",
      "class StatesDictionary(object):\n",
      "    \n",
      "    pass\n",
      "\n",
      "\n",
      "class PtrArray(object):\n",
      "    \n",
      "    def __init__(self, ptrs_array, states_dict):\n",
      "        assert isinstance(ptrs_array,np.ndarray)\n",
      "        assert isinstance(states_dict,StatesDictionary)\n",
      "        \n",
      "        self._ptrs_array = ptrs_array\n",
      "        self._states_dict = states_dict\n",
      "        \n",
      "\n",
      "\n"
     ],
     "language": "python",
     "metadata": {},
     "outputs": [],
     "prompt_number": 14
    },
    {
     "cell_type": "code",
     "collapsed": false,
     "input": [],
     "language": "python",
     "metadata": {},
     "outputs": []
    },
    {
     "cell_type": "code",
     "collapsed": false,
     "input": [
      "val_array = ValuesArray(list(tkr.ngram(test_text_df[\"text\"].values[0],[1])))\n",
      "val_array"
     ],
     "language": "python",
     "metadata": {},
     "outputs": [
      {
       "metadata": {},
       "output_type": "pyout",
       "prompt_number": 33,
       "text": [
        "ValuesArray([u'\\u4eca', u'\\u5929', u'\\u5929', u'\\u6c23', u'\\u5f88', u'\\u597d'], \n",
        "      dtype='<U1')"
       ]
      }
     ],
     "prompt_number": 33
    },
    {
     "cell_type": "code",
     "collapsed": false,
     "input": [
      "u, i = np.unique(val_array, return_inverse=True)\n",
      "u,i "
     ],
     "language": "python",
     "metadata": {},
     "outputs": [
      {
       "metadata": {},
       "output_type": "pyout",
       "prompt_number": 35,
       "text": [
        "(ValuesArray([u'\\u4eca', u'\\u5929', u'\\u597d', u'\\u5f88', u'\\u6c23'], \n",
        "       dtype='<U1'), array([0, 1, 1, 4, 3, 2]))"
       ]
      }
     ],
     "prompt_number": 35
    },
    {
     "cell_type": "code",
     "collapsed": false,
     "input": [],
     "language": "python",
     "metadata": {},
     "outputs": []
    },
    {
     "cell_type": "code",
     "collapsed": false,
     "input": [
      "test_text_array = np.array(list(tkr.ngram(test_text_df[\"text\"].values[0],[1])))\n",
      "test_text_array\n",
      "                           "
     ],
     "language": "python",
     "metadata": {},
     "outputs": [
      {
       "metadata": {},
       "output_type": "pyout",
       "prompt_number": 16,
       "text": [
        "array([u'\\u4eca', u'\\u5929', u'\\u5929', u'\\u6c23', u'\\u5f88', u'\\u597d'], \n",
        "      dtype='<U1')"
       ]
      }
     ],
     "prompt_number": 16
    },
    {
     "cell_type": "code",
     "collapsed": false,
     "input": [
      "u, i = np.unique(test_text_array,return_inverse=True)\n",
      "u,i"
     ],
     "language": "python",
     "metadata": {},
     "outputs": [
      {
       "metadata": {},
       "output_type": "pyout",
       "prompt_number": 17,
       "text": [
        "(array([u'\\u4eca', u'\\u5929', u'\\u597d', u'\\u5f88', u'\\u6c23'], \n",
        "       dtype='<U1'), array([0, 1, 1, 4, 3, 2]))"
       ]
      }
     ],
     "prompt_number": 17
    },
    {
     "cell_type": "code",
     "collapsed": false,
     "input": [
      "len(np.setdiff1d(test_text_array,u))"
     ],
     "language": "python",
     "metadata": {},
     "outputs": [
      {
       "metadata": {},
       "output_type": "pyout",
       "prompt_number": 18,
       "text": [
        "0"
       ]
      }
     ],
     "prompt_number": 18
    },
    {
     "cell_type": "code",
     "collapsed": false,
     "input": [
      "uu, ii = np.unique(np.r_[u,test_text_array],return_inverse=True)\n",
      "uu, ii "
     ],
     "language": "python",
     "metadata": {},
     "outputs": [
      {
       "metadata": {},
       "output_type": "pyout",
       "prompt_number": 22,
       "text": [
        "(array([u'\\u4eca', u'\\u5929', u'\\u597d', u'\\u5f88', u'\\u6c23'], \n",
        "       dtype='<U1'), array([0, 1, 2, 3, 4, 0, 1, 1, 4, 3, 2]))"
       ]
      }
     ],
     "prompt_number": 22
    },
    {
     "cell_type": "code",
     "collapsed": false,
     "input": [
      "ii[u.shape[0]:]\n"
     ],
     "language": "python",
     "metadata": {},
     "outputs": [
      {
       "metadata": {},
       "output_type": "pyout",
       "prompt_number": 24,
       "text": [
        "array([0, 1, 1, 4, 3, 2])"
       ]
      }
     ],
     "prompt_number": 24
    },
    {
     "cell_type": "code",
     "collapsed": false,
     "input": [
      "ii.dtype"
     ],
     "language": "python",
     "metadata": {},
     "outputs": [
      {
       "metadata": {},
       "output_type": "pyout",
       "prompt_number": 27,
       "text": [
        "dtype('int64')"
       ]
      }
     ],
     "prompt_number": 27
    },
    {
     "cell_type": "code",
     "collapsed": false,
     "input": [
      "tt = ValuesArray(list(tkr.ngram(ii[u.shape[0]:],2)))\n",
      "tt"
     ],
     "language": "python",
     "metadata": {},
     "outputs": [
      {
       "metadata": {},
       "output_type": "pyout",
       "prompt_number": 37,
       "text": [
        "ValuesArray([[0, 1],\n",
        "       [1, 1],\n",
        "       [1, 4],\n",
        "       [4, 3],\n",
        "       [3, 2]])"
       ]
      }
     ],
     "prompt_number": 37
    },
    {
     "cell_type": "code",
     "collapsed": false,
     "input": [
      "u[np.r_[tt,tt]]"
     ],
     "language": "python",
     "metadata": {},
     "outputs": [
      {
       "metadata": {},
       "output_type": "pyout",
       "prompt_number": 39,
       "text": [
        "ValuesArray([[u'\\u4eca', u'\\u5929'],\n",
        "       [u'\\u5929', u'\\u5929'],\n",
        "       [u'\\u5929', u'\\u6c23'],\n",
        "       [u'\\u6c23', u'\\u5f88'],\n",
        "       [u'\\u5f88', u'\\u597d'],\n",
        "       [u'\\u4eca', u'\\u5929'],\n",
        "       [u'\\u5929', u'\\u5929'],\n",
        "       [u'\\u5929', u'\\u6c23'],\n",
        "       [u'\\u6c23', u'\\u5f88'],\n",
        "       [u'\\u5f88', u'\\u597d']], \n",
        "      dtype='<U1')"
       ]
      }
     ],
     "prompt_number": 39
    },
    {
     "cell_type": "code",
     "collapsed": false,
     "input": [
      "val_array = ValuesArray(list(tkr.ngram(test_text_df[\"text\"].values[0],[1])))\n",
      "val_array"
     ],
     "language": "python",
     "metadata": {},
     "outputs": [
      {
       "metadata": {},
       "output_type": "pyout",
       "prompt_number": 80,
       "text": [
        "array([u'\\u4eca', u'\\u5929', u'\\u5929', u'\\u6c23', u'\\u5f88', u'\\u597d'], \n",
        "      dtype='<U1')"
       ]
      }
     ],
     "prompt_number": 80
    },
    {
     "cell_type": "code",
     "collapsed": false,
     "input": [],
     "language": "python",
     "metadata": {},
     "outputs": []
    },
    {
     "cell_type": "code",
     "collapsed": false,
     "input": [],
     "language": "python",
     "metadata": {},
     "outputs": []
    },
    {
     "cell_type": "code",
     "collapsed": false,
     "input": [
      "data_vec = DataArray([[list(tkr.ngram(test_text_df[\"text\"].values[0],[1]))]])\n",
      "print data_vec.shape\n",
      "data_vec"
     ],
     "language": "python",
     "metadata": {},
     "outputs": [
      {
       "output_type": "stream",
       "stream": "stdout",
       "text": [
        "(1, 1, 6)\n"
       ]
      },
      {
       "metadata": {},
       "output_type": "pyout",
       "prompt_number": 69,
       "text": [
        "DataArray([[[u'\\u4eca', u'\\u5929', u'\\u5929', u'\\u6c23', u'\\u5f88', u'\\u597d']]], \n",
        "      dtype='<U1')"
       ]
      }
     ],
     "prompt_number": 69
    },
    {
     "cell_type": "code",
     "collapsed": false,
     "input": [
      "clean_no_data_tensors(data_vec).shape"
     ],
     "language": "python",
     "metadata": {},
     "outputs": [
      {
       "metadata": {},
       "output_type": "pyout",
       "prompt_number": 71,
       "text": [
        "(6,)"
       ]
      }
     ],
     "prompt_number": 71
    },
    {
     "cell_type": "code",
     "collapsed": false,
     "input": [],
     "language": "python",
     "metadata": {},
     "outputs": []
    },
    {
     "cell_type": "code",
     "collapsed": false,
     "input": [],
     "language": "python",
     "metadata": {},
     "outputs": []
    },
    {
     "cell_type": "code",
     "collapsed": false,
     "input": [
      "data_vec = DataVector(list(tkr.ngram(test_text_df[\"text\"].values[0],[1])))\n",
      "print \"// \".join(data_vec)\n",
      "data_vec"
     ],
     "language": "python",
     "metadata": {},
     "outputs": [
      {
       "output_type": "stream",
       "stream": "stdout",
       "text": [
        "\u4eca// \u5929// \u5929// \u6c23// \u5f88// \u597d\n"
       ]
      },
      {
       "metadata": {},
       "output_type": "pyout",
       "prompt_number": 53,
       "text": [
        "DataVector([u'\\u4eca', u'\\u5929', u'\\u5929', u'\\u6c23', u'\\u5f88', u'\\u597d'], \n",
        "      dtype='<U1')"
       ]
      }
     ],
     "prompt_number": 53
    },
    {
     "cell_type": "code",
     "collapsed": false,
     "input": [
      "print np.unique(data_vec).shape\n",
      "print data_vec.shape"
     ],
     "language": "python",
     "metadata": {},
     "outputs": [
      {
       "output_type": "stream",
       "stream": "stdout",
       "text": [
        "(5,)\n",
        "(6,)\n"
       ]
      }
     ],
     "prompt_number": 8
    },
    {
     "cell_type": "code",
     "collapsed": false,
     "input": [
      "test_data2 = np.c_[data_vec,data_vec]\n",
      "u,i = np.unique(test_data2,return_inverse=True)\n",
      "i = i.reshape(test_data2.shape)\n",
      "u, i"
     ],
     "language": "python",
     "metadata": {},
     "outputs": [
      {
       "metadata": {},
       "output_type": "pyout",
       "prompt_number": 9,
       "text": [
        "(array([u'\\u4eca', u'\\u5929', u'\\u597d', u'\\u5f88', u'\\u6c23'], \n",
        "       dtype='<U1'), array([[0, 0],\n",
        "        [1, 1],\n",
        "        [1, 1],\n",
        "        [4, 4],\n",
        "        [3, 3],\n",
        "        [2, 2]]))"
       ]
      }
     ],
     "prompt_number": 9
    },
    {
     "cell_type": "code",
     "collapsed": false,
     "input": [
      "test_data2.tolist()"
     ],
     "language": "python",
     "metadata": {},
     "outputs": [
      {
       "metadata": {},
       "output_type": "pyout",
       "prompt_number": 10,
       "text": [
        "[[u'\\u4eca', u'\\u4eca'],\n",
        " [u'\\u5929', u'\\u5929'],\n",
        " [u'\\u5929', u'\\u5929'],\n",
        " [u'\\u6c23', u'\\u6c23'],\n",
        " [u'\\u5f88', u'\\u5f88'],\n",
        " [u'\\u597d', u'\\u597d']]"
       ]
      }
     ],
     "prompt_number": 10
    },
    {
     "cell_type": "code",
     "collapsed": false,
     "input": [
      "u[i]"
     ],
     "language": "python",
     "metadata": {},
     "outputs": [
      {
       "metadata": {},
       "output_type": "pyout",
       "prompt_number": 66,
       "text": [
        "array([[u'\\u4eca', u'\\u4eca'],\n",
        "       [u'\\u5929', u'\\u5929'],\n",
        "       [u'\\u5929', u'\\u5929'],\n",
        "       [u'\\u6c23', u'\\u6c23'],\n",
        "       [u'\\u5f88', u'\\u5f88'],\n",
        "       [u'\\u597d', u'\\u597d']], \n",
        "      dtype='<U1')"
       ]
      }
     ],
     "prompt_number": 66
    },
    {
     "cell_type": "code",
     "collapsed": false,
     "input": [],
     "language": "python",
     "metadata": {},
     "outputs": []
    },
    {
     "cell_type": "code",
     "collapsed": false,
     "input": [
      "print type(tkr.ngram(data_vec,2))\n",
      "print isinstance(tkr.ngram(data_vec,2),types.GeneratorType)"
     ],
     "language": "python",
     "metadata": {},
     "outputs": [
      {
       "output_type": "stream",
       "stream": "stdout",
       "text": [
        "<type 'generator'>\n",
        "True\n"
       ]
      }
     ],
     "prompt_number": 33
    },
    {
     "cell_type": "code",
     "collapsed": false,
     "input": [],
     "language": "python",
     "metadata": {},
     "outputs": [
      {
       "metadata": {},
       "output_type": "pyout",
       "prompt_number": 34,
       "text": [
        "u'\\u0f66\\u0f44\\u0f0b'"
       ]
      }
     ],
     "prompt_number": 34
    },
    {
     "cell_type": "code",
     "collapsed": false,
     "input": [
      "#print \"// \".join(tkr.ngram(u\"\u0f66\u0f44\u0f0b\",[1,2]))"
     ],
     "language": "python",
     "metadata": {},
     "outputs": [],
     "prompt_number": 41
    },
    {
     "cell_type": "code",
     "collapsed": false,
     "input": [],
     "language": "python",
     "metadata": {},
     "outputs": [],
     "prompt_number": 5
    },
    {
     "cell_type": "code",
     "collapsed": false,
     "input": [
      "list(tkr.ngram(test_text_df[\"text\"].values[0],[1,2]))"
     ],
     "language": "python",
     "metadata": {},
     "outputs": [
      {
       "metadata": {},
       "output_type": "pyout",
       "prompt_number": 6,
       "text": [
        "[u'\\u4eca',\n",
        " u'\\u5929',\n",
        " u'\\u5929',\n",
        " u'\\u6c23',\n",
        " u'\\u5f88',\n",
        " u'\\u597d',\n",
        " u'\\u4eca\\u5929',\n",
        " u'\\u5929\\u5929',\n",
        " u'\\u5929\\u6c23',\n",
        " u'\\u6c23\\u5f88',\n",
        " u'\\u5f88\\u597d']"
       ]
      }
     ],
     "prompt_number": 6
    },
    {
     "cell_type": "code",
     "collapsed": false,
     "input": [],
     "language": "python",
     "metadata": {},
     "outputs": [],
     "prompt_number": 6
    },
    {
     "cell_type": "code",
     "collapsed": false,
     "input": [],
     "language": "python",
     "metadata": {},
     "outputs": [],
     "prompt_number": 6
    },
    {
     "cell_type": "code",
     "collapsed": false,
     "input": [
      "import numpy as np"
     ],
     "language": "python",
     "metadata": {},
     "outputs": [],
     "prompt_number": 42
    },
    {
     "cell_type": "code",
     "collapsed": false,
     "input": [
      "v1 = np.array(range(10))\n",
      "print v1.dtype.fields\n",
      "print v1.dtype.names\n",
      "v1"
     ],
     "language": "python",
     "metadata": {},
     "outputs": [
      {
       "output_type": "stream",
       "stream": "stdout",
       "text": [
        "None\n",
        "None\n"
       ]
      },
      {
       "metadata": {},
       "output_type": "pyout",
       "prompt_number": 72,
       "text": [
        "array([0, 1, 2, 3, 4, 5, 6, 7, 8, 9])"
       ]
      }
     ],
     "prompt_number": 72
    },
    {
     "cell_type": "code",
     "collapsed": false,
     "input": [
      "v2 = np.array(map(unicode,range(10)))\n",
      "v2"
     ],
     "language": "python",
     "metadata": {},
     "outputs": [
      {
       "metadata": {},
       "output_type": "pyout",
       "prompt_number": 44,
       "text": [
        "array([u'0', u'1', u'2', u'3', u'4', u'5', u'6', u'7', u'8', u'9'], \n",
        "      dtype='<U1')"
       ]
      }
     ],
     "prompt_number": 44
    },
    {
     "cell_type": "code",
     "collapsed": false,
     "input": [
      "v3 = np.array(zip(v1,v2),dtype=np.dtype([(\"0\",v1.dtype),(\"1\",v2.dtype)]))\n",
      "print v3.dtype.names\n",
      "v3"
     ],
     "language": "python",
     "metadata": {},
     "outputs": [
      {
       "output_type": "stream",
       "stream": "stdout",
       "text": [
        "('0', '1')\n"
       ]
      },
      {
       "metadata": {},
       "output_type": "pyout",
       "prompt_number": 73,
       "text": [
        "array([(0, u'0'), (1, u'1'), (2, u'2'), (3, u'3'), (4, u'4'), (5, u'5'),\n",
        "       (6, u'6'), (7, u'7'), (8, u'8'), (9, u'9')], \n",
        "      dtype=[('0', '<i8'), ('1', '<U1')])"
       ]
      }
     ],
     "prompt_number": 73
    },
    {
     "cell_type": "code",
     "collapsed": false,
     "input": [
      "v4 = np.array(zip(v1[:3],v2[:3]),dtype=v3.dtype)\n",
      "v4"
     ],
     "language": "python",
     "metadata": {},
     "outputs": [
      {
       "metadata": {},
       "output_type": "pyout",
       "prompt_number": 46,
       "text": [
        "array([(0, u'0'), (1, u'1'), (2, u'2')], \n",
        "      dtype=[('0', '<i8'), ('1', '<U1')])"
       ]
      }
     ],
     "prompt_number": 46
    },
    {
     "cell_type": "code",
     "collapsed": false,
     "input": [
      "np.r_[v3,v4]"
     ],
     "language": "python",
     "metadata": {},
     "outputs": [
      {
       "metadata": {},
       "output_type": "pyout",
       "prompt_number": 47,
       "text": [
        "array([(0, u'0'), (1, u'1'), (2, u'2'), (3, u'3'), (4, u'4'), (5, u'5'),\n",
        "       (6, u'6'), (7, u'7'), (8, u'8'), (9, u'9'), (0, u'0'), (1, u'1'),\n",
        "       (2, u'2')], \n",
        "      dtype=[('0', '<i8'), ('1', '<U1')])"
       ]
      }
     ],
     "prompt_number": 47
    },
    {
     "cell_type": "code",
     "collapsed": false,
     "input": [
      "np.concatenate((v3,v4))"
     ],
     "language": "python",
     "metadata": {},
     "outputs": [
      {
       "metadata": {},
       "output_type": "pyout",
       "prompt_number": 48,
       "text": [
        "array([(0, u'0'), (1, u'1'), (2, u'2'), (3, u'3'), (4, u'4'), (5, u'5'),\n",
        "       (6, u'6'), (7, u'7'), (8, u'8'), (9, u'9'), (0, u'0'), (1, u'1'),\n",
        "       (2, u'2')], \n",
        "      dtype=[('0', '<i8'), ('1', '<U1')])"
       ]
      }
     ],
     "prompt_number": 48
    },
    {
     "cell_type": "code",
     "collapsed": false,
     "input": [
      "np.array(np.arange(10),dtype=v3.dtype)"
     ],
     "language": "python",
     "metadata": {},
     "outputs": [
      {
       "metadata": {},
       "output_type": "pyout",
       "prompt_number": 50,
       "text": [
        "array([(0, u'0'), (1, u'1'), (2, u'2'), (3, u'3'), (4, u'4'), (5, u'5'),\n",
        "       (6, u'6'), (7, u'7'), (8, u'8'), (9, u'9')], \n",
        "      dtype=[('0', '<i8'), ('1', '<U1')])"
       ]
      }
     ],
     "prompt_number": 50
    },
    {
     "cell_type": "code",
     "collapsed": false,
     "input": [],
     "language": "python",
     "metadata": {},
     "outputs": []
    },
    {
     "cell_type": "code",
     "collapsed": false,
     "input": [],
     "language": "python",
     "metadata": {},
     "outputs": []
    },
    {
     "cell_type": "code",
     "collapsed": false,
     "input": [],
     "language": "python",
     "metadata": {},
     "outputs": [],
     "prompt_number": 53
    },
    {
     "cell_type": "code",
     "collapsed": false,
     "input": [
      "test = np.array([[np.ones(10)]])\n",
      "test[:] = 101\n",
      "test"
     ],
     "language": "python",
     "metadata": {},
     "outputs": [
      {
       "metadata": {},
       "output_type": "pyout",
       "prompt_number": 15,
       "text": [
        "array([[[ 101.,  101.,  101.,  101.,  101.,  101.,  101.,  101.,  101.,\n",
        "          101.]]])"
       ]
      }
     ],
     "prompt_number": 15
    },
    {
     "cell_type": "code",
     "collapsed": false,
     "input": [
      "print test.shape\n",
      "print map(lambda xx:0 if xx==1 else slice(None,None,None),test.shape)\n",
      "print test[map(lambda xx:0 if xx==1 else slice(None,None,None),test.shape)]\n",
      "test"
     ],
     "language": "python",
     "metadata": {},
     "outputs": [
      {
       "output_type": "stream",
       "stream": "stdout",
       "text": [
        "(1, 1, 10)\n",
        "[0, 0, slice(None, None, None)]\n",
        "[ 101.  101.  101.  101.  101.  101.  101.  101.  101.  101.]\n"
       ]
      },
      {
       "metadata": {},
       "output_type": "pyout",
       "prompt_number": 39,
       "text": [
        "array([[[ 101.,  101.,  101.,  101.,  101.,  101.,  101.,  101.,  101.,\n",
        "          101.]]])"
       ]
      }
     ],
     "prompt_number": 39
    },
    {
     "cell_type": "code",
     "collapsed": false,
     "input": [
      "np.s_[0,0,:]"
     ],
     "language": "python",
     "metadata": {},
     "outputs": [
      {
       "metadata": {},
       "output_type": "pyout",
       "prompt_number": 26,
       "text": [
        "(0, 0, slice(None, None, None))"
       ]
      }
     ],
     "prompt_number": 26
    },
    {
     "cell_type": "code",
     "collapsed": false,
     "input": [
      "test[(0,0,slice(None, None, None))]"
     ],
     "language": "python",
     "metadata": {},
     "outputs": [
      {
       "metadata": {},
       "output_type": "pyout",
       "prompt_number": 35,
       "text": [
        "array([ 101.,  101.,  101.,  101.,  101.,  101.,  101.,  101.,  101.,  101.])"
       ]
      }
     ],
     "prompt_number": 35
    },
    {
     "cell_type": "code",
     "collapsed": true,
     "input": [
      "np.s_[0,0,:] "
     ],
     "language": "python",
     "metadata": {},
     "outputs": [
      {
       "metadata": {},
       "output_type": "pyout",
       "prompt_number": 34,
       "text": [
        "(0, 0, slice(None, None, None))"
       ]
      }
     ],
     "prompt_number": 34
    },
    {
     "cell_type": "code",
     "collapsed": false,
     "input": [],
     "language": "python",
     "metadata": {},
     "outputs": []
    },
    {
     "cell_type": "code",
     "collapsed": false,
     "input": [
      "v3.dtype.fields"
     ],
     "language": "python",
     "metadata": {},
     "outputs": [
      {
       "metadata": {},
       "output_type": "pyout",
       "prompt_number": 42,
       "text": [
        "<dictproxy {'0': (dtype('int64'), 0), '1': (dtype('<U1'), 8)}>"
       ]
      }
     ],
     "prompt_number": 42
    },
    {
     "cell_type": "code",
     "collapsed": false,
     "input": [
      "v3.__array_interface__"
     ],
     "language": "python",
     "metadata": {},
     "outputs": [
      {
       "metadata": {},
       "output_type": "pyout",
       "prompt_number": 12,
       "text": [
        "{'data': (71155280, False),\n",
        " 'descr': [('0', '<i8'), ('1', '<U1')],\n",
        " 'shape': (10,),\n",
        " 'strides': None,\n",
        " 'typestr': '|V12',\n",
        " 'version': 3}"
       ]
      }
     ],
     "prompt_number": 12
    },
    {
     "cell_type": "code",
     "collapsed": false,
     "input": [],
     "language": "python",
     "metadata": {},
     "outputs": [],
     "prompt_number": 42
    },
    {
     "cell_type": "code",
     "collapsed": false,
     "input": [],
     "language": "python",
     "metadata": {},
     "outputs": []
    },
    {
     "cell_type": "code",
     "collapsed": false,
     "input": [
      "print \"// \".join(list(tkr.ngram(test_text_df[\"text\"].values[0],[1,2])))"
     ],
     "language": "python",
     "metadata": {},
     "outputs": [
      {
       "output_type": "stream",
       "stream": "stdout",
       "text": [
        "\u4eca// \u5929// \u5929// \u6c23// \u5f88// \u597d// \u4eca\u5929// \u5929\u5929// \u5929\u6c23// \u6c23\u5f88// \u5f88\u597d\n"
       ]
      }
     ],
     "prompt_number": 13
    },
    {
     "cell_type": "code",
     "collapsed": false,
     "input": [],
     "language": "python",
     "metadata": {},
     "outputs": [],
     "prompt_number": 4
    },
    {
     "cell_type": "code",
     "collapsed": false,
     "input": [],
     "language": "python",
     "metadata": {},
     "outputs": [],
     "prompt_number": 4
    },
    {
     "cell_type": "code",
     "collapsed": false,
     "input": [],
     "language": "python",
     "metadata": {},
     "outputs": [],
     "prompt_number": 4
    },
    {
     "cell_type": "code",
     "collapsed": false,
     "input": [
      "import numpy as np"
     ],
     "language": "python",
     "metadata": {},
     "outputs": [],
     "prompt_number": 5
    },
    {
     "cell_type": "code",
     "collapsed": false,
     "input": [
      "\n",
      "class StatesDictionary(np.ndarray):\n",
      "    def __new__(cls, data, dtype=None):\n",
      "        if isinstance(data, cls):\n",
      "            return data\n",
      "        else:\n",
      "            states_dict = np.array(data, dtype=dtype).view(cls)\n",
      "            states_dict._referred_by = []\n",
      "            return states_dict\n",
      "\n",
      "        \n",
      "def merge_states_dictionaries(sdict1, sdict2):\n",
      "    assert isinstance(sdict1, StatesDictionary)\n",
      "    assert isinstance(sdict2, StatesDictionary)\n",
      "    union_dict, union_dict_idx = np.unique(np.r_[sdict1, sdict2], return_inverse=True)   \n",
      "    inv_sdict1_idx = union_dict_idx[:sdict1.shape[0]]\n",
      "    inv_sdict2_idx = union_dict_idx[sdict1.shape[0]:]\n",
      "    \n",
      "    #print \"union_dict_idx = \",union_dict_idx\n",
      "    #print \"inv_sdict1_idx = \",inv_sdict1_idx\n",
      "    #print \"inv_sdict2_idx = \",inv_sdict2_idx\n",
      "    return {\"union_dict\":StatesDictionary(union_dict),\n",
      "            \"inv_sdict1_idx_dict\":StatesDictionary(inv_sdict1_idx),\n",
      "            \"inv_sdict2_idx_dict\":StatesDictionary(inv_sdict2_idx)}\n",
      "    \n",
      "    \n",
      "def sync_ptr_vec_states_dict(ptr_vec1, ptr_vec2):\n",
      "        merge_sdict = merge_states_dictionaries(ptr_vec1._states_dict, ptr_vec2._states_dict)\n",
      "        \n",
      "        new_ptr_vec1 = PtrVector(data = ptr_vec1._eval_ptrs(states_dict = merge_sdict[\"inv_sdict1_idx_dict\"]),\n",
      "                                 states_dict = merge_sdict[\"union_dict\"])\n",
      "        \n",
      "        new_ptr_vec2 = PtrVector(data = ptr_vec2._eval_ptrs(states_dict = merge_sdict[\"inv_sdict2_idx_dict\"]),\n",
      "                                 states_dict = merge_sdict[\"union_dict\"])\n",
      "        \n",
      "        return new_ptr_vec1, new_ptr_vec2\n",
      "        \n",
      "    \n",
      "    \n",
      "        \n",
      "class DataVector(np.ndarray):\n",
      "    def __new__(cls, data, dtype=None):        \n",
      "        if isinstance(data, cls):\n",
      "            return data\n",
      "        else:\n",
      "            data_vec = np.array(data, dtype=dtype).view(cls)\n",
      "            return data_vec\n",
      "    \n",
      "    \n",
      "        \n",
      "        \n",
      "class PtrVector(np.ndarray):\n",
      "    def __new__(cls, data, dtype=None, states_dict=None):\n",
      "        if isinstance(data, cls):\n",
      "            return data\n",
      "        else:\n",
      "            data_vec = np.array(data, dtype=dtype)\n",
      "            #print \"data_vec = \",data_vec\n",
      "            \n",
      "            if isinstance(states_dict, StatesDictionary):\n",
      "                kvd_vec = data_vec.view(cls)            \n",
      "                kvd_vec._states_dict = states_dict\n",
      "                return kvd_vec                \n",
      "            else:\n",
      "                uni_values, idx_vec = np.unique(data_vec, return_inverse=True)\n",
      "                idx_vec = idx_vec.reshape(data_vec.shape)\n",
      "                #print \"idx_vec = \",idx_vec\n",
      "                kvd_vec = idx_vec.view(cls)\n",
      "                kvd_vec._states_dict = uni_values.view(StatesDictionary)\n",
      "                return kvd_vec\n",
      "                \n",
      "\n",
      "        \n",
      "    def _eval_ptrs(self, states_dict=None):\n",
      "        if states_dict==None:\n",
      "            return self._states_dict[self]\n",
      "        else:\n",
      "            return states_dict[self]\n",
      "    \n",
      "    def _map_ptrs(self, ptr_map, new_sdict):\n",
      "        self = self._eval_ptrs(states_dict = ptr_map).view(type(self))\n",
      "        print self\n",
      "        self._states_dict = new_sdict\n",
      "        \n",
      "    \n",
      "    def _sync_states_dict(self, ptr_vec):\n",
      "        merge_sdict = merge_states_dictionaries(self._states_dict, ptr_vec._states_dict)\n",
      "        \n",
      "        self._map_ptrs(ptr_map =merge_sdict[\"inv_sdict1_idx_dict\"],\n",
      "                       new_sdict = merge_sdict[\"union_dict\"])\n",
      "        \n",
      "        ptr_vec._map_ptrs(ptr_map =merge_sdict[\"inv_sdict2_idx_dict\"],\n",
      "                          new_sdict = merge_sdict[\"union_dict\"])\n",
      "        \n",
      "            \n",
      "    \n",
      "    \n",
      "    "
     ],
     "language": "python",
     "metadata": {},
     "outputs": [],
     "prompt_number": 6
    },
    {
     "cell_type": "code",
     "collapsed": false,
     "input": [
      "\n",
      "class StatesDictionary(np.ndarray):\n",
      "    def __new__(cls, data, dtype=None):\n",
      "        if isinstance(data, cls):\n",
      "            return data\n",
      "        else:\n",
      "            states_dict = np.array(data, dtype=dtype).view(cls)\n",
      "            states_dict._referred_by = []\n",
      "            return states_dict\n",
      "    \n",
      "    def _replace_dict(self, new_sdict_data, ptrs_transform=None):\n",
      "        \n",
      "        if isinstance(new_sdict_data, type(self)):\n",
      "            new_sdict = new_sdict_data\n",
      "            \n",
      "        else:\n",
      "            new_sdict = type(self)(new_sdict_data)\n",
      "            \n",
      "            \n",
      "            \n",
      "        new_sdict._referred_by = self._referred_by\n",
      "        \n",
      "        for xx in new_sdict._referred_by:\n",
      "            xx._set_new_sdict_connection(new_sdict)\n",
      "            if ptrs_transform != None:\n",
      "                xx._transform_ptrs(ptrs_transform)\n",
      "        \n",
      "        return new_sdict\n",
      "\n",
      "    \n",
      "def union_two_sdicts(sdict1, sdict2):\n",
      "    assert sdict1.dtype.type == sdict2.dtype.type\n",
      "    \n",
      "    union_dict, union_dict_idx = np.unique(np.r_[sdict1, sdict2], return_inverse=True)   \n",
      "    inv_sdict1_idx = union_dict_idx[:sdict1.shape[0]]\n",
      "    inv_sdict2_idx = union_dict_idx[sdict1.shape[0]:]\n",
      "    \n",
      "    new_dict = sdict1._replace_dict(new_sdict_data = union_dict,\n",
      "                                    ptrs_transform = inv_sdict1_idx)\n",
      "    \n",
      "    print \"new_dict = \",new_dict\n",
      "    print \"id(new_dict) = \",id(new_dict)\n",
      "    \n",
      "    new_dict = sdict1._replace_dict(new_sdict_data = new_dict,\n",
      "                                    ptrs_transform = inv_sdict2_idx)\n",
      "    \n",
      "    print \"new_dict = \",new_dict\n",
      "    print \"id(new_dict) = \",id(new_dict)\n",
      "    \n",
      "    \n",
      "    return new_dict\n",
      "    \n",
      "\n",
      "    \n",
      "\n",
      "class DataVector(np.ndarray):\n",
      "    def __new__(cls, data, dtype=None):        \n",
      "        if isinstance(data, cls):\n",
      "            return data\n",
      "        else:\n",
      "            data_vec = np.array(data, dtype=dtype).view(cls)\n",
      "            return data_vec\n",
      "    \n",
      "    \n",
      "        \n",
      "        \n",
      "class PtrVector(np.ndarray):\n",
      "    def __new__(cls, data, dtype=None, states_dict=None):\n",
      "        if isinstance(data, cls):\n",
      "            return data\n",
      "        else:\n",
      "            data_vec = np.array(data, dtype=dtype)\n",
      "            #print \"data_vec = \",data_vec\n",
      "            \n",
      "            if isinstance(states_dict, StatesDictionary):\n",
      "                kvd_vec = data_vec.view(cls)            \n",
      "                kvd_vec._states_dict = states_dict\n",
      "                kvd_vec._states_dict._referred_by.append(kvd_vec)\n",
      "                return kvd_vec                \n",
      "            else:\n",
      "                uni_values, idx_vec = np.unique(data_vec, return_inverse=True)\n",
      "                idx_vec = idx_vec.reshape(data_vec.shape)\n",
      "                #print \"idx_vec = \",idx_vec\n",
      "                kvd_vec = idx_vec.view(cls)\n",
      "                kvd_vec._states_dict = StatesDictionary(data = uni_values, dtype = uni_values.dtype)\n",
      "                kvd_vec._states_dict._referred_by.append(kvd_vec)\n",
      "                return kvd_vec\n",
      "    \n",
      "    def _remove_sdict_connection(self):\n",
      "        self._states_dict._referred_by.remove(self)\n",
      "    \n",
      "    \n",
      "    def _set_new_sdict_connection(self, new_sdict):\n",
      "        assert isinstance(new_sdict, StatesDictionary)\n",
      "        self._remove_sdict_connection()\n",
      "        self._states_dict = new_sdict\n",
      "        self._states_dict._referred_by.append(self)\n",
      "    \n",
      "    \n",
      "    def _eval_ptrs(self, states_dict=None):\n",
      "        if states_dict==None:\n",
      "            return self._states_dict[self].view(DataVector)\n",
      "        else:\n",
      "            return states_dict[self]\n",
      "        \n",
      "    \n",
      "    def _transform_ptrs(self, transform_vec):\n",
      "        self[:] = transform_vec[self]\n",
      "        \n",
      "    \n",
      "                "
     ],
     "language": "python",
     "metadata": {},
     "outputs": [],
     "prompt_number": 32
    },
    {
     "cell_type": "code",
     "collapsed": false,
     "input": [
      "PtrVector.__dict__"
     ],
     "language": "python",
     "metadata": {},
     "outputs": [
      {
       "metadata": {},
       "output_type": "pyout",
       "prompt_number": 33,
       "text": [
        "<dictproxy {'__dict__': <attribute '__dict__' of 'PtrVector' objects>,\n",
        " '__doc__': None,\n",
        " '__module__': '__main__',\n",
        " '__new__': <staticmethod at 0x547e4b0>,\n",
        " '_eval_ptrs': <function __main__._eval_ptrs>,\n",
        " '_remove_sdict_connection': <function __main__._remove_sdict_connection>,\n",
        " '_set_new_sdict_connection': <function __main__._set_new_sdict_connection>,\n",
        " '_transform_ptrs': <function __main__._transform_ptrs>}>"
       ]
      }
     ],
     "prompt_number": 33
    },
    {
     "cell_type": "code",
     "collapsed": false,
     "input": [
      "ptr_vec = PtrVector(list(tkr.ngram(test_text_df[\"text\"].values[0],2)))\n",
      "print id(ptr_vec)\n",
      "print id(ptr_vec._states_dict._referred_by[0])"
     ],
     "language": "python",
     "metadata": {},
     "outputs": [
      {
       "output_type": "stream",
       "stream": "stdout",
       "text": [
        "57634520\n",
        "57634520\n"
       ]
      }
     ],
     "prompt_number": 34
    },
    {
     "cell_type": "code",
     "collapsed": false,
     "input": [
      "ptr_vec1 = PtrVector(list(tkr.ngram(test_text_df[\"text\"].values[0],[1,2])))\n",
      "ptr_vec2 = PtrVector(list(tkr.ngram(test_text_df[\"text\"].values[6],[1,2])))\n"
     ],
     "language": "python",
     "metadata": {},
     "outputs": [],
     "prompt_number": 22
    },
    {
     "cell_type": "code",
     "collapsed": false,
     "input": [
      "print \"// \".join(ptr_vec1._states_dict)\n",
      "print \"// \".join(ptr_vec2._states_dict)"
     ],
     "language": "python",
     "metadata": {},
     "outputs": [
      {
       "output_type": "stream",
       "stream": "stdout",
       "text": [
        "\u4eca// \u4eca\u5929// \u5929// \u5929\u5929// \u5929\u6c23// \u597d// \u5f88// \u5f88\u597d// \u6c23// \u6c23\u5f88\n",
        "\u4eca// \u4eca\u5929// \u5929// \u5929\u5f88// \u5f88// \u5f88\u8870// \u8870\n"
       ]
      }
     ],
     "prompt_number": 23
    },
    {
     "cell_type": "code",
     "collapsed": false,
     "input": [
      "union_two_sdicts(ptr_vec1._states_dict,ptr_vec2._states_dict)"
     ],
     "language": "python",
     "metadata": {},
     "outputs": [
      {
       "output_type": "stream",
       "stream": "stdout",
       "text": [
        "new_dict =  [u'\\u4eca' u'\\u4eca\\u5929' u'\\u5929' u'\\u5929\\u5929' u'\\u5929\\u5f88'\n",
        " u'\\u5929\\u6c23' u'\\u597d' u'\\u5f88' u'\\u5f88\\u597d' u'\\u5f88\\u8870'\n",
        " u'\\u6c23' u'\\u6c23\\u5f88' u'\\u8870']\n",
        "id(new_dict) =  57632960\n"
       ]
      },
      {
       "ename": "IndexError",
       "evalue": "index 10 is out of bounds for size 7",
       "output_type": "pyerr",
       "traceback": [
        "\u001b[1;31m---------------------------------------------------------------------------\u001b[0m\n\u001b[1;31mIndexError\u001b[0m                                Traceback (most recent call last)",
        "\u001b[1;32m<ipython-input-31-3c96abf5bad0>\u001b[0m in \u001b[0;36m<module>\u001b[1;34m()\u001b[0m\n\u001b[1;32m----> 1\u001b[1;33m \u001b[0munion_two_sdicts\u001b[0m\u001b[1;33m(\u001b[0m\u001b[0mptr_vec1\u001b[0m\u001b[1;33m.\u001b[0m\u001b[0m_states_dict\u001b[0m\u001b[1;33m,\u001b[0m\u001b[0mptr_vec2\u001b[0m\u001b[1;33m.\u001b[0m\u001b[0m_states_dict\u001b[0m\u001b[1;33m)\u001b[0m\u001b[1;33m\u001b[0m\u001b[0m\n\u001b[0m",
        "\u001b[1;32m<ipython-input-19-28ed0b3b8949>\u001b[0m in \u001b[0;36munion_two_sdicts\u001b[1;34m(sdict1, sdict2)\u001b[0m\n\u001b[0;32m     43\u001b[0m \u001b[1;33m\u001b[0m\u001b[0m\n\u001b[0;32m     44\u001b[0m     new_dict = sdict1._replace_dict(new_sdict_data = new_dict,\n\u001b[1;32m---> 45\u001b[1;33m                                     ptrs_transform = inv_sdict2_idx)\n\u001b[0m\u001b[0;32m     46\u001b[0m \u001b[1;33m\u001b[0m\u001b[0m\n\u001b[0;32m     47\u001b[0m     \u001b[1;32mprint\u001b[0m \u001b[1;34m\"new_dict = \"\u001b[0m\u001b[1;33m,\u001b[0m\u001b[0mnew_dict\u001b[0m\u001b[1;33m\u001b[0m\u001b[0m\n",
        "\u001b[1;32m<ipython-input-19-28ed0b3b8949>\u001b[0m in \u001b[0;36m_replace_dict\u001b[1;34m(self, new_sdict_data, ptrs_transform)\u001b[0m\n\u001b[0;32m     24\u001b[0m             \u001b[0mxx\u001b[0m\u001b[1;33m.\u001b[0m\u001b[0m_set_new_sdict_connection\u001b[0m\u001b[1;33m(\u001b[0m\u001b[0mnew_sdict\u001b[0m\u001b[1;33m)\u001b[0m\u001b[1;33m\u001b[0m\u001b[0m\n\u001b[0;32m     25\u001b[0m             \u001b[1;32mif\u001b[0m \u001b[0mptrs_transform\u001b[0m \u001b[1;33m!=\u001b[0m \u001b[0mNone\u001b[0m\u001b[1;33m:\u001b[0m\u001b[1;33m\u001b[0m\u001b[0m\n\u001b[1;32m---> 26\u001b[1;33m                 \u001b[0mxx\u001b[0m\u001b[1;33m.\u001b[0m\u001b[0m_transform_ptrs\u001b[0m\u001b[1;33m(\u001b[0m\u001b[0mptrs_transform\u001b[0m\u001b[1;33m)\u001b[0m\u001b[1;33m\u001b[0m\u001b[0m\n\u001b[0m\u001b[0;32m     27\u001b[0m \u001b[1;33m\u001b[0m\u001b[0m\n\u001b[0;32m     28\u001b[0m         \u001b[1;32mreturn\u001b[0m \u001b[0mnew_sdict\u001b[0m\u001b[1;33m\u001b[0m\u001b[0m\n",
        "\u001b[1;32m<ipython-input-19-28ed0b3b8949>\u001b[0m in \u001b[0;36m_transform_ptrs\u001b[1;34m(self, transform_vec)\u001b[0m\n\u001b[0;32m    106\u001b[0m \u001b[1;33m\u001b[0m\u001b[0m\n\u001b[0;32m    107\u001b[0m     \u001b[1;32mdef\u001b[0m \u001b[0m_transform_ptrs\u001b[0m\u001b[1;33m(\u001b[0m\u001b[0mself\u001b[0m\u001b[1;33m,\u001b[0m \u001b[0mtransform_vec\u001b[0m\u001b[1;33m)\u001b[0m\u001b[1;33m:\u001b[0m\u001b[1;33m\u001b[0m\u001b[0m\n\u001b[1;32m--> 108\u001b[1;33m         \u001b[0mself\u001b[0m\u001b[1;33m[\u001b[0m\u001b[1;33m:\u001b[0m\u001b[1;33m]\u001b[0m \u001b[1;33m=\u001b[0m \u001b[0mtransform_vec\u001b[0m\u001b[1;33m[\u001b[0m\u001b[0mself\u001b[0m\u001b[1;33m]\u001b[0m\u001b[1;33m\u001b[0m\u001b[0m\n\u001b[0m\u001b[0;32m    109\u001b[0m \u001b[1;33m\u001b[0m\u001b[0m\n\u001b[0;32m    110\u001b[0m \u001b[1;33m\u001b[0m\u001b[0m\n",
        "\u001b[1;31mIndexError\u001b[0m: index 10 is out of bounds for size 7"
       ]
      }
     ],
     "prompt_number": 31
    },
    {
     "cell_type": "code",
     "collapsed": false,
     "input": [],
     "language": "python",
     "metadata": {},
     "outputs": []
    },
    {
     "cell_type": "code",
     "collapsed": false,
     "input": [],
     "language": "python",
     "metadata": {},
     "outputs": []
    },
    {
     "cell_type": "code",
     "collapsed": false,
     "input": [
      "#ptr_vec2._remove_sdict_connection()\n",
      "#print ptr_vec2._states_dict._referred_by\n",
      "\n",
      "sdict1 = ptr_vec1._states_dict\n",
      "sdict2 = ptr_vec2._states_dict\n",
      "\n",
      "union_dict, union_dict_idx = np.unique(np.r_[sdict1, sdict2], return_inverse=True)   \n",
      "inv_sdict1_idx = union_dict_idx[:sdict1.shape[0]]\n",
      "inv_sdict2_idx = union_dict_idx[sdict1.shape[0]:]\n",
      "    \n",
      "print inv_sdict1_idx, inv_sdict2_idx\n",
      "print inv_sdict1_idx[ptr_vec1]\n",
      "print ptr_vec1\n",
      "ptr_vec1[:] = inv_sdict1_idx[ptr_vec1]\n",
      "print ptr_vec1\n",
      "ptr_vec1._states_dict"
     ],
     "language": "python",
     "metadata": {},
     "outputs": [
      {
       "output_type": "stream",
       "stream": "stdout",
       "text": [
        "[ 0  1  2  3  4  5  6  7  8  9 10 11 12] [ 0  1  2  4  7  9 12]\n",
        "[ 0  2  2 10  7  6  1  3  5 11  8]\n",
        "[ 0  2  2 10  7  6  1  3  5 11  8]\n",
        "[ 0  2  2 10  7  6  1  3  5 11  8]\n"
       ]
      },
      {
       "metadata": {},
       "output_type": "pyout",
       "prompt_number": 35,
       "text": [
        "StatesDictionary([u'\\u4eca', u'\\u4eca\\u5929', u'\\u5929', u'\\u5929\\u5929',\n",
        "       u'\\u5929\\u5f88', u'\\u5929\\u6c23', u'\\u597d', u'\\u5f88',\n",
        "       u'\\u5f88\\u597d', u'\\u5f88\\u8870', u'\\u6c23', u'\\u6c23\\u5f88',\n",
        "       u'\\u8870'], \n",
        "      dtype='<U2')"
       ]
      }
     ],
     "prompt_number": 35
    },
    {
     "cell_type": "code",
     "collapsed": false,
     "input": [
      "ptr_vec1._eval_ptrs()"
     ],
     "language": "python",
     "metadata": {},
     "outputs": [
      {
       "metadata": {},
       "output_type": "pyout",
       "prompt_number": 36,
       "text": [
        "DataVector([u'\\u4eca', u'\\u5929', u'\\u5929', u'\\u6c23', u'\\u5f88', u'\\u597d',\n",
        "       u'\\u4eca\\u5929', u'\\u5929\\u5929', u'\\u5929\\u6c23', u'\\u6c23\\u5f88',\n",
        "       u'\\u5f88\\u597d'], \n",
        "      dtype='<U2')"
       ]
      }
     ],
     "prompt_number": 36
    },
    {
     "cell_type": "code",
     "collapsed": false,
     "input": [
      "ptr_vec1._states_dict.dtype.type == ptr_vec2._states_dict.dtype.type"
     ],
     "language": "python",
     "metadata": {},
     "outputs": [
      {
       "metadata": {},
       "output_type": "pyout",
       "prompt_number": 37,
       "text": [
        "True"
       ]
      }
     ],
     "prompt_number": 37
    },
    {
     "cell_type": "code",
     "collapsed": false,
     "input": [
      "a = np.array([[1.,2.],[3.,4.]])    \n",
      "a\n",
      "    \n",
      "        "
     ],
     "language": "python",
     "metadata": {},
     "outputs": [
      {
       "metadata": {},
       "output_type": "pyout",
       "prompt_number": 38,
       "text": [
        "array([[ 1.,  2.],\n",
        "       [ 3.,  4.]])"
       ]
      }
     ],
     "prompt_number": 38
    },
    {
     "cell_type": "code",
     "collapsed": false,
     "input": [],
     "language": "python",
     "metadata": {},
     "outputs": [],
     "prompt_number": 38
    },
    {
     "cell_type": "code",
     "collapsed": false,
     "input": [],
     "language": "python",
     "metadata": {},
     "outputs": []
    },
    {
     "cell_type": "code",
     "collapsed": false,
     "input": [],
     "language": "python",
     "metadata": {},
     "outputs": [],
     "prompt_number": 40
    },
    {
     "cell_type": "code",
     "collapsed": false,
     "input": [],
     "language": "python",
     "metadata": {},
     "outputs": []
    },
    {
     "cell_type": "code",
     "collapsed": false,
     "input": [],
     "language": "python",
     "metadata": {},
     "outputs": [],
     "prompt_number": 39
    },
    {
     "cell_type": "code",
     "collapsed": false,
     "input": [],
     "language": "python",
     "metadata": {},
     "outputs": [],
     "prompt_number": 39
    },
    {
     "cell_type": "code",
     "collapsed": false,
     "input": [],
     "language": "python",
     "metadata": {},
     "outputs": [],
     "prompt_number": 39
    },
    {
     "cell_type": "code",
     "collapsed": false,
     "input": [],
     "language": "python",
     "metadata": {},
     "outputs": []
    },
    {
     "cell_type": "code",
     "collapsed": false,
     "input": [
      "print tkr.ngram(test_text_df[\"text\"].values[0],3)\n",
      "ptr_vec3 = PtrVector(list(tkr.ngram(test_text_df[\"text\"].values[0],[1,2,3])))\n",
      "print ptr_vec3\n",
      "print ptr_vec3._eval_ptrs()"
     ],
     "language": "python",
     "metadata": {},
     "outputs": [
      {
       "output_type": "stream",
       "stream": "stdout",
       "text": [
        "<generator object ngram at 0x36ea780>\n",
        "[ 0  3  3 11  9  8  1  4  6 12 10  2  5  7 13]\n",
        "[u'\\u4eca' u'\\u5929' u'\\u5929' u'\\u6c23' u'\\u5f88' u'\\u597d'\n",
        " u'\\u4eca\\u5929' u'\\u5929\\u5929' u'\\u5929\\u6c23' u'\\u6c23\\u5f88'\n",
        " u'\\u5f88\\u597d' u'\\u4eca\\u5929\\u5929' u'\\u5929\\u5929\\u6c23'\n",
        " u'\\u5929\\u6c23\\u5f88' u'\\u6c23\\u5f88\\u597d']\n"
       ]
      }
     ],
     "prompt_number": 41
    },
    {
     "cell_type": "code",
     "collapsed": false,
     "input": [],
     "language": "python",
     "metadata": {},
     "outputs": []
    },
    {
     "cell_type": "code",
     "collapsed": false,
     "input": [
      "test = range(1,6)\n",
      "test.reverse()"
     ],
     "language": "python",
     "metadata": {},
     "outputs": [],
     "prompt_number": 140
    },
    {
     "cell_type": "code",
     "collapsed": false,
     "input": [
      "#ptr_vec2._set_new_sdict_connection(test)"
     ],
     "language": "python",
     "metadata": {},
     "outputs": [],
     "prompt_number": 142
    },
    {
     "cell_type": "code",
     "collapsed": false,
     "input": [],
     "language": "python",
     "metadata": {},
     "outputs": []
    },
    {
     "cell_type": "code",
     "collapsed": false,
     "input": [
      "new_sdict = ptr_vec2._states_dict._replace_dict(test)"
     ],
     "language": "python",
     "metadata": {},
     "outputs": [],
     "prompt_number": 143
    },
    {
     "cell_type": "code",
     "collapsed": false,
     "input": [
      "new_sdict._referred_by[0]._eval_ptrs()"
     ],
     "language": "python",
     "metadata": {},
     "outputs": [
      {
       "metadata": {},
       "output_type": "pyout",
       "prompt_number": 151,
       "text": [
        "StatesDictionary([5, 4, 3, 2])"
       ]
      }
     ],
     "prompt_number": 151
    },
    {
     "cell_type": "code",
     "collapsed": false,
     "input": [
      "test"
     ],
     "language": "python",
     "metadata": {},
     "outputs": [
      {
       "metadata": {},
       "output_type": "pyout",
       "prompt_number": 148,
       "text": [
        "[5, 4, 3, 1]"
       ]
      }
     ],
     "prompt_number": 148
    },
    {
     "cell_type": "code",
     "collapsed": false,
     "input": [
      "new_sdict"
     ],
     "language": "python",
     "metadata": {},
     "outputs": [
      {
       "metadata": {},
       "output_type": "pyout",
       "prompt_number": 147,
       "text": [
        "StatesDictionary([5, 4, 3, 2, 1])"
       ]
      }
     ],
     "prompt_number": 147
    },
    {
     "cell_type": "code",
     "collapsed": false,
     "input": [
      "test.index(5)"
     ],
     "language": "python",
     "metadata": {},
     "outputs": [
      {
       "metadata": {},
       "output_type": "pyout",
       "prompt_number": 104,
       "text": [
        "0"
       ]
      }
     ],
     "prompt_number": 104
    },
    {
     "cell_type": "code",
     "collapsed": false,
     "input": [
      "test.remove(3)"
     ],
     "language": "python",
     "metadata": {},
     "outputs": [],
     "prompt_number": 108
    },
    {
     "cell_type": "code",
     "collapsed": false,
     "input": [
      "test"
     ],
     "language": "python",
     "metadata": {},
     "outputs": [
      {
       "metadata": {},
       "output_type": "pyout",
       "prompt_number": 109,
       "text": [
        "[5, 4, 2, 1]"
       ]
      }
     ],
     "prompt_number": 109
    },
    {
     "cell_type": "code",
     "collapsed": false,
     "input": [],
     "language": "python",
     "metadata": {},
     "outputs": []
    }
   ],
   "metadata": {}
  }
 ]
}