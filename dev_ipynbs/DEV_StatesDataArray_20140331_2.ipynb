{
 "metadata": {
  "name": "",
  "signature": "sha256:fcb90333162d9ae7ced9b8a964dd01fddc0f1fea9c8b124b4fa02107acccb0b2"
 },
 "nbformat": 3,
 "nbformat_minor": 0,
 "worksheets": [
  {
   "cells": [
    {
     "cell_type": "code",
     "collapsed": false,
     "input": [
      "import PlaYnlp.tokenizer as tkr \n",
      "import PlaYnlp.vectorizer as vcr\n",
      "from PlaYnlp import dataio\n",
      "\n",
      "from PlaYnlp.sparse import L0_norm_col_summarizer as L0_col_sum\n",
      "from PlaYnlp.sparse import L1_norm_col_summarizer as L1_col_sum\n",
      "import numpy as np\n",
      "import scipy as sp"
     ],
     "language": "python",
     "metadata": {},
     "outputs": [],
     "prompt_number": 1
    },
    {
     "cell_type": "code",
     "collapsed": false,
     "input": [
      "jieba_without_html_tokenizer = tkr.tokenize_gen(lambda text:tkr.jieba.cut(tkr.nltk.clean_html(text)))\n",
      "unigram_without_html_tokenizer = tkr.tokenize_gen(lambda text:tkr.ngram(tkr.nltk.clean_html(text),n=1))\n",
      "bigram_without_html_tokenizer = tkr.tokenize_gen(lambda text:tkr.ngram(tkr.nltk.clean_html(text),n=2))\n",
      "jieba_vec_count_kwargs = {\"tokenizer\":jieba_without_html_tokenizer,\"lowercase\":False}\n",
      "unigram_vec_count_kwargs = {\"tokenizer\":unigram_without_html_tokenizer,\"lowercase\":False}\n",
      "bigram_vec_count_kwargs = {\"tokenizer\":bigram_without_html_tokenizer,\"lowercase\":False}"
     ],
     "language": "python",
     "metadata": {},
     "outputs": [],
     "prompt_number": 2
    },
    {
     "cell_type": "code",
     "collapsed": false,
     "input": [
      "import pandas as pd \n",
      "test_text_df = pd.DataFrame([u\"\u4eca\u5929\u5929\u6c23\u5f88\u597d\",u\"\u4eca\u5929\u5929\u6c23\u5f88\u721b\",u\"\u6211\u6068\u5b83\",u\"\u5b83\u6068\u6211\",u\"\u6211\u611b\u5b83\",u\"\u5b83\u611b\u6211\",u\"\u4eca\u5929\u5f88\u8870\",\"\u65e5\u5b50\u4e00\u5929\u4e00\u5929\u904e\",\"\u5929\u5929\u5237\u7259\u6d17\u81c9\"])\n",
      "test_text_df.columns = [\"text\"]\n",
      "test_text_df = test_text_df.reset_index()\n",
      "test_text_df"
     ],
     "language": "python",
     "metadata": {},
     "outputs": [
      {
       "html": [
        "<div style=\"max-height:1000px;max-width:1500px;overflow:auto;\">\n",
        "<table border=\"1\" class=\"dataframe\">\n",
        "  <thead>\n",
        "    <tr style=\"text-align: right;\">\n",
        "      <th></th>\n",
        "      <th>index</th>\n",
        "      <th>text</th>\n",
        "    </tr>\n",
        "  </thead>\n",
        "  <tbody>\n",
        "    <tr>\n",
        "      <th>0</th>\n",
        "      <td> 0</td>\n",
        "      <td>  \u4eca\u5929\u5929\u6c23\u5f88\u597d</td>\n",
        "    </tr>\n",
        "    <tr>\n",
        "      <th>1</th>\n",
        "      <td> 1</td>\n",
        "      <td>  \u4eca\u5929\u5929\u6c23\u5f88\u721b</td>\n",
        "    </tr>\n",
        "    <tr>\n",
        "      <th>2</th>\n",
        "      <td> 2</td>\n",
        "      <td>     \u6211\u6068\u5b83</td>\n",
        "    </tr>\n",
        "    <tr>\n",
        "      <th>3</th>\n",
        "      <td> 3</td>\n",
        "      <td>     \u5b83\u6068\u6211</td>\n",
        "    </tr>\n",
        "    <tr>\n",
        "      <th>4</th>\n",
        "      <td> 4</td>\n",
        "      <td>     \u6211\u611b\u5b83</td>\n",
        "    </tr>\n",
        "    <tr>\n",
        "      <th>5</th>\n",
        "      <td> 5</td>\n",
        "      <td>     \u5b83\u611b\u6211</td>\n",
        "    </tr>\n",
        "    <tr>\n",
        "      <th>6</th>\n",
        "      <td> 6</td>\n",
        "      <td>    \u4eca\u5929\u5f88\u8870</td>\n",
        "    </tr>\n",
        "    <tr>\n",
        "      <th>7</th>\n",
        "      <td> 7</td>\n",
        "      <td> \u65e5\u5b50\u4e00\u5929\u4e00\u5929\u904e</td>\n",
        "    </tr>\n",
        "    <tr>\n",
        "      <th>8</th>\n",
        "      <td> 8</td>\n",
        "      <td>  \u5929\u5929\u5237\u7259\u6d17\u81c9</td>\n",
        "    </tr>\n",
        "  </tbody>\n",
        "</table>\n",
        "<p>9 rows \u00d7 2 columns</p>\n",
        "</div>"
       ],
       "metadata": {},
       "output_type": "pyout",
       "prompt_number": 3,
       "text": [
        "   index     text\n",
        "0      0   \u4eca\u5929\u5929\u6c23\u5f88\u597d\n",
        "1      1   \u4eca\u5929\u5929\u6c23\u5f88\u721b\n",
        "2      2      \u6211\u6068\u5b83\n",
        "3      3      \u5b83\u6068\u6211\n",
        "4      4      \u6211\u611b\u5b83\n",
        "5      5      \u5b83\u611b\u6211\n",
        "6      6     \u4eca\u5929\u5f88\u8870\n",
        "7      7  \u65e5\u5b50\u4e00\u5929\u4e00\u5929\u904e\n",
        "8      8   \u5929\u5929\u5237\u7259\u6d17\u81c9\n",
        "\n",
        "[9 rows x 2 columns]"
       ]
      }
     ],
     "prompt_number": 3
    },
    {
     "cell_type": "code",
     "collapsed": false,
     "input": [
      "test_jieba_sdtm = vcr.vectorize_text(df=test_text_df,\n",
      "                                     text_col=\"text\", \n",
      "                                     idx_col=\"index\", \n",
      "                                     cond_query={},\n",
      "                                     idx_query= [],\n",
      "                                     vect_gen=vcr.CountVectorizer, \n",
      "                                     vect_gen_init_kwargs = unigram_vec_count_kwargs)"
     ],
     "language": "python",
     "metadata": {},
     "outputs": [],
     "prompt_number": 4
    },
    {
     "cell_type": "code",
     "collapsed": false,
     "input": [],
     "language": "python",
     "metadata": {},
     "outputs": [],
     "prompt_number": 4
    },
    {
     "cell_type": "code",
     "collapsed": false,
     "input": [
      "import numpy as np\n",
      "import inspect\n",
      "import types\n",
      "import PlaYnlp.tokenizer as tkr "
     ],
     "language": "python",
     "metadata": {},
     "outputs": [],
     "prompt_number": 6
    },
    {
     "cell_type": "code",
     "collapsed": false,
     "input": [],
     "language": "python",
     "metadata": {},
     "outputs": [],
     "prompt_number": 6
    },
    {
     "cell_type": "code",
     "collapsed": false,
     "input": [
      "def clean_no_data_tensors(np_array):\n",
      "    return np_array[map(lambda xx:0 if xx==1 else slice(None,None,None),np_array.shape)]\n",
      "\n",
      "class ValuesArray(np.ndarray):\n",
      "    def __new__(cls, data, dtype=None):\n",
      "        if isinstance(data, cls):\n",
      "            return data\n",
      "        else:\n",
      "            values_array = np.array(data, dtype=dtype).view(cls)\n",
      "            return values_array\n",
      "        \n",
      "    def decompose_into_states_ptrs(self):\n",
      "        u,i = np.unique(self, return_inverse=True)\n",
      "        states_array = StatesArray(data=u)\n",
      "        ptr_array = PtrArray(data=i, eval_cls=type(self))\n",
      "        return states_array, ptr_array\n",
      "\n",
      "    \n",
      "class StatesArray(np.ndarray):\n",
      "    def __new__(cls, data, dtype=None):\n",
      "        if isinstance(data, cls):\n",
      "            return data\n",
      "        else:\n",
      "            states_array = np.unique(np.array(data, dtype=dtype)).view(cls)\n",
      "            return states_array\n",
      "    \n",
      "    def _eval(self, ptr_array):\n",
      "        assert isinstance(ptr_array, PtrArray)\n",
      "        return self[ptr_array].view(ptr_array._eval_cls).copy()\n",
      "        \n",
      "    \n",
      "\n",
      "class PtrArray(np.ndarray):\n",
      "    def __new__(cls, data, dtype=None, eval_cls=np.ndarray):\n",
      "        if isinstance(data, cls):\n",
      "            return data\n",
      "        else:\n",
      "            data_array = np.array(data, dtype).view(cls)\n",
      "            data_array._eval_cls = eval_cls\n",
      "            return data_array\n",
      "    \n",
      "    def trans(self, ptrs_transform):\n",
      "        return type(self)(data = ptrs_transform[self],eval_cls=self._eval_cls)\n",
      "\n",
      "    def ngram(self, n):\n",
      "        ngram_results = list(tkr.ngram(self,n))\n",
      "        return type(self)(data=ngram_results, eval_cls=self._eval_cls)\n",
      "\n",
      "\n",
      "\n",
      "class StatesDictionary(object):\n",
      "    def __init__(self, states_array):\n",
      "        assert isinstance(states_array, StatesArray)\n",
      "        self._states_array = states_array\n",
      "        self._referred_by = []\n",
      "    \n",
      "    def _eval(self, ptr_array):\n",
      "        assert isinstance(ptr_array, PtrArray)\n",
      "        return self._states_array[ptr_array].view(ptr_array._eval_cls).copy()\n",
      "    \n",
      "    def update(self, new_states_array, ptrs_transform):\n",
      "        self._states_array = new_states_array\n",
      "        for one_states_data_array in self._referred_by:\n",
      "            one_states_data_array._ptr_array = one_states_data_array._ptr_array.trans(ptrs_transform)\n",
      "    \n",
      "    def __getitem__(self, *args):\n",
      "        print \"args = \",args\n",
      "        if isinstance(args[0], PtrArray):\n",
      "            return self.eval(args[0])\n",
      "        else:\n",
      "            return self._states_array[args].view(np.ndarray).copy()\n",
      "            \n",
      "        \n",
      "    \n",
      "    @property\n",
      "    def _dtype(self):\n",
      "        return self._states_array.dtype\n",
      "        \n",
      "    \n",
      "class StatesDataArray(object):\n",
      "    def __init__(self, states_array, ptr_array):\n",
      "        \n",
      "        self._ptr_array = ptr_array\n",
      "        self._states_dict = StatesDictionary(states_array=states_array)\n",
      "        self._states_dict._referred_by.append(self)\n",
      "    \n",
      "    @property\n",
      "    def _eval(self):\n",
      "        return self._states_dict._eval(self._ptr_array)\n",
      "    \n",
      "    \n",
      "    def __repr__(self):\n",
      "        return self._states_dict._eval(self._ptr_array).__repr__()\n",
      "    \n",
      "    \n",
      "    @property\n",
      "    def _dtype(self):\n",
      "        return self._states_dict._dtype\n",
      "    \n",
      "    \n",
      "    @property\n",
      "    def _shape(self):\n",
      "        return self._ptr_array.shape\n",
      "    \n",
      "    \n",
      "    \n",
      "        \n",
      "        \n",
      "    \n",
      "\n",
      "    \n",
      "        \n",
      "def check_args(checker, *args):\n",
      "    assert callable(checker)\n",
      "    args_len = len(args)\n",
      "    return np.ones(args_len,dtype=np.int)[np.array(map(checker,args))].sum() == args_len\n",
      "    \n",
      "def class_checker(xx):\n",
      "    return inspect.isclass(xx)\n",
      "    \n",
      "\n",
      "def check_type_of_args(valid_type, *args):\n",
      "    if isinstance(valid_type, (tuple,list)):\n",
      "        assert check_args(class_checker,*valid_type)\n",
      "        valid_types = tuple(valid_type)\n",
      "    \n",
      "    elif inspect.isclass(valid_type):\n",
      "        valid_types = valid_type\n",
      "\n",
      "    return check_args(lambda xx:isinstance(xx,valid_types),*args)\n",
      "    \n",
      "\n",
      "    \n",
      "class StatesDictionaryMerger(list):\n",
      "    def __init__(self, *states_dicts):\n",
      "        \n",
      "        # checking states_dicts are all StatesDictionary's instance\n",
      "        assert check_type_of_args(StatesDictionary, *states_dicts)\n",
      "        \n",
      "        # checking states_dicts have the same dtype\n",
      "        assert len(np.unique(np.array(map(lambda xx:xx._dtype.type,states_dicts)))) == 1\n",
      "        \n",
      "        list.__init__(self,states_dicts)\n",
      "        \n",
      "    @property\n",
      "    def _unique_states_array_ids(self):\n",
      "        return np.unique(np.array(map(lambda xx:id(xx._states_array),self)))\n",
      "        \n",
      "    \n",
      "    @property\n",
      "    def merge(self):\n",
      "        \n",
      "        if len(self._unique_states_array_ids) > 1:\n",
      "            states_array_lens = map(lambda xx:len(xx._states_array),states_merger)\n",
      "            sector_position = map(lambda xx:slice(*xx),list(tkr.ngram(np.cumsum([0] + states_array_lens),2)))\n",
      "            join_all_states_arrays = np.concatenate(tuple(map(lambda xx:xx._states_array,states_merger)),axis=0)\n",
      "            u,i = np.unique(join_all_states_arrays,return_inverse=True)        \n",
      "            ptrs_transforms = map(lambda xx:i[xx],sector_position)\n",
      "        \n",
      "            self._new_states_array = StatesArray(data=u)\n",
      "            self._ptrs_transforms = ptrs_transforms\n",
      "        \n",
      "        return self\n",
      "    \n",
      "    def update(self):\n",
      "        for ptrs_trans, states_dict in zip(self._ptrs_transforms,self):\n",
      "            states_dict.update(new_states_array = self._new_states_array, \n",
      "                               ptrs_transform = ptrs_trans)\n",
      "        \n",
      "\n",
      "\n",
      "class StatesDataArrayMerger(list):\n",
      "    \n",
      "    def __init__(self, *states_data_arrays):\n",
      "        \n",
      "        # checking states_data_arrays are all StatesDataArray's instance\n",
      "        assert check_type_of_args(StatesDataArray, *states_data_arrays)\n",
      "        \n",
      "        list.__init__(self,states_data_arrays)\n",
      "        \n",
      "    \n",
      "    \n",
      "\n",
      "    \n",
      "    \n",
      "class StatesDataFrame(object):\n",
      "    pass\n",
      "\n",
      "class StatesModelFrame(object):\n",
      "    pass\n"
     ],
     "language": "python",
     "metadata": {},
     "outputs": [],
     "prompt_number": 243
    },
    {
     "cell_type": "code",
     "collapsed": false,
     "input": [],
     "language": "python",
     "metadata": {},
     "outputs": [],
     "prompt_number": 243
    },
    {
     "cell_type": "code",
     "collapsed": false,
     "input": [
      "val_array1 = ValuesArray(list(tkr.ngram(test_text_df[\"text\"].values[0],[1])))\n",
      "val_array2 = ValuesArray(list(tkr.ngram(test_text_df[\"text\"].values[1],[1])))\n",
      "val_array3 = ValuesArray(list(tkr.ngram(test_text_df[\"text\"].values[2],[1])))\n",
      "val_array4 = ValuesArray(list(tkr.ngram(test_text_df[\"text\"].values[5],[1])))\n",
      "states_data_array1 = StatesDataArray(*val_array1.decompose_into_states_ptrs())\n",
      "states_data_array2 = StatesDataArray(*val_array2.decompose_into_states_ptrs())\n",
      "states_data_array3 = StatesDataArray(*val_array3.decompose_into_states_ptrs())\n",
      "states_data_array4 = StatesDataArray(*val_array4.decompose_into_states_ptrs())"
     ],
     "language": "python",
     "metadata": {},
     "outputs": [],
     "prompt_number": 257
    },
    {
     "cell_type": "code",
     "collapsed": false,
     "input": [
      "states_data_array1._dtype.type"
     ],
     "language": "python",
     "metadata": {},
     "outputs": [
      {
       "metadata": {},
       "output_type": "pyout",
       "prompt_number": 245,
       "text": [
        "numpy.unicode_"
       ]
      }
     ],
     "prompt_number": 245
    },
    {
     "cell_type": "code",
     "collapsed": false,
     "input": [
      "states_data_array1._ptr_array"
     ],
     "language": "python",
     "metadata": {},
     "outputs": [
      {
       "metadata": {},
       "output_type": "pyout",
       "prompt_number": 246,
       "text": [
        "PtrArray([0, 1, 1, 4, 3, 2])"
       ]
      }
     ],
     "prompt_number": 246
    },
    {
     "cell_type": "code",
     "collapsed": false,
     "input": [],
     "language": "python",
     "metadata": {},
     "outputs": [],
     "prompt_number": 246
    },
    {
     "cell_type": "code",
     "collapsed": false,
     "input": [
      "states_data_array_merger = StatesDataArrayMerger(states_data_array1,\n",
      "                                                 states_data_array2,\n",
      "                                                 states_data_array3,\n",
      "                                                 states_data_array4)\n",
      "states_data_array_merger"
     ],
     "language": "python",
     "metadata": {},
     "outputs": [
      {
       "metadata": {},
       "output_type": "pyout",
       "prompt_number": 278,
       "text": [
        "[ValuesArray([u'\\u4eca', u'\\u5929', u'\\u5929', u'\\u6c23', u'\\u5f88', u'\\u597d'], \n",
        "       dtype='<U1'),\n",
        " ValuesArray([u'\\u4eca', u'\\u5929', u'\\u5929', u'\\u6c23', u'\\u5f88', u'\\u721b'], \n",
        "       dtype='<U1'),\n",
        " ValuesArray([u'\\u6211', u'\\u6068', u'\\u5b83'], \n",
        "       dtype='<U1'),\n",
        " ValuesArray([u'\\u5b83', u'\\u611b', u'\\u6211'], \n",
        "       dtype='<U1')]"
       ]
      }
     ],
     "prompt_number": 278
    },
    {
     "cell_type": "code",
     "collapsed": false,
     "input": [
      "map(lambda xx:xx._shape,states_data_array_merger)"
     ],
     "language": "python",
     "metadata": {},
     "outputs": [
      {
       "metadata": {},
       "output_type": "pyout",
       "prompt_number": 279,
       "text": [
        "[(6,), (6,), (3,), (3,)]"
       ]
      }
     ],
     "prompt_number": 279
    },
    {
     "cell_type": "code",
     "collapsed": false,
     "input": [
      "np.concatenate(tuple(map(lambda xx:list(tkr.ngram(xx._ptr_array,2)),states_data_array_merger)),axis=0)"
     ],
     "language": "python",
     "metadata": {},
     "outputs": [
      {
       "metadata": {},
       "output_type": "pyout",
       "prompt_number": 286,
       "text": [
        "array([[0, 1],\n",
        "       [1, 1],\n",
        "       [1, 8],\n",
        "       [8, 4],\n",
        "       [4, 2],\n",
        "       [0, 1],\n",
        "       [1, 1],\n",
        "       [1, 8],\n",
        "       [8, 4],\n",
        "       [4, 9],\n",
        "       [7, 5],\n",
        "       [5, 3],\n",
        "       [3, 6],\n",
        "       [6, 7]])"
       ]
      }
     ],
     "prompt_number": 286
    },
    {
     "cell_type": "code",
     "collapsed": false,
     "input": [
      "test1 = np.concatenate(tuple(map(lambda xx:list(tkr.ngram(xx._ptr_array,2)),states_data_array_merger)),axis=0)\n",
      "test1 "
     ],
     "language": "python",
     "metadata": {},
     "outputs": [
      {
       "metadata": {},
       "output_type": "pyout",
       "prompt_number": 311,
       "text": [
        "array([[0, 1],\n",
        "       [1, 1],\n",
        "       [1, 8],\n",
        "       [8, 4],\n",
        "       [4, 2],\n",
        "       [0, 1],\n",
        "       [1, 1],\n",
        "       [1, 8],\n",
        "       [8, 4],\n",
        "       [4, 9],\n",
        "       [7, 5],\n",
        "       [5, 3],\n",
        "       [3, 6],\n",
        "       [6, 7]])"
       ]
      }
     ],
     "prompt_number": 311
    },
    {
     "cell_type": "code",
     "collapsed": false,
     "input": [
      "test1.shape"
     ],
     "language": "python",
     "metadata": {},
     "outputs": [
      {
       "metadata": {},
       "output_type": "pyout",
       "prompt_number": 312,
       "text": [
        "(14, 2)"
       ]
      }
     ],
     "prompt_number": 312
    },
    {
     "cell_type": "code",
     "collapsed": false,
     "input": [
      "test1.dtype"
     ],
     "language": "python",
     "metadata": {},
     "outputs": [
      {
       "metadata": {},
       "output_type": "pyout",
       "prompt_number": 313,
       "text": [
        "dtype('int64')"
       ]
      }
     ],
     "prompt_number": 313
    },
    {
     "cell_type": "code",
     "collapsed": false,
     "input": [
      "test1.dtype = np.dtype([(\"d1\",test1.dtype),(\"d2\",test1.dtype)])"
     ],
     "language": "python",
     "metadata": {},
     "outputs": [],
     "prompt_number": 316
    },
    {
     "cell_type": "code",
     "collapsed": false,
     "input": [
      "test1"
     ],
     "language": "python",
     "metadata": {},
     "outputs": [
      {
       "metadata": {},
       "output_type": "pyout",
       "prompt_number": 317,
       "text": [
        "array([[(0, 1)],\n",
        "       [(1, 1)],\n",
        "       [(1, 8)],\n",
        "       [(8, 4)],\n",
        "       [(4, 2)],\n",
        "       [(0, 1)],\n",
        "       [(1, 1)],\n",
        "       [(1, 8)],\n",
        "       [(8, 4)],\n",
        "       [(4, 9)],\n",
        "       [(7, 5)],\n",
        "       [(5, 3)],\n",
        "       [(3, 6)],\n",
        "       [(6, 7)]], \n",
        "      dtype=[('d1', '<i8'), ('d2', '<i8')])"
       ]
      }
     ],
     "prompt_number": 317
    },
    {
     "cell_type": "code",
     "collapsed": false,
     "input": [
      "np.unique(test1)"
     ],
     "language": "python",
     "metadata": {},
     "outputs": [
      {
       "metadata": {},
       "output_type": "pyout",
       "prompt_number": 318,
       "text": [
        "array([(0, 1), (1, 1), (1, 8), (3, 6), (4, 2), (4, 9), (5, 3), (6, 7),\n",
        "       (7, 5), (8, 4)], \n",
        "      dtype=[('d1', '<i8'), ('d2', '<i8')])"
       ]
      }
     ],
     "prompt_number": 318
    },
    {
     "cell_type": "code",
     "collapsed": false,
     "input": [
      "test1"
     ],
     "language": "python",
     "metadata": {},
     "outputs": [
      {
       "metadata": {},
       "output_type": "pyout",
       "prompt_number": 319,
       "text": [
        "array([[(0, 1)],\n",
        "       [(1, 1)],\n",
        "       [(1, 8)],\n",
        "       [(8, 4)],\n",
        "       [(4, 2)],\n",
        "       [(0, 1)],\n",
        "       [(1, 1)],\n",
        "       [(1, 8)],\n",
        "       [(8, 4)],\n",
        "       [(4, 9)],\n",
        "       [(7, 5)],\n",
        "       [(5, 3)],\n",
        "       [(3, 6)],\n",
        "       [(6, 7)]], \n",
        "      dtype=[('d1', '<i8'), ('d2', '<i8')])"
       ]
      }
     ],
     "prompt_number": 319
    },
    {
     "cell_type": "code",
     "collapsed": false,
     "input": [],
     "language": "python",
     "metadata": {},
     "outputs": [],
     "prompt_number": 308
    },
    {
     "cell_type": "code",
     "collapsed": false,
     "input": [],
     "language": "python",
     "metadata": {},
     "outputs": [],
     "prompt_number": 308
    },
    {
     "cell_type": "code",
     "collapsed": false,
     "input": [],
     "language": "python",
     "metadata": {},
     "outputs": [],
     "prompt_number": 308
    },
    {
     "cell_type": "code",
     "collapsed": false,
     "input": [],
     "language": "python",
     "metadata": {},
     "outputs": []
    },
    {
     "cell_type": "code",
     "collapsed": false,
     "input": [],
     "language": "python",
     "metadata": {},
     "outputs": [],
     "prompt_number": 290
    },
    {
     "cell_type": "code",
     "collapsed": false,
     "input": [],
     "language": "python",
     "metadata": {},
     "outputs": []
    },
    {
     "cell_type": "code",
     "collapsed": false,
     "input": [],
     "language": "python",
     "metadata": {},
     "outputs": [],
     "prompt_number": 249
    },
    {
     "cell_type": "code",
     "collapsed": false,
     "input": [
      "test_sdict_merge = StatesDictionaryMerger(*map(lambda xx:xx._states_dict,states_data_array_merger))\n",
      "test_sdict_merge.merge._new_states_array"
     ],
     "language": "python",
     "metadata": {},
     "outputs": [
      {
       "metadata": {},
       "output_type": "pyout",
       "prompt_number": 250,
       "text": [
        "StatesArray([u'\\u4eca', u'\\u5929', u'\\u597d', u'\\u5b83', u'\\u5f88', u'\\u6068',\n",
        "       u'\\u611b', u'\\u6211', u'\\u6c23', u'\\u721b'], \n",
        "      dtype='<U1')"
       ]
      }
     ],
     "prompt_number": 250
    },
    {
     "cell_type": "code",
     "collapsed": false,
     "input": [
      "test_sdict_merge.update()"
     ],
     "language": "python",
     "metadata": {},
     "outputs": [],
     "prompt_number": 251
    },
    {
     "cell_type": "code",
     "collapsed": false,
     "input": [
      "test_sdict_merge._unique_states_array_ids"
     ],
     "language": "python",
     "metadata": {},
     "outputs": [
      {
       "metadata": {},
       "output_type": "pyout",
       "prompt_number": 252,
       "text": [
        "array([97837496])"
       ]
      }
     ],
     "prompt_number": 252
    },
    {
     "cell_type": "code",
     "collapsed": false,
     "input": [
      "test_sdict_merge[0]"
     ],
     "language": "python",
     "metadata": {},
     "outputs": [
      {
       "metadata": {},
       "output_type": "pyout",
       "prompt_number": 265,
       "text": [
        "<__main__.StatesDictionary at 0x5d48350>"
       ]
      }
     ],
     "prompt_number": 265
    },
    {
     "cell_type": "code",
     "collapsed": false,
     "input": [
      "map(lambda xx:xx._ptr_array,states_data_array_merger)"
     ],
     "language": "python",
     "metadata": {},
     "outputs": [
      {
       "metadata": {},
       "output_type": "pyout",
       "prompt_number": 274,
       "text": [
        "[PtrArray([0, 1, 1, 4, 3, 2]),\n",
        " PtrArray([0, 1, 1, 3, 2, 4]),\n",
        " PtrArray([2, 1, 0]),\n",
        " PtrArray([0, 1, 2])]"
       ]
      }
     ],
     "prompt_number": 274
    },
    {
     "cell_type": "code",
     "collapsed": false,
     "input": [
      "np.concatenate(tuple(map(lambda xx:xx._ptr_array,states_data_array_merger)),axis=0)"
     ],
     "language": "python",
     "metadata": {},
     "outputs": [
      {
       "metadata": {},
       "output_type": "pyout",
       "prompt_number": 253,
       "text": [
        "array([0, 1, 1, 4, 3, 2, 0, 1, 1, 3, 2, 4, 2, 1, 0, 0, 1, 2])"
       ]
      }
     ],
     "prompt_number": 253
    },
    {
     "cell_type": "code",
     "collapsed": false,
     "input": [],
     "language": "python",
     "metadata": {},
     "outputs": [
      {
       "metadata": {},
       "output_type": "pyout",
       "prompt_number": 261,
       "text": [
        "StatesArray([u'\\u4eca', u'\\u5929', u'\\u597d', u'\\u5f88', u'\\u6c23'], \n",
        "      dtype='<U1')"
       ]
      }
     ],
     "prompt_number": 261
    },
    {
     "cell_type": "code",
     "collapsed": false,
     "input": [],
     "language": "python",
     "metadata": {},
     "outputs": []
    },
    {
     "cell_type": "code",
     "collapsed": false,
     "input": [],
     "language": "python",
     "metadata": {},
     "outputs": [],
     "prompt_number": 171
    },
    {
     "cell_type": "code",
     "collapsed": false,
     "input": [
      "states_merger = StatesDictionaryMerger(states_data_array1._states_dict,\n",
      "                                       states_data_array2._states_dict,\n",
      "                                       states_data_array3._states_dict,\n",
      "                                       states_data_array4._states_dict)\n",
      "states_merger"
     ],
     "language": "python",
     "metadata": {},
     "outputs": [
      {
       "metadata": {},
       "output_type": "pyout",
       "prompt_number": 275,
       "text": [
        "[<__main__.StatesDictionary at 0x5d48510>,\n",
        " <__main__.StatesDictionary at 0x5d483d0>,\n",
        " <__main__.StatesDictionary at 0x5d48550>,\n",
        " <__main__.StatesDictionary at 0x5d485d0>]"
       ]
      }
     ],
     "prompt_number": 275
    },
    {
     "cell_type": "code",
     "collapsed": false,
     "input": [
      "states_data_array1._ptr_array"
     ],
     "language": "python",
     "metadata": {},
     "outputs": [
      {
       "metadata": {},
       "output_type": "pyout",
       "prompt_number": 276,
       "text": [
        "PtrArray([0, 1, 1, 8, 4, 2])"
       ]
      }
     ],
     "prompt_number": 276
    },
    {
     "cell_type": "code",
     "collapsed": false,
     "input": [],
     "language": "python",
     "metadata": {},
     "outputs": [],
     "prompt_number": 276
    },
    {
     "cell_type": "code",
     "collapsed": false,
     "input": [
      "print states_merger\n",
      "print states_merger.merge._new_states_array\n",
      "print states_merger.merge._ptrs_transforms"
     ],
     "language": "python",
     "metadata": {},
     "outputs": [
      {
       "output_type": "stream",
       "stream": "stdout",
       "text": [
        "[<__main__.StatesDictionary object at 0x5d48510>, <__main__.StatesDictionary object at 0x5d483d0>, <__main__.StatesDictionary object at 0x5d48550>, <__main__.StatesDictionary object at 0x5d485d0>]\n"
       ]
      },
      {
       "ename": "AttributeError",
       "evalue": "'StatesDictionaryMerger' object has no attribute '_new_states_array'",
       "output_type": "pyerr",
       "traceback": [
        "\u001b[1;31m---------------------------------------------------------------------------\u001b[0m\n\u001b[1;31mAttributeError\u001b[0m                            Traceback (most recent call last)",
        "\u001b[1;32m<ipython-input-277-0da0e367f747>\u001b[0m in \u001b[0;36m<module>\u001b[1;34m()\u001b[0m\n\u001b[0;32m      1\u001b[0m \u001b[1;32mprint\u001b[0m \u001b[0mstates_merger\u001b[0m\u001b[1;33m\u001b[0m\u001b[0m\n\u001b[1;32m----> 2\u001b[1;33m \u001b[1;32mprint\u001b[0m \u001b[0mstates_merger\u001b[0m\u001b[1;33m.\u001b[0m\u001b[0mmerge\u001b[0m\u001b[1;33m.\u001b[0m\u001b[0m_new_states_array\u001b[0m\u001b[1;33m\u001b[0m\u001b[0m\n\u001b[0m\u001b[0;32m      3\u001b[0m \u001b[1;32mprint\u001b[0m \u001b[0mstates_merger\u001b[0m\u001b[1;33m.\u001b[0m\u001b[0mmerge\u001b[0m\u001b[1;33m.\u001b[0m\u001b[0m_ptrs_transforms\u001b[0m\u001b[1;33m\u001b[0m\u001b[0m\n",
        "\u001b[1;31mAttributeError\u001b[0m: 'StatesDictionaryMerger' object has no attribute '_new_states_array'"
       ]
      }
     ],
     "prompt_number": 277
    },
    {
     "cell_type": "code",
     "collapsed": false,
     "input": [
      "states_merger.merge.update()"
     ],
     "language": "python",
     "metadata": {},
     "outputs": [],
     "prompt_number": 269
    },
    {
     "cell_type": "code",
     "collapsed": false,
     "input": [
      "states_data_array1._ptr_array.ngram(4)"
     ],
     "language": "python",
     "metadata": {},
     "outputs": [
      {
       "metadata": {},
       "output_type": "pyout",
       "prompt_number": 270,
       "text": [
        "PtrArray([[0, 1, 1, 8],\n",
        "       [1, 1, 8, 4],\n",
        "       [1, 8, 4, 2]])"
       ]
      }
     ],
     "prompt_number": 270
    },
    {
     "cell_type": "code",
     "collapsed": false,
     "input": [
      "states_data_array1._eval"
     ],
     "language": "python",
     "metadata": {},
     "outputs": [
      {
       "metadata": {},
       "output_type": "pyout",
       "prompt_number": 271,
       "text": [
        "ValuesArray([u'\\u4eca', u'\\u5929', u'\\u5929', u'\\u6c23', u'\\u5f88', u'\\u597d'], \n",
        "      dtype='<U1')"
       ]
      }
     ],
     "prompt_number": 271
    },
    {
     "cell_type": "code",
     "collapsed": false,
     "input": [],
     "language": "python",
     "metadata": {},
     "outputs": [],
     "prompt_number": 271
    },
    {
     "cell_type": "code",
     "collapsed": false,
     "input": [
      "states_data_array1._ptr_array"
     ],
     "language": "python",
     "metadata": {},
     "outputs": [
      {
       "metadata": {},
       "output_type": "pyout",
       "prompt_number": 273,
       "text": [
        "PtrArray([0, 1, 1, 8, 4, 2])"
       ]
      }
     ],
     "prompt_number": 273
    },
    {
     "cell_type": "code",
     "collapsed": false,
     "input": [],
     "language": "python",
     "metadata": {},
     "outputs": []
    },
    {
     "cell_type": "code",
     "collapsed": false,
     "input": [
      "print states_data_array1._states_dict._states_array\n",
      "print states_data_array1._states_dict._referred_by\n",
      "print states_data_array1._ptr_array\n",
      "print \"// \".join(states_data_array1._eval)\n"
     ],
     "language": "python",
     "metadata": {},
     "outputs": [
      {
       "output_type": "stream",
       "stream": "stdout",
       "text": [
        "[u'\\u4eca' u'\\u5929' u'\\u597d' u'\\u5b83' u'\\u5f88' u'\\u6068' u'\\u611b'\n",
        " u'\\u6211' u'\\u6c23' u'\\u721b']\n",
        "[ValuesArray([u'\\u4eca', u'\\u5929', u'\\u5929', u'\\u6c23', u'\\u5f88', u'\\u597d'], \n",
        "      dtype='<U1')]\n",
        "[0 1 1 8 4 2]\n",
        "\u4eca// \u5929// \u5929// \u6c23// \u5f88// \u597d\n"
       ]
      }
     ],
     "prompt_number": 119
    },
    {
     "cell_type": "code",
     "collapsed": false,
     "input": [
      "print states_data_array2._states_dict._states_array\n",
      "print states_data_array2._states_dict._referred_by\n",
      "print states_data_array2._ptr_array\n",
      "print \"// \".join(states_data_array1._eval)\n"
     ],
     "language": "python",
     "metadata": {},
     "outputs": [
      {
       "output_type": "stream",
       "stream": "stdout",
       "text": [
        "[u'\\u4eca' u'\\u5929' u'\\u597d' u'\\u5b83' u'\\u5f88' u'\\u6068' u'\\u611b'\n",
        " u'\\u6211' u'\\u6c23' u'\\u721b']\n",
        "[ValuesArray([u'\\u4eca', u'\\u5929', u'\\u5929', u'\\u6c23', u'\\u5f88', u'\\u721b'], \n",
        "      dtype='<U1')]\n",
        "[0 1 1 8 4 9]\n",
        "\u4eca// \u5929// \u5929// \u6c23// \u5f88// \u597d\n"
       ]
      }
     ],
     "prompt_number": 120
    },
    {
     "cell_type": "code",
     "collapsed": false,
     "input": [
      "print id(states_data_array1._states_dict._states_array)\n",
      "print id(states_data_array2._states_dict._states_array)\n",
      "print \"// \".join(states_data_array2._states_dict._states_array)"
     ],
     "language": "python",
     "metadata": {},
     "outputs": [
      {
       "output_type": "stream",
       "stream": "stdout",
       "text": [
        "65651248\n",
        "65651248\n",
        "\u4eca// \u5929// \u597d// \u5b83// \u5f88// \u6068// \u611b// \u6211// \u6c23// \u721b\n"
       ]
      }
     ],
     "prompt_number": 121
    },
    {
     "cell_type": "code",
     "collapsed": false,
     "input": [],
     "language": "python",
     "metadata": {},
     "outputs": [],
     "prompt_number": 121
    },
    {
     "cell_type": "code",
     "collapsed": false,
     "input": [
      "print list(tkr.ngram(states_data_array1._ptr_array,2))\n",
      "type(states_data_array1._ptr_array)(list(tkr.ngram(states_data_array1._ptr_array,2)))"
     ],
     "language": "python",
     "metadata": {},
     "outputs": [
      {
       "output_type": "stream",
       "stream": "stdout",
       "text": [
        "[PtrArray([0, 1]), PtrArray([1, 1]), PtrArray([1, 8]), PtrArray([8, 4]), PtrArray([4, 2])]\n"
       ]
      },
      {
       "metadata": {},
       "output_type": "pyout",
       "prompt_number": 166,
       "text": [
        "PtrArray([[0, 1],\n",
        "       [1, 1],\n",
        "       [1, 8],\n",
        "       [8, 4],\n",
        "       [4, 2]])"
       ]
      }
     ],
     "prompt_number": 166
    },
    {
     "cell_type": "code",
     "collapsed": false,
     "input": [
      "print states_data_array1._ptr_array"
     ],
     "language": "python",
     "metadata": {},
     "outputs": [
      {
       "output_type": "stream",
       "stream": "stdout",
       "text": [
        "[0 1 1 8 4 2]\n"
       ]
      }
     ],
     "prompt_number": 123
    },
    {
     "cell_type": "code",
     "collapsed": false,
     "input": [
      "np.kron([[100],[10]],map(lambda xx:[xx],np.ones(states_data_array1._ptr_array.shape)))"
     ],
     "language": "python",
     "metadata": {},
     "outputs": [
      {
       "metadata": {},
       "output_type": "pyout",
       "prompt_number": 124,
       "text": [
        "array([[ 100.],\n",
        "       [ 100.],\n",
        "       [ 100.],\n",
        "       [ 100.],\n",
        "       [ 100.],\n",
        "       [ 100.],\n",
        "       [  10.],\n",
        "       [  10.],\n",
        "       [  10.],\n",
        "       [  10.],\n",
        "       [  10.],\n",
        "       [  10.]])"
       ]
      }
     ],
     "prompt_number": 124
    },
    {
     "cell_type": "code",
     "collapsed": false,
     "input": [
      "np.kron(np.eye(2), np.ones((2,2)))"
     ],
     "language": "python",
     "metadata": {},
     "outputs": [
      {
       "metadata": {},
       "output_type": "pyout",
       "prompt_number": 126,
       "text": [
        "array([[ 1.,  1.,  0.,  0.],\n",
        "       [ 1.,  1.,  0.,  0.],\n",
        "       [ 0.,  0.,  1.,  1.],\n",
        "       [ 0.,  0.,  1.,  1.]])"
       ]
      }
     ],
     "prompt_number": 126
    },
    {
     "cell_type": "code",
     "collapsed": false,
     "input": [],
     "language": "python",
     "metadata": {},
     "outputs": [],
     "prompt_number": 28
    },
    {
     "cell_type": "code",
     "collapsed": false,
     "input": [
      "np.r_[np.array([np.ones(states_data_array1._ptr_array.shape)]).T]"
     ],
     "language": "python",
     "metadata": {},
     "outputs": [
      {
       "metadata": {},
       "output_type": "pyout",
       "prompt_number": 138,
       "text": [
        "array([[ 1.],\n",
        "       [ 1.],\n",
        "       [ 1.],\n",
        "       [ 1.],\n",
        "       [ 1.],\n",
        "       [ 1.]])"
       ]
      }
     ],
     "prompt_number": 138
    },
    {
     "cell_type": "code",
     "collapsed": false,
     "input": [
      "print np.arange(10,20)[[5,3,1,4]]\n",
      "#range(10)[[1,5,3,4]]\n"
     ],
     "language": "python",
     "metadata": {},
     "outputs": [
      {
       "output_type": "stream",
       "stream": "stdout",
       "text": [
        "[15 13 11 14]\n"
       ]
      }
     ],
     "prompt_number": 150
    },
    {
     "cell_type": "code",
     "collapsed": false,
     "input": [],
     "language": "python",
     "metadata": {},
     "outputs": []
    }
   ],
   "metadata": {}
  }
 ]
}