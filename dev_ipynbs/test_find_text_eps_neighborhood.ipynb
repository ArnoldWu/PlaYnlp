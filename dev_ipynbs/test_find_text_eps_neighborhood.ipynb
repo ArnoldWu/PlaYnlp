{
 "metadata": {
  "name": ""
 },
 "nbformat": 3,
 "nbformat_minor": 0,
 "worksheets": [
  {
   "cells": [
    {
     "cell_type": "code",
     "collapsed": false,
     "input": [
      "import PlaYnlp.tokenizer as tkr \n",
      "import PlaYnlp.vectorizer as vcr\n",
      "from PlaYnlp import dataio\n",
      "from PlaYnlp.analysis.heuristics.text_clustering import find_text_eps_neighborhood\n",
      "\n",
      "from PlaYnlp.sparse import L0_norm_col_summarizer as L0_col_sum\n",
      "from PlaYnlp.sparse import L1_norm_col_summarizer as L1_col_sum\n",
      "import numpy as np\n",
      "import scipy as sp"
     ],
     "language": "python",
     "metadata": {},
     "outputs": [],
     "prompt_number": 1
    },
    {
     "cell_type": "code",
     "collapsed": false,
     "input": [
      "jieba_without_html_tokenizer = tkr.tokenize_gen(lambda text:tkr.jieba.cut(tkr.nltk.clean_html(text)))\n",
      "unigram_without_html_tokenizer = tkr.tokenize_gen(lambda text:tkr.ngram(tkr.nltk.clean_html(text),n=1))\n",
      "bigram_without_html_tokenizer = tkr.tokenize_gen(lambda text:tkr.ngram(tkr.nltk.clean_html(text),n=2))\n",
      "jieba_vec_count_kwargs = {\"tokenizer\":jieba_without_html_tokenizer,\"lowercase\":False}\n",
      "unigram_vec_count_kwargs = {\"tokenizer\":unigram_without_html_tokenizer,\"lowercase\":False}\n",
      "bigram_vec_count_kwargs = {\"tokenizer\":bigram_without_html_tokenizer,\"lowercase\":False}"
     ],
     "language": "python",
     "metadata": {},
     "outputs": [],
     "prompt_number": 2
    },
    {
     "cell_type": "code",
     "collapsed": false,
     "input": [
      "articles_df,articles_push_df = dataio.read_pickle_file(\"PTT___movie.pickle\")\n",
      "test_ptt_text_sdtm = dataio.read_pickle_file(\"sdtm_ptt_movie.pickle\")"
     ],
     "language": "python",
     "metadata": {},
     "outputs": [],
     "prompt_number": 3
    },
    {
     "cell_type": "code",
     "collapsed": false,
     "input": [
      "# test_ptt_text_sdtm = vcr.vectorize_text(df=articles_df,\n",
      "#                                          text_col=\"title\", \n",
      "#                                          vect_gen=vcr.CountVectorizer, \n",
      "#                                          vect_gen_init_kwargs = jieba_vec_count_kwargs,\n",
      "#                                          summarizer = L0_col_sum,\n",
      "#                                          dump_out_pickle = \"sdtm_ptt_movie.pickle\")"
     ],
     "language": "python",
     "metadata": {},
     "outputs": [],
     "prompt_number": 4
    },
    {
     "cell_type": "code",
     "collapsed": false,
     "input": [],
     "language": "python",
     "metadata": {},
     "outputs": [],
     "prompt_number": 4
    },
    {
     "cell_type": "code",
     "collapsed": false,
     "input": [
      "find_text_eps_neighborhood(test_ptt_text_sdtm, [2500], 0.2, max_gropu_size=20)"
     ],
     "language": "python",
     "metadata": {},
     "outputs": [
      {
       "metadata": {},
       "output_type": "pyout",
       "prompt_number": 5,
       "text": [
        "array([ 4344,  7663,  8829, 17082])"
       ]
      }
     ],
     "prompt_number": 5
    },
    {
     "cell_type": "code",
     "collapsed": false,
     "input": [
      "find_text_eps_neighborhood(test_ptt_text_sdtm, [2500], 0.1, max_gropu_size=20)"
     ],
     "language": "python",
     "metadata": {},
     "outputs": [
      {
       "metadata": {},
       "output_type": "pyout",
       "prompt_number": 6,
       "text": [
        "array([ 2500,  4344,  7273,  7663,  8829, 11387, 17082, 22768])"
       ]
      }
     ],
     "prompt_number": 6
    },
    {
     "cell_type": "code",
     "collapsed": false,
     "input": [
      "find_text_eps_neighborhood(test_ptt_text_sdtm, [2500], 0.09, max_gropu_size=20)"
     ],
     "language": "python",
     "metadata": {},
     "outputs": [
      {
       "metadata": {},
       "output_type": "pyout",
       "prompt_number": 7,
       "text": [
        "array([ 2500,  3502,  4074,  4344,  6827,  7273,  7663,  8829,  9522,\n",
        "       11387, 11887, 11905, 12798, 15129, 16595, 17082, 17235, 17403,\n",
        "       21731, 21906, 22768])"
       ]
      }
     ],
     "prompt_number": 7
    },
    {
     "cell_type": "code",
     "collapsed": false,
     "input": [
      "find_text_eps_neighborhood(test_ptt_text_sdtm, [2500], 0.08, max_gropu_size=20)"
     ],
     "language": "python",
     "metadata": {},
     "outputs": [
      {
       "metadata": {},
       "output_type": "pyout",
       "prompt_number": 8,
       "text": [
        "array([  139,   161,   476,  2500,  3502,  4015,  4074,  4344,  4614,\n",
        "        4616,  4623,  4624,  4625,  4659,  4855,  4878,  4974,  5351,\n",
        "        5639,  6052,  6053,  6064,  6827,  6917,  7142,  7273,  7663,\n",
        "        7810,  7864,  8013,  8078,  8115,  8531,  8643,  8785,  8829,\n",
        "        9168,  9215,  9224,  9243,  9355,  9406,  9449,  9522,  9699,\n",
        "       10219, 10256, 10587, 10843, 10849, 11351, 11387, 11881, 11887,\n",
        "       11905, 12030, 12044, 12066, 12279, 12293, 12436, 12465, 12760,\n",
        "       12798, 13571, 13664, 13864, 14151, 14326, 14356, 14691, 14718,\n",
        "       15129, 15428, 16101, 16595, 16604, 16886, 17082, 17235, 17401,\n",
        "       17403, 17520, 17543, 18105, 19043, 19340, 19920, 19953, 19956,\n",
        "       20523, 21302, 21645, 21731, 21906, 21922, 22046, 22116, 22425,\n",
        "       22677, 22768, 23637, 23871, 23884, 23900, 25868])"
       ]
      }
     ],
     "prompt_number": 8
    },
    {
     "cell_type": "code",
     "collapsed": false,
     "input": [
      "articles_df.ix[find_text_eps_neighborhood(test_ptt_text_sdtm, [2500], 0.1, max_gropu_size=20)][\"title\"]"
     ],
     "language": "python",
     "metadata": {},
     "outputs": [
      {
       "metadata": {},
       "output_type": "pyout",
       "prompt_number": 9,
       "text": [
        "2500     [\u8a0e\u8ad6] \u5728\u4e0b\u63a8\u85a6\u7684\u674e\u9023\u6770\u6f14\u51fa\u7684\u7d93\u5178\u597d\u7247(\u6709\u96f7)\n",
        "4344     [\u5fb5\u6587] \u674e\u9023\u6770\u7684\u529f\u592b\u559c\u5287\u7d93\u5178\u300a\u529f\u592b\u7687\u5e1d\u65b9\u4e16\u7389\u300b\n",
        "7273                 [\u65b0\u805e] \u5708\u5167\u4eba\u597d\u7247\u63a8\u85a6\n",
        "7663        [\u65b0\u805e] \u674e\u9023\u6770\u3001\u6587\u7ae0 \u300c\u4e0d\u4e8c\u795e\u63a2\u300d\u6f14\u559c\u5287\n",
        "8829      [\u60c5\u5831]\u674e\u9023\u6770\u300c\u4e0d\u4e8c\u795e\u63a2\u300d\u5c55\u8eab\u624b \u6b63\u5f0f\u6d77\u5831\u51fa\u7210\n",
        "11387      [\u8a0e\u8ad6] \u8acb\u5e6b\u6211\u63a8\u85a6catchpalay\u597d\u7247\n",
        "17082        [\u65b0\u805e] \u674e\u9023\u6770\u6b78\u968a \u518d\u6311\u300c\u6d74\u8840\u4efb\u52d93\u300d\n",
        "22768     [\u65b0\u805e]\u51f1\u7279\u5e03\u862d\u742a\u6f14\u51fa\u8d85\u8d8a\u7d93\u5178\u5f35\u921e\u752f\u8d77\u96de\u76ae\u7599\u7629\n",
        "Name: title, dtype: object"
       ]
      }
     ],
     "prompt_number": 9
    },
    {
     "cell_type": "code",
     "collapsed": false,
     "input": [],
     "language": "python",
     "metadata": {},
     "outputs": [],
     "prompt_number": 9
    },
    {
     "cell_type": "code",
     "collapsed": false,
     "input": [],
     "language": "python",
     "metadata": {},
     "outputs": [],
     "prompt_number": 9
    },
    {
     "cell_type": "markdown",
     "metadata": {},
     "source": [
      "# Reference:\n",
      "\n",
      "- ## [dbscan](https://github.com/scikit-learn/scikit-learn/blob/master/sklearn/cluster/dbscan_.py)\n",
      "- ## [utils:check_random_state](https://github.com/scikit-learn/scikit-learn/blob/master/sklearn/utils/__init__.py)\n",
      "- ## [validation:check_random_state](https://github.com/scikit-learn/scikit-learn/blob/master/sklearn/utils/validation.py)"
     ]
    },
    {
     "cell_type": "code",
     "collapsed": false,
     "input": [
      "# from sklearn.utils import check_random_state"
     ],
     "language": "python",
     "metadata": {},
     "outputs": [],
     "prompt_number": 10
    },
    {
     "cell_type": "code",
     "collapsed": false,
     "input": [
      "# random_state=None\n",
      "\n",
      "# n = test_ptt_text_sdtm._smatrix.shape[0]\n",
      "# index_order = np.arange(n)\n",
      "# random_state = check_random_state(random_state)\n",
      "# random_state.shuffle(index_order)\n",
      "# print \"index_order = \",index_order\n"
     ],
     "language": "python",
     "metadata": {},
     "outputs": [],
     "prompt_number": 11
    },
    {
     "cell_type": "code",
     "collapsed": false,
     "input": [
      "# neighborhoods = []\n",
      "# labels = -np.ones(n, dtype=np.int)\n",
      "\n",
      "# # A list of all core samples found.\n",
      "# core_samples = []\n",
      "\n",
      "# # label_num is the label given to the new cluster\n",
      "# label_num = 0"
     ],
     "language": "python",
     "metadata": {},
     "outputs": [],
     "prompt_number": 12
    },
    {
     "cell_type": "code",
     "collapsed": false,
     "input": [
      "# labels[305] = 1"
     ],
     "language": "python",
     "metadata": {},
     "outputs": [],
     "prompt_number": 13
    },
    {
     "cell_type": "code",
     "collapsed": false,
     "input": [
      "# for index in index_order[:100]:\n",
      "#     print \"~~~~~~~~~~~~~\"\n",
      "#     print \"index = \",index\n",
      "#     # Already classified\n",
      "#     if labels[index] != -1:\n",
      "#         print \"labels[index] = \",labels[index]\n",
      "#         continue"
     ],
     "language": "python",
     "metadata": {},
     "outputs": [],
     "prompt_number": 14
    },
    {
     "cell_type": "code",
     "collapsed": false,
     "input": [],
     "language": "python",
     "metadata": {},
     "outputs": [],
     "prompt_number": 14
    },
    {
     "cell_type": "code",
     "collapsed": false,
     "input": [],
     "language": "python",
     "metadata": {},
     "outputs": [],
     "prompt_number": 14
    }
   ],
   "metadata": {}
  }
 ]
}