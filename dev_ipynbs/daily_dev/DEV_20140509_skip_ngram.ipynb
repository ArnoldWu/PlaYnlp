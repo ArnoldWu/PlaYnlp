{
 "metadata": {
  "name": "",
  "signature": "sha256:528607c0b394071a884973675a127b4589e523de243315c4d95dc83256cebc62"
 },
 "nbformat": 3,
 "nbformat_minor": 0,
 "worksheets": [
  {
   "cells": [
    {
     "cell_type": "code",
     "collapsed": false,
     "input": [
      "def ngram(text, n , filter_list=[]):\n",
      "    if isinstance(n, int):\n",
      "        for k in range(len(text) - n + 1):\n",
      "            if not(text[k:k + n] in filter_list):\n",
      "                yield text[k:k + n]\n",
      "\n"
     ],
     "language": "python",
     "metadata": {},
     "outputs": [],
     "prompt_number": 1
    },
    {
     "cell_type": "code",
     "collapsed": false,
     "input": [
      "print \"// \".join(list(ngram(u\"abc \u4eca\u5929\u5929\u6c23\u5f88\u597d\",n=2)))"
     ],
     "language": "python",
     "metadata": {},
     "outputs": [
      {
       "output_type": "stream",
       "stream": "stdout",
       "text": [
        "ab// bc// c //  \u4eca// \u4eca\u5929// \u5929\u5929// \u5929\u6c23// \u6c23\u5f88// \u5f88\u597d\n"
       ]
      }
     ],
     "prompt_number": 6
    },
    {
     "cell_type": "code",
     "collapsed": false,
     "input": [
      "test_text = u\"abc \u4eca\u5929\u5929\u6c23\u5f88\u597d \u4eca\u5929\u5929\u6c23\u5f88\u721b \u4f60\u597d\u55ce \u6211\u5f88\u597d bcde 123125 fsdf12412\""
     ],
     "language": "python",
     "metadata": {},
     "outputs": [],
     "prompt_number": 133
    },
    {
     "cell_type": "code",
     "collapsed": false,
     "input": [
      "sep_text = test_text.split(\" \")\n",
      "sep_text"
     ],
     "language": "python",
     "metadata": {},
     "outputs": [
      {
       "metadata": {},
       "output_type": "pyout",
       "prompt_number": 134,
       "text": [
        "[u'abc',\n",
        " u'\\u4eca\\u5929\\u5929\\u6c23\\u5f88\\u597d',\n",
        " u'\\u4eca\\u5929\\u5929\\u6c23\\u5f88\\u721b',\n",
        " u'\\u4f60\\u597d\\u55ce',\n",
        " u'\\u6211\\u5f88\\u597d',\n",
        " u'bcde',\n",
        " u'123125',\n",
        " u'fsdf12412']"
       ]
      }
     ],
     "prompt_number": 134
    },
    {
     "cell_type": "code",
     "collapsed": false,
     "input": [
      "\n",
      "import re\n",
      "\n",
      "n=2\n",
      "sep=\" \"\n",
      "skip_pattern = r\"[A-Za-z0-9]+\"\n",
      "\n",
      "def skipped_ngram(text, n, sep=\" \", skip_pattern = r\"[A-Za-z0-9]+\"):\n",
      "    sep_text = test_text.split(sep)\n",
      "    for one_text in sep_text:\n",
      "        if len(one_text)>0:\n",
      "            check_skip_pattern = re.match(skip_pattern,one_text)\n",
      "            if check_skip_pattern == None:\n",
      "                for yy in ngram(one_text,n):\n",
      "                    yield yy\n",
      "            else:\n",
      "                yield one_text\n",
      "\n",
      "    \n",
      "    "
     ],
     "language": "python",
     "metadata": {},
     "outputs": [],
     "prompt_number": 135
    },
    {
     "cell_type": "code",
     "collapsed": false,
     "input": [
      "print \"// \".join(list(skip_ngram(test_text,n=2)))"
     ],
     "language": "python",
     "metadata": {},
     "outputs": [
      {
       "output_type": "stream",
       "stream": "stdout",
       "text": [
        "abc// \u4eca\u5929// \u5929\u5929// \u5929\u6c23// \u6c23\u5f88// \u5f88\u597d// \u4eca\u5929// \u5929\u5929// \u5929\u6c23// \u6c23\u5f88// \u5f88\u721b// \u4f60\u597d// \u597d\u55ce// \u6211\u5f88// \u5f88\u597d// bcde// 123125// fsdf12412\n"
       ]
      }
     ],
     "prompt_number": 136
    },
    {
     "cell_type": "code",
     "collapsed": false,
     "input": [
      "re_check = re.match(r\"[A-Za-z0-9]+\",one_text)\n",
      "if re_check==None:\n",
      "    one_text_ngram = list(ngram(one_text,n))\n",
      "    \n",
      "        \n",
      "    "
     ],
     "language": "python",
     "metadata": {},
     "outputs": [],
     "prompt_number": 137
    },
    {
     "cell_type": "code",
     "collapsed": false,
     "input": [
      "one_text_ngram"
     ],
     "language": "python",
     "metadata": {},
     "outputs": [
      {
       "metadata": {},
       "output_type": "pyout",
       "prompt_number": 138,
       "text": [
        "[u'\\u4eca\\u5929',\n",
        " u'\\u5929\\u5929',\n",
        " u'\\u5929\\u6c23',\n",
        " u'\\u6c23\\u5f88',\n",
        " u'\\u5f88\\u597d']"
       ]
      }
     ],
     "prompt_number": 138
    },
    {
     "cell_type": "code",
     "collapsed": false,
     "input": [
      "tt = re.match(r\"[A-Za-z0-9]+\",test_text)"
     ],
     "language": "python",
     "metadata": {},
     "outputs": [],
     "prompt_number": 139
    },
    {
     "cell_type": "code",
     "collapsed": false,
     "input": [
      "tt.groups()"
     ],
     "language": "python",
     "metadata": {},
     "outputs": [
      {
       "metadata": {},
       "output_type": "pyout",
       "prompt_number": 140,
       "text": [
        "()"
       ]
      }
     ],
     "prompt_number": 140
    },
    {
     "cell_type": "code",
     "collapsed": false,
     "input": [
      "test_text"
     ],
     "language": "python",
     "metadata": {},
     "outputs": [
      {
       "metadata": {},
       "output_type": "pyout",
       "prompt_number": 141,
       "text": [
        "u'abc \\u4eca\\u5929\\u5929\\u6c23\\u5f88\\u597d \\u4eca\\u5929\\u5929\\u6c23\\u5f88\\u721b \\u4f60\\u597d\\u55ce \\u6211\\u5f88\\u597d bcde 123125 fsdf12412'"
       ]
      }
     ],
     "prompt_number": 141
    },
    {
     "cell_type": "code",
     "collapsed": false,
     "input": [
      "re_pat = re.compile(r\"[A-Za-z0-9]+\")"
     ],
     "language": "python",
     "metadata": {},
     "outputs": [],
     "prompt_number": 142
    },
    {
     "cell_type": "code",
     "collapsed": false,
     "input": [
      "ttt = re_pat.split(test_text)"
     ],
     "language": "python",
     "metadata": {},
     "outputs": [],
     "prompt_number": 143
    },
    {
     "cell_type": "code",
     "collapsed": false,
     "input": [
      "ttt"
     ],
     "language": "python",
     "metadata": {},
     "outputs": [
      {
       "metadata": {},
       "output_type": "pyout",
       "prompt_number": 144,
       "text": [
        "[u'',\n",
        " u' \\u4eca\\u5929\\u5929\\u6c23\\u5f88\\u597d \\u4eca\\u5929\\u5929\\u6c23\\u5f88\\u721b \\u4f60\\u597d\\u55ce \\u6211\\u5f88\\u597d ',\n",
        " u' ',\n",
        " u' ',\n",
        " u'']"
       ]
      }
     ],
     "prompt_number": 144
    },
    {
     "cell_type": "code",
     "collapsed": false,
     "input": [
      "tt = re.finditer(r\"[A-Za-z0-9]+\",test_text)\n"
     ],
     "language": "python",
     "metadata": {},
     "outputs": [],
     "prompt_number": 145
    },
    {
     "cell_type": "code",
     "collapsed": false,
     "input": [
      "ttt = list(tt)"
     ],
     "language": "python",
     "metadata": {},
     "outputs": [],
     "prompt_number": 146
    },
    {
     "cell_type": "code",
     "collapsed": false,
     "input": [
      "tttt = ttt[0]"
     ],
     "language": "python",
     "metadata": {},
     "outputs": [],
     "prompt_number": 147
    },
    {
     "cell_type": "code",
     "collapsed": false,
     "input": [
      "test_text[tttt.start():tttt.end()]"
     ],
     "language": "python",
     "metadata": {},
     "outputs": [
      {
       "metadata": {},
       "output_type": "pyout",
       "prompt_number": 148,
       "text": [
        "u'abc'"
       ]
      }
     ],
     "prompt_number": 148
    },
    {
     "cell_type": "code",
     "collapsed": false,
     "input": [],
     "language": "python",
     "metadata": {},
     "outputs": [],
     "prompt_number": 148
    },
    {
     "cell_type": "code",
     "collapsed": false,
     "input": [],
     "language": "python",
     "metadata": {},
     "outputs": []
    },
    {
     "cell_type": "code",
     "collapsed": false,
     "input": [
      "tt = re.finditer(r\"[A-Za-z0-9]+\",u\"\u4eca\u5929\u5929\u6c23\u5f88\u597d \u4eca\u5929\u5929\u6c23\u5f88\u721b \u4f60\u597d\u55ce \u6211\u5f88\u597d\")"
     ],
     "language": "python",
     "metadata": {},
     "outputs": [],
     "prompt_number": 131
    },
    {
     "cell_type": "code",
     "collapsed": false,
     "input": [
      "list(tt)"
     ],
     "language": "python",
     "metadata": {},
     "outputs": [
      {
       "metadata": {},
       "output_type": "pyout",
       "prompt_number": 132,
       "text": [
        "[]"
       ]
      }
     ],
     "prompt_number": 132
    },
    {
     "cell_type": "code",
     "collapsed": false,
     "input": [],
     "language": "python",
     "metadata": {},
     "outputs": []
    },
    {
     "cell_type": "code",
     "collapsed": false,
     "input": [
      "import PlaYnlp.tokenizer as tkr"
     ],
     "language": "python",
     "metadata": {},
     "outputs": [],
     "prompt_number": 1
    },
    {
     "cell_type": "code",
     "collapsed": false,
     "input": [
      "test_text = u\"abc \u4eca\u5929\u5929\u6c23\u5f88\u597d \u4eca\u5929\u5929\u6c23\u5f88\u721b \u4f60\u597d\u55ce \u6211\u5f88\u597d bcde 123125 fsdf12412\""
     ],
     "language": "python",
     "metadata": {},
     "outputs": [],
     "prompt_number": 2
    },
    {
     "cell_type": "code",
     "collapsed": false,
     "input": [
      "print \"// \".join(list(tkr.skipped_ngram(test_text,n=2)))"
     ],
     "language": "python",
     "metadata": {},
     "outputs": [
      {
       "output_type": "stream",
       "stream": "stdout",
       "text": [
        "abc// \u4eca\u5929// \u5929\u5929// \u5929\u6c23// \u6c23\u5f88// \u5f88\u597d// \u4eca\u5929// \u5929\u5929// \u5929\u6c23// \u6c23\u5f88// \u5f88\u721b// \u4f60\u597d// \u597d\u55ce// \u6211\u5f88// \u5f88\u597d// bcde// 123125// fsdf12412\n"
       ]
      }
     ],
     "prompt_number": 5
    },
    {
     "cell_type": "code",
     "collapsed": false,
     "input": [
      "print \"// \".join(list(tkr.skipped_ngram(test_text,n=[2,3])))"
     ],
     "language": "python",
     "metadata": {},
     "outputs": [
      {
       "output_type": "stream",
       "stream": "stdout",
       "text": [
        "abc// \u4eca\u5929// \u5929\u5929// \u5929\u6c23// \u6c23\u5f88// \u5f88\u597d// \u4eca\u5929\u5929// \u5929\u5929\u6c23// \u5929\u6c23\u5f88// \u6c23\u5f88\u597d// \u4eca\u5929// \u5929\u5929// \u5929\u6c23// \u6c23\u5f88// \u5f88\u721b// \u4eca\u5929\u5929// \u5929\u5929\u6c23// \u5929\u6c23\u5f88// \u6c23\u5f88\u721b// \u4f60\u597d// \u597d\u55ce// \u4f60\u597d\u55ce// \u6211\u5f88// \u5f88\u597d// \u6211\u5f88\u597d// bcde// 123125// fsdf12412\n"
       ]
      }
     ],
     "prompt_number": 8
    },
    {
     "cell_type": "code",
     "collapsed": false,
     "input": [],
     "language": "python",
     "metadata": {},
     "outputs": []
    }
   ],
   "metadata": {}
  }
 ]
}