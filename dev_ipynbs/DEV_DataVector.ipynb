{
 "metadata": {
  "name": "",
  "signature": "sha256:55fd5c42cc7633e4007c02df834151b08ac55c06e465bbc8a4333dcc8fc1daa1"
 },
 "nbformat": 3,
 "nbformat_minor": 0,
 "worksheets": [
  {
   "cells": [
    {
     "cell_type": "code",
     "collapsed": false,
     "input": [
      "import PlaYnlp.tokenizer as tkr \n",
      "import PlaYnlp.vectorizer as vcr\n",
      "from PlaYnlp import dataio\n",
      "\n",
      "from PlaYnlp.sparse import L0_norm_col_summarizer as L0_col_sum\n",
      "from PlaYnlp.sparse import L1_norm_col_summarizer as L1_col_sum\n",
      "import numpy as np\n",
      "import scipy as sp"
     ],
     "language": "python",
     "metadata": {},
     "outputs": [],
     "prompt_number": 17
    },
    {
     "cell_type": "code",
     "collapsed": false,
     "input": [
      "jieba_without_html_tokenizer = tkr.tokenize_gen(lambda text:tkr.jieba.cut(tkr.nltk.clean_html(text)))\n",
      "unigram_without_html_tokenizer = tkr.tokenize_gen(lambda text:tkr.ngram(tkr.nltk.clean_html(text),n=1))\n",
      "bigram_without_html_tokenizer = tkr.tokenize_gen(lambda text:tkr.ngram(tkr.nltk.clean_html(text),n=2))\n",
      "jieba_vec_count_kwargs = {\"tokenizer\":jieba_without_html_tokenizer,\"lowercase\":False}\n",
      "unigram_vec_count_kwargs = {\"tokenizer\":unigram_without_html_tokenizer,\"lowercase\":False}\n",
      "bigram_vec_count_kwargs = {\"tokenizer\":bigram_without_html_tokenizer,\"lowercase\":False}"
     ],
     "language": "python",
     "metadata": {},
     "outputs": [],
     "prompt_number": 18
    },
    {
     "cell_type": "code",
     "collapsed": false,
     "input": [
      "import pandas as pd \n",
      "test_text_df = pd.DataFrame([u\"\u4eca\u5929\u5929\u6c23\u5f88\u597d\",u\"\u4eca\u5929\u5929\u6c23\u5f88\u721b\",u\"\u6211\u6068\u5b83\",u\"\u5b83\u6068\u6211\",u\"\u6211\u611b\u5b83\",u\"\u5b83\u611b\u6211\",u\"\u4eca\u5929\u5f88\u8870\",\"\u65e5\u5b50\u4e00\u5929\u4e00\u5929\u904e\",\"\u5929\u5929\u5237\u7259\u6d17\u81c9\"])\n",
      "test_text_df.columns = [\"text\"]\n",
      "test_text_df = test_text_df.reset_index()\n",
      "test_text_df"
     ],
     "language": "python",
     "metadata": {},
     "outputs": [
      {
       "html": [
        "<div style=\"max-height:1000px;max-width:1500px;overflow:auto;\">\n",
        "<table border=\"1\" class=\"dataframe\">\n",
        "  <thead>\n",
        "    <tr style=\"text-align: right;\">\n",
        "      <th></th>\n",
        "      <th>index</th>\n",
        "      <th>text</th>\n",
        "    </tr>\n",
        "  </thead>\n",
        "  <tbody>\n",
        "    <tr>\n",
        "      <th>0</th>\n",
        "      <td> 0</td>\n",
        "      <td>  \u4eca\u5929\u5929\u6c23\u5f88\u597d</td>\n",
        "    </tr>\n",
        "    <tr>\n",
        "      <th>1</th>\n",
        "      <td> 1</td>\n",
        "      <td>  \u4eca\u5929\u5929\u6c23\u5f88\u721b</td>\n",
        "    </tr>\n",
        "    <tr>\n",
        "      <th>2</th>\n",
        "      <td> 2</td>\n",
        "      <td>     \u6211\u6068\u5b83</td>\n",
        "    </tr>\n",
        "    <tr>\n",
        "      <th>3</th>\n",
        "      <td> 3</td>\n",
        "      <td>     \u5b83\u6068\u6211</td>\n",
        "    </tr>\n",
        "    <tr>\n",
        "      <th>4</th>\n",
        "      <td> 4</td>\n",
        "      <td>     \u6211\u611b\u5b83</td>\n",
        "    </tr>\n",
        "    <tr>\n",
        "      <th>5</th>\n",
        "      <td> 5</td>\n",
        "      <td>     \u5b83\u611b\u6211</td>\n",
        "    </tr>\n",
        "    <tr>\n",
        "      <th>6</th>\n",
        "      <td> 6</td>\n",
        "      <td>    \u4eca\u5929\u5f88\u8870</td>\n",
        "    </tr>\n",
        "    <tr>\n",
        "      <th>7</th>\n",
        "      <td> 7</td>\n",
        "      <td> \u65e5\u5b50\u4e00\u5929\u4e00\u5929\u904e</td>\n",
        "    </tr>\n",
        "    <tr>\n",
        "      <th>8</th>\n",
        "      <td> 8</td>\n",
        "      <td>  \u5929\u5929\u5237\u7259\u6d17\u81c9</td>\n",
        "    </tr>\n",
        "  </tbody>\n",
        "</table>\n",
        "<p>9 rows \u00d7 2 columns</p>\n",
        "</div>"
       ],
       "metadata": {},
       "output_type": "pyout",
       "prompt_number": 19,
       "text": [
        "   index     text\n",
        "0      0   \u4eca\u5929\u5929\u6c23\u5f88\u597d\n",
        "1      1   \u4eca\u5929\u5929\u6c23\u5f88\u721b\n",
        "2      2      \u6211\u6068\u5b83\n",
        "3      3      \u5b83\u6068\u6211\n",
        "4      4      \u6211\u611b\u5b83\n",
        "5      5      \u5b83\u611b\u6211\n",
        "6      6     \u4eca\u5929\u5f88\u8870\n",
        "7      7  \u65e5\u5b50\u4e00\u5929\u4e00\u5929\u904e\n",
        "8      8   \u5929\u5929\u5237\u7259\u6d17\u81c9\n",
        "\n",
        "[9 rows x 2 columns]"
       ]
      }
     ],
     "prompt_number": 19
    },
    {
     "cell_type": "code",
     "collapsed": false,
     "input": [
      "test_jieba_sdtm = vcr.vectorize_text(df=test_text_df,\n",
      "                                     text_col=\"text\", \n",
      "                                     idx_col=\"index\", \n",
      "                                     cond_query={},\n",
      "                                     idx_query= [],\n",
      "                                     vect_gen=vcr.CountVectorizer, \n",
      "                                     vect_gen_init_kwargs = unigram_vec_count_kwargs)"
     ],
     "language": "python",
     "metadata": {},
     "outputs": [],
     "prompt_number": 20
    },
    {
     "cell_type": "code",
     "collapsed": false,
     "input": [],
     "language": "python",
     "metadata": {},
     "outputs": []
    },
    {
     "cell_type": "code",
     "collapsed": false,
     "input": [],
     "language": "python",
     "metadata": {},
     "outputs": []
    },
    {
     "cell_type": "code",
     "collapsed": false,
     "input": [],
     "language": "python",
     "metadata": {},
     "outputs": []
    },
    {
     "cell_type": "code",
     "collapsed": false,
     "input": [],
     "language": "python",
     "metadata": {},
     "outputs": []
    },
    {
     "cell_type": "code",
     "collapsed": false,
     "input": [
      "import numpy as np"
     ],
     "language": "python",
     "metadata": {},
     "outputs": [],
     "prompt_number": 3
    },
    {
     "cell_type": "code",
     "collapsed": false,
     "input": [
      "\n",
      "class StatesDictionary(np.ndarray):\n",
      "    def __new__(cls, data, dtype=None):\n",
      "        if isinstance(data, cls):\n",
      "            return data\n",
      "        else:\n",
      "            states_dict = np.array(data, dtype=dtype).view(cls)\n",
      "            states_dict._referred_by = []\n",
      "            return states_dict\n",
      "\n",
      "        \n",
      "def merge_states_dictionaries(sdict1, sdict2):\n",
      "    assert isinstance(sdict1, StatesDictionary)\n",
      "    assert isinstance(sdict2, StatesDictionary)\n",
      "    union_dict, union_dict_idx = np.unique(np.r_[sdict1, sdict2], return_inverse=True)   \n",
      "    inv_sdict1_idx = union_dict_idx[:sdict1.shape[0]]\n",
      "    inv_sdict2_idx = union_dict_idx[sdict1.shape[0]:]\n",
      "    \n",
      "    #print \"union_dict_idx = \",union_dict_idx\n",
      "    #print \"inv_sdict1_idx = \",inv_sdict1_idx\n",
      "    #print \"inv_sdict2_idx = \",inv_sdict2_idx\n",
      "    return {\"union_dict\":StatesDictionary(union_dict),\n",
      "            \"inv_sdict1_idx_dict\":StatesDictionary(inv_sdict1_idx),\n",
      "            \"inv_sdict2_idx_dict\":StatesDictionary(inv_sdict2_idx)}\n",
      "    \n",
      "    \n",
      "def sync_ptr_vec_states_dict(ptr_vec1, ptr_vec2):\n",
      "        merge_sdict = merge_states_dictionaries(ptr_vec1._states_dict, ptr_vec2._states_dict)\n",
      "        \n",
      "        new_ptr_vec1 = PtrVector(data = ptr_vec1._eval_ptrs(states_dict = merge_sdict[\"inv_sdict1_idx_dict\"]),\n",
      "                                 states_dict = merge_sdict[\"union_dict\"])\n",
      "        \n",
      "        new_ptr_vec2 = PtrVector(data = ptr_vec2._eval_ptrs(states_dict = merge_sdict[\"inv_sdict2_idx_dict\"]),\n",
      "                                 states_dict = merge_sdict[\"union_dict\"])\n",
      "        \n",
      "        return new_ptr_vec1, new_ptr_vec2\n",
      "        \n",
      "    \n",
      "    \n",
      "        \n",
      "class DataVector(np.ndarray):\n",
      "    def __new__(cls, data, dtype=None):        \n",
      "        if isinstance(data, cls):\n",
      "            return data\n",
      "        else:\n",
      "            data_vec = np.array(data, dtype=dtype).view(cls)\n",
      "            return data_vec\n",
      "    \n",
      "    \n",
      "        \n",
      "        \n",
      "class PtrVector(np.ndarray):\n",
      "    def __new__(cls, data, dtype=None, states_dict=None):\n",
      "        if isinstance(data, cls):\n",
      "            return data\n",
      "        else:\n",
      "            data_vec = np.array(data, dtype=dtype)\n",
      "            #print \"data_vec = \",data_vec\n",
      "            \n",
      "            if isinstance(states_dict, StatesDictionary):\n",
      "                kvd_vec = data_vec.view(cls)            \n",
      "                kvd_vec._states_dict = states_dict\n",
      "                return kvd_vec                \n",
      "            else:\n",
      "                uni_values, idx_vec = np.unique(data_vec, return_inverse=True)\n",
      "                idx_vec = idx_vec.reshape(data_vec.shape)\n",
      "                #print \"idx_vec = \",idx_vec\n",
      "                kvd_vec = idx_vec.view(cls)\n",
      "                kvd_vec._states_dict = uni_values.view(StatesDictionary)\n",
      "                return kvd_vec\n",
      "                \n",
      "\n",
      "        \n",
      "    def _eval_ptrs(self, states_dict=None):\n",
      "        if states_dict==None:\n",
      "            return self._states_dict[self]\n",
      "        else:\n",
      "            return states_dict[self]\n",
      "    \n",
      "    def _map_ptrs(self, ptr_map, new_sdict):\n",
      "        self = self._eval_ptrs(states_dict = ptr_map).view(type(self))\n",
      "        print self\n",
      "        self._states_dict = new_sdict\n",
      "        \n",
      "    \n",
      "    def _sync_states_dict(self, ptr_vec):\n",
      "        merge_sdict = merge_states_dictionaries(self._states_dict, ptr_vec._states_dict)\n",
      "        \n",
      "        self._map_ptrs(ptr_map =merge_sdict[\"inv_sdict1_idx_dict\"],\n",
      "                       new_sdict = merge_sdict[\"union_dict\"])\n",
      "        \n",
      "        ptr_vec._map_ptrs(ptr_map =merge_sdict[\"inv_sdict2_idx_dict\"],\n",
      "                          new_sdict = merge_sdict[\"union_dict\"])\n",
      "        \n",
      "            \n",
      "    \n",
      "    \n",
      "    "
     ],
     "language": "python",
     "metadata": {},
     "outputs": [],
     "prompt_number": 4
    },
    {
     "cell_type": "code",
     "collapsed": false,
     "input": [
      "\n",
      "class StatesDictionary(np.ndarray):\n",
      "    def __new__(cls, data, dtype=None):\n",
      "        if isinstance(data, cls):\n",
      "            return data\n",
      "        else:\n",
      "            states_dict = np.array(data, dtype=dtype).view(cls)\n",
      "            states_dict._referred_by = []\n",
      "            return states_dict\n",
      "    \n",
      "    def _replace_dict(self, replace_dict_data):\n",
      "        new_sdict = type(self)(replace_dict_data)\n",
      "        new_sdict._referred_by = self._referred_by\n",
      "        \n",
      "        for xx in new_sdict._referred_by:\n",
      "            xx._set_new_sdict_connection(new_sdict)\n",
      "        \n",
      "        return new_sdict\n",
      "    \n",
      "\n",
      "class DataVector(np.ndarray):\n",
      "    def __new__(cls, data, dtype=None):        \n",
      "        if isinstance(data, cls):\n",
      "            return data\n",
      "        else:\n",
      "            data_vec = np.array(data, dtype=dtype).view(cls)\n",
      "            return data_vec\n",
      "    \n",
      "    \n",
      "        \n",
      "        \n",
      "class PtrVector(np.ndarray):\n",
      "    def __new__(cls, data, dtype=None, states_dict=None):\n",
      "        if isinstance(data, cls):\n",
      "            return data\n",
      "        else:\n",
      "            data_vec = np.array(data, dtype=dtype)\n",
      "            #print \"data_vec = \",data_vec\n",
      "            \n",
      "            if isinstance(states_dict, StatesDictionary):\n",
      "                kvd_vec = data_vec.view(cls)            \n",
      "                kvd_vec._states_dict = states_dict\n",
      "                kvd_vec._states_dict._referred_by.append(kvd_vec)\n",
      "                return kvd_vec                \n",
      "            else:\n",
      "                uni_values, idx_vec = np.unique(data_vec, return_inverse=True)\n",
      "                idx_vec = idx_vec.reshape(data_vec.shape)\n",
      "                #print \"idx_vec = \",idx_vec\n",
      "                kvd_vec = idx_vec.view(cls)\n",
      "                kvd_vec._states_dict = StatesDictionary(data = uni_values, dtype = uni_values.dtype)\n",
      "                kvd_vec._states_dict._referred_by.append(kvd_vec)\n",
      "                return kvd_vec\n",
      "    \n",
      "    def _remove_sdict_connection(self):\n",
      "        self._states_dict._referred_by.remove(self)\n",
      "    \n",
      "    \n",
      "    def _set_new_sdict_connection(self, new_sdict):\n",
      "        assert isinstance(new_sdict, StatesDictionary)\n",
      "        self._remove_sdict_connection()\n",
      "        self._states_dict = new_sdict\n",
      "        self._states_dict._referred_by.append(self)\n",
      "    \n",
      "    \n",
      "    def _eval_ptrs(self, states_dict=None):\n",
      "        if states_dict==None:\n",
      "            return self._states_dict[self].view(DataVector)\n",
      "        else:\n",
      "            return states_dict[self]\n",
      "        \n",
      "    \n",
      "    \n",
      "                "
     ],
     "language": "python",
     "metadata": {},
     "outputs": [],
     "prompt_number": 155
    },
    {
     "cell_type": "code",
     "collapsed": false,
     "input": [
      "ptr_vec = PtrVector(list(tkr.ngram(test_text_df[\"text\"].values[0],2)))\n",
      "print id(ptr_vec)\n",
      "print id(ptr_vec._states_dict._referred_by[0])"
     ],
     "language": "python",
     "metadata": {},
     "outputs": [
      {
       "output_type": "stream",
       "stream": "stdout",
       "text": [
        "37992880\n",
        "37992880\n"
       ]
      }
     ],
     "prompt_number": 156
    },
    {
     "cell_type": "code",
     "collapsed": false,
     "input": [
      "ptr_vec1 = PtrVector(list(tkr.ngram(test_text_df[\"text\"].values[0],2)))\n",
      "ptr_vec2 = PtrVector(list(tkr.ngram(test_text_df[\"text\"].values[6],2)))\n"
     ],
     "language": "python",
     "metadata": {},
     "outputs": [],
     "prompt_number": 157
    },
    {
     "cell_type": "code",
     "collapsed": false,
     "input": [
      "print \"// \".join(ptr_vec1._states_dict)\n",
      "print \"// \".join(ptr_vec2._states_dict)"
     ],
     "language": "python",
     "metadata": {},
     "outputs": [
      {
       "output_type": "stream",
       "stream": "stdout",
       "text": [
        "\u4eca\u5929// \u5929\u5929// \u5929\u6c23// \u5f88\u597d// \u6c23\u5f88\n",
        "\u4eca\u5929// \u5929\u5f88// \u5f88\u8870\n"
       ]
      }
     ],
     "prompt_number": 158
    },
    {
     "cell_type": "code",
     "collapsed": false,
     "input": [
      "#ptr_vec2._remove_sdict_connection()\n",
      "#print ptr_vec2._states_dict._referred_by"
     ],
     "language": "python",
     "metadata": {},
     "outputs": [],
     "prompt_number": 159
    },
    {
     "cell_type": "code",
     "collapsed": false,
     "input": [
      "ptr_vec1._eval_ptrs()"
     ],
     "language": "python",
     "metadata": {},
     "outputs": [
      {
       "metadata": {},
       "output_type": "pyout",
       "prompt_number": 160,
       "text": [
        "DataVector([u'\\u4eca\\u5929', u'\\u5929\\u5929', u'\\u5929\\u6c23', u'\\u6c23\\u5f88',\n",
        "       u'\\u5f88\\u597d'], \n",
        "      dtype='<U2')"
       ]
      }
     ],
     "prompt_number": 160
    },
    {
     "cell_type": "code",
     "collapsed": false,
     "input": [
      "ngram = lambda text, n, filter_list=[]: (text[k:k+n] for k in range(len(text)-n+1) if not(text[k:k+n] in filter_list))"
     ],
     "language": "python",
     "metadata": {},
     "outputs": [],
     "prompt_number": 161
    },
    {
     "cell_type": "code",
     "collapsed": false,
     "input": [
      "    \n",
      "    \n",
      "        "
     ],
     "language": "python",
     "metadata": {},
     "outputs": [],
     "prompt_number": 168
    },
    {
     "cell_type": "code",
     "collapsed": false,
     "input": [
      "print ngram(test_text_df[\"text\"].values[0],3)\n",
      "ptr_vec3 = PtrVector(list(ngram(test_text_df[\"text\"].values[0],[1,2])))\n",
      "print ptr_vec3\n",
      "print ptr_vec3._eval_ptrs()"
     ],
     "language": "python",
     "metadata": {},
     "outputs": [
      {
       "output_type": "stream",
       "stream": "stdout",
       "text": [
        "<generator object ngram at 0x4cc50a0>\n",
        "[0 2 2 8 6 5 1 3 4 9 7]\n",
        "[u'\\u4eca' u'\\u5929' u'\\u5929' u'\\u6c23' u'\\u5f88' u'\\u597d'\n",
        " u'\\u4eca\\u5929' u'\\u5929\\u5929' u'\\u5929\\u6c23' u'\\u6c23\\u5f88'\n",
        " u'\\u5f88\\u597d']\n"
       ]
      }
     ],
     "prompt_number": 170
    },
    {
     "cell_type": "code",
     "collapsed": false,
     "input": [],
     "language": "python",
     "metadata": {},
     "outputs": []
    },
    {
     "cell_type": "code",
     "collapsed": false,
     "input": [
      "test = range(1,6)\n",
      "test.reverse()"
     ],
     "language": "python",
     "metadata": {},
     "outputs": [],
     "prompt_number": 140
    },
    {
     "cell_type": "code",
     "collapsed": false,
     "input": [
      "#ptr_vec2._set_new_sdict_connection(test)"
     ],
     "language": "python",
     "metadata": {},
     "outputs": [],
     "prompt_number": 142
    },
    {
     "cell_type": "code",
     "collapsed": false,
     "input": [],
     "language": "python",
     "metadata": {},
     "outputs": []
    },
    {
     "cell_type": "code",
     "collapsed": false,
     "input": [
      "new_sdict = ptr_vec2._states_dict._replace_dict(test)"
     ],
     "language": "python",
     "metadata": {},
     "outputs": [],
     "prompt_number": 143
    },
    {
     "cell_type": "code",
     "collapsed": false,
     "input": [
      "new_sdict._referred_by[0]._eval_ptrs()"
     ],
     "language": "python",
     "metadata": {},
     "outputs": [
      {
       "metadata": {},
       "output_type": "pyout",
       "prompt_number": 151,
       "text": [
        "StatesDictionary([5, 4, 3, 2])"
       ]
      }
     ],
     "prompt_number": 151
    },
    {
     "cell_type": "code",
     "collapsed": false,
     "input": [
      "test"
     ],
     "language": "python",
     "metadata": {},
     "outputs": [
      {
       "metadata": {},
       "output_type": "pyout",
       "prompt_number": 148,
       "text": [
        "[5, 4, 3, 1]"
       ]
      }
     ],
     "prompt_number": 148
    },
    {
     "cell_type": "code",
     "collapsed": false,
     "input": [
      "new_sdict"
     ],
     "language": "python",
     "metadata": {},
     "outputs": [
      {
       "metadata": {},
       "output_type": "pyout",
       "prompt_number": 147,
       "text": [
        "StatesDictionary([5, 4, 3, 2, 1])"
       ]
      }
     ],
     "prompt_number": 147
    },
    {
     "cell_type": "code",
     "collapsed": false,
     "input": [
      "test.index(5)"
     ],
     "language": "python",
     "metadata": {},
     "outputs": [
      {
       "metadata": {},
       "output_type": "pyout",
       "prompt_number": 104,
       "text": [
        "0"
       ]
      }
     ],
     "prompt_number": 104
    },
    {
     "cell_type": "code",
     "collapsed": false,
     "input": [
      "test.remove(3)"
     ],
     "language": "python",
     "metadata": {},
     "outputs": [],
     "prompt_number": 108
    },
    {
     "cell_type": "code",
     "collapsed": false,
     "input": [
      "test"
     ],
     "language": "python",
     "metadata": {},
     "outputs": [
      {
       "metadata": {},
       "output_type": "pyout",
       "prompt_number": 109,
       "text": [
        "[5, 4, 2, 1]"
       ]
      }
     ],
     "prompt_number": 109
    },
    {
     "cell_type": "code",
     "collapsed": false,
     "input": [],
     "language": "python",
     "metadata": {},
     "outputs": []
    }
   ],
   "metadata": {}
  }
 ]
}