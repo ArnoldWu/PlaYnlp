{
 "metadata": {
  "name": "",
  "signature": "sha256:24cd600bee72495901f87e0c6836bd3404a0e29c27f733703ecc8b13971e9d62"
 },
 "nbformat": 3,
 "nbformat_minor": 0,
 "worksheets": [
  {
   "cells": [
    {
     "cell_type": "code",
     "collapsed": false,
     "input": [
      "import PlaYnlp.tokenizer as tkr \n",
      "import PlaYnlp.vectorizer as vcr\n",
      "from PlaYnlp import dataio\n",
      "import PlaYnlp.analysis.heuristics.text_clustering.weighted_features_methods as wfms\n",
      "\n",
      "from PlaYnlp.sparse import L0_norm_col_summarizer as L0_col_sum\n",
      "from PlaYnlp.sparse import L1_norm_col_summarizer as L1_col_sum\n",
      "import numpy as np\n",
      "import scipy as sp"
     ],
     "language": "python",
     "metadata": {},
     "outputs": [],
     "prompt_number": 60
    },
    {
     "cell_type": "code",
     "collapsed": false,
     "input": [],
     "language": "python",
     "metadata": {},
     "outputs": []
    },
    {
     "cell_type": "code",
     "collapsed": false,
     "input": [
      "jieba_without_html_tokenizer = tkr.tokenize_gen(lambda text:tkr.jieba.cut(tkr.nltk.clean_html(text)))\n",
      "unigram_without_html_tokenizer = tkr.tokenize_gen(lambda text:tkr.ngram(tkr.nltk.clean_html(text),n=1))\n",
      "bigram_without_html_tokenizer = tkr.tokenize_gen(lambda text:tkr.ngram(tkr.nltk.clean_html(text),n=2))\n",
      "jieba_vec_count_kwargs = {\"tokenizer\":jieba_without_html_tokenizer,\"lowercase\":False}\n",
      "unigram_vec_count_kwargs = {\"tokenizer\":unigram_without_html_tokenizer,\"lowercase\":False}\n",
      "bigram_vec_count_kwargs = {\"tokenizer\":bigram_without_html_tokenizer,\"lowercase\":False}"
     ],
     "language": "python",
     "metadata": {},
     "outputs": [],
     "prompt_number": 2
    },
    {
     "cell_type": "code",
     "collapsed": false,
     "input": [
      "articles_df,articles_push_df = dataio.read_pickle_file(\"PTT___movie.pickle\")\n",
      "test_ptt_text_sdtm = dataio.read_pickle_file(\"sdtm_ptt_movie.pickle\")"
     ],
     "language": "python",
     "metadata": {},
     "outputs": [],
     "prompt_number": 44
    },
    {
     "cell_type": "code",
     "collapsed": false,
     "input": [
      "articles_df.head()"
     ],
     "language": "python",
     "metadata": {},
     "outputs": [
      {
       "html": [
        "<div style=\"max-height:1000px;max-width:1500px;overflow:auto;\">\n",
        "<table border=\"1\" class=\"dataframe\">\n",
        "  <thead>\n",
        "    <tr style=\"text-align: right;\">\n",
        "      <th></th>\n",
        "      <th>Board</th>\n",
        "      <th>_id</th>\n",
        "      <th>text</th>\n",
        "      <th>time</th>\n",
        "      <th>title</th>\n",
        "      <th>url</th>\n",
        "      <th>user</th>\n",
        "      <th>user_id</th>\n",
        "      <th>user_nickname</th>\n",
        "    </tr>\n",
        "  </thead>\n",
        "  <tbody>\n",
        "    <tr>\n",
        "      <th>0</th>\n",
        "      <td> movie</td>\n",
        "      <td> 52f3dd8e74798d1630998356</td>\n",
        "      <td>   \\n\\n\u6545\u4e8b\u7684\u9023\u7d50\u5f88\u8584\u5f31\uff0c\u526a\u63a5\u6b65\u8abf\u7de9\u6162\uff0c\u662f\u4e00\u90e8\u6c92\u6709\u8868\u60c5\u7684\u96fb\u5f71\uff0c\\n\u4f46\u6211\u771f\u7684\u5f88\u611b\u90a3\u500b\u7f8e\u8853\u3002...</td>\n",
        "      <td>  \u4e2d\u592e\u60c5\u5831\u5c40 (Wed May 26 10:28:19 2004)</td>\n",
        "      <td>     \u770b\u5b8c\u300a\u5973\u795e\u9677\u9631\u300b\u7684\u788e\u788e\u5538..........</td>\n",
        "      <td>   http://www.ptt.cc/bbs/movie/M.1085596329.A.html</td>\n",
        "      <td> Comer.bbs@cia.hinet.net (SMILE!X_X),</td>\n",
        "      <td> Comer.bbs@cia.hinet.net</td>\n",
        "      <td> SMILE!X_X)</td>\n",
        "    </tr>\n",
        "    <tr>\n",
        "      <th>1</th>\n",
        "      <td> movie</td>\n",
        "      <td> 52f3dd9074798d30533cc6c5</td>\n",
        "      <td>   \\n[\u4e09\u90e8\u66f2\u4e4b\u9b25\u6cd5]\\n\u6b50\u6d32\u5f71\u58c7\u3001\u7372\u734e\u7121\u6578\\n\u88ab\u8b7d\u70ba\u7e7c\u5947\u58eb\u52de\u65af\u57fa\u300c\u85cd\u3001\u767d\u3001\u7d05\u300d\u4e4b\u5f8c\\n\u6700...</td>\n",
        "      <td>          Wed May 12 03:17:03 2004</td>\n",
        "      <td>                [\u5fc3\u5f97] \u4e09\u90e8\u66f2\u4e4b\u9b25\u6cd5</td>\n",
        "      <td> http://www.ptt.cc/bbs/movie/M.1084331792.A.C96...</td>\n",
        "      <td>                         cyrille (\u5c0f\u5049)</td>\n",
        "      <td>                 cyrille</td>\n",
        "      <td>         \u5c0f\u5049</td>\n",
        "    </tr>\n",
        "    <tr>\n",
        "      <th>2</th>\n",
        "      <td> movie</td>\n",
        "      <td> 52f3dd9374798d30583cc7fc</td>\n",
        "      <td>   \\n\u203b \u5f15\u8ff0\u300afruit.bbs@bbs.au.edu.tw (\u5927\u4e09\u4e0d\u52aa\u529b?\u7b49\u7576\u5175?\u8822)...</td>\n",
        "      <td> KKCITY (Sun Jan 11 22:29:04 2004)</td>\n",
        "      <td>             Re: \u6211\u53c8\u518d\u770b\u795e\u9b3c\u50b3\u59471\u4e86</td>\n",
        "      <td>   http://www.ptt.cc/bbs/movie/M.1073844095.A.html</td>\n",
        "      <td>             demona@kkcity.com.tw (),</td>\n",
        "      <td>    demona@kkcity.com.tw</td>\n",
        "      <td>          )</td>\n",
        "    </tr>\n",
        "    <tr>\n",
        "      <th>3</th>\n",
        "      <td> movie</td>\n",
        "      <td> 52f3dd9674798d30533cc6c6</td>\n",
        "      <td>   \\n\u56e0\u70ba\u525b\u770b\u5b8c\u7570\u578b\u6230\u5834\\n\u611f\u89ba\u61c9\u8a72\u6709\u5f88\u591a\u4eba\u4e0d\u77e5\u9053\u6700\u5f8c\u8a95\u751f\u7684\u90a3\u96bb\u662f\u4ec0\u9ebc\\n\u4e7e\u8106\u4f86\u4ecb\u7d39\u4e00\u4e0b\u7570...</td>\n",
        "      <td>          Sat Aug 28 23:16:49 2004</td>\n",
        "      <td>                   \u95dc\u65bc\u7570\u5f62\u7684\u5c0f\u5e38\u8b58</td>\n",
        "      <td> http://www.ptt.cc/bbs/movie/M.1093706165.A.6F6...</td>\n",
        "      <td>                            A1an (\u518d\u8aaa)</td>\n",
        "      <td>                    A1an</td>\n",
        "      <td>         \u518d\u8aaa</td>\n",
        "    </tr>\n",
        "    <tr>\n",
        "      <th>4</th>\n",
        "      <td> movie</td>\n",
        "      <td> 52f3dd9a74798d162c99863e</td>\n",
        "      <td>   \\nCarrie (1976\u5e74) \u6e2f\u8b6f\uff1a\u9b54\u5973\u5609\u9e97 / \u53f0\u8b6f\uff1a\u51f6\u9748\\n\u25c6 \u5c0e\u3000\u3000\u6f14\uff1a\u5e03\u840a\u6069...</td>\n",
        "      <td>          Sat Aug  7 18:37:43 2004</td>\n",
        "      <td> [\u5fc3\u5f97] Movie~\u9b54\u5973\u5609\u9e97--\u7121\u6cd5\u64fa\u812b\u7684\u6821\u5712\u60b2\u5287</td>\n",
        "      <td> http://www.ptt.cc/bbs/movie/M.1091874869.A.FA5...</td>\n",
        "      <td>                      bushman (weery)</td>\n",
        "      <td>                 bushman</td>\n",
        "      <td>      weery</td>\n",
        "    </tr>\n",
        "  </tbody>\n",
        "</table>\n",
        "<p>5 rows \u00d7 9 columns</p>\n",
        "</div>"
       ],
       "metadata": {},
       "output_type": "pyout",
       "prompt_number": 64,
       "text": [
        "   Board                       _id  \\\n",
        "0  movie  52f3dd8e74798d1630998356   \n",
        "1  movie  52f3dd9074798d30533cc6c5   \n",
        "2  movie  52f3dd9374798d30583cc7fc   \n",
        "3  movie  52f3dd9674798d30533cc6c6   \n",
        "4  movie  52f3dd9a74798d162c99863e   \n",
        "\n",
        "                                                text  \\\n",
        "0    \\n\\n\u6545\u4e8b\u7684\u9023\u7d50\u5f88\u8584\u5f31\uff0c\u526a\u63a5\u6b65\u8abf\u7de9\u6162\uff0c\u662f\u4e00\u90e8\u6c92\u6709\u8868\u60c5\u7684\u96fb\u5f71\uff0c\\n\u4f46\u6211\u771f\u7684\u5f88\u611b\u90a3\u500b\u7f8e\u8853\u3002...   \n",
        "1    \\n[\u4e09\u90e8\u66f2\u4e4b\u9b25\u6cd5]\\n\u6b50\u6d32\u5f71\u58c7\u3001\u7372\u734e\u7121\u6578\\n\u88ab\u8b7d\u70ba\u7e7c\u5947\u58eb\u52de\u65af\u57fa\u300c\u85cd\u3001\u767d\u3001\u7d05\u300d\u4e4b\u5f8c\\n\u6700...   \n",
        "2    \\n\u203b \u5f15\u8ff0\u300afruit.bbs@bbs.au.edu.tw (\u5927\u4e09\u4e0d\u52aa\u529b?\u7b49\u7576\u5175?\u8822)...   \n",
        "3    \\n\u56e0\u70ba\u525b\u770b\u5b8c\u7570\u578b\u6230\u5834\\n\u611f\u89ba\u61c9\u8a72\u6709\u5f88\u591a\u4eba\u4e0d\u77e5\u9053\u6700\u5f8c\u8a95\u751f\u7684\u90a3\u96bb\u662f\u4ec0\u9ebc\\n\u4e7e\u8106\u4f86\u4ecb\u7d39\u4e00\u4e0b\u7570...   \n",
        "4    \\nCarrie (1976\u5e74) \u6e2f\u8b6f\uff1a\u9b54\u5973\u5609\u9e97 / \u53f0\u8b6f\uff1a\u51f6\u9748\\n\u25c6 \u5c0e\u3000\u3000\u6f14\uff1a\u5e03\u840a\u6069...   \n",
        "\n",
        "                                time                       title  \\\n",
        "0   \u4e2d\u592e\u60c5\u5831\u5c40 (Wed May 26 10:28:19 2004)      \u770b\u5b8c\u300a\u5973\u795e\u9677\u9631\u300b\u7684\u788e\u788e\u5538..........   \n",
        "1           Wed May 12 03:17:03 2004                 [\u5fc3\u5f97] \u4e09\u90e8\u66f2\u4e4b\u9b25\u6cd5   \n",
        "2  KKCITY (Sun Jan 11 22:29:04 2004)              Re: \u6211\u53c8\u518d\u770b\u795e\u9b3c\u50b3\u59471\u4e86   \n",
        "3           Sat Aug 28 23:16:49 2004                    \u95dc\u65bc\u7570\u5f62\u7684\u5c0f\u5e38\u8b58   \n",
        "4           Sat Aug  7 18:37:43 2004  [\u5fc3\u5f97] Movie~\u9b54\u5973\u5609\u9e97--\u7121\u6cd5\u64fa\u812b\u7684\u6821\u5712\u60b2\u5287   \n",
        "\n",
        "                                                 url  \\\n",
        "0    http://www.ptt.cc/bbs/movie/M.1085596329.A.html   \n",
        "1  http://www.ptt.cc/bbs/movie/M.1084331792.A.C96...   \n",
        "2    http://www.ptt.cc/bbs/movie/M.1073844095.A.html   \n",
        "3  http://www.ptt.cc/bbs/movie/M.1093706165.A.6F6...   \n",
        "4  http://www.ptt.cc/bbs/movie/M.1091874869.A.FA5...   \n",
        "\n",
        "                                   user                  user_id user_nickname  \n",
        "0  Comer.bbs@cia.hinet.net (SMILE!X_X),  Comer.bbs@cia.hinet.net    SMILE!X_X)  \n",
        "1                          cyrille (\u5c0f\u5049)                  cyrille            \u5c0f\u5049  \n",
        "2              demona@kkcity.com.tw (),     demona@kkcity.com.tw             )  \n",
        "3                             A1an (\u518d\u8aaa)                     A1an            \u518d\u8aaa  \n",
        "4                       bushman (weery)                  bushman         weery  \n",
        "\n",
        "[5 rows x 9 columns]"
       ]
      }
     ],
     "prompt_number": 64
    },
    {
     "cell_type": "code",
     "collapsed": false,
     "input": [
      "#articles_push_df"
     ],
     "language": "python",
     "metadata": {},
     "outputs": [],
     "prompt_number": 63
    },
    {
     "cell_type": "code",
     "collapsed": false,
     "input": [
      "test_sdtm =  vcr.vectorize_text(df=articles_df,\n",
      "                                text_col=\"title\", idx_col=\"url\", \n",
      "                                                   vect_gen=vcr.CountVectorizer, \n",
      "                                                   vect_gen_init_kwargs = jieba_vec_count_kwargs,\n",
      "                                                   summarizer = L1_col_sum)\n"
     ],
     "language": "python",
     "metadata": {},
     "outputs": [
      {
       "output_type": "stream",
       "stream": "stderr",
       "text": [
        "Building Trie..., from /usr/local/lib/python2.7/dist-packages/jieba/dict.txt\n",
        "dumping model to file cache /tmp/jieba.cache"
       ]
      },
      {
       "output_type": "stream",
       "stream": "stderr",
       "text": [
        "\n",
        "loading model cost "
       ]
      },
      {
       "output_type": "stream",
       "stream": "stderr",
       "text": [
        " 4.22389507294 seconds.\n",
        "Trie has been built succesfully.\n"
       ]
      }
     ],
     "prompt_number": 65
    },
    {
     "cell_type": "code",
     "collapsed": false,
     "input": [
      "test_sdtm.select_rows(range(10)).to_pandas_df"
     ],
     "language": "python",
     "metadata": {},
     "outputs": [
      {
       "html": [
        "<div style=\"max-height:1000px;max-width:1500px;overflow:auto;\">\n",
        "<table border=\"1\" class=\"dataframe\">\n",
        "  <thead>\n",
        "    <tr style=\"text-align: right;\">\n",
        "      <th></th>\n",
        "      <th> </th>\n",
        "      <th>!</th>\n",
        "      <th>\"</th>\n",
        "      <th>#</th>\n",
        "      <th>$</th>\n",
        "      <th>%</th>\n",
        "      <th>&amp;</th>\n",
        "      <th>'</th>\n",
        "      <th>(</th>\n",
        "      <th>)</th>\n",
        "      <th>*</th>\n",
        "      <th>+</th>\n",
        "      <th>,</th>\n",
        "      <th>-</th>\n",
        "      <th>.</th>\n",
        "      <th>..</th>\n",
        "      <th>...</th>\n",
        "      <th>....</th>\n",
        "      <th>.....</th>\n",
        "      <th>......</th>\n",
        "      <th></th>\n",
        "    </tr>\n",
        "  </thead>\n",
        "  <tbody>\n",
        "    <tr>\n",
        "      <th>http://www.ptt.cc/bbs/movie/M.1085596329.A.html</th>\n",
        "      <td> 0</td>\n",
        "      <td> 0</td>\n",
        "      <td> 0</td>\n",
        "      <td> 0</td>\n",
        "      <td> 0</td>\n",
        "      <td> 0</td>\n",
        "      <td> 0</td>\n",
        "      <td> 0</td>\n",
        "      <td> 0</td>\n",
        "      <td> 0</td>\n",
        "      <td> 0</td>\n",
        "      <td> 0</td>\n",
        "      <td> 0</td>\n",
        "      <td> 0</td>\n",
        "      <td> 0</td>\n",
        "      <td> 0</td>\n",
        "      <td> 0</td>\n",
        "      <td> 0</td>\n",
        "      <td> 0</td>\n",
        "      <td> 0</td>\n",
        "      <td>...</td>\n",
        "    </tr>\n",
        "    <tr>\n",
        "      <th>http://www.ptt.cc/bbs/movie/M.1084331792.A.C96.html</th>\n",
        "      <td> 1</td>\n",
        "      <td> 0</td>\n",
        "      <td> 0</td>\n",
        "      <td> 0</td>\n",
        "      <td> 0</td>\n",
        "      <td> 0</td>\n",
        "      <td> 0</td>\n",
        "      <td> 0</td>\n",
        "      <td> 0</td>\n",
        "      <td> 0</td>\n",
        "      <td> 0</td>\n",
        "      <td> 0</td>\n",
        "      <td> 0</td>\n",
        "      <td> 0</td>\n",
        "      <td> 0</td>\n",
        "      <td> 0</td>\n",
        "      <td> 0</td>\n",
        "      <td> 0</td>\n",
        "      <td> 0</td>\n",
        "      <td> 0</td>\n",
        "      <td>...</td>\n",
        "    </tr>\n",
        "    <tr>\n",
        "      <th>http://www.ptt.cc/bbs/movie/M.1073844095.A.html</th>\n",
        "      <td> 1</td>\n",
        "      <td> 0</td>\n",
        "      <td> 0</td>\n",
        "      <td> 0</td>\n",
        "      <td> 0</td>\n",
        "      <td> 0</td>\n",
        "      <td> 0</td>\n",
        "      <td> 0</td>\n",
        "      <td> 0</td>\n",
        "      <td> 0</td>\n",
        "      <td> 0</td>\n",
        "      <td> 0</td>\n",
        "      <td> 0</td>\n",
        "      <td> 0</td>\n",
        "      <td> 0</td>\n",
        "      <td> 0</td>\n",
        "      <td> 0</td>\n",
        "      <td> 0</td>\n",
        "      <td> 0</td>\n",
        "      <td> 0</td>\n",
        "      <td>...</td>\n",
        "    </tr>\n",
        "    <tr>\n",
        "      <th>http://www.ptt.cc/bbs/movie/M.1093706165.A.6F6.html</th>\n",
        "      <td> 0</td>\n",
        "      <td> 0</td>\n",
        "      <td> 0</td>\n",
        "      <td> 0</td>\n",
        "      <td> 0</td>\n",
        "      <td> 0</td>\n",
        "      <td> 0</td>\n",
        "      <td> 0</td>\n",
        "      <td> 0</td>\n",
        "      <td> 0</td>\n",
        "      <td> 0</td>\n",
        "      <td> 0</td>\n",
        "      <td> 0</td>\n",
        "      <td> 0</td>\n",
        "      <td> 0</td>\n",
        "      <td> 0</td>\n",
        "      <td> 0</td>\n",
        "      <td> 0</td>\n",
        "      <td> 0</td>\n",
        "      <td> 0</td>\n",
        "      <td>...</td>\n",
        "    </tr>\n",
        "    <tr>\n",
        "      <th>http://www.ptt.cc/bbs/movie/M.1091874869.A.FA5.html</th>\n",
        "      <td> 1</td>\n",
        "      <td> 0</td>\n",
        "      <td> 0</td>\n",
        "      <td> 0</td>\n",
        "      <td> 0</td>\n",
        "      <td> 0</td>\n",
        "      <td> 0</td>\n",
        "      <td> 0</td>\n",
        "      <td> 0</td>\n",
        "      <td> 0</td>\n",
        "      <td> 0</td>\n",
        "      <td> 0</td>\n",
        "      <td> 0</td>\n",
        "      <td> 2</td>\n",
        "      <td> 0</td>\n",
        "      <td> 0</td>\n",
        "      <td> 0</td>\n",
        "      <td> 0</td>\n",
        "      <td> 0</td>\n",
        "      <td> 0</td>\n",
        "      <td>...</td>\n",
        "    </tr>\n",
        "    <tr>\n",
        "      <th>http://www.ptt.cc/bbs/movie/M.1094665711.A.D83.html</th>\n",
        "      <td> 1</td>\n",
        "      <td> 0</td>\n",
        "      <td> 0</td>\n",
        "      <td> 0</td>\n",
        "      <td> 0</td>\n",
        "      <td> 0</td>\n",
        "      <td> 0</td>\n",
        "      <td> 0</td>\n",
        "      <td> 0</td>\n",
        "      <td> 0</td>\n",
        "      <td> 0</td>\n",
        "      <td> 0</td>\n",
        "      <td> 0</td>\n",
        "      <td> 0</td>\n",
        "      <td> 0</td>\n",
        "      <td> 0</td>\n",
        "      <td> 0</td>\n",
        "      <td> 0</td>\n",
        "      <td> 0</td>\n",
        "      <td> 0</td>\n",
        "      <td>...</td>\n",
        "    </tr>\n",
        "    <tr>\n",
        "      <th>http://www.ptt.cc/bbs/movie/M.1091235578.A.76E.html</th>\n",
        "      <td> 3</td>\n",
        "      <td> 0</td>\n",
        "      <td> 0</td>\n",
        "      <td> 0</td>\n",
        "      <td> 0</td>\n",
        "      <td> 0</td>\n",
        "      <td> 0</td>\n",
        "      <td> 0</td>\n",
        "      <td> 0</td>\n",
        "      <td> 0</td>\n",
        "      <td> 0</td>\n",
        "      <td> 0</td>\n",
        "      <td> 0</td>\n",
        "      <td> 0</td>\n",
        "      <td> 0</td>\n",
        "      <td> 0</td>\n",
        "      <td> 0</td>\n",
        "      <td> 0</td>\n",
        "      <td> 0</td>\n",
        "      <td> 0</td>\n",
        "      <td>...</td>\n",
        "    </tr>\n",
        "    <tr>\n",
        "      <th>http://www.ptt.cc/bbs/movie/M.1094496445.A.489.html</th>\n",
        "      <td> 1</td>\n",
        "      <td> 0</td>\n",
        "      <td> 0</td>\n",
        "      <td> 0</td>\n",
        "      <td> 0</td>\n",
        "      <td> 0</td>\n",
        "      <td> 0</td>\n",
        "      <td> 0</td>\n",
        "      <td> 0</td>\n",
        "      <td> 0</td>\n",
        "      <td> 0</td>\n",
        "      <td> 0</td>\n",
        "      <td> 0</td>\n",
        "      <td> 0</td>\n",
        "      <td> 0</td>\n",
        "      <td> 0</td>\n",
        "      <td> 0</td>\n",
        "      <td> 0</td>\n",
        "      <td> 0</td>\n",
        "      <td> 0</td>\n",
        "      <td>...</td>\n",
        "    </tr>\n",
        "    <tr>\n",
        "      <th>http://www.ptt.cc/bbs/movie/M.1092174856.A.0D3.html</th>\n",
        "      <td> 4</td>\n",
        "      <td> 0</td>\n",
        "      <td> 2</td>\n",
        "      <td> 0</td>\n",
        "      <td> 0</td>\n",
        "      <td> 0</td>\n",
        "      <td> 0</td>\n",
        "      <td> 0</td>\n",
        "      <td> 0</td>\n",
        "      <td> 0</td>\n",
        "      <td> 0</td>\n",
        "      <td> 0</td>\n",
        "      <td> 0</td>\n",
        "      <td> 0</td>\n",
        "      <td> 0</td>\n",
        "      <td> 0</td>\n",
        "      <td> 0</td>\n",
        "      <td> 0</td>\n",
        "      <td> 0</td>\n",
        "      <td> 0</td>\n",
        "      <td>...</td>\n",
        "    </tr>\n",
        "    <tr>\n",
        "      <th>http://www.ptt.cc/bbs/movie/M.1391614890.A.AC0.html</th>\n",
        "      <td> 2</td>\n",
        "      <td> 0</td>\n",
        "      <td> 0</td>\n",
        "      <td> 0</td>\n",
        "      <td> 0</td>\n",
        "      <td> 0</td>\n",
        "      <td> 0</td>\n",
        "      <td> 0</td>\n",
        "      <td> 0</td>\n",
        "      <td> 0</td>\n",
        "      <td> 0</td>\n",
        "      <td> 0</td>\n",
        "      <td> 0</td>\n",
        "      <td> 0</td>\n",
        "      <td> 0</td>\n",
        "      <td> 0</td>\n",
        "      <td> 0</td>\n",
        "      <td> 0</td>\n",
        "      <td> 0</td>\n",
        "      <td> 0</td>\n",
        "      <td>...</td>\n",
        "    </tr>\n",
        "  </tbody>\n",
        "</table>\n",
        "<p>10 rows \u00d7 23366 columns</p>\n",
        "</div>"
       ],
       "metadata": {},
       "output_type": "pyout",
       "prompt_number": 68,
       "text": [
        "                                                        !  \"  #  $  %  &  '  \\\n",
        "http://www.ptt.cc/bbs/movie/M.1085596329.A.html      0  0  0  0  0  0  0  0   \n",
        "http://www.ptt.cc/bbs/movie/M.1084331792.A.C96.html  1  0  0  0  0  0  0  0   \n",
        "http://www.ptt.cc/bbs/movie/M.1073844095.A.html      1  0  0  0  0  0  0  0   \n",
        "http://www.ptt.cc/bbs/movie/M.1093706165.A.6F6.html  0  0  0  0  0  0  0  0   \n",
        "http://www.ptt.cc/bbs/movie/M.1091874869.A.FA5.html  1  0  0  0  0  0  0  0   \n",
        "http://www.ptt.cc/bbs/movie/M.1094665711.A.D83.html  1  0  0  0  0  0  0  0   \n",
        "http://www.ptt.cc/bbs/movie/M.1091235578.A.76E.html  3  0  0  0  0  0  0  0   \n",
        "http://www.ptt.cc/bbs/movie/M.1094496445.A.489.html  1  0  0  0  0  0  0  0   \n",
        "http://www.ptt.cc/bbs/movie/M.1092174856.A.0D3.html  4  0  2  0  0  0  0  0   \n",
        "http://www.ptt.cc/bbs/movie/M.1391614890.A.AC0.html  2  0  0  0  0  0  0  0   \n",
        "\n",
        "                                                     (  )  *  +  ,  -  .  ..  \\\n",
        "http://www.ptt.cc/bbs/movie/M.1085596329.A.html      0  0  0  0  0  0  0   0   \n",
        "http://www.ptt.cc/bbs/movie/M.1084331792.A.C96.html  0  0  0  0  0  0  0   0   \n",
        "http://www.ptt.cc/bbs/movie/M.1073844095.A.html      0  0  0  0  0  0  0   0   \n",
        "http://www.ptt.cc/bbs/movie/M.1093706165.A.6F6.html  0  0  0  0  0  0  0   0   \n",
        "http://www.ptt.cc/bbs/movie/M.1091874869.A.FA5.html  0  0  0  0  0  2  0   0   \n",
        "http://www.ptt.cc/bbs/movie/M.1094665711.A.D83.html  0  0  0  0  0  0  0   0   \n",
        "http://www.ptt.cc/bbs/movie/M.1091235578.A.76E.html  0  0  0  0  0  0  0   0   \n",
        "http://www.ptt.cc/bbs/movie/M.1094496445.A.489.html  0  0  0  0  0  0  0   0   \n",
        "http://www.ptt.cc/bbs/movie/M.1092174856.A.0D3.html  0  0  0  0  0  0  0   0   \n",
        "http://www.ptt.cc/bbs/movie/M.1391614890.A.AC0.html  0  0  0  0  0  0  0   0   \n",
        "\n",
        "                                                     ...  ....  .....  ......  \\\n",
        "http://www.ptt.cc/bbs/movie/M.1085596329.A.html        0     0      0       0   \n",
        "http://www.ptt.cc/bbs/movie/M.1084331792.A.C96.html    0     0      0       0   \n",
        "http://www.ptt.cc/bbs/movie/M.1073844095.A.html        0     0      0       0   \n",
        "http://www.ptt.cc/bbs/movie/M.1093706165.A.6F6.html    0     0      0       0   \n",
        "http://www.ptt.cc/bbs/movie/M.1091874869.A.FA5.html    0     0      0       0   \n",
        "http://www.ptt.cc/bbs/movie/M.1094665711.A.D83.html    0     0      0       0   \n",
        "http://www.ptt.cc/bbs/movie/M.1091235578.A.76E.html    0     0      0       0   \n",
        "http://www.ptt.cc/bbs/movie/M.1094496445.A.489.html    0     0      0       0   \n",
        "http://www.ptt.cc/bbs/movie/M.1092174856.A.0D3.html    0     0      0       0   \n",
        "http://www.ptt.cc/bbs/movie/M.1391614890.A.AC0.html    0     0      0       0   \n",
        "\n",
        "                                                         \n",
        "http://www.ptt.cc/bbs/movie/M.1085596329.A.html     ...  \n",
        "http://www.ptt.cc/bbs/movie/M.1084331792.A.C96.html ...  \n",
        "http://www.ptt.cc/bbs/movie/M.1073844095.A.html     ...  \n",
        "http://www.ptt.cc/bbs/movie/M.1093706165.A.6F6.html ...  \n",
        "http://www.ptt.cc/bbs/movie/M.1091874869.A.FA5.html ...  \n",
        "http://www.ptt.cc/bbs/movie/M.1094665711.A.D83.html ...  \n",
        "http://www.ptt.cc/bbs/movie/M.1091235578.A.76E.html ...  \n",
        "http://www.ptt.cc/bbs/movie/M.1094496445.A.489.html ...  \n",
        "http://www.ptt.cc/bbs/movie/M.1092174856.A.0D3.html ...  \n",
        "http://www.ptt.cc/bbs/movie/M.1391614890.A.AC0.html ...  \n",
        "\n",
        "[10 rows x 23366 columns]"
       ]
      }
     ],
     "prompt_number": 68
    },
    {
     "cell_type": "code",
     "collapsed": false,
     "input": [
      "test_ptt_text_sdtm.summary"
     ],
     "language": "python",
     "metadata": {},
     "outputs": [
      {
       "metadata": {},
       "output_type": "pyout",
       "prompt_number": 24,
       "text": [
        "{'sdf': {'col_idx': array([u' ', u'!', u'\"', ..., u'\\uff3f', u'\\uff5c', u'\\uff5e'], \n",
        "        dtype='<U23'),\n",
        "  'row_idx': array([    0,     1,     2, ..., 26129, 26130, 26131]),\n",
        "  'smatrix': <26132x23366 sparse matrix of type '<type 'numpy.int64'>'\n",
        "  \twith 288389 stored elements in Compressed Sparse Column format>,\n",
        "  'summarizer': <function PlaYnlp.sparse.L0_norm_col_summarizer>},\n",
        " 'summary_data': array([23732,   446,   322, ...,     9,     1,   125]),\n",
        " 'summary_idx': array([u' ', u'!', u'\"', ..., u'\\uff3f', u'\\uff5c', u'\\uff5e'], \n",
        "       dtype='<U23'),\n",
        " 'summary_type': 'col'}"
       ]
      }
     ],
     "prompt_number": 24
    },
    {
     "cell_type": "code",
     "collapsed": false,
     "input": [
      "import scipy.sparse as sparse"
     ],
     "language": "python",
     "metadata": {},
     "outputs": [],
     "prompt_number": 92
    },
    {
     "cell_type": "code",
     "collapsed": false,
     "input": [
      "%time sparse.linalg.svds(test_ptt_text_sdtm._smatrix)"
     ],
     "language": "python",
     "metadata": {},
     "outputs": [
      {
       "ename": "ValueError",
       "evalue": "matrix type must be 'f', 'd', 'F', or 'D'",
       "output_type": "pyerr",
       "traceback": [
        "\u001b[1;31m---------------------------------------------------------------------------\u001b[0m\n\u001b[1;31mValueError\u001b[0m                                Traceback (most recent call last)",
        "\u001b[1;32m<ipython-input-94-49f13a66f6e7>\u001b[0m in \u001b[0;36m<module>\u001b[1;34m()\u001b[0m\n\u001b[1;32m----> 1\u001b[1;33m \u001b[0mget_ipython\u001b[0m\u001b[1;33m(\u001b[0m\u001b[1;33m)\u001b[0m\u001b[1;33m.\u001b[0m\u001b[0mmagic\u001b[0m\u001b[1;33m(\u001b[0m\u001b[1;34mu'time sparse.linalg.svds(test_ptt_text_sdtm._smatrix)'\u001b[0m\u001b[1;33m)\u001b[0m\u001b[1;33m\u001b[0m\u001b[0m\n\u001b[0m",
        "\u001b[1;32m/usr/local/lib/python2.7/dist-packages/IPython/core/interactiveshell.pyc\u001b[0m in \u001b[0;36mmagic\u001b[1;34m(self, arg_s)\u001b[0m\n\u001b[0;32m   2203\u001b[0m         \u001b[0mmagic_name\u001b[0m\u001b[1;33m,\u001b[0m \u001b[0m_\u001b[0m\u001b[1;33m,\u001b[0m \u001b[0mmagic_arg_s\u001b[0m \u001b[1;33m=\u001b[0m \u001b[0marg_s\u001b[0m\u001b[1;33m.\u001b[0m\u001b[0mpartition\u001b[0m\u001b[1;33m(\u001b[0m\u001b[1;34m' '\u001b[0m\u001b[1;33m)\u001b[0m\u001b[1;33m\u001b[0m\u001b[0m\n\u001b[0;32m   2204\u001b[0m         \u001b[0mmagic_name\u001b[0m \u001b[1;33m=\u001b[0m \u001b[0mmagic_name\u001b[0m\u001b[1;33m.\u001b[0m\u001b[0mlstrip\u001b[0m\u001b[1;33m(\u001b[0m\u001b[0mprefilter\u001b[0m\u001b[1;33m.\u001b[0m\u001b[0mESC_MAGIC\u001b[0m\u001b[1;33m)\u001b[0m\u001b[1;33m\u001b[0m\u001b[0m\n\u001b[1;32m-> 2205\u001b[1;33m         \u001b[1;32mreturn\u001b[0m \u001b[0mself\u001b[0m\u001b[1;33m.\u001b[0m\u001b[0mrun_line_magic\u001b[0m\u001b[1;33m(\u001b[0m\u001b[0mmagic_name\u001b[0m\u001b[1;33m,\u001b[0m \u001b[0mmagic_arg_s\u001b[0m\u001b[1;33m)\u001b[0m\u001b[1;33m\u001b[0m\u001b[0m\n\u001b[0m\u001b[0;32m   2206\u001b[0m \u001b[1;33m\u001b[0m\u001b[0m\n\u001b[0;32m   2207\u001b[0m     \u001b[1;31m#-------------------------------------------------------------------------\u001b[0m\u001b[1;33m\u001b[0m\u001b[1;33m\u001b[0m\u001b[0m\n",
        "\u001b[1;32m/usr/local/lib/python2.7/dist-packages/IPython/core/interactiveshell.pyc\u001b[0m in \u001b[0;36mrun_line_magic\u001b[1;34m(self, magic_name, line)\u001b[0m\n\u001b[0;32m   2124\u001b[0m                 \u001b[0mkwargs\u001b[0m\u001b[1;33m[\u001b[0m\u001b[1;34m'local_ns'\u001b[0m\u001b[1;33m]\u001b[0m \u001b[1;33m=\u001b[0m \u001b[0msys\u001b[0m\u001b[1;33m.\u001b[0m\u001b[0m_getframe\u001b[0m\u001b[1;33m(\u001b[0m\u001b[0mstack_depth\u001b[0m\u001b[1;33m)\u001b[0m\u001b[1;33m.\u001b[0m\u001b[0mf_locals\u001b[0m\u001b[1;33m\u001b[0m\u001b[0m\n\u001b[0;32m   2125\u001b[0m             \u001b[1;32mwith\u001b[0m \u001b[0mself\u001b[0m\u001b[1;33m.\u001b[0m\u001b[0mbuiltin_trap\u001b[0m\u001b[1;33m:\u001b[0m\u001b[1;33m\u001b[0m\u001b[0m\n\u001b[1;32m-> 2126\u001b[1;33m                 \u001b[0mresult\u001b[0m \u001b[1;33m=\u001b[0m \u001b[0mfn\u001b[0m\u001b[1;33m(\u001b[0m\u001b[1;33m*\u001b[0m\u001b[0margs\u001b[0m\u001b[1;33m,\u001b[0m\u001b[1;33m**\u001b[0m\u001b[0mkwargs\u001b[0m\u001b[1;33m)\u001b[0m\u001b[1;33m\u001b[0m\u001b[0m\n\u001b[0m\u001b[0;32m   2127\u001b[0m             \u001b[1;32mreturn\u001b[0m \u001b[0mresult\u001b[0m\u001b[1;33m\u001b[0m\u001b[0m\n\u001b[0;32m   2128\u001b[0m \u001b[1;33m\u001b[0m\u001b[0m\n",
        "\u001b[1;32m/usr/local/lib/python2.7/dist-packages/IPython/core/magics/execution.pyc\u001b[0m in \u001b[0;36mtime\u001b[1;34m(self, line, cell, local_ns)\u001b[0m\n",
        "\u001b[1;32m/usr/local/lib/python2.7/dist-packages/IPython/core/magic.pyc\u001b[0m in \u001b[0;36m<lambda>\u001b[1;34m(f, *a, **k)\u001b[0m\n\u001b[0;32m    191\u001b[0m     \u001b[1;31m# but it's overkill for just that one bit of state.\u001b[0m\u001b[1;33m\u001b[0m\u001b[1;33m\u001b[0m\u001b[0m\n\u001b[0;32m    192\u001b[0m     \u001b[1;32mdef\u001b[0m \u001b[0mmagic_deco\u001b[0m\u001b[1;33m(\u001b[0m\u001b[0marg\u001b[0m\u001b[1;33m)\u001b[0m\u001b[1;33m:\u001b[0m\u001b[1;33m\u001b[0m\u001b[0m\n\u001b[1;32m--> 193\u001b[1;33m         \u001b[0mcall\u001b[0m \u001b[1;33m=\u001b[0m \u001b[1;32mlambda\u001b[0m \u001b[0mf\u001b[0m\u001b[1;33m,\u001b[0m \u001b[1;33m*\u001b[0m\u001b[0ma\u001b[0m\u001b[1;33m,\u001b[0m \u001b[1;33m**\u001b[0m\u001b[0mk\u001b[0m\u001b[1;33m:\u001b[0m \u001b[0mf\u001b[0m\u001b[1;33m(\u001b[0m\u001b[1;33m*\u001b[0m\u001b[0ma\u001b[0m\u001b[1;33m,\u001b[0m \u001b[1;33m**\u001b[0m\u001b[0mk\u001b[0m\u001b[1;33m)\u001b[0m\u001b[1;33m\u001b[0m\u001b[0m\n\u001b[0m\u001b[0;32m    194\u001b[0m \u001b[1;33m\u001b[0m\u001b[0m\n\u001b[0;32m    195\u001b[0m         \u001b[1;32mif\u001b[0m \u001b[0mcallable\u001b[0m\u001b[1;33m(\u001b[0m\u001b[0marg\u001b[0m\u001b[1;33m)\u001b[0m\u001b[1;33m:\u001b[0m\u001b[1;33m\u001b[0m\u001b[0m\n",
        "\u001b[1;32m/usr/local/lib/python2.7/dist-packages/IPython/core/magics/execution.pyc\u001b[0m in \u001b[0;36mtime\u001b[1;34m(self, line, cell, local_ns)\u001b[0m\n\u001b[0;32m   1123\u001b[0m         \u001b[1;32mif\u001b[0m \u001b[0mmode\u001b[0m\u001b[1;33m==\u001b[0m\u001b[1;34m'eval'\u001b[0m\u001b[1;33m:\u001b[0m\u001b[1;33m\u001b[0m\u001b[0m\n\u001b[0;32m   1124\u001b[0m             \u001b[0mst\u001b[0m \u001b[1;33m=\u001b[0m \u001b[0mclock2\u001b[0m\u001b[1;33m(\u001b[0m\u001b[1;33m)\u001b[0m\u001b[1;33m\u001b[0m\u001b[0m\n\u001b[1;32m-> 1125\u001b[1;33m             \u001b[0mout\u001b[0m \u001b[1;33m=\u001b[0m \u001b[0meval\u001b[0m\u001b[1;33m(\u001b[0m\u001b[0mcode\u001b[0m\u001b[1;33m,\u001b[0m \u001b[0mglob\u001b[0m\u001b[1;33m,\u001b[0m \u001b[0mlocal_ns\u001b[0m\u001b[1;33m)\u001b[0m\u001b[1;33m\u001b[0m\u001b[0m\n\u001b[0m\u001b[0;32m   1126\u001b[0m             \u001b[0mend\u001b[0m \u001b[1;33m=\u001b[0m \u001b[0mclock2\u001b[0m\u001b[1;33m(\u001b[0m\u001b[1;33m)\u001b[0m\u001b[1;33m\u001b[0m\u001b[0m\n\u001b[0;32m   1127\u001b[0m         \u001b[1;32melse\u001b[0m\u001b[1;33m:\u001b[0m\u001b[1;33m\u001b[0m\u001b[0m\n",
        "\u001b[1;32m<timed eval>\u001b[0m in \u001b[0;36m<module>\u001b[1;34m()\u001b[0m\n",
        "\u001b[1;32m/usr/local/lib/python2.7/dist-packages/scipy/sparse/linalg/eigen/arpack/arpack.pyc\u001b[0m in \u001b[0;36msvds\u001b[1;34m(A, k, ncv, tol, which, v0, maxiter, return_singular_vectors)\u001b[0m\n\u001b[0;32m   1649\u001b[0m     \u001b[1;32mif\u001b[0m \u001b[0mreturn_singular_vectors\u001b[0m\u001b[1;33m:\u001b[0m\u001b[1;33m\u001b[0m\u001b[0m\n\u001b[0;32m   1650\u001b[0m         eigvals, eigvec = eigensolver(XH_X, k=k, tol=tol ** 2, maxiter=maxiter,\n\u001b[1;32m-> 1651\u001b[1;33m                                       ncv=ncv, which=which, v0=v0)\n\u001b[0m\u001b[0;32m   1652\u001b[0m         \u001b[0ms\u001b[0m \u001b[1;33m=\u001b[0m \u001b[0mnp\u001b[0m\u001b[1;33m.\u001b[0m\u001b[0msqrt\u001b[0m\u001b[1;33m(\u001b[0m\u001b[0meigvals\u001b[0m\u001b[1;33m)\u001b[0m\u001b[1;33m\u001b[0m\u001b[0m\n\u001b[0;32m   1653\u001b[0m     \u001b[1;32melse\u001b[0m\u001b[1;33m:\u001b[0m\u001b[1;33m\u001b[0m\u001b[0m\n",
        "\u001b[1;32m/usr/local/lib/python2.7/dist-packages/scipy/sparse/linalg/eigen/arpack/arpack.pyc\u001b[0m in \u001b[0;36meigsh\u001b[1;34m(A, k, M, sigma, which, v0, ncv, maxiter, tol, return_eigenvectors, Minv, OPinv, mode)\u001b[0m\n\u001b[0;32m   1563\u001b[0m     params = _SymmetricArpackParams(n, k, A.dtype.char, matvec, mode,\n\u001b[0;32m   1564\u001b[0m                                     \u001b[0mM_matvec\u001b[0m\u001b[1;33m,\u001b[0m \u001b[0mMinv_matvec\u001b[0m\u001b[1;33m,\u001b[0m \u001b[0msigma\u001b[0m\u001b[1;33m,\u001b[0m\u001b[1;33m\u001b[0m\u001b[0m\n\u001b[1;32m-> 1565\u001b[1;33m                                     ncv, v0, maxiter, which, tol)\n\u001b[0m\u001b[0;32m   1566\u001b[0m \u001b[1;33m\u001b[0m\u001b[0m\n\u001b[0;32m   1567\u001b[0m     \u001b[1;32mwhile\u001b[0m \u001b[1;32mnot\u001b[0m \u001b[0mparams\u001b[0m\u001b[1;33m.\u001b[0m\u001b[0mconverged\u001b[0m\u001b[1;33m:\u001b[0m\u001b[1;33m\u001b[0m\u001b[0m\n",
        "\u001b[1;32m/usr/local/lib/python2.7/dist-packages/scipy/sparse/linalg/eigen/arpack/arpack.pyc\u001b[0m in \u001b[0;36m__init__\u001b[1;34m(self, n, k, tp, matvec, mode, M_matvec, Minv_matvec, sigma, ncv, v0, maxiter, which, tol)\u001b[0m\n\u001b[0;32m    504\u001b[0m \u001b[1;33m\u001b[0m\u001b[0m\n\u001b[0;32m    505\u001b[0m         _ArpackParams.__init__(self, n, k, tp, mode, sigma,\n\u001b[1;32m--> 506\u001b[1;33m                                ncv, v0, maxiter, which, tol)\n\u001b[0m\u001b[0;32m    507\u001b[0m \u001b[1;33m\u001b[0m\u001b[0m\n\u001b[0;32m    508\u001b[0m         \u001b[1;32mif\u001b[0m \u001b[0mself\u001b[0m\u001b[1;33m.\u001b[0m\u001b[0mncv\u001b[0m \u001b[1;33m>\u001b[0m \u001b[0mn\u001b[0m \u001b[1;32mor\u001b[0m \u001b[0mself\u001b[0m\u001b[1;33m.\u001b[0m\u001b[0mncv\u001b[0m \u001b[1;33m<=\u001b[0m \u001b[0mk\u001b[0m\u001b[1;33m:\u001b[0m\u001b[1;33m\u001b[0m\u001b[0m\n",
        "\u001b[1;32m/usr/local/lib/python2.7/dist-packages/scipy/sparse/linalg/eigen/arpack/arpack.pyc\u001b[0m in \u001b[0;36m__init__\u001b[1;34m(self, n, k, tp, mode, sigma, ncv, v0, maxiter, which, tol)\u001b[0m\n\u001b[0;32m    313\u001b[0m \u001b[1;33m\u001b[0m\u001b[0m\n\u001b[0;32m    314\u001b[0m         \u001b[1;32mif\u001b[0m \u001b[0mtp\u001b[0m \u001b[1;32mnot\u001b[0m \u001b[1;32min\u001b[0m \u001b[1;34m'fdFD'\u001b[0m\u001b[1;33m:\u001b[0m\u001b[1;33m\u001b[0m\u001b[0m\n\u001b[1;32m--> 315\u001b[1;33m             \u001b[1;32mraise\u001b[0m \u001b[0mValueError\u001b[0m\u001b[1;33m(\u001b[0m\u001b[1;34m\"matrix type must be 'f', 'd', 'F', or 'D'\"\u001b[0m\u001b[1;33m)\u001b[0m\u001b[1;33m\u001b[0m\u001b[0m\n\u001b[0m\u001b[0;32m    316\u001b[0m \u001b[1;33m\u001b[0m\u001b[0m\n\u001b[0;32m    317\u001b[0m         \u001b[1;32mif\u001b[0m \u001b[0mv0\u001b[0m \u001b[1;32mis\u001b[0m \u001b[1;32mnot\u001b[0m \u001b[0mNone\u001b[0m\u001b[1;33m:\u001b[0m\u001b[1;33m\u001b[0m\u001b[0m\n",
        "\u001b[1;31mValueError\u001b[0m: matrix type must be 'f', 'd', 'F', or 'D'"
       ]
      }
     ],
     "prompt_number": 94
    },
    {
     "cell_type": "code",
     "collapsed": false,
     "input": [
      "sparse.svd(test_ptt_text_sdtm._smatrix)"
     ],
     "language": "python",
     "metadata": {},
     "outputs": [
      {
       "ename": "AttributeError",
       "evalue": "'module' object has no attribute 'svd'",
       "output_type": "pyerr",
       "traceback": [
        "\u001b[1;31m---------------------------------------------------------------------------\u001b[0m\n\u001b[1;31mAttributeError\u001b[0m                            Traceback (most recent call last)",
        "\u001b[1;32m<ipython-input-93-20cc75848ba0>\u001b[0m in \u001b[0;36m<module>\u001b[1;34m()\u001b[0m\n\u001b[1;32m----> 1\u001b[1;33m \u001b[0msparse\u001b[0m\u001b[1;33m.\u001b[0m\u001b[0msvd\u001b[0m\u001b[1;33m(\u001b[0m\u001b[0mtest_ptt_text_sdtm\u001b[0m\u001b[1;33m.\u001b[0m\u001b[0m_smatrix\u001b[0m\u001b[1;33m)\u001b[0m\u001b[1;33m\u001b[0m\u001b[0m\n\u001b[0m",
        "\u001b[1;31mAttributeError\u001b[0m: 'module' object has no attribute 'svd'"
       ]
      }
     ],
     "prompt_number": 93
    },
    {
     "cell_type": "code",
     "collapsed": false,
     "input": [
      "articles_df.iloc[wfms.get_topk_neighborhood_idx(test_ptt_text_sdtm,[3],k=10)][\"title\"]\n"
     ],
     "language": "python",
     "metadata": {},
     "outputs": [
      {
       "metadata": {},
       "output_type": "pyout",
       "prompt_number": 73,
       "text": [
        "15910          [\u554f\u7247] \u4e00\u90e8\u8ecd\u4eba\u9032\u5165\u5730\u4e0b\u5ba4\u6bba\u7570\u5f62\u7684\u96fb\u5f71\n",
        "16170             [\u554f\u7247] \u627e\u4e00\u90e8\u5e74\u4ee3\u4e45\u9060\u7684\u7570\u5f62\u96fb\u5f71\n",
        "21227                [\u554f\u7247] \u6709\u95dc\u4e00\u90e8\u7570\u5f62\u7684\u7247\u5b50\n",
        "3991     [\u5fb5\u6587] \u5927\u5e2b\u7684\u8a66\u7149\u5ee0\u30011979\u4ee5\u4f86\u7684\u7d93\u5178\u2027\u7570\u5f62\u7cfb\u5217\n",
        "2508                      [\u60c5\u5831] \u95dc\u65bc\u7570\u5f62\n",
        "17622                   [\u554f\u7247] \u95dc\u65bc\u7570\u5f62\u7684\u7247\n",
        "3406           [\u8a0e\u8ad6] \u88dc\u5145\u6d77\u89d2\u4e03\u865f\u88e1\u7684\u65e5\u6cbb\u6642\u4ee3\u5c0f\u5e38\u8b58\n",
        "10492                    \u8d85\u4eba\u7cfb\u5217\u96fb\u5f71\u7684\u5c0f\u5e38\u8b58\n",
        "11942             [\u666e\u96f7] \u95dc\u65bc\u672b\u65e5\u4e4b\u6230\u7684\u5c0f\u5e38\u8b58\u554f\u984c\n",
        "3                          \u95dc\u65bc\u7570\u5f62\u7684\u5c0f\u5e38\u8b58\n",
        "Name: title, dtype: object"
       ]
      }
     ],
     "prompt_number": 73
    },
    {
     "cell_type": "code",
     "collapsed": false,
     "input": [],
     "language": "python",
     "metadata": {},
     "outputs": []
    },
    {
     "cell_type": "code",
     "collapsed": false,
     "input": [
      "print \"// \".join((test_ptt_text_sdtm.select_rows([3]).summary > 0 )._filtered_idx)"
     ],
     "language": "python",
     "metadata": {},
     "outputs": [
      {
       "output_type": "stream",
       "stream": "stdout",
       "text": [
        "\u5c0f\u5e38\u8b58// \u7570\u5f62// \u7684// \u95dc\u65bc\n"
       ]
      }
     ],
     "prompt_number": 59
    },
    {
     "cell_type": "code",
     "collapsed": false,
     "input": [],
     "language": "python",
     "metadata": {},
     "outputs": []
    },
    {
     "cell_type": "code",
     "collapsed": false,
     "input": [],
     "language": "python",
     "metadata": {},
     "outputs": []
    },
    {
     "cell_type": "code",
     "collapsed": false,
     "input": [
      "import pandas as pd \n",
      "test_text_df = pd.DataFrame([u\"\u4eca\u5929\u5929\u6c23\u5f88\u597d\",u\"\u4eca\u5929\u5929\u6c23\u5f88\u721b\",u\"\u6211\u6068\u5b83\",u\"\u5b83\u6068\u6211\",u\"\u6211\u611b\u5b83\",u\"\u5b83\u611b\u6211\",u\"\u4eca\u5929\u5f88\u8870\",\"\u65e5\u5b50\u4e00\u5929\u4e00\u5929\u904e\",\"\u5929\u5929\u5237\u7259\u6d17\u81c9\"])\n",
      "test_text_df.columns = [\"text\"]\n",
      "test_text_df = test_text_df.reset_index()\n",
      "test_text_df"
     ],
     "language": "python",
     "metadata": {},
     "outputs": [
      {
       "html": [
        "<div style=\"max-height:1000px;max-width:1500px;overflow:auto;\">\n",
        "<table border=\"1\" class=\"dataframe\">\n",
        "  <thead>\n",
        "    <tr style=\"text-align: right;\">\n",
        "      <th></th>\n",
        "      <th>index</th>\n",
        "      <th>text</th>\n",
        "    </tr>\n",
        "  </thead>\n",
        "  <tbody>\n",
        "    <tr>\n",
        "      <th>0</th>\n",
        "      <td> 0</td>\n",
        "      <td>  \u4eca\u5929\u5929\u6c23\u5f88\u597d</td>\n",
        "    </tr>\n",
        "    <tr>\n",
        "      <th>1</th>\n",
        "      <td> 1</td>\n",
        "      <td>  \u4eca\u5929\u5929\u6c23\u5f88\u721b</td>\n",
        "    </tr>\n",
        "    <tr>\n",
        "      <th>2</th>\n",
        "      <td> 2</td>\n",
        "      <td>     \u6211\u6068\u5b83</td>\n",
        "    </tr>\n",
        "    <tr>\n",
        "      <th>3</th>\n",
        "      <td> 3</td>\n",
        "      <td>     \u5b83\u6068\u6211</td>\n",
        "    </tr>\n",
        "    <tr>\n",
        "      <th>4</th>\n",
        "      <td> 4</td>\n",
        "      <td>     \u6211\u611b\u5b83</td>\n",
        "    </tr>\n",
        "    <tr>\n",
        "      <th>5</th>\n",
        "      <td> 5</td>\n",
        "      <td>     \u5b83\u611b\u6211</td>\n",
        "    </tr>\n",
        "    <tr>\n",
        "      <th>6</th>\n",
        "      <td> 6</td>\n",
        "      <td>    \u4eca\u5929\u5f88\u8870</td>\n",
        "    </tr>\n",
        "    <tr>\n",
        "      <th>7</th>\n",
        "      <td> 7</td>\n",
        "      <td> \u65e5\u5b50\u4e00\u5929\u4e00\u5929\u904e</td>\n",
        "    </tr>\n",
        "    <tr>\n",
        "      <th>8</th>\n",
        "      <td> 8</td>\n",
        "      <td>  \u5929\u5929\u5237\u7259\u6d17\u81c9</td>\n",
        "    </tr>\n",
        "  </tbody>\n",
        "</table>\n",
        "<p>9 rows \u00d7 2 columns</p>\n",
        "</div>"
       ],
       "metadata": {},
       "output_type": "pyout",
       "prompt_number": 78,
       "text": [
        "   index     text\n",
        "0      0   \u4eca\u5929\u5929\u6c23\u5f88\u597d\n",
        "1      1   \u4eca\u5929\u5929\u6c23\u5f88\u721b\n",
        "2      2      \u6211\u6068\u5b83\n",
        "3      3      \u5b83\u6068\u6211\n",
        "4      4      \u6211\u611b\u5b83\n",
        "5      5      \u5b83\u611b\u6211\n",
        "6      6     \u4eca\u5929\u5f88\u8870\n",
        "7      7  \u65e5\u5b50\u4e00\u5929\u4e00\u5929\u904e\n",
        "8      8   \u5929\u5929\u5237\u7259\u6d17\u81c9\n",
        "\n",
        "[9 rows x 2 columns]"
       ]
      }
     ],
     "prompt_number": 78
    },
    {
     "cell_type": "code",
     "collapsed": false,
     "input": [
      "test = pd.core.base.FrozenNDArray(test_text_df.values, dtype=test_text_df.values.dtype)"
     ],
     "language": "python",
     "metadata": {},
     "outputs": [],
     "prompt_number": 79
    },
    {
     "cell_type": "code",
     "collapsed": false,
     "input": [
      "test.values()"
     ],
     "language": "python",
     "metadata": {},
     "outputs": [
      {
       "metadata": {},
       "output_type": "pyout",
       "prompt_number": 80,
       "text": [
        "array([[0, u'\\u4eca\\u5929\\u5929\\u6c23\\u5f88\\u597d'],\n",
        "       [1, u'\\u4eca\\u5929\\u5929\\u6c23\\u5f88\\u721b'],\n",
        "       [2, u'\\u6211\\u6068\\u5b83'],\n",
        "       [3, u'\\u5b83\\u6068\\u6211'],\n",
        "       [4, u'\\u6211\\u611b\\u5b83'],\n",
        "       [5, u'\\u5b83\\u611b\\u6211'],\n",
        "       [6, u'\\u4eca\\u5929\\u5f88\\u8870'],\n",
        "       [7,\n",
        "        '\\xe6\\x97\\xa5\\xe5\\xad\\x90\\xe4\\xb8\\x80\\xe5\\xa4\\xa9\\xe4\\xb8\\x80\\xe5\\xa4\\xa9\\xe9\\x81\\x8e'],\n",
        "       [8,\n",
        "        '\\xe5\\xa4\\xa9\\xe5\\xa4\\xa9\\xe5\\x88\\xb7\\xe7\\x89\\x99\\xe6\\xb4\\x97\\xe8\\x87\\x89']], dtype=object)"
       ]
      }
     ],
     "prompt_number": 80
    },
    {
     "cell_type": "code",
     "collapsed": false,
     "input": [
      "test_text_df.index"
     ],
     "language": "python",
     "metadata": {},
     "outputs": [
      {
       "metadata": {},
       "output_type": "pyout",
       "prompt_number": 81,
       "text": [
        "Int64Index([0, 1, 2, 3, 4, 5, 6, 7, 8], dtype='int64')"
       ]
      }
     ],
     "prompt_number": 81
    },
    {
     "cell_type": "code",
     "collapsed": false,
     "input": [
      "print isinstance(NotImplementedError, Exception)\n",
      "print isinstance(NotImplemented, Exception)\n",
      "type(NotImplemented)"
     ],
     "language": "python",
     "metadata": {},
     "outputs": [
      {
       "output_type": "stream",
       "stream": "stdout",
       "text": [
        "False\n",
        "False\n"
       ]
      },
      {
       "metadata": {},
       "output_type": "pyout",
       "prompt_number": 82,
       "text": [
        "NotImplementedType"
       ]
      }
     ],
     "prompt_number": 82
    },
    {
     "cell_type": "code",
     "collapsed": false,
     "input": [
      "test_jieba_sdtm = vcr.vectorize_text(df=test_text_df,\n",
      "                                     text_col=\"text\", \n",
      "                                     idx_col=\"index\", \n",
      "                                     cond_query={},\n",
      "                                     idx_query= [],\n",
      "                                     vect_gen=vcr.CountVectorizer, \n",
      "                                     vect_gen_init_kwargs = unigram_vec_count_kwargs)"
     ],
     "language": "python",
     "metadata": {},
     "outputs": [],
     "prompt_number": 83
    },
    {
     "cell_type": "code",
     "collapsed": false,
     "input": [
      "test_jieba_sdtm.to_pandas_df"
     ],
     "language": "python",
     "metadata": {},
     "outputs": [
      {
       "html": [
        "<div style=\"max-height:1000px;max-width:1500px;overflow:auto;\">\n",
        "<table border=\"1\" class=\"dataframe\">\n",
        "  <thead>\n",
        "    <tr style=\"text-align: right;\">\n",
        "      <th></th>\n",
        "      <th>\u4e00</th>\n",
        "      <th>\u4eca</th>\n",
        "      <th>\u5237</th>\n",
        "      <th>\u5929</th>\n",
        "      <th>\u597d</th>\n",
        "      <th>\u5b50</th>\n",
        "      <th>\u5b83</th>\n",
        "      <th>\u5f88</th>\n",
        "      <th>\u6068</th>\n",
        "      <th>\u611b</th>\n",
        "      <th>\u6211</th>\n",
        "      <th>\u65e5</th>\n",
        "      <th>\u6c23</th>\n",
        "      <th>\u6d17</th>\n",
        "      <th>\u721b</th>\n",
        "      <th>\u7259</th>\n",
        "      <th>\u81c9</th>\n",
        "      <th>\u8870</th>\n",
        "      <th>\u904e</th>\n",
        "    </tr>\n",
        "  </thead>\n",
        "  <tbody>\n",
        "    <tr>\n",
        "      <th>0</th>\n",
        "      <td> 0</td>\n",
        "      <td> 1</td>\n",
        "      <td> 0</td>\n",
        "      <td> 2</td>\n",
        "      <td> 1</td>\n",
        "      <td> 0</td>\n",
        "      <td> 0</td>\n",
        "      <td> 1</td>\n",
        "      <td> 0</td>\n",
        "      <td> 0</td>\n",
        "      <td> 0</td>\n",
        "      <td> 0</td>\n",
        "      <td> 1</td>\n",
        "      <td> 0</td>\n",
        "      <td> 0</td>\n",
        "      <td> 0</td>\n",
        "      <td> 0</td>\n",
        "      <td> 0</td>\n",
        "      <td> 0</td>\n",
        "    </tr>\n",
        "    <tr>\n",
        "      <th>1</th>\n",
        "      <td> 0</td>\n",
        "      <td> 1</td>\n",
        "      <td> 0</td>\n",
        "      <td> 2</td>\n",
        "      <td> 0</td>\n",
        "      <td> 0</td>\n",
        "      <td> 0</td>\n",
        "      <td> 1</td>\n",
        "      <td> 0</td>\n",
        "      <td> 0</td>\n",
        "      <td> 0</td>\n",
        "      <td> 0</td>\n",
        "      <td> 1</td>\n",
        "      <td> 0</td>\n",
        "      <td> 1</td>\n",
        "      <td> 0</td>\n",
        "      <td> 0</td>\n",
        "      <td> 0</td>\n",
        "      <td> 0</td>\n",
        "    </tr>\n",
        "    <tr>\n",
        "      <th>2</th>\n",
        "      <td> 0</td>\n",
        "      <td> 0</td>\n",
        "      <td> 0</td>\n",
        "      <td> 0</td>\n",
        "      <td> 0</td>\n",
        "      <td> 0</td>\n",
        "      <td> 1</td>\n",
        "      <td> 0</td>\n",
        "      <td> 1</td>\n",
        "      <td> 0</td>\n",
        "      <td> 1</td>\n",
        "      <td> 0</td>\n",
        "      <td> 0</td>\n",
        "      <td> 0</td>\n",
        "      <td> 0</td>\n",
        "      <td> 0</td>\n",
        "      <td> 0</td>\n",
        "      <td> 0</td>\n",
        "      <td> 0</td>\n",
        "    </tr>\n",
        "    <tr>\n",
        "      <th>3</th>\n",
        "      <td> 0</td>\n",
        "      <td> 0</td>\n",
        "      <td> 0</td>\n",
        "      <td> 0</td>\n",
        "      <td> 0</td>\n",
        "      <td> 0</td>\n",
        "      <td> 1</td>\n",
        "      <td> 0</td>\n",
        "      <td> 1</td>\n",
        "      <td> 0</td>\n",
        "      <td> 1</td>\n",
        "      <td> 0</td>\n",
        "      <td> 0</td>\n",
        "      <td> 0</td>\n",
        "      <td> 0</td>\n",
        "      <td> 0</td>\n",
        "      <td> 0</td>\n",
        "      <td> 0</td>\n",
        "      <td> 0</td>\n",
        "    </tr>\n",
        "    <tr>\n",
        "      <th>4</th>\n",
        "      <td> 0</td>\n",
        "      <td> 0</td>\n",
        "      <td> 0</td>\n",
        "      <td> 0</td>\n",
        "      <td> 0</td>\n",
        "      <td> 0</td>\n",
        "      <td> 1</td>\n",
        "      <td> 0</td>\n",
        "      <td> 0</td>\n",
        "      <td> 1</td>\n",
        "      <td> 1</td>\n",
        "      <td> 0</td>\n",
        "      <td> 0</td>\n",
        "      <td> 0</td>\n",
        "      <td> 0</td>\n",
        "      <td> 0</td>\n",
        "      <td> 0</td>\n",
        "      <td> 0</td>\n",
        "      <td> 0</td>\n",
        "    </tr>\n",
        "    <tr>\n",
        "      <th>5</th>\n",
        "      <td> 0</td>\n",
        "      <td> 0</td>\n",
        "      <td> 0</td>\n",
        "      <td> 0</td>\n",
        "      <td> 0</td>\n",
        "      <td> 0</td>\n",
        "      <td> 1</td>\n",
        "      <td> 0</td>\n",
        "      <td> 0</td>\n",
        "      <td> 1</td>\n",
        "      <td> 1</td>\n",
        "      <td> 0</td>\n",
        "      <td> 0</td>\n",
        "      <td> 0</td>\n",
        "      <td> 0</td>\n",
        "      <td> 0</td>\n",
        "      <td> 0</td>\n",
        "      <td> 0</td>\n",
        "      <td> 0</td>\n",
        "    </tr>\n",
        "    <tr>\n",
        "      <th>6</th>\n",
        "      <td> 0</td>\n",
        "      <td> 1</td>\n",
        "      <td> 0</td>\n",
        "      <td> 1</td>\n",
        "      <td> 0</td>\n",
        "      <td> 0</td>\n",
        "      <td> 0</td>\n",
        "      <td> 1</td>\n",
        "      <td> 0</td>\n",
        "      <td> 0</td>\n",
        "      <td> 0</td>\n",
        "      <td> 0</td>\n",
        "      <td> 0</td>\n",
        "      <td> 0</td>\n",
        "      <td> 0</td>\n",
        "      <td> 0</td>\n",
        "      <td> 0</td>\n",
        "      <td> 1</td>\n",
        "      <td> 0</td>\n",
        "    </tr>\n",
        "    <tr>\n",
        "      <th>7</th>\n",
        "      <td> 2</td>\n",
        "      <td> 0</td>\n",
        "      <td> 0</td>\n",
        "      <td> 2</td>\n",
        "      <td> 0</td>\n",
        "      <td> 1</td>\n",
        "      <td> 0</td>\n",
        "      <td> 0</td>\n",
        "      <td> 0</td>\n",
        "      <td> 0</td>\n",
        "      <td> 0</td>\n",
        "      <td> 1</td>\n",
        "      <td> 0</td>\n",
        "      <td> 0</td>\n",
        "      <td> 0</td>\n",
        "      <td> 0</td>\n",
        "      <td> 0</td>\n",
        "      <td> 0</td>\n",
        "      <td> 1</td>\n",
        "    </tr>\n",
        "    <tr>\n",
        "      <th>8</th>\n",
        "      <td> 0</td>\n",
        "      <td> 0</td>\n",
        "      <td> 1</td>\n",
        "      <td> 2</td>\n",
        "      <td> 0</td>\n",
        "      <td> 0</td>\n",
        "      <td> 0</td>\n",
        "      <td> 0</td>\n",
        "      <td> 0</td>\n",
        "      <td> 0</td>\n",
        "      <td> 0</td>\n",
        "      <td> 0</td>\n",
        "      <td> 0</td>\n",
        "      <td> 1</td>\n",
        "      <td> 0</td>\n",
        "      <td> 1</td>\n",
        "      <td> 1</td>\n",
        "      <td> 0</td>\n",
        "      <td> 0</td>\n",
        "    </tr>\n",
        "  </tbody>\n",
        "</table>\n",
        "<p>9 rows \u00d7 19 columns</p>\n",
        "</div>"
       ],
       "metadata": {},
       "output_type": "pyout",
       "prompt_number": 85,
       "text": [
        "   \u4e00  \u4eca  \u5237  \u5929  \u597d  \u5b50  \u5b83  \u5f88  \u6068  \u611b  \u6211  \u65e5  \u6c23  \u6d17  \u721b  \u7259  \u81c9  \u8870  \u904e\n",
        "0  0  1  0  2  1  0  0  1  0  0  0  0  1  0  0  0  0  0  0\n",
        "1  0  1  0  2  0  0  0  1  0  0  0  0  1  0  1  0  0  0  0\n",
        "2  0  0  0  0  0  0  1  0  1  0  1  0  0  0  0  0  0  0  0\n",
        "3  0  0  0  0  0  0  1  0  1  0  1  0  0  0  0  0  0  0  0\n",
        "4  0  0  0  0  0  0  1  0  0  1  1  0  0  0  0  0  0  0  0\n",
        "5  0  0  0  0  0  0  1  0  0  1  1  0  0  0  0  0  0  0  0\n",
        "6  0  1  0  1  0  0  0  1  0  0  0  0  0  0  0  0  0  1  0\n",
        "7  2  0  0  2  0  1  0  0  0  0  0  1  0  0  0  0  0  0  1\n",
        "8  0  0  1  2  0  0  0  0  0  0  0  0  0  1  0  1  1  0  0\n",
        "\n",
        "[9 rows x 19 columns]"
       ]
      }
     ],
     "prompt_number": 85
    },
    {
     "cell_type": "code",
     "collapsed": false,
     "input": [
      "((test_jieba_sdtm.summarize_sdf(L0_col_sum) > 1 ) & (test_jieba_sdtm.summarize_sdf(L0_col_sum) <=3  ))._sub_sdf.to_pandas_df"
     ],
     "language": "python",
     "metadata": {},
     "outputs": [
      {
       "html": [
        "<div style=\"max-height:1000px;max-width:1500px;overflow:auto;\">\n",
        "<table border=\"1\" class=\"dataframe\">\n",
        "  <thead>\n",
        "    <tr style=\"text-align: right;\">\n",
        "      <th></th>\n",
        "      <th>\u4eca</th>\n",
        "      <th>\u5f88</th>\n",
        "      <th>\u6068</th>\n",
        "      <th>\u611b</th>\n",
        "      <th>\u6c23</th>\n",
        "    </tr>\n",
        "  </thead>\n",
        "  <tbody>\n",
        "    <tr>\n",
        "      <th>0</th>\n",
        "      <td> 1</td>\n",
        "      <td> 1</td>\n",
        "      <td> 0</td>\n",
        "      <td> 0</td>\n",
        "      <td> 1</td>\n",
        "    </tr>\n",
        "    <tr>\n",
        "      <th>1</th>\n",
        "      <td> 1</td>\n",
        "      <td> 1</td>\n",
        "      <td> 0</td>\n",
        "      <td> 0</td>\n",
        "      <td> 1</td>\n",
        "    </tr>\n",
        "    <tr>\n",
        "      <th>2</th>\n",
        "      <td> 0</td>\n",
        "      <td> 0</td>\n",
        "      <td> 1</td>\n",
        "      <td> 0</td>\n",
        "      <td> 0</td>\n",
        "    </tr>\n",
        "    <tr>\n",
        "      <th>3</th>\n",
        "      <td> 0</td>\n",
        "      <td> 0</td>\n",
        "      <td> 1</td>\n",
        "      <td> 0</td>\n",
        "      <td> 0</td>\n",
        "    </tr>\n",
        "    <tr>\n",
        "      <th>4</th>\n",
        "      <td> 0</td>\n",
        "      <td> 0</td>\n",
        "      <td> 0</td>\n",
        "      <td> 1</td>\n",
        "      <td> 0</td>\n",
        "    </tr>\n",
        "    <tr>\n",
        "      <th>5</th>\n",
        "      <td> 0</td>\n",
        "      <td> 0</td>\n",
        "      <td> 0</td>\n",
        "      <td> 1</td>\n",
        "      <td> 0</td>\n",
        "    </tr>\n",
        "    <tr>\n",
        "      <th>6</th>\n",
        "      <td> 1</td>\n",
        "      <td> 1</td>\n",
        "      <td> 0</td>\n",
        "      <td> 0</td>\n",
        "      <td> 0</td>\n",
        "    </tr>\n",
        "    <tr>\n",
        "      <th>7</th>\n",
        "      <td> 0</td>\n",
        "      <td> 0</td>\n",
        "      <td> 0</td>\n",
        "      <td> 0</td>\n",
        "      <td> 0</td>\n",
        "    </tr>\n",
        "    <tr>\n",
        "      <th>8</th>\n",
        "      <td> 0</td>\n",
        "      <td> 0</td>\n",
        "      <td> 0</td>\n",
        "      <td> 0</td>\n",
        "      <td> 0</td>\n",
        "    </tr>\n",
        "  </tbody>\n",
        "</table>\n",
        "<p>9 rows \u00d7 5 columns</p>\n",
        "</div>"
       ],
       "metadata": {},
       "output_type": "pyout",
       "prompt_number": 90,
       "text": [
        "   \u4eca  \u5f88  \u6068  \u611b  \u6c23\n",
        "0  1  1  0  0  1\n",
        "1  1  1  0  0  1\n",
        "2  0  0  1  0  0\n",
        "3  0  0  1  0  0\n",
        "4  0  0  0  1  0\n",
        "5  0  0  0  1  0\n",
        "6  1  1  0  0  0\n",
        "7  0  0  0  0  0\n",
        "8  0  0  0  0  0\n",
        "\n",
        "[9 rows x 5 columns]"
       ]
      }
     ],
     "prompt_number": 90
    },
    {
     "cell_type": "code",
     "collapsed": false,
     "input": [],
     "language": "python",
     "metadata": {},
     "outputs": []
    },
    {
     "cell_type": "code",
     "collapsed": false,
     "input": [
      "test_jieba_sdtm._smatrix.nonzero()"
     ],
     "language": "python",
     "metadata": {},
     "outputs": [
      {
       "metadata": {},
       "output_type": "pyout",
       "prompt_number": 11,
       "text": [
        "(array([0, 0, 0, 0, 0, 1, 1, 1, 1, 1, 2, 2, 2, 3, 3, 3, 4, 4, 4, 5, 5, 5, 6,\n",
        "        6, 6, 6, 7, 7, 7, 7, 7, 8, 8, 8, 8, 8], dtype=int32),\n",
        " array([ 1,  3,  4,  7, 12,  1,  3,  7, 12, 14,  6,  8, 10,  6,  8, 10,  6,\n",
        "         9, 10,  6,  9, 10,  1,  3,  7, 17,  0,  3,  5, 11, 18,  2,  3, 13,\n",
        "        15, 16], dtype=int32))"
       ]
      }
     ],
     "prompt_number": 11
    },
    {
     "cell_type": "code",
     "collapsed": false,
     "input": [
      "test_jieba_sdtm.to_pandas_df"
     ],
     "language": "python",
     "metadata": {},
     "outputs": [
      {
       "html": [
        "<div style=\"max-height:1000px;max-width:1500px;overflow:auto;\">\n",
        "<table border=\"1\" class=\"dataframe\">\n",
        "  <thead>\n",
        "    <tr style=\"text-align: right;\">\n",
        "      <th></th>\n",
        "      <th>\u4e00</th>\n",
        "      <th>\u4eca</th>\n",
        "      <th>\u5237</th>\n",
        "      <th>\u5929</th>\n",
        "      <th>\u597d</th>\n",
        "      <th>\u5b50</th>\n",
        "      <th>\u5b83</th>\n",
        "      <th>\u5f88</th>\n",
        "      <th>\u6068</th>\n",
        "      <th>\u611b</th>\n",
        "      <th>\u6211</th>\n",
        "      <th>\u65e5</th>\n",
        "      <th>\u6c23</th>\n",
        "      <th>\u6d17</th>\n",
        "      <th>\u721b</th>\n",
        "      <th>\u7259</th>\n",
        "      <th>\u81c9</th>\n",
        "      <th>\u8870</th>\n",
        "      <th>\u904e</th>\n",
        "    </tr>\n",
        "  </thead>\n",
        "  <tbody>\n",
        "    <tr>\n",
        "      <th>0</th>\n",
        "      <td> 0</td>\n",
        "      <td> 1</td>\n",
        "      <td> 0</td>\n",
        "      <td> 2</td>\n",
        "      <td> 1</td>\n",
        "      <td> 0</td>\n",
        "      <td> 0</td>\n",
        "      <td> 1</td>\n",
        "      <td> 0</td>\n",
        "      <td> 0</td>\n",
        "      <td> 0</td>\n",
        "      <td> 0</td>\n",
        "      <td> 1</td>\n",
        "      <td> 0</td>\n",
        "      <td> 0</td>\n",
        "      <td> 0</td>\n",
        "      <td> 0</td>\n",
        "      <td> 0</td>\n",
        "      <td> 0</td>\n",
        "    </tr>\n",
        "    <tr>\n",
        "      <th>1</th>\n",
        "      <td> 0</td>\n",
        "      <td> 1</td>\n",
        "      <td> 0</td>\n",
        "      <td> 2</td>\n",
        "      <td> 0</td>\n",
        "      <td> 0</td>\n",
        "      <td> 0</td>\n",
        "      <td> 1</td>\n",
        "      <td> 0</td>\n",
        "      <td> 0</td>\n",
        "      <td> 0</td>\n",
        "      <td> 0</td>\n",
        "      <td> 1</td>\n",
        "      <td> 0</td>\n",
        "      <td> 1</td>\n",
        "      <td> 0</td>\n",
        "      <td> 0</td>\n",
        "      <td> 0</td>\n",
        "      <td> 0</td>\n",
        "    </tr>\n",
        "    <tr>\n",
        "      <th>2</th>\n",
        "      <td> 0</td>\n",
        "      <td> 0</td>\n",
        "      <td> 0</td>\n",
        "      <td> 0</td>\n",
        "      <td> 0</td>\n",
        "      <td> 0</td>\n",
        "      <td> 1</td>\n",
        "      <td> 0</td>\n",
        "      <td> 1</td>\n",
        "      <td> 0</td>\n",
        "      <td> 1</td>\n",
        "      <td> 0</td>\n",
        "      <td> 0</td>\n",
        "      <td> 0</td>\n",
        "      <td> 0</td>\n",
        "      <td> 0</td>\n",
        "      <td> 0</td>\n",
        "      <td> 0</td>\n",
        "      <td> 0</td>\n",
        "    </tr>\n",
        "    <tr>\n",
        "      <th>3</th>\n",
        "      <td> 0</td>\n",
        "      <td> 0</td>\n",
        "      <td> 0</td>\n",
        "      <td> 0</td>\n",
        "      <td> 0</td>\n",
        "      <td> 0</td>\n",
        "      <td> 1</td>\n",
        "      <td> 0</td>\n",
        "      <td> 1</td>\n",
        "      <td> 0</td>\n",
        "      <td> 1</td>\n",
        "      <td> 0</td>\n",
        "      <td> 0</td>\n",
        "      <td> 0</td>\n",
        "      <td> 0</td>\n",
        "      <td> 0</td>\n",
        "      <td> 0</td>\n",
        "      <td> 0</td>\n",
        "      <td> 0</td>\n",
        "    </tr>\n",
        "    <tr>\n",
        "      <th>4</th>\n",
        "      <td> 0</td>\n",
        "      <td> 0</td>\n",
        "      <td> 0</td>\n",
        "      <td> 0</td>\n",
        "      <td> 0</td>\n",
        "      <td> 0</td>\n",
        "      <td> 1</td>\n",
        "      <td> 0</td>\n",
        "      <td> 0</td>\n",
        "      <td> 1</td>\n",
        "      <td> 1</td>\n",
        "      <td> 0</td>\n",
        "      <td> 0</td>\n",
        "      <td> 0</td>\n",
        "      <td> 0</td>\n",
        "      <td> 0</td>\n",
        "      <td> 0</td>\n",
        "      <td> 0</td>\n",
        "      <td> 0</td>\n",
        "    </tr>\n",
        "    <tr>\n",
        "      <th>5</th>\n",
        "      <td> 0</td>\n",
        "      <td> 0</td>\n",
        "      <td> 0</td>\n",
        "      <td> 0</td>\n",
        "      <td> 0</td>\n",
        "      <td> 0</td>\n",
        "      <td> 1</td>\n",
        "      <td> 0</td>\n",
        "      <td> 0</td>\n",
        "      <td> 1</td>\n",
        "      <td> 1</td>\n",
        "      <td> 0</td>\n",
        "      <td> 0</td>\n",
        "      <td> 0</td>\n",
        "      <td> 0</td>\n",
        "      <td> 0</td>\n",
        "      <td> 0</td>\n",
        "      <td> 0</td>\n",
        "      <td> 0</td>\n",
        "    </tr>\n",
        "    <tr>\n",
        "      <th>6</th>\n",
        "      <td> 0</td>\n",
        "      <td> 1</td>\n",
        "      <td> 0</td>\n",
        "      <td> 1</td>\n",
        "      <td> 0</td>\n",
        "      <td> 0</td>\n",
        "      <td> 0</td>\n",
        "      <td> 1</td>\n",
        "      <td> 0</td>\n",
        "      <td> 0</td>\n",
        "      <td> 0</td>\n",
        "      <td> 0</td>\n",
        "      <td> 0</td>\n",
        "      <td> 0</td>\n",
        "      <td> 0</td>\n",
        "      <td> 0</td>\n",
        "      <td> 0</td>\n",
        "      <td> 1</td>\n",
        "      <td> 0</td>\n",
        "    </tr>\n",
        "    <tr>\n",
        "      <th>7</th>\n",
        "      <td> 2</td>\n",
        "      <td> 0</td>\n",
        "      <td> 0</td>\n",
        "      <td> 2</td>\n",
        "      <td> 0</td>\n",
        "      <td> 1</td>\n",
        "      <td> 0</td>\n",
        "      <td> 0</td>\n",
        "      <td> 0</td>\n",
        "      <td> 0</td>\n",
        "      <td> 0</td>\n",
        "      <td> 1</td>\n",
        "      <td> 0</td>\n",
        "      <td> 0</td>\n",
        "      <td> 0</td>\n",
        "      <td> 0</td>\n",
        "      <td> 0</td>\n",
        "      <td> 0</td>\n",
        "      <td> 1</td>\n",
        "    </tr>\n",
        "    <tr>\n",
        "      <th>8</th>\n",
        "      <td> 0</td>\n",
        "      <td> 0</td>\n",
        "      <td> 1</td>\n",
        "      <td> 2</td>\n",
        "      <td> 0</td>\n",
        "      <td> 0</td>\n",
        "      <td> 0</td>\n",
        "      <td> 0</td>\n",
        "      <td> 0</td>\n",
        "      <td> 0</td>\n",
        "      <td> 0</td>\n",
        "      <td> 0</td>\n",
        "      <td> 0</td>\n",
        "      <td> 1</td>\n",
        "      <td> 0</td>\n",
        "      <td> 1</td>\n",
        "      <td> 1</td>\n",
        "      <td> 0</td>\n",
        "      <td> 0</td>\n",
        "    </tr>\n",
        "  </tbody>\n",
        "</table>\n",
        "<p>9 rows \u00d7 19 columns</p>\n",
        "</div>"
       ],
       "metadata": {},
       "output_type": "pyout",
       "prompt_number": 12,
       "text": [
        "   \u4e00  \u4eca  \u5237  \u5929  \u597d  \u5b50  \u5b83  \u5f88  \u6068  \u611b  \u6211  \u65e5  \u6c23  \u6d17  \u721b  \u7259  \u81c9  \u8870  \u904e\n",
        "0  0  1  0  2  1  0  0  1  0  0  0  0  1  0  0  0  0  0  0\n",
        "1  0  1  0  2  0  0  0  1  0  0  0  0  1  0  1  0  0  0  0\n",
        "2  0  0  0  0  0  0  1  0  1  0  1  0  0  0  0  0  0  0  0\n",
        "3  0  0  0  0  0  0  1  0  1  0  1  0  0  0  0  0  0  0  0\n",
        "4  0  0  0  0  0  0  1  0  0  1  1  0  0  0  0  0  0  0  0\n",
        "5  0  0  0  0  0  0  1  0  0  1  1  0  0  0  0  0  0  0  0\n",
        "6  0  1  0  1  0  0  0  1  0  0  0  0  0  0  0  0  0  1  0\n",
        "7  2  0  0  2  0  1  0  0  0  0  0  1  0  0  0  0  0  0  1\n",
        "8  0  0  1  2  0  0  0  0  0  0  0  0  0  1  0  1  1  0  0\n",
        "\n",
        "[9 rows x 19 columns]"
       ]
      }
     ],
     "prompt_number": 12
    },
    {
     "cell_type": "code",
     "collapsed": false,
     "input": [],
     "language": "python",
     "metadata": {},
     "outputs": [],
     "prompt_number": 12
    },
    {
     "cell_type": "code",
     "collapsed": false,
     "input": [],
     "language": "python",
     "metadata": {},
     "outputs": [],
     "prompt_number": 12
    },
    {
     "cell_type": "code",
     "collapsed": false,
     "input": [
      "test_idx = test_jieba_sdtm.to_pandas_df.stack().index\n",
      "test_idx"
     ],
     "language": "python",
     "metadata": {},
     "outputs": [
      {
       "metadata": {},
       "output_type": "pyout",
       "prompt_number": 13,
       "text": [
        "MultiIndex(levels=[[0, 1, 2, 3, 4, 5, 6, 7, 8], [u'\u4e00', u'\u4eca', u'\u5237', u'\u5929', u'\u597d', u'\u5b50', u'\u5b83', u'\u5f88', u'\u6068', u'\u611b', u'\u6211', u'\u65e5', u'\u6c23', u'\u6d17', u'\u721b', u'\u7259', u'\u81c9', u'\u8870', u'\u904e']],\n",
        "           labels=[[0, 0, 0, 0, 0, 0, 0, 0, 0, 0, 0, 0, 0, 0, 0, 0, 0, 0, 0, 1, 1, 1, 1, 1, 1, 1, 1, 1, 1, 1, 1, 1, 1, 1, 1, 1, 1, 1, 2, 2, 2, 2, 2, 2, 2, 2, 2, 2, 2, 2, 2, 2, 2, 2, 2, 2, 2, 3, 3, 3, 3, 3, 3, 3, 3, 3, 3, 3, 3, 3, 3, 3, 3, 3, 3, 3, 4, 4, 4, 4, 4, 4, 4, 4, 4, 4, 4, 4, 4, 4, 4, 4, 4, 4, 4, 5, 5, 5, 5, 5, ...], [0, 1, 2, 3, 4, 5, 6, 7, 8, 9, 10, 11, 12, 13, 14, 15, 16, 17, 18, 0, 1, 2, 3, 4, 5, 6, 7, 8, 9, 10, 11, 12, 13, 14, 15, 16, 17, 18, 0, 1, 2, 3, 4, 5, 6, 7, 8, 9, 10, 11, 12, 13, 14, 15, 16, 17, 18, 0, 1, 2, 3, 4, 5, 6, 7, 8, 9, 10, 11, 12, 13, 14, 15, 16, 17, 18, 0, 1, 2, 3, 4, 5, 6, 7, 8, 9, 10, 11, 12, 13, 14, 15, 16, 17, 18, 0, 1, 2, 3, 4, ...]])"
       ]
      }
     ],
     "prompt_number": 13
    },
    {
     "cell_type": "code",
     "collapsed": false,
     "input": [
      "#test_idx.levels"
     ],
     "language": "python",
     "metadata": {},
     "outputs": [],
     "prompt_number": 14
    },
    {
     "cell_type": "code",
     "collapsed": false,
     "input": [
      "#test_idx.labels"
     ],
     "language": "python",
     "metadata": {},
     "outputs": [],
     "prompt_number": 15
    },
    {
     "cell_type": "code",
     "collapsed": false,
     "input": [
      "#print test_idx.labels[1]\n",
      "test_idx.levels[1][test_idx.labels[1]]"
     ],
     "language": "python",
     "metadata": {},
     "outputs": [
      {
       "metadata": {},
       "output_type": "pyout",
       "prompt_number": 16,
       "text": [
        "Index([u'\u4e00', u'\u4eca', u'\u5237', u'\u5929', u'\u597d', u'\u5b50', u'\u5b83', u'\u5f88', u'\u6068', u'\u611b', u'\u6211', u'\u65e5', u'\u6c23', u'\u6d17', u'\u721b', u'\u7259', u'\u81c9', u'\u8870', u'\u904e', u'\u4e00', u'\u4eca', u'\u5237', u'\u5929', u'\u597d', u'\u5b50', u'\u5b83', u'\u5f88', u'\u6068', u'\u611b', u'\u6211', u'\u65e5', u'\u6c23', u'\u6d17', u'\u721b', u'\u7259', u'\u81c9', u'\u8870', u'\u904e', u'\u4e00', u'\u4eca', u'\u5237', u'\u5929', u'\u597d', u'\u5b50', u'\u5b83', u'\u5f88', u'\u6068', u'\u611b', u'\u6211', u'\u65e5', u'\u6c23', u'\u6d17', u'\u721b', u'\u7259', u'\u81c9', u'\u8870', u'\u904e', u'\u4e00', u'\u4eca', u'\u5237', u'\u5929', u'\u597d', u'\u5b50', u'\u5b83', u'\u5f88', u'\u6068', u'\u611b', u'\u6211', u'\u65e5', u'\u6c23', u'\u6d17', u'\u721b', u'\u7259', u'\u81c9', u'\u8870', u'\u904e', u'\u4e00', u'\u4eca', u'\u5237', u'\u5929', u'\u597d', u'\u5b50', u'\u5b83', u'\u5f88', u'\u6068', u'\u611b', u'\u6211', u'\u65e5', u'\u6c23', u'\u6d17', u'\u721b', u'\u7259', u'\u81c9', u'\u8870', u'\u904e', u'\u4e00', u'\u4eca', u'\u5237', u'\u5929', u'\u597d', ...], dtype='object')"
       ]
      }
     ],
     "prompt_number": 16
    },
    {
     "cell_type": "code",
     "collapsed": false,
     "input": [],
     "language": "python",
     "metadata": {},
     "outputs": [],
     "prompt_number": 16
    },
    {
     "cell_type": "code",
     "collapsed": false,
     "input": [
      "\n",
      "class Projector(object):\n",
      "    _root_mf = None\n",
      "    \n",
      "    def __init__(self, on_columns=None, on_rows=None, proj_fn=None):\n",
      "        \n",
      "        assert (on_columns==None) | (on_rows==None) \n",
      "        \n",
      "        if isinstance(on_columns, (np.ndarray, list)):\n",
      "            self._proj_fn = lambda xx:xx[:,on_columns]\n",
      "            \n",
      "        if isinstance(on_rows, (np.ndarray, list)):\n",
      "            self._proj_fn = lambda xx:xx[on_rows,:]\n",
      "            \n",
      "    \n",
      "    \n",
      "    @property\n",
      "    def _projection(self):\n",
      "        _proj_result = self._proj_fn(type(self)._root_mf.values)\n",
      "        #return _proj_result\n",
      "        \n",
      "        \n",
      "        if len(_proj_result.shape) > 1:\n",
      "            \n",
      "            if _proj_result.shape[1] == 1:\n",
      "                _proj_result = _proj_result[:,0]\n",
      "            \n",
      "            elif _proj_result.T.shape[1] == 1:\n",
      "                _proj_result = _proj_result.T[:,0].T\n",
      "        \n",
      "        #print \"self._root_mf.is_matched_col_shape(_proj_result) = \",self._root_mf.is_matched_col_shape(_proj_result)\n",
      "        #print \"self._root_mf.is_matched_row_shape(_proj_result) = \",self._root_mf.is_matched_row_shape(_proj_result)\n",
      "        \n",
      "        return type(self)._root_mf._projection_cls(_proj_result)\n",
      "                \n",
      "            #TODO: _proj_result[1] == 0\n",
      "            #assert _proj_result[1] == 1\n",
      "            #_proj_result = _proj_result[0]\n",
      "        \n",
      "            #return _proj_result\n",
      "    \n",
      "    \n",
      "    def __lt__(self, upper_bound):\n",
      "        return self._projection < upper_bound\n",
      "    \n",
      "    \n",
      "    def __le__(self, upper_bound):\n",
      "        return self._projection <= upper_bound\n",
      "    \n",
      "    \n",
      "    def __gt__(self, lower_bound):\n",
      "        return self._projection > lower_bound\n",
      "        \n",
      "        \n",
      "    def __ge__(self, lower_bound):\n",
      "        return self._projection >= lower_bound\n",
      "\n",
      "\n",
      "\n",
      "class Projection(object):\n",
      "    _root_mf = None\n",
      "\n",
      "    def __init__(self, proj_data):\n",
      "        self._proj_data = proj_data\n",
      "    \n",
      "    \n",
      "    @property\n",
      "    def _is_bool(self):\n",
      "        return self._proj_data.dtype == np.bool\n",
      "    \n",
      "        \n",
      "    def __repr__(self):\n",
      "        return self._proj_data.__repr__()\n",
      "\n",
      "    \n",
      "    def __lt__(self, upper_bound):\n",
      "        return type(self)(proj_data = self._proj_data < upper_bound)\n",
      "    \n",
      "    \n",
      "    def __le__(self, upper_bound):\n",
      "        return type(self)(proj_data = self._proj_data <= upper_bound)\n",
      "    \n",
      "    \n",
      "    def __gt__(self, lower_bound):\n",
      "        return type(self)(proj_data = self._proj_data > lower_bound)\n",
      "        \n",
      "        \n",
      "    def __ge__(self, lower_bound):\n",
      "        return type(self)(proj_data = self._proj_data >= lower_bound)\n",
      "    \n",
      "    \n",
      "    def __and__(self, other_projection):\n",
      "        assert isinstance(other_projection, type(self))\n",
      "        #assert np.array_equal(self[\"summary_idx\"],other_summary[\"summary_idx\"])\n",
      "        assert self._is_bool\n",
      "        assert other_projection._is_bool\n",
      "        \n",
      "        return type(self)(self._proj_data & other_projection._proj_data)\n",
      "    \n",
      "    @property\n",
      "    def _sub_mf(self):\n",
      "        assert self._is_bool\n",
      "        \n",
      "        if type(self)._root_mf.is_matched_col_shape(self._proj_data):        \n",
      "            return type(self)._root_mf.select_columns(select_col = self._proj_data)\n",
      "        \n",
      "        if type(self)._root_mf.is_matched_row_shape(self._proj_data):        \n",
      "            return type(self)._root_mf.select_rows(select_row = self._proj_data)\n",
      "    \n",
      "\n",
      "class ModelFrame(pd.DataFrame):\n",
      "    def __init__(self, df=None, data=None, index=None, columns=None):\n",
      "        if isinstance(df, pd.DataFrame):\n",
      "            super(ModelFrame, self).__init__(df.values, index=df.index, columns=df.columns)\n",
      "        else:\n",
      "            super(ModelFrame, self).__init__(data, index=index, columns=columns)\n",
      "        \n",
      "        #self._col_idx = df.columns\n",
      "        #self._row_idx = df.index\n",
      "        self._projector_cls = type.__new__(type, \"ModelFrameProjector\", (Projector,), {\"_root_mf\":self})\n",
      "        self._projection_cls = type.__new__(type, \"ModelFrameProjection\", (Projection,), {\"_root_mf\":self})\n",
      "    \n",
      "        \n",
      "    def is_matched_col_shape(self, vec):\n",
      "        if isinstance(vec, list):\n",
      "            return len(vec) == self.values.shape[1]\n",
      "        \n",
      "        if isinstance(vec, np.ndarray):\n",
      "            assert len(vec.shape) == 1\n",
      "            return vec.shape[0] == self.values.shape[1]\n",
      "        \n",
      "    def is_matched_row_shape(self,vec):\n",
      "        if isinstance(vec, list):\n",
      "            return len(vec) == self.values.shape[0]\n",
      "        \n",
      "        if isinstance(vec, np.ndarray):\n",
      "            assert len(vec.shape) == 1\n",
      "            return vec.shape[0] == self.values.shape[0]\n",
      "            \n",
      "        \n",
      "    def is_col_vec(self,vec):\n",
      "        return self.is_matched_row_shape(vec)\n",
      "        \n",
      "        \n",
      "    def is_row_vec(self,vec):\n",
      "        return self.is_matched_col_shape(vec)\n",
      "\n",
      "            \n",
      "    def select_columns(self, select_col = None):\n",
      "        \n",
      "        if select_col != None:\n",
      "            if isinstance(select_col, self._projection_cls) and select_col._is_bool:\n",
      "                _select_col_idx = select_col._proj_data\n",
      "            else:\n",
      "                _select_col_idx = select_col\n",
      "        else:\n",
      "            _select_col_idx = np.arange(len(self.col_idx))\n",
      "        \n",
      "        new_col_idx = self.columns[_select_col_idx]\n",
      "        \n",
      "        new_smatrix = self.values[:,_select_col_idx]\n",
      "        \n",
      "        return type(self)(data = new_smatrix,\n",
      "                          index = self.index,\n",
      "                          columns = new_col_idx)\n",
      "    \n",
      "    \n",
      "    def select_rows(self, select_row = None):\n",
      "        \n",
      "        if select_row != None:\n",
      "            if isinstance(select_row, self._projection_cls) and select_row._is_bool:\n",
      "                _select_row_idx = select_row._proj_data\n",
      "            else:\n",
      "                _select_row_idx = select_row\n",
      "        else:\n",
      "            _select_col_idx = np.arange(len(self.col_idx))\n",
      "            \n",
      "        new_row_idx = self.index[_select_row_idx]\n",
      "        \n",
      "        new_smatrix = self.values[_select_row_idx,:]\n",
      "        \n",
      "        return type(self)(data = new_smatrix,\n",
      "                          index = new_row_idx,\n",
      "                          columns = self.columns)\n",
      "\n",
      "    \n",
      "    def sub_mf(self, select_col = None, select_row = None):\n",
      "        return self.select_columns(select_col).select_rows(select_row)\n",
      "    \n",
      "        \n",
      "    \n",
      "        "
     ],
     "language": "python",
     "metadata": {},
     "outputs": [],
     "prompt_number": 17
    },
    {
     "cell_type": "code",
     "collapsed": false,
     "input": [
      "#test_jieba_sdtm.to_pandas_df.index\n",
      "\n",
      "test_jieba_sdtm.to_pandas_df.columns"
     ],
     "language": "python",
     "metadata": {},
     "outputs": [
      {
       "metadata": {},
       "output_type": "pyout",
       "prompt_number": 18,
       "text": [
        "Index([u'\u4e00', u'\u4eca', u'\u5237', u'\u5929', u'\u597d', u'\u5b50', u'\u5b83', u'\u5f88', u'\u6068', u'\u611b', u'\u6211', u'\u65e5', u'\u6c23', u'\u6d17', u'\u721b', u'\u7259', u'\u81c9', u'\u8870', u'\u904e'], dtype='object')"
       ]
      }
     ],
     "prompt_number": 18
    },
    {
     "cell_type": "code",
     "collapsed": false,
     "input": [
      "mf = ModelFrame(test_jieba_sdtm.to_pandas_df)\n",
      "mf2 = ModelFrame(test_jieba_sdtm.to_pandas_df)\n"
     ],
     "language": "python",
     "metadata": {},
     "outputs": [],
     "prompt_number": 102
    },
    {
     "cell_type": "code",
     "collapsed": false,
     "input": [
      "print mf._projector_cls\n",
      "print mf2._projector_cls\n",
      "print id(mf._projector_cls)\n",
      "print id(mf2._projector_cls)"
     ],
     "language": "python",
     "metadata": {},
     "outputs": [
      {
       "output_type": "stream",
       "stream": "stdout",
       "text": [
        "<class '__main__.ModelFrameProjector'>\n",
        "<class '__main__.ModelFrameProjector'>\n",
        "1538185584\n",
        "57879872\n"
       ]
      }
     ],
     "prompt_number": 106
    },
    {
     "cell_type": "code",
     "collapsed": false,
     "input": [
      "X1 = mf._projector_cls(on_columns=[3])\n",
      "X2 = mf._projector_cls(on_columns=[7])"
     ],
     "language": "python",
     "metadata": {},
     "outputs": [],
     "prompt_number": 95
    },
    {
     "cell_type": "code",
     "collapsed": false,
     "input": [
      "X2._projection"
     ],
     "language": "python",
     "metadata": {},
     "outputs": [
      {
       "metadata": {},
       "output_type": "pyout",
       "prompt_number": 21,
       "text": [
        "array([1, 1, 0, 0, 0, 0, 1, 0, 0])"
       ]
      }
     ],
     "prompt_number": 21
    },
    {
     "cell_type": "code",
     "collapsed": false,
     "input": [
      "\n",
      "#print mf.sum(0)\n",
      "#print mf.sum(1)\n",
      "\n",
      "\n",
      "print X1._projection\n",
      "print type(X1._projection._proj_data)\n",
      "\n",
      "P = P_gne(**kwargs) \n",
      "f = lm(...)\n",
      "f(X2|((X2 >= 1) & (X1 <= 2))) == Y"
     ],
     "language": "python",
     "metadata": {},
     "outputs": [
      {
       "output_type": "stream",
       "stream": "stdout",
       "text": [
        "array([2, 2, 0, 0, 0, 0, 1, 2, 2])\n",
        "<type 'numpy.ndarray'>\n"
       ]
      },
      {
       "ename": "NameError",
       "evalue": "name 'P_gne' is not defined",
       "output_type": "pyerr",
       "traceback": [
        "\u001b[1;31m---------------------------------------------------------------------------\u001b[0m\n\u001b[1;31mNameError\u001b[0m                                 Traceback (most recent call last)",
        "\u001b[1;32m<ipython-input-101-86f820520b41>\u001b[0m in \u001b[0;36m<module>\u001b[1;34m()\u001b[0m\n\u001b[0;32m      7\u001b[0m \u001b[1;32mprint\u001b[0m \u001b[0mtype\u001b[0m\u001b[1;33m(\u001b[0m\u001b[0mX1\u001b[0m\u001b[1;33m.\u001b[0m\u001b[0m_projection\u001b[0m\u001b[1;33m.\u001b[0m\u001b[0m_proj_data\u001b[0m\u001b[1;33m)\u001b[0m\u001b[1;33m\u001b[0m\u001b[0m\n\u001b[0;32m      8\u001b[0m \u001b[1;33m\u001b[0m\u001b[0m\n\u001b[1;32m----> 9\u001b[1;33m \u001b[0mP\u001b[0m \u001b[1;33m=\u001b[0m \u001b[0mP_gne\u001b[0m\u001b[1;33m(\u001b[0m\u001b[1;33m**\u001b[0m\u001b[0mkwargs\u001b[0m\u001b[1;33m)\u001b[0m\u001b[1;33m\u001b[0m\u001b[0m\n\u001b[0m\u001b[0;32m     10\u001b[0m \u001b[0mP\u001b[0m\u001b[1;33m(\u001b[0m\u001b[0mX2\u001b[0m\u001b[1;33m|\u001b[0m\u001b[1;33m(\u001b[0m\u001b[1;33m(\u001b[0m\u001b[0mX2\u001b[0m \u001b[1;33m>=\u001b[0m \u001b[1;36m1\u001b[0m\u001b[1;33m)\u001b[0m \u001b[1;33m&\u001b[0m \u001b[1;33m(\u001b[0m\u001b[0mX1\u001b[0m \u001b[1;33m<=\u001b[0m \u001b[1;36m2\u001b[0m\u001b[1;33m)\u001b[0m\u001b[1;33m)\u001b[0m\u001b[1;33m)\u001b[0m\u001b[1;33m\u001b[0m\u001b[0m\n",
        "\u001b[1;31mNameError\u001b[0m: name 'P_gne' is not defined"
       ]
      }
     ],
     "prompt_number": 101
    },
    {
     "cell_type": "code",
     "collapsed": false,
     "input": [
      "P = p_gen(...)\n",
      "f = svm_gen(...)\n",
      "f(X2|X1>=1&X!<=2) = Y\n",
      "\n",
      "f(...) "
     ],
     "language": "python",
     "metadata": {},
     "outputs": []
    },
    {
     "cell_type": "code",
     "collapsed": false,
     "input": [
      "mf.select_columns([0,1])\n",
      "#mf.values[0,0] = 1\n",
      "#X1._projection"
     ],
     "language": "python",
     "metadata": {},
     "outputs": [
      {
       "html": [
        "<div style=\"max-height:1000px;max-width:1500px;overflow:auto;\">\n",
        "<table border=\"1\" class=\"dataframe\">\n",
        "  <thead>\n",
        "    <tr style=\"text-align: right;\">\n",
        "      <th></th>\n",
        "      <th>\u4e00</th>\n",
        "      <th>\u4eca</th>\n",
        "    </tr>\n",
        "  </thead>\n",
        "  <tbody>\n",
        "    <tr>\n",
        "      <th>0</th>\n",
        "      <td> 0</td>\n",
        "      <td> 1</td>\n",
        "    </tr>\n",
        "    <tr>\n",
        "      <th>1</th>\n",
        "      <td> 0</td>\n",
        "      <td> 1</td>\n",
        "    </tr>\n",
        "    <tr>\n",
        "      <th>2</th>\n",
        "      <td> 0</td>\n",
        "      <td> 0</td>\n",
        "    </tr>\n",
        "    <tr>\n",
        "      <th>3</th>\n",
        "      <td> 0</td>\n",
        "      <td> 0</td>\n",
        "    </tr>\n",
        "    <tr>\n",
        "      <th>4</th>\n",
        "      <td> 0</td>\n",
        "      <td> 0</td>\n",
        "    </tr>\n",
        "    <tr>\n",
        "      <th>5</th>\n",
        "      <td> 0</td>\n",
        "      <td> 0</td>\n",
        "    </tr>\n",
        "    <tr>\n",
        "      <th>6</th>\n",
        "      <td> 0</td>\n",
        "      <td> 1</td>\n",
        "    </tr>\n",
        "    <tr>\n",
        "      <th>7</th>\n",
        "      <td> 2</td>\n",
        "      <td> 0</td>\n",
        "    </tr>\n",
        "    <tr>\n",
        "      <th>8</th>\n",
        "      <td> 0</td>\n",
        "      <td> 0</td>\n",
        "    </tr>\n",
        "  </tbody>\n",
        "</table>\n",
        "<p>9 rows \u00d7 2 columns</p>\n",
        "</div>"
       ],
       "metadata": {},
       "output_type": "pyout",
       "prompt_number": 23,
       "text": [
        "   \u4e00  \u4eca\n",
        "0  0  1\n",
        "1  0  1\n",
        "2  0  0\n",
        "3  0  0\n",
        "4  0  0\n",
        "5  0  0\n",
        "6  0  1\n",
        "7  2  0\n",
        "8  0  0\n",
        "\n",
        "[9 rows x 2 columns]"
       ]
      }
     ],
     "prompt_number": 23
    },
    {
     "cell_type": "code",
     "collapsed": false,
     "input": [
      "print id(X1._root_mf)\n",
      "print id(mf)\n"
     ],
     "language": "python",
     "metadata": {},
     "outputs": [
      {
       "output_type": "stream",
       "stream": "stdout",
       "text": [
        "76574800\n",
        "76574800\n"
       ]
      }
     ],
     "prompt_number": 23
    },
    {
     "cell_type": "code",
     "collapsed": false,
     "input": [
      "#print X1._projection[:,0]\n",
      "#print X1._projection.T.shape\n",
      "#print X1._projection.T[0,:].T\n"
     ],
     "language": "python",
     "metadata": {},
     "outputs": [],
     "prompt_number": 24
    },
    {
     "cell_type": "code",
     "collapsed": false,
     "input": [],
     "language": "python",
     "metadata": {},
     "outputs": [],
     "prompt_number": 24
    },
    {
     "cell_type": "code",
     "collapsed": false,
     "input": [],
     "language": "python",
     "metadata": {},
     "outputs": [],
     "prompt_number": 24
    },
    {
     "cell_type": "code",
     "collapsed": false,
     "input": [
      "print map(unigram_without_html_tokenizer,test_text_df[\"text\"])"
     ],
     "language": "python",
     "metadata": {},
     "outputs": [
      {
       "output_type": "stream",
       "stream": "stdout",
       "text": [
        "[[u'\\u4eca', u'\\u5929', u'\\u5929', u'\\u6c23', u'\\u5f88', u'\\u597d'], [u'\\u4eca', u'\\u5929', u'\\u5929', u'\\u6c23', u'\\u5f88', u'\\u721b'], [u'\\u6211', u'\\u6068', u'\\u5b83'], [u'\\u5b83', u'\\u6068', u'\\u6211'], [u'\\u6211', u'\\u611b', u'\\u5b83'], [u'\\u5b83', u'\\u611b', u'\\u6211'], [u'\\u4eca', u'\\u5929', u'\\u5f88', u'\\u8870'], ['\\xe6', '\\x97', '\\xa5', '\\xe5', '\\xad', '\\x90', '\\xe4', '\\xb8', '\\x80', '\\xe5', '\\xa4', '\\xa9', '\\xe4', '\\xb8', '\\x80', '\\xe5', '\\xa4', '\\xa9', '\\xe9', '\\x81', '\\x8e'], ['\\xe5', '\\xa4', '\\xa9', '\\xe5', '\\xa4', '\\xa9', '\\xe5', '\\x88', '\\xb7', '\\xe7', '\\x89', '\\x99', '\\xe6', '\\xb4', '\\x97', '\\xe8', '\\x87', '\\x89']]\n"
       ]
      }
     ],
     "prompt_number": 25
    },
    {
     "cell_type": "code",
     "collapsed": false,
     "input": [
      "np.array(map(unigram_without_html_tokenizer,test_text_df[\"text\"])[0])"
     ],
     "language": "python",
     "metadata": {},
     "outputs": [
      {
       "metadata": {},
       "output_type": "pyout",
       "prompt_number": 26,
       "text": [
        "array([u'\\u4eca', u'\\u5929', u'\\u5929', u'\\u6c23', u'\\u5f88', u'\\u597d'], \n",
        "      dtype='<U1')"
       ]
      }
     ],
     "prompt_number": 26
    },
    {
     "cell_type": "code",
     "collapsed": false,
     "input": [
      "np.array(map(bigram_without_html_tokenizer,test_text_df[\"text\"])[0], dtype=None)"
     ],
     "language": "python",
     "metadata": {},
     "outputs": [
      {
       "metadata": {},
       "output_type": "pyout",
       "prompt_number": 27,
       "text": [
        "array([u'\\u4eca\\u5929', u'\\u5929\\u5929', u'\\u5929\\u6c23', u'\\u6c23\\u5f88',\n",
        "       u'\\u5f88\\u597d'], \n",
        "      dtype='<U2')"
       ]
      }
     ],
     "prompt_number": 27
    },
    {
     "cell_type": "code",
     "collapsed": false,
     "input": [
      "\n",
      "class KeysDictionary(np.ndarray):\n",
      "    def __new__(cls, data, dtype=None):\n",
      "        print \"[In KeysDictionary.__new__] cls = \",cls\n",
      "        if isinstance(data, cls):\n",
      "            return data\n",
      "        else:\n",
      "            data_vec = np.array(data, dtype=dtype).view(cls)\n",
      "            return data_vec\n",
      "\n",
      "\n",
      "class KeyValueDataVector(np.ndarray):\n",
      "    def __new__(cls, data, dtype=None):\n",
      "        print \"[In KeyValueDict.__new__] cls = \",cls\n",
      "        if isinstance(data, cls):\n",
      "            return data\n",
      "        else:\n",
      "            data_vec = np.array(data, dtype=dtype)\n",
      "            uni_values, idx_vec = np.unique(data_vec, return_inverse=True)\n",
      "            kvd_vec = np.array(idx_vec).view(cls)\n",
      "            kvd_vec._dict_of_keys = uni_values.view(cls)\n",
      "            return kvd_vec\n",
      "    \n",
      "    \n",
      "    #def _key_vec\n",
      "    \n",
      "\n",
      "\n",
      "class DataVector(np.ndarray):\n",
      "    def __new__(cls, data, dtype=None):\n",
      "        data_vec = np.array(data, dtype=dtype).view(cls)\n",
      "        return data_vec\n",
      "    \n",
      "    @property\n",
      "    def _is_char(self):\n",
      "        return self.dtype.type in (np.unicode,np.unicode_,np.str,np.str_)\n",
      "    \n",
      "    \n",
      "    \n",
      "    \n",
      "\n",
      "    "
     ],
     "language": "python",
     "metadata": {},
     "outputs": [],
     "prompt_number": 30
    },
    {
     "cell_type": "code",
     "collapsed": false,
     "input": [
      "\n"
     ],
     "language": "python",
     "metadata": {},
     "outputs": [],
     "prompt_number": 30
    },
    {
     "cell_type": "code",
     "collapsed": false,
     "input": [
      "#PtrVector\n",
      "#StateSpace"
     ],
     "language": "python",
     "metadata": {},
     "outputs": [],
     "prompt_number": 31
    },
    {
     "cell_type": "code",
     "collapsed": false,
     "input": [],
     "language": "python",
     "metadata": {},
     "outputs": [],
     "prompt_number": 31
    },
    {
     "cell_type": "code",
     "collapsed": false,
     "input": [],
     "language": "python",
     "metadata": {},
     "outputs": [],
     "prompt_number": 31
    },
    {
     "cell_type": "code",
     "collapsed": false,
     "input": [],
     "language": "python",
     "metadata": {},
     "outputs": [],
     "prompt_number": 31
    },
    {
     "cell_type": "code",
     "collapsed": false,
     "input": [],
     "language": "python",
     "metadata": {},
     "outputs": [],
     "prompt_number": 31
    },
    {
     "cell_type": "code",
     "collapsed": false,
     "input": [
      "test_kvd = KeyValueDataVector(unigram_without_html_tokenizer(test_text_df[\"text\"][0]))\n",
      "test_kvd"
     ],
     "language": "python",
     "metadata": {},
     "outputs": [
      {
       "output_type": "stream",
       "stream": "stdout",
       "text": [
        "[In KeyValueDict.__new__] cls =  <class '__main__.KeyValueDataVector'>\n"
       ]
      },
      {
       "metadata": {},
       "output_type": "pyout",
       "prompt_number": 34,
       "text": [
        "KeyValueDataVector([0, 1, 1, 4, 3, 2])"
       ]
      }
     ],
     "prompt_number": 34
    },
    {
     "cell_type": "code",
     "collapsed": false,
     "input": [
      "test_kvd._dict_of_keys[test_kvd]"
     ],
     "language": "python",
     "metadata": {},
     "outputs": [
      {
       "metadata": {},
       "output_type": "pyout",
       "prompt_number": 35,
       "text": [
        "KeyValueDataVector([u'\\u4eca', u'\\u5929', u'\\u5929', u'\\u6c23', u'\\u5f88', u'\\u597d'], \n",
        "      dtype='<U1')"
       ]
      }
     ],
     "prompt_number": 35
    },
    {
     "cell_type": "code",
     "collapsed": false,
     "input": [],
     "language": "python",
     "metadata": {},
     "outputs": []
    },
    {
     "cell_type": "code",
     "collapsed": false,
     "input": [
      "text_vec = DataVector(unigram_without_html_tokenizer(test_text_df[\"text\"][0]))"
     ],
     "language": "python",
     "metadata": {},
     "outputs": [],
     "prompt_number": 30
    },
    {
     "cell_type": "code",
     "collapsed": false,
     "input": [
      "text_vec._is_char"
     ],
     "language": "python",
     "metadata": {},
     "outputs": [
      {
       "metadata": {},
       "output_type": "pyout",
       "prompt_number": 31,
       "text": [
        "True"
       ]
      }
     ],
     "prompt_number": 31
    },
    {
     "cell_type": "code",
     "collapsed": false,
     "input": [
      "vec_of_uni_values, vec_of_keys = np.unique(text_vec, return_inverse=True)"
     ],
     "language": "python",
     "metadata": {},
     "outputs": [],
     "prompt_number": 49
    },
    {
     "cell_type": "code",
     "collapsed": false,
     "input": [
      "vec_of_keys"
     ],
     "language": "python",
     "metadata": {},
     "outputs": [
      {
       "metadata": {},
       "output_type": "pyout",
       "prompt_number": 50,
       "text": [
        "array([0, 1, 1, 4, 3, 2])"
       ]
      }
     ],
     "prompt_number": 50
    },
    {
     "cell_type": "code",
     "collapsed": false,
     "input": [
      "vec_of_uni_values"
     ],
     "language": "python",
     "metadata": {},
     "outputs": [
      {
       "metadata": {},
       "output_type": "pyout",
       "prompt_number": 51,
       "text": [
        "DataVector([u'\\u4eca', u'\\u5929', u'\\u597d', u'\\u5f88', u'\\u6c23'], \n",
        "      dtype='<U1')"
       ]
      }
     ],
     "prompt_number": 51
    },
    {
     "cell_type": "code",
     "collapsed": false,
     "input": [
      "vec_of_uni_values.dtype, vec_of_keys.dtype"
     ],
     "language": "python",
     "metadata": {},
     "outputs": [
      {
       "metadata": {},
       "output_type": "pyout",
       "prompt_number": 52,
       "text": [
        "(dtype('<U1'), dtype('int64'))"
       ]
      }
     ],
     "prompt_number": 52
    },
    {
     "cell_type": "code",
     "collapsed": false,
     "input": [
      "test_vec = np.r_[vec_of_uni_values[vec_of_keys],vec_of_uni_values[vec_of_keys]]\n",
      "test_vec"
     ],
     "language": "python",
     "metadata": {},
     "outputs": [
      {
       "metadata": {},
       "output_type": "pyout",
       "prompt_number": 41,
       "text": [
        "array([u'\\u4eca', u'\\u4eca', u'\\u5929', u'\\u5929', u'\\u5929', u'\\u5929',\n",
        "       u'\\u6c23', u'\\u6c23', u'\\u5f88', u'\\u5f88', u'\\u597d', u'\\u597d',\n",
        "       u'\\u4eca', u'\\u4eca', u'\\u5929', u'\\u5929', u'\\u5929', u'\\u5929',\n",
        "       u'\\u6c23', u'\\u6c23', u'\\u5f88', u'\\u5f88', u'\\u597d', u'\\u597d'], \n",
        "      dtype='<U1')"
       ]
      }
     ],
     "prompt_number": 41
    },
    {
     "cell_type": "code",
     "collapsed": false,
     "input": [
      "vec_of_uni_values, vec_of_keys = np.unique(test_vec, return_inverse=True)"
     ],
     "language": "python",
     "metadata": {},
     "outputs": [],
     "prompt_number": 45
    },
    {
     "cell_type": "code",
     "collapsed": false,
     "input": [
      "vec_of_uni_values"
     ],
     "language": "python",
     "metadata": {},
     "outputs": [
      {
       "metadata": {},
       "output_type": "pyout",
       "prompt_number": 46,
       "text": [
        "array([u'\\u4eca', u'\\u5929', u'\\u597d', u'\\u5f88', u'\\u6c23'], \n",
        "      dtype='<U1')"
       ]
      }
     ],
     "prompt_number": 46
    },
    {
     "cell_type": "code",
     "collapsed": false,
     "input": [
      "vec_of_keys "
     ],
     "language": "python",
     "metadata": {},
     "outputs": [
      {
       "metadata": {},
       "output_type": "pyout",
       "prompt_number": 47,
       "text": [
        "array([0, 0, 1, 1, 1, 1, 4, 4, 3, 3, 2, 2, 0, 0, 1, 1, 1, 1, 4, 4, 3, 3, 2,\n",
        "       2])"
       ]
      }
     ],
     "prompt_number": 47
    },
    {
     "cell_type": "code",
     "collapsed": false,
     "input": [],
     "language": "python",
     "metadata": {},
     "outputs": [],
     "prompt_number": 44
    },
    {
     "cell_type": "code",
     "collapsed": false,
     "input": [],
     "language": "python",
     "metadata": {},
     "outputs": []
    },
    {
     "cell_type": "code",
     "collapsed": false,
     "input": [],
     "language": "python",
     "metadata": {},
     "outputs": []
    },
    {
     "cell_type": "code",
     "collapsed": false,
     "input": [
      "print \"// \".join(DataVector(unigram_without_html_tokenizer(test_text_df[\"text\"][0])))"
     ],
     "language": "python",
     "metadata": {},
     "outputs": [
      {
       "output_type": "stream",
       "stream": "stdout",
       "text": [
        "\u4eca// \u5929// \u5929// \u6c23// \u5f88// \u597d\n"
       ]
      }
     ],
     "prompt_number": 120
    },
    {
     "cell_type": "code",
     "collapsed": false,
     "input": [
      "print DataVector(unigram_without_html_tokenizer(test_text_df[\"text\"][0]))\n",
      "print np.unique(DataVector(unigram_without_html_tokenizer(test_text_df[\"text\"][0])))\n",
      "temp = DataVector(unigram_without_html_tokenizer(test_text_df[\"text\"][0])).tolist()\n",
      "temp.reverse()\n",
      "print np.unique(temp)"
     ],
     "language": "python",
     "metadata": {},
     "outputs": [
      {
       "output_type": "stream",
       "stream": "stdout",
       "text": [
        "[u'\\u4eca' u'\\u5929' u'\\u5929' u'\\u6c23' u'\\u5f88' u'\\u597d']\n",
        "[u'\\u4eca' u'\\u5929' u'\\u597d' u'\\u5f88' u'\\u6c23']\n",
        "[u'\\u4eca' u'\\u5929' u'\\u597d' u'\\u5f88' u'\\u6c23']\n"
       ]
      }
     ],
     "prompt_number": 121
    },
    {
     "cell_type": "code",
     "collapsed": false,
     "input": [
      "u, i = np.unique(DataVector(unigram_without_html_tokenizer(test_text_df[\"text\"][0])), return_inverse=True)"
     ],
     "language": "python",
     "metadata": {},
     "outputs": [],
     "prompt_number": 122
    },
    {
     "cell_type": "code",
     "collapsed": false,
     "input": [
      "u._is_char"
     ],
     "language": "python",
     "metadata": {},
     "outputs": [
      {
       "metadata": {},
       "output_type": "pyout",
       "prompt_number": 123,
       "text": [
        "True"
       ]
      }
     ],
     "prompt_number": 123
    },
    {
     "cell_type": "code",
     "collapsed": false,
     "input": [
      "i"
     ],
     "language": "python",
     "metadata": {},
     "outputs": [
      {
       "metadata": {},
       "output_type": "pyout",
       "prompt_number": 105,
       "text": [
        "array([0, 1, 1, 4, 3, 2])"
       ]
      }
     ],
     "prompt_number": 105
    },
    {
     "cell_type": "code",
     "collapsed": false,
     "input": [],
     "language": "python",
     "metadata": {},
     "outputs": [],
     "prompt_number": 107
    },
    {
     "cell_type": "code",
     "collapsed": false,
     "input": [
      "test = np.array([[1.,2.,3.],[4.,5.,6.]]) \n",
      "#test.dtype"
     ],
     "language": "python",
     "metadata": {},
     "outputs": [],
     "prompt_number": 52
    },
    {
     "cell_type": "code",
     "collapsed": false,
     "input": [
      "#test1 = test.astype(np.dtype([(\"a\",test.dtype,(3,1)),(\"b\",test.dtype,(3,1))]))\n",
      "test1 = test.astype(np.dtype([(\"a\",test.dtype,(1,3))]))"
     ],
     "language": "python",
     "metadata": {},
     "outputs": [],
     "prompt_number": 46
    },
    {
     "cell_type": "code",
     "collapsed": false,
     "input": [
      "test1.dtype"
     ],
     "language": "python",
     "metadata": {},
     "outputs": [
      {
       "metadata": {},
       "output_type": "pyout",
       "prompt_number": 47,
       "text": [
        "dtype([('a', '<f8', (1, 3))])"
       ]
      }
     ],
     "prompt_number": 47
    },
    {
     "cell_type": "code",
     "collapsed": false,
     "input": [
      "test1"
     ],
     "language": "python",
     "metadata": {},
     "outputs": [
      {
       "metadata": {},
       "output_type": "pyout",
       "prompt_number": 48,
       "text": [
        "array([[([[1.0, 1.0, 1.0]],), ([[2.0, 2.0, 2.0]],), ([[3.0, 3.0, 3.0]],)],\n",
        "       [([[4.0, 4.0, 4.0]],), ([[5.0, 5.0, 5.0]],), ([[6.0, 6.0, 6.0]],)]], \n",
        "      dtype=[('a', '<f8', (1, 3))])"
       ]
      }
     ],
     "prompt_number": 48
    },
    {
     "cell_type": "code",
     "collapsed": false,
     "input": [
      "print np.vstack([test,test])\n",
      "print np.hstack([test,test])"
     ],
     "language": "python",
     "metadata": {},
     "outputs": [
      {
       "output_type": "stream",
       "stream": "stdout",
       "text": [
        "[[ 1.  2.  3.]\n",
        " [ 4.  5.  6.]\n",
        " [ 1.  2.  3.]\n",
        " [ 4.  5.  6.]]\n",
        "[[ 1.  2.  3.  1.  2.  3.]\n",
        " [ 4.  5.  6.  4.  5.  6.]]\n"
       ]
      }
     ],
     "prompt_number": 55
    },
    {
     "cell_type": "code",
     "collapsed": false,
     "input": [
      "text_vec = DataVector(bigram_without_html_tokenizer(test_text_df[\"text\"][0]))\n",
      "text_vec"
     ],
     "language": "python",
     "metadata": {},
     "outputs": [
      {
       "metadata": {},
       "output_type": "pyout",
       "prompt_number": 56,
       "text": [
        "DataVector([u'\\u4eca\\u5929', u'\\u5929\\u5929', u'\\u5929\\u6c23', u'\\u6c23\\u5f88',\n",
        "       u'\\u5f88\\u597d'], \n",
        "      dtype='<U2')"
       ]
      }
     ],
     "prompt_number": 56
    },
    {
     "cell_type": "code",
     "collapsed": false,
     "input": [
      "text_vec_ptr = np.arange(text_vec.shape[0],dtype=np.int64)\n",
      "text_vec_ptr"
     ],
     "language": "python",
     "metadata": {},
     "outputs": [
      {
       "metadata": {},
       "output_type": "pyout",
       "prompt_number": 58,
       "text": [
        "array([0, 1, 2, 3, 4])"
       ]
      }
     ],
     "prompt_number": 58
    },
    {
     "cell_type": "code",
     "collapsed": false,
     "input": [
      "%time tt = np.array(zip(text_vec,text_vec_ptr),dtype=np.dtype([(\"text\",text_vec.dtype),(\"ptr\",text_vec_ptr.dtype)]))"
     ],
     "language": "python",
     "metadata": {},
     "outputs": [
      {
       "output_type": "stream",
       "stream": "stdout",
       "text": [
        "CPU times: user 0 ns, sys: 0 ns, total: 0 ns\n",
        "Wall time: 94.2 \u00b5s\n"
       ]
      }
     ],
     "prompt_number": 75
    },
    {
     "cell_type": "code",
     "collapsed": false,
     "input": [
      "tt"
     ],
     "language": "python",
     "metadata": {},
     "outputs": [
      {
       "metadata": {},
       "output_type": "pyout",
       "prompt_number": 72,
       "text": [
        "array([(u'\\u4eca\\u5929', 0), (u'\\u5929\\u5929', 1), (u'\\u5929\\u6c23', 2),\n",
        "       (u'\\u6c23\\u5f88', 3), (u'\\u5f88\\u597d', 4)], \n",
        "      dtype=[('text', '<U2'), ('ptr', '<i8')])"
       ]
      }
     ],
     "prompt_number": 72
    },
    {
     "cell_type": "code",
     "collapsed": false,
     "input": [],
     "language": "python",
     "metadata": {},
     "outputs": [],
     "prompt_number": 69
    },
    {
     "cell_type": "code",
     "collapsed": false,
     "input": [],
     "language": "python",
     "metadata": {},
     "outputs": []
    }
   ],
   "metadata": {}
  }
 ]
}