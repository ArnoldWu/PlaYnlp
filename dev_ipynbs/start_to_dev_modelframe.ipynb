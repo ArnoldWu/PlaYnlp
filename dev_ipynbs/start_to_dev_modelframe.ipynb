{
 "metadata": {
  "name": "",
  "signature": "sha256:2cc8cd63e86195a3e5f2a386e1bf5f1d240701bd5a439e9155272e94675e6f0e"
 },
 "nbformat": 3,
 "nbformat_minor": 0,
 "worksheets": [
  {
   "cells": [
    {
     "cell_type": "code",
     "collapsed": false,
     "input": [
      "import PlaYnlp.tokenizer as tkr \n",
      "import PlaYnlp.vectorizer as vcr\n",
      "from PlaYnlp import dataio\n",
      "import PlaYnlp.analysis.heuristics.text_clustering.weighted_features_methods as wfms\n",
      "\n",
      "from PlaYnlp.sparse import L0_norm_col_summarizer as L0_col_sum\n",
      "from PlaYnlp.sparse import L1_norm_col_summarizer as L1_col_sum\n",
      "import numpy as np\n",
      "import scipy as sp"
     ],
     "language": "python",
     "metadata": {},
     "outputs": [],
     "prompt_number": 12
    },
    {
     "cell_type": "code",
     "collapsed": false,
     "input": [],
     "language": "python",
     "metadata": {},
     "outputs": [],
     "prompt_number": 12
    },
    {
     "cell_type": "code",
     "collapsed": false,
     "input": [
      "jieba_without_html_tokenizer = tkr.tokenize_gen(lambda text:tkr.jieba.cut(tkr.nltk.clean_html(text)))\n",
      "unigram_without_html_tokenizer = tkr.tokenize_gen(lambda text:tkr.ngram(tkr.nltk.clean_html(text),n=1))\n",
      "bigram_without_html_tokenizer = tkr.tokenize_gen(lambda text:tkr.ngram(tkr.nltk.clean_html(text),n=2))\n",
      "jieba_vec_count_kwargs = {\"tokenizer\":jieba_without_html_tokenizer,\"lowercase\":False}\n",
      "unigram_vec_count_kwargs = {\"tokenizer\":unigram_without_html_tokenizer,\"lowercase\":False}\n",
      "bigram_vec_count_kwargs = {\"tokenizer\":bigram_without_html_tokenizer,\"lowercase\":False}"
     ],
     "language": "python",
     "metadata": {},
     "outputs": []
    },
    {
     "cell_type": "code",
     "collapsed": false,
     "input": [
      "articles_df,articles_push_df = dataio.read_pickle_file(\"PTT___movie.pickle\")\n",
      "test_ptt_text_sdtm = dataio.read_pickle_file(\"sdtm_ptt_movie.pickle\")"
     ],
     "language": "python",
     "metadata": {},
     "outputs": []
    },
    {
     "cell_type": "code",
     "collapsed": false,
     "input": [
      "articles_df.head()"
     ],
     "language": "python",
     "metadata": {},
     "outputs": []
    },
    {
     "cell_type": "code",
     "collapsed": false,
     "input": [
      "#articles_push_df"
     ],
     "language": "python",
     "metadata": {},
     "outputs": []
    },
    {
     "cell_type": "code",
     "collapsed": false,
     "input": [
      "test_sdtm =  vcr.vectorize_text(df=articles_df,\n",
      "                                text_col=\"title\", idx_col=\"url\", \n",
      "                                                   vect_gen=vcr.CountVectorizer, \n",
      "                                                   vect_gen_init_kwargs = jieba_vec_count_kwargs,\n",
      "                                                   summarizer = L1_col_sum)\n"
     ],
     "language": "python",
     "metadata": {},
     "outputs": []
    },
    {
     "cell_type": "code",
     "collapsed": false,
     "input": [
      "test_sdtm.select_rows(range(10)).to_pandas_df"
     ],
     "language": "python",
     "metadata": {},
     "outputs": []
    },
    {
     "cell_type": "code",
     "collapsed": false,
     "input": [
      "test_ptt_text_sdtm.summary"
     ],
     "language": "python",
     "metadata": {},
     "outputs": []
    },
    {
     "cell_type": "code",
     "collapsed": false,
     "input": [
      "import scipy.sparse as sparse"
     ],
     "language": "python",
     "metadata": {},
     "outputs": []
    },
    {
     "cell_type": "code",
     "collapsed": false,
     "input": [
      "#%time sparse.linalg.svds(test_ptt_text_sdtm._smatrix)"
     ],
     "language": "python",
     "metadata": {},
     "outputs": []
    },
    {
     "cell_type": "code",
     "collapsed": false,
     "input": [
      "sparse.svd(test_ptt_text_sdtm._smatrix)"
     ],
     "language": "python",
     "metadata": {},
     "outputs": []
    },
    {
     "cell_type": "code",
     "collapsed": false,
     "input": [
      "articles_df.iloc[wfms.get_topk_neighborhood_idx(test_ptt_text_sdtm,[3],k=10)][\"title\"]\n"
     ],
     "language": "python",
     "metadata": {},
     "outputs": []
    },
    {
     "cell_type": "code",
     "collapsed": false,
     "input": [],
     "language": "python",
     "metadata": {},
     "outputs": []
    },
    {
     "cell_type": "code",
     "collapsed": false,
     "input": [
      "print \"// \".join((test_ptt_text_sdtm.select_rows([3]).summary > 0 )._filtered_idx)"
     ],
     "language": "python",
     "metadata": {},
     "outputs": []
    },
    {
     "cell_type": "code",
     "collapsed": false,
     "input": [],
     "language": "python",
     "metadata": {},
     "outputs": []
    },
    {
     "cell_type": "code",
     "collapsed": false,
     "input": [],
     "language": "python",
     "metadata": {},
     "outputs": []
    },
    {
     "cell_type": "code",
     "collapsed": false,
     "input": [
      "import pandas as pd \n",
      "test_text_df = pd.DataFrame([u\"\u4eca\u5929\u5929\u6c23\u5f88\u597d\",u\"\u4eca\u5929\u5929\u6c23\u5f88\u721b\",u\"\u6211\u6068\u5b83\",u\"\u5b83\u6068\u6211\",u\"\u6211\u611b\u5b83\",u\"\u5b83\u611b\u6211\",u\"\u4eca\u5929\u5f88\u8870\",\"\u65e5\u5b50\u4e00\u5929\u4e00\u5929\u904e\",\"\u5929\u5929\u5237\u7259\u6d17\u81c9\"])\n",
      "test_text_df.columns = [\"text\"]\n",
      "test_text_df = test_text_df.reset_index()\n",
      "test_text_df"
     ],
     "language": "python",
     "metadata": {},
     "outputs": []
    },
    {
     "cell_type": "code",
     "collapsed": false,
     "input": [
      "test = pd.core.base.FrozenNDArray(test_text_df.values, dtype=test_text_df.values.dtype)"
     ],
     "language": "python",
     "metadata": {},
     "outputs": []
    },
    {
     "cell_type": "code",
     "collapsed": false,
     "input": [
      "test.values()"
     ],
     "language": "python",
     "metadata": {},
     "outputs": []
    },
    {
     "cell_type": "code",
     "collapsed": false,
     "input": [
      "test_text_df.index"
     ],
     "language": "python",
     "metadata": {},
     "outputs": []
    },
    {
     "cell_type": "code",
     "collapsed": false,
     "input": [
      "print isinstance(NotImplementedError, Exception)\n",
      "print isinstance(NotImplemented, Exception)\n",
      "type(NotImplemented)"
     ],
     "language": "python",
     "metadata": {},
     "outputs": []
    },
    {
     "cell_type": "code",
     "collapsed": false,
     "input": [
      "test_jieba_sdtm = vcr.vectorize_text(df=test_text_df,\n",
      "                                     text_col=\"text\", \n",
      "                                     idx_col=\"index\", \n",
      "                                     cond_query={},\n",
      "                                     idx_query= [],\n",
      "                                     vect_gen=vcr.CountVectorizer, \n",
      "                                     vect_gen_init_kwargs = unigram_vec_count_kwargs)"
     ],
     "language": "python",
     "metadata": {},
     "outputs": []
    },
    {
     "cell_type": "code",
     "collapsed": false,
     "input": [
      "test_jieba_sdtm.to_pandas_df"
     ],
     "language": "python",
     "metadata": {},
     "outputs": []
    },
    {
     "cell_type": "code",
     "collapsed": false,
     "input": [
      "((test_jieba_sdtm.summarize_sdf(L0_col_sum) > 1 ) & (test_jieba_sdtm.summarize_sdf(L0_col_sum) <=3  ))._sub_sdf.to_pandas_df"
     ],
     "language": "python",
     "metadata": {},
     "outputs": []
    },
    {
     "cell_type": "code",
     "collapsed": false,
     "input": [],
     "language": "python",
     "metadata": {},
     "outputs": []
    },
    {
     "cell_type": "code",
     "collapsed": false,
     "input": [
      "test_jieba_sdtm._smatrix.nonzero()"
     ],
     "language": "python",
     "metadata": {},
     "outputs": []
    },
    {
     "cell_type": "code",
     "collapsed": false,
     "input": [
      "test_jieba_sdtm.to_pandas_df"
     ],
     "language": "python",
     "metadata": {},
     "outputs": []
    },
    {
     "cell_type": "code",
     "collapsed": false,
     "input": [],
     "language": "python",
     "metadata": {},
     "outputs": []
    },
    {
     "cell_type": "code",
     "collapsed": false,
     "input": [],
     "language": "python",
     "metadata": {},
     "outputs": []
    },
    {
     "cell_type": "code",
     "collapsed": false,
     "input": [
      "test_idx = test_jieba_sdtm.to_pandas_df.stack().index\n",
      "test_idx"
     ],
     "language": "python",
     "metadata": {},
     "outputs": []
    },
    {
     "cell_type": "code",
     "collapsed": false,
     "input": [
      "#test_idx.levels"
     ],
     "language": "python",
     "metadata": {},
     "outputs": []
    },
    {
     "cell_type": "code",
     "collapsed": false,
     "input": [
      "#test_idx.labels"
     ],
     "language": "python",
     "metadata": {},
     "outputs": []
    },
    {
     "cell_type": "code",
     "collapsed": false,
     "input": [
      "#print test_idx.labels[1]\n",
      "test_idx.levels[1][test_idx.labels[1]]"
     ],
     "language": "python",
     "metadata": {},
     "outputs": []
    },
    {
     "cell_type": "code",
     "collapsed": false,
     "input": [],
     "language": "python",
     "metadata": {},
     "outputs": []
    },
    {
     "cell_type": "code",
     "collapsed": false,
     "input": [
      "\n",
      "class Projector(object):\n",
      "    _root_mf = None\n",
      "    \n",
      "    def __init__(self, on_columns=None, on_rows=None, proj_fn=None):\n",
      "        \n",
      "        assert (on_columns==None) | (on_rows==None) \n",
      "        \n",
      "        if isinstance(on_columns, (np.ndarray, list)):\n",
      "            self._proj_fn = lambda xx:xx[:,on_columns]\n",
      "            \n",
      "        if isinstance(on_rows, (np.ndarray, list)):\n",
      "            self._proj_fn = lambda xx:xx[on_rows,:]\n",
      "            \n",
      "    \n",
      "    \n",
      "    @property\n",
      "    def _projection(self):\n",
      "        _proj_result = self._proj_fn(type(self)._root_mf.values)\n",
      "        #return _proj_result\n",
      "        \n",
      "        \n",
      "        if len(_proj_result.shape) > 1:\n",
      "            \n",
      "            if _proj_result.shape[1] == 1:\n",
      "                _proj_result = _proj_result[:,0]\n",
      "            \n",
      "            elif _proj_result.T.shape[1] == 1:\n",
      "                _proj_result = _proj_result.T[:,0].T\n",
      "        \n",
      "        #print \"self._root_mf.is_matched_col_shape(_proj_result) = \",self._root_mf.is_matched_col_shape(_proj_result)\n",
      "        #print \"self._root_mf.is_matched_row_shape(_proj_result) = \",self._root_mf.is_matched_row_shape(_proj_result)\n",
      "        \n",
      "        return type(self)._root_mf._projection_cls(_proj_result)\n",
      "                \n",
      "            #TODO: _proj_result[1] == 0\n",
      "            #assert _proj_result[1] == 1\n",
      "            #_proj_result = _proj_result[0]\n",
      "        \n",
      "            #return _proj_result\n",
      "    \n",
      "    \n",
      "    def __lt__(self, upper_bound):\n",
      "        return self._projection < upper_bound\n",
      "    \n",
      "    \n",
      "    def __le__(self, upper_bound):\n",
      "        return self._projection <= upper_bound\n",
      "    \n",
      "    \n",
      "    def __gt__(self, lower_bound):\n",
      "        return self._projection > lower_bound\n",
      "        \n",
      "        \n",
      "    def __ge__(self, lower_bound):\n",
      "        return self._projection >= lower_bound\n",
      "\n",
      "\n",
      "\n",
      "class Projection(object):\n",
      "    _root_mf = None\n",
      "\n",
      "    def __init__(self, proj_data):\n",
      "        self._proj_data = proj_data\n",
      "    \n",
      "    \n",
      "    @property\n",
      "    def _is_bool(self):\n",
      "        return self._proj_data.dtype == np.bool\n",
      "    \n",
      "        \n",
      "    def __repr__(self):\n",
      "        return self._proj_data.__repr__()\n",
      "\n",
      "    \n",
      "    def __lt__(self, upper_bound):\n",
      "        return type(self)(proj_data = self._proj_data < upper_bound)\n",
      "    \n",
      "    \n",
      "    def __le__(self, upper_bound):\n",
      "        return type(self)(proj_data = self._proj_data <= upper_bound)\n",
      "    \n",
      "    \n",
      "    def __gt__(self, lower_bound):\n",
      "        return type(self)(proj_data = self._proj_data > lower_bound)\n",
      "        \n",
      "        \n",
      "    def __ge__(self, lower_bound):\n",
      "        return type(self)(proj_data = self._proj_data >= lower_bound)\n",
      "    \n",
      "    \n",
      "    def __and__(self, other_projection):\n",
      "        assert isinstance(other_projection, type(self))\n",
      "        #assert np.array_equal(self[\"summary_idx\"],other_summary[\"summary_idx\"])\n",
      "        assert self._is_bool\n",
      "        assert other_projection._is_bool\n",
      "        \n",
      "        return type(self)(self._proj_data & other_projection._proj_data)\n",
      "    \n",
      "    @property\n",
      "    def _sub_mf(self):\n",
      "        assert self._is_bool\n",
      "        \n",
      "        if type(self)._root_mf.is_matched_col_shape(self._proj_data):        \n",
      "            return type(self)._root_mf.select_columns(select_col = self._proj_data)\n",
      "        \n",
      "        if type(self)._root_mf.is_matched_row_shape(self._proj_data):        \n",
      "            return type(self)._root_mf.select_rows(select_row = self._proj_data)\n",
      "    \n",
      "\n",
      "class ModelFrame(pd.DataFrame):\n",
      "    def __init__(self, df=None, data=None, index=None, columns=None):\n",
      "        if isinstance(df, pd.DataFrame):\n",
      "            super(ModelFrame, self).__init__(df.values, index=df.index, columns=df.columns)\n",
      "        else:\n",
      "            super(ModelFrame, self).__init__(data, index=index, columns=columns)\n",
      "        \n",
      "        #self._col_idx = df.columns\n",
      "        #self._row_idx = df.index\n",
      "        self._projector_cls = type.__new__(type, \"ModelFrameProjector\", (Projector,), {\"_root_mf\":self})\n",
      "        self._projection_cls = type.__new__(type, \"ModelFrameProjection\", (Projection,), {\"_root_mf\":self})\n",
      "    \n",
      "        \n",
      "    def is_matched_col_shape(self, vec):\n",
      "        if isinstance(vec, list):\n",
      "            return len(vec) == self.values.shape[1]\n",
      "        \n",
      "        if isinstance(vec, np.ndarray):\n",
      "            assert len(vec.shape) == 1\n",
      "            return vec.shape[0] == self.values.shape[1]\n",
      "        \n",
      "    def is_matched_row_shape(self,vec):\n",
      "        if isinstance(vec, list):\n",
      "            return len(vec) == self.values.shape[0]\n",
      "        \n",
      "        if isinstance(vec, np.ndarray):\n",
      "            assert len(vec.shape) == 1\n",
      "            return vec.shape[0] == self.values.shape[0]\n",
      "            \n",
      "        \n",
      "    def is_col_vec(self,vec):\n",
      "        return self.is_matched_row_shape(vec)\n",
      "        \n",
      "        \n",
      "    def is_row_vec(self,vec):\n",
      "        return self.is_matched_col_shape(vec)\n",
      "\n",
      "            \n",
      "    def select_columns(self, select_col = None):\n",
      "        \n",
      "        if select_col != None:\n",
      "            if isinstance(select_col, self._projection_cls) and select_col._is_bool:\n",
      "                _select_col_idx = select_col._proj_data\n",
      "            else:\n",
      "                _select_col_idx = select_col\n",
      "        else:\n",
      "            _select_col_idx = np.arange(len(self.col_idx))\n",
      "        \n",
      "        new_col_idx = self.columns[_select_col_idx]\n",
      "        \n",
      "        new_smatrix = self.values[:,_select_col_idx]\n",
      "        \n",
      "        return type(self)(data = new_smatrix,\n",
      "                          index = self.index,\n",
      "                          columns = new_col_idx)\n",
      "    \n",
      "    \n",
      "    def select_rows(self, select_row = None):\n",
      "        \n",
      "        if select_row != None:\n",
      "            if isinstance(select_row, self._projection_cls) and select_row._is_bool:\n",
      "                _select_row_idx = select_row._proj_data\n",
      "            else:\n",
      "                _select_row_idx = select_row\n",
      "        else:\n",
      "            _select_col_idx = np.arange(len(self.col_idx))\n",
      "            \n",
      "        new_row_idx = self.index[_select_row_idx]\n",
      "        \n",
      "        new_smatrix = self.values[_select_row_idx,:]\n",
      "        \n",
      "        return type(self)(data = new_smatrix,\n",
      "                          index = new_row_idx,\n",
      "                          columns = self.columns)\n",
      "\n",
      "    \n",
      "    def sub_mf(self, select_col = None, select_row = None):\n",
      "        return self.select_columns(select_col).select_rows(select_row)\n",
      "    \n",
      "        \n",
      "    \n",
      "        "
     ],
     "language": "python",
     "metadata": {},
     "outputs": []
    },
    {
     "cell_type": "code",
     "collapsed": false,
     "input": [
      "#test_jieba_sdtm.to_pandas_df.index\n",
      "\n",
      "test_jieba_sdtm.to_pandas_df.columns"
     ],
     "language": "python",
     "metadata": {},
     "outputs": []
    },
    {
     "cell_type": "code",
     "collapsed": false,
     "input": [
      "mf = ModelFrame(test_jieba_sdtm.to_pandas_df)\n",
      "mf2 = ModelFrame(test_jieba_sdtm.to_pandas_df)\n"
     ],
     "language": "python",
     "metadata": {},
     "outputs": []
    },
    {
     "cell_type": "code",
     "collapsed": false,
     "input": [
      "print mf._projector_cls\n",
      "print mf2._projector_cls\n",
      "print id(mf._projector_cls)\n",
      "print id(mf2._projector_cls)"
     ],
     "language": "python",
     "metadata": {},
     "outputs": []
    },
    {
     "cell_type": "code",
     "collapsed": false,
     "input": [
      "X1 = mf._projector_cls(on_columns=[3])\n",
      "X2 = mf._projector_cls(on_columns=[7])"
     ],
     "language": "python",
     "metadata": {},
     "outputs": []
    },
    {
     "cell_type": "code",
     "collapsed": false,
     "input": [
      "X2._projection"
     ],
     "language": "python",
     "metadata": {},
     "outputs": []
    },
    {
     "cell_type": "code",
     "collapsed": false,
     "input": [],
     "language": "python",
     "metadata": {},
     "outputs": []
    },
    {
     "cell_type": "code",
     "collapsed": false,
     "input": [
      "\n",
      "#print mf.sum(0)\n",
      "#print mf.sum(1)\n",
      "\n",
      "\n",
      "print X1._projection\n",
      "print type(X1._projection._proj_data)\n",
      "\n",
      "#P = P_gne(**kwargs) \n",
      "#f = lm(...)\n",
      "#f(X2|((X2 >= 1) & (X1 <= 2))) == Y\n",
      "((X2 >= 1) & (X1 <= 2))._sub_mf"
     ],
     "language": "python",
     "metadata": {},
     "outputs": []
    },
    {
     "cell_type": "code",
     "collapsed": false,
     "input": [
      "((X2 >= 1) & (X1 <= 2))._sub_mf"
     ],
     "language": "python",
     "metadata": {},
     "outputs": []
    },
    {
     "cell_type": "code",
     "collapsed": false,
     "input": [],
     "language": "python",
     "metadata": {},
     "outputs": []
    },
    {
     "cell_type": "code",
     "collapsed": false,
     "input": [],
     "language": "python",
     "metadata": {},
     "outputs": []
    },
    {
     "cell_type": "code",
     "collapsed": false,
     "input": [
      "#P = p_gen(...)\n",
      "#f = svm_gen(...)\n",
      "#f(X2|X1>=1&X!<=2) = Y\n",
      "#f(...) "
     ],
     "language": "python",
     "metadata": {},
     "outputs": []
    },
    {
     "cell_type": "code",
     "collapsed": false,
     "input": [
      "mf.select_columns([0,1])\n",
      "#mf.values[0,0] = 1\n",
      "#X1._projection"
     ],
     "language": "python",
     "metadata": {},
     "outputs": [
      {
       "html": [
        "<div style=\"max-height:1000px;max-width:1500px;overflow:auto;\">\n",
        "<table border=\"1\" class=\"dataframe\">\n",
        "  <thead>\n",
        "    <tr style=\"text-align: right;\">\n",
        "      <th></th>\n",
        "      <th>\u4e00</th>\n",
        "      <th>\u4eca</th>\n",
        "    </tr>\n",
        "  </thead>\n",
        "  <tbody>\n",
        "    <tr>\n",
        "      <th>0</th>\n",
        "      <td> 0</td>\n",
        "      <td> 1</td>\n",
        "    </tr>\n",
        "    <tr>\n",
        "      <th>1</th>\n",
        "      <td> 0</td>\n",
        "      <td> 1</td>\n",
        "    </tr>\n",
        "    <tr>\n",
        "      <th>2</th>\n",
        "      <td> 0</td>\n",
        "      <td> 0</td>\n",
        "    </tr>\n",
        "    <tr>\n",
        "      <th>3</th>\n",
        "      <td> 0</td>\n",
        "      <td> 0</td>\n",
        "    </tr>\n",
        "    <tr>\n",
        "      <th>4</th>\n",
        "      <td> 0</td>\n",
        "      <td> 0</td>\n",
        "    </tr>\n",
        "    <tr>\n",
        "      <th>5</th>\n",
        "      <td> 0</td>\n",
        "      <td> 0</td>\n",
        "    </tr>\n",
        "    <tr>\n",
        "      <th>6</th>\n",
        "      <td> 0</td>\n",
        "      <td> 1</td>\n",
        "    </tr>\n",
        "    <tr>\n",
        "      <th>7</th>\n",
        "      <td> 2</td>\n",
        "      <td> 0</td>\n",
        "    </tr>\n",
        "    <tr>\n",
        "      <th>8</th>\n",
        "      <td> 0</td>\n",
        "      <td> 0</td>\n",
        "    </tr>\n",
        "  </tbody>\n",
        "</table>\n",
        "<p>9 rows \u00d7 2 columns</p>\n",
        "</div>"
       ],
       "metadata": {},
       "output_type": "pyout",
       "prompt_number": 23,
       "text": [
        "   \u4e00  \u4eca\n",
        "0  0  1\n",
        "1  0  1\n",
        "2  0  0\n",
        "3  0  0\n",
        "4  0  0\n",
        "5  0  0\n",
        "6  0  1\n",
        "7  2  0\n",
        "8  0  0\n",
        "\n",
        "[9 rows x 2 columns]"
       ]
      }
     ],
     "prompt_number": 23
    },
    {
     "cell_type": "code",
     "collapsed": false,
     "input": [
      "print id(X1._root_mf)\n",
      "print id(mf)\n"
     ],
     "language": "python",
     "metadata": {},
     "outputs": [
      {
       "output_type": "stream",
       "stream": "stdout",
       "text": [
        "76574800\n",
        "76574800\n"
       ]
      }
     ],
     "prompt_number": 23
    },
    {
     "cell_type": "code",
     "collapsed": false,
     "input": [
      "#print X1._projection[:,0]\n",
      "#print X1._projection.T.shape\n",
      "#print X1._projection.T[0,:].T\n"
     ],
     "language": "python",
     "metadata": {},
     "outputs": [],
     "prompt_number": 24
    },
    {
     "cell_type": "code",
     "collapsed": false,
     "input": [],
     "language": "python",
     "metadata": {},
     "outputs": [],
     "prompt_number": 24
    },
    {
     "cell_type": "code",
     "collapsed": false,
     "input": [],
     "language": "python",
     "metadata": {},
     "outputs": [],
     "prompt_number": 24
    },
    {
     "cell_type": "code",
     "collapsed": false,
     "input": [
      "print map(unigram_without_html_tokenizer,test_text_df[\"text\"])"
     ],
     "language": "python",
     "metadata": {},
     "outputs": [
      {
       "output_type": "stream",
       "stream": "stdout",
       "text": [
        "[[u'\\u4eca', u'\\u5929', u'\\u5929', u'\\u6c23', u'\\u5f88', u'\\u597d'], [u'\\u4eca', u'\\u5929', u'\\u5929', u'\\u6c23', u'\\u5f88', u'\\u721b'], [u'\\u6211', u'\\u6068', u'\\u5b83'], [u'\\u5b83', u'\\u6068', u'\\u6211'], [u'\\u6211', u'\\u611b', u'\\u5b83'], [u'\\u5b83', u'\\u611b', u'\\u6211'], [u'\\u4eca', u'\\u5929', u'\\u5f88', u'\\u8870'], ['\\xe6', '\\x97', '\\xa5', '\\xe5', '\\xad', '\\x90', '\\xe4', '\\xb8', '\\x80', '\\xe5', '\\xa4', '\\xa9', '\\xe4', '\\xb8', '\\x80', '\\xe5', '\\xa4', '\\xa9', '\\xe9', '\\x81', '\\x8e'], ['\\xe5', '\\xa4', '\\xa9', '\\xe5', '\\xa4', '\\xa9', '\\xe5', '\\x88', '\\xb7', '\\xe7', '\\x89', '\\x99', '\\xe6', '\\xb4', '\\x97', '\\xe8', '\\x87', '\\x89']]\n"
       ]
      }
     ],
     "prompt_number": 25
    },
    {
     "cell_type": "code",
     "collapsed": false,
     "input": [
      "np.array(map(unigram_without_html_tokenizer,test_text_df[\"text\"])[0])"
     ],
     "language": "python",
     "metadata": {},
     "outputs": [
      {
       "metadata": {},
       "output_type": "pyout",
       "prompt_number": 26,
       "text": [
        "array([u'\\u4eca', u'\\u5929', u'\\u5929', u'\\u6c23', u'\\u5f88', u'\\u597d'], \n",
        "      dtype='<U1')"
       ]
      }
     ],
     "prompt_number": 26
    },
    {
     "cell_type": "code",
     "collapsed": false,
     "input": [
      "np.array(map(bigram_without_html_tokenizer,test_text_df[\"text\"])[0], dtype=None)"
     ],
     "language": "python",
     "metadata": {},
     "outputs": [
      {
       "metadata": {},
       "output_type": "pyout",
       "prompt_number": 27,
       "text": [
        "array([u'\\u4eca\\u5929', u'\\u5929\\u5929', u'\\u5929\\u6c23', u'\\u6c23\\u5f88',\n",
        "       u'\\u5f88\\u597d'], \n",
        "      dtype='<U2')"
       ]
      }
     ],
     "prompt_number": 27
    },
    {
     "cell_type": "code",
     "collapsed": false,
     "input": [
      "\n",
      "class KeysDictionary(np.ndarray):\n",
      "    def __new__(cls, data, dtype=None):\n",
      "        print \"[In KeysDictionary.__new__] cls = \",cls\n",
      "        if isinstance(data, cls):\n",
      "            return data\n",
      "        else:\n",
      "            data_vec = np.array(data, dtype=dtype).view(cls)\n",
      "            return data_vec\n",
      "\n",
      "\n",
      "class KeyValueDataVector(np.ndarray):\n",
      "    def __new__(cls, data, dtype=None):\n",
      "        print \"[In KeyValueDict.__new__] cls = \",cls\n",
      "        if isinstance(data, cls):\n",
      "            return data\n",
      "        else:\n",
      "            data_vec = np.array(data, dtype=dtype)\n",
      "            uni_values, idx_vec = np.unique(data_vec, return_inverse=True)\n",
      "            kvd_vec = np.array(idx_vec).view(cls)\n",
      "            kvd_vec._dict_of_keys = uni_values.view(cls)\n",
      "            return kvd_vec\n",
      "    \n",
      "    \n",
      "    #def _key_vec\n",
      "    \n",
      "\n",
      "\n",
      "class DataVector(np.ndarray):\n",
      "    def __new__(cls, data, dtype=None):\n",
      "        data_vec = np.array(data, dtype=dtype).view(cls)\n",
      "        return data_vec\n",
      "    \n",
      "    @property\n",
      "    def _is_char(self):\n",
      "        return self.dtype.type in (np.unicode,np.unicode_,np.str,np.str_)\n",
      "    \n",
      "    \n",
      "    \n",
      "    \n",
      "\n",
      "    "
     ],
     "language": "python",
     "metadata": {},
     "outputs": [],
     "prompt_number": 30
    },
    {
     "cell_type": "code",
     "collapsed": false,
     "input": [
      "\n"
     ],
     "language": "python",
     "metadata": {},
     "outputs": [],
     "prompt_number": 30
    },
    {
     "cell_type": "code",
     "collapsed": false,
     "input": [
      "#PtrVector\n",
      "#StateSpace"
     ],
     "language": "python",
     "metadata": {},
     "outputs": [],
     "prompt_number": 31
    },
    {
     "cell_type": "code",
     "collapsed": false,
     "input": [],
     "language": "python",
     "metadata": {},
     "outputs": [],
     "prompt_number": 31
    },
    {
     "cell_type": "code",
     "collapsed": false,
     "input": [],
     "language": "python",
     "metadata": {},
     "outputs": [],
     "prompt_number": 31
    },
    {
     "cell_type": "code",
     "collapsed": false,
     "input": [],
     "language": "python",
     "metadata": {},
     "outputs": [],
     "prompt_number": 31
    },
    {
     "cell_type": "code",
     "collapsed": false,
     "input": [],
     "language": "python",
     "metadata": {},
     "outputs": [],
     "prompt_number": 31
    },
    {
     "cell_type": "code",
     "collapsed": false,
     "input": [
      "test_kvd = KeyValueDataVector(unigram_without_html_tokenizer(test_text_df[\"text\"][0]))\n",
      "test_kvd"
     ],
     "language": "python",
     "metadata": {},
     "outputs": [
      {
       "ename": "NameError",
       "evalue": "name 'KeyValueDataVector' is not defined",
       "output_type": "pyerr",
       "traceback": [
        "\u001b[1;31m---------------------------------------------------------------------------\u001b[0m\n\u001b[1;31mNameError\u001b[0m                                 Traceback (most recent call last)",
        "\u001b[1;32m<ipython-input-1-bddf35bae90b>\u001b[0m in \u001b[0;36m<module>\u001b[1;34m()\u001b[0m\n\u001b[1;32m----> 1\u001b[1;33m \u001b[0mtest_kvd\u001b[0m \u001b[1;33m=\u001b[0m \u001b[0mKeyValueDataVector\u001b[0m\u001b[1;33m(\u001b[0m\u001b[0munigram_without_html_tokenizer\u001b[0m\u001b[1;33m(\u001b[0m\u001b[0mtest_text_df\u001b[0m\u001b[1;33m[\u001b[0m\u001b[1;34m\"text\"\u001b[0m\u001b[1;33m]\u001b[0m\u001b[1;33m[\u001b[0m\u001b[1;36m0\u001b[0m\u001b[1;33m]\u001b[0m\u001b[1;33m)\u001b[0m\u001b[1;33m)\u001b[0m\u001b[1;33m\u001b[0m\u001b[0m\n\u001b[0m\u001b[0;32m      2\u001b[0m \u001b[0mtest_kvd\u001b[0m\u001b[1;33m\u001b[0m\u001b[0m\n",
        "\u001b[1;31mNameError\u001b[0m: name 'KeyValueDataVector' is not defined"
       ]
      }
     ],
     "prompt_number": 1
    },
    {
     "cell_type": "code",
     "collapsed": false,
     "input": [
      "test_kvd._dict_of_keys[test_kvd]"
     ],
     "language": "python",
     "metadata": {},
     "outputs": [
      {
       "metadata": {},
       "output_type": "pyout",
       "prompt_number": 35,
       "text": [
        "KeyValueDataVector([u'\\u4eca', u'\\u5929', u'\\u5929', u'\\u6c23', u'\\u5f88', u'\\u597d'], \n",
        "      dtype='<U1')"
       ]
      }
     ],
     "prompt_number": 35
    },
    {
     "cell_type": "code",
     "collapsed": false,
     "input": [],
     "language": "python",
     "metadata": {},
     "outputs": []
    },
    {
     "cell_type": "code",
     "collapsed": false,
     "input": [
      "text_vec = DataVector(unigram_without_html_tokenizer(test_text_df[\"text\"][0]))"
     ],
     "language": "python",
     "metadata": {},
     "outputs": [],
     "prompt_number": 30
    },
    {
     "cell_type": "code",
     "collapsed": false,
     "input": [
      "text_vec._is_char"
     ],
     "language": "python",
     "metadata": {},
     "outputs": [
      {
       "metadata": {},
       "output_type": "pyout",
       "prompt_number": 31,
       "text": [
        "True"
       ]
      }
     ],
     "prompt_number": 31
    },
    {
     "cell_type": "code",
     "collapsed": false,
     "input": [
      "vec_of_uni_values, vec_of_keys = np.unique(text_vec, return_inverse=True)"
     ],
     "language": "python",
     "metadata": {},
     "outputs": [],
     "prompt_number": 49
    },
    {
     "cell_type": "code",
     "collapsed": false,
     "input": [
      "vec_of_keys"
     ],
     "language": "python",
     "metadata": {},
     "outputs": [
      {
       "metadata": {},
       "output_type": "pyout",
       "prompt_number": 50,
       "text": [
        "array([0, 1, 1, 4, 3, 2])"
       ]
      }
     ],
     "prompt_number": 50
    },
    {
     "cell_type": "code",
     "collapsed": false,
     "input": [
      "vec_of_uni_values"
     ],
     "language": "python",
     "metadata": {},
     "outputs": [
      {
       "metadata": {},
       "output_type": "pyout",
       "prompt_number": 51,
       "text": [
        "DataVector([u'\\u4eca', u'\\u5929', u'\\u597d', u'\\u5f88', u'\\u6c23'], \n",
        "      dtype='<U1')"
       ]
      }
     ],
     "prompt_number": 51
    },
    {
     "cell_type": "code",
     "collapsed": false,
     "input": [
      "vec_of_uni_values.dtype, vec_of_keys.dtype"
     ],
     "language": "python",
     "metadata": {},
     "outputs": [
      {
       "metadata": {},
       "output_type": "pyout",
       "prompt_number": 52,
       "text": [
        "(dtype('<U1'), dtype('int64'))"
       ]
      }
     ],
     "prompt_number": 52
    },
    {
     "cell_type": "code",
     "collapsed": false,
     "input": [
      "test_vec = np.r_[vec_of_uni_values[vec_of_keys],vec_of_uni_values[vec_of_keys]]\n",
      "test_vec"
     ],
     "language": "python",
     "metadata": {},
     "outputs": [
      {
       "metadata": {},
       "output_type": "pyout",
       "prompt_number": 41,
       "text": [
        "array([u'\\u4eca', u'\\u4eca', u'\\u5929', u'\\u5929', u'\\u5929', u'\\u5929',\n",
        "       u'\\u6c23', u'\\u6c23', u'\\u5f88', u'\\u5f88', u'\\u597d', u'\\u597d',\n",
        "       u'\\u4eca', u'\\u4eca', u'\\u5929', u'\\u5929', u'\\u5929', u'\\u5929',\n",
        "       u'\\u6c23', u'\\u6c23', u'\\u5f88', u'\\u5f88', u'\\u597d', u'\\u597d'], \n",
        "      dtype='<U1')"
       ]
      }
     ],
     "prompt_number": 41
    },
    {
     "cell_type": "code",
     "collapsed": false,
     "input": [
      "vec_of_uni_values, vec_of_keys = np.unique(test_vec, return_inverse=True)"
     ],
     "language": "python",
     "metadata": {},
     "outputs": [],
     "prompt_number": 45
    },
    {
     "cell_type": "code",
     "collapsed": false,
     "input": [
      "vec_of_uni_values"
     ],
     "language": "python",
     "metadata": {},
     "outputs": [
      {
       "metadata": {},
       "output_type": "pyout",
       "prompt_number": 46,
       "text": [
        "array([u'\\u4eca', u'\\u5929', u'\\u597d', u'\\u5f88', u'\\u6c23'], \n",
        "      dtype='<U1')"
       ]
      }
     ],
     "prompt_number": 46
    },
    {
     "cell_type": "code",
     "collapsed": false,
     "input": [
      "vec_of_keys "
     ],
     "language": "python",
     "metadata": {},
     "outputs": [
      {
       "metadata": {},
       "output_type": "pyout",
       "prompt_number": 47,
       "text": [
        "array([0, 0, 1, 1, 1, 1, 4, 4, 3, 3, 2, 2, 0, 0, 1, 1, 1, 1, 4, 4, 3, 3, 2,\n",
        "       2])"
       ]
      }
     ],
     "prompt_number": 47
    },
    {
     "cell_type": "code",
     "collapsed": false,
     "input": [],
     "language": "python",
     "metadata": {},
     "outputs": [],
     "prompt_number": 44
    },
    {
     "cell_type": "code",
     "collapsed": false,
     "input": [],
     "language": "python",
     "metadata": {},
     "outputs": []
    },
    {
     "cell_type": "code",
     "collapsed": false,
     "input": [],
     "language": "python",
     "metadata": {},
     "outputs": []
    },
    {
     "cell_type": "code",
     "collapsed": false,
     "input": [
      "print \"// \".join(DataVector(unigram_without_html_tokenizer(test_text_df[\"text\"][0])))"
     ],
     "language": "python",
     "metadata": {},
     "outputs": [
      {
       "output_type": "stream",
       "stream": "stdout",
       "text": [
        "\u4eca// \u5929// \u5929// \u6c23// \u5f88// \u597d\n"
       ]
      }
     ],
     "prompt_number": 120
    },
    {
     "cell_type": "code",
     "collapsed": false,
     "input": [
      "print DataVector(unigram_without_html_tokenizer(test_text_df[\"text\"][0]))\n",
      "print np.unique(DataVector(unigram_without_html_tokenizer(test_text_df[\"text\"][0])))\n",
      "temp = DataVector(unigram_without_html_tokenizer(test_text_df[\"text\"][0])).tolist()\n",
      "temp.reverse()\n",
      "print np.unique(temp)"
     ],
     "language": "python",
     "metadata": {},
     "outputs": [
      {
       "output_type": "stream",
       "stream": "stdout",
       "text": [
        "[u'\\u4eca' u'\\u5929' u'\\u5929' u'\\u6c23' u'\\u5f88' u'\\u597d']\n",
        "[u'\\u4eca' u'\\u5929' u'\\u597d' u'\\u5f88' u'\\u6c23']\n",
        "[u'\\u4eca' u'\\u5929' u'\\u597d' u'\\u5f88' u'\\u6c23']\n"
       ]
      }
     ],
     "prompt_number": 121
    },
    {
     "cell_type": "code",
     "collapsed": false,
     "input": [
      "u, i = np.unique(DataVector(unigram_without_html_tokenizer(test_text_df[\"text\"][0])), return_inverse=True)"
     ],
     "language": "python",
     "metadata": {},
     "outputs": [],
     "prompt_number": 122
    },
    {
     "cell_type": "code",
     "collapsed": false,
     "input": [
      "u._is_char"
     ],
     "language": "python",
     "metadata": {},
     "outputs": [
      {
       "metadata": {},
       "output_type": "pyout",
       "prompt_number": 123,
       "text": [
        "True"
       ]
      }
     ],
     "prompt_number": 123
    },
    {
     "cell_type": "code",
     "collapsed": false,
     "input": [
      "i"
     ],
     "language": "python",
     "metadata": {},
     "outputs": [
      {
       "metadata": {},
       "output_type": "pyout",
       "prompt_number": 105,
       "text": [
        "array([0, 1, 1, 4, 3, 2])"
       ]
      }
     ],
     "prompt_number": 105
    },
    {
     "cell_type": "code",
     "collapsed": false,
     "input": [],
     "language": "python",
     "metadata": {},
     "outputs": [],
     "prompt_number": 107
    },
    {
     "cell_type": "code",
     "collapsed": false,
     "input": [
      "test = np.array([[1.,2.,3.],[4.,5.,6.]]) \n",
      "#test.dtype"
     ],
     "language": "python",
     "metadata": {},
     "outputs": [],
     "prompt_number": 52
    },
    {
     "cell_type": "code",
     "collapsed": false,
     "input": [
      "#test1 = test.astype(np.dtype([(\"a\",test.dtype,(3,1)),(\"b\",test.dtype,(3,1))]))\n",
      "test1 = test.astype(np.dtype([(\"a\",test.dtype,(1,3))]))"
     ],
     "language": "python",
     "metadata": {},
     "outputs": [],
     "prompt_number": 46
    },
    {
     "cell_type": "code",
     "collapsed": false,
     "input": [
      "test1.dtype"
     ],
     "language": "python",
     "metadata": {},
     "outputs": [
      {
       "metadata": {},
       "output_type": "pyout",
       "prompt_number": 47,
       "text": [
        "dtype([('a', '<f8', (1, 3))])"
       ]
      }
     ],
     "prompt_number": 47
    },
    {
     "cell_type": "code",
     "collapsed": false,
     "input": [
      "test1"
     ],
     "language": "python",
     "metadata": {},
     "outputs": [
      {
       "metadata": {},
       "output_type": "pyout",
       "prompt_number": 48,
       "text": [
        "array([[([[1.0, 1.0, 1.0]],), ([[2.0, 2.0, 2.0]],), ([[3.0, 3.0, 3.0]],)],\n",
        "       [([[4.0, 4.0, 4.0]],), ([[5.0, 5.0, 5.0]],), ([[6.0, 6.0, 6.0]],)]], \n",
        "      dtype=[('a', '<f8', (1, 3))])"
       ]
      }
     ],
     "prompt_number": 48
    },
    {
     "cell_type": "code",
     "collapsed": false,
     "input": [
      "print np.vstack([test,test])\n",
      "print np.hstack([test,test])"
     ],
     "language": "python",
     "metadata": {},
     "outputs": [
      {
       "output_type": "stream",
       "stream": "stdout",
       "text": [
        "[[ 1.  2.  3.]\n",
        " [ 4.  5.  6.]\n",
        " [ 1.  2.  3.]\n",
        " [ 4.  5.  6.]]\n",
        "[[ 1.  2.  3.  1.  2.  3.]\n",
        " [ 4.  5.  6.  4.  5.  6.]]\n"
       ]
      }
     ],
     "prompt_number": 55
    },
    {
     "cell_type": "code",
     "collapsed": false,
     "input": [
      "text_vec = DataVector(bigram_without_html_tokenizer(test_text_df[\"text\"][0]))\n",
      "text_vec"
     ],
     "language": "python",
     "metadata": {},
     "outputs": [
      {
       "metadata": {},
       "output_type": "pyout",
       "prompt_number": 56,
       "text": [
        "DataVector([u'\\u4eca\\u5929', u'\\u5929\\u5929', u'\\u5929\\u6c23', u'\\u6c23\\u5f88',\n",
        "       u'\\u5f88\\u597d'], \n",
        "      dtype='<U2')"
       ]
      }
     ],
     "prompt_number": 56
    },
    {
     "cell_type": "code",
     "collapsed": false,
     "input": [
      "text_vec_ptr = np.arange(text_vec.shape[0],dtype=np.int64)\n",
      "text_vec_ptr"
     ],
     "language": "python",
     "metadata": {},
     "outputs": [
      {
       "metadata": {},
       "output_type": "pyout",
       "prompt_number": 58,
       "text": [
        "array([0, 1, 2, 3, 4])"
       ]
      }
     ],
     "prompt_number": 58
    },
    {
     "cell_type": "code",
     "collapsed": false,
     "input": [
      "%time tt = np.array(zip(text_vec,text_vec_ptr),dtype=np.dtype([(\"text\",text_vec.dtype),(\"ptr\",text_vec_ptr.dtype)]))"
     ],
     "language": "python",
     "metadata": {},
     "outputs": [
      {
       "output_type": "stream",
       "stream": "stdout",
       "text": [
        "CPU times: user 0 ns, sys: 0 ns, total: 0 ns\n",
        "Wall time: 94.2 \u00b5s\n"
       ]
      }
     ],
     "prompt_number": 75
    },
    {
     "cell_type": "code",
     "collapsed": false,
     "input": [
      "tt"
     ],
     "language": "python",
     "metadata": {},
     "outputs": [
      {
       "metadata": {},
       "output_type": "pyout",
       "prompt_number": 72,
       "text": [
        "array([(u'\\u4eca\\u5929', 0), (u'\\u5929\\u5929', 1), (u'\\u5929\\u6c23', 2),\n",
        "       (u'\\u6c23\\u5f88', 3), (u'\\u5f88\\u597d', 4)], \n",
        "      dtype=[('text', '<U2'), ('ptr', '<i8')])"
       ]
      }
     ],
     "prompt_number": 72
    },
    {
     "cell_type": "code",
     "collapsed": false,
     "input": [],
     "language": "python",
     "metadata": {},
     "outputs": [],
     "prompt_number": 69
    },
    {
     "cell_type": "code",
     "collapsed": false,
     "input": [],
     "language": "python",
     "metadata": {},
     "outputs": []
    }
   ],
   "metadata": {}
  }
 ]
}