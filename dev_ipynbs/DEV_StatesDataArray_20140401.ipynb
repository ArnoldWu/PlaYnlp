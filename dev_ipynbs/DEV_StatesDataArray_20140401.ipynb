{
 "metadata": {
  "name": "",
  "signature": "sha256:8c3165708c07d7370df5c1ae8c22776f2ba03fff5056432057f8b6ae9d5413e0"
 },
 "nbformat": 3,
 "nbformat_minor": 0,
 "worksheets": [
  {
   "cells": [
    {
     "cell_type": "code",
     "collapsed": false,
     "input": [
      "import PlaYnlp.tokenizer as tkr \n",
      "import PlaYnlp.vectorizer as vcr\n",
      "from PlaYnlp import dataio\n",
      "\n",
      "from PlaYnlp.sparse import L0_norm_col_summarizer as L0_col_sum\n",
      "from PlaYnlp.sparse import L1_norm_col_summarizer as L1_col_sum\n",
      "import numpy as np\n",
      "import scipy as sp"
     ],
     "language": "python",
     "metadata": {},
     "outputs": [],
     "prompt_number": 1
    },
    {
     "cell_type": "code",
     "collapsed": false,
     "input": [
      "jieba_without_html_tokenizer = tkr.tokenize_gen(lambda text:tkr.jieba.cut(tkr.nltk.clean_html(text)))\n",
      "unigram_without_html_tokenizer = tkr.tokenize_gen(lambda text:tkr.ngram(tkr.nltk.clean_html(text),n=1))\n",
      "bigram_without_html_tokenizer = tkr.tokenize_gen(lambda text:tkr.ngram(tkr.nltk.clean_html(text),n=2))\n",
      "jieba_vec_count_kwargs = {\"tokenizer\":jieba_without_html_tokenizer,\"lowercase\":False}\n",
      "unigram_vec_count_kwargs = {\"tokenizer\":unigram_without_html_tokenizer,\"lowercase\":False}\n",
      "bigram_vec_count_kwargs = {\"tokenizer\":bigram_without_html_tokenizer,\"lowercase\":False}"
     ],
     "language": "python",
     "metadata": {},
     "outputs": [],
     "prompt_number": 2
    },
    {
     "cell_type": "code",
     "collapsed": false,
     "input": [
      "import pandas as pd \n",
      "test_text_df = pd.DataFrame([u\"\u4eca\u5929\u5929\u6c23\u5f88\u597d\",u\"\u4eca\u5929\u5929\u6c23\u5f88\u721b\",u\"\u6211\u6068\u5b83\",u\"\u5b83\u6068\u6211\",u\"\u6211\u611b\u5b83\",u\"\u5b83\u611b\u6211\",u\"\u4eca\u5929\u5f88\u8870\",u\"\u65e5\u5b50\u4e00\u5929\u4e00\u5929\u904e\",u\"\u5929\u5929\u5237\u7259\u6d17\u81c9\"])\n",
      "test_text_df.columns = [\"text\"]\n",
      "test_text_df = test_text_df.reset_index()\n",
      "test_text_df[\"idx\"] = map(lambda xx :u\"%05d\" % xx,test_text_df[\"index\"])\n",
      "test_text_df"
     ],
     "language": "python",
     "metadata": {},
     "outputs": [
      {
       "html": [
        "<div style=\"max-height:1000px;max-width:1500px;overflow:auto;\">\n",
        "<table border=\"1\" class=\"dataframe\">\n",
        "  <thead>\n",
        "    <tr style=\"text-align: right;\">\n",
        "      <th></th>\n",
        "      <th>index</th>\n",
        "      <th>text</th>\n",
        "      <th>idx</th>\n",
        "    </tr>\n",
        "  </thead>\n",
        "  <tbody>\n",
        "    <tr>\n",
        "      <th>0</th>\n",
        "      <td> 0</td>\n",
        "      <td>  \u4eca\u5929\u5929\u6c23\u5f88\u597d</td>\n",
        "      <td> 00000</td>\n",
        "    </tr>\n",
        "    <tr>\n",
        "      <th>1</th>\n",
        "      <td> 1</td>\n",
        "      <td>  \u4eca\u5929\u5929\u6c23\u5f88\u721b</td>\n",
        "      <td> 00001</td>\n",
        "    </tr>\n",
        "    <tr>\n",
        "      <th>2</th>\n",
        "      <td> 2</td>\n",
        "      <td>     \u6211\u6068\u5b83</td>\n",
        "      <td> 00002</td>\n",
        "    </tr>\n",
        "    <tr>\n",
        "      <th>3</th>\n",
        "      <td> 3</td>\n",
        "      <td>     \u5b83\u6068\u6211</td>\n",
        "      <td> 00003</td>\n",
        "    </tr>\n",
        "    <tr>\n",
        "      <th>4</th>\n",
        "      <td> 4</td>\n",
        "      <td>     \u6211\u611b\u5b83</td>\n",
        "      <td> 00004</td>\n",
        "    </tr>\n",
        "    <tr>\n",
        "      <th>5</th>\n",
        "      <td> 5</td>\n",
        "      <td>     \u5b83\u611b\u6211</td>\n",
        "      <td> 00005</td>\n",
        "    </tr>\n",
        "    <tr>\n",
        "      <th>6</th>\n",
        "      <td> 6</td>\n",
        "      <td>    \u4eca\u5929\u5f88\u8870</td>\n",
        "      <td> 00006</td>\n",
        "    </tr>\n",
        "    <tr>\n",
        "      <th>7</th>\n",
        "      <td> 7</td>\n",
        "      <td> \u65e5\u5b50\u4e00\u5929\u4e00\u5929\u904e</td>\n",
        "      <td> 00007</td>\n",
        "    </tr>\n",
        "    <tr>\n",
        "      <th>8</th>\n",
        "      <td> 8</td>\n",
        "      <td>  \u5929\u5929\u5237\u7259\u6d17\u81c9</td>\n",
        "      <td> 00008</td>\n",
        "    </tr>\n",
        "  </tbody>\n",
        "</table>\n",
        "<p>9 rows \u00d7 3 columns</p>\n",
        "</div>"
       ],
       "metadata": {},
       "output_type": "pyout",
       "prompt_number": 413,
       "text": [
        "   index     text    idx\n",
        "0      0   \u4eca\u5929\u5929\u6c23\u5f88\u597d  00000\n",
        "1      1   \u4eca\u5929\u5929\u6c23\u5f88\u721b  00001\n",
        "2      2      \u6211\u6068\u5b83  00002\n",
        "3      3      \u5b83\u6068\u6211  00003\n",
        "4      4      \u6211\u611b\u5b83  00004\n",
        "5      5      \u5b83\u611b\u6211  00005\n",
        "6      6     \u4eca\u5929\u5f88\u8870  00006\n",
        "7      7  \u65e5\u5b50\u4e00\u5929\u4e00\u5929\u904e  00007\n",
        "8      8   \u5929\u5929\u5237\u7259\u6d17\u81c9  00008\n",
        "\n",
        "[9 rows x 3 columns]"
       ]
      }
     ],
     "prompt_number": 413
    },
    {
     "cell_type": "code",
     "collapsed": false,
     "input": [
      "test_jieba_sdtm = vcr.vectorize_text(df=test_text_df,\n",
      "                                     text_col=\"text\", \n",
      "                                     idx_col=\"index\", \n",
      "                                     cond_query={},\n",
      "                                     idx_query= [],\n",
      "                                     vect_gen=vcr.CountVectorizer, \n",
      "                                     vect_gen_init_kwargs = unigram_vec_count_kwargs)"
     ],
     "language": "python",
     "metadata": {},
     "outputs": [],
     "prompt_number": 414
    },
    {
     "cell_type": "code",
     "collapsed": false,
     "input": [],
     "language": "python",
     "metadata": {},
     "outputs": [],
     "prompt_number": 414
    },
    {
     "cell_type": "code",
     "collapsed": false,
     "input": [
      "import numpy as np\n",
      "import inspect\n",
      "import types\n",
      "import PlaYnlp.tokenizer as tkr "
     ],
     "language": "python",
     "metadata": {},
     "outputs": [],
     "prompt_number": 415
    },
    {
     "cell_type": "code",
     "collapsed": false,
     "input": [],
     "language": "python",
     "metadata": {},
     "outputs": [],
     "prompt_number": 415
    },
    {
     "cell_type": "code",
     "collapsed": false,
     "input": [
      "def clean_no_data_tensors(np_array):\n",
      "    return np_array[map(lambda xx:0 if xx==1 else slice(None,None,None),np_array.shape)]\n",
      "\n",
      "class ValuesArray(np.ndarray):\n",
      "    def __new__(cls, data, dtype=None):\n",
      "        if isinstance(data, cls):\n",
      "            return data\n",
      "        else:\n",
      "            values_array = np.array(data, dtype=dtype).view(cls)\n",
      "            return values_array\n",
      "        \n",
      "    def decompose_into_states_ptrs(self):\n",
      "        u,i = np.unique(self, return_inverse=True)\n",
      "        states_array = StatesArray(data=u)\n",
      "        ptr_array = PtrArray(data=i, eval_cls=type(self))\n",
      "        return states_array, ptr_array\n",
      "\n",
      "    \n",
      "class StatesArray(np.ndarray):\n",
      "    def __new__(cls, data, dtype=None):\n",
      "        if isinstance(data, cls):\n",
      "            return data\n",
      "        else:\n",
      "            states_array = np.unique(np.array(data, dtype=dtype)).view(cls)\n",
      "            return states_array\n",
      "    \n",
      "    def _eval(self, ptr_array):\n",
      "        assert isinstance(ptr_array, PtrArray)\n",
      "        return self[ptr_array].view(ptr_array._eval_cls).copy()\n",
      "        \n",
      "    \n",
      "\n",
      "class PtrArray(np.ndarray):\n",
      "    def __new__(cls, data, dtype=None, eval_cls=np.ndarray):\n",
      "        if isinstance(data, cls):\n",
      "            data._eval_cls = eval_cls\n",
      "            return data\n",
      "        else:\n",
      "            data_array = np.array(data, dtype).view(cls)\n",
      "            data_array._eval_cls = eval_cls\n",
      "            return data_array\n",
      "    \n",
      "    def trans(self, ptrs_transform):\n",
      "        return type(self)(data = ptrs_transform[self],eval_cls=self._eval_cls)\n",
      "\n",
      "    def ngram(self, n):\n",
      "        ngram_results = list(tkr.ngram(self,n))\n",
      "        return type(self)(data=ngram_results, eval_cls=self._eval_cls)\n",
      "\n",
      "\n",
      "\n",
      "class StatesDictionary(object):\n",
      "    def __init__(self, states_array):\n",
      "        assert isinstance(states_array, StatesArray)\n",
      "        self._states_array = states_array\n",
      "        self._referred_by = []\n",
      "    \n",
      "    \n",
      "    def _eval(self, ptr_array):\n",
      "        assert isinstance(ptr_array, PtrArray)\n",
      "        return self._states_array[ptr_array].view(ptr_array._eval_cls).copy()\n",
      "    \n",
      "    \n",
      "    def update(self, new_states_array, ptrs_transform):\n",
      "        self._states_array = new_states_array\n",
      "        for one_states_data_array in self._referred_by:\n",
      "            one_states_data_array._ptr_array = one_states_data_array._ptr_array.trans(ptrs_transform)\n",
      "    \n",
      "    \n",
      "    def __getitem__(self, *args):\n",
      "        if isinstance(args[0], PtrArray):\n",
      "            return self._eval(args[0])\n",
      "        else:\n",
      "            return self._states_array[args].view(np.ndarray).copy()\n",
      "        \n",
      "        \n",
      "    @property\n",
      "    def _dtype(self):\n",
      "        return self._states_array.dtype\n",
      "        \n",
      "    \n",
      "class StatesDataArray(object):\n",
      "    _ptr_array_cls = PtrArray\n",
      "    _ptr_array_eval_cls = ValuesArray\n",
      "    \n",
      "    \n",
      "    def __init__(self, states_array, ptr_array):\n",
      "        \n",
      "        assert isinstance(states_array,(StatesDictionary,StatesArray))\n",
      "        assert isinstance(ptr_array, self._ptr_array_cls)\n",
      "        \n",
      "        self._ptr_array = ptr_array    \n",
      "        \n",
      "        if isinstance(states_array,StatesDictionary):\n",
      "            self._states_dict = states_array\n",
      "        else:\n",
      "            self._states_dict = StatesDictionary(states_array=states_array)\n",
      "        \n",
      "        self._states_dict._referred_by.append(self)\n",
      "    \n",
      "    \n",
      "    @property\n",
      "    def _eval(self):\n",
      "        return self._states_dict._eval(self._ptr_array)\n",
      "    \n",
      "    \n",
      "    def __repr__(self):\n",
      "        return self._states_dict._eval(self._ptr_array).__repr__()\n",
      "    \n",
      "    \n",
      "    @property\n",
      "    def _dtype(self):\n",
      "        return self._states_dict._dtype\n",
      "    \n",
      "    \n",
      "    @property\n",
      "    def _shape(self):\n",
      "        return self._ptr_array.shape\n",
      "    \n",
      "    \n",
      "    @property\n",
      "    def _ncol(self):\n",
      "        return self._ptr_array.shape[1] if len(self._ptr_array.shape) > 1 else 1\n",
      "    \n",
      "    \n",
      "    @property\n",
      "    def _nrow(self):\n",
      "        return self._ptr_array.shape[0]\n",
      "    \n",
      "    \n",
      "    def _nrow_ones(self, dtype=np.int64, reshape=True):\n",
      "        if reshape:\n",
      "            return np.ones(self._nrow, dtype=dtype).reshape((self._nrow,1))\n",
      "        else:\n",
      "            return np.ones(self._nrow, dtype=dtype)\n",
      "    \n",
      "    \n",
      "    def _ncol_ones(self, dtype=np.int64, reshape=True):\n",
      "        if reshape:\n",
      "            return np.ones(self._ncol, dtype=dtype).reshape((1,self._ncol))\n",
      "        else:\n",
      "            return np.ones(self._ncol, dtype=dtype)\n",
      "        \n",
      "    \n",
      "    def ngram(self, n, update=True):\n",
      "        if update:\n",
      "            self._ptr_array = self._ptr_array.ngram(n)\n",
      "            return self\n",
      "        else:\n",
      "            return type(self)(states_array=self._states_dict,\n",
      "                              ptr_array=self._ptr_array.ngram(n))\n",
      "            \n",
      "        \n",
      "    def extend_rows(self, states_data_array, do_clean_no_data_tensor=True, update=True, _nrow_ones_kwargs={}):\n",
      "        assert isinstance(states_data_array, type(self))\n",
      "        \n",
      "        new_ptr_array = np.kron(self._ptr_array,states_data_array._nrow_ones(**_nrow_ones_kwargs))\n",
      "        \n",
      "        if do_clean_no_data_tensor:\n",
      "            new_ptr_array = clean_no_data_tensors(new_ptr_array)\n",
      "        \n",
      "        new_ptr_array = self._ptr_array_cls(data=new_ptr_array,\n",
      "                                            eval_cls=self._ptr_array_eval_cls)\n",
      "        \n",
      "        if update:\n",
      "            self._ptr_array = new_ptr_array\n",
      "            return self\n",
      "        else:\n",
      "            return type(self)(states_array=self._states_dict,\n",
      "                              ptr_array=new_ptr_array)\n",
      "            \n",
      "        \n",
      "        \n",
      "\n",
      "    \n",
      "        \n",
      "def check_args(checker, *args):\n",
      "    assert callable(checker)\n",
      "    args_len = len(args)\n",
      "    return np.ones(args_len,dtype=np.int)[np.array(map(checker,args))].sum() == args_len\n",
      "    \n",
      "    \n",
      "def class_checker(xx):\n",
      "    return inspect.isclass(xx)\n",
      "    \n",
      "\n",
      "def check_type_of_args(valid_type, *args):\n",
      "    if isinstance(valid_type, (tuple,list)):\n",
      "        assert check_args(class_checker,*valid_type)\n",
      "        valid_types = tuple(valid_type)\n",
      "    \n",
      "    elif inspect.isclass(valid_type):\n",
      "        valid_types = valid_type\n",
      "\n",
      "    return check_args(lambda xx:isinstance(xx,valid_types),*args)    \n",
      "\n",
      "    \n",
      "class StatesDictionaryMerger(list):\n",
      "    def __init__(self, *states_dicts):\n",
      "        \n",
      "        # checking states_dicts are all StatesDictionary's instance\n",
      "        assert check_type_of_args(StatesDictionary, *states_dicts)\n",
      "        \n",
      "        # checking states_dicts have the same dtype\n",
      "        assert len(np.unique(np.array(map(lambda xx:xx._dtype.type,states_dicts)))) == 1\n",
      "        \n",
      "        list.__init__(self,states_dicts)\n",
      "    \n",
      "    \n",
      "    @property\n",
      "    def _unique_states_array_ids(self):\n",
      "        return np.unique(np.array(map(lambda xx:id(xx._states_array),self)))\n",
      "        \n",
      "    \n",
      "    @property\n",
      "    def merge(self):\n",
      "        \n",
      "        if len(self._unique_states_array_ids) > 1:\n",
      "            states_array_lens = map(lambda xx:len(xx._states_array),self)\n",
      "            sector_position = map(lambda xx:slice(*xx),list(tkr.ngram(np.cumsum([0] + states_array_lens),2)))\n",
      "            join_all_states_arrays = np.concatenate(tuple(map(lambda xx:xx._states_array,self)),axis=0)\n",
      "            u,i = np.unique(join_all_states_arrays,return_inverse=True)        \n",
      "            ptrs_transforms = map(lambda xx:i[xx],sector_position)\n",
      "        \n",
      "            self._new_states_array = StatesArray(data=u)\n",
      "            self._ptrs_transforms = ptrs_transforms\n",
      "        \n",
      "        else:\n",
      "            self._new_states_array = self[0]._states_array\n",
      "        \n",
      "        return self\n",
      "    \n",
      "    \n",
      "    def update(self):\n",
      "        if len(self._unique_states_array_ids) > 1:\n",
      "            for ptrs_trans, states_dict in zip(self._ptrs_transforms,self):\n",
      "                states_dict.update(new_states_array = self._new_states_array, \n",
      "                                   ptrs_transform = ptrs_trans)\n",
      "    \n",
      "    \n",
      "\n",
      "\n",
      "class StatesDataArrayMerger(list):\n",
      "    _ptr_array_cls = PtrArray\n",
      "    _ptr_array_eval_cls = ValuesArray\n",
      "    \n",
      "    \n",
      "    def __init__(self, *states_data_arrays):\n",
      "        \n",
      "        # checking states_data_arrays are all StatesDataArray's instance\n",
      "        assert check_type_of_args(StatesDataArray, *states_data_arrays)\n",
      "        \n",
      "        list.__init__(self,states_data_arrays)\n",
      "        \n",
      "        \n",
      "    def merge(self,axis=0):\n",
      "        assert axis in (0,1)\n",
      "        \n",
      "        # [axis=0] Appned more Rows\n",
      "        if axis==0:\n",
      "            \n",
      "            # checking states_data_arrays has the same _ncol\n",
      "            assert len(np.unique(map(lambda xx:xx._ncol,self))) == 1\n",
      "            \n",
      "            states_dict_merger = StatesDictionaryMerger(*map(lambda xx:xx._states_dict,self))\n",
      "            states_dict_merger.merge.update()\n",
      "            #print \"states_dict_merger.merge._new_states_array = \",states_dict_merger.merge._new_states_array\n",
      "            \n",
      "            new_ptrs_array = self._ptr_array_cls(np.concatenate(tuple(map(lambda xx:xx._ptr_array,self)),axis=0),\n",
      "                                                 eval_cls=self._ptr_array_eval_cls)\n",
      "            new_states_array = states_dict_merger.merge._new_states_array\n",
      "            \n",
      "            return StatesDataArray(states_array=new_states_array, ptr_array=new_ptrs_array)\n",
      "            \n",
      "            \n",
      "        # [axis=1] Appned more Columns\n",
      "        else:\n",
      "            \n",
      "            # checking states_data_arrays has the same _nrow\n",
      "            assert len(np.unique(map(lambda xx:xx._ncol,self))) == 1\n",
      "            \n",
      "        \n",
      "        \n",
      "    \n",
      "class StatesDataFrame(object):\n",
      "    pass\n",
      "\n",
      "\n",
      "class StatesModelFrame(object):\n",
      "    pass\n"
     ],
     "language": "python",
     "metadata": {},
     "outputs": [],
     "prompt_number": 416
    },
    {
     "cell_type": "code",
     "collapsed": false,
     "input": [
      "text_val_arrays = map(lambda xx:ValuesArray(list(tkr.ngram(xx,[1]))),test_text_df[\"text\"].values)\n",
      "text_val_arrays"
     ],
     "language": "python",
     "metadata": {},
     "outputs": [
      {
       "metadata": {},
       "output_type": "pyout",
       "prompt_number": 417,
       "text": [
        "[ValuesArray([u'\\u4eca', u'\\u5929', u'\\u5929', u'\\u6c23', u'\\u5f88', u'\\u597d'], \n",
        "       dtype='<U1'),\n",
        " ValuesArray([u'\\u4eca', u'\\u5929', u'\\u5929', u'\\u6c23', u'\\u5f88', u'\\u721b'], \n",
        "       dtype='<U1'),\n",
        " ValuesArray([u'\\u6211', u'\\u6068', u'\\u5b83'], \n",
        "       dtype='<U1'),\n",
        " ValuesArray([u'\\u5b83', u'\\u6068', u'\\u6211'], \n",
        "       dtype='<U1'),\n",
        " ValuesArray([u'\\u6211', u'\\u611b', u'\\u5b83'], \n",
        "       dtype='<U1'),\n",
        " ValuesArray([u'\\u5b83', u'\\u611b', u'\\u6211'], \n",
        "       dtype='<U1'),\n",
        " ValuesArray([u'\\u4eca', u'\\u5929', u'\\u5f88', u'\\u8870'], \n",
        "       dtype='<U1'),\n",
        " ValuesArray([u'\\u65e5', u'\\u5b50', u'\\u4e00', u'\\u5929', u'\\u4e00', u'\\u5929',\n",
        "        u'\\u904e'], \n",
        "       dtype='<U1'),\n",
        " ValuesArray([u'\\u5929', u'\\u5929', u'\\u5237', u'\\u7259', u'\\u6d17', u'\\u81c9'], \n",
        "       dtype='<U1')]"
       ]
      }
     ],
     "prompt_number": 417
    },
    {
     "cell_type": "code",
     "collapsed": false,
     "input": [
      "text_states_data_arrays = map(lambda xx:StatesDataArray(*xx.decompose_into_states_ptrs()).ngram(2), text_val_arrays)\n",
      "text_states_data_arrays"
     ],
     "language": "python",
     "metadata": {},
     "outputs": [
      {
       "metadata": {},
       "output_type": "pyout",
       "prompt_number": 418,
       "text": [
        "[ValuesArray([[u'\\u4eca', u'\\u5929'],\n",
        "        [u'\\u5929', u'\\u5929'],\n",
        "        [u'\\u5929', u'\\u6c23'],\n",
        "        [u'\\u6c23', u'\\u5f88'],\n",
        "        [u'\\u5f88', u'\\u597d']], \n",
        "       dtype='<U1'), ValuesArray([[u'\\u4eca', u'\\u5929'],\n",
        "        [u'\\u5929', u'\\u5929'],\n",
        "        [u'\\u5929', u'\\u6c23'],\n",
        "        [u'\\u6c23', u'\\u5f88'],\n",
        "        [u'\\u5f88', u'\\u721b']], \n",
        "       dtype='<U1'), ValuesArray([[u'\\u6211', u'\\u6068'],\n",
        "        [u'\\u6068', u'\\u5b83']], \n",
        "       dtype='<U1'), ValuesArray([[u'\\u5b83', u'\\u6068'],\n",
        "        [u'\\u6068', u'\\u6211']], \n",
        "       dtype='<U1'), ValuesArray([[u'\\u6211', u'\\u611b'],\n",
        "        [u'\\u611b', u'\\u5b83']], \n",
        "       dtype='<U1'), ValuesArray([[u'\\u5b83', u'\\u611b'],\n",
        "        [u'\\u611b', u'\\u6211']], \n",
        "       dtype='<U1'), ValuesArray([[u'\\u4eca', u'\\u5929'],\n",
        "        [u'\\u5929', u'\\u5f88'],\n",
        "        [u'\\u5f88', u'\\u8870']], \n",
        "       dtype='<U1'), ValuesArray([[u'\\u65e5', u'\\u5b50'],\n",
        "        [u'\\u5b50', u'\\u4e00'],\n",
        "        [u'\\u4e00', u'\\u5929'],\n",
        "        [u'\\u5929', u'\\u4e00'],\n",
        "        [u'\\u4e00', u'\\u5929'],\n",
        "        [u'\\u5929', u'\\u904e']], \n",
        "       dtype='<U1'), ValuesArray([[u'\\u5929', u'\\u5929'],\n",
        "        [u'\\u5929', u'\\u5237'],\n",
        "        [u'\\u5237', u'\\u7259'],\n",
        "        [u'\\u7259', u'\\u6d17'],\n",
        "        [u'\\u6d17', u'\\u81c9']], \n",
        "       dtype='<U1')]"
       ]
      }
     ],
     "prompt_number": 418
    },
    {
     "cell_type": "code",
     "collapsed": false,
     "input": [
      "states_data_array_merger = StatesDataArrayMerger(*text_states_data_arrays)\n",
      "test_merge = states_data_array_merger.merge()"
     ],
     "language": "python",
     "metadata": {},
     "outputs": [],
     "prompt_number": 420
    },
    {
     "cell_type": "code",
     "collapsed": false,
     "input": [
      "test_merge._eval"
     ],
     "language": "python",
     "metadata": {},
     "outputs": [
      {
       "metadata": {},
       "output_type": "pyout",
       "prompt_number": 423,
       "text": [
        "ValuesArray([[u'\\u4eca', u'\\u5929'],\n",
        "       [u'\\u5929', u'\\u5929'],\n",
        "       [u'\\u5929', u'\\u6c23'],\n",
        "       [u'\\u6c23', u'\\u5f88'],\n",
        "       [u'\\u5f88', u'\\u597d'],\n",
        "       [u'\\u4eca', u'\\u5929'],\n",
        "       [u'\\u5929', u'\\u5929'],\n",
        "       [u'\\u5929', u'\\u6c23'],\n",
        "       [u'\\u6c23', u'\\u5f88'],\n",
        "       [u'\\u5f88', u'\\u721b'],\n",
        "       [u'\\u6211', u'\\u6068'],\n",
        "       [u'\\u6068', u'\\u5b83'],\n",
        "       [u'\\u5b83', u'\\u6068'],\n",
        "       [u'\\u6068', u'\\u6211'],\n",
        "       [u'\\u6211', u'\\u611b'],\n",
        "       [u'\\u611b', u'\\u5b83'],\n",
        "       [u'\\u5b83', u'\\u611b'],\n",
        "       [u'\\u611b', u'\\u6211'],\n",
        "       [u'\\u4eca', u'\\u5929'],\n",
        "       [u'\\u5929', u'\\u5f88'],\n",
        "       [u'\\u5f88', u'\\u8870'],\n",
        "       [u'\\u65e5', u'\\u5b50'],\n",
        "       [u'\\u5b50', u'\\u4e00'],\n",
        "       [u'\\u4e00', u'\\u5929'],\n",
        "       [u'\\u5929', u'\\u4e00'],\n",
        "       [u'\\u4e00', u'\\u5929'],\n",
        "       [u'\\u5929', u'\\u904e'],\n",
        "       [u'\\u5929', u'\\u5929'],\n",
        "       [u'\\u5929', u'\\u5237'],\n",
        "       [u'\\u5237', u'\\u7259'],\n",
        "       [u'\\u7259', u'\\u6d17'],\n",
        "       [u'\\u6d17', u'\\u81c9']], \n",
        "      dtype='<U1')"
       ]
      }
     ],
     "prompt_number": 423
    },
    {
     "cell_type": "code",
     "collapsed": false,
     "input": [
      "import pandas as pd"
     ],
     "language": "python",
     "metadata": {},
     "outputs": [],
     "prompt_number": 424
    },
    {
     "cell_type": "code",
     "collapsed": false,
     "input": [
      "test_pd_df = pd.DataFrame(test_merge._eval)\n",
      "test_pd_df_gb_size = test_pd_df.groupby([0,1]).size()\n",
      "test_pd_df_gb_size.unstack()"
     ],
     "language": "python",
     "metadata": {},
     "outputs": [
      {
       "html": [
        "<div style=\"max-height:1000px;max-width:1500px;overflow:auto;\">\n",
        "<table border=\"1\" class=\"dataframe\">\n",
        "  <thead>\n",
        "    <tr style=\"text-align: right;\">\n",
        "      <th>1</th>\n",
        "      <th>\u4e00</th>\n",
        "      <th>\u5237</th>\n",
        "      <th>\u5929</th>\n",
        "      <th>\u597d</th>\n",
        "      <th>\u5b50</th>\n",
        "      <th>\u5b83</th>\n",
        "      <th>\u5f88</th>\n",
        "      <th>\u6068</th>\n",
        "      <th>\u611b</th>\n",
        "      <th>\u6211</th>\n",
        "      <th>\u6c23</th>\n",
        "      <th>\u6d17</th>\n",
        "      <th>\u721b</th>\n",
        "      <th>\u7259</th>\n",
        "      <th>\u81c9</th>\n",
        "      <th>\u8870</th>\n",
        "      <th>\u904e</th>\n",
        "    </tr>\n",
        "    <tr>\n",
        "      <th>0</th>\n",
        "      <th></th>\n",
        "      <th></th>\n",
        "      <th></th>\n",
        "      <th></th>\n",
        "      <th></th>\n",
        "      <th></th>\n",
        "      <th></th>\n",
        "      <th></th>\n",
        "      <th></th>\n",
        "      <th></th>\n",
        "      <th></th>\n",
        "      <th></th>\n",
        "      <th></th>\n",
        "      <th></th>\n",
        "      <th></th>\n",
        "      <th></th>\n",
        "      <th></th>\n",
        "    </tr>\n",
        "  </thead>\n",
        "  <tbody>\n",
        "    <tr>\n",
        "      <th>\u4e00</th>\n",
        "      <td>NaN</td>\n",
        "      <td>NaN</td>\n",
        "      <td>  2</td>\n",
        "      <td>NaN</td>\n",
        "      <td>NaN</td>\n",
        "      <td>NaN</td>\n",
        "      <td>NaN</td>\n",
        "      <td>NaN</td>\n",
        "      <td>NaN</td>\n",
        "      <td>NaN</td>\n",
        "      <td>NaN</td>\n",
        "      <td>NaN</td>\n",
        "      <td>NaN</td>\n",
        "      <td>NaN</td>\n",
        "      <td>NaN</td>\n",
        "      <td>NaN</td>\n",
        "      <td>NaN</td>\n",
        "    </tr>\n",
        "    <tr>\n",
        "      <th>\u4eca</th>\n",
        "      <td>NaN</td>\n",
        "      <td>NaN</td>\n",
        "      <td>  3</td>\n",
        "      <td>NaN</td>\n",
        "      <td>NaN</td>\n",
        "      <td>NaN</td>\n",
        "      <td>NaN</td>\n",
        "      <td>NaN</td>\n",
        "      <td>NaN</td>\n",
        "      <td>NaN</td>\n",
        "      <td>NaN</td>\n",
        "      <td>NaN</td>\n",
        "      <td>NaN</td>\n",
        "      <td>NaN</td>\n",
        "      <td>NaN</td>\n",
        "      <td>NaN</td>\n",
        "      <td>NaN</td>\n",
        "    </tr>\n",
        "    <tr>\n",
        "      <th>\u5237</th>\n",
        "      <td>NaN</td>\n",
        "      <td>NaN</td>\n",
        "      <td>NaN</td>\n",
        "      <td>NaN</td>\n",
        "      <td>NaN</td>\n",
        "      <td>NaN</td>\n",
        "      <td>NaN</td>\n",
        "      <td>NaN</td>\n",
        "      <td>NaN</td>\n",
        "      <td>NaN</td>\n",
        "      <td>NaN</td>\n",
        "      <td>NaN</td>\n",
        "      <td>NaN</td>\n",
        "      <td>  1</td>\n",
        "      <td>NaN</td>\n",
        "      <td>NaN</td>\n",
        "      <td>NaN</td>\n",
        "    </tr>\n",
        "    <tr>\n",
        "      <th>\u5929</th>\n",
        "      <td>  1</td>\n",
        "      <td>  1</td>\n",
        "      <td>  3</td>\n",
        "      <td>NaN</td>\n",
        "      <td>NaN</td>\n",
        "      <td>NaN</td>\n",
        "      <td>  1</td>\n",
        "      <td>NaN</td>\n",
        "      <td>NaN</td>\n",
        "      <td>NaN</td>\n",
        "      <td>  2</td>\n",
        "      <td>NaN</td>\n",
        "      <td>NaN</td>\n",
        "      <td>NaN</td>\n",
        "      <td>NaN</td>\n",
        "      <td>NaN</td>\n",
        "      <td>  1</td>\n",
        "    </tr>\n",
        "    <tr>\n",
        "      <th>\u5b50</th>\n",
        "      <td>  1</td>\n",
        "      <td>NaN</td>\n",
        "      <td>NaN</td>\n",
        "      <td>NaN</td>\n",
        "      <td>NaN</td>\n",
        "      <td>NaN</td>\n",
        "      <td>NaN</td>\n",
        "      <td>NaN</td>\n",
        "      <td>NaN</td>\n",
        "      <td>NaN</td>\n",
        "      <td>NaN</td>\n",
        "      <td>NaN</td>\n",
        "      <td>NaN</td>\n",
        "      <td>NaN</td>\n",
        "      <td>NaN</td>\n",
        "      <td>NaN</td>\n",
        "      <td>NaN</td>\n",
        "    </tr>\n",
        "    <tr>\n",
        "      <th>\u5b83</th>\n",
        "      <td>NaN</td>\n",
        "      <td>NaN</td>\n",
        "      <td>NaN</td>\n",
        "      <td>NaN</td>\n",
        "      <td>NaN</td>\n",
        "      <td>NaN</td>\n",
        "      <td>NaN</td>\n",
        "      <td>  1</td>\n",
        "      <td>  1</td>\n",
        "      <td>NaN</td>\n",
        "      <td>NaN</td>\n",
        "      <td>NaN</td>\n",
        "      <td>NaN</td>\n",
        "      <td>NaN</td>\n",
        "      <td>NaN</td>\n",
        "      <td>NaN</td>\n",
        "      <td>NaN</td>\n",
        "    </tr>\n",
        "    <tr>\n",
        "      <th>\u5f88</th>\n",
        "      <td>NaN</td>\n",
        "      <td>NaN</td>\n",
        "      <td>NaN</td>\n",
        "      <td>  1</td>\n",
        "      <td>NaN</td>\n",
        "      <td>NaN</td>\n",
        "      <td>NaN</td>\n",
        "      <td>NaN</td>\n",
        "      <td>NaN</td>\n",
        "      <td>NaN</td>\n",
        "      <td>NaN</td>\n",
        "      <td>NaN</td>\n",
        "      <td>  1</td>\n",
        "      <td>NaN</td>\n",
        "      <td>NaN</td>\n",
        "      <td>  1</td>\n",
        "      <td>NaN</td>\n",
        "    </tr>\n",
        "    <tr>\n",
        "      <th>\u6068</th>\n",
        "      <td>NaN</td>\n",
        "      <td>NaN</td>\n",
        "      <td>NaN</td>\n",
        "      <td>NaN</td>\n",
        "      <td>NaN</td>\n",
        "      <td>  1</td>\n",
        "      <td>NaN</td>\n",
        "      <td>NaN</td>\n",
        "      <td>NaN</td>\n",
        "      <td>  1</td>\n",
        "      <td>NaN</td>\n",
        "      <td>NaN</td>\n",
        "      <td>NaN</td>\n",
        "      <td>NaN</td>\n",
        "      <td>NaN</td>\n",
        "      <td>NaN</td>\n",
        "      <td>NaN</td>\n",
        "    </tr>\n",
        "    <tr>\n",
        "      <th>\u611b</th>\n",
        "      <td>NaN</td>\n",
        "      <td>NaN</td>\n",
        "      <td>NaN</td>\n",
        "      <td>NaN</td>\n",
        "      <td>NaN</td>\n",
        "      <td>  1</td>\n",
        "      <td>NaN</td>\n",
        "      <td>NaN</td>\n",
        "      <td>NaN</td>\n",
        "      <td>  1</td>\n",
        "      <td>NaN</td>\n",
        "      <td>NaN</td>\n",
        "      <td>NaN</td>\n",
        "      <td>NaN</td>\n",
        "      <td>NaN</td>\n",
        "      <td>NaN</td>\n",
        "      <td>NaN</td>\n",
        "    </tr>\n",
        "    <tr>\n",
        "      <th>\u6211</th>\n",
        "      <td>NaN</td>\n",
        "      <td>NaN</td>\n",
        "      <td>NaN</td>\n",
        "      <td>NaN</td>\n",
        "      <td>NaN</td>\n",
        "      <td>NaN</td>\n",
        "      <td>NaN</td>\n",
        "      <td>  1</td>\n",
        "      <td>  1</td>\n",
        "      <td>NaN</td>\n",
        "      <td>NaN</td>\n",
        "      <td>NaN</td>\n",
        "      <td>NaN</td>\n",
        "      <td>NaN</td>\n",
        "      <td>NaN</td>\n",
        "      <td>NaN</td>\n",
        "      <td>NaN</td>\n",
        "    </tr>\n",
        "    <tr>\n",
        "      <th>\u65e5</th>\n",
        "      <td>NaN</td>\n",
        "      <td>NaN</td>\n",
        "      <td>NaN</td>\n",
        "      <td>NaN</td>\n",
        "      <td>  1</td>\n",
        "      <td>NaN</td>\n",
        "      <td>NaN</td>\n",
        "      <td>NaN</td>\n",
        "      <td>NaN</td>\n",
        "      <td>NaN</td>\n",
        "      <td>NaN</td>\n",
        "      <td>NaN</td>\n",
        "      <td>NaN</td>\n",
        "      <td>NaN</td>\n",
        "      <td>NaN</td>\n",
        "      <td>NaN</td>\n",
        "      <td>NaN</td>\n",
        "    </tr>\n",
        "    <tr>\n",
        "      <th>\u6c23</th>\n",
        "      <td>NaN</td>\n",
        "      <td>NaN</td>\n",
        "      <td>NaN</td>\n",
        "      <td>NaN</td>\n",
        "      <td>NaN</td>\n",
        "      <td>NaN</td>\n",
        "      <td>  2</td>\n",
        "      <td>NaN</td>\n",
        "      <td>NaN</td>\n",
        "      <td>NaN</td>\n",
        "      <td>NaN</td>\n",
        "      <td>NaN</td>\n",
        "      <td>NaN</td>\n",
        "      <td>NaN</td>\n",
        "      <td>NaN</td>\n",
        "      <td>NaN</td>\n",
        "      <td>NaN</td>\n",
        "    </tr>\n",
        "    <tr>\n",
        "      <th>\u6d17</th>\n",
        "      <td>NaN</td>\n",
        "      <td>NaN</td>\n",
        "      <td>NaN</td>\n",
        "      <td>NaN</td>\n",
        "      <td>NaN</td>\n",
        "      <td>NaN</td>\n",
        "      <td>NaN</td>\n",
        "      <td>NaN</td>\n",
        "      <td>NaN</td>\n",
        "      <td>NaN</td>\n",
        "      <td>NaN</td>\n",
        "      <td>NaN</td>\n",
        "      <td>NaN</td>\n",
        "      <td>NaN</td>\n",
        "      <td>  1</td>\n",
        "      <td>NaN</td>\n",
        "      <td>NaN</td>\n",
        "    </tr>\n",
        "    <tr>\n",
        "      <th>\u7259</th>\n",
        "      <td>NaN</td>\n",
        "      <td>NaN</td>\n",
        "      <td>NaN</td>\n",
        "      <td>NaN</td>\n",
        "      <td>NaN</td>\n",
        "      <td>NaN</td>\n",
        "      <td>NaN</td>\n",
        "      <td>NaN</td>\n",
        "      <td>NaN</td>\n",
        "      <td>NaN</td>\n",
        "      <td>NaN</td>\n",
        "      <td>  1</td>\n",
        "      <td>NaN</td>\n",
        "      <td>NaN</td>\n",
        "      <td>NaN</td>\n",
        "      <td>NaN</td>\n",
        "      <td>NaN</td>\n",
        "    </tr>\n",
        "  </tbody>\n",
        "</table>\n",
        "<p>14 rows \u00d7 17 columns</p>\n",
        "</div>"
       ],
       "metadata": {},
       "output_type": "pyout",
       "prompt_number": 431,
       "text": [
        "1   \u4e00   \u5237   \u5929   \u597d   \u5b50   \u5b83   \u5f88   \u6068   \u611b   \u6211   \u6c23   \u6d17   \u721b   \u7259   \u81c9   \u8870   \u904e\n",
        "0                                                                    \n",
        "\u4e00 NaN NaN   2 NaN NaN NaN NaN NaN NaN NaN NaN NaN NaN NaN NaN NaN NaN\n",
        "\u4eca NaN NaN   3 NaN NaN NaN NaN NaN NaN NaN NaN NaN NaN NaN NaN NaN NaN\n",
        "\u5237 NaN NaN NaN NaN NaN NaN NaN NaN NaN NaN NaN NaN NaN   1 NaN NaN NaN\n",
        "\u5929   1   1   3 NaN NaN NaN   1 NaN NaN NaN   2 NaN NaN NaN NaN NaN   1\n",
        "\u5b50   1 NaN NaN NaN NaN NaN NaN NaN NaN NaN NaN NaN NaN NaN NaN NaN NaN\n",
        "\u5b83 NaN NaN NaN NaN NaN NaN NaN   1   1 NaN NaN NaN NaN NaN NaN NaN NaN\n",
        "\u5f88 NaN NaN NaN   1 NaN NaN NaN NaN NaN NaN NaN NaN   1 NaN NaN   1 NaN\n",
        "\u6068 NaN NaN NaN NaN NaN   1 NaN NaN NaN   1 NaN NaN NaN NaN NaN NaN NaN\n",
        "\u611b NaN NaN NaN NaN NaN   1 NaN NaN NaN   1 NaN NaN NaN NaN NaN NaN NaN\n",
        "\u6211 NaN NaN NaN NaN NaN NaN NaN   1   1 NaN NaN NaN NaN NaN NaN NaN NaN\n",
        "\u65e5 NaN NaN NaN NaN   1 NaN NaN NaN NaN NaN NaN NaN NaN NaN NaN NaN NaN\n",
        "\u6c23 NaN NaN NaN NaN NaN NaN   2 NaN NaN NaN NaN NaN NaN NaN NaN NaN NaN\n",
        "\u6d17 NaN NaN NaN NaN NaN NaN NaN NaN NaN NaN NaN NaN NaN NaN   1 NaN NaN\n",
        "\u7259 NaN NaN NaN NaN NaN NaN NaN NaN NaN NaN NaN   1 NaN NaN NaN NaN NaN\n",
        "\n",
        "[14 rows x 17 columns]"
       ]
      }
     ],
     "prompt_number": 431
    },
    {
     "cell_type": "code",
     "collapsed": false,
     "input": [],
     "language": "python",
     "metadata": {},
     "outputs": []
    },
    {
     "cell_type": "code",
     "collapsed": false,
     "input": [],
     "language": "python",
     "metadata": {},
     "outputs": [],
     "prompt_number": 418
    },
    {
     "cell_type": "code",
     "collapsed": false,
     "input": [],
     "language": "python",
     "metadata": {},
     "outputs": [],
     "prompt_number": 394
    },
    {
     "cell_type": "code",
     "collapsed": false,
     "input": [
      "val_array1 = ValuesArray(list(tkr.ngram(test_text_df[\"text\"].values[0],[1])))\n",
      "val_array2 = ValuesArray(list(tkr.ngram(test_text_df[\"text\"].values[1],[1])))\n",
      "val_array3 = ValuesArray(list(tkr.ngram(test_text_df[\"text\"].values[2],[1])))\n",
      "val_array4 = ValuesArray(list(tkr.ngram(test_text_df[\"text\"].values[5],[1])))\n",
      "states_data_array1 = StatesDataArray(*val_array1.decompose_into_states_ptrs())#.ngram(2)\n",
      "states_data_array2 = StatesDataArray(*val_array2.decompose_into_states_ptrs())#.ngram(2)\n",
      "states_data_array3 = StatesDataArray(*val_array3.decompose_into_states_ptrs())#.ngram(2)\n",
      "states_data_array4 = StatesDataArray(*val_array4.decompose_into_states_ptrs())#.ngram(2)"
     ],
     "language": "python",
     "metadata": {},
     "outputs": [],
     "prompt_number": 395
    },
    {
     "cell_type": "code",
     "collapsed": false,
     "input": [],
     "language": "python",
     "metadata": {},
     "outputs": [],
     "prompt_number": 395
    },
    {
     "cell_type": "code",
     "collapsed": false,
     "input": [],
     "language": "python",
     "metadata": {},
     "outputs": [],
     "prompt_number": 395
    },
    {
     "cell_type": "code",
     "collapsed": false,
     "input": [
      "#states_data_array1.ngram(2,update=False)"
     ],
     "language": "python",
     "metadata": {},
     "outputs": [],
     "prompt_number": 396
    },
    {
     "cell_type": "code",
     "collapsed": false,
     "input": [
      "#states_data_array1._states_dict._referred_by"
     ],
     "language": "python",
     "metadata": {},
     "outputs": [],
     "prompt_number": 397
    },
    {
     "cell_type": "code",
     "collapsed": false,
     "input": [
      "idx_array1 = ValuesArray(test_text_df[\"idx\"].values[0])\n",
      "states_idx_array1 = StatesDataArray(*idx_array1.decompose_into_states_ptrs()).extend_rows(states_data_array1)\n",
      "states_idx_array1 = StatesDataArray(*idx_array1.decompose_into_states_ptrs()).extend_rows(states_data_array1)\n",
      "\n"
     ],
     "language": "python",
     "metadata": {},
     "outputs": [
      {
       "metadata": {},
       "output_type": "pyout",
       "prompt_number": 398,
       "text": [
        "ValuesArray([u'00000'], \n",
        "      dtype='<U5')"
       ]
      }
     ],
     "prompt_number": 398
    },
    {
     "cell_type": "code",
     "collapsed": false,
     "input": [
      "test = states_idx_array1.extend_rows(states_data_array1)\n",
      "test"
     ],
     "language": "python",
     "metadata": {},
     "outputs": [
      {
       "output_type": "stream",
       "stream": "stdout",
       "text": [
        "new_ptr_array =  [[0]\n",
        " [0]\n",
        " [0]\n",
        " [0]\n",
        " [0]\n",
        " [0]]\n",
        "type(new_ptr_array) =  <class '__main__.PtrArray'>\n",
        "new_ptr_array =  [0 0 0 0 0 0]\n",
        "type(new_ptr_array) =  <class '__main__.PtrArray'>\n",
        "new_ptr_array._eval_cls =  <class '__main__.ValuesArray'>\n"
       ]
      },
      {
       "metadata": {},
       "output_type": "pyout",
       "prompt_number": 399,
       "text": [
        "ValuesArray([u'00000', u'00000', u'00000', u'00000', u'00000', u'00000'], \n",
        "      dtype='<U5')"
       ]
      }
     ],
     "prompt_number": 399
    },
    {
     "cell_type": "code",
     "collapsed": false,
     "input": [
      "test._states_dict[test._ptr_array]"
     ],
     "language": "python",
     "metadata": {},
     "outputs": [
      {
       "output_type": "stream",
       "stream": "stdout",
       "text": [
        "args =  (PtrArray([0, 0, 0, 0, 0, 0]),)\n"
       ]
      },
      {
       "metadata": {},
       "output_type": "pyout",
       "prompt_number": 400,
       "text": [
        "ValuesArray([u'00000', u'00000', u'00000', u'00000', u'00000', u'00000'], \n",
        "      dtype='<U5')"
       ]
      }
     ],
     "prompt_number": 400
    },
    {
     "cell_type": "code",
     "collapsed": false,
     "input": [
      "states_data_array1"
     ],
     "language": "python",
     "metadata": {},
     "outputs": [
      {
       "metadata": {},
       "output_type": "pyout",
       "prompt_number": 401,
       "text": [
        "ValuesArray([u'\\u4eca', u'\\u5929', u'\\u5929', u'\\u6c23', u'\\u5f88', u'\\u597d'], \n",
        "      dtype='<U1')"
       ]
      }
     ],
     "prompt_number": 401
    },
    {
     "cell_type": "code",
     "collapsed": false,
     "input": [],
     "language": "python",
     "metadata": {},
     "outputs": [],
     "prompt_number": 401
    },
    {
     "cell_type": "code",
     "collapsed": false,
     "input": [
      "states_data_array1._dtype.type"
     ],
     "language": "python",
     "metadata": {},
     "outputs": [
      {
       "metadata": {},
       "output_type": "pyout",
       "prompt_number": 402,
       "text": [
        "numpy.unicode_"
       ]
      }
     ],
     "prompt_number": 402
    },
    {
     "cell_type": "code",
     "collapsed": false,
     "input": [
      "states_data_array1._ptr_array"
     ],
     "language": "python",
     "metadata": {},
     "outputs": [
      {
       "metadata": {},
       "output_type": "pyout",
       "prompt_number": 403,
       "text": [
        "PtrArray([0, 1, 1, 4, 3, 2])"
       ]
      }
     ],
     "prompt_number": 403
    },
    {
     "cell_type": "code",
     "collapsed": false,
     "input": [],
     "language": "python",
     "metadata": {},
     "outputs": [],
     "prompt_number": 403
    },
    {
     "cell_type": "code",
     "collapsed": false,
     "input": [
      "states_data_array_merger = StatesDataArrayMerger(states_data_array1,\n",
      "                                                 states_data_array2,\n",
      "                                                 states_data_array3,\n",
      "                                                 states_data_array4)\n",
      "states_data_array_merger"
     ],
     "language": "python",
     "metadata": {},
     "outputs": [
      {
       "metadata": {},
       "output_type": "pyout",
       "prompt_number": 404,
       "text": [
        "[ValuesArray([u'\\u4eca', u'\\u5929', u'\\u5929', u'\\u6c23', u'\\u5f88', u'\\u597d'], \n",
        "       dtype='<U1'),\n",
        " ValuesArray([u'\\u4eca', u'\\u5929', u'\\u5929', u'\\u6c23', u'\\u5f88', u'\\u721b'], \n",
        "       dtype='<U1'),\n",
        " ValuesArray([u'\\u6211', u'\\u6068', u'\\u5b83'], \n",
        "       dtype='<U1'),\n",
        " ValuesArray([u'\\u5b83', u'\\u611b', u'\\u6211'], \n",
        "       dtype='<U1')]"
       ]
      }
     ],
     "prompt_number": 404
    },
    {
     "cell_type": "code",
     "collapsed": false,
     "input": [
      "test_merge = states_data_array_merger.merge()"
     ],
     "language": "python",
     "metadata": {},
     "outputs": [],
     "prompt_number": 405
    },
    {
     "cell_type": "code",
     "collapsed": false,
     "input": [
      "test_merge._eval"
     ],
     "language": "python",
     "metadata": {},
     "outputs": [
      {
       "metadata": {},
       "output_type": "pyout",
       "prompt_number": 406,
       "text": [
        "ValuesArray([u'\\u4eca', u'\\u5929', u'\\u5929', u'\\u6c23', u'\\u5f88', u'\\u597d',\n",
        "       u'\\u4eca', u'\\u5929', u'\\u5929', u'\\u6c23', u'\\u5f88', u'\\u721b',\n",
        "       u'\\u6211', u'\\u6068', u'\\u5b83', u'\\u5b83', u'\\u611b', u'\\u6211'], \n",
        "      dtype='<U1')"
       ]
      }
     ],
     "prompt_number": 406
    },
    {
     "cell_type": "code",
     "collapsed": false,
     "input": [],
     "language": "python",
     "metadata": {},
     "outputs": [],
     "prompt_number": 301
    },
    {
     "cell_type": "code",
     "collapsed": false,
     "input": [
      "test_df = pd.DataFrame(test_merge._eval)\n",
      "test_df"
     ],
     "language": "python",
     "metadata": {},
     "outputs": [
      {
       "html": [
        "<div style=\"max-height:1000px;max-width:1500px;overflow:auto;\">\n",
        "<table border=\"1\" class=\"dataframe\">\n",
        "  <thead>\n",
        "    <tr style=\"text-align: right;\">\n",
        "      <th></th>\n",
        "      <th>0</th>\n",
        "    </tr>\n",
        "  </thead>\n",
        "  <tbody>\n",
        "    <tr>\n",
        "      <th>0 </th>\n",
        "      <td> \u4eca</td>\n",
        "    </tr>\n",
        "    <tr>\n",
        "      <th>1 </th>\n",
        "      <td> \u5929</td>\n",
        "    </tr>\n",
        "    <tr>\n",
        "      <th>2 </th>\n",
        "      <td> \u5929</td>\n",
        "    </tr>\n",
        "    <tr>\n",
        "      <th>3 </th>\n",
        "      <td> \u6c23</td>\n",
        "    </tr>\n",
        "    <tr>\n",
        "      <th>4 </th>\n",
        "      <td> \u5f88</td>\n",
        "    </tr>\n",
        "    <tr>\n",
        "      <th>5 </th>\n",
        "      <td> \u597d</td>\n",
        "    </tr>\n",
        "    <tr>\n",
        "      <th>6 </th>\n",
        "      <td> \u4eca</td>\n",
        "    </tr>\n",
        "    <tr>\n",
        "      <th>7 </th>\n",
        "      <td> \u5929</td>\n",
        "    </tr>\n",
        "    <tr>\n",
        "      <th>8 </th>\n",
        "      <td> \u5929</td>\n",
        "    </tr>\n",
        "    <tr>\n",
        "      <th>9 </th>\n",
        "      <td> \u6c23</td>\n",
        "    </tr>\n",
        "    <tr>\n",
        "      <th>10</th>\n",
        "      <td> \u5f88</td>\n",
        "    </tr>\n",
        "    <tr>\n",
        "      <th>11</th>\n",
        "      <td> \u721b</td>\n",
        "    </tr>\n",
        "    <tr>\n",
        "      <th>12</th>\n",
        "      <td> \u6211</td>\n",
        "    </tr>\n",
        "    <tr>\n",
        "      <th>13</th>\n",
        "      <td> \u6068</td>\n",
        "    </tr>\n",
        "    <tr>\n",
        "      <th>14</th>\n",
        "      <td> \u5b83</td>\n",
        "    </tr>\n",
        "    <tr>\n",
        "      <th>15</th>\n",
        "      <td> \u5b83</td>\n",
        "    </tr>\n",
        "    <tr>\n",
        "      <th>16</th>\n",
        "      <td> \u611b</td>\n",
        "    </tr>\n",
        "    <tr>\n",
        "      <th>17</th>\n",
        "      <td> \u6211</td>\n",
        "    </tr>\n",
        "  </tbody>\n",
        "</table>\n",
        "<p>18 rows \u00d7 1 columns</p>\n",
        "</div>"
       ],
       "metadata": {},
       "output_type": "pyout",
       "prompt_number": 302,
       "text": [
        "    0\n",
        "0   \u4eca\n",
        "1   \u5929\n",
        "2   \u5929\n",
        "3   \u6c23\n",
        "4   \u5f88\n",
        "5   \u597d\n",
        "6   \u4eca\n",
        "7   \u5929\n",
        "8   \u5929\n",
        "9   \u6c23\n",
        "10  \u5f88\n",
        "11  \u721b\n",
        "12  \u6211\n",
        "13  \u6068\n",
        "14  \u5b83\n",
        "15  \u5b83\n",
        "16  \u611b\n",
        "17  \u6211\n",
        "\n",
        "[18 rows x 1 columns]"
       ]
      }
     ],
     "prompt_number": 302
    },
    {
     "cell_type": "code",
     "collapsed": false,
     "input": [
      "test_gb = test_df.groupby([0,1]).size()\n",
      "test_gb.unstack()"
     ],
     "language": "python",
     "metadata": {},
     "outputs": [
      {
       "html": [
        "<div style=\"max-height:1000px;max-width:1500px;overflow:auto;\">\n",
        "<table border=\"1\" class=\"dataframe\">\n",
        "  <thead>\n",
        "    <tr style=\"text-align: right;\">\n",
        "      <th>1</th>\n",
        "      <th>\u5929</th>\n",
        "      <th>\u597d</th>\n",
        "      <th>\u5b83</th>\n",
        "      <th>\u5f88</th>\n",
        "      <th>\u6068</th>\n",
        "      <th>\u611b</th>\n",
        "      <th>\u6211</th>\n",
        "      <th>\u6c23</th>\n",
        "      <th>\u721b</th>\n",
        "    </tr>\n",
        "    <tr>\n",
        "      <th>0</th>\n",
        "      <th></th>\n",
        "      <th></th>\n",
        "      <th></th>\n",
        "      <th></th>\n",
        "      <th></th>\n",
        "      <th></th>\n",
        "      <th></th>\n",
        "      <th></th>\n",
        "      <th></th>\n",
        "    </tr>\n",
        "  </thead>\n",
        "  <tbody>\n",
        "    <tr>\n",
        "      <th>\u4eca</th>\n",
        "      <td>  2</td>\n",
        "      <td>NaN</td>\n",
        "      <td>NaN</td>\n",
        "      <td>NaN</td>\n",
        "      <td>NaN</td>\n",
        "      <td>NaN</td>\n",
        "      <td>NaN</td>\n",
        "      <td>NaN</td>\n",
        "      <td>NaN</td>\n",
        "    </tr>\n",
        "    <tr>\n",
        "      <th>\u5929</th>\n",
        "      <td>  2</td>\n",
        "      <td>NaN</td>\n",
        "      <td>NaN</td>\n",
        "      <td>NaN</td>\n",
        "      <td>NaN</td>\n",
        "      <td>NaN</td>\n",
        "      <td>NaN</td>\n",
        "      <td>  2</td>\n",
        "      <td>NaN</td>\n",
        "    </tr>\n",
        "    <tr>\n",
        "      <th>\u5b83</th>\n",
        "      <td>NaN</td>\n",
        "      <td>NaN</td>\n",
        "      <td>NaN</td>\n",
        "      <td>NaN</td>\n",
        "      <td>NaN</td>\n",
        "      <td>  1</td>\n",
        "      <td>NaN</td>\n",
        "      <td>NaN</td>\n",
        "      <td>NaN</td>\n",
        "    </tr>\n",
        "    <tr>\n",
        "      <th>\u5f88</th>\n",
        "      <td>NaN</td>\n",
        "      <td>  1</td>\n",
        "      <td>NaN</td>\n",
        "      <td>NaN</td>\n",
        "      <td>NaN</td>\n",
        "      <td>NaN</td>\n",
        "      <td>NaN</td>\n",
        "      <td>NaN</td>\n",
        "      <td>  1</td>\n",
        "    </tr>\n",
        "    <tr>\n",
        "      <th>\u6068</th>\n",
        "      <td>NaN</td>\n",
        "      <td>NaN</td>\n",
        "      <td>  1</td>\n",
        "      <td>NaN</td>\n",
        "      <td>NaN</td>\n",
        "      <td>NaN</td>\n",
        "      <td>NaN</td>\n",
        "      <td>NaN</td>\n",
        "      <td>NaN</td>\n",
        "    </tr>\n",
        "    <tr>\n",
        "      <th>\u611b</th>\n",
        "      <td>NaN</td>\n",
        "      <td>NaN</td>\n",
        "      <td>NaN</td>\n",
        "      <td>NaN</td>\n",
        "      <td>NaN</td>\n",
        "      <td>NaN</td>\n",
        "      <td>  1</td>\n",
        "      <td>NaN</td>\n",
        "      <td>NaN</td>\n",
        "    </tr>\n",
        "    <tr>\n",
        "      <th>\u6211</th>\n",
        "      <td>NaN</td>\n",
        "      <td>NaN</td>\n",
        "      <td>NaN</td>\n",
        "      <td>NaN</td>\n",
        "      <td>  1</td>\n",
        "      <td>NaN</td>\n",
        "      <td>NaN</td>\n",
        "      <td>NaN</td>\n",
        "      <td>NaN</td>\n",
        "    </tr>\n",
        "    <tr>\n",
        "      <th>\u6c23</th>\n",
        "      <td>NaN</td>\n",
        "      <td>NaN</td>\n",
        "      <td>NaN</td>\n",
        "      <td>  2</td>\n",
        "      <td>NaN</td>\n",
        "      <td>NaN</td>\n",
        "      <td>NaN</td>\n",
        "      <td>NaN</td>\n",
        "      <td>NaN</td>\n",
        "    </tr>\n",
        "  </tbody>\n",
        "</table>\n",
        "<p>8 rows \u00d7 9 columns</p>\n",
        "</div>"
       ],
       "metadata": {},
       "output_type": "pyout",
       "prompt_number": 235,
       "text": [
        "1   \u5929   \u597d   \u5b83   \u5f88   \u6068   \u611b   \u6211   \u6c23   \u721b\n",
        "0                                    \n",
        "\u4eca   2 NaN NaN NaN NaN NaN NaN NaN NaN\n",
        "\u5929   2 NaN NaN NaN NaN NaN NaN   2 NaN\n",
        "\u5b83 NaN NaN NaN NaN NaN   1 NaN NaN NaN\n",
        "\u5f88 NaN   1 NaN NaN NaN NaN NaN NaN   1\n",
        "\u6068 NaN NaN   1 NaN NaN NaN NaN NaN NaN\n",
        "\u611b NaN NaN NaN NaN NaN NaN   1 NaN NaN\n",
        "\u6211 NaN NaN NaN NaN   1 NaN NaN NaN NaN\n",
        "\u6c23 NaN NaN NaN   2 NaN NaN NaN NaN NaN\n",
        "\n",
        "[8 rows x 9 columns]"
       ]
      }
     ],
     "prompt_number": 235
    },
    {
     "cell_type": "code",
     "collapsed": false,
     "input": [],
     "language": "python",
     "metadata": {},
     "outputs": [],
     "prompt_number": 231
    },
    {
     "cell_type": "code",
     "collapsed": false,
     "input": [
      "np.array_split"
     ],
     "language": "python",
     "metadata": {},
     "outputs": [
      {
       "metadata": {},
       "output_type": "pyout",
       "prompt_number": 236,
       "text": [
        "<function numpy.lib.shape_base.array_split>"
       ]
      }
     ],
     "prompt_number": 236
    },
    {
     "cell_type": "code",
     "collapsed": false,
     "input": [],
     "language": "python",
     "metadata": {},
     "outputs": [],
     "prompt_number": 231
    },
    {
     "cell_type": "code",
     "collapsed": false,
     "input": [],
     "language": "python",
     "metadata": {},
     "outputs": []
    },
    {
     "cell_type": "code",
     "collapsed": false,
     "input": [
      "\n",
      "\n"
     ],
     "language": "python",
     "metadata": {},
     "outputs": []
    },
    {
     "cell_type": "code",
     "collapsed": false,
     "input": [
      "print test_merge._states_dict._states_array\n",
      "print test_merge._ptr_array\n",
      "test_merge._states_dict[test_merge._ptr_array]"
     ],
     "language": "python",
     "metadata": {},
     "outputs": [
      {
       "output_type": "stream",
       "stream": "stdout",
       "text": [
        "[u'\\u4eca' u'\\u5929' u'\\u597d' u'\\u5b83' u'\\u5f88' u'\\u6068' u'\\u611b'\n",
        " u'\\u6211' u'\\u6c23' u'\\u721b']\n",
        "[[0 1]\n",
        " [1 1]\n",
        " [1 8]\n",
        " [8 4]\n",
        " [4 2]\n",
        " [0 1]\n",
        " [1 1]\n",
        " [1 8]\n",
        " [8 4]\n",
        " [4 9]\n",
        " [7 5]\n",
        " [5 3]\n",
        " [3 6]\n",
        " [6 7]]\n",
        "args =  (array([[0, 1],\n",
        "       [1, 1],\n",
        "       [1, 8],\n",
        "       [8, 4],\n",
        "       [4, 2],\n",
        "       [0, 1],\n",
        "       [1, 1],\n",
        "       [1, 8],\n",
        "       [8, 4],\n",
        "       [4, 9],\n",
        "       [7, 5],\n",
        "       [5, 3],\n",
        "       [3, 6],\n",
        "       [6, 7]]),)\n"
       ]
      },
      {
       "metadata": {},
       "output_type": "pyout",
       "prompt_number": 217,
       "text": [
        "array([[u'\\u4eca', u'\\u5929'],\n",
        "       [u'\\u5929', u'\\u5929'],\n",
        "       [u'\\u5929', u'\\u6c23'],\n",
        "       [u'\\u6c23', u'\\u5f88'],\n",
        "       [u'\\u5f88', u'\\u597d'],\n",
        "       [u'\\u4eca', u'\\u5929'],\n",
        "       [u'\\u5929', u'\\u5929'],\n",
        "       [u'\\u5929', u'\\u6c23'],\n",
        "       [u'\\u6c23', u'\\u5f88'],\n",
        "       [u'\\u5f88', u'\\u721b'],\n",
        "       [u'\\u6211', u'\\u6068'],\n",
        "       [u'\\u6068', u'\\u5b83'],\n",
        "       [u'\\u5b83', u'\\u611b'],\n",
        "       [u'\\u611b', u'\\u6211']], \n",
        "      dtype='<U1')"
       ]
      }
     ],
     "prompt_number": 217
    },
    {
     "cell_type": "code",
     "collapsed": false,
     "input": [
      "print states_data_array1._states_dict._states_array\n",
      "print states_data_array1._ptr_array\n",
      "print \"// \".join(states_data_array1._eval.flatten())"
     ],
     "language": "python",
     "metadata": {},
     "outputs": [
      {
       "output_type": "stream",
       "stream": "stdout",
       "text": [
        "[u'\\u4eca' u'\\u5929' u'\\u597d' u'\\u5b83' u'\\u5f88' u'\\u6068' u'\\u611b'\n",
        " u'\\u6211' u'\\u6c23' u'\\u721b']\n",
        "[[0 1]\n",
        " [1 1]\n",
        " [1 8]\n",
        " [8 4]\n",
        " [4 2]]\n",
        "\u4eca// \u5929// \u5929// \u5929// \u5929// \u6c23// \u6c23// \u5f88// \u5f88// \u597d\n"
       ]
      }
     ],
     "prompt_number": 197
    },
    {
     "cell_type": "code",
     "collapsed": false,
     "input": [],
     "language": "python",
     "metadata": {},
     "outputs": []
    },
    {
     "cell_type": "code",
     "collapsed": false,
     "input": [],
     "language": "python",
     "metadata": {},
     "outputs": []
    },
    {
     "cell_type": "code",
     "collapsed": false,
     "input": [
      "print map(lambda xx:xx._shape,states_data_array_merger)\n",
      "print map(lambda xx:xx._ncol,states_data_array_merger)\n",
      "print map(lambda xx:xx._nrow,states_data_array_merger)\n",
      "print map(lambda xx:xx._ptr_array,states_data_array_merger)"
     ],
     "language": "python",
     "metadata": {},
     "outputs": [
      {
       "output_type": "stream",
       "stream": "stdout",
       "text": [
        "[(5, 2), (5, 2), (2, 2), (2, 2)]\n",
        "[2, 2, 2, 2]\n",
        "[5, 5, 2, 2]\n",
        "[PtrArray([[0, 1],\n",
        "       [1, 1],\n",
        "       [1, 4],\n",
        "       [4, 3],\n",
        "       [3, 2]]), PtrArray([[0, 1],\n",
        "       [1, 1],\n",
        "       [1, 3],\n",
        "       [3, 2],\n",
        "       [2, 4]]), PtrArray([[2, 1],\n",
        "       [1, 0]]), PtrArray([[0, 1],\n",
        "       [1, 2]])]\n"
       ]
      }
     ],
     "prompt_number": 140
    },
    {
     "cell_type": "code",
     "collapsed": false,
     "input": [
      "np.vstack(tuple(map(lambda xx:xx._ptr_array,states_data_array_merger)))"
     ],
     "language": "python",
     "metadata": {},
     "outputs": [
      {
       "metadata": {},
       "output_type": "pyout",
       "prompt_number": 143,
       "text": [
        "array([[0, 1],\n",
        "       [1, 1],\n",
        "       [1, 4],\n",
        "       [4, 3],\n",
        "       [3, 2],\n",
        "       [0, 1],\n",
        "       [1, 1],\n",
        "       [1, 3],\n",
        "       [3, 2],\n",
        "       [2, 4],\n",
        "       [2, 1],\n",
        "       [1, 0],\n",
        "       [0, 1],\n",
        "       [1, 2]])"
       ]
      }
     ],
     "prompt_number": 143
    },
    {
     "cell_type": "code",
     "collapsed": false,
     "input": [
      "np.concatenate(tuple(map(lambda xx:xx._ptr_array,states_data_array_merger)),axis=0)"
     ],
     "language": "python",
     "metadata": {},
     "outputs": [
      {
       "metadata": {},
       "output_type": "pyout",
       "prompt_number": 218,
       "text": [
        "array([[0, 1],\n",
        "       [1, 1],\n",
        "       [1, 8],\n",
        "       [8, 4],\n",
        "       [4, 2],\n",
        "       [0, 1],\n",
        "       [1, 1],\n",
        "       [1, 8],\n",
        "       [8, 4],\n",
        "       [4, 9],\n",
        "       [7, 5],\n",
        "       [5, 3],\n",
        "       [3, 6],\n",
        "       [6, 7]])"
       ]
      }
     ],
     "prompt_number": 218
    },
    {
     "cell_type": "code",
     "collapsed": false,
     "input": [],
     "language": "python",
     "metadata": {},
     "outputs": []
    },
    {
     "cell_type": "code",
     "collapsed": false,
     "input": [],
     "language": "python",
     "metadata": {},
     "outputs": []
    },
    {
     "cell_type": "code",
     "collapsed": false,
     "input": [],
     "language": "python",
     "metadata": {},
     "outputs": []
    },
    {
     "cell_type": "code",
     "collapsed": false,
     "input": [],
     "language": "python",
     "metadata": {},
     "outputs": []
    },
    {
     "cell_type": "code",
     "collapsed": false,
     "input": [],
     "language": "python",
     "metadata": {},
     "outputs": []
    },
    {
     "cell_type": "code",
     "collapsed": false,
     "input": [
      "np.concatenate(tuple(map(lambda xx:list(tkr.ngram(xx._ptr_array,2)),states_data_array_merger)),axis=0)"
     ],
     "language": "python",
     "metadata": {},
     "outputs": [
      {
       "metadata": {},
       "output_type": "pyout",
       "prompt_number": 83,
       "text": [
        "array([[0, 1],\n",
        "       [1, 1],\n",
        "       [1, 4],\n",
        "       [4, 3],\n",
        "       [3, 2],\n",
        "       [0, 1],\n",
        "       [1, 1],\n",
        "       [1, 3],\n",
        "       [3, 2],\n",
        "       [2, 4],\n",
        "       [2, 1],\n",
        "       [1, 0],\n",
        "       [0, 1],\n",
        "       [1, 2]])"
       ]
      }
     ],
     "prompt_number": 83
    },
    {
     "cell_type": "code",
     "collapsed": false,
     "input": [
      "test1 = np.concatenate(tuple(map(lambda xx:list(tkr.ngram(xx._ptr_array,2)),states_data_array_merger)),axis=0)\n",
      "test1 "
     ],
     "language": "python",
     "metadata": {},
     "outputs": [
      {
       "metadata": {},
       "output_type": "pyout",
       "prompt_number": 84,
       "text": [
        "array([[0, 1],\n",
        "       [1, 1],\n",
        "       [1, 4],\n",
        "       [4, 3],\n",
        "       [3, 2],\n",
        "       [0, 1],\n",
        "       [1, 1],\n",
        "       [1, 3],\n",
        "       [3, 2],\n",
        "       [2, 4],\n",
        "       [2, 1],\n",
        "       [1, 0],\n",
        "       [0, 1],\n",
        "       [1, 2]])"
       ]
      }
     ],
     "prompt_number": 84
    },
    {
     "cell_type": "code",
     "collapsed": false,
     "input": [
      "test1.shape"
     ],
     "language": "python",
     "metadata": {},
     "outputs": [
      {
       "metadata": {},
       "output_type": "pyout",
       "prompt_number": 27,
       "text": [
        "(14, 2)"
       ]
      }
     ],
     "prompt_number": 27
    },
    {
     "cell_type": "code",
     "collapsed": false,
     "input": [
      "test1.dtype"
     ],
     "language": "python",
     "metadata": {},
     "outputs": [
      {
       "metadata": {},
       "output_type": "pyout",
       "prompt_number": 28,
       "text": [
        "dtype('int64')"
       ]
      }
     ],
     "prompt_number": 28
    },
    {
     "cell_type": "code",
     "collapsed": false,
     "input": [
      "test1.dtype = np.dtype([(\"d1\",test1.dtype),(\"d2\",test1.dtype)])"
     ],
     "language": "python",
     "metadata": {},
     "outputs": [],
     "prompt_number": 29
    },
    {
     "cell_type": "code",
     "collapsed": false,
     "input": [
      "test1"
     ],
     "language": "python",
     "metadata": {},
     "outputs": [
      {
       "metadata": {},
       "output_type": "pyout",
       "prompt_number": 30,
       "text": [
        "array([[(0, 1)],\n",
        "       [(1, 1)],\n",
        "       [(1, 4)],\n",
        "       [(4, 3)],\n",
        "       [(3, 2)],\n",
        "       [(0, 1)],\n",
        "       [(1, 1)],\n",
        "       [(1, 3)],\n",
        "       [(3, 2)],\n",
        "       [(2, 4)],\n",
        "       [(2, 1)],\n",
        "       [(1, 0)],\n",
        "       [(0, 1)],\n",
        "       [(1, 2)]], \n",
        "      dtype=[('d1', '<i8'), ('d2', '<i8')])"
       ]
      }
     ],
     "prompt_number": 30
    },
    {
     "cell_type": "code",
     "collapsed": false,
     "input": [
      "np.unique(test1)"
     ],
     "language": "python",
     "metadata": {},
     "outputs": [
      {
       "metadata": {},
       "output_type": "pyout",
       "prompt_number": 31,
       "text": [
        "array([(0, 1), (1, 0), (1, 1), (1, 2), (1, 3), (1, 4), (2, 1), (2, 4),\n",
        "       (3, 2), (4, 3)], \n",
        "      dtype=[('d1', '<i8'), ('d2', '<i8')])"
       ]
      }
     ],
     "prompt_number": 31
    },
    {
     "cell_type": "code",
     "collapsed": false,
     "input": [
      "test1"
     ],
     "language": "python",
     "metadata": {},
     "outputs": [
      {
       "metadata": {},
       "output_type": "pyout",
       "prompt_number": 24,
       "text": [
        "array([[(0, 1)],\n",
        "       [(1, 1)],\n",
        "       [(1, 4)],\n",
        "       [(4, 3)],\n",
        "       [(3, 2)],\n",
        "       [(0, 1)],\n",
        "       [(1, 1)],\n",
        "       [(1, 3)],\n",
        "       [(3, 2)],\n",
        "       [(2, 4)],\n",
        "       [(2, 1)],\n",
        "       [(1, 0)],\n",
        "       [(0, 1)],\n",
        "       [(1, 2)]], \n",
        "      dtype=[('d1', '<i8'), ('d2', '<i8')])"
       ]
      }
     ],
     "prompt_number": 24
    },
    {
     "cell_type": "code",
     "collapsed": false,
     "input": [
      "clean_no_data_tensors(states_data_array_merger[0]._states_dict[test1[\"d1\"]])"
     ],
     "language": "python",
     "metadata": {},
     "outputs": [
      {
       "output_type": "stream",
       "stream": "stdout",
       "text": [
        "args =  (array([[0],\n",
        "       [1],\n",
        "       [1],\n",
        "       [4],\n",
        "       [3],\n",
        "       [0],\n",
        "       [1],\n",
        "       [1],\n",
        "       [3],\n",
        "       [2],\n",
        "       [2],\n",
        "       [1],\n",
        "       [0],\n",
        "       [1]]),)\n"
       ]
      },
      {
       "metadata": {},
       "output_type": "pyout",
       "prompt_number": 39,
       "text": [
        "array([u'\\u4eca', u'\\u5929', u'\\u5929', u'\\u6c23', u'\\u5f88', u'\\u4eca',\n",
        "       u'\\u5929', u'\\u5929', u'\\u5f88', u'\\u597d', u'\\u597d', u'\\u5929',\n",
        "       u'\\u4eca', u'\\u5929'], \n",
        "      dtype='<U1')"
       ]
      }
     ],
     "prompt_number": 39
    },
    {
     "cell_type": "code",
     "collapsed": false,
     "input": [
      "print np.unique(clean_no_data_tensors(test1))\n",
      "print clean_no_data_tensors(test1)"
     ],
     "language": "python",
     "metadata": {},
     "outputs": [
      {
       "output_type": "stream",
       "stream": "stdout",
       "text": [
        "[(0, 1) (1, 0) (1, 1) (1, 2) (1, 3) (1, 4) (2, 1) (2, 4) (3, 2) (4, 3)]\n",
        "[(0, 1) (1, 1) (1, 4) (4, 3) (3, 2) (0, 1) (1, 1) (1, 3) (3, 2) (2, 4)\n",
        " (2, 1) (1, 0) (0, 1) (1, 2)]\n"
       ]
      }
     ],
     "prompt_number": 44
    },
    {
     "cell_type": "code",
     "collapsed": false,
     "input": [
      "test2 = np.unique(clean_no_data_tensors(test1))\n",
      "test2[\"d2\"]"
     ],
     "language": "python",
     "metadata": {},
     "outputs": [
      {
       "metadata": {},
       "output_type": "pyout",
       "prompt_number": 48,
       "text": [
        "array([1, 0, 1, 2, 3, 4, 1, 4, 2, 3])"
       ]
      }
     ],
     "prompt_number": 48
    },
    {
     "cell_type": "code",
     "collapsed": false,
     "input": [],
     "language": "python",
     "metadata": {},
     "outputs": [],
     "prompt_number": 77
    },
    {
     "cell_type": "code",
     "collapsed": false,
     "input": [
      "test1 = np.concatenate(tuple(map(lambda xx:list(tkr.ngram(xx._ptr_array,2)),states_data_array_merger)),axis=0)\n",
      "test3 = states_data_array_merger[0]._states_dict[clean_no_data_tensors(test1)]\n",
      "test3"
     ],
     "language": "python",
     "metadata": {},
     "outputs": [
      {
       "output_type": "stream",
       "stream": "stdout",
       "text": [
        "args =  (array([[0, 1],\n",
        "       [1, 1],\n",
        "       [1, 4],\n",
        "       [4, 3],\n",
        "       [3, 2],\n",
        "       [0, 1],\n",
        "       [1, 1],\n",
        "       [1, 3],\n",
        "       [3, 2],\n",
        "       [2, 4],\n",
        "       [2, 1],\n",
        "       [1, 0],\n",
        "       [0, 1],\n",
        "       [1, 2]]),)\n"
       ]
      },
      {
       "metadata": {},
       "output_type": "pyout",
       "prompt_number": 54,
       "text": [
        "array([[u'\\u4eca', u'\\u5929'],\n",
        "       [u'\\u5929', u'\\u5929'],\n",
        "       [u'\\u5929', u'\\u6c23'],\n",
        "       [u'\\u6c23', u'\\u5f88'],\n",
        "       [u'\\u5f88', u'\\u597d'],\n",
        "       [u'\\u4eca', u'\\u5929'],\n",
        "       [u'\\u5929', u'\\u5929'],\n",
        "       [u'\\u5929', u'\\u5f88'],\n",
        "       [u'\\u5f88', u'\\u597d'],\n",
        "       [u'\\u597d', u'\\u6c23'],\n",
        "       [u'\\u597d', u'\\u5929'],\n",
        "       [u'\\u5929', u'\\u4eca'],\n",
        "       [u'\\u4eca', u'\\u5929'],\n",
        "       [u'\\u5929', u'\\u597d']], \n",
        "      dtype='<U1')"
       ]
      }
     ],
     "prompt_number": 54
    },
    {
     "cell_type": "code",
     "collapsed": false,
     "input": [
      "import pandas as pd "
     ],
     "language": "python",
     "metadata": {},
     "outputs": [],
     "prompt_number": 55
    },
    {
     "cell_type": "code",
     "collapsed": false,
     "input": [
      "test_df = pd.DataFrame(test3)\n",
      "test_df"
     ],
     "language": "python",
     "metadata": {},
     "outputs": [
      {
       "html": [
        "<div style=\"max-height:1000px;max-width:1500px;overflow:auto;\">\n",
        "<table border=\"1\" class=\"dataframe\">\n",
        "  <thead>\n",
        "    <tr style=\"text-align: right;\">\n",
        "      <th></th>\n",
        "      <th>0</th>\n",
        "      <th>1</th>\n",
        "    </tr>\n",
        "  </thead>\n",
        "  <tbody>\n",
        "    <tr>\n",
        "      <th>0 </th>\n",
        "      <td> \u4eca</td>\n",
        "      <td> \u5929</td>\n",
        "    </tr>\n",
        "    <tr>\n",
        "      <th>1 </th>\n",
        "      <td> \u5929</td>\n",
        "      <td> \u5929</td>\n",
        "    </tr>\n",
        "    <tr>\n",
        "      <th>2 </th>\n",
        "      <td> \u5929</td>\n",
        "      <td> \u6c23</td>\n",
        "    </tr>\n",
        "    <tr>\n",
        "      <th>3 </th>\n",
        "      <td> \u6c23</td>\n",
        "      <td> \u5f88</td>\n",
        "    </tr>\n",
        "    <tr>\n",
        "      <th>4 </th>\n",
        "      <td> \u5f88</td>\n",
        "      <td> \u597d</td>\n",
        "    </tr>\n",
        "    <tr>\n",
        "      <th>5 </th>\n",
        "      <td> \u4eca</td>\n",
        "      <td> \u5929</td>\n",
        "    </tr>\n",
        "    <tr>\n",
        "      <th>6 </th>\n",
        "      <td> \u5929</td>\n",
        "      <td> \u5929</td>\n",
        "    </tr>\n",
        "    <tr>\n",
        "      <th>7 </th>\n",
        "      <td> \u5929</td>\n",
        "      <td> \u5f88</td>\n",
        "    </tr>\n",
        "    <tr>\n",
        "      <th>8 </th>\n",
        "      <td> \u5f88</td>\n",
        "      <td> \u597d</td>\n",
        "    </tr>\n",
        "    <tr>\n",
        "      <th>9 </th>\n",
        "      <td> \u597d</td>\n",
        "      <td> \u6c23</td>\n",
        "    </tr>\n",
        "    <tr>\n",
        "      <th>10</th>\n",
        "      <td> \u597d</td>\n",
        "      <td> \u5929</td>\n",
        "    </tr>\n",
        "    <tr>\n",
        "      <th>11</th>\n",
        "      <td> \u5929</td>\n",
        "      <td> \u4eca</td>\n",
        "    </tr>\n",
        "    <tr>\n",
        "      <th>12</th>\n",
        "      <td> \u4eca</td>\n",
        "      <td> \u5929</td>\n",
        "    </tr>\n",
        "    <tr>\n",
        "      <th>13</th>\n",
        "      <td> \u5929</td>\n",
        "      <td> \u597d</td>\n",
        "    </tr>\n",
        "  </tbody>\n",
        "</table>\n",
        "<p>14 rows \u00d7 2 columns</p>\n",
        "</div>"
       ],
       "metadata": {},
       "output_type": "pyout",
       "prompt_number": 58,
       "text": [
        "    0  1\n",
        "0   \u4eca  \u5929\n",
        "1   \u5929  \u5929\n",
        "2   \u5929  \u6c23\n",
        "3   \u6c23  \u5f88\n",
        "4   \u5f88  \u597d\n",
        "5   \u4eca  \u5929\n",
        "6   \u5929  \u5929\n",
        "7   \u5929  \u5f88\n",
        "8   \u5f88  \u597d\n",
        "9   \u597d  \u6c23\n",
        "10  \u597d  \u5929\n",
        "11  \u5929  \u4eca\n",
        "12  \u4eca  \u5929\n",
        "13  \u5929  \u597d\n",
        "\n",
        "[14 rows x 2 columns]"
       ]
      }
     ],
     "prompt_number": 58
    },
    {
     "cell_type": "code",
     "collapsed": false,
     "input": [
      "test_df.columns"
     ],
     "language": "python",
     "metadata": {},
     "outputs": [
      {
       "metadata": {},
       "output_type": "pyout",
       "prompt_number": 59,
       "text": [
        "Int64Index([0, 1], dtype='int64')"
       ]
      }
     ],
     "prompt_number": 59
    },
    {
     "cell_type": "code",
     "collapsed": false,
     "input": [
      "test_df.groupby([0,1]).size()"
     ],
     "language": "python",
     "metadata": {},
     "outputs": [
      {
       "metadata": {},
       "output_type": "pyout",
       "prompt_number": 73,
       "text": [
        "0  1\n",
        "\u4eca  \u5929    3\n",
        "\u5929  \u4eca    1\n",
        "   \u5929    2\n",
        "   \u597d    1\n",
        "   \u5f88    1\n",
        "   \u6c23    1\n",
        "\u597d  \u5929    1\n",
        "   \u6c23    1\n",
        "\u5f88  \u597d    2\n",
        "\u6c23  \u5f88    1\n",
        "dtype: int64"
       ]
      }
     ],
     "prompt_number": 73
    },
    {
     "cell_type": "code",
     "collapsed": false,
     "input": [],
     "language": "python",
     "metadata": {},
     "outputs": []
    },
    {
     "cell_type": "code",
     "collapsed": false,
     "input": [
      "test = range(10)\n",
      "test.reverse()\n",
      "\n",
      "class A(object):\n",
      "    def __init__(self,x):\n",
      "        self.x = x\n",
      "\n",
      "\n",
      "print np.array(map(A,np.arange(10,20)))[test]\n",
      "print np.array(map(A,np.arange(10,20)))\n",
      "print map(lambda xx:xx.x,np.array(map(A,np.arange(10,20)))[test])\n",
      "print map(lambda xx:xx.x,np.array(map(A,np.arange(10,20))))"
     ],
     "language": "python",
     "metadata": {},
     "outputs": [
      {
       "output_type": "stream",
       "stream": "stdout",
       "text": [
        "[<__main__.A object at 0x359c350> <__main__.A object at 0x359c310>\n",
        " <__main__.A object at 0x359c2d0> <__main__.A object at 0x359c290>\n",
        " <__main__.A object at 0x359c250> <__main__.A object at 0x359c210>\n",
        " <__main__.A object at 0x359c1d0> <__main__.A object at 0x359c190>\n",
        " <__main__.A object at 0x359c150> <__main__.A object at 0x359c090>]\n",
        "[<__main__.A object at 0x359c150> <__main__.A object at 0x359c190>\n",
        " <__main__.A object at 0x359c1d0> <__main__.A object at 0x359c210>\n",
        " <__main__.A object at 0x359c250> <__main__.A object at 0x359c290>\n",
        " <__main__.A object at 0x359c2d0> <__main__.A object at 0x359c310>\n",
        " <__main__.A object at 0x359c350> <__main__.A object at 0x359c590>]\n",
        "[19, 18, 17, 16, 15, 14, 13, 12, 11, 10]\n",
        "[10, 11, 12, 13, 14, 15, 16, 17, 18, 19]\n"
       ]
      }
     ],
     "prompt_number": 69
    },
    {
     "cell_type": "code",
     "collapsed": false,
     "input": [],
     "language": "python",
     "metadata": {},
     "outputs": []
    },
    {
     "cell_type": "code",
     "collapsed": false,
     "input": [],
     "language": "python",
     "metadata": {},
     "outputs": []
    },
    {
     "cell_type": "code",
     "collapsed": false,
     "input": [],
     "language": "python",
     "metadata": {},
     "outputs": []
    },
    {
     "cell_type": "code",
     "collapsed": false,
     "input": [],
     "language": "python",
     "metadata": {},
     "outputs": []
    },
    {
     "cell_type": "code",
     "collapsed": false,
     "input": [],
     "language": "python",
     "metadata": {},
     "outputs": []
    },
    {
     "cell_type": "code",
     "collapsed": false,
     "input": [],
     "language": "python",
     "metadata": {},
     "outputs": [],
     "prompt_number": 249
    },
    {
     "cell_type": "code",
     "collapsed": false,
     "input": [
      "test_sdict_merge = StatesDictionaryMerger(*map(lambda xx:xx._states_dict,states_data_array_merger))\n",
      "test_sdict_merge.merge._new_states_array"
     ],
     "language": "python",
     "metadata": {},
     "outputs": [
      {
       "metadata": {},
       "output_type": "pyout",
       "prompt_number": 250,
       "text": [
        "StatesArray([u'\\u4eca', u'\\u5929', u'\\u597d', u'\\u5b83', u'\\u5f88', u'\\u6068',\n",
        "       u'\\u611b', u'\\u6211', u'\\u6c23', u'\\u721b'], \n",
        "      dtype='<U1')"
       ]
      }
     ],
     "prompt_number": 250
    },
    {
     "cell_type": "code",
     "collapsed": false,
     "input": [
      "test_sdict_merge.update()"
     ],
     "language": "python",
     "metadata": {},
     "outputs": [],
     "prompt_number": 251
    },
    {
     "cell_type": "code",
     "collapsed": false,
     "input": [
      "test_sdict_merge._unique_states_array_ids"
     ],
     "language": "python",
     "metadata": {},
     "outputs": [
      {
       "metadata": {},
       "output_type": "pyout",
       "prompt_number": 252,
       "text": [
        "array([97837496])"
       ]
      }
     ],
     "prompt_number": 252
    },
    {
     "cell_type": "code",
     "collapsed": false,
     "input": [
      "test_sdict_merge[0]"
     ],
     "language": "python",
     "metadata": {},
     "outputs": [
      {
       "metadata": {},
       "output_type": "pyout",
       "prompt_number": 265,
       "text": [
        "<__main__.StatesDictionary at 0x5d48350>"
       ]
      }
     ],
     "prompt_number": 265
    },
    {
     "cell_type": "code",
     "collapsed": false,
     "input": [
      "map(lambda xx:xx._ptr_array,states_data_array_merger)"
     ],
     "language": "python",
     "metadata": {},
     "outputs": [
      {
       "metadata": {},
       "output_type": "pyout",
       "prompt_number": 274,
       "text": [
        "[PtrArray([0, 1, 1, 4, 3, 2]),\n",
        " PtrArray([0, 1, 1, 3, 2, 4]),\n",
        " PtrArray([2, 1, 0]),\n",
        " PtrArray([0, 1, 2])]"
       ]
      }
     ],
     "prompt_number": 274
    },
    {
     "cell_type": "code",
     "collapsed": false,
     "input": [
      "np.concatenate(tuple(map(lambda xx:xx._ptr_array,states_data_array_merger)),axis=0)"
     ],
     "language": "python",
     "metadata": {},
     "outputs": [
      {
       "metadata": {},
       "output_type": "pyout",
       "prompt_number": 253,
       "text": [
        "array([0, 1, 1, 4, 3, 2, 0, 1, 1, 3, 2, 4, 2, 1, 0, 0, 1, 2])"
       ]
      }
     ],
     "prompt_number": 253
    },
    {
     "cell_type": "code",
     "collapsed": false,
     "input": [],
     "language": "python",
     "metadata": {},
     "outputs": [
      {
       "metadata": {},
       "output_type": "pyout",
       "prompt_number": 261,
       "text": [
        "StatesArray([u'\\u4eca', u'\\u5929', u'\\u597d', u'\\u5f88', u'\\u6c23'], \n",
        "      dtype='<U1')"
       ]
      }
     ],
     "prompt_number": 261
    },
    {
     "cell_type": "code",
     "collapsed": false,
     "input": [],
     "language": "python",
     "metadata": {},
     "outputs": []
    },
    {
     "cell_type": "code",
     "collapsed": false,
     "input": [],
     "language": "python",
     "metadata": {},
     "outputs": [],
     "prompt_number": 171
    },
    {
     "cell_type": "code",
     "collapsed": false,
     "input": [
      "states_merger = StatesDictionaryMerger(states_data_array1._states_dict,\n",
      "                                       states_data_array2._states_dict,\n",
      "                                       states_data_array3._states_dict,\n",
      "                                       states_data_array4._states_dict)\n",
      "states_merger"
     ],
     "language": "python",
     "metadata": {},
     "outputs": [
      {
       "metadata": {},
       "output_type": "pyout",
       "prompt_number": 275,
       "text": [
        "[<__main__.StatesDictionary at 0x5d48510>,\n",
        " <__main__.StatesDictionary at 0x5d483d0>,\n",
        " <__main__.StatesDictionary at 0x5d48550>,\n",
        " <__main__.StatesDictionary at 0x5d485d0>]"
       ]
      }
     ],
     "prompt_number": 275
    },
    {
     "cell_type": "code",
     "collapsed": false,
     "input": [
      "states_data_array1._ptr_array"
     ],
     "language": "python",
     "metadata": {},
     "outputs": [
      {
       "metadata": {},
       "output_type": "pyout",
       "prompt_number": 276,
       "text": [
        "PtrArray([0, 1, 1, 8, 4, 2])"
       ]
      }
     ],
     "prompt_number": 276
    },
    {
     "cell_type": "code",
     "collapsed": false,
     "input": [],
     "language": "python",
     "metadata": {},
     "outputs": [],
     "prompt_number": 276
    },
    {
     "cell_type": "code",
     "collapsed": false,
     "input": [
      "print states_merger\n",
      "print states_merger.merge._new_states_array\n",
      "print states_merger.merge._ptrs_transforms"
     ],
     "language": "python",
     "metadata": {},
     "outputs": [
      {
       "output_type": "stream",
       "stream": "stdout",
       "text": [
        "[<__main__.StatesDictionary object at 0x5d48510>, <__main__.StatesDictionary object at 0x5d483d0>, <__main__.StatesDictionary object at 0x5d48550>, <__main__.StatesDictionary object at 0x5d485d0>]\n"
       ]
      },
      {
       "ename": "AttributeError",
       "evalue": "'StatesDictionaryMerger' object has no attribute '_new_states_array'",
       "output_type": "pyerr",
       "traceback": [
        "\u001b[1;31m---------------------------------------------------------------------------\u001b[0m\n\u001b[1;31mAttributeError\u001b[0m                            Traceback (most recent call last)",
        "\u001b[1;32m<ipython-input-277-0da0e367f747>\u001b[0m in \u001b[0;36m<module>\u001b[1;34m()\u001b[0m\n\u001b[0;32m      1\u001b[0m \u001b[1;32mprint\u001b[0m \u001b[0mstates_merger\u001b[0m\u001b[1;33m\u001b[0m\u001b[0m\n\u001b[1;32m----> 2\u001b[1;33m \u001b[1;32mprint\u001b[0m \u001b[0mstates_merger\u001b[0m\u001b[1;33m.\u001b[0m\u001b[0mmerge\u001b[0m\u001b[1;33m.\u001b[0m\u001b[0m_new_states_array\u001b[0m\u001b[1;33m\u001b[0m\u001b[0m\n\u001b[0m\u001b[0;32m      3\u001b[0m \u001b[1;32mprint\u001b[0m \u001b[0mstates_merger\u001b[0m\u001b[1;33m.\u001b[0m\u001b[0mmerge\u001b[0m\u001b[1;33m.\u001b[0m\u001b[0m_ptrs_transforms\u001b[0m\u001b[1;33m\u001b[0m\u001b[0m\n",
        "\u001b[1;31mAttributeError\u001b[0m: 'StatesDictionaryMerger' object has no attribute '_new_states_array'"
       ]
      }
     ],
     "prompt_number": 277
    },
    {
     "cell_type": "code",
     "collapsed": false,
     "input": [
      "states_merger.merge.update()"
     ],
     "language": "python",
     "metadata": {},
     "outputs": [],
     "prompt_number": 269
    },
    {
     "cell_type": "code",
     "collapsed": false,
     "input": [
      "states_data_array1._ptr_array.ngram(4)"
     ],
     "language": "python",
     "metadata": {},
     "outputs": [
      {
       "metadata": {},
       "output_type": "pyout",
       "prompt_number": 270,
       "text": [
        "PtrArray([[0, 1, 1, 8],\n",
        "       [1, 1, 8, 4],\n",
        "       [1, 8, 4, 2]])"
       ]
      }
     ],
     "prompt_number": 270
    },
    {
     "cell_type": "code",
     "collapsed": false,
     "input": [
      "states_data_array1._eval"
     ],
     "language": "python",
     "metadata": {},
     "outputs": [
      {
       "metadata": {},
       "output_type": "pyout",
       "prompt_number": 271,
       "text": [
        "ValuesArray([u'\\u4eca', u'\\u5929', u'\\u5929', u'\\u6c23', u'\\u5f88', u'\\u597d'], \n",
        "      dtype='<U1')"
       ]
      }
     ],
     "prompt_number": 271
    },
    {
     "cell_type": "code",
     "collapsed": false,
     "input": [],
     "language": "python",
     "metadata": {},
     "outputs": [],
     "prompt_number": 271
    },
    {
     "cell_type": "code",
     "collapsed": false,
     "input": [
      "states_data_array1._ptr_array"
     ],
     "language": "python",
     "metadata": {},
     "outputs": [
      {
       "metadata": {},
       "output_type": "pyout",
       "prompt_number": 273,
       "text": [
        "PtrArray([0, 1, 1, 8, 4, 2])"
       ]
      }
     ],
     "prompt_number": 273
    },
    {
     "cell_type": "code",
     "collapsed": false,
     "input": [],
     "language": "python",
     "metadata": {},
     "outputs": []
    },
    {
     "cell_type": "code",
     "collapsed": false,
     "input": [
      "print states_data_array1._states_dict._states_array\n",
      "print states_data_array1._states_dict._referred_by\n",
      "print states_data_array1._ptr_array\n",
      "print \"// \".join(states_data_array1._eval)\n"
     ],
     "language": "python",
     "metadata": {},
     "outputs": [
      {
       "output_type": "stream",
       "stream": "stdout",
       "text": [
        "[u'\\u4eca' u'\\u5929' u'\\u597d' u'\\u5b83' u'\\u5f88' u'\\u6068' u'\\u611b'\n",
        " u'\\u6211' u'\\u6c23' u'\\u721b']\n",
        "[ValuesArray([u'\\u4eca', u'\\u5929', u'\\u5929', u'\\u6c23', u'\\u5f88', u'\\u597d'], \n",
        "      dtype='<U1')]\n",
        "[0 1 1 8 4 2]\n",
        "\u4eca// \u5929// \u5929// \u6c23// \u5f88// \u597d\n"
       ]
      }
     ],
     "prompt_number": 119
    },
    {
     "cell_type": "code",
     "collapsed": false,
     "input": [
      "print states_data_array2._states_dict._states_array\n",
      "print states_data_array2._states_dict._referred_by\n",
      "print states_data_array2._ptr_array\n",
      "print \"// \".join(states_data_array1._eval)\n"
     ],
     "language": "python",
     "metadata": {},
     "outputs": [
      {
       "output_type": "stream",
       "stream": "stdout",
       "text": [
        "[u'\\u4eca' u'\\u5929' u'\\u597d' u'\\u5b83' u'\\u5f88' u'\\u6068' u'\\u611b'\n",
        " u'\\u6211' u'\\u6c23' u'\\u721b']\n",
        "[ValuesArray([u'\\u4eca', u'\\u5929', u'\\u5929', u'\\u6c23', u'\\u5f88', u'\\u721b'], \n",
        "      dtype='<U1')]\n",
        "[0 1 1 8 4 9]\n",
        "\u4eca// \u5929// \u5929// \u6c23// \u5f88// \u597d\n"
       ]
      }
     ],
     "prompt_number": 120
    },
    {
     "cell_type": "code",
     "collapsed": false,
     "input": [
      "print id(states_data_array1._states_dict._states_array)\n",
      "print id(states_data_array2._states_dict._states_array)\n",
      "print \"// \".join(states_data_array2._states_dict._states_array)"
     ],
     "language": "python",
     "metadata": {},
     "outputs": [
      {
       "output_type": "stream",
       "stream": "stdout",
       "text": [
        "65651248\n",
        "65651248\n",
        "\u4eca// \u5929// \u597d// \u5b83// \u5f88// \u6068// \u611b// \u6211// \u6c23// \u721b\n"
       ]
      }
     ],
     "prompt_number": 121
    },
    {
     "cell_type": "code",
     "collapsed": false,
     "input": [],
     "language": "python",
     "metadata": {},
     "outputs": [],
     "prompt_number": 121
    },
    {
     "cell_type": "code",
     "collapsed": false,
     "input": [
      "print list(tkr.ngram(states_data_array1._ptr_array,2))\n",
      "type(states_data_array1._ptr_array)(list(tkr.ngram(states_data_array1._ptr_array,2)))"
     ],
     "language": "python",
     "metadata": {},
     "outputs": [
      {
       "output_type": "stream",
       "stream": "stdout",
       "text": [
        "[PtrArray([0, 1]), PtrArray([1, 1]), PtrArray([1, 8]), PtrArray([8, 4]), PtrArray([4, 2])]\n"
       ]
      },
      {
       "metadata": {},
       "output_type": "pyout",
       "prompt_number": 166,
       "text": [
        "PtrArray([[0, 1],\n",
        "       [1, 1],\n",
        "       [1, 8],\n",
        "       [8, 4],\n",
        "       [4, 2]])"
       ]
      }
     ],
     "prompt_number": 166
    },
    {
     "cell_type": "code",
     "collapsed": false,
     "input": [
      "print states_data_array1._ptr_array"
     ],
     "language": "python",
     "metadata": {},
     "outputs": [
      {
       "output_type": "stream",
       "stream": "stdout",
       "text": [
        "[0 1 1 8 4 2]\n"
       ]
      }
     ],
     "prompt_number": 123
    },
    {
     "cell_type": "code",
     "collapsed": false,
     "input": [
      "np.kron([[100],[10]],map(lambda xx:[xx],np.ones(states_data_array1._ptr_array.shape)))"
     ],
     "language": "python",
     "metadata": {},
     "outputs": [
      {
       "metadata": {},
       "output_type": "pyout",
       "prompt_number": 124,
       "text": [
        "array([[ 100.],\n",
        "       [ 100.],\n",
        "       [ 100.],\n",
        "       [ 100.],\n",
        "       [ 100.],\n",
        "       [ 100.],\n",
        "       [  10.],\n",
        "       [  10.],\n",
        "       [  10.],\n",
        "       [  10.],\n",
        "       [  10.],\n",
        "       [  10.]])"
       ]
      }
     ],
     "prompt_number": 124
    },
    {
     "cell_type": "code",
     "collapsed": false,
     "input": [
      "np.kron(np.eye(2), np.ones((2,2)))"
     ],
     "language": "python",
     "metadata": {},
     "outputs": [
      {
       "metadata": {},
       "output_type": "pyout",
       "prompt_number": 126,
       "text": [
        "array([[ 1.,  1.,  0.,  0.],\n",
        "       [ 1.,  1.,  0.,  0.],\n",
        "       [ 0.,  0.,  1.,  1.],\n",
        "       [ 0.,  0.,  1.,  1.]])"
       ]
      }
     ],
     "prompt_number": 126
    },
    {
     "cell_type": "code",
     "collapsed": false,
     "input": [],
     "language": "python",
     "metadata": {},
     "outputs": [],
     "prompt_number": 28
    },
    {
     "cell_type": "code",
     "collapsed": false,
     "input": [
      "np.r_[np.array([np.ones(states_data_array1._ptr_array.shape)]).T]"
     ],
     "language": "python",
     "metadata": {},
     "outputs": [
      {
       "metadata": {},
       "output_type": "pyout",
       "prompt_number": 138,
       "text": [
        "array([[ 1.],\n",
        "       [ 1.],\n",
        "       [ 1.],\n",
        "       [ 1.],\n",
        "       [ 1.],\n",
        "       [ 1.]])"
       ]
      }
     ],
     "prompt_number": 138
    },
    {
     "cell_type": "code",
     "collapsed": false,
     "input": [
      "print np.arange(10,20)[[5,3,1,4]]\n",
      "#range(10)[[1,5,3,4]]\n"
     ],
     "language": "python",
     "metadata": {},
     "outputs": [
      {
       "output_type": "stream",
       "stream": "stdout",
       "text": [
        "[15 13 11 14]\n"
       ]
      }
     ],
     "prompt_number": 150
    },
    {
     "cell_type": "code",
     "collapsed": false,
     "input": [],
     "language": "python",
     "metadata": {},
     "outputs": []
    }
   ],
   "metadata": {}
  }
 ]
}