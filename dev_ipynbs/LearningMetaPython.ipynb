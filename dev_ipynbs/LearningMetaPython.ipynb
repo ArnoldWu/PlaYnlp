{
 "metadata": {
  "name": ""
 },
 "nbformat": 3,
 "nbformat_minor": 0,
 "worksheets": [
  {
   "cells": [
    {
     "cell_type": "markdown",
     "metadata": {},
     "source": [
      "# Class Attributes Versus Instance Attributes:"
     ]
    },
    {
     "cell_type": "code",
     "collapsed": false,
     "input": [
      "class A(object):\n",
      "    x = []\n",
      "    y = {}\n",
      "    z = 123\n",
      "    "
     ],
     "language": "python",
     "metadata": {},
     "outputs": [],
     "prompt_number": 7
    },
    {
     "cell_type": "code",
     "collapsed": false,
     "input": [
      "a = A()\n",
      "print \"a.x = \",a.x\n",
      "print \"a.y = \",a.y\n",
      "print \"a.z = \",a.z\n",
      "print \"a.__dict__ = \",a.__dict__"
     ],
     "language": "python",
     "metadata": {},
     "outputs": [
      {
       "output_type": "stream",
       "stream": "stdout",
       "text": [
        "a.x =  []\n",
        "a.y =  {}\n",
        "a.z =  123\n",
        "a.__dict__ =  {}\n"
       ]
      }
     ],
     "prompt_number": 10
    },
    {
     "cell_type": "code",
     "collapsed": false,
     "input": [
      "b = A()\n",
      "print \"b.x = \",b.x\n",
      "print \"b.y = \",b.y\n",
      "print \"b.z = \",b.z\n",
      "print \"b.__dict__ = \",b.__dict__"
     ],
     "language": "python",
     "metadata": {},
     "outputs": [
      {
       "output_type": "stream",
       "stream": "stdout",
       "text": [
        "b.x =  []\n",
        "b.y =  {}\n",
        "b.z =  123\n",
        "b.__dict__ =  {}\n"
       ]
      }
     ],
     "prompt_number": 11
    },
    {
     "cell_type": "markdown",
     "metadata": {},
     "source": [
      "# Global List & Dict:"
     ]
    },
    {
     "cell_type": "code",
     "collapsed": false,
     "input": [
      "a.x.append(123)\n",
      "print \"a.x = \",a.x\n",
      "print \"b.x = \",b.x"
     ],
     "language": "python",
     "metadata": {},
     "outputs": [
      {
       "output_type": "stream",
       "stream": "stdout",
       "text": [
        "a.x =  [123]\n",
        "b.x =  [123]\n"
       ]
      }
     ],
     "prompt_number": 12
    },
    {
     "cell_type": "code",
     "collapsed": false,
     "input": [
      "b.y[\"abc\"] = 2345\n",
      "print \"a.y = \",a.y\n",
      "print \"b.y = \",b.y"
     ],
     "language": "python",
     "metadata": {},
     "outputs": [
      {
       "output_type": "stream",
       "stream": "stdout",
       "text": [
        "a.y =  {'abc': 2345}\n",
        "b.y =  {'abc': 2345}\n"
       ]
      }
     ],
     "prompt_number": 13
    },
    {
     "cell_type": "markdown",
     "metadata": {},
     "source": [
      "# Instance-Level Versus Class-Level:"
     ]
    },
    {
     "cell_type": "code",
     "collapsed": false,
     "input": [
      "a.z = 345\n",
      "print \"a.z = \",a.z\n",
      "print \"b.z = \",b.z"
     ],
     "language": "python",
     "metadata": {},
     "outputs": [
      {
       "output_type": "stream",
       "stream": "stdout",
       "text": [
        "a.z =  345\n",
        "b.z =  123\n"
       ]
      }
     ],
     "prompt_number": 27
    },
    {
     "cell_type": "code",
     "collapsed": false,
     "input": [
      "print \"a.__dict__ = \",a.__dict__\n",
      "print \"b.__dict__ = \",b.__dict__\n",
      "print \"type(a).__dict__ = \",type(a).__dict__\n",
      "print \"type(b).__dict__ = \",type(b).__dict__"
     ],
     "language": "python",
     "metadata": {},
     "outputs": [
      {
       "output_type": "stream",
       "stream": "stdout",
       "text": [
        "a.__dict__ =  {'z': 345}\n",
        "b.__dict__ =  {}\n",
        "type(a).__dict__ =  {'__module__': '__main__', '__dict__': <attribute '__dict__' of 'A' objects>, 'y': {'abc': 2345}, 'x': [123], 'z': 123, '__weakref__': <attribute '__weakref__' of 'A' objects>, '__doc__': None}\n",
        "type(b).__dict__ =  {'__module__': '__main__', '__dict__': <attribute '__dict__' of 'A' objects>, 'y': {'abc': 2345}, 'x': [123], 'z': 123, '__weakref__': <attribute '__weakref__' of 'A' objects>, '__doc__': None}\n"
       ]
      }
     ],
     "prompt_number": 28
    },
    {
     "cell_type": "code",
     "collapsed": false,
     "input": [
      "if \"z\" in a.__dict__:\n",
      "    del a.z\n",
      "print \"a.z = \",a.z\n",
      "print \"b.z = \",b.z\n",
      "print \"a.__dict__ = \",a.__dict__\n",
      "print \"b.__dict__ = \",b.__dict__"
     ],
     "language": "python",
     "metadata": {},
     "outputs": [
      {
       "output_type": "stream",
       "stream": "stdout",
       "text": [
        "a.z =  123\n",
        "b.z =  123\n",
        "a.__dict__ =  {}\n",
        "b.__dict__ =  {}\n"
       ]
      }
     ],
     "prompt_number": 29
    },
    {
     "cell_type": "code",
     "collapsed": false,
     "input": [
      "type(a).z = 345\n",
      "print \"a.z = \",a.z\n",
      "print \"b.z = \",b.z"
     ],
     "language": "python",
     "metadata": {},
     "outputs": [
      {
       "output_type": "stream",
       "stream": "stdout",
       "text": [
        "a.z =  345\n",
        "b.z =  345\n"
       ]
      }
     ],
     "prompt_number": 30
    },
    {
     "cell_type": "markdown",
     "metadata": {},
     "source": [
      "# Global Numpy Array:"
     ]
    },
    {
     "cell_type": "code",
     "collapsed": false,
     "input": [
      "import numpy as np"
     ],
     "language": "python",
     "metadata": {},
     "outputs": [],
     "prompt_number": 31
    },
    {
     "cell_type": "code",
     "collapsed": false,
     "input": [
      "test = np.array([[1.,2.],[3.,4.]])\n",
      "test"
     ],
     "language": "python",
     "metadata": {},
     "outputs": [
      {
       "metadata": {},
       "output_type": "pyout",
       "prompt_number": 32,
       "text": [
        "array([[ 1.,  2.],\n",
        "       [ 3.,  4.]])"
       ]
      }
     ],
     "prompt_number": 32
    },
    {
     "cell_type": "code",
     "collapsed": false,
     "input": [
      "# class B(object):\n",
      "#     x = test\n",
      "    \n",
      "B = type.__new__(type,\"B\",(),{\"x\":test})"
     ],
     "language": "python",
     "metadata": {},
     "outputs": [],
     "prompt_number": 35
    },
    {
     "cell_type": "code",
     "collapsed": false,
     "input": [
      "a = B()\n",
      "b = B()"
     ],
     "language": "python",
     "metadata": {},
     "outputs": [],
     "prompt_number": 36
    },
    {
     "cell_type": "code",
     "collapsed": false,
     "input": [
      "print a.x\n",
      "print b.x"
     ],
     "language": "python",
     "metadata": {},
     "outputs": [
      {
       "output_type": "stream",
       "stream": "stdout",
       "text": [
        "[[ 1.  2.]\n",
        " [ 3.  4.]]\n",
        "[[ 1.  2.]\n",
        " [ 3.  4.]]\n"
       ]
      }
     ],
     "prompt_number": 42
    },
    {
     "cell_type": "code",
     "collapsed": false,
     "input": [
      "a.x[0,0] = 10\n",
      "print a.x\n",
      "print b.x"
     ],
     "language": "python",
     "metadata": {},
     "outputs": [
      {
       "output_type": "stream",
       "stream": "stdout",
       "text": [
        "[[ 10.   2.]\n",
        " [  3.   4.]]\n",
        "[[ 10.   2.]\n",
        " [  3.   4.]]\n"
       ]
      }
     ],
     "prompt_number": 43
    },
    {
     "cell_type": "code",
     "collapsed": false,
     "input": [
      "print \"id(a.x) = \",id(a.x)\n",
      "print \"id(b.x) = \",id(b.x)"
     ],
     "language": "python",
     "metadata": {},
     "outputs": [
      {
       "output_type": "stream",
       "stream": "stdout",
       "text": [
        "id(a.x) =  33188320\n",
        "id(b.x) =  33188320\n"
       ]
      }
     ],
     "prompt_number": 44
    },
    {
     "cell_type": "markdown",
     "metadata": {},
     "source": [
      "# Hello Meta Programming:"
     ]
    },
    {
     "cell_type": "code",
     "collapsed": false,
     "input": [
      "\n",
      "# metaclass\n",
      "class Countable(type):\n",
      "    \n",
      "    def __new__(mbs, name, bases, dct):\n",
      "        cls = type.__new__(mbs, name, bases, dct)\n",
      "        cls.count = 0\n",
      "        xx.append(cls)\n",
      "        \n",
      "        return cls\n",
      "\n",
      "    def __call__(cls, *args, **kwargs):\n",
      "        cls.count += 1\n",
      "        type.__call__(cls, *args, **kwargs)\n",
      "\n",
      "\n",
      "# # class\n",
      "# class Book(object):\n",
      "#     __metaclass__ = Countable\n",
      "\n",
      "#     def __init__(self, title):\n",
      "#         self.title = title\n",
      "\n",
      "# # run\n",
      "# print 'I have {} books'.format(Book.count)\n",
      "# a=Book('A1')\n",
      "# b=Book('A2')\n",
      "# c=Book('A3')\n",
      "# d=Book('A4')\n",
      "# print 'I have {} books'.format(Book.count)"
     ],
     "language": "python",
     "metadata": {},
     "outputs": [],
     "prompt_number": 71
    },
    {
     "cell_type": "code",
     "collapsed": false,
     "input": [],
     "language": "python",
     "metadata": {},
     "outputs": [],
     "prompt_number": 71
    },
    {
     "cell_type": "code",
     "collapsed": false,
     "input": [
      "def book_init(self, title):\n",
      "    self.title = title"
     ],
     "language": "python",
     "metadata": {},
     "outputs": [],
     "prompt_number": 72
    },
    {
     "cell_type": "code",
     "collapsed": false,
     "input": [
      "xx = []\n",
      "Book = Countable.__new__(Countable,\"Book\",(),{\"__init__\":book_init})\n",
      "Cat = Countable.__new__(Countable,\"Cat\",(),{\"__init__\":book_init})\n",
      "xx"
     ],
     "language": "python",
     "metadata": {},
     "outputs": [
      {
       "metadata": {},
       "output_type": "pyout",
       "prompt_number": 73,
       "text": [
        "[__main__.Book, __main__.Cat]"
       ]
      }
     ],
     "prompt_number": 73
    },
    {
     "cell_type": "code",
     "collapsed": false,
     "input": [
      "print Book.count\n",
      "Book(\"A\")\n",
      "Book(\"B\")\n",
      "print Book.count"
     ],
     "language": "python",
     "metadata": {},
     "outputs": [
      {
       "output_type": "stream",
       "stream": "stdout",
       "text": [
        "0\n",
        "2\n"
       ]
      }
     ],
     "prompt_number": 74
    },
    {
     "cell_type": "code",
     "collapsed": false,
     "input": [],
     "language": "python",
     "metadata": {},
     "outputs": []
    },
    {
     "cell_type": "code",
     "collapsed": false,
     "input": [],
     "language": "python",
     "metadata": {},
     "outputs": []
    },
    {
     "cell_type": "code",
     "collapsed": false,
     "input": [],
     "language": "python",
     "metadata": {},
     "outputs": []
    },
    {
     "cell_type": "code",
     "collapsed": false,
     "input": [],
     "language": "python",
     "metadata": {},
     "outputs": []
    },
    {
     "cell_type": "code",
     "collapsed": false,
     "input": [],
     "language": "python",
     "metadata": {},
     "outputs": []
    },
    {
     "cell_type": "code",
     "collapsed": false,
     "input": [],
     "language": "python",
     "metadata": {},
     "outputs": []
    },
    {
     "cell_type": "code",
     "collapsed": false,
     "input": [],
     "language": "python",
     "metadata": {},
     "outputs": []
    },
    {
     "cell_type": "markdown",
     "metadata": {},
     "source": [
      "# Reference:\n",
      "\n",
      "- ## http://hychen.wuweig.org/blog/2012/06/12/slide-pycontw2012/\n",
      "- ## https://www.youtube.com/watch?v=bidf7psKj_U\n",
      "- ## http://openhome.cc/Gossip/Python/Metaclass.html\n",
      "- ## http://www.aleax.it/gdd_pydp.pdf\n",
      "\n",
      "- ## http://dietbuddha.blogspot.tw/2012/12/python-metaprogramming-dynamically.html\n",
      "- ## https://ep2013.europython.eu/media/conference/slides/meta-programming-some-use-cases-for-everyday-programming.pdf"
     ]
    },
    {
     "cell_type": "code",
     "collapsed": false,
     "input": [],
     "language": "python",
     "metadata": {},
     "outputs": []
    }
   ],
   "metadata": {}
  }
 ]
}