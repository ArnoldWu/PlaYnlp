{
 "metadata": {
  "name": ""
 },
 "nbformat": 3,
 "nbformat_minor": 0,
 "worksheets": [
  {
   "cells": [
    {
     "cell_type": "code",
     "collapsed": false,
     "input": [
      "%matplotlib inline"
     ],
     "language": "python",
     "metadata": {},
     "outputs": [],
     "prompt_number": 1
    },
    {
     "cell_type": "code",
     "collapsed": false,
     "input": [
      "import matplotlib.pylab as pylab\n",
      "pylab.rcParams['figure.figsize'] = 16, 12\n",
      "\n",
      "from matplotlib.font_manager import FontProperties\n",
      "cfont = FontProperties(fname=\"/usr/share/fonts/truetype/wqy/wqy-zenhei.ttc\", size = 14)"
     ],
     "language": "python",
     "metadata": {},
     "outputs": [],
     "prompt_number": 2
    },
    {
     "cell_type": "code",
     "collapsed": false,
     "input": [
      "import PlaYnlp.tokenizer as tkr \n",
      "import PlaYnlp.vectorizer as vcr "
     ],
     "language": "python",
     "metadata": {},
     "outputs": [],
     "prompt_number": 3
    },
    {
     "cell_type": "code",
     "collapsed": false,
     "input": [
      "jieba_without_html_tokenizer = tkr.tokenize_gen(lambda text:tkr.jieba.cut(tkr.nltk.clean_html(text)))\n",
      "unigram_without_html_tokenizer = tkr.tokenize_gen(lambda text:tkr.ngram(tkr.nltk.clean_html(text),n=1))\n",
      "bigram_without_html_tokenizer = tkr.tokenize_gen(lambda text:tkr.ngram(tkr.nltk.clean_html(text),n=2))\n",
      "jieba_vec_count_kwargs = {\"tokenizer\":jieba_without_html_tokenizer,\"lowercase\":False}\n",
      "unigram_vec_count_kwargs = {\"tokenizer\":unigram_without_html_tokenizer,\"lowercase\":False}\n",
      "bigram_vec_count_kwargs = {\"tokenizer\":bigram_without_html_tokenizer,\"lowercase\":False}"
     ],
     "language": "python",
     "metadata": {},
     "outputs": [],
     "prompt_number": 4
    },
    {
     "cell_type": "code",
     "collapsed": false,
     "input": [
      "import pickle\n",
      "\n",
      "with open(\"PTT___Physics_Accounting_Economics_Math_Statistics.pickle\",\"rb\") as read_file:\n",
      "    articles_df,articles_push_df = pickle.load(read_file)"
     ],
     "language": "python",
     "metadata": {},
     "outputs": [],
     "prompt_number": 5
    },
    {
     "cell_type": "code",
     "collapsed": false,
     "input": [
      "articles_df.head()"
     ],
     "language": "python",
     "metadata": {},
     "outputs": [
      {
       "html": [
        "<div style=\"max-height:1000px;max-width:1500px;overflow:auto;\">\n",
        "<table border=\"1\" class=\"dataframe\">\n",
        "  <thead>\n",
        "    <tr style=\"text-align: right;\">\n",
        "      <th></th>\n",
        "      <th>Board</th>\n",
        "      <th>_id</th>\n",
        "      <th>text</th>\n",
        "      <th>time</th>\n",
        "      <th>title</th>\n",
        "      <th>url</th>\n",
        "      <th>user</th>\n",
        "      <th>user_id</th>\n",
        "      <th>user_nickname</th>\n",
        "    </tr>\n",
        "  </thead>\n",
        "  <tbody>\n",
        "    <tr>\n",
        "      <th>0</th>\n",
        "      <td> Accounting</td>\n",
        "      <td> 52f223db74798d7e7bbe9965</td>\n",
        "      <td>   \\n102\u5e74\u8d85\u7d1a\u51fd\u6388CD\u7248\\n\\n\u9ad8\u6703(\u856d\u9756) \u6b32\u552e$2500 NT\\n\\n\u516c\u53f8\u6cd5(\u8463\u8b19...</td>\n",
        "      <td> Wed Feb  5 13:48:58 2014</td>\n",
        "      <td>             [\u51fa\u552e] 102\u5e74\u8d85\u7d1a\u51fd\u6388 \u9ad8\u6703\u3001\u516c\u53f8\u6cd5</td>\n",
        "      <td> http://www.ptt.cc/bbs/Accounting/M.1391579341....</td>\n",
        "      <td>           sunnykiller (\u5929\u7c5f\u4e4b\u8072)</td>\n",
        "      <td>  sunnykiller</td>\n",
        "      <td> \u5929\u7c5f\u4e4b\u8072</td>\n",
        "    </tr>\n",
        "    <tr>\n",
        "      <th>1</th>\n",
        "      <td> Accounting</td>\n",
        "      <td> 52f223db74798d7e78be9965</td>\n",
        "      <td>   \\n\u5982\u6a19\u984c\\n\u5269\u4e0b\u4e00\u6b21\u6388\u6b0a\u5373\u53ef\\n\u8b1b\u7fa9\u6211\u6709\\n\u4f46\u662f\u7f3a\u7b46\u8a18\\n\u5982\u679c\u9858\u610f\u8ce3\u7b46\u8a18\u4e5fOK\\n\\n...</td>\n",
        "      <td> Wed Feb  5 14:44:15 2014</td>\n",
        "      <td>               [\u5fb5\u6c42]\u5f90\u9326\u83ef\u9ad8\u6703DVD or \u8b1b\u7fa9</td>\n",
        "      <td> http://www.ptt.cc/bbs/Accounting/M.1391582662....</td>\n",
        "      <td> JilSander (Doer brokenheart)</td>\n",
        "      <td>    JilSander</td>\n",
        "      <td>  Doe</td>\n",
        "    </tr>\n",
        "    <tr>\n",
        "      <th>2</th>\n",
        "      <td> Accounting</td>\n",
        "      <td> 52f223db74798d7e76be9965</td>\n",
        "      <td>   \\n\u203b \u5f15\u8ff0\u300aflora713 (pretty world)\u300b\u4e4b\u9298\u8a00\uff1a: 1. \u51fa\u552e\uff1a\u5fd7...</td>\n",
        "      <td> Wed Feb  5 16:47:30 2014</td>\n",
        "      <td> Re: [\u51fa\u552e/\u8d08\u9001] \u5fd7\u5149\u5c0a\u69ae\u512a\u60e0\u5238/ \u8d85\u7d1a\u51fd\u6388VIP\u63a8\u85a6\u79ae\u5238</td>\n",
        "      <td> http://www.ptt.cc/bbs/Accounting/M.1391590052....</td>\n",
        "      <td>            lphotoimpact (\u6953\u96ea)</td>\n",
        "      <td> lphotoimpact</td>\n",
        "      <td>   \u6953\u96ea</td>\n",
        "    </tr>\n",
        "    <tr>\n",
        "      <th>3</th>\n",
        "      <td> Accounting</td>\n",
        "      <td> 52f223dd74798d7e7abe9965</td>\n",
        "      <td>   \\n\\n     \u521d\u6703\\n     http://goods.ruten.com.tw/...</td>\n",
        "      <td> Wed Feb  5 14:57:59 2014</td>\n",
        "      <td>      [\u552e] \u521d\u7d1a\u6703\u8a08\u5b78.\u4e2d\u7d1a\u6703\u8a08\u5b78.\u6210\u672c\u6703\u8a08 DVD+\u8b1b\u7fa9</td>\n",
        "      <td> http://www.ptt.cc/bbs/Accounting/M.1391583483....</td>\n",
        "      <td>                  ap22 (\u65cb\u8f49\u74f6\u5b50)</td>\n",
        "      <td>         ap22</td>\n",
        "      <td> \u65cb\u8f49\u74f6\u5b50</td>\n",
        "    </tr>\n",
        "    <tr>\n",
        "      <th>4</th>\n",
        "      <td>       Math</td>\n",
        "      <td> 52f223de74798d7e78be9966</td>\n",
        "      <td>   \\n\u984c\u76ee:\u627e\u5230\u4e00\u500b\u5207\u7dda\u5e73\u9762\u5728:f(x,y)=x^2y\u7684\u5e73\u9762\u4e0a\uff0c\u4ea4\u9ede\u70ba(2,-1,-4)\\...</td>\n",
        "      <td> Tue Feb  4 15:48:18 2014</td>\n",
        "      <td>                 [\u5fae\u7a4d] \u5229\u7528\u65b9\u5411\u5c0e\u6578\u6c42\u5207\u7dda\u4e00\u554f</td>\n",
        "      <td> http://www.ptt.cc/bbs/Math/M.1391500100.A.7D1....</td>\n",
        "      <td>                  gbd37 (\u6709\u5920\u778e)</td>\n",
        "      <td>        gbd37</td>\n",
        "      <td>  \u6709\u5920\u778e</td>\n",
        "    </tr>\n",
        "  </tbody>\n",
        "</table>\n",
        "<p>5 rows \u00d7 9 columns</p>\n",
        "</div>"
       ],
       "metadata": {},
       "output_type": "pyout",
       "prompt_number": 6,
       "text": [
        "        Board                       _id  \\\n",
        "0  Accounting  52f223db74798d7e7bbe9965   \n",
        "1  Accounting  52f223db74798d7e78be9965   \n",
        "2  Accounting  52f223db74798d7e76be9965   \n",
        "3  Accounting  52f223dd74798d7e7abe9965   \n",
        "4        Math  52f223de74798d7e78be9966   \n",
        "\n",
        "                                                text  \\\n",
        "0    \\n102\u5e74\u8d85\u7d1a\u51fd\u6388CD\u7248\\n\\n\u9ad8\u6703(\u856d\u9756) \u6b32\u552e$2500 NT\\n\\n\u516c\u53f8\u6cd5(\u8463\u8b19...   \n",
        "1    \\n\u5982\u6a19\u984c\\n\u5269\u4e0b\u4e00\u6b21\u6388\u6b0a\u5373\u53ef\\n\u8b1b\u7fa9\u6211\u6709\\n\u4f46\u662f\u7f3a\u7b46\u8a18\\n\u5982\u679c\u9858\u610f\u8ce3\u7b46\u8a18\u4e5fOK\\n\\n...   \n",
        "2    \\n\u203b \u5f15\u8ff0\u300aflora713 (pretty world)\u300b\u4e4b\u9298\u8a00\uff1a: 1. \u51fa\u552e\uff1a\u5fd7...   \n",
        "3    \\n\\n     \u521d\u6703\\n     http://goods.ruten.com.tw/...   \n",
        "4    \\n\u984c\u76ee:\u627e\u5230\u4e00\u500b\u5207\u7dda\u5e73\u9762\u5728:f(x,y)=x^2y\u7684\u5e73\u9762\u4e0a\uff0c\u4ea4\u9ede\u70ba(2,-1,-4)\\...   \n",
        "\n",
        "                       time                             title  \\\n",
        "0  Wed Feb  5 13:48:58 2014              [\u51fa\u552e] 102\u5e74\u8d85\u7d1a\u51fd\u6388 \u9ad8\u6703\u3001\u516c\u53f8\u6cd5   \n",
        "1  Wed Feb  5 14:44:15 2014                [\u5fb5\u6c42]\u5f90\u9326\u83ef\u9ad8\u6703DVD or \u8b1b\u7fa9   \n",
        "2  Wed Feb  5 16:47:30 2014  Re: [\u51fa\u552e/\u8d08\u9001] \u5fd7\u5149\u5c0a\u69ae\u512a\u60e0\u5238/ \u8d85\u7d1a\u51fd\u6388VIP\u63a8\u85a6\u79ae\u5238   \n",
        "3  Wed Feb  5 14:57:59 2014       [\u552e] \u521d\u7d1a\u6703\u8a08\u5b78.\u4e2d\u7d1a\u6703\u8a08\u5b78.\u6210\u672c\u6703\u8a08 DVD+\u8b1b\u7fa9   \n",
        "4  Tue Feb  4 15:48:18 2014                  [\u5fae\u7a4d] \u5229\u7528\u65b9\u5411\u5c0e\u6578\u6c42\u5207\u7dda\u4e00\u554f   \n",
        "\n",
        "                                                 url  \\\n",
        "0  http://www.ptt.cc/bbs/Accounting/M.1391579341....   \n",
        "1  http://www.ptt.cc/bbs/Accounting/M.1391582662....   \n",
        "2  http://www.ptt.cc/bbs/Accounting/M.1391590052....   \n",
        "3  http://www.ptt.cc/bbs/Accounting/M.1391583483....   \n",
        "4  http://www.ptt.cc/bbs/Math/M.1391500100.A.7D1....   \n",
        "\n",
        "                           user       user_id user_nickname  \n",
        "0            sunnykiller (\u5929\u7c5f\u4e4b\u8072)   sunnykiller          \u5929\u7c5f\u4e4b\u8072  \n",
        "1  JilSander (Doer brokenheart)     JilSander           Doe  \n",
        "2             lphotoimpact (\u6953\u96ea)  lphotoimpact            \u6953\u96ea  \n",
        "3                   ap22 (\u65cb\u8f49\u74f6\u5b50)          ap22          \u65cb\u8f49\u74f6\u5b50  \n",
        "4                   gbd37 (\u6709\u5920\u778e)         gbd37           \u6709\u5920\u778e  \n",
        "\n",
        "[5 rows x 9 columns]"
       ]
      }
     ],
     "prompt_number": 6
    },
    {
     "cell_type": "code",
     "collapsed": false,
     "input": [
      "articles_df.groupby(\"Board\").groups.keys()"
     ],
     "language": "python",
     "metadata": {},
     "outputs": [
      {
       "metadata": {},
       "output_type": "pyout",
       "prompt_number": 7,
       "text": [
        "[u'Statistics', u'Accounting', u'Economics', u'Physics', u'Math']"
       ]
      }
     ],
     "prompt_number": 7
    },
    {
     "cell_type": "code",
     "collapsed": false,
     "input": [
      "test_ptt_text_sdtm = vcr.vectorize_text(df=articles_df,\n",
      "                                         text_col=\"text\", \n",
      "                                         idx_col=\"url\", \n",
      "                                         cond_query={\"Board\":\"Accounting\"},\n",
      "                                         idx_query= [],\n",
      "                                         vect_gen=vcr.CountVectorizer, \n",
      "                                         vect_gen_init_kwargs = jieba_vec_count_kwargs)"
     ],
     "language": "python",
     "metadata": {},
     "outputs": [
      {
       "output_type": "stream",
       "stream": "stderr",
       "text": [
        "Building Trie..., from /usr/local/lib/python2.7/dist-packages/jieba/dict.txt\n",
        "dumping model to file cache /tmp/jieba.cache"
       ]
      },
      {
       "output_type": "stream",
       "stream": "stderr",
       "text": [
        "\n",
        "loading model cost "
       ]
      }
     ]
    },
    {
     "cell_type": "code",
     "collapsed": false,
     "input": [
      "test_ptt_text_sdtm"
     ],
     "language": "python",
     "metadata": {},
     "outputs": []
    },
    {
     "cell_type": "code",
     "collapsed": false,
     "input": [
      "L0_col_sum = lambda xx:xx.sign().sum(axis=0)"
     ],
     "language": "python",
     "metadata": {},
     "outputs": [],
     "prompt_number": 11
    },
    {
     "cell_type": "code",
     "collapsed": false,
     "input": [
      "test_ptt_text_sdtm.T.summarize_sdf(L0_col_sum)._data.mean()"
     ],
     "language": "python",
     "metadata": {},
     "outputs": [
      {
       "metadata": {},
       "output_type": "pyout",
       "prompt_number": 12,
       "text": [
        "145.13510060683487"
       ]
      }
     ],
     "prompt_number": 12
    },
    {
     "cell_type": "code",
     "collapsed": false,
     "input": [],
     "language": "python",
     "metadata": {},
     "outputs": [],
     "prompt_number": 11
    },
    {
     "cell_type": "code",
     "collapsed": false,
     "input": [],
     "language": "python",
     "metadata": {},
     "outputs": [],
     "prompt_number": 11
    },
    {
     "cell_type": "code",
     "collapsed": false,
     "input": [
      "((test_ptt_text_sdtm.summarize_sdf(L0_col_sum) > 2) & (test_ptt_text_sdtm.summarize_sdf(L0_col_sum) < 100))._filtered_idx.shape"
     ],
     "language": "python",
     "metadata": {},
     "outputs": [
      {
       "metadata": {},
       "output_type": "pyout",
       "prompt_number": 14,
       "text": [
        "(35856,)"
       ]
      }
     ],
     "prompt_number": 14
    },
    {
     "cell_type": "code",
     "collapsed": false,
     "input": [
      "#print \"// \".join(((test_ptt_text_sdtm.summarize_sdf(L0_col_sum) > 2) & (test_ptt_text_sdtm.summarize_sdf(L0_col_sum) < 100))._filtered_idx)"
     ],
     "language": "python",
     "metadata": {},
     "outputs": [],
     "prompt_number": 15
    },
    {
     "cell_type": "code",
     "collapsed": false,
     "input": [
      "filtered_sdtm = ((test_ptt_text_sdtm.summarize_sdf(L0_col_sum) > 2) & (test_ptt_text_sdtm.summarize_sdf(L0_col_sum) < 2000))._sub_sdf\n",
      "print filtered_sdtm.T.summarize_sdf(L0_col_sum)._data.mean()\n",
      "filtered_sdtm"
     ],
     "language": "python",
     "metadata": {},
     "outputs": [
      {
       "output_type": "stream",
       "stream": "stdout",
       "text": [
        "80.2010539764\n"
       ]
      },
      {
       "metadata": {},
       "output_type": "pyout",
       "prompt_number": 16,
       "text": [
        "{'col_idx': array([u'#', u'##', u'&', ..., u'\\uff63', u'\\uffe3', u'\\ufffc'], \n",
        "       dtype='<U84'),\n",
        " 'row_idx': array([u'http://www.ptt.cc/bbs/Accounting/M.1391579341.A.20A.html',\n",
        "        u'http://www.ptt.cc/bbs/Accounting/M.1391582662.A.8A1.html',\n",
        "        u'http://www.ptt.cc/bbs/Accounting/M.1391590052.A.364.html', ...,\n",
        "        u'http://www.ptt.cc/bbs/Accounting/M.1388857344.A.617.html',\n",
        "        u'http://www.ptt.cc/bbs/Accounting/M.1388937222.A.D5F.html',\n",
        "        u'http://www.ptt.cc/bbs/Accounting/M.1389000970.A.662.html'], dtype=object),\n",
        " 'smatrix': <18786x38542 sparse matrix of type '<type 'numpy.int64'>'\n",
        " \twith 1506657 stored elements in Compressed Sparse Column format>}"
       ]
      }
     ],
     "prompt_number": 16
    },
    {
     "cell_type": "code",
     "collapsed": false,
     "input": [
      "weights = 1.0 / filtered_sdtm.summarize_sdf(L0_col_sum)._data\n",
      "weights"
     ],
     "language": "python",
     "metadata": {},
     "outputs": [
      {
       "metadata": {},
       "output_type": "pyout",
       "prompt_number": 17,
       "text": [
        "array([ 0.00179533,  0.2       ,  0.0013947 , ...,  0.2       ,\n",
        "        0.00757576,  0.25      ])"
       ]
      }
     ],
     "prompt_number": 17
    },
    {
     "cell_type": "code",
     "collapsed": false,
     "input": [
      "print \"// \".join((filtered_sdtm.select_rows([1000]).summarize_sdf() > 0)._filtered_idx)"
     ],
     "language": "python",
     "metadata": {},
     "outputs": [
      {
       "output_type": "stream",
       "stream": "stdout",
       "text": [
        "219.68// 40.225// PO// \u4e00\u767e\u842c// \u4e0d\u80fd// \u4e26// \u4e43\u662f// \u4e4b\u524d// \u4ed8\u73fe// \u4ee5\u4e0a// \u4f3c\u4e4e// \u4f86// \u4f9d// \u501f// \u5169\u56de\u4e8b// \u5176// \u539f// \u56de\u61c9// \u5df2\u7d93// \u61c9\u4ed8// \u6216\u8005// \u6240\u8b02// \u62d9\u898b// \u6307\u6709// \u6307\u6b63// \u652f\u4ed8// \u652f\u51fa// \u672c\u984c// \u6e05\u511f// \u6e05\u695a// \u723e\u5f8c// \u7576\u5929// \u7968\u64da// \u7d2f\u8a08// \u800c\u8a00// \u82e5\u6709// \u82e5\u70ba// \u842c// \u8981\u5206// \u8996\u70ba// \u8a0e\u8ad6// \u8ca0\u50b5// \u8cb7// \u8cfc\u50f9// \u8cfc\u8cb7// \u9084\u6e05// \u90e8\u4efd// \u932f\u8aa4// \u958b\u7968\n"
       ]
      }
     ],
     "prompt_number": 18
    },
    {
     "cell_type": "code",
     "collapsed": false,
     "input": [
      "words_idx = (filtered_sdtm.select_rows([1000]).summarize_sdf() > 0)._data\n",
      "print \"words_idx = \",words_idx\n",
      "print \"weights[words_idx] = \",weights[words_idx]"
     ],
     "language": "python",
     "metadata": {},
     "outputs": [
      {
       "output_type": "stream",
       "stream": "stdout",
       "text": [
        "words_idx =  [False False False ..., False False False]\n",
        "weights[words_idx] =  [ 0.015625    0.33333333  0.00150376  0.04545455  0.0008285   0.00064599\n",
        "  0.08333333  0.00071891  0.00574713  0.00054615  0.00149701  0.00058548\n",
        "  0.00108108  0.00100503  0.04        0.00068353  0.00092507  0.00735294\n",
        "  0.00055371  0.00089928  0.002331    0.00344828  0.08333333  0.11111111\n",
        "  0.00258398  0.00093197  0.00139665  0.00337838  0.01162791  0.0010627\n",
        "  0.16666667  0.00529101  0.00239234  0.00194553  0.00298507  0.0034965\n",
        "  0.01886792  0.00181818  0.0625      0.00403226  0.00149254  0.00087184\n",
        "  0.0006605   0.01111111  0.00090744  0.25        0.00145349  0.00123916\n",
        "  0.09090909]\n"
       ]
      }
     ],
     "prompt_number": 19
    },
    {
     "cell_type": "code",
     "collapsed": false,
     "input": [
      "import numpy as np"
     ],
     "language": "python",
     "metadata": {},
     "outputs": [],
     "prompt_number": 20
    },
    {
     "cell_type": "code",
     "collapsed": false,
     "input": [
      "np.max((weights[words_idx]*filtered_sdtm.select_columns(words_idx)._smatrix.T))"
     ],
     "language": "python",
     "metadata": {},
     "outputs": [
      {
       "metadata": {},
       "output_type": "pyout",
       "prompt_number": 21,
       "text": [
        "1.5035927751797717"
       ]
      }
     ],
     "prompt_number": 21
    },
    {
     "cell_type": "code",
     "collapsed": false,
     "input": [
      "print type(weights[words_idx]*filtered_sdtm.select_columns(words_idx)._smatrix.T)\n",
      "print (weights[words_idx]*filtered_sdtm.select_columns(words_idx)._smatrix.T).dtype\n",
      "print np.nonzero((weights[words_idx]*filtered_sdtm.select_columns(words_idx)._smatrix.T) > 0)"
     ],
     "language": "python",
     "metadata": {},
     "outputs": [
      {
       "output_type": "stream",
       "stream": "stdout",
       "text": [
        "<type 'numpy.ndarray'>\n",
        "float64\n",
        "(array([    2,     5,     7, ..., 18778, 18782, 18784]),)\n"
       ]
      }
     ],
     "prompt_number": 22
    },
    {
     "cell_type": "code",
     "collapsed": false,
     "input": [
      "top_idx = (weights[words_idx]*filtered_sdtm.select_columns(words_idx)._smatrix.T).argsort()[-30:]\n",
      "top_idx"
     ],
     "language": "python",
     "metadata": {},
     "outputs": [
      {
       "metadata": {},
       "output_type": "pyout",
       "prompt_number": 23,
       "text": [
        "array([ 2328,  7122, 17458, 10363,  4140,  4054,  3690, 17184,  5906,\n",
        "        4890, 18306,  1222, 12749, 12634,  8393,  2302,  6233, 14129,\n",
        "       18557,  8649,  6075, 17182,   516,  9228,  5441,   965, 16782,\n",
        "         989,   997,  1000])"
       ]
      }
     ],
     "prompt_number": 23
    },
    {
     "cell_type": "code",
     "collapsed": false,
     "input": [
      "articles_df.ix[top_idx][\"title\"]"
     ],
     "language": "python",
     "metadata": {},
     "outputs": [
      {
       "metadata": {},
       "output_type": "pyout",
       "prompt_number": 24,
       "text": [
        "2328                     [\u554f\u984c] \u8acb\u554f\u9019\u672c\u66f8\u6709\u4e2d\u8b6f\u672c\u55ce\n",
        "7122                       Re: [\u8acb\u76ca]\u5169\u968e\u6bb5\u8cfd\u5c40\n",
        "17458              Re: [\u554f\u984c] \u570b\u4e2d\u6e2c\u91cf:\u6700\u5c0f\u523b\u5ea6\u7684\u554f\u984c\n",
        "10363                        [\u554f\u984c] \u7d93\u6fdf\u5f48\u6027\u4e00\u984c\n",
        "4140                  Re: [\u8acb\u76ca] \u53ef\u5426\u89e3\u91cb\u9019\u6bb5\u8a71..\n",
        "4054     Re: [\u8ab2\u696d] \u7279\u800397\u56db\u7b49\u8eab\u5fc3/\u6703\u8a08/\u6703\u8a08\u5b78\u6982\u8981(\u6bdb\u5229\u6cd5)\n",
        "3690                          [\u8a0e\u8ad6] \u986f\u793a\u6027\u504f\u597d\n",
        "17184                      \u8a66\u5206\u6790\u9ad8\u7b49\u6559\u80b2--\u521d\u6b65\u6846\u67b6\n",
        "5906                    [\u554f\u984c] \u78c1\u9435\u5f37\u5ea6\u7684\u55ae\u4f4d\u8a72\u8868\u793a?\n",
        "4890                         Re: \u6709\u8da3\u7684\u96c5\u864e\u5f71\u7247\n",
        "18306                   Re: [\u4e2d\u5b78]\u4e0d\u77e5\u9053\u8a72\u600e\u9ebc\u6b78\u985e\n",
        "1222                   [\u554f\u984c] \u5c0f\u898f\u6a21\u71df\u696d\u4eba\u958b\u6536\u64da\u7684\u554f\u984c\n",
        "12749                   Re: [\u8acb\u76ca] \u5f37\u529b\u8ca8\u5e63\u7684\u5b9a\u7fa9\n",
        "12634                      [\u554f\u984c] \u91d1\u878d\u8cc7\u7522\u76f8\u95dc\u554f\u984c\n",
        "8393             Re: [\u4e2d\u5b78] \u7b97\u5e7e\u4e0d\u7b49\u5f0f\u7684\u53f3\u908a\u53ef\u5426\u70ba\u672a\u77e5\u6578\n",
        "2302                      [\u554f\u984c] \u9ad8\u4e2d\u7269\u7406-\u58d3\u529b\u554f\u984c\n",
        "6233          [\u554f\u984c] \u6709\u95dc\u5b58\u8ca8\u4e00\u984c\u7684\u89e3\u984c\u65b9\u6cd5\uff0c86\u5e74\u666e\u8003\uff0c\u8b1d\u8b1d\u3002\n",
        "14129              [\u554f\u984c] \u9ad8\u8003\u653f\u5e9c\u6703\u8a08\u9078\u54ea\u500b\u8001\u5e2b\u6bd4\u8f03\u597d\u5462\uff1f\n",
        "18557                          [\u984c\u76ee] \u9ad8\u4e2d\u7269\u7406\n",
        "8649            [\u8acb\u76ca] 2006\u5e74\u8afe\u8c9d\u723e\u7d93\u6fdf\u5b78\u734e\u5f97\u4e3b\u8ced\u76e4\u5594!!\n",
        "6075                        [\u554f\u984c] \u75c5\u6bd2\u68cb\u600e\u9ebc\u73a9?\n",
        "17182                            [\u4e2d\u5b78] \u8b49\u660e\n",
        "516                         Re: \u4eca\u5e74\u5927\u8003\u7269\u7406..\n",
        "9228                [\u554f\u984c] \u80a1\u7968\u516c\u5e73\u50f9\u503c\u4e00\u984c~~\u62dc\u8a17\u5927\u5bb6\u2026\n",
        "5441                             [\u554f\u984c] sm\n",
        "965              Re: \u8acb\u554f\u4e00\u4e0b...\u78c1\u9435\u554f\u4ec0\u9ebc\u6703\u6709\u78c1\u529b\u5462..\n",
        "16782      Re: [\u554f\u984c] \"\u5317\u6975\u51b0\u6eb6\u5316\" \u662f\u5426\u9020\u6210\u6d77\u5e73\u9762\u4e0a\u5347\u7684\u554f\u984c\n",
        "989                          [\u5206\u6790] \u9ad8\u5fae(10)\n",
        "997                     Re: [\u554f\u984c] \u95dc\u65bc\u9019\u65b9\u9762\u7684\u66f8\n",
        "1000                    Re: [\u9592\u804a] \u7dda\u4e0a\u97f3\u6a02\u5546\u5e97?\n",
        "Name: title, dtype: object"
       ]
      }
     ],
     "prompt_number": 24
    },
    {
     "cell_type": "code",
     "collapsed": false,
     "input": [],
     "language": "python",
     "metadata": {},
     "outputs": []
    },
    {
     "cell_type": "code",
     "collapsed": false,
     "input": [
      "neighbod_sdtm = filtered_sdtm.select_rows((filtered_sdtm.select_columns((filtered_sdtm.select_rows([1000]).summarize_sdf() > 0)._data).T.summarize_sdf() > 0)._data)\n",
      "neighbod_sdtm"
     ],
     "language": "python",
     "metadata": {},
     "outputs": [
      {
       "metadata": {},
       "output_type": "pyout",
       "prompt_number": 39,
       "text": [
        "{'col_idx': array([u'!', u'\"', u'#', ..., u'\\uff3b', u'\\uff3d', u'\\uff5e'], \n",
        "       dtype='<U22'),\n",
        " 'row_idx': array([u'http://www.ptt.cc/bbs/Accounting/M.1089677092.A.FB3.html',\n",
        "        u'http://www.ptt.cc/bbs/Accounting/M.1088780225.A.725.html',\n",
        "        u'http://www.ptt.cc/bbs/Accounting/M.1089637913.A.2B1.html', ...,\n",
        "        u'http://www.ptt.cc/bbs/Accounting/M.1390534962.A.2C0.html',\n",
        "        u'http://www.ptt.cc/bbs/Accounting/M.1388988598.A.D3A.html',\n",
        "        u'http://www.ptt.cc/bbs/Accounting/M.1388982604.A.4BF.html'], dtype=object),\n",
        " 'smatrix': <2282x3028 sparse matrix of type '<type 'numpy.int64'>'\n",
        " \twith 18617 stored elements in Compressed Sparse Column format>}"
       ]
      }
     ],
     "prompt_number": 39
    },
    {
     "cell_type": "code",
     "collapsed": false,
     "input": [],
     "language": "python",
     "metadata": {},
     "outputs": [],
     "prompt_number": 39
    },
    {
     "cell_type": "code",
     "collapsed": false,
     "input": [],
     "language": "python",
     "metadata": {},
     "outputs": []
    }
   ],
   "metadata": {}
  }
 ]
}