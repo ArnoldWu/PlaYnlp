{
 "metadata": {
  "name": ""
 },
 "nbformat": 3,
 "nbformat_minor": 0,
 "worksheets": [
  {
   "cells": [
    {
     "cell_type": "code",
     "collapsed": false,
     "input": [
      "%matplotlib inline"
     ],
     "language": "python",
     "metadata": {},
     "outputs": [],
     "prompt_number": 1
    },
    {
     "cell_type": "code",
     "collapsed": false,
     "input": [
      "import matplotlib.pylab as pylab\n",
      "pylab.rcParams['figure.figsize'] = 16, 12\n",
      "\n",
      "from matplotlib.font_manager import FontProperties\n",
      "cfont = FontProperties(fname=\"/usr/share/fonts/truetype/wqy/wqy-zenhei.ttc\", size = 14)"
     ],
     "language": "python",
     "metadata": {},
     "outputs": [],
     "prompt_number": 2
    },
    {
     "cell_type": "code",
     "collapsed": false,
     "input": [
      "import PlaYnlp.tokenizer as tkr \n",
      "import PlaYnlp.vectorizer as vcr "
     ],
     "language": "python",
     "metadata": {},
     "outputs": [],
     "prompt_number": 3
    },
    {
     "cell_type": "code",
     "collapsed": false,
     "input": [
      "jieba_without_html_tokenizer = tkr.tokenize_gen(lambda text:tkr.jieba.cut(tkr.nltk.clean_html(text)))\n",
      "unigram_without_html_tokenizer = tkr.tokenize_gen(lambda text:tkr.ngram(tkr.nltk.clean_html(text),n=1))\n",
      "bigram_without_html_tokenizer = tkr.tokenize_gen(lambda text:tkr.ngram(tkr.nltk.clean_html(text),n=2))\n",
      "jieba_vec_count_kwargs = {\"tokenizer\":jieba_without_html_tokenizer,\"lowercase\":False}\n",
      "unigram_vec_count_kwargs = {\"tokenizer\":unigram_without_html_tokenizer,\"lowercase\":False}\n",
      "bigram_vec_count_kwargs = {\"tokenizer\":bigram_without_html_tokenizer,\"lowercase\":False}"
     ],
     "language": "python",
     "metadata": {},
     "outputs": [],
     "prompt_number": 4
    },
    {
     "cell_type": "code",
     "collapsed": false,
     "input": [
      "import pickle\n",
      "\n",
      "with open(\"PTT___Physics_Accounting_Economics_Math_Statistics.pickle\",\"rb\") as read_file:\n",
      "    articles_df,articles_push_df = pickle.load(read_file)"
     ],
     "language": "python",
     "metadata": {},
     "outputs": [],
     "prompt_number": 5
    },
    {
     "cell_type": "code",
     "collapsed": false,
     "input": [
      "articles_df.head()"
     ],
     "language": "python",
     "metadata": {},
     "outputs": [
      {
       "html": [
        "<div style=\"max-height:1000px;max-width:1500px;overflow:auto;\">\n",
        "<table border=\"1\" class=\"dataframe\">\n",
        "  <thead>\n",
        "    <tr style=\"text-align: right;\">\n",
        "      <th></th>\n",
        "      <th>Board</th>\n",
        "      <th>_id</th>\n",
        "      <th>text</th>\n",
        "      <th>time</th>\n",
        "      <th>title</th>\n",
        "      <th>url</th>\n",
        "      <th>user</th>\n",
        "      <th>user_id</th>\n",
        "      <th>user_nickname</th>\n",
        "    </tr>\n",
        "  </thead>\n",
        "  <tbody>\n",
        "    <tr>\n",
        "      <th>0</th>\n",
        "      <td> Accounting</td>\n",
        "      <td> 52f223db74798d7e7bbe9965</td>\n",
        "      <td>   \\n102\u5e74\u8d85\u7d1a\u51fd\u6388CD\u7248\\n\\n\u9ad8\u6703(\u856d\u9756) \u6b32\u552e$2500 NT\\n\\n\u516c\u53f8\u6cd5(\u8463\u8b19...</td>\n",
        "      <td> Wed Feb  5 13:48:58 2014</td>\n",
        "      <td>             [\u51fa\u552e] 102\u5e74\u8d85\u7d1a\u51fd\u6388 \u9ad8\u6703\u3001\u516c\u53f8\u6cd5</td>\n",
        "      <td> http://www.ptt.cc/bbs/Accounting/M.1391579341....</td>\n",
        "      <td>           sunnykiller (\u5929\u7c5f\u4e4b\u8072)</td>\n",
        "      <td>  sunnykiller</td>\n",
        "      <td> \u5929\u7c5f\u4e4b\u8072</td>\n",
        "    </tr>\n",
        "    <tr>\n",
        "      <th>1</th>\n",
        "      <td> Accounting</td>\n",
        "      <td> 52f223db74798d7e78be9965</td>\n",
        "      <td>   \\n\u5982\u6a19\u984c\\n\u5269\u4e0b\u4e00\u6b21\u6388\u6b0a\u5373\u53ef\\n\u8b1b\u7fa9\u6211\u6709\\n\u4f46\u662f\u7f3a\u7b46\u8a18\\n\u5982\u679c\u9858\u610f\u8ce3\u7b46\u8a18\u4e5fOK\\n\\n...</td>\n",
        "      <td> Wed Feb  5 14:44:15 2014</td>\n",
        "      <td>               [\u5fb5\u6c42]\u5f90\u9326\u83ef\u9ad8\u6703DVD or \u8b1b\u7fa9</td>\n",
        "      <td> http://www.ptt.cc/bbs/Accounting/M.1391582662....</td>\n",
        "      <td> JilSander (Doer brokenheart)</td>\n",
        "      <td>    JilSander</td>\n",
        "      <td>  Doe</td>\n",
        "    </tr>\n",
        "    <tr>\n",
        "      <th>2</th>\n",
        "      <td> Accounting</td>\n",
        "      <td> 52f223db74798d7e76be9965</td>\n",
        "      <td>   \\n\u203b \u5f15\u8ff0\u300aflora713 (pretty world)\u300b\u4e4b\u9298\u8a00\uff1a: 1. \u51fa\u552e\uff1a\u5fd7...</td>\n",
        "      <td> Wed Feb  5 16:47:30 2014</td>\n",
        "      <td> Re: [\u51fa\u552e/\u8d08\u9001] \u5fd7\u5149\u5c0a\u69ae\u512a\u60e0\u5238/ \u8d85\u7d1a\u51fd\u6388VIP\u63a8\u85a6\u79ae\u5238</td>\n",
        "      <td> http://www.ptt.cc/bbs/Accounting/M.1391590052....</td>\n",
        "      <td>            lphotoimpact (\u6953\u96ea)</td>\n",
        "      <td> lphotoimpact</td>\n",
        "      <td>   \u6953\u96ea</td>\n",
        "    </tr>\n",
        "    <tr>\n",
        "      <th>3</th>\n",
        "      <td> Accounting</td>\n",
        "      <td> 52f223dd74798d7e7abe9965</td>\n",
        "      <td>   \\n\\n     \u521d\u6703\\n     http://goods.ruten.com.tw/...</td>\n",
        "      <td> Wed Feb  5 14:57:59 2014</td>\n",
        "      <td>      [\u552e] \u521d\u7d1a\u6703\u8a08\u5b78.\u4e2d\u7d1a\u6703\u8a08\u5b78.\u6210\u672c\u6703\u8a08 DVD+\u8b1b\u7fa9</td>\n",
        "      <td> http://www.ptt.cc/bbs/Accounting/M.1391583483....</td>\n",
        "      <td>                  ap22 (\u65cb\u8f49\u74f6\u5b50)</td>\n",
        "      <td>         ap22</td>\n",
        "      <td> \u65cb\u8f49\u74f6\u5b50</td>\n",
        "    </tr>\n",
        "    <tr>\n",
        "      <th>4</th>\n",
        "      <td>       Math</td>\n",
        "      <td> 52f223de74798d7e78be9966</td>\n",
        "      <td>   \\n\u984c\u76ee:\u627e\u5230\u4e00\u500b\u5207\u7dda\u5e73\u9762\u5728:f(x,y)=x^2y\u7684\u5e73\u9762\u4e0a\uff0c\u4ea4\u9ede\u70ba(2,-1,-4)\\...</td>\n",
        "      <td> Tue Feb  4 15:48:18 2014</td>\n",
        "      <td>                 [\u5fae\u7a4d] \u5229\u7528\u65b9\u5411\u5c0e\u6578\u6c42\u5207\u7dda\u4e00\u554f</td>\n",
        "      <td> http://www.ptt.cc/bbs/Math/M.1391500100.A.7D1....</td>\n",
        "      <td>                  gbd37 (\u6709\u5920\u778e)</td>\n",
        "      <td>        gbd37</td>\n",
        "      <td>  \u6709\u5920\u778e</td>\n",
        "    </tr>\n",
        "  </tbody>\n",
        "</table>\n",
        "<p>5 rows \u00d7 9 columns</p>\n",
        "</div>"
       ],
       "metadata": {},
       "output_type": "pyout",
       "prompt_number": 6,
       "text": [
        "        Board                       _id  \\\n",
        "0  Accounting  52f223db74798d7e7bbe9965   \n",
        "1  Accounting  52f223db74798d7e78be9965   \n",
        "2  Accounting  52f223db74798d7e76be9965   \n",
        "3  Accounting  52f223dd74798d7e7abe9965   \n",
        "4        Math  52f223de74798d7e78be9966   \n",
        "\n",
        "                                                text  \\\n",
        "0    \\n102\u5e74\u8d85\u7d1a\u51fd\u6388CD\u7248\\n\\n\u9ad8\u6703(\u856d\u9756) \u6b32\u552e$2500 NT\\n\\n\u516c\u53f8\u6cd5(\u8463\u8b19...   \n",
        "1    \\n\u5982\u6a19\u984c\\n\u5269\u4e0b\u4e00\u6b21\u6388\u6b0a\u5373\u53ef\\n\u8b1b\u7fa9\u6211\u6709\\n\u4f46\u662f\u7f3a\u7b46\u8a18\\n\u5982\u679c\u9858\u610f\u8ce3\u7b46\u8a18\u4e5fOK\\n\\n...   \n",
        "2    \\n\u203b \u5f15\u8ff0\u300aflora713 (pretty world)\u300b\u4e4b\u9298\u8a00\uff1a: 1. \u51fa\u552e\uff1a\u5fd7...   \n",
        "3    \\n\\n     \u521d\u6703\\n     http://goods.ruten.com.tw/...   \n",
        "4    \\n\u984c\u76ee:\u627e\u5230\u4e00\u500b\u5207\u7dda\u5e73\u9762\u5728:f(x,y)=x^2y\u7684\u5e73\u9762\u4e0a\uff0c\u4ea4\u9ede\u70ba(2,-1,-4)\\...   \n",
        "\n",
        "                       time                             title  \\\n",
        "0  Wed Feb  5 13:48:58 2014              [\u51fa\u552e] 102\u5e74\u8d85\u7d1a\u51fd\u6388 \u9ad8\u6703\u3001\u516c\u53f8\u6cd5   \n",
        "1  Wed Feb  5 14:44:15 2014                [\u5fb5\u6c42]\u5f90\u9326\u83ef\u9ad8\u6703DVD or \u8b1b\u7fa9   \n",
        "2  Wed Feb  5 16:47:30 2014  Re: [\u51fa\u552e/\u8d08\u9001] \u5fd7\u5149\u5c0a\u69ae\u512a\u60e0\u5238/ \u8d85\u7d1a\u51fd\u6388VIP\u63a8\u85a6\u79ae\u5238   \n",
        "3  Wed Feb  5 14:57:59 2014       [\u552e] \u521d\u7d1a\u6703\u8a08\u5b78.\u4e2d\u7d1a\u6703\u8a08\u5b78.\u6210\u672c\u6703\u8a08 DVD+\u8b1b\u7fa9   \n",
        "4  Tue Feb  4 15:48:18 2014                  [\u5fae\u7a4d] \u5229\u7528\u65b9\u5411\u5c0e\u6578\u6c42\u5207\u7dda\u4e00\u554f   \n",
        "\n",
        "                                                 url  \\\n",
        "0  http://www.ptt.cc/bbs/Accounting/M.1391579341....   \n",
        "1  http://www.ptt.cc/bbs/Accounting/M.1391582662....   \n",
        "2  http://www.ptt.cc/bbs/Accounting/M.1391590052....   \n",
        "3  http://www.ptt.cc/bbs/Accounting/M.1391583483....   \n",
        "4  http://www.ptt.cc/bbs/Math/M.1391500100.A.7D1....   \n",
        "\n",
        "                           user       user_id user_nickname  \n",
        "0            sunnykiller (\u5929\u7c5f\u4e4b\u8072)   sunnykiller          \u5929\u7c5f\u4e4b\u8072  \n",
        "1  JilSander (Doer brokenheart)     JilSander           Doe  \n",
        "2             lphotoimpact (\u6953\u96ea)  lphotoimpact            \u6953\u96ea  \n",
        "3                   ap22 (\u65cb\u8f49\u74f6\u5b50)          ap22          \u65cb\u8f49\u74f6\u5b50  \n",
        "4                   gbd37 (\u6709\u5920\u778e)         gbd37           \u6709\u5920\u778e  \n",
        "\n",
        "[5 rows x 9 columns]"
       ]
      }
     ],
     "prompt_number": 6
    },
    {
     "cell_type": "code",
     "collapsed": false,
     "input": [
      "articles_df.groupby(\"Board\").groups.keys()"
     ],
     "language": "python",
     "metadata": {},
     "outputs": [
      {
       "metadata": {},
       "output_type": "pyout",
       "prompt_number": 7,
       "text": [
        "[u'Statistics', u'Accounting', u'Economics', u'Physics', u'Math']"
       ]
      }
     ],
     "prompt_number": 7
    },
    {
     "cell_type": "code",
     "collapsed": false,
     "input": [
      "test_ptt_text_sdtm = vcr.vectorize_text(df=articles_df,\n",
      "                                         text_col=\"title\", \n",
      "                                         idx_col=\"url\", \n",
      "                                         cond_query={\"Board\":\"Accounting\"},\n",
      "                                         idx_query= [],\n",
      "                                         vect_gen=vcr.CountVectorizer, \n",
      "                                         vect_gen_init_kwargs = jieba_vec_count_kwargs)"
     ],
     "language": "python",
     "metadata": {},
     "outputs": [
      {
       "output_type": "stream",
       "stream": "stderr",
       "text": [
        "Building Trie..., from /usr/local/lib/python2.7/dist-packages/jieba/dict.txt\n",
        "loading model from cache /tmp/jieba.cache\n",
        "loading model cost "
       ]
      },
      {
       "output_type": "stream",
       "stream": "stderr",
       "text": [
        " 1.45005297661 seconds.\n",
        "Trie has been built succesfully.\n"
       ]
      }
     ],
     "prompt_number": 8
    },
    {
     "cell_type": "code",
     "collapsed": false,
     "input": [
      "test_ptt_text_sdtm"
     ],
     "language": "python",
     "metadata": {},
     "outputs": [
      {
       "metadata": {},
       "output_type": "pyout",
       "prompt_number": 9,
       "text": [
        "{'col_idx': array([u' ', u'!', u'\"', ..., u'\\uff3d', u'\\uff3f', u'\\uff5e'], \n",
        "       dtype='<U22'),\n",
        " 'row_idx': array([u'http://www.ptt.cc/bbs/Accounting/M.1391579341.A.20A.html',\n",
        "        u'http://www.ptt.cc/bbs/Accounting/M.1391582662.A.8A1.html',\n",
        "        u'http://www.ptt.cc/bbs/Accounting/M.1391590052.A.364.html', ...,\n",
        "        u'http://www.ptt.cc/bbs/Accounting/M.1388857344.A.617.html',\n",
        "        u'http://www.ptt.cc/bbs/Accounting/M.1388937222.A.D5F.html',\n",
        "        u'http://www.ptt.cc/bbs/Accounting/M.1389000970.A.662.html'], dtype=object),\n",
        " 'smatrix': <18786x7672 sparse matrix of type '<type 'numpy.int64'>'\n",
        " \twith 185886 stored elements in Compressed Sparse Column format>}"
       ]
      }
     ],
     "prompt_number": 9
    },
    {
     "cell_type": "code",
     "collapsed": false,
     "input": [
      "L0_col_sum = lambda xx:xx.sign().sum(axis=0)"
     ],
     "language": "python",
     "metadata": {},
     "outputs": [],
     "prompt_number": 10
    },
    {
     "cell_type": "code",
     "collapsed": false,
     "input": [
      "test_ptt_text_sdtm.T.summarize_sdf(L0_col_sum)._summary_data.mean()"
     ],
     "language": "python",
     "metadata": {},
     "outputs": [
      {
       "metadata": {},
       "output_type": "pyout",
       "prompt_number": 13,
       "text": [
        "9.8949217502395399"
       ]
      }
     ],
     "prompt_number": 13
    },
    {
     "cell_type": "code",
     "collapsed": false,
     "input": [],
     "language": "python",
     "metadata": {},
     "outputs": [],
     "prompt_number": 13
    },
    {
     "cell_type": "code",
     "collapsed": false,
     "input": [],
     "language": "python",
     "metadata": {},
     "outputs": [],
     "prompt_number": 13
    },
    {
     "cell_type": "code",
     "collapsed": false,
     "input": [
      "((test_ptt_text_sdtm.summarize_sdf(L0_col_sum) > 2) & (test_ptt_text_sdtm.summarize_sdf(L0_col_sum) < 100))._filtered_idx.shape"
     ],
     "language": "python",
     "metadata": {},
     "outputs": [
      {
       "metadata": {},
       "output_type": "pyout",
       "prompt_number": 14,
       "text": [
        "(2829,)"
       ]
      }
     ],
     "prompt_number": 14
    },
    {
     "cell_type": "code",
     "collapsed": false,
     "input": [
      "#print \"// \".join(((test_ptt_text_sdtm.summarize_sdf(L0_col_sum) > 2) & (test_ptt_text_sdtm.summarize_sdf(L0_col_sum) < 100))._filtered_idx)"
     ],
     "language": "python",
     "metadata": {},
     "outputs": [],
     "prompt_number": 15
    },
    {
     "cell_type": "code",
     "collapsed": false,
     "input": [
      "filtered_sdtm = ((test_ptt_text_sdtm.summarize_sdf(L0_col_sum) > 1) & (test_ptt_text_sdtm.summarize_sdf(L0_col_sum) < 2000))._sub_sdf\n",
      "print filtered_sdtm.T.summarize_sdf(L0_col_sum)._summary_data.mean()\n",
      "filtered_sdtm"
     ],
     "language": "python",
     "metadata": {},
     "outputs": [
      {
       "output_type": "stream",
       "stream": "stdout",
       "text": [
        "5.66948791653\n"
       ]
      },
      {
       "metadata": {},
       "output_type": "pyout",
       "prompt_number": 16,
       "text": [
        "{'col_idx': array([u'!', u'\"', u'#', ..., u'\\uff3b', u'\\uff3d', u'\\uff5e'], \n",
        "       dtype='<U22'),\n",
        " 'row_idx': array([u'http://www.ptt.cc/bbs/Accounting/M.1391579341.A.20A.html',\n",
        "        u'http://www.ptt.cc/bbs/Accounting/M.1391582662.A.8A1.html',\n",
        "        u'http://www.ptt.cc/bbs/Accounting/M.1391590052.A.364.html', ...,\n",
        "        u'http://www.ptt.cc/bbs/Accounting/M.1388857344.A.617.html',\n",
        "        u'http://www.ptt.cc/bbs/Accounting/M.1388937222.A.D5F.html',\n",
        "        u'http://www.ptt.cc/bbs/Accounting/M.1389000970.A.662.html'], dtype=object),\n",
        " 'smatrix': <18786x4200 sparse matrix of type '<type 'numpy.int64'>'\n",
        " \twith 106507 stored elements in Compressed Sparse Column format>}"
       ]
      }
     ],
     "prompt_number": 16
    },
    {
     "cell_type": "code",
     "collapsed": false,
     "input": [
      "filtered_sdtm.select_columns((filtered_sdtm.select_rows([200]).summarize_sdf() > 0)[\"summary_data\"])"
     ],
     "language": "python",
     "metadata": {},
     "outputs": [
      {
       "metadata": {},
       "output_type": "pyout",
       "prompt_number": 17,
       "text": [
        "{'col_idx': array([u'\\u516c\\u544a', u'\\u65b0\\u7248', u'\\u66a8', u'\\u672c\\u7248',\n",
        "        u'\\u7981\\u6b62', u'\\u7d50\\u679c', u'\\u898f'], \n",
        "       dtype='<U22'),\n",
        " 'row_idx': array([u'http://www.ptt.cc/bbs/Accounting/M.1391579341.A.20A.html',\n",
        "        u'http://www.ptt.cc/bbs/Accounting/M.1391582662.A.8A1.html',\n",
        "        u'http://www.ptt.cc/bbs/Accounting/M.1391590052.A.364.html', ...,\n",
        "        u'http://www.ptt.cc/bbs/Accounting/M.1388857344.A.617.html',\n",
        "        u'http://www.ptt.cc/bbs/Accounting/M.1388937222.A.D5F.html',\n",
        "        u'http://www.ptt.cc/bbs/Accounting/M.1389000970.A.662.html'], dtype=object),\n",
        " 'smatrix': <18786x7 sparse matrix of type '<type 'numpy.int64'>'\n",
        " \twith 115 stored elements in Compressed Sparse Column format>}"
       ]
      }
     ],
     "prompt_number": 17
    },
    {
     "cell_type": "code",
     "collapsed": false,
     "input": [
      "print \"// \".join((filtered_sdtm.select_rows([1000]).summarize_sdf() > 0)._filtered_idx)"
     ],
     "language": "python",
     "metadata": {},
     "outputs": [
      {
       "output_type": "stream",
       "stream": "stdout",
       "text": [
        "(// )// 3// \u516c\u5831// \u5229\u606f// \u6703\u8a08\u6e96\u5247// \u865f// \u8acb\u76ca// \u8ca1\u52d9// \u8cc7\u672c\u5316\n"
       ]
      }
     ],
     "prompt_number": 58
    },
    {
     "cell_type": "code",
     "collapsed": false,
     "input": [],
     "language": "python",
     "metadata": {},
     "outputs": []
    }
   ],
   "metadata": {}
  }
 ]
}