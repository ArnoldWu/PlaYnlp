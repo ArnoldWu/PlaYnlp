{
 "metadata": {
  "name": ""
 },
 "nbformat": 3,
 "nbformat_minor": 0,
 "worksheets": [
  {
   "cells": [
    {
     "cell_type": "code",
     "collapsed": false,
     "input": [
      "import PlaYnlp.tokenizer as tkr \n",
      "import PlaYnlp.vectorizer as vcr\n",
      "from PlaYnlp import dataio\n",
      "\n",
      "from PlaYnlp.sparse import L0_norm_col_summarizer as L0_col_sum\n",
      "from PlaYnlp.sparse import L1_norm_col_summarizer as L1_col_sum\n",
      "import numpy as np\n",
      "import scipy as sp"
     ],
     "language": "python",
     "metadata": {},
     "outputs": [],
     "prompt_number": 4
    },
    {
     "cell_type": "code",
     "collapsed": false,
     "input": [
      "jieba_without_html_tokenizer = tkr.tokenize_gen(lambda text:tkr.jieba.cut(tkr.nltk.clean_html(text)))\n",
      "unigram_without_html_tokenizer = tkr.tokenize_gen(lambda text:tkr.ngram(tkr.nltk.clean_html(text),n=1))\n",
      "bigram_without_html_tokenizer = tkr.tokenize_gen(lambda text:tkr.ngram(tkr.nltk.clean_html(text),n=2))\n",
      "jieba_vec_count_kwargs = {\"tokenizer\":jieba_without_html_tokenizer,\"lowercase\":False}\n",
      "unigram_vec_count_kwargs = {\"tokenizer\":unigram_without_html_tokenizer,\"lowercase\":False}\n",
      "bigram_vec_count_kwargs = {\"tokenizer\":bigram_without_html_tokenizer,\"lowercase\":False}"
     ],
     "language": "python",
     "metadata": {},
     "outputs": [],
     "prompt_number": 5
    },
    {
     "cell_type": "code",
     "collapsed": false,
     "input": [
      "articles_df,articles_push_df = dataio.read_pickle_file(\"PTT___movie.pickle\")\n",
      "test_ptt_text_sdtm = dataio.read_pickle_file(\"sdtm_ptt_movie.pickle\")"
     ],
     "language": "python",
     "metadata": {},
     "outputs": [],
     "prompt_number": 6
    },
    {
     "cell_type": "code",
     "collapsed": false,
     "input": [
      "# test_ptt_text_sdtm = vcr.vectorize_text(df=articles_df,\n",
      "#                                          text_col=\"title\", \n",
      "#                                          vect_gen=vcr.CountVectorizer, \n",
      "#                                          vect_gen_init_kwargs = jieba_vec_count_kwargs,\n",
      "#                                          summarizer = L0_col_sum,\n",
      "#                                          dump_out_pickle = \"sdtm_ptt_movie.pickle\")"
     ],
     "language": "python",
     "metadata": {},
     "outputs": [],
     "prompt_number": 7
    },
    {
     "cell_type": "code",
     "collapsed": false,
     "input": [
      "test_ptt_text_sdtm"
     ],
     "language": "python",
     "metadata": {},
     "outputs": [
      {
       "metadata": {},
       "output_type": "pyout",
       "prompt_number": 13,
       "text": [
        "{'col_idx': array([u' ', u'!', u'\"', ..., u'\\uff3f', u'\\uff5c', u'\\uff5e'], \n",
        "       dtype='<U23'),\n",
        " 'row_idx': array([    0,     1,     2, ..., 26129, 26130, 26131]),\n",
        " 'smatrix': <26132x23366 sparse matrix of type '<type 'numpy.int64'>'\n",
        " \twith 288389 stored elements in Compressed Sparse Column format>,\n",
        " 'summarizer': <function PlaYnlp.sparse.L0_norm_col_summarizer>}"
       ]
      }
     ],
     "prompt_number": 13
    },
    {
     "cell_type": "code",
     "collapsed": false,
     "input": [
      "_unpickled_sdtm = test_ptt_text_sdtm"
     ],
     "language": "python",
     "metadata": {},
     "outputs": [],
     "prompt_number": 14
    },
    {
     "cell_type": "code",
     "collapsed": false,
     "input": [
      "one_news_idx = 4977\n",
      "one_news_sdtm = _unpickled_sdtm.select_rows([one_news_idx])\n",
      "print \"(one_news.summary > 0)._filtered_idx.shape = \",(one_news_sdtm.summary > 0)._filtered_idx.shape\n",
      "print \"// \".join(((one_news_sdtm.summary > 0))._filtered_idx)\n",
      "n_words = len((one_news_sdtm.summary > 0)._filtered_idx)\n",
      "print \"n_words = \",n_words\n",
      "filtered_words_sdtm = _unpickled_sdtm.select_columns(one_news_sdtm.summary > 0)\n",
      "\n",
      "words_weights = 1.0 / filtered_words_sdtm.summary._data\n",
      "print \"words_weights = \",words_weights\n",
      "words_weights*filtered_words_sdtm._smatrix.T\n",
      "\n",
      "n_top = 4\n",
      "select_post_ptrs = filtered_words_sdtm.summarize_sdf(lambda xx:words_weights*xx.T)._data.argsort()[-n_top:]\n",
      "print \"select_post_ptrs = \",select_post_ptrs\n",
      "\n",
      "\n",
      "print filtered_words_sdtm.summarize_sdf(lambda xx:words_weights*xx.T)._data[select_post_ptrs]\n",
      "\n",
      "# select_post_ptrs = filtered_words_sdtm.T.summary._data.argsort()[-n_top:]\n",
      "# print select_post_ptrs\n",
      "# filtered_words_sdtm = filtered_words_sdtm.select_rows(select_post_ptrs)\n",
      "# filtered_words_sdtm\n",
      "\n",
      "articles_df.ix[select_post_ptrs][\"title\"]"
     ],
     "language": "python",
     "metadata": {},
     "outputs": [
      {
       "output_type": "stream",
       "stream": "stdout",
       "text": [
        "(one_news.summary > 0)._filtered_idx.shape =  (13,)\n",
        " // (// )// BBS// [// ]// \u5168\u9762// \u555f\u52d5// \u5716\u89e3// \u5de8\u96f7// \u7248// \u8aaa\u660e// \u9644\n",
        "n_words =  13\n",
        "words_weights =  [  4.21371987e-05   4.69043152e-04   4.80538203e-04   3.70370370e-02\n",
        "   3.91711387e-05   3.91696044e-05   7.87401575e-03   1.44927536e-02\n",
        "   2.50000000e-01   2.00000000e-01   8.40336134e-03   7.69230769e-02\n",
        "   2.00000000e-01]\n",
        "select_post_ptrs =  [ 4111  4138 20941  4977]\n",
        "[ 0.27248725  0.27252938  0.40107006  0.79588458]\n"
       ]
      },
      {
       "metadata": {},
       "output_type": "pyout",
       "prompt_number": 15,
       "text": [
        "4111           [\u597d\u96f7] \u5716\u89e3\u5168\u9762\u555f\u52d5\u4e2d\u5922\u5883\u67b6\u69cb\n",
        "4138               [\u8a0e\u8ad6] \u5168\u9762\u555f\u52d5 \u5716\u89e3\n",
        "20941     [\u5de8\u96f7] \u96f7\u795e\u7d22\u723e\u89c0\u5f8c\u611f(\u5de8\u96f7\uff0c\u4e0d\u559c\u52ff\u5165)\n",
        "4977     [\u5de8\u96f7] \u5168\u9762\u555f\u52d5 \u5716\u89e3BBS\u7248 (\u9644\u8aaa\u660e)\n",
        "Name: title, dtype: object"
       ]
      }
     ],
     "prompt_number": 15
    },
    {
     "cell_type": "code",
     "collapsed": false,
     "input": [],
     "language": "python",
     "metadata": {},
     "outputs": [],
     "prompt_number": 9
    },
    {
     "cell_type": "code",
     "collapsed": false,
     "input": [
      "# one_news_sdtm = _unpickled_sdtm.select_rows(select_post_ptrs)\n",
      "# print \"(one_news.summary > 0)._filtered_idx.shape = \",(one_news_sdtm.summary > 0)._filtered_idx.shape\n",
      "# print \"// \".join(((one_news_sdtm.summary > 0))._filtered_idx)\n",
      "# n_words = len((one_news_sdtm.summary > 0)._filtered_idx)\n",
      "# print \"n_words = \",n_words\n",
      "# filtered_words_sdtm = _unpickled_sdtm.select_columns(one_news_sdtm.summary > 0)\n",
      "\n",
      "# words_weights = 1.0 / filtered_words_sdtm.summary._data\n",
      "# print \"words_weights = \",words_weights\n",
      "# words_weights*filtered_words_sdtm._smatrix.T\n",
      "\n",
      "# n_top = 20\n",
      "# select_post_ptrs = filtered_words_sdtm.summarize_sdf(lambda xx:words_weights*xx.T)._data.argsort()[-n_top:]\n",
      "# print \"select_post_ptrs = \",select_post_ptrs\n",
      "\n",
      "\n",
      "# print filtered_words_sdtm.summarize_sdf(lambda xx:words_weights*xx.T)._data[select_post_ptrs]\n",
      "\n",
      "# # select_post_ptrs = filtered_words_sdtm.T.summary._data.argsort()[-n_top:]\n",
      "# # print select_post_ptrs\n",
      "# # filtered_words_sdtm = filtered_words_sdtm.select_rows(select_post_ptrs)\n",
      "# # filtered_words_sdtm\n",
      "\n",
      "# articles_df.ix[select_post_ptrs][\"title\"]"
     ],
     "language": "python",
     "metadata": {},
     "outputs": [],
     "prompt_number": 10
    },
    {
     "cell_type": "code",
     "collapsed": false,
     "input": [],
     "language": "python",
     "metadata": {},
     "outputs": [],
     "prompt_number": 10
    },
    {
     "cell_type": "code",
     "collapsed": false,
     "input": [],
     "language": "python",
     "metadata": {},
     "outputs": [],
     "prompt_number": 10
    }
   ],
   "metadata": {}
  }
 ]
}