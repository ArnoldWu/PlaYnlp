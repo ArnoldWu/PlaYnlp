{
 "metadata": {
  "name": ""
 },
 "nbformat": 3,
 "nbformat_minor": 0,
 "worksheets": [
  {
   "cells": [
    {
     "cell_type": "code",
     "collapsed": false,
     "input": [
      "import PlaYnlp.tokenizer as tkr \n",
      "import PlaYnlp.vectorizer as vcr\n",
      "\n",
      "from PlaYnlp.sparse import L0_norm_col_summarizer as L0_col_sum\n",
      "from PlaYnlp.sparse import L1_norm_col_summarizer as L1_col_sum\n",
      "import numpy as np\n",
      "import scipy as sp"
     ],
     "language": "python",
     "metadata": {},
     "outputs": [],
     "prompt_number": 1
    },
    {
     "cell_type": "code",
     "collapsed": false,
     "input": [
      "jieba_without_html_tokenizer = tkr.tokenize_gen(lambda text:tkr.jieba.cut(tkr.nltk.clean_html(text)))\n",
      "unigram_without_html_tokenizer = tkr.tokenize_gen(lambda text:tkr.ngram(tkr.nltk.clean_html(text),n=1))\n",
      "bigram_without_html_tokenizer = tkr.tokenize_gen(lambda text:tkr.ngram(tkr.nltk.clean_html(text),n=2))\n",
      "jieba_vec_count_kwargs = {\"tokenizer\":jieba_without_html_tokenizer,\"lowercase\":False}\n",
      "unigram_vec_count_kwargs = {\"tokenizer\":unigram_without_html_tokenizer,\"lowercase\":False}\n",
      "bigram_vec_count_kwargs = {\"tokenizer\":bigram_without_html_tokenizer,\"lowercase\":False}"
     ],
     "language": "python",
     "metadata": {},
     "outputs": [],
     "prompt_number": 2
    },
    {
     "cell_type": "code",
     "collapsed": false,
     "input": [
      "import pickle\n",
      "\n",
      "with open(\"PTT___movie.pickle\",\"rb\") as read_file:\n",
      "    articles_df,articles_push_df = pickle.load(read_file)"
     ],
     "language": "python",
     "metadata": {},
     "outputs": [],
     "prompt_number": 3
    },
    {
     "cell_type": "code",
     "collapsed": false,
     "input": [
      "# test_ptt_text_sdtm = vcr.vectorize_text(df=articles_df,\n",
      "#                                          text_col=\"title\", \n",
      "#                                          vect_gen=vcr.CountVectorizer, \n",
      "#                                          vect_gen_init_kwargs = jieba_vec_count_kwargs,\n",
      "#                                          summarizer = L0_col_sum,\n",
      "#                                          dump_out_pickle = \"sdtm_ptt_movie.pickle\")"
     ],
     "language": "python",
     "metadata": {},
     "outputs": [],
     "prompt_number": 8
    },
    {
     "cell_type": "code",
     "collapsed": false,
     "input": [
      "\"sdtm_ptt_movie.pickle\""
     ],
     "language": "python",
     "metadata": {},
     "outputs": []
    },
    {
     "cell_type": "code",
     "collapsed": false,
     "input": [
      "test_ptt_text_sdtm"
     ],
     "language": "python",
     "metadata": {},
     "outputs": [
      {
       "metadata": {},
       "output_type": "pyout",
       "prompt_number": 9,
       "text": [
        "{'col_idx': array([u' ', u'!', u'\"', ..., u'\\uff3f', u'\\uff5c', u'\\uff5e'], \n",
        "       dtype='<U23'),\n",
        " 'row_idx': array([    0,     1,     2, ..., 26129, 26130, 26131]),\n",
        " 'smatrix': <26132x23366 sparse matrix of type '<type 'numpy.int64'>'\n",
        " \twith 288389 stored elements in Compressed Sparse Column format>,\n",
        " 'summarizer': <function PlaYnlp.sparse.L0_norm_col_summarizer>}"
       ]
      }
     ],
     "prompt_number": 9
    },
    {
     "cell_type": "code",
     "collapsed": false,
     "input": [],
     "language": "python",
     "metadata": {},
     "outputs": [],
     "prompt_number": 5
    },
    {
     "cell_type": "code",
     "collapsed": false,
     "input": [],
     "language": "python",
     "metadata": {},
     "outputs": [],
     "prompt_number": 5
    },
    {
     "cell_type": "code",
     "collapsed": false,
     "input": [],
     "language": "python",
     "metadata": {},
     "outputs": [],
     "prompt_number": 5
    },
    {
     "cell_type": "code",
     "collapsed": false,
     "input": [],
     "language": "python",
     "metadata": {},
     "outputs": [],
     "prompt_number": 5
    },
    {
     "cell_type": "code",
     "collapsed": false,
     "input": [],
     "language": "python",
     "metadata": {},
     "outputs": [],
     "prompt_number": 5
    },
    {
     "cell_type": "code",
     "collapsed": false,
     "input": [
      "# one_news_idx = 4977\n",
      "# one_news_sdtm = _unpickled_sdtm.select_rows([one_news_idx])\n",
      "# print \"(one_news.summary > 0)._filtered_idx.shape = \",(one_news_sdtm.summary > 0)._filtered_idx.shape\n",
      "# print \"// \".join(((one_news_sdtm.summary > 0))._filtered_idx)\n",
      "# n_words = len((one_news_sdtm.summary > 0)._filtered_idx)\n",
      "# print \"n_words = \",n_words\n",
      "# filtered_words_sdtm = _unpickled_sdtm.select_columns(one_news_sdtm.summary > 0)\n",
      "\n",
      "# words_weights = 1.0 / filtered_words_sdtm.summary._data\n",
      "# print \"words_weights = \",words_weights\n",
      "# words_weights*filtered_words_sdtm._smatrix.T\n",
      "\n",
      "# n_top = 4\n",
      "# select_post_ptrs = filtered_words_sdtm.summarize_sdf(lambda xx:words_weights*xx.T)._data.argsort()[-n_top:]\n",
      "# print \"select_post_ptrs = \",select_post_ptrs\n",
      "\n",
      "\n",
      "# print filtered_words_sdtm.summarize_sdf(lambda xx:words_weights*xx.T)._data[select_post_ptrs]\n",
      "\n",
      "# # select_post_ptrs = filtered_words_sdtm.T.summary._data.argsort()[-n_top:]\n",
      "# # print select_post_ptrs\n",
      "# # filtered_words_sdtm = filtered_words_sdtm.select_rows(select_post_ptrs)\n",
      "# # filtered_words_sdtm\n",
      "\n",
      "# articles_df.ix[select_post_ptrs][\"title\"]"
     ],
     "language": "python",
     "metadata": {},
     "outputs": [],
     "prompt_number": 6
    },
    {
     "cell_type": "code",
     "collapsed": false,
     "input": [],
     "language": "python",
     "metadata": {},
     "outputs": [],
     "prompt_number": 6
    },
    {
     "cell_type": "code",
     "collapsed": false,
     "input": [
      "# one_news_sdtm = _unpickled_sdtm.select_rows(select_post_ptrs)\n",
      "# print \"(one_news.summary > 0)._filtered_idx.shape = \",(one_news_sdtm.summary > 0)._filtered_idx.shape\n",
      "# print \"// \".join(((one_news_sdtm.summary > 0))._filtered_idx)\n",
      "# n_words = len((one_news_sdtm.summary > 0)._filtered_idx)\n",
      "# print \"n_words = \",n_words\n",
      "# filtered_words_sdtm = _unpickled_sdtm.select_columns(one_news_sdtm.summary > 0)\n",
      "\n",
      "# words_weights = 1.0 / filtered_words_sdtm.summary._data\n",
      "# print \"words_weights = \",words_weights\n",
      "# words_weights*filtered_words_sdtm._smatrix.T\n",
      "\n",
      "# n_top = 20\n",
      "# select_post_ptrs = filtered_words_sdtm.summarize_sdf(lambda xx:words_weights*xx.T)._data.argsort()[-n_top:]\n",
      "# print \"select_post_ptrs = \",select_post_ptrs\n",
      "\n",
      "\n",
      "# print filtered_words_sdtm.summarize_sdf(lambda xx:words_weights*xx.T)._data[select_post_ptrs]\n",
      "\n",
      "# # select_post_ptrs = filtered_words_sdtm.T.summary._data.argsort()[-n_top:]\n",
      "# # print select_post_ptrs\n",
      "# # filtered_words_sdtm = filtered_words_sdtm.select_rows(select_post_ptrs)\n",
      "# # filtered_words_sdtm\n",
      "\n",
      "# articles_df.ix[select_post_ptrs][\"title\"]"
     ],
     "language": "python",
     "metadata": {},
     "outputs": [],
     "prompt_number": 7
    },
    {
     "cell_type": "code",
     "collapsed": false,
     "input": [],
     "language": "python",
     "metadata": {},
     "outputs": [],
     "prompt_number": 7
    },
    {
     "cell_type": "code",
     "collapsed": false,
     "input": [],
     "language": "python",
     "metadata": {},
     "outputs": [],
     "prompt_number": 7
    }
   ],
   "metadata": {}
  }
 ]
}