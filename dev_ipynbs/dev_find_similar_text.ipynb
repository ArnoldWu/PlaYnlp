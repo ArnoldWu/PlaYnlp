{
 "metadata": {
  "name": ""
 },
 "nbformat": 3,
 "nbformat_minor": 0,
 "worksheets": [
  {
   "cells": [
    {
     "cell_type": "code",
     "collapsed": false,
     "input": [
      "import PlaYnlp.tokenizer as tkr \n",
      "import PlaYnlp.vectorizer as vcr\n",
      "from PlaYnlp import dataio\n",
      "\n",
      "from PlaYnlp.sparse import L0_norm_col_summarizer as L0_col_sum\n",
      "from PlaYnlp.sparse import L1_norm_col_summarizer as L1_col_sum\n",
      "import numpy as np\n",
      "import scipy as sp"
     ],
     "language": "python",
     "metadata": {},
     "outputs": [],
     "prompt_number": 1
    },
    {
     "cell_type": "code",
     "collapsed": false,
     "input": [
      "jieba_without_html_tokenizer = tkr.tokenize_gen(lambda text:tkr.jieba.cut(tkr.nltk.clean_html(text)))\n",
      "unigram_without_html_tokenizer = tkr.tokenize_gen(lambda text:tkr.ngram(tkr.nltk.clean_html(text),n=1))\n",
      "bigram_without_html_tokenizer = tkr.tokenize_gen(lambda text:tkr.ngram(tkr.nltk.clean_html(text),n=2))\n",
      "jieba_vec_count_kwargs = {\"tokenizer\":jieba_without_html_tokenizer,\"lowercase\":False}\n",
      "unigram_vec_count_kwargs = {\"tokenizer\":unigram_without_html_tokenizer,\"lowercase\":False}\n",
      "bigram_vec_count_kwargs = {\"tokenizer\":bigram_without_html_tokenizer,\"lowercase\":False}"
     ],
     "language": "python",
     "metadata": {},
     "outputs": [],
     "prompt_number": 2
    },
    {
     "cell_type": "code",
     "collapsed": false,
     "input": [
      "articles_df,articles_push_df = dataio.read_pickle_file(\"PTT___movie.pickle\")\n",
      "test_ptt_text_sdtm = dataio.read_pickle_file(\"sdtm_ptt_movie.pickle\")"
     ],
     "language": "python",
     "metadata": {},
     "outputs": [],
     "prompt_number": 3
    },
    {
     "cell_type": "code",
     "collapsed": false,
     "input": [
      "# test_ptt_text_sdtm = vcr.vectorize_text(df=articles_df,\n",
      "#                                          text_col=\"title\", \n",
      "#                                          vect_gen=vcr.CountVectorizer, \n",
      "#                                          vect_gen_init_kwargs = jieba_vec_count_kwargs,\n",
      "#                                          summarizer = L0_col_sum,\n",
      "#                                          dump_out_pickle = \"sdtm_ptt_movie.pickle\")"
     ],
     "language": "python",
     "metadata": {},
     "outputs": [],
     "prompt_number": 4
    },
    {
     "cell_type": "code",
     "collapsed": false,
     "input": [
      "test_ptt_text_sdtm"
     ],
     "language": "python",
     "metadata": {},
     "outputs": [
      {
       "metadata": {},
       "output_type": "pyout",
       "prompt_number": 5,
       "text": [
        "{'col_idx': array([u' ', u'!', u'\"', ..., u'\\uff3f', u'\\uff5c', u'\\uff5e'], \n",
        "       dtype='<U23'),\n",
        " 'row_idx': array([    0,     1,     2, ..., 26129, 26130, 26131]),\n",
        " 'smatrix': <26132x23366 sparse matrix of type '<type 'numpy.int64'>'\n",
        " \twith 288389 stored elements in Compressed Sparse Column format>,\n",
        " 'summarizer': <function PlaYnlp.sparse.L0_norm_col_summarizer>}"
       ]
      }
     ],
     "prompt_number": 5
    },
    {
     "cell_type": "code",
     "collapsed": false,
     "input": [
      "_unpickled_sdtm = test_ptt_text_sdtm"
     ],
     "language": "python",
     "metadata": {},
     "outputs": [],
     "prompt_number": 6
    },
    {
     "cell_type": "code",
     "collapsed": false,
     "input": [
      "one_news_idx = 4977\n",
      "one_news_sdtm = _unpickled_sdtm.select_rows([one_news_idx])\n",
      "print \"(one_news.summary > 0)._filtered_idx.shape = \",(one_news_sdtm.summary > 0)._filtered_idx.shape\n",
      "print \"// \".join(((one_news_sdtm.summary > 0))._filtered_idx)\n",
      "n_words = len((one_news_sdtm.summary > 0)._filtered_idx)\n",
      "print \"n_words = \",n_words\n",
      "filtered_words_sdtm = _unpickled_sdtm.select_columns(one_news_sdtm.summary > 0)\n",
      "\n",
      "words_weights = 1.0 / filtered_words_sdtm.summary._data\n",
      "print \"words_weights = \",words_weights\n",
      "words_weights*filtered_words_sdtm._smatrix.T\n",
      "\n",
      "n_top = 4\n",
      "select_post_ptrs = filtered_words_sdtm.summarize_sdf(lambda xx:words_weights*xx.T)._data.argsort()[-n_top:]\n",
      "print \"select_post_ptrs = \",select_post_ptrs\n",
      "\n",
      "\n",
      "print filtered_words_sdtm.summarize_sdf(lambda xx:words_weights*xx.T)._data[select_post_ptrs]\n",
      "\n",
      "# select_post_ptrs = filtered_words_sdtm.T.summary._data.argsort()[-n_top:]\n",
      "# print select_post_ptrs\n",
      "# filtered_words_sdtm = filtered_words_sdtm.select_rows(select_post_ptrs)\n",
      "# filtered_words_sdtm\n",
      "\n",
      "articles_df.ix[select_post_ptrs][\"title\"]"
     ],
     "language": "python",
     "metadata": {},
     "outputs": [
      {
       "output_type": "stream",
       "stream": "stdout",
       "text": [
        "(one_news.summary > 0)._filtered_idx.shape =  (13,)\n",
        " // (// )// BBS// [// ]// \u5168\u9762// \u555f\u52d5// \u5716\u89e3// \u5de8\u96f7// \u7248// \u8aaa\u660e// \u9644\n",
        "n_words =  13\n",
        "words_weights =  [  4.21371987e-05   4.69043152e-04   4.80538203e-04   3.70370370e-02\n",
        "   3.91711387e-05   3.91696044e-05   7.87401575e-03   1.44927536e-02\n",
        "   2.50000000e-01   2.00000000e-01   8.40336134e-03   7.69230769e-02\n",
        "   2.00000000e-01]\n",
        "select_post_ptrs =  [ 4111  4138 20941  4977]\n",
        "[ 0.27248725  0.27252938  0.40107006  0.79588458]\n"
       ]
      },
      {
       "metadata": {},
       "output_type": "pyout",
       "prompt_number": 7,
       "text": [
        "4111           [\u597d\u96f7] \u5716\u89e3\u5168\u9762\u555f\u52d5\u4e2d\u5922\u5883\u67b6\u69cb\n",
        "4138               [\u8a0e\u8ad6] \u5168\u9762\u555f\u52d5 \u5716\u89e3\n",
        "20941     [\u5de8\u96f7] \u96f7\u795e\u7d22\u723e\u89c0\u5f8c\u611f(\u5de8\u96f7\uff0c\u4e0d\u559c\u52ff\u5165)\n",
        "4977     [\u5de8\u96f7] \u5168\u9762\u555f\u52d5 \u5716\u89e3BBS\u7248 (\u9644\u8aaa\u660e)\n",
        "Name: title, dtype: object"
       ]
      }
     ],
     "prompt_number": 7
    },
    {
     "cell_type": "code",
     "collapsed": false,
     "input": [],
     "language": "python",
     "metadata": {},
     "outputs": [],
     "prompt_number": 7
    },
    {
     "cell_type": "code",
     "collapsed": false,
     "input": [
      "sdtm = test_ptt_text_sdtm\n",
      "init_group_idx = [4977,4138] #4138\n",
      "columns_filter = lambda xx:xx.summary>0\n",
      "n_tops = 4\n",
      "eps = 0.3\n",
      "\n",
      "\n",
      "# sdtm_proj_on_group_sdtm = sdtm.select_rows(init_group_idx)\n",
      "# filtered_words_sdtm = sdtm.select_columns(sdtm_proj_init_group.summary > 0)\n",
      "# within_wieghts = filtered_words_sdtm.select_rows(init_group_idx).summary._data\n",
      "# # within_wieghts = within_wieghts / float(within_wieghts.sum())\n",
      "# print \"within_wieghts = \",within_wieghts\n",
      "\n",
      "# all_weights = 1.0 / filtered_words_sdtm.summarize_sdf(L1_col_sum)._data\n",
      "# print \"all_weights = \",all_weights\n",
      "# words_weights = all_weights*within_wieghts\n",
      "# words_weights = words_weights / words_weights.sum()\n",
      "# print \"words_weights = \",words_weights\n",
      "\n",
      "# print \"// \".join(filtered_words_sdtm._col_idx)\n",
      "\n",
      "\n",
      "# sdtm_weighted_summary = filtered_words_sdtm.summarize_sdf(lambda xx:words_weights*xx.T)\n",
      "# selected_post_idx = (sdtm_weighted_summary > eps)._filtered_idx\n",
      "# selected_post_idx\n",
      "\n",
      "def find_similar_texts(sdtm, init_group_idx=[], col_filter=columns_filter, eps=0.1):\n",
      "    print \"~~~~~~~~~~~~~~~~~~~~~~~~~~~\"\n",
      "    print \"init_group_idx = \",init_group_idx\n",
      "    sdtm_proj_on_group_sdtm = sdtm.select_rows(init_group_idx)\n",
      "    filtered_words_sdtm = sdtm.select_columns(sdtm_proj_on_group_sdtm.summary > 0)\n",
      "    within_wieghts = filtered_words_sdtm.select_rows(init_group_idx).summary._data\n",
      "    # within_wieghts = within_wieghts / float(within_wieghts.sum())\n",
      "#     print \"within_wieghts = \",within_wieghts\n",
      "\n",
      "    all_weights = 1.0 / filtered_words_sdtm.summarize_sdf(L1_col_sum)._data\n",
      "#     print \"all_weights = \",all_weights\n",
      "    words_weights = all_weights*within_wieghts\n",
      "    words_weights = words_weights / words_weights.sum()\n",
      "    print \"words_weights = \",words_weights\n",
      "\n",
      "    print \"// \".join(filtered_words_sdtm._col_idx)\n",
      "\n",
      "\n",
      "    sdtm_weighted_summary = filtered_words_sdtm.summarize_sdf(lambda xx:words_weights*xx.T)\n",
      "    selected_post_idx = (sdtm_weighted_summary > eps)._filtered_idx\n",
      "    \n",
      "    print \"selected_post_idx = \",selected_post_idx\n",
      "    print \"len(selected_post_idx) = \",len(selected_post_idx)\n",
      "    \n",
      "    return selected_post_idx\n",
      "\n",
      "\n",
      "# filtered_words_sdtm\n",
      "# n_words = len(filtered_words_sdtm._col_idx)\n",
      "# print \"n_words = \",n_words\n",
      "\n",
      "# words_weights = 1.0 / (filtered_words_sdtm.summary._data**2)\n",
      "# words_weights = words_weights / words_weights.sum()\n",
      "# print \"words_weights = \",words_weights\n",
      "# sdtm_weighted_summary = filtered_words_sdtm.summarize_sdf(lambda xx:words_weights*xx.T)\n",
      "# selected_post_idx = (sdtm_weighted_summary > eps)._filtered_idx\n",
      "# selected_post_idx\n",
      "\n",
      "# articles_df.ix[selected_post_idx][\"title\"]\n",
      "\n",
      "# selected_post_ptrs = filtered_words_sdtm.summarize_sdf(lambda xx:words_weights*xx.T)._data.argsort()[-n_tops:]\n",
      "# selected_post_idx = filtered_words_sdtm.summarize_sdf(lambda xx:words_weights*xx.T)._idx[selected_post_ptrs]\n",
      "\n",
      "# print filtered_words_sdtm.summarize_sdf(lambda xx:words_weights*xx.T)._data[selected_post_ptrs]\n",
      "\n",
      "\n",
      "\n",
      "# def simple_text_clustering(sdtm, init_group_idx=[], col_filter=columns_filter, eps=0.3, n_top_words=20):\n",
      "#     print \"~~~~~~~~~~~~~~~~~~\"\n",
      "#     print \"init_group_idx = \",init_group_idx\n",
      "#     sdtm_proj_init_group = sdtm.select_rows(init_group_idx)\n",
      "#     filtered_words_sdtm = sdtm.select_columns(columns_filter(sdtm_proj_init_group))\n",
      "#     n_words = len(filtered_words_sdtm._col_idx)\n",
      "#     print \"n_words = \",n_words\n",
      "    \n",
      "#     while n_words>n_top_words:\n",
      "#         words_weights = 1.0 / (filtered_words_sdtm.summary._data)\n",
      "#         print \"words_weights = \",words_weights\n",
      "#         n_top_words_ptrs = words_weights.argsort()[-n_top_words:]\n",
      "        \n",
      "#         filtered_words_sdtm = filtered_words_sdtm.select_columns(n_top_words_ptrs)\n",
      "#         n_words = len(filtered_words_sdtm._col_idx)\n",
      "#         print \"n_words = \",n_words\n",
      "        \n",
      "        \n",
      "    \n",
      "#     print \"// \".join(filtered_words_sdtm._col_idx)\n",
      "    \n",
      "#     words_weights = 1.0 / (filtered_words_sdtm.summary._data)\n",
      "#     print \"words_weights = \",words_weights\n",
      "#     words_weights = words_weights / words_weights.sum()\n",
      "#     print \"words_weights = \",words_weights\n",
      "#     sdtm_weighted_summary = filtered_words_sdtm.summarize_sdf(lambda xx:words_weights*xx.T)\n",
      "#     print sdtm_weighted_summary._data\n",
      "#     selected_post_idx = (sdtm_weighted_summary > eps)._filtered_idx\n",
      "#     print \"selected_post_idx = \",selected_post_idx\n",
      "    \n",
      "#     print articles_df.ix[selected_post_idx][\"title\"]\n",
      "    \n",
      "#     return selected_post_idx\n",
      "\n",
      "\n",
      "    \n",
      "    \n",
      "    "
     ],
     "language": "python",
     "metadata": {},
     "outputs": [],
     "prompt_number": 25
    },
    {
     "cell_type": "code",
     "collapsed": false,
     "input": [
      "r1 = find_similar_texts(test_ptt_text_sdtm, [2500])  # 2900\n",
      "r2 = find_similar_texts(test_ptt_text_sdtm, r1)\n",
      "r3 = find_similar_texts(test_ptt_text_sdtm, r2)\n",
      "\n",
      "print \"~~~~~~~~~~~~~~~~~~~~~~~~~~~\"\n",
      "print articles_df.ix[r1][\"title\"]\n",
      "print \"~~~~~~~~~~~~~~~~~~~~~~~~~~~\"\n",
      "print articles_df.ix[r3][\"title\"]\n",
      "print \"~~~~~~~~~~~~~~~~~~~~~~~~~~~\""
     ],
     "language": "python",
     "metadata": {},
     "outputs": [
      {
       "output_type": "stream",
       "stream": "stdout",
       "text": [
        "~~~~~~~~~~~~~~~~~~~~~~~~~~~\n",
        "init_group_idx =  [2500]\n",
        "words_weights =  [  1.12714316e-04   1.98265732e-03   2.03243507e-03   1.67041870e-04\n",
        "   1.67041870e-04   3.90042767e-02   7.98970287e-03   8.25090469e-02\n",
        "   1.89843825e-02   5.99227715e-03   7.15078407e-01   8.75606213e-02\n",
        "   4.64135703e-04   3.66706875e-02   1.28457199e-03]\n",
        " // (// )// [// ]// \u4e0b// \u5728// \u597d\u7247// \u63a8\u85a6// \u6709\u96f7// \u674e\u9023\u6770// \u6f14\u51fa// \u7684// \u7d93\u5178// \u8a0e\u8ad6\n",
        "selected_post_idx =  [ 2500  3502  4074  4344  6827  7273  7663  8829 11387 12798 15129 16595\n",
        " 17082 21731 21906 22768]\n",
        "len(selected_post_idx) =  16\n",
        "~~~~~~~~~~~~~~~~~~~~~~~~~~~\n",
        "init_group_idx =  [ 2500  3502  4074  4344  6827  7273  7663  8829 11387 12798 15129 16595\n",
        " 17082 21731 21906 22768]\n",
        "words_weights =  [  3.34501679e-05   1.25619637e-04   4.20280116e-05   4.30831915e-05\n",
        "   7.18109887e-05   1.53889369e-04   2.14349793e-05   1.65361122e-03\n",
        "   2.81574666e-05   5.66547742e-05   5.66547742e-05   9.09486172e-02\n",
        "   4.22035347e-04   3.43851105e-05   3.44763522e-05   3.24430263e-04\n",
        "   3.30321854e-04   1.01054019e-02   1.75746120e-04   8.26805611e-04\n",
        "   1.39920950e-02   1.93507696e-03   7.48548290e-04   7.27588937e-04\n",
        "   6.73693461e-03   4.43651791e-03   9.00481358e-04   4.54743086e-03\n",
        "   2.21825896e-03   2.36845357e-04   3.49802374e-03   3.28334358e-04\n",
        "   2.16544327e-03   9.09486172e-02   1.69364278e-04   1.01054019e-02\n",
        "   1.74901187e-02   3.51628135e-05   1.81897234e-02   4.33088653e-03\n",
        "   6.49632980e-03   5.19706384e-04   2.93382636e-03   4.54743086e-02\n",
        "   3.03162057e-02   1.06497210e-04   3.24816490e-03   1.53370349e-04\n",
        "   9.77942120e-04   1.56538067e-04   7.45480469e-04   9.09486172e-03\n",
        "   3.62184759e-03   4.78676933e-03   1.28096644e-04   9.09486172e-02\n",
        "   2.67495933e-03   3.03162057e-02   1.27023208e-04   9.09486172e-02\n",
        "   9.88571926e-04   9.09486172e-03   2.06701403e-03   9.09486172e-02\n",
        "   1.13685771e-02   3.13615921e-03   1.37800935e-03   1.05754206e-03\n",
        "   3.71218846e-03   1.83734580e-04   1.03233391e-04   6.76197897e-04\n",
        "   6.99604748e-03   4.13402805e-03   3.03162057e-02   7.87093182e-05\n",
        "   9.09486172e-02   8.26805611e-03   3.13615921e-03   3.10935443e-03\n",
        "   1.13685771e-02   4.06020612e-04   4.52480682e-04   3.97155534e-04\n",
        "   1.08920500e-04   1.58171508e-03   2.21825896e-03   3.63794469e-03\n",
        "   5.68428857e-03   4.54743086e-02   5.34991866e-03   5.72003882e-04\n",
        "   8.46033648e-04   1.39920950e-02   2.27371543e-02   4.66403165e-04]\n",
        " // !// (// )// -// 3// :// PTT// Re// [// ]// catchpalay// \u3001// \u300a// \u300b// \u300c// \u300d// \u4e00\u6b65// \u4e00\u90e8// \u4e0b// \u4e0d\u4e8c// \u4ea4\u63db// \u4ec0\u9ebc// \u4efb\u52d9// \u4fdd\u7f85// \u503c\u5f97// \u518d// \u51f1\u7279// \u51fa\u7210// \u5287\u60c5// \u529f\u592b// \u548c// \u559c\u5287// \u5708\u5167\u4eba// \u5728// \u597d\u53cb// \u597d\u7247// \u597d\u96f7// \u5c55// \u5dee// \u5e03\u862d// \u5e2b// \u5e6b// \u5f15\u4eba\u5165\u52dd// \u5f35\u921e// \u5f71\u8a55// \u5fb5\u6587// \u60c5\u5831// \u611b\u5728// \u6211// \u6211\u5011// \u6311// \u63a8\u85a6// \u6587\u7ae0// \u65b0\u805e// \u65b9\u4e16\u7389// \u65e5\u8a18// \u66b9\u7f85// \u6709\u96f7// \u674e\u9023\u6770// \u6975\u6a02\u4e16\u754c// \u6b23\u8cde// \u6b63\u5f0f// \u6b78\u968a// \u6c83\u514b// \u6d74\u8840// \u6d77\u5831// \u6f14// \u6f14\u51fa// \u7121\u96f7// \u7247\u55ae// \u73a9\u547d// \u742a// \u7504\u5b50\u4e39// \u752f// \u7684// \u7687\u5e1d// \u795e\u63a2// \u7d66// \u7d93\u5178// \u7dca\u6e4a// \u7e3d// \u8216// \u89c0\u5f8c\u611f// \u8a0e\u8ad6// \u8acb// \u8b8a// \u8d77// \u8d85\u8d8a// \u8eab\u624b// \u9084\u6709// \u9592\u804a// \u95dc\u982d// \u9664\u4e86// \u96de\u76ae\u7599\u7629// \uff0d\n",
        "selected_post_idx = "
       ]
      },
      {
       "output_type": "stream",
       "stream": "stdout",
       "text": [
        " [ 2500  4344  7273  7663  8829 11387 17082 22768]\n",
        "len(selected_post_idx) =  8\n",
        "~~~~~~~~~~~~~~~~~~~~~~~~~~~\n",
        "init_group_idx =  [ 2500  4344  7273  7663  8829 11387 17082 22768]\n",
        "words_weights =  [  2.14266678e-05   5.38424947e-05   5.51942958e-05   1.97149168e-04\n",
        "   3.62904912e-05   3.62904912e-05   1.16515158e-01   2.70336795e-04\n",
        "   4.40510996e-05   4.41679903e-05   4.15630767e-04   4.23178542e-04\n",
        "   1.05922871e-03   1.79254090e-02   9.32121267e-04   1.15361543e-03\n",
        "   5.82575792e-03   2.84183313e-03   4.48135225e-03   2.77417044e-03\n",
        "   1.16515158e-01   2.16974224e-04   6.72202837e-03   2.33030317e-02\n",
        "   8.32251132e-03   3.75855350e-03   3.88383861e-02   4.16125566e-03\n",
        "   1.96484247e-04   2.00542441e-04   1.16515158e-02   1.54666140e-03\n",
        "   6.13237676e-03   1.64105857e-04   1.16515158e-01   1.62730668e-04\n",
        "   9.70959654e-02   2.64807178e-03   1.16515158e-01   4.01776408e-03\n",
        "   1.76538119e-03   1.35482742e-03   4.75572075e-03   8.96270450e-03\n",
        "   3.88383861e-02   2.52088184e-05   1.16515158e-01   1.05922871e-02\n",
        "   2.98756817e-03   6.97695559e-05   1.01317529e-03   4.66060634e-03\n",
        "   7.28219740e-03   5.82575792e-02   2.91287896e-02]\n",
        " // (// )// 3// [// ]// catchpalay// \u3001// \u300a// \u300b// \u300c// \u300d// \u4e0b// \u4e0d\u4e8c// \u4efb\u52d9// \u518d// \u51f1\u7279// \u51fa\u7210// \u529f\u592b// \u559c\u5287// \u5708\u5167\u4eba// \u5728// \u597d\u7247// \u5c55// \u5e03\u862d// \u5e6b// \u5f35\u921e// \u5fb5\u6587// \u60c5\u5831// \u6211// \u6311// \u63a8\u85a6// \u6587\u7ae0// \u65b0\u805e// \u65b9\u4e16\u7389// \u6709\u96f7// \u674e\u9023\u6770// \u6b63\u5f0f// \u6b78\u968a// \u6d74\u8840// \u6d77\u5831// \u6f14// \u6f14\u51fa// \u742a// \u752f// \u7684// \u7687\u5e1d// \u795e\u63a2// \u7d93\u5178// \u8a0e\u8ad6// \u8acb// \u8d77// \u8d85\u8d8a// \u8eab\u624b// \u96de\u76ae\u7599\u7629\n",
        "selected_post_idx =  [ 2500  4344  7273  7663  8829 11387 17082 22768]\n",
        "len(selected_post_idx) =  8\n",
        "~~~~~~~~~~~~~~~~~~~~~~~~~~~\n",
        "2500               [\u8a0e\u8ad6] \u5728\u4e0b\u63a8\u85a6\u7684\u674e\u9023\u6770\u6f14\u51fa\u7684\u7d93\u5178\u597d\u7247(\u6709\u96f7)\n",
        "3502     [\u5f71\u8a55] \u611b\u5728\u66b9\u7f85[\u89c0\u5f8c\u611f] \u63a8\u85a6\u7d66PTT\u7684\u597d\u53cb \u503c\u5f97\u6b23\u8cde\u7684\u4e00\u90e8\u597d\u7247\n",
        "4074                            [\u9592\u804a]\u674e\u9023\u6770\u548c\u7504\u5b50\u4e39\n",
        "4344               [\u5fb5\u6587] \u674e\u9023\u6770\u7684\u529f\u592b\u559c\u5287\u7d93\u5178\u300a\u529f\u592b\u7687\u5e1d\u65b9\u4e16\u7389\u300b\n",
        "6827                   [\u7247\u55ae] \u8acb\u63a8\u85a6\u5287\u60c5\u7dca\u6e4a\u3001\u5f15\u4eba\u5165\u52dd\u7684\u597d\u7247\n",
        "7273                           [\u65b0\u805e] \u5708\u5167\u4eba\u597d\u7247\u63a8\u85a6\n",
        "7663                  [\u65b0\u805e] \u674e\u9023\u6770\u3001\u6587\u7ae0 \u300c\u4e0d\u4e8c\u795e\u63a2\u300d\u6f14\u559c\u5287\n",
        "8829                [\u60c5\u5831]\u674e\u9023\u6770\u300c\u4e0d\u4e8c\u795e\u63a2\u300d\u5c55\u8eab\u624b \u6b63\u5f0f\u6d77\u5831\u51fa\u7210\n",
        "11387                [\u8a0e\u8ad6] \u8acb\u5e6b\u6211\u63a8\u85a6catchpalay\u597d\u7247\n",
        "12798                [\u7121\u96f7] \u6211\u5011\u7684\u4ea4\u63db\u65e5\u8a18-\u4e00\u90e8\u503c\u5f97\u63a8\u85a6\u7684\u597d\u7247\n",
        "15129                      [\u597d\u96f7] \u63a8\u85a6\u597d\u7247-\u6975\u6a02\u4e16\u754c!!\n",
        "16595                  [\u597d\u96f7] \u7e3d\u8216\u5e2b \uff0d \u5dee\u4e00\u6b65\u8b8a\u7d93\u5178\u7684\u597d\u7247\n",
        "17082                  [\u65b0\u805e] \u674e\u9023\u6770\u6b78\u968a \u518d\u6311\u300c\u6d74\u8840\u4efb\u52d93\u300d\n",
        "21731              [\u8a0e\u8ad6] \u4fdd\u7f85\u6c83\u514b\u9664\u4e86\u73a9\u547d\u95dc\u982d\u9084\u6709\u4ec0\u9ebc\u63a8\u85a6\u7684\u597d\u7247\n",
        "21906          Re: [\u8a0e\u8ad6] \u4fdd\u7f85\u6c83\u514b\u9664\u4e86\u73a9\u547d\u95dc\u982d\u9084\u6709\u4ec0\u9ebc\u63a8\u85a6\u7684\u597d\u7247\n",
        "22768               [\u65b0\u805e]\u51f1\u7279\u5e03\u862d\u742a\u6f14\u51fa\u8d85\u8d8a\u7d93\u5178\u5f35\u921e\u752f\u8d77\u96de\u76ae\u7599\u7629\n",
        "Name: title, dtype: object\n",
        "~~~~~~~~~~~~~~~~~~~~~~~~~~~\n",
        "2500     [\u8a0e\u8ad6] \u5728\u4e0b\u63a8\u85a6\u7684\u674e\u9023\u6770\u6f14\u51fa\u7684\u7d93\u5178\u597d\u7247(\u6709\u96f7)\n",
        "4344     [\u5fb5\u6587] \u674e\u9023\u6770\u7684\u529f\u592b\u559c\u5287\u7d93\u5178\u300a\u529f\u592b\u7687\u5e1d\u65b9\u4e16\u7389\u300b\n",
        "7273                 [\u65b0\u805e] \u5708\u5167\u4eba\u597d\u7247\u63a8\u85a6\n",
        "7663        [\u65b0\u805e] \u674e\u9023\u6770\u3001\u6587\u7ae0 \u300c\u4e0d\u4e8c\u795e\u63a2\u300d\u6f14\u559c\u5287\n",
        "8829      [\u60c5\u5831]\u674e\u9023\u6770\u300c\u4e0d\u4e8c\u795e\u63a2\u300d\u5c55\u8eab\u624b \u6b63\u5f0f\u6d77\u5831\u51fa\u7210\n",
        "11387      [\u8a0e\u8ad6] \u8acb\u5e6b\u6211\u63a8\u85a6catchpalay\u597d\u7247\n",
        "17082        [\u65b0\u805e] \u674e\u9023\u6770\u6b78\u968a \u518d\u6311\u300c\u6d74\u8840\u4efb\u52d93\u300d\n",
        "22768     [\u65b0\u805e]\u51f1\u7279\u5e03\u862d\u742a\u6f14\u51fa\u8d85\u8d8a\u7d93\u5178\u5f35\u921e\u752f\u8d77\u96de\u76ae\u7599\u7629\n",
        "Name: title, dtype: object\n",
        "~~~~~~~~~~~~~~~~~~~~~~~~~~~\n"
       ]
      }
     ],
     "prompt_number": 29
    },
    {
     "cell_type": "code",
     "collapsed": false,
     "input": [],
     "language": "python",
     "metadata": {},
     "outputs": [],
     "prompt_number": 28
    },
    {
     "cell_type": "code",
     "collapsed": false,
     "input": [],
     "language": "python",
     "metadata": {},
     "outputs": []
    },
    {
     "cell_type": "code",
     "collapsed": false,
     "input": [],
     "language": "python",
     "metadata": {},
     "outputs": []
    },
    {
     "cell_type": "markdown",
     "metadata": {},
     "source": [
      "# Reference:\n",
      "\n",
      "- ## [dbscan](https://github.com/scikit-learn/scikit-learn/blob/master/sklearn/cluster/dbscan_.py)\n",
      "- ## [utils:check_random_state](https://github.com/scikit-learn/scikit-learn/blob/master/sklearn/utils/__init__.py)\n",
      "- ## [validation:check_random_state](https://github.com/scikit-learn/scikit-learn/blob/master/sklearn/utils/validation.py)"
     ]
    },
    {
     "cell_type": "code",
     "collapsed": false,
     "input": [
      "# from sklearn.utils import check_random_state"
     ],
     "language": "python",
     "metadata": {},
     "outputs": []
    },
    {
     "cell_type": "code",
     "collapsed": false,
     "input": [
      "# random_state=None\n",
      "\n",
      "# n = test_ptt_text_sdtm._smatrix.shape[0]\n",
      "# index_order = np.arange(n)\n",
      "# random_state = check_random_state(random_state)\n",
      "# random_state.shuffle(index_order)\n",
      "# print \"index_order = \",index_order\n"
     ],
     "language": "python",
     "metadata": {},
     "outputs": []
    },
    {
     "cell_type": "code",
     "collapsed": false,
     "input": [
      "# neighborhoods = []\n",
      "# labels = -np.ones(n, dtype=np.int)\n",
      "\n",
      "# # A list of all core samples found.\n",
      "# core_samples = []\n",
      "\n",
      "# # label_num is the label given to the new cluster\n",
      "# label_num = 0"
     ],
     "language": "python",
     "metadata": {},
     "outputs": []
    },
    {
     "cell_type": "code",
     "collapsed": false,
     "input": [
      "# labels[305] = 1"
     ],
     "language": "python",
     "metadata": {},
     "outputs": []
    },
    {
     "cell_type": "code",
     "collapsed": false,
     "input": [
      "# for index in index_order[:100]:\n",
      "#     print \"~~~~~~~~~~~~~\"\n",
      "#     print \"index = \",index\n",
      "#     # Already classified\n",
      "#     if labels[index] != -1:\n",
      "#         print \"labels[index] = \",labels[index]\n",
      "#         continue"
     ],
     "language": "python",
     "metadata": {},
     "outputs": []
    },
    {
     "cell_type": "code",
     "collapsed": false,
     "input": [],
     "language": "python",
     "metadata": {},
     "outputs": []
    },
    {
     "cell_type": "code",
     "collapsed": false,
     "input": [],
     "language": "python",
     "metadata": {},
     "outputs": []
    }
   ],
   "metadata": {}
  }
 ]
}