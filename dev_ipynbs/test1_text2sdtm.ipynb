{
 "metadata": {
  "name": ""
 },
 "nbformat": 3,
 "nbformat_minor": 0,
 "worksheets": [
  {
   "cells": [
    {
     "cell_type": "code",
     "collapsed": false,
     "input": [
      "from pymongo import MongoClient\n",
      "mongo_client = MongoClient()\n",
      "ptt_crawler_db = mongo_client.ptt_crawler_db\n",
      "ptt_article = ptt_crawler_db.ptt_article\n",
      "ptt_article_push = ptt_crawler_db.ptt_article_push"
     ],
     "language": "python",
     "metadata": {},
     "outputs": [],
     "prompt_number": 1
    },
    {
     "cell_type": "code",
     "collapsed": false,
     "input": [
      "import pandas as pd \n",
      "\n",
      "# articles_df = pd.DataFrame(list(ptt_article.find({})))\n",
      "articles_df = pd.DataFrame(list(ptt_article.find({\"Board\":{\"$in\":[\"Accounting\",'Physics']}})))"
     ],
     "language": "python",
     "metadata": {},
     "outputs": [],
     "prompt_number": 2
    },
    {
     "cell_type": "code",
     "collapsed": false,
     "input": [
      "import PlaYnlp.tokenizer as tkr\n",
      "import PlaYnlp.vectorizer as vcr"
     ],
     "language": "python",
     "metadata": {},
     "outputs": [],
     "prompt_number": 5
    },
    {
     "cell_type": "code",
     "collapsed": false,
     "input": [
      "print articles_df.shape\n",
      "articles_df.head()"
     ],
     "language": "python",
     "metadata": {},
     "outputs": [
      {
       "output_type": "stream",
       "stream": "stdout",
       "text": [
        "(37122, 9)\n"
       ]
      },
      {
       "html": [
        "<div style=\"max-height:1000px;max-width:1500px;overflow:auto;\">\n",
        "<table border=\"1\" class=\"dataframe\">\n",
        "  <thead>\n",
        "    <tr style=\"text-align: right;\">\n",
        "      <th></th>\n",
        "      <th>Board</th>\n",
        "      <th>_id</th>\n",
        "      <th>text</th>\n",
        "      <th>time</th>\n",
        "      <th>title</th>\n",
        "      <th>url</th>\n",
        "      <th>user</th>\n",
        "      <th>user_id</th>\n",
        "      <th>user_nickname</th>\n",
        "    </tr>\n",
        "  </thead>\n",
        "  <tbody>\n",
        "    <tr>\n",
        "      <th>0</th>\n",
        "      <td> Accounting</td>\n",
        "      <td> 52f223db74798d7e7bbe9965</td>\n",
        "      <td>   \\n102\u5e74\u8d85\u7d1a\u51fd\u6388CD\u7248\\n\\n\u9ad8\u6703(\u856d\u9756) \u6b32\u552e$2500 NT\\n\\n\u516c\u53f8\u6cd5(\u8463\u8b19...</td>\n",
        "      <td> Wed Feb  5 13:48:58 2014</td>\n",
        "      <td>             [\u51fa\u552e] 102\u5e74\u8d85\u7d1a\u51fd\u6388 \u9ad8\u6703\u3001\u516c\u53f8\u6cd5</td>\n",
        "      <td> http://www.ptt.cc/bbs/Accounting/M.1391579341....</td>\n",
        "      <td>           sunnykiller (\u5929\u7c5f\u4e4b\u8072)</td>\n",
        "      <td>  sunnykiller</td>\n",
        "      <td> \u5929\u7c5f\u4e4b\u8072</td>\n",
        "    </tr>\n",
        "    <tr>\n",
        "      <th>1</th>\n",
        "      <td> Accounting</td>\n",
        "      <td> 52f223db74798d7e78be9965</td>\n",
        "      <td>   \\n\u5982\u6a19\u984c\\n\u5269\u4e0b\u4e00\u6b21\u6388\u6b0a\u5373\u53ef\\n\u8b1b\u7fa9\u6211\u6709\\n\u4f46\u662f\u7f3a\u7b46\u8a18\\n\u5982\u679c\u9858\u610f\u8ce3\u7b46\u8a18\u4e5fOK\\n\\n...</td>\n",
        "      <td> Wed Feb  5 14:44:15 2014</td>\n",
        "      <td>               [\u5fb5\u6c42]\u5f90\u9326\u83ef\u9ad8\u6703DVD or \u8b1b\u7fa9</td>\n",
        "      <td> http://www.ptt.cc/bbs/Accounting/M.1391582662....</td>\n",
        "      <td> JilSander (Doer brokenheart)</td>\n",
        "      <td>    JilSander</td>\n",
        "      <td>  Doe</td>\n",
        "    </tr>\n",
        "    <tr>\n",
        "      <th>2</th>\n",
        "      <td> Accounting</td>\n",
        "      <td> 52f223db74798d7e76be9965</td>\n",
        "      <td>   \\n\u203b \u5f15\u8ff0\u300aflora713 (pretty world)\u300b\u4e4b\u9298\u8a00\uff1a: 1. \u51fa\u552e\uff1a\u5fd7...</td>\n",
        "      <td> Wed Feb  5 16:47:30 2014</td>\n",
        "      <td> Re: [\u51fa\u552e/\u8d08\u9001] \u5fd7\u5149\u5c0a\u69ae\u512a\u60e0\u5238/ \u8d85\u7d1a\u51fd\u6388VIP\u63a8\u85a6\u79ae\u5238</td>\n",
        "      <td> http://www.ptt.cc/bbs/Accounting/M.1391590052....</td>\n",
        "      <td>            lphotoimpact (\u6953\u96ea)</td>\n",
        "      <td> lphotoimpact</td>\n",
        "      <td>   \u6953\u96ea</td>\n",
        "    </tr>\n",
        "    <tr>\n",
        "      <th>3</th>\n",
        "      <td> Accounting</td>\n",
        "      <td> 52f223dd74798d7e7abe9965</td>\n",
        "      <td>   \\n\\n     \u521d\u6703\\n     http://goods.ruten.com.tw/...</td>\n",
        "      <td> Wed Feb  5 14:57:59 2014</td>\n",
        "      <td>      [\u552e] \u521d\u7d1a\u6703\u8a08\u5b78.\u4e2d\u7d1a\u6703\u8a08\u5b78.\u6210\u672c\u6703\u8a08 DVD+\u8b1b\u7fa9</td>\n",
        "      <td> http://www.ptt.cc/bbs/Accounting/M.1391583483....</td>\n",
        "      <td>                  ap22 (\u65cb\u8f49\u74f6\u5b50)</td>\n",
        "      <td>         ap22</td>\n",
        "      <td> \u65cb\u8f49\u74f6\u5b50</td>\n",
        "    </tr>\n",
        "    <tr>\n",
        "      <th>4</th>\n",
        "      <td>    Physics</td>\n",
        "      <td> 52f223e274798d7e76be9967</td>\n",
        "      <td>   \\n\u6628\u5929\u5728\uff34\uff25\uff24\u5f71\u7247\u4e2d\u770b\u5230\u4e00\u5247\u63a2\u8a0e\u591a\u7dad\u5ea6\u4e16\u754c\u7684\u7247\u5b50\uff0c\u89ba\u5f97\u5f88\u6709\u8da3\uff0c\\n\\n\\nhttp:/...</td>\n",
        "      <td> Mon Jan 27 07:29:37 2014</td>\n",
        "      <td>           [\u8acb\u76ca] \u770b\u5230\u4ee5\u591a\u7dad\u5ea6\u4e16\u754c\u70ba\u4e3b\u984c\u7684\uff34\uff25\uff24\u5f71\u7247</td>\n",
        "      <td> http://www.ptt.cc/bbs/Physics/M.1390778982.A.D...</td>\n",
        "      <td>             purestone (\u5929\u7a7a\u4e4b\u5b50)</td>\n",
        "      <td>    purestone</td>\n",
        "      <td> \u5929\u7a7a\u4e4b\u5b50</td>\n",
        "    </tr>\n",
        "  </tbody>\n",
        "</table>\n",
        "<p>5 rows \u00d7 9 columns</p>\n",
        "</div>"
       ],
       "metadata": {},
       "output_type": "pyout",
       "prompt_number": 6,
       "text": [
        "        Board                       _id  \\\n",
        "0  Accounting  52f223db74798d7e7bbe9965   \n",
        "1  Accounting  52f223db74798d7e78be9965   \n",
        "2  Accounting  52f223db74798d7e76be9965   \n",
        "3  Accounting  52f223dd74798d7e7abe9965   \n",
        "4     Physics  52f223e274798d7e76be9967   \n",
        "\n",
        "                                                text  \\\n",
        "0    \\n102\u5e74\u8d85\u7d1a\u51fd\u6388CD\u7248\\n\\n\u9ad8\u6703(\u856d\u9756) \u6b32\u552e$2500 NT\\n\\n\u516c\u53f8\u6cd5(\u8463\u8b19...   \n",
        "1    \\n\u5982\u6a19\u984c\\n\u5269\u4e0b\u4e00\u6b21\u6388\u6b0a\u5373\u53ef\\n\u8b1b\u7fa9\u6211\u6709\\n\u4f46\u662f\u7f3a\u7b46\u8a18\\n\u5982\u679c\u9858\u610f\u8ce3\u7b46\u8a18\u4e5fOK\\n\\n...   \n",
        "2    \\n\u203b \u5f15\u8ff0\u300aflora713 (pretty world)\u300b\u4e4b\u9298\u8a00\uff1a: 1. \u51fa\u552e\uff1a\u5fd7...   \n",
        "3    \\n\\n     \u521d\u6703\\n     http://goods.ruten.com.tw/...   \n",
        "4    \\n\u6628\u5929\u5728\uff34\uff25\uff24\u5f71\u7247\u4e2d\u770b\u5230\u4e00\u5247\u63a2\u8a0e\u591a\u7dad\u5ea6\u4e16\u754c\u7684\u7247\u5b50\uff0c\u89ba\u5f97\u5f88\u6709\u8da3\uff0c\\n\\n\\nhttp:/...   \n",
        "\n",
        "                       time                             title  \\\n",
        "0  Wed Feb  5 13:48:58 2014              [\u51fa\u552e] 102\u5e74\u8d85\u7d1a\u51fd\u6388 \u9ad8\u6703\u3001\u516c\u53f8\u6cd5   \n",
        "1  Wed Feb  5 14:44:15 2014                [\u5fb5\u6c42]\u5f90\u9326\u83ef\u9ad8\u6703DVD or \u8b1b\u7fa9   \n",
        "2  Wed Feb  5 16:47:30 2014  Re: [\u51fa\u552e/\u8d08\u9001] \u5fd7\u5149\u5c0a\u69ae\u512a\u60e0\u5238/ \u8d85\u7d1a\u51fd\u6388VIP\u63a8\u85a6\u79ae\u5238   \n",
        "3  Wed Feb  5 14:57:59 2014       [\u552e] \u521d\u7d1a\u6703\u8a08\u5b78.\u4e2d\u7d1a\u6703\u8a08\u5b78.\u6210\u672c\u6703\u8a08 DVD+\u8b1b\u7fa9   \n",
        "4  Mon Jan 27 07:29:37 2014            [\u8acb\u76ca] \u770b\u5230\u4ee5\u591a\u7dad\u5ea6\u4e16\u754c\u70ba\u4e3b\u984c\u7684\uff34\uff25\uff24\u5f71\u7247   \n",
        "\n",
        "                                                 url  \\\n",
        "0  http://www.ptt.cc/bbs/Accounting/M.1391579341....   \n",
        "1  http://www.ptt.cc/bbs/Accounting/M.1391582662....   \n",
        "2  http://www.ptt.cc/bbs/Accounting/M.1391590052....   \n",
        "3  http://www.ptt.cc/bbs/Accounting/M.1391583483....   \n",
        "4  http://www.ptt.cc/bbs/Physics/M.1390778982.A.D...   \n",
        "\n",
        "                           user       user_id user_nickname  \n",
        "0            sunnykiller (\u5929\u7c5f\u4e4b\u8072)   sunnykiller          \u5929\u7c5f\u4e4b\u8072  \n",
        "1  JilSander (Doer brokenheart)     JilSander           Doe  \n",
        "2             lphotoimpact (\u6953\u96ea)  lphotoimpact            \u6953\u96ea  \n",
        "3                   ap22 (\u65cb\u8f49\u74f6\u5b50)          ap22          \u65cb\u8f49\u74f6\u5b50  \n",
        "4              purestone (\u5929\u7a7a\u4e4b\u5b50)     purestone          \u5929\u7a7a\u4e4b\u5b50  \n",
        "\n",
        "[5 rows x 9 columns]"
       ]
      }
     ],
     "prompt_number": 6
    },
    {
     "cell_type": "code",
     "collapsed": false,
     "input": [
      "jieba_without_html_tokenizer = tkr.tokenize_gen(lambda text:tkr.jieba.cut(tkr.nltk.clean_html(text)))\n",
      "unigram_without_html_tokenizer = tkr.tokenize_gen(lambda text:tkr.ngram(tkr.nltk.clean_html(text),n=1))\n",
      "bigram_without_html_tokenizer = tkr.tokenize_gen(lambda text:tkr.ngram(tkr.nltk.clean_html(text),n=2))"
     ],
     "language": "python",
     "metadata": {},
     "outputs": [],
     "prompt_number": 7
    },
    {
     "cell_type": "code",
     "collapsed": false,
     "input": [
      "jieba_vec_count_kwargs = {\"tokenizer\":jieba_without_html_tokenizer,\"lowercase\":False}\n",
      "unigram_vec_count_kwargs = {\"tokenizer\":unigram_without_html_tokenizer,\"lowercase\":False}\n",
      "bigram_vec_count_kwargs = {\"tokenizer\":bigram_without_html_tokenizer,\"lowercase\":False}"
     ],
     "language": "python",
     "metadata": {},
     "outputs": [],
     "prompt_number": 8
    },
    {
     "cell_type": "markdown",
     "metadata": {},
     "source": [
      "## Referenc: \n",
      "\n",
      "- ###[python operators](http://docs.python.org/2/library/operator.htmlhttp://docs.python.org/2/library/operator.html)\n",
      "- ###[scipy sparse add cols and rows](http://stackoverflow.com/questions/9621807/python-scipy-resizing-a-sparse-matrix)\n",
      "- ###[np.vstack](http://docs.scipy.org/doc/numpy/reference/generated/numpy.vstack.html)\n",
      "- ###[np.vstack](http://docs.scipy.org/doc/numpy/reference/generated/numpy.hstack.html)"
     ]
    },
    {
     "cell_type": "code",
     "collapsed": false,
     "input": [
      "test_sdtm = vcr.vectorize_text(df=articles_df,\n",
      "                                text_col=\"title\", \n",
      "                                idx_col=\"url\", \n",
      "                                cond_query={},\n",
      "                                idx_query= [],\n",
      "                                vect_gen=vcr.CountVectorizer, \n",
      "                                vect_gen_init_kwargs = jieba_vec_count_kwargs)"
     ],
     "language": "python",
     "metadata": {},
     "outputs": [
      {
       "output_type": "stream",
       "stream": "stderr",
       "text": [
        "Building Trie..., from /usr/local/lib/python2.7/dist-packages/jieba/dict.txt\n",
        "loading model from cache /tmp/jieba.cache\n",
        "loading model cost "
       ]
      },
      {
       "output_type": "stream",
       "stream": "stderr",
       "text": [
        " 4.05424118042 seconds.\n",
        "Trie has been built succesfully.\n"
       ]
      }
     ],
     "prompt_number": 9
    },
    {
     "cell_type": "code",
     "collapsed": false,
     "input": [
      "test_sdtm"
     ],
     "language": "python",
     "metadata": {},
     "outputs": [
      {
       "metadata": {},
       "output_type": "pyout",
       "prompt_number": 10,
       "text": [
        "{'col_idx': array([u' ', u'!', u'\"', ..., u'\\uff51', u'\\uff53', u'\\uff5e'], \n",
        "       dtype='<U27'),\n",
        " 'row_idx': array([u'http://www.ptt.cc/bbs/Accounting/M.1391579341.A.20A.html',\n",
        "        u'http://www.ptt.cc/bbs/Accounting/M.1391582662.A.8A1.html',\n",
        "        u'http://www.ptt.cc/bbs/Accounting/M.1391590052.A.364.html', ...,\n",
        "        u'http://www.ptt.cc/bbs/Accounting/M.1388857344.A.617.html',\n",
        "        u'http://www.ptt.cc/bbs/Accounting/M.1388937222.A.D5F.html',\n",
        "        u'http://www.ptt.cc/bbs/Accounting/M.1389000970.A.662.html'], dtype=object),\n",
        " 'sdtm': <37122x16356 sparse matrix of type '<type 'numpy.int64'>'\n",
        " \twith 364299 stored elements in Compressed Sparse Column format>}"
       ]
      }
     ],
     "prompt_number": 10
    },
    {
     "cell_type": "code",
     "collapsed": false,
     "input": [
      "test_sdtm._term_idx[:10]"
     ],
     "language": "python",
     "metadata": {},
     "outputs": [
      {
       "metadata": {},
       "output_type": "pyout",
       "prompt_number": 11,
       "text": [
        "array([u' ', u'!', u'\"', u'#', u'$', u'%', u'&', u'&&', u\"'\", u'('], \n",
        "      dtype='<U27')"
       ]
      }
     ],
     "prompt_number": 11
    },
    {
     "cell_type": "code",
     "collapsed": false,
     "input": [
      "test_sdtm._doc_idx[:10]"
     ],
     "language": "python",
     "metadata": {},
     "outputs": [
      {
       "metadata": {},
       "output_type": "pyout",
       "prompt_number": 12,
       "text": [
        "array([u'http://www.ptt.cc/bbs/Accounting/M.1391579341.A.20A.html',\n",
        "       u'http://www.ptt.cc/bbs/Accounting/M.1391582662.A.8A1.html',\n",
        "       u'http://www.ptt.cc/bbs/Accounting/M.1391590052.A.364.html',\n",
        "       u'http://www.ptt.cc/bbs/Accounting/M.1391583483.A.8F1.html',\n",
        "       u'http://www.ptt.cc/bbs/Physics/M.1390778982.A.D1F.html',\n",
        "       u'http://www.ptt.cc/bbs/Physics/M.1391163090.A.CDA.html',\n",
        "       u'http://www.ptt.cc/bbs/Physics/M.1391396594.A.F2A.html',\n",
        "       u'http://www.ptt.cc/bbs/Physics/M.1390398976.A.486.html',\n",
        "       u'http://www.ptt.cc/bbs/Physics/M.1390672744.A.479.html',\n",
        "       u'http://www.ptt.cc/bbs/Physics/M.1391206571.A.4CD.html'], dtype=object)"
       ]
      }
     ],
     "prompt_number": 12
    },
    {
     "cell_type": "code",
     "collapsed": false,
     "input": [
      "((test_sdtm.summarize_sdtm() > 130) & (test_sdtm.summarize_sdtm() < 400))._filtered_terms"
     ],
     "language": "python",
     "metadata": {},
     "outputs": [
      {
       "metadata": {},
       "output_type": "pyout",
       "prompt_number": 13,
       "text": [
        "array([u'&', u'+', u'..', u'....', u'1', u'2', u'2012', u'97', u'98', u'=',\n",
        "       u'AICPA', u'CD', u'CPA', u'Fw', u'IFRS', u'\\u2026', u'\\u3000',\n",
        "       u'\\u300c', u'\\u300d', u'\\u4e00\\u4e0b', u'\\u4e00\\u4e9b',\n",
        "       u'\\u4e00\\u554f', u'\\u4e00\\u984c', u'\\u4e0a', u'\\u4e0a\\u4e0b\\u518a',\n",
        "       u'\\u4e0a\\u9054', u'\\u4e0b', u'\\u4e0d', u'\\u4e0d\\u6703', u'\\u4e86',\n",
        "       u'\\u4ea4\\u6cd5', u'\\u4eba', u'\\u4eca\\u5e74', u'\\u5149',\n",
        "       u'\\u5149\\u5b78', u'\\u5149\\u901f', u'\\u5169\\u984c', u'\\u516c\\u53f8',\n",
        "       u'\\u516c\\u53f8\\u50b5', u'\\u516c\\u53f8\\u6cd5', u'\\u516c\\u5831',\n",
        "       u'\\u5206\\u6790', u'\\u5229\\u606f', u'\\u5230', u'\\u529b\\u5b78',\n",
        "       u'\\u52e4\\u696d', u'\\u539f\\u7406', u'\\u53ef\\u4ee5', u'\\u540d\\u5e2b',\n",
        "       u'\\u5462', u'\\u56db\\u5927', u'\\u570b', u'\\u5730\\u7279',\n",
        "       u'\\u57fa\\u790e', u'\\u58eb', u'\\u5927', u'\\u5927\\u5bb6',\n",
        "       u'\\u597d\\u5947', u'\\u5b54\\u738b', u'\\u5b58\\u8ca8', u'\\u5b9a\\u5f8b',\n",
        "       u'\\u5be6\\u9a57', u'\\u5c0d', u'\\u5c0f', u'\\u5de5\\u4f5c',\n",
        "       u'\\u5deb\\u6bd3\\u742a', u'\\u5e7e\\u984c', u'\\u5f35\\u5efa\\u662d',\n",
        "       u'\\u5f8b\\u5e2b', u'\\u5f8c', u'\\u5fb5', u'\\u5fb5\\u624d',\n",
        "       u'\\u5fb5\\u66f8', u'\\u5fd7\\u5149', u'\\u600e\\u9ebc', u'\\u60c5\\u5831',\n",
        "       u'\\u6210\\u6703', u'\\u6211', u'\\u6216', u'\\u6240',\n",
        "       u'\\u6240\\u5f97\\u7a05', u'\\u6295\\u8cc7', u'\\u63a8\\u85a6',\n",
        "       u'\\u653f\\u6703', u'\\u65b0\\u8ad6', u'\\u662f\\u5426', u'\\u6642\\u9593',\n",
        "       u'\\u666e\\u7269', u'\\u666e\\u8003', u'\\u66f8', u'\\u6703\\u5be9',\n",
        "       u'\\u6709\\u4eba', u'\\u6709\\u6c92\\u6709', u'\\u6797\\u8559', u'\\u6a94',\n",
        "       u'\\u6c38\\u52dd', u'\\u6c42', u'\\u6cd5', u'\\u6e1b\\u640d',\n",
        "       u'\\u6e96\\u5099', u'\\u70ba\\u4f55', u'\\u71b1\\u529b\\u5b78', u'\\u7248',\n",
        "       u'\\u725b\\u9813', u'\\u7269\\u7406\\u7cfb', u'\\u7279\\u5831', u'\\u738b',\n",
        "       u'\\u73ed', u'\\u73fe\\u91d1\\u6d41\\u91cf', u'\\u7406\\u8ad6', u'\\u7528',\n",
        "       u'\\u7591\\u554f', u'\\u76f8\\u95dc', u'\\u771f', u'\\u7814\\u6240',\n",
        "       u'\\u7814\\u7a76', u'\\u7814\\u7a76\\u6240', u'\\u79df\\u8cc3',\n",
        "       u'\\u7a05\\u52d9', u'\\u7b2c', u'\\u7b46\\u8a18', u'\\u7ba1\\u6703',\n",
        "       u'\\u7ba1\\u7406', u'\\u7c21\\u55ae', u'\\u7f8e\\u570b', u'\\u8003',\n",
        "       u'\\u8003\\u53e4\\u984c', u'\\u8003\\u984c', u'\\u80fd', u'\\u80fd\\u91cf',\n",
        "       u'\\u8868', u'\\u88dc\\u7fd2\\u73ed', u'\\u8981', u'\\u89c0\\u5ff5',\n",
        "       u'\\u8a08\\u7b97', u'\\u8a0e\\u8ad6', u'\\u8a18\\u5e33', u'\\u8a66\\u984c',\n",
        "       u'\\u8ab2\\u672c', u'\\u8ab2\\u7a0b', u'\\u8acb', u'\\u8ca1\\u653f\\u5b78',\n",
        "       u'\\u8cb7\\u8ce3', u'\\u8cc7\\u672c\\u5316', u'\\u8cc7\\u7522', u'\\u8ddf',\n",
        "       u'\\u8f49\\u9304', u'\\u904b\\u52d5', u'\\u9078\\u64c7',\n",
        "       u'\\u9078\\u64c7\\u984c', u'\\u90dd\\u8a9e', u'\\u912d\\u4e01\\u65fa',\n",
        "       u'\\u91cf\\u5b50', u'\\u91cf\\u5b50\\u529b\\u5b78', u'\\u91d1',\n",
        "       u'\\u9304\\u97f3', u'\\u95dc\\u4fc2', u'\\u96fb\\u5834', u'\\u96fb\\u5b50',\n",
        "       u'\\u96fb\\u78c1\\u5b78', u'\\u96fb\\u78c1\\u6ce2', u'\\u975e',\n",
        "       u'\\u9762\\u8a66', u'\\u9ad8\\u4e2d', u'\\u9ad8\\u6703', u'\\u9ad8\\u8003',\n",
        "       u'\\uff01', u'\\uff08', u'\\uff09', u'\\uff1a'], \n",
        "      dtype='<U27')"
       ]
      }
     ],
     "prompt_number": 13
    },
    {
     "cell_type": "code",
     "collapsed": false,
     "input": [
      "print \"/ \".join(((test_sdtm.summarize_sdtm() > 130) & (test_sdtm.summarize_sdtm() < 400))._filtered_terms)"
     ],
     "language": "python",
     "metadata": {},
     "outputs": [
      {
       "output_type": "stream",
       "stream": "stdout",
       "text": [
        "&/ +/ ../ ..../ 1/ 2/ 2012/ 97/ 98/ =/ AICPA/ CD/ CPA/ Fw/ IFRS/ \u2026/ \u3000/ \u300c/ \u300d/ \u4e00\u4e0b/ \u4e00\u4e9b/ \u4e00\u554f/ \u4e00\u984c/ \u4e0a/ \u4e0a\u4e0b\u518a/ \u4e0a\u9054/ \u4e0b/ \u4e0d/ \u4e0d\u6703/ \u4e86/ \u4ea4\u6cd5/ \u4eba/ \u4eca\u5e74/ \u5149/ \u5149\u5b78/ \u5149\u901f/ \u5169\u984c/ \u516c\u53f8/ \u516c\u53f8\u50b5/ \u516c\u53f8\u6cd5/ \u516c\u5831/ \u5206\u6790/ \u5229\u606f/ \u5230/ \u529b\u5b78/ \u52e4\u696d/ \u539f\u7406/ \u53ef\u4ee5/ \u540d\u5e2b/ \u5462/ \u56db\u5927/ \u570b/ \u5730\u7279/ \u57fa\u790e/ \u58eb/ \u5927/ \u5927\u5bb6/ \u597d\u5947/ \u5b54\u738b/ \u5b58\u8ca8/ \u5b9a\u5f8b/ \u5be6\u9a57/ \u5c0d/ \u5c0f/ \u5de5\u4f5c/ \u5deb\u6bd3\u742a/ \u5e7e\u984c/ \u5f35\u5efa\u662d/ \u5f8b\u5e2b/ \u5f8c/ \u5fb5/ \u5fb5\u624d/ \u5fb5\u66f8/ \u5fd7\u5149/ \u600e\u9ebc/ \u60c5\u5831/ \u6210\u6703/ \u6211/ \u6216/ \u6240/ \u6240\u5f97\u7a05/ \u6295\u8cc7/ \u63a8\u85a6/ \u653f\u6703/ \u65b0\u8ad6/ \u662f\u5426/ \u6642\u9593/ \u666e\u7269/ \u666e\u8003/ \u66f8/ \u6703\u5be9/ \u6709\u4eba/ \u6709\u6c92\u6709/ \u6797\u8559/ \u6a94/ \u6c38\u52dd/ \u6c42/ \u6cd5/ \u6e1b\u640d/ \u6e96\u5099/ \u70ba\u4f55/ \u71b1\u529b\u5b78/ \u7248/ \u725b\u9813/ \u7269\u7406\u7cfb/ \u7279\u5831/ \u738b/ \u73ed/ \u73fe\u91d1\u6d41\u91cf/ \u7406\u8ad6/ \u7528/ \u7591\u554f/ \u76f8\u95dc/ \u771f/ \u7814\u6240/ \u7814\u7a76/ \u7814\u7a76\u6240/ \u79df\u8cc3/ \u7a05\u52d9/ \u7b2c/ \u7b46\u8a18/ \u7ba1\u6703/ \u7ba1\u7406/ \u7c21\u55ae/ \u7f8e\u570b/ \u8003/ \u8003\u53e4\u984c/ \u8003\u984c/ \u80fd/ \u80fd\u91cf/ \u8868/ \u88dc\u7fd2\u73ed/ \u8981/ \u89c0\u5ff5/ \u8a08\u7b97/ \u8a0e\u8ad6/ \u8a18\u5e33/ \u8a66\u984c/ \u8ab2\u672c/ \u8ab2\u7a0b/ \u8acb/ \u8ca1\u653f\u5b78/ \u8cb7\u8ce3/ \u8cc7\u672c\u5316/ \u8cc7\u7522/ \u8ddf/ \u8f49\u9304/ \u904b\u52d5/ \u9078\u64c7/ \u9078\u64c7\u984c/ \u90dd\u8a9e/ \u912d\u4e01\u65fa/ \u91cf\u5b50/ \u91cf\u5b50\u529b\u5b78/ \u91d1/ \u9304\u97f3/ \u95dc\u4fc2/ \u96fb\u5834/ \u96fb\u5b50/ \u96fb\u78c1\u5b78/ \u96fb\u78c1\u6ce2/ \u975e/ \u9762\u8a66/ \u9ad8\u4e2d/ \u9ad8\u6703/ \u9ad8\u8003/ \uff01/ \uff08/ \uff09/ \uff1a\n"
       ]
      }
     ],
     "prompt_number": 14
    },
    {
     "cell_type": "code",
     "collapsed": false,
     "input": [
      "print \"/ \".join((test_sdtm.summarize_sdtm() > 500)._filtered_terms)"
     ],
     "language": "python",
     "metadata": {},
     "outputs": [
      {
       "output_type": "stream",
       "stream": "stdout",
       "text": [
        " / !/ \"/ (/ )/ -/ .../ // 100/ 101/ :/ ?/ DVD/ Re/ [/ ]/ ~/ \u3001/ \u4e00/ \u4e2d/ \u4e2d\u6703/ \u4e2d\u7d1a/ \u4e8b\u52d9\u6240/ \u4ec0\u9ebc/ \u51fa\u552e/ \u51fd\u6388/ \u548c/ \u552e\u66f8/ \u554f\u984c/ \u55ce/ \u5728/ \u5be9\u8a08/ \u5e74/ \u5fb5\u6c42/ \u6210\u7ba1\u6703/ \u65b0\u805e/ \u662f/ \u66f8\u7c4d/ \u6703/ \u6703\u8a08/ \u6703\u8a08\u5b78/ \u6703\u8a08\u5e2b/ \u6709/ \u6709\u95dc/ \u7269\u7406/ \u7528\u66f8/ \u7684/ \u8001\u5e2b/ \u8003\u8a66/ \u8207/ \u8acb\u554f/ \u8acb\u6559/ \u8acb\u76ca/ \u90dd\u5f37/ \u9592\u804a/ \u95dc\u65bc/ \u984c/ \u984c\u5eab/ \u984c\u76ee/ \u9ad8/ \u9ad8\u9ede/ \uff0c/ \uff1f\n"
       ]
      }
     ],
     "prompt_number": 15
    },
    {
     "cell_type": "code",
     "collapsed": false,
     "input": [
      "(test_sdtm.summarize_sdtm() > 500)"
     ],
     "language": "python",
     "metadata": {},
     "outputs": [
      {
       "metadata": {},
       "output_type": "pyout",
       "prompt_number": 16,
       "text": [
        "{'summary_data': array([ True,  True,  True, ..., False, False, False], dtype=bool),\n",
        " 'terms_idx': array([u' ', u'!', u'\"', ..., u'\\uff51', u'\\uff53', u'\\uff5e'], \n",
        "       dtype='<U27')}"
       ]
      }
     ],
     "prompt_number": 16
    },
    {
     "cell_type": "code",
     "collapsed": false,
     "input": [],
     "language": "python",
     "metadata": {},
     "outputs": []
    }
   ],
   "metadata": {}
  }
 ]
}