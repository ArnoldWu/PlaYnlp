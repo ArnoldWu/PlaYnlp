{
 "metadata": {
  "name": ""
 },
 "nbformat": 3,
 "nbformat_minor": 0,
 "worksheets": [
  {
   "cells": [
    {
     "cell_type": "code",
     "collapsed": false,
     "input": [
      "from pymongo import MongoClient\n",
      "mongo_client = MongoClient()\n",
      "ptt_crawler_db = mongo_client.ptt_crawler_db\n",
      "ptt_article = ptt_crawler_db.ptt_article\n",
      "ptt_article_push = ptt_crawler_db.ptt_article_push"
     ],
     "language": "python",
     "metadata": {},
     "outputs": [],
     "prompt_number": 1
    },
    {
     "cell_type": "code",
     "collapsed": false,
     "input": [
      "import pandas as pd \n",
      "\n",
      "# articles_df = pd.DataFrame(list(ptt_article.find({})))\n",
      "articles_df = pd.DataFrame(list(ptt_article.find({\"Board\":{\"$in\":[\"Accounting\",'Physics']}})))"
     ],
     "language": "python",
     "metadata": {},
     "outputs": [],
     "prompt_number": 2
    },
    {
     "cell_type": "code",
     "collapsed": false,
     "input": [
      "import PlaYnlp.tokenizer as tkr\n",
      "import PlaYnlp._vectorizer as vcr"
     ],
     "language": "python",
     "metadata": {},
     "outputs": [],
     "prompt_number": 3
    },
    {
     "cell_type": "code",
     "collapsed": false,
     "input": [
      "print articles_df.shape\n",
      "articles_df.head()"
     ],
     "language": "python",
     "metadata": {},
     "outputs": [
      {
       "output_type": "stream",
       "stream": "stdout",
       "text": [
        "(37122, 9)\n"
       ]
      },
      {
       "html": [
        "<div style=\"max-height:1000px;max-width:1500px;overflow:auto;\">\n",
        "<table border=\"1\" class=\"dataframe\">\n",
        "  <thead>\n",
        "    <tr style=\"text-align: right;\">\n",
        "      <th></th>\n",
        "      <th>Board</th>\n",
        "      <th>_id</th>\n",
        "      <th>text</th>\n",
        "      <th>time</th>\n",
        "      <th>title</th>\n",
        "      <th>url</th>\n",
        "      <th>user</th>\n",
        "      <th>user_id</th>\n",
        "      <th>user_nickname</th>\n",
        "    </tr>\n",
        "  </thead>\n",
        "  <tbody>\n",
        "    <tr>\n",
        "      <th>0</th>\n",
        "      <td> Accounting</td>\n",
        "      <td> 52f223db74798d7e7bbe9965</td>\n",
        "      <td>   \\n102\u5e74\u8d85\u7d1a\u51fd\u6388CD\u7248\\n\\n\u9ad8\u6703(\u856d\u9756) \u6b32\u552e$2500 NT\\n\\n\u516c\u53f8\u6cd5(\u8463\u8b19...</td>\n",
        "      <td> Wed Feb  5 13:48:58 2014</td>\n",
        "      <td>             [\u51fa\u552e] 102\u5e74\u8d85\u7d1a\u51fd\u6388 \u9ad8\u6703\u3001\u516c\u53f8\u6cd5</td>\n",
        "      <td> http://www.ptt.cc/bbs/Accounting/M.1391579341....</td>\n",
        "      <td>           sunnykiller (\u5929\u7c5f\u4e4b\u8072)</td>\n",
        "      <td>  sunnykiller</td>\n",
        "      <td> \u5929\u7c5f\u4e4b\u8072</td>\n",
        "    </tr>\n",
        "    <tr>\n",
        "      <th>1</th>\n",
        "      <td> Accounting</td>\n",
        "      <td> 52f223db74798d7e78be9965</td>\n",
        "      <td>   \\n\u5982\u6a19\u984c\\n\u5269\u4e0b\u4e00\u6b21\u6388\u6b0a\u5373\u53ef\\n\u8b1b\u7fa9\u6211\u6709\\n\u4f46\u662f\u7f3a\u7b46\u8a18\\n\u5982\u679c\u9858\u610f\u8ce3\u7b46\u8a18\u4e5fOK\\n\\n...</td>\n",
        "      <td> Wed Feb  5 14:44:15 2014</td>\n",
        "      <td>               [\u5fb5\u6c42]\u5f90\u9326\u83ef\u9ad8\u6703DVD or \u8b1b\u7fa9</td>\n",
        "      <td> http://www.ptt.cc/bbs/Accounting/M.1391582662....</td>\n",
        "      <td> JilSander (Doer brokenheart)</td>\n",
        "      <td>    JilSander</td>\n",
        "      <td>  Doe</td>\n",
        "    </tr>\n",
        "    <tr>\n",
        "      <th>2</th>\n",
        "      <td> Accounting</td>\n",
        "      <td> 52f223db74798d7e76be9965</td>\n",
        "      <td>   \\n\u203b \u5f15\u8ff0\u300aflora713 (pretty world)\u300b\u4e4b\u9298\u8a00\uff1a: 1. \u51fa\u552e\uff1a\u5fd7...</td>\n",
        "      <td> Wed Feb  5 16:47:30 2014</td>\n",
        "      <td> Re: [\u51fa\u552e/\u8d08\u9001] \u5fd7\u5149\u5c0a\u69ae\u512a\u60e0\u5238/ \u8d85\u7d1a\u51fd\u6388VIP\u63a8\u85a6\u79ae\u5238</td>\n",
        "      <td> http://www.ptt.cc/bbs/Accounting/M.1391590052....</td>\n",
        "      <td>            lphotoimpact (\u6953\u96ea)</td>\n",
        "      <td> lphotoimpact</td>\n",
        "      <td>   \u6953\u96ea</td>\n",
        "    </tr>\n",
        "    <tr>\n",
        "      <th>3</th>\n",
        "      <td> Accounting</td>\n",
        "      <td> 52f223dd74798d7e7abe9965</td>\n",
        "      <td>   \\n\\n     \u521d\u6703\\n     http://goods.ruten.com.tw/...</td>\n",
        "      <td> Wed Feb  5 14:57:59 2014</td>\n",
        "      <td>      [\u552e] \u521d\u7d1a\u6703\u8a08\u5b78.\u4e2d\u7d1a\u6703\u8a08\u5b78.\u6210\u672c\u6703\u8a08 DVD+\u8b1b\u7fa9</td>\n",
        "      <td> http://www.ptt.cc/bbs/Accounting/M.1391583483....</td>\n",
        "      <td>                  ap22 (\u65cb\u8f49\u74f6\u5b50)</td>\n",
        "      <td>         ap22</td>\n",
        "      <td> \u65cb\u8f49\u74f6\u5b50</td>\n",
        "    </tr>\n",
        "    <tr>\n",
        "      <th>4</th>\n",
        "      <td>    Physics</td>\n",
        "      <td> 52f223e274798d7e76be9967</td>\n",
        "      <td>   \\n\u6628\u5929\u5728\uff34\uff25\uff24\u5f71\u7247\u4e2d\u770b\u5230\u4e00\u5247\u63a2\u8a0e\u591a\u7dad\u5ea6\u4e16\u754c\u7684\u7247\u5b50\uff0c\u89ba\u5f97\u5f88\u6709\u8da3\uff0c\\n\\n\\nhttp:/...</td>\n",
        "      <td> Mon Jan 27 07:29:37 2014</td>\n",
        "      <td>           [\u8acb\u76ca] \u770b\u5230\u4ee5\u591a\u7dad\u5ea6\u4e16\u754c\u70ba\u4e3b\u984c\u7684\uff34\uff25\uff24\u5f71\u7247</td>\n",
        "      <td> http://www.ptt.cc/bbs/Physics/M.1390778982.A.D...</td>\n",
        "      <td>             purestone (\u5929\u7a7a\u4e4b\u5b50)</td>\n",
        "      <td>    purestone</td>\n",
        "      <td> \u5929\u7a7a\u4e4b\u5b50</td>\n",
        "    </tr>\n",
        "  </tbody>\n",
        "</table>\n",
        "<p>5 rows \u00d7 9 columns</p>\n",
        "</div>"
       ],
       "metadata": {},
       "output_type": "pyout",
       "prompt_number": 4,
       "text": [
        "        Board                       _id  \\\n",
        "0  Accounting  52f223db74798d7e7bbe9965   \n",
        "1  Accounting  52f223db74798d7e78be9965   \n",
        "2  Accounting  52f223db74798d7e76be9965   \n",
        "3  Accounting  52f223dd74798d7e7abe9965   \n",
        "4     Physics  52f223e274798d7e76be9967   \n",
        "\n",
        "                                                text  \\\n",
        "0    \\n102\u5e74\u8d85\u7d1a\u51fd\u6388CD\u7248\\n\\n\u9ad8\u6703(\u856d\u9756) \u6b32\u552e$2500 NT\\n\\n\u516c\u53f8\u6cd5(\u8463\u8b19...   \n",
        "1    \\n\u5982\u6a19\u984c\\n\u5269\u4e0b\u4e00\u6b21\u6388\u6b0a\u5373\u53ef\\n\u8b1b\u7fa9\u6211\u6709\\n\u4f46\u662f\u7f3a\u7b46\u8a18\\n\u5982\u679c\u9858\u610f\u8ce3\u7b46\u8a18\u4e5fOK\\n\\n...   \n",
        "2    \\n\u203b \u5f15\u8ff0\u300aflora713 (pretty world)\u300b\u4e4b\u9298\u8a00\uff1a: 1. \u51fa\u552e\uff1a\u5fd7...   \n",
        "3    \\n\\n     \u521d\u6703\\n     http://goods.ruten.com.tw/...   \n",
        "4    \\n\u6628\u5929\u5728\uff34\uff25\uff24\u5f71\u7247\u4e2d\u770b\u5230\u4e00\u5247\u63a2\u8a0e\u591a\u7dad\u5ea6\u4e16\u754c\u7684\u7247\u5b50\uff0c\u89ba\u5f97\u5f88\u6709\u8da3\uff0c\\n\\n\\nhttp:/...   \n",
        "\n",
        "                       time                             title  \\\n",
        "0  Wed Feb  5 13:48:58 2014              [\u51fa\u552e] 102\u5e74\u8d85\u7d1a\u51fd\u6388 \u9ad8\u6703\u3001\u516c\u53f8\u6cd5   \n",
        "1  Wed Feb  5 14:44:15 2014                [\u5fb5\u6c42]\u5f90\u9326\u83ef\u9ad8\u6703DVD or \u8b1b\u7fa9   \n",
        "2  Wed Feb  5 16:47:30 2014  Re: [\u51fa\u552e/\u8d08\u9001] \u5fd7\u5149\u5c0a\u69ae\u512a\u60e0\u5238/ \u8d85\u7d1a\u51fd\u6388VIP\u63a8\u85a6\u79ae\u5238   \n",
        "3  Wed Feb  5 14:57:59 2014       [\u552e] \u521d\u7d1a\u6703\u8a08\u5b78.\u4e2d\u7d1a\u6703\u8a08\u5b78.\u6210\u672c\u6703\u8a08 DVD+\u8b1b\u7fa9   \n",
        "4  Mon Jan 27 07:29:37 2014            [\u8acb\u76ca] \u770b\u5230\u4ee5\u591a\u7dad\u5ea6\u4e16\u754c\u70ba\u4e3b\u984c\u7684\uff34\uff25\uff24\u5f71\u7247   \n",
        "\n",
        "                                                 url  \\\n",
        "0  http://www.ptt.cc/bbs/Accounting/M.1391579341....   \n",
        "1  http://www.ptt.cc/bbs/Accounting/M.1391582662....   \n",
        "2  http://www.ptt.cc/bbs/Accounting/M.1391590052....   \n",
        "3  http://www.ptt.cc/bbs/Accounting/M.1391583483....   \n",
        "4  http://www.ptt.cc/bbs/Physics/M.1390778982.A.D...   \n",
        "\n",
        "                           user       user_id user_nickname  \n",
        "0            sunnykiller (\u5929\u7c5f\u4e4b\u8072)   sunnykiller          \u5929\u7c5f\u4e4b\u8072  \n",
        "1  JilSander (Doer brokenheart)     JilSander           Doe  \n",
        "2             lphotoimpact (\u6953\u96ea)  lphotoimpact            \u6953\u96ea  \n",
        "3                   ap22 (\u65cb\u8f49\u74f6\u5b50)          ap22          \u65cb\u8f49\u74f6\u5b50  \n",
        "4              purestone (\u5929\u7a7a\u4e4b\u5b50)     purestone          \u5929\u7a7a\u4e4b\u5b50  \n",
        "\n",
        "[5 rows x 9 columns]"
       ]
      }
     ],
     "prompt_number": 4
    },
    {
     "cell_type": "code",
     "collapsed": false,
     "input": [
      "jieba_without_html_tokenizer = vcr.tokenize_gen(lambda text:vcr.jieba.cut(vcr.nltk.clean_html(text)))\n",
      "unigram_without_html_tokenizer = vcr.tokenize_gen(lambda text:tkr.ngram(vcr.nltk.clean_html(text),n=1))\n",
      "bigram_without_html_tokenizer = vcr.tokenize_gen(lambda text:tkr.ngram(vcr.nltk.clean_html(text),n=2))"
     ],
     "language": "python",
     "metadata": {},
     "outputs": [],
     "prompt_number": 5
    },
    {
     "cell_type": "code",
     "collapsed": false,
     "input": [
      "jieba_vec_count_kwargs = {\"tokenizer\":jieba_without_html_tokenizer,\"lowercase\":False}\n",
      "unigram_vec_count_kwargs = {\"tokenizer\":unigram_without_html_tokenizer,\"lowercase\":False}\n",
      "bigram_vec_count_kwargs = {\"tokenizer\":bigram_without_html_tokenizer,\"lowercase\":False}"
     ],
     "language": "python",
     "metadata": {},
     "outputs": [],
     "prompt_number": 6
    },
    {
     "cell_type": "code",
     "collapsed": false,
     "input": [
      "jieba_text2vec = vcr.vectorize_text(df=articles_df,\n",
      "                                    colname=\"title\",\n",
      "                                    query={}, \n",
      "                                    vect_gen=vcr.CountVectorizer, \n",
      "                                    vect_gen_init_kwargs = jieba_vec_count_kwargs)\n"
     ],
     "language": "python",
     "metadata": {},
     "outputs": [
      {
       "output_type": "stream",
       "stream": "stderr",
       "text": [
        "Building Trie..., from /usr/local/lib/python2.7/dist-packages/jieba/dict.txt\n",
        "dumping model to file cache /tmp/jieba.cache"
       ]
      },
      {
       "output_type": "stream",
       "stream": "stderr",
       "text": [
        "\n",
        "loading model cost "
       ]
      },
      {
       "output_type": "stream",
       "stream": "stderr",
       "text": [
        " 5.60757613182 seconds.\n",
        "Trie has been built succesfully.\n"
       ]
      }
     ],
     "prompt_number": 7
    },
    {
     "cell_type": "code",
     "collapsed": false,
     "input": [
      "import numpy as np\n",
      "\n",
      "\n",
      "class SparseSparseDataFrameSummary(dict):\n",
      "    \n",
      "    def __init__(self, summary_data, summary_idx, sdf=None):\n",
      "        self[\"summary_data\"] = summary_data\n",
      "        self[\"summary_idx\"] = summary_idx\n",
      "        \n",
      "        if sdf != None:\n",
      "            self[\"sdf\"] = sdf\n",
      "            \n",
      "        \n",
      "    def __lt__(self, upper_bound):\n",
      "        return type(self)(summary_data = self[\"summary_data\"] < upper_bound,\n",
      "                          summary_idx = self[\"summary_idx\"],\n",
      "                          sdf = self[\"sdf\"])\n",
      "    \n",
      "    def __le__(self, upper_bound):\n",
      "        return type(self)(summary_data = self[\"summary_data\"] <= upper_bound,\n",
      "                          summary_idx = self[\"summary_idx\"],\n",
      "                          sdf = self[\"sdf\"])\n",
      "    \n",
      "    def __gt__(self, lower_bound):\n",
      "        return type(self)(summary_data = self[\"summary_data\"] > lower_bound,\n",
      "                          summary_idx = self[\"summary_idx\"],\n",
      "                          sdf = self[\"sdf\"])\n",
      "        \n",
      "    def __ge__(self, lower_bound):\n",
      "        return type(self)(summary_data = self[\"summary_data\"] > lower_bound,\n",
      "                              summary_idx = self[\"summary_idx\"],\n",
      "                              sdf = self[\"sdf\"])\n",
      "    \n",
      "    \n",
      "    def __and__(self, other_summary):\n",
      "        assert isinstance(other_summary, type(self))\n",
      "        assert np.array_equal(self[\"summary_idx\"],other_summary[\"summary_idx\"])\n",
      "        assert self['summary_data'].dtype == np.bool\n",
      "        assert other_summary['summary_data'].dtype == np.bool\n",
      "        \n",
      "        return type(self)(summary_data = self[\"summary_data\"] &  other_summary['summary_data'],\n",
      "                          summary_idx = self[\"summary_idx\"],\n",
      "                          sdf = self[\"sdf\"])\n",
      "        \n",
      "    @property\n",
      "    def _is_bool(self):\n",
      "        return self['summary_data'].dtype == np.bool\n",
      "    \n",
      "    @property\n",
      "    def _has_sdf(self):\n",
      "        return \"sdf\" in self.keys()\n",
      "    \n",
      "    @property\n",
      "    def _filtered_summary_idx(self):\n",
      "        assert self._is_bool\n",
      "        \n",
      "        return self[\"summary_idx\"][self['summary_data']]\n",
      "        \n",
      "    @property\n",
      "    def _sub_sdf(self):\n",
      "        assert self._is_bool and self._has_sdf\n",
      "        \n",
      "        if self[\"sdf\"].is_matched_col_shape(self['summary_data']):        \n",
      "            return self[\"sdf\"].sub_sdf(select_col = self['summary_data'])\n",
      "        \n",
      "        if self[\"sdf\"].is_matched_row_shape(self['summary_data']):        \n",
      "            return self[\"sdf\"].sub_sdf(select_row = self['summary_data'])\n",
      "        \n",
      "\n",
      "\n",
      "class SparseDataFrame(dict):\n",
      "    kmapper = {\"sdtm\":\"smatrix\"}\n",
      "    \n",
      "    def __init__(self, smatrix, col_idx=None, row_idx=None):\n",
      "        self[\"smatrix\"] = smatrix\n",
      "        \n",
      "        if col_idx != None:\n",
      "            assert isinstance(col_idx, (list, np.ndarray))\n",
      "            \n",
      "            if isinstance(col_idx, list):\n",
      "                assert self[\"smatrix\"].shape[1] == len(col_idx)\n",
      "                self[\"col_idx\"] = np.array(col_idx)\n",
      "                \n",
      "            else:\n",
      "                assert self[\"smatrix\"].shape[1] == col_idx.shape[0]\n",
      "                self[\"col_idx\"] = np.array(col_idx)\n",
      "        else:\n",
      "            self[\"col_idx\"] = np.arange(self[\"smatrix\"].shape[1])\n",
      "            \n",
      "            \n",
      "                \n",
      "        if row_idx != None:\n",
      "            assert isinstance(row_idx, (list, np.ndarray))\n",
      "            \n",
      "            if isinstance(row_idx, list):\n",
      "                assert self[\"smatrix\"].shape[0] == len(row_idx)\n",
      "                self[\"row_idx\"] = np.array(row_idx)\n",
      "                \n",
      "            else:\n",
      "                assert self[\"smatrix\"].shape[0] == row_idx.shape[0]\n",
      "                self[\"row_idx\"] = np.array(row_idx)\n",
      "                \n",
      "        else:\n",
      "            self[\"row_idx\"] = np.arange(self[\"smatrix\"].shape[0])\n",
      "    \n",
      "    \n",
      "    \n",
      "    def __getattr__(self, key):\n",
      "        \n",
      "        if key.startswith(\"_\") and key[1:] in self.keys():\n",
      "            return self[key[1:]]\n",
      "        else:\n",
      "            \n",
      "            if key.startswith(\"_\") and key[1:] in self.kmapper.keys() and self.kmapper[key[1:]] in self.keys():\n",
      "                return self[self.kmapper[key[1:]]]\n",
      "            else:\n",
      "                return None\n",
      "        \n",
      "#     @property\n",
      "#     def _smatrix(self):\n",
      "#         return self[\"smatrix\"]\n",
      "    \n",
      "#     @property\n",
      "#     def _col_idx(self):\n",
      "#         return self[\"col_idx\"]\n",
      "    \n",
      "#     @property\n",
      "#     def _row_idx(self):\n",
      "#         return self[\"row_idx\"]\n",
      "\n",
      "    @property\n",
      "    def T(self):\n",
      "        tr_sdf = type(self)(smatrix = self[\"smatrix\"].T,\n",
      "                            col_idx = self[\"row_idx\"],\n",
      "                            row_idx = self[\"col_idx\"])\n",
      "        return tr_sdf\n",
      "    \n",
      "    \n",
      "    def summarize_sdf(self, summarizer=lambda xx:xx.sum(axis=0)):\n",
      "    \n",
      "        summary_data = summarizer(self[\"smatrix\"])\n",
      "        \n",
      "        if len(summary_data.shape) == 1:\n",
      "            _summary_data = summary_data\n",
      "        else:\n",
      "            assert len(summary_data.shape) == 2\n",
      "            assert summary_data.shape[0] == 1 or summary_data.shape[1] == 1\n",
      "            \n",
      "            if summary_data.shape[0] == 1:\n",
      "                _summary_data = np.array(summary_data)[0,:]\n",
      "            else:\n",
      "                _summary_data = np.array(summary_data)[:,0]\n",
      "            \n",
      "        \n",
      "        if _summary_data.shape[0] == self[\"smatrix\"].shape[0]:\n",
      "            return SparseSparseDataFrameSummary(summary_data = _summary_data,\n",
      "                                                summary_idx = self[\"row_idx\"],\n",
      "                                                sdf = self)\n",
      "            \n",
      "        if _summary_data.shape[0] == self[\"smatrix\"].shape[1]:\n",
      "            return SparseSparseDataFrameSummary(summary_data = _summary_data,\n",
      "                                                summary_idx = self[\"col_idx\"],\n",
      "                                                sdf = self)\n",
      "\n",
      "        \n",
      "    def sub_sdf(self, select_col = None, select_row = None):\n",
      "        \n",
      "        if select_col != None:\n",
      "            _select_col_idx = select_col\n",
      "        else:\n",
      "            _select_col_idx = np.arange(len(self[\"col_idx\"]))\n",
      "\n",
      "        new_col_idx = self[\"col_idx\"][_select_col_idx]\n",
      "        \n",
      "        if select_row != None:\n",
      "            _select_row_idx = select_row\n",
      "        else:\n",
      "            _select_row_idx = np.arange(len(self[\"row_idx\"]))\n",
      "\n",
      "        new_row_idx = self[\"row_idx\"][_select_row_idx]\n",
      "        \n",
      "        new_smatrix = self[\"smatrix\"][_select_row_idx,:][:,_select_col_idx]\n",
      "        \n",
      "        return type(self)(smatrix = new_smatrix,\n",
      "                          col_idx = new_col_idx,\n",
      "                          row_idx = new_row_idx)\n",
      "    \n",
      "    \n",
      "    def is_matched_col_shape(self, vec):\n",
      "        if isinstance(vec, list):\n",
      "            return len(vec) == self[\"smatrix\"].shape[1]\n",
      "        \n",
      "        if isinstance(vec, np.ndarray):\n",
      "            assert len(vec.shape) == 1\n",
      "            return vec.shape[0] == self[\"smatrix\"].shape[1]\n",
      "        \n",
      "    def is_matched_row_shape(self,vec):\n",
      "        if isinstance(vec, list):\n",
      "            return len(vec) == self[\"smatrix\"].shape[0]\n",
      "        \n",
      "        if isinstance(vec, np.ndarray):\n",
      "            assert len(vec.shape) == 1\n",
      "            return vec.shape[0] == self[\"smatrix\"].shape[0]\n",
      "            \n",
      "        \n",
      "    def is_col_vec(self,vec):\n",
      "        return self.is_matched_row_shape(vec)\n",
      "        \n",
      "        \n",
      "    def is_row_vec(self,vec):\n",
      "        return self.is_matched_col_shape(vec)\n",
      "        \n",
      "        \n",
      "        "
     ],
     "language": "python",
     "metadata": {},
     "outputs": [],
     "prompt_number": 145
    },
    {
     "cell_type": "code",
     "collapsed": false,
     "input": [
      "test_sdf = SparseDataFrame(jieba_text2vec[\"sdtm\"], \n",
      "                            col_idx = jieba_text2vec[\"vec\"].get_feature_names(),\n",
      "                            row_idx = articles_df[\"url\"].values)"
     ],
     "language": "python",
     "metadata": {},
     "outputs": [],
     "prompt_number": 146
    },
    {
     "cell_type": "code",
     "collapsed": false,
     "input": [
      "test_sdf._smatrix"
     ],
     "language": "python",
     "metadata": {},
     "outputs": [
      {
       "metadata": {},
       "output_type": "pyout",
       "prompt_number": 147,
       "text": [
        "<37122x16356 sparse matrix of type '<type 'numpy.int64'>'\n",
        "\twith 364299 stored elements in Compressed Sparse Column format>"
       ]
      }
     ],
     "prompt_number": 147
    },
    {
     "cell_type": "code",
     "collapsed": false,
     "input": [
      "test_sdf._col_idx"
     ],
     "language": "python",
     "metadata": {},
     "outputs": [
      {
       "metadata": {},
       "output_type": "pyout",
       "prompt_number": 148,
       "text": [
        "array([u' ', u'!', u'\"', ..., u'\\uff51', u'\\uff53', u'\\uff5e'], \n",
        "      dtype='<U27')"
       ]
      }
     ],
     "prompt_number": 148
    },
    {
     "cell_type": "code",
     "collapsed": false,
     "input": [
      "test_sdf._row_idx"
     ],
     "language": "python",
     "metadata": {},
     "outputs": [
      {
       "metadata": {},
       "output_type": "pyout",
       "prompt_number": 149,
       "text": [
        "array([u'http://www.ptt.cc/bbs/Accounting/M.1391579341.A.20A.html',\n",
        "       u'http://www.ptt.cc/bbs/Accounting/M.1391582662.A.8A1.html',\n",
        "       u'http://www.ptt.cc/bbs/Accounting/M.1391590052.A.364.html', ...,\n",
        "       u'http://www.ptt.cc/bbs/Accounting/M.1388857344.A.617.html',\n",
        "       u'http://www.ptt.cc/bbs/Accounting/M.1388937222.A.D5F.html',\n",
        "       u'http://www.ptt.cc/bbs/Accounting/M.1389000970.A.662.html'], dtype=object)"
       ]
      }
     ],
     "prompt_number": 149
    },
    {
     "cell_type": "code",
     "collapsed": false,
     "input": [
      "print test_sdf.smatrix\n",
      "print test_sdf.col_idx\n",
      "print test_sdf.row_idx"
     ],
     "language": "python",
     "metadata": {},
     "outputs": [
      {
       "output_type": "stream",
       "stream": "stdout",
       "text": [
        "None\n",
        "None\n",
        "None\n"
       ]
      }
     ],
     "prompt_number": 150
    },
    {
     "cell_type": "code",
     "collapsed": false,
     "input": [
      "test_sdf._sdtm"
     ],
     "language": "python",
     "metadata": {},
     "outputs": [
      {
       "metadata": {},
       "output_type": "pyout",
       "prompt_number": 151,
       "text": [
        "<37122x16356 sparse matrix of type '<type 'numpy.int64'>'\n",
        "\twith 364299 stored elements in Compressed Sparse Column format>"
       ]
      }
     ],
     "prompt_number": 151
    },
    {
     "cell_type": "code",
     "collapsed": false,
     "input": [
      "test_sdf.summarize_sdf() < 40"
     ],
     "language": "python",
     "metadata": {},
     "outputs": [
      {
       "metadata": {},
       "output_type": "pyout",
       "prompt_number": 152,
       "text": [
        "{'sdf': {'col_idx': array([u' ', u'!', u'\"', ..., u'\\uff51', u'\\uff53', u'\\uff5e'], \n",
        "        dtype='<U27'),\n",
        "  'row_idx': array([u'http://www.ptt.cc/bbs/Accounting/M.1391579341.A.20A.html',\n",
        "         u'http://www.ptt.cc/bbs/Accounting/M.1391582662.A.8A1.html',\n",
        "         u'http://www.ptt.cc/bbs/Accounting/M.1391590052.A.364.html', ...,\n",
        "         u'http://www.ptt.cc/bbs/Accounting/M.1388857344.A.617.html',\n",
        "         u'http://www.ptt.cc/bbs/Accounting/M.1388937222.A.D5F.html',\n",
        "         u'http://www.ptt.cc/bbs/Accounting/M.1389000970.A.662.html'], dtype=object),\n",
        "  'smatrix': <37122x16356 sparse matrix of type '<type 'numpy.int64'>'\n",
        "  \twith 364299 stored elements in Compressed Sparse Column format>},\n",
        " 'summary_data': array([False, False, False, ...,  True,  True, False], dtype=bool),\n",
        " 'summary_idx': array([u' ', u'!', u'\"', ..., u'\\uff51', u'\\uff53', u'\\uff5e'], \n",
        "       dtype='<U27')}"
       ]
      }
     ],
     "prompt_number": 152
    },
    {
     "cell_type": "code",
     "collapsed": false,
     "input": [
      "((test_sdf.summarize_sdf() > 5) & (test_sdf.summarize_sdf() < 400))._filtered_summary_idx"
     ],
     "language": "python",
     "metadata": {},
     "outputs": [
      {
       "metadata": {},
       "output_type": "pyout",
       "prompt_number": 153,
       "text": [
        "array([u'#', u'$', u'%', ..., u'\\uff24', u'\\uff3d', u'\\uff5e'], \n",
        "      dtype='<U27')"
       ]
      }
     ],
     "prompt_number": 153
    },
    {
     "cell_type": "code",
     "collapsed": false,
     "input": [
      "((test_sdf.summarize_sdf() > 5) & (test_sdf.summarize_sdf() < 400))"
     ],
     "language": "python",
     "metadata": {},
     "outputs": [
      {
       "metadata": {},
       "output_type": "pyout",
       "prompt_number": 154,
       "text": [
        "{'sdf': {'col_idx': array([u' ', u'!', u'\"', ..., u'\\uff51', u'\\uff53', u'\\uff5e'], \n",
        "        dtype='<U27'),\n",
        "  'row_idx': array([u'http://www.ptt.cc/bbs/Accounting/M.1391579341.A.20A.html',\n",
        "         u'http://www.ptt.cc/bbs/Accounting/M.1391582662.A.8A1.html',\n",
        "         u'http://www.ptt.cc/bbs/Accounting/M.1391590052.A.364.html', ...,\n",
        "         u'http://www.ptt.cc/bbs/Accounting/M.1388857344.A.617.html',\n",
        "         u'http://www.ptt.cc/bbs/Accounting/M.1388937222.A.D5F.html',\n",
        "         u'http://www.ptt.cc/bbs/Accounting/M.1389000970.A.662.html'], dtype=object),\n",
        "  'smatrix': <37122x16356 sparse matrix of type '<type 'numpy.int64'>'\n",
        "  \twith 364299 stored elements in Compressed Sparse Column format>},\n",
        " 'summary_data': array([False, False, False, ..., False, False,  True], dtype=bool),\n",
        " 'summary_idx': array([u' ', u'!', u'\"', ..., u'\\uff51', u'\\uff53', u'\\uff5e'], \n",
        "       dtype='<U27')}"
       ]
      }
     ],
     "prompt_number": 154
    },
    {
     "cell_type": "code",
     "collapsed": false,
     "input": [
      "((test_sdf.summarize_sdf() > 5) & (test_sdf.summarize_sdf() < 400))._sub_sdf"
     ],
     "language": "python",
     "metadata": {},
     "outputs": [
      {
       "metadata": {},
       "output_type": "pyout",
       "prompt_number": 157,
       "text": [
        "{'col_idx': array([u'#', u'$', u'%', ..., u'\\uff24', u'\\uff3d', u'\\uff5e'], \n",
        "       dtype='<U27'),\n",
        " 'row_idx': array([u'http://www.ptt.cc/bbs/Accounting/M.1391579341.A.20A.html',\n",
        "        u'http://www.ptt.cc/bbs/Accounting/M.1391582662.A.8A1.html',\n",
        "        u'http://www.ptt.cc/bbs/Accounting/M.1391590052.A.364.html', ...,\n",
        "        u'http://www.ptt.cc/bbs/Accounting/M.1388857344.A.617.html',\n",
        "        u'http://www.ptt.cc/bbs/Accounting/M.1388937222.A.D5F.html',\n",
        "        u'http://www.ptt.cc/bbs/Accounting/M.1389000970.A.662.html'], dtype=object),\n",
        " 'smatrix': <37122x3653 sparse matrix of type '<type 'numpy.int64'>'\n",
        " \twith 113608 stored elements in Compressed Sparse Column format>}"
       ]
      }
     ],
     "prompt_number": 157
    },
    {
     "cell_type": "code",
     "collapsed": false,
     "input": [
      "((test_sdf.summarize_sdf() > 5) & (test_sdf.summarize_sdf() < 400))._sub_sdf.T"
     ],
     "language": "python",
     "metadata": {},
     "outputs": [
      {
       "metadata": {},
       "output_type": "pyout",
       "prompt_number": 158,
       "text": [
        "{'col_idx': array([u'http://www.ptt.cc/bbs/Accounting/M.1391579341.A.20A.html',\n",
        "        u'http://www.ptt.cc/bbs/Accounting/M.1391582662.A.8A1.html',\n",
        "        u'http://www.ptt.cc/bbs/Accounting/M.1391590052.A.364.html', ...,\n",
        "        u'http://www.ptt.cc/bbs/Accounting/M.1388857344.A.617.html',\n",
        "        u'http://www.ptt.cc/bbs/Accounting/M.1388937222.A.D5F.html',\n",
        "        u'http://www.ptt.cc/bbs/Accounting/M.1389000970.A.662.html'], dtype=object),\n",
        " 'row_idx': array([u'#', u'$', u'%', ..., u'\\uff24', u'\\uff3d', u'\\uff5e'], \n",
        "       dtype='<U27'),\n",
        " 'smatrix': <3653x37122 sparse matrix of type '<type 'numpy.int64'>'\n",
        " \twith 113608 stored elements in Compressed Sparse Row format>}"
       ]
      }
     ],
     "prompt_number": 158
    },
    {
     "cell_type": "code",
     "collapsed": false,
     "input": [
      "((test_sdf.summarize_sdf() > 5) & (test_sdf.summarize_sdf() < 400))._sub_sdf.T.summarize_sdf()"
     ],
     "language": "python",
     "metadata": {},
     "outputs": [
      {
       "metadata": {},
       "output_type": "pyout",
       "prompt_number": 159,
       "text": [
        "{'sdf': {'col_idx': array([u'http://www.ptt.cc/bbs/Accounting/M.1391579341.A.20A.html',\n",
        "         u'http://www.ptt.cc/bbs/Accounting/M.1391582662.A.8A1.html',\n",
        "         u'http://www.ptt.cc/bbs/Accounting/M.1391590052.A.364.html', ...,\n",
        "         u'http://www.ptt.cc/bbs/Accounting/M.1388857344.A.617.html',\n",
        "         u'http://www.ptt.cc/bbs/Accounting/M.1388937222.A.D5F.html',\n",
        "         u'http://www.ptt.cc/bbs/Accounting/M.1389000970.A.662.html'], dtype=object),\n",
        "  'row_idx': array([u'#', u'$', u'%', ..., u'\\uff24', u'\\uff3d', u'\\uff5e'], \n",
        "        dtype='<U27'),\n",
        "  'smatrix': <3653x37122 sparse matrix of type '<type 'numpy.int64'>'\n",
        "  \twith 113608 stored elements in Compressed Sparse Row format>},\n",
        " 'summary_data': array([2, 4, 7, ..., 4, 4, 5]),\n",
        " 'summary_idx': array([u'http://www.ptt.cc/bbs/Accounting/M.1391579341.A.20A.html',\n",
        "        u'http://www.ptt.cc/bbs/Accounting/M.1391582662.A.8A1.html',\n",
        "        u'http://www.ptt.cc/bbs/Accounting/M.1391590052.A.364.html', ...,\n",
        "        u'http://www.ptt.cc/bbs/Accounting/M.1388857344.A.617.html',\n",
        "        u'http://www.ptt.cc/bbs/Accounting/M.1388937222.A.D5F.html',\n",
        "        u'http://www.ptt.cc/bbs/Accounting/M.1389000970.A.662.html'], dtype=object)}"
       ]
      }
     ],
     "prompt_number": 159
    },
    {
     "cell_type": "code",
     "collapsed": false,
     "input": [],
     "language": "python",
     "metadata": {},
     "outputs": []
    },
    {
     "cell_type": "markdown",
     "metadata": {},
     "source": [
      "https://www.inkling.com/read/learning-python-mark-lutz-4th/chapter-29/indexing-and-slicing---getitem-"
     ]
    },
    {
     "cell_type": "code",
     "collapsed": false,
     "input": [
      "range(10)[slice(None,5)]"
     ],
     "language": "python",
     "metadata": {},
     "outputs": [
      {
       "metadata": {},
       "output_type": "pyout",
       "prompt_number": 9,
       "text": [
        "[0, 1, 2, 3, 4]"
       ]
      }
     ],
     "prompt_number": 9
    },
    {
     "cell_type": "code",
     "collapsed": false,
     "input": [
      "class Test(dict):\n",
      "    def __getattr__(self,name):\n",
      "        return self[name]"
     ],
     "language": "python",
     "metadata": {},
     "outputs": [],
     "prompt_number": 10
    },
    {
     "cell_type": "code",
     "collapsed": false,
     "input": [
      "test = Test()\n",
      "test[\"abc\"] = 123\n",
      "test[\"bc\"] = \"123r432r\"\n",
      "print test.abc\n",
      "print test.bc\n"
     ],
     "language": "python",
     "metadata": {},
     "outputs": [
      {
       "output_type": "stream",
       "stream": "stdout",
       "text": [
        "123\n",
        "123r432r\n"
       ]
      }
     ],
     "prompt_number": 11
    },
    {
     "cell_type": "code",
     "collapsed": false,
     "input": [],
     "language": "python",
     "metadata": {},
     "outputs": [],
     "prompt_number": 11
    },
    {
     "cell_type": "code",
     "collapsed": false,
     "input": [],
     "language": "python",
     "metadata": {},
     "outputs": [],
     "prompt_number": 12
    }
   ],
   "metadata": {}
  }
 ]
}