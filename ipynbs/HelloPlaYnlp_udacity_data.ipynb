{
 "metadata": {
  "name": ""
 },
 "nbformat": 3,
 "nbformat_minor": 0,
 "worksheets": [
  {
   "cells": [
    {
     "cell_type": "code",
     "collapsed": false,
     "input": [
      "%matplotlib inline"
     ],
     "language": "python",
     "metadata": {},
     "outputs": [],
     "prompt_number": 1
    },
    {
     "cell_type": "code",
     "collapsed": false,
     "input": [
      "import matplotlib.pylab as pylab\n",
      "pylab.rcParams['figure.figsize'] = 16, 12\n",
      "\n",
      "from matplotlib.font_manager import FontProperties\n",
      "cfont = FontProperties(fname=\"/usr/share/fonts/truetype/wqy/wqy-zenhei.ttc\", size = 14)"
     ],
     "language": "python",
     "metadata": {},
     "outputs": [],
     "prompt_number": 2
    },
    {
     "cell_type": "markdown",
     "metadata": {},
     "source": [
      "# Import tkr and vcr from PlaYnlp"
     ]
    },
    {
     "cell_type": "code",
     "collapsed": false,
     "input": [
      "import PlaYnlp.tokenizer as tkr \n",
      "import PlaYnlp.vectorizer as vcr \n",
      "import numpy as np\n",
      "import scipy as sp"
     ],
     "language": "python",
     "metadata": {},
     "outputs": [],
     "prompt_number": 3
    },
    {
     "cell_type": "markdown",
     "metadata": {},
     "source": [
      "# Initialize jieba, unigram, bigram tokenizer "
     ]
    },
    {
     "cell_type": "code",
     "collapsed": false,
     "input": [
      "jieba_without_html_tokenizer = tkr.tokenize_gen(lambda text:tkr.jieba.cut(tkr.nltk.clean_html(text)))\n",
      "unigram_without_html_tokenizer = tkr.tokenize_gen(lambda text:tkr.ngram(tkr.nltk.clean_html(text),n=1))\n",
      "bigram_without_html_tokenizer = tkr.tokenize_gen(lambda text:tkr.ngram(tkr.nltk.clean_html(text),n=2))"
     ],
     "language": "python",
     "metadata": {},
     "outputs": [],
     "prompt_number": 4
    },
    {
     "cell_type": "code",
     "collapsed": false,
     "input": [
      "jieba_vec_count_kwargs = {\"tokenizer\":jieba_without_html_tokenizer,\"lowercase\":False}\n",
      "unigram_vec_count_kwargs = {\"tokenizer\":unigram_without_html_tokenizer,\"lowercase\":False}\n",
      "bigram_vec_count_kwargs = {\"tokenizer\":bigram_without_html_tokenizer,\"lowercase\":False}"
     ],
     "language": "python",
     "metadata": {},
     "outputs": [],
     "prompt_number": 5
    },
    {
     "cell_type": "markdown",
     "metadata": {},
     "source": [
      "# Setup a testing dataframe"
     ]
    },
    {
     "cell_type": "code",
     "collapsed": false,
     "input": [
      "import pandas as pd \n",
      "test_text_df = pd.DataFrame([u\"offer is secret\",\n",
      "                             u\"click secret link\",\n",
      "                             u\"secret sports link\",\n",
      "                             u\"play sports today\",\n",
      "                             u\"went play sports\",\n",
      "                             u\"secret sport event\",\n",
      "                             u\"sports is today\",\n",
      "                             u\"sports costs money\"])\n",
      "test_text_df.columns = [\"text\"]\n",
      "test_text_df[\"class\"] = [\"spam\",\"spam\",\"spam\",\"ham\",\"ham\",\"ham\",\"ham\",\"ham\"]\n",
      "test_text_df"
     ],
     "language": "python",
     "metadata": {},
     "outputs": [
      {
       "html": [
        "<div style=\"max-height:1000px;max-width:1500px;overflow:auto;\">\n",
        "<table border=\"1\" class=\"dataframe\">\n",
        "  <thead>\n",
        "    <tr style=\"text-align: right;\">\n",
        "      <th></th>\n",
        "      <th>text</th>\n",
        "      <th>class</th>\n",
        "    </tr>\n",
        "  </thead>\n",
        "  <tbody>\n",
        "    <tr>\n",
        "      <th>0</th>\n",
        "      <td>    offer is secret</td>\n",
        "      <td> spam</td>\n",
        "    </tr>\n",
        "    <tr>\n",
        "      <th>1</th>\n",
        "      <td>  click secret link</td>\n",
        "      <td> spam</td>\n",
        "    </tr>\n",
        "    <tr>\n",
        "      <th>2</th>\n",
        "      <td> secret sports link</td>\n",
        "      <td> spam</td>\n",
        "    </tr>\n",
        "    <tr>\n",
        "      <th>3</th>\n",
        "      <td>  play sports today</td>\n",
        "      <td>  ham</td>\n",
        "    </tr>\n",
        "    <tr>\n",
        "      <th>4</th>\n",
        "      <td>   went play sports</td>\n",
        "      <td>  ham</td>\n",
        "    </tr>\n",
        "    <tr>\n",
        "      <th>5</th>\n",
        "      <td> secret sport event</td>\n",
        "      <td>  ham</td>\n",
        "    </tr>\n",
        "    <tr>\n",
        "      <th>6</th>\n",
        "      <td>    sports is today</td>\n",
        "      <td>  ham</td>\n",
        "    </tr>\n",
        "    <tr>\n",
        "      <th>7</th>\n",
        "      <td> sports costs money</td>\n",
        "      <td>  ham</td>\n",
        "    </tr>\n",
        "  </tbody>\n",
        "</table>\n",
        "<p>8 rows \u00d7 2 columns</p>\n",
        "</div>"
       ],
       "metadata": {},
       "output_type": "pyout",
       "prompt_number": 7,
       "text": [
        "                 text class\n",
        "0     offer is secret  spam\n",
        "1   click secret link  spam\n",
        "2  secret sports link  spam\n",
        "3   play sports today   ham\n",
        "4    went play sports   ham\n",
        "5  secret sport event   ham\n",
        "6     sports is today   ham\n",
        "7  sports costs money   ham\n",
        "\n",
        "[8 rows x 2 columns]"
       ]
      }
     ],
     "prompt_number": 7
    },
    {
     "cell_type": "markdown",
     "metadata": {},
     "source": [
      "# [text2vec] vectorize_text"
     ]
    },
    {
     "cell_type": "code",
     "collapsed": false,
     "input": [
      "test_jieba_sdtm = vcr.vectorize_text(df=test_text_df,\n",
      "                                     text_col=\"text\", \n",
      "                                     idx_col=None, \n",
      "                                     cond_query={},\n",
      "                                     idx_query= [],\n",
      "                                     vect_gen=vcr.CountVectorizer, \n",
      "                                     vect_gen_init_kwargs = jieba_vec_count_kwargs)\n",
      "\n",
      "test_unigram_sdtm = vcr.vectorize_text(df=test_text_df,\n",
      "                                     text_col=\"text\", \n",
      "                                     idx_col=None, \n",
      "                                     cond_query={},\n",
      "                                     idx_query= [],\n",
      "                                     vect_gen=vcr.CountVectorizer, \n",
      "                                     vect_gen_init_kwargs = unigram_vec_count_kwargs)\n",
      "\n",
      "test_bigram_sdtm = vcr.vectorize_text(df=test_text_df,\n",
      "                                     text_col=\"text\", \n",
      "                                     idx_col=None, \n",
      "                                     cond_query={},\n",
      "                                     idx_query= [],\n",
      "                                     vect_gen=vcr.CountVectorizer, \n",
      "                                     vect_gen_init_kwargs = bigram_vec_count_kwargs)"
     ],
     "language": "python",
     "metadata": {},
     "outputs": [
      {
       "output_type": "stream",
       "stream": "stderr",
       "text": [
        "Building Trie..., from /usr/local/lib/python2.7/dist-packages/jieba/dict.txt\n",
        "dumping model to file cache /tmp/jieba.cache"
       ]
      },
      {
       "output_type": "stream",
       "stream": "stderr",
       "text": [
        "\n",
        "loading model cost "
       ]
      },
      {
       "output_type": "stream",
       "stream": "stderr",
       "text": [
        " 4.6751229763 seconds.\n",
        "Trie has been built succesfully.\n"
       ]
      }
     ],
     "prompt_number": 8
    },
    {
     "cell_type": "markdown",
     "metadata": {},
     "source": [
      "# Viewing text2vec Results with pd.DataFrame "
     ]
    },
    {
     "cell_type": "code",
     "collapsed": false,
     "input": [
      "dtm = pd.DataFrame(test_jieba_sdtm._smatrix.todense(), columns=test_jieba_sdtm._col_idx)\n",
      "dtm = dtm[dtm.columns[1:]]\n",
      "dtm[\"C\"] = test_text_df[\"class\"]\n",
      "dtm\n"
     ],
     "language": "python",
     "metadata": {},
     "outputs": [
      {
       "html": [
        "<div style=\"max-height:1000px;max-width:1500px;overflow:auto;\">\n",
        "<table border=\"1\" class=\"dataframe\">\n",
        "  <thead>\n",
        "    <tr style=\"text-align: right;\">\n",
        "      <th></th>\n",
        "      <th>click</th>\n",
        "      <th>costs</th>\n",
        "      <th>event</th>\n",
        "      <th>is</th>\n",
        "      <th>link</th>\n",
        "      <th>money</th>\n",
        "      <th>offer</th>\n",
        "      <th>play</th>\n",
        "      <th>secret</th>\n",
        "      <th>sport</th>\n",
        "      <th>sports</th>\n",
        "      <th>today</th>\n",
        "      <th>went</th>\n",
        "      <th>C</th>\n",
        "    </tr>\n",
        "  </thead>\n",
        "  <tbody>\n",
        "    <tr>\n",
        "      <th>0</th>\n",
        "      <td> 0</td>\n",
        "      <td> 0</td>\n",
        "      <td> 0</td>\n",
        "      <td> 1</td>\n",
        "      <td> 0</td>\n",
        "      <td> 0</td>\n",
        "      <td> 1</td>\n",
        "      <td> 0</td>\n",
        "      <td> 1</td>\n",
        "      <td> 0</td>\n",
        "      <td> 0</td>\n",
        "      <td> 0</td>\n",
        "      <td> 0</td>\n",
        "      <td> spam</td>\n",
        "    </tr>\n",
        "    <tr>\n",
        "      <th>1</th>\n",
        "      <td> 1</td>\n",
        "      <td> 0</td>\n",
        "      <td> 0</td>\n",
        "      <td> 0</td>\n",
        "      <td> 1</td>\n",
        "      <td> 0</td>\n",
        "      <td> 0</td>\n",
        "      <td> 0</td>\n",
        "      <td> 1</td>\n",
        "      <td> 0</td>\n",
        "      <td> 0</td>\n",
        "      <td> 0</td>\n",
        "      <td> 0</td>\n",
        "      <td> spam</td>\n",
        "    </tr>\n",
        "    <tr>\n",
        "      <th>2</th>\n",
        "      <td> 0</td>\n",
        "      <td> 0</td>\n",
        "      <td> 0</td>\n",
        "      <td> 0</td>\n",
        "      <td> 1</td>\n",
        "      <td> 0</td>\n",
        "      <td> 0</td>\n",
        "      <td> 0</td>\n",
        "      <td> 1</td>\n",
        "      <td> 0</td>\n",
        "      <td> 1</td>\n",
        "      <td> 0</td>\n",
        "      <td> 0</td>\n",
        "      <td> spam</td>\n",
        "    </tr>\n",
        "    <tr>\n",
        "      <th>3</th>\n",
        "      <td> 0</td>\n",
        "      <td> 0</td>\n",
        "      <td> 0</td>\n",
        "      <td> 0</td>\n",
        "      <td> 0</td>\n",
        "      <td> 0</td>\n",
        "      <td> 0</td>\n",
        "      <td> 1</td>\n",
        "      <td> 0</td>\n",
        "      <td> 0</td>\n",
        "      <td> 1</td>\n",
        "      <td> 1</td>\n",
        "      <td> 0</td>\n",
        "      <td>  ham</td>\n",
        "    </tr>\n",
        "    <tr>\n",
        "      <th>4</th>\n",
        "      <td> 0</td>\n",
        "      <td> 0</td>\n",
        "      <td> 0</td>\n",
        "      <td> 0</td>\n",
        "      <td> 0</td>\n",
        "      <td> 0</td>\n",
        "      <td> 0</td>\n",
        "      <td> 1</td>\n",
        "      <td> 0</td>\n",
        "      <td> 0</td>\n",
        "      <td> 1</td>\n",
        "      <td> 0</td>\n",
        "      <td> 1</td>\n",
        "      <td>  ham</td>\n",
        "    </tr>\n",
        "    <tr>\n",
        "      <th>5</th>\n",
        "      <td> 0</td>\n",
        "      <td> 0</td>\n",
        "      <td> 1</td>\n",
        "      <td> 0</td>\n",
        "      <td> 0</td>\n",
        "      <td> 0</td>\n",
        "      <td> 0</td>\n",
        "      <td> 0</td>\n",
        "      <td> 1</td>\n",
        "      <td> 1</td>\n",
        "      <td> 0</td>\n",
        "      <td> 0</td>\n",
        "      <td> 0</td>\n",
        "      <td>  ham</td>\n",
        "    </tr>\n",
        "    <tr>\n",
        "      <th>6</th>\n",
        "      <td> 0</td>\n",
        "      <td> 0</td>\n",
        "      <td> 0</td>\n",
        "      <td> 1</td>\n",
        "      <td> 0</td>\n",
        "      <td> 0</td>\n",
        "      <td> 0</td>\n",
        "      <td> 0</td>\n",
        "      <td> 0</td>\n",
        "      <td> 0</td>\n",
        "      <td> 1</td>\n",
        "      <td> 1</td>\n",
        "      <td> 0</td>\n",
        "      <td>  ham</td>\n",
        "    </tr>\n",
        "    <tr>\n",
        "      <th>7</th>\n",
        "      <td> 0</td>\n",
        "      <td> 1</td>\n",
        "      <td> 0</td>\n",
        "      <td> 0</td>\n",
        "      <td> 0</td>\n",
        "      <td> 1</td>\n",
        "      <td> 0</td>\n",
        "      <td> 0</td>\n",
        "      <td> 0</td>\n",
        "      <td> 0</td>\n",
        "      <td> 1</td>\n",
        "      <td> 0</td>\n",
        "      <td> 0</td>\n",
        "      <td>  ham</td>\n",
        "    </tr>\n",
        "  </tbody>\n",
        "</table>\n",
        "<p>8 rows \u00d7 14 columns</p>\n",
        "</div>"
       ],
       "metadata": {},
       "output_type": "pyout",
       "prompt_number": 25,
       "text": [
        "   click  costs  event  is  link  money  offer  play  secret  sport  sports  \\\n",
        "0      0      0      0   1     0      0      1     0       1      0       0   \n",
        "1      1      0      0   0     1      0      0     0       1      0       0   \n",
        "2      0      0      0   0     1      0      0     0       1      0       1   \n",
        "3      0      0      0   0     0      0      0     1       0      0       1   \n",
        "4      0      0      0   0     0      0      0     1       0      0       1   \n",
        "5      0      0      1   0     0      0      0     0       1      1       0   \n",
        "6      0      0      0   1     0      0      0     0       0      0       1   \n",
        "7      0      1      0   0     0      1      0     0       0      0       1   \n",
        "\n",
        "   today  went     C  \n",
        "0      0     0  spam  \n",
        "1      0     0  spam  \n",
        "2      0     0  spam  \n",
        "3      1     0   ham  \n",
        "4      0     1   ham  \n",
        "5      0     0   ham  \n",
        "6      1     0   ham  \n",
        "7      0     0   ham  \n",
        "\n",
        "[8 rows x 14 columns]"
       ]
      }
     ],
     "prompt_number": 25
    },
    {
     "cell_type": "code",
     "collapsed": false,
     "input": [],
     "language": "python",
     "metadata": {},
     "outputs": [],
     "prompt_number": 29
    },
    {
     "cell_type": "code",
     "collapsed": false,
     "input": [],
     "language": "python",
     "metadata": {},
     "outputs": [],
     "prompt_number": 11
    },
    {
     "cell_type": "markdown",
     "metadata": {},
     "source": [
      "# Viewing text2vec Results with pylab.spy"
     ]
    },
    {
     "cell_type": "code",
     "collapsed": false,
     "input": [
      "fig = pylab.figure()\n",
      "ax1 = fig.add_axes([0.0,0.0,1.0,1.0])\n",
      "ax1.spy(test_jieba_sdtm._smatrix)\n",
      "ax1.set_xticks(range(len(test_jieba_sdtm._term_idx)))\n",
      "ax1.set_xticklabels(test_jieba_sdtm._term_idx, fontproperties=cfont)"
     ],
     "language": "python",
     "metadata": {},
     "outputs": [
      {
       "metadata": {},
       "output_type": "pyout",
       "prompt_number": 11,
       "text": [
        "[<matplotlib.text.Text at 0x20539090>,\n",
        " <matplotlib.text.Text at 0x9abe690>,\n",
        " <matplotlib.text.Text at 0x20af8910>,\n",
        " <matplotlib.text.Text at 0x20af9090>,\n",
        " <matplotlib.text.Text at 0x20af97d0>,\n",
        " <matplotlib.text.Text at 0x20af9f10>,\n",
        " <matplotlib.text.Text at 0x20afc690>,\n",
        " <matplotlib.text.Text at 0x20afcdd0>,\n",
        " <matplotlib.text.Text at 0x20afe550>,\n",
        " <matplotlib.text.Text at 0x20afec90>,\n",
        " <matplotlib.text.Text at 0x20b00410>,\n",
        " <matplotlib.text.Text at 0x20b00b50>,\n",
        " <matplotlib.text.Text at 0x20b032d0>,\n",
        " <matplotlib.text.Text at 0x20b03a10>,\n",
        " <matplotlib.text.Text at 0x20b05190>,\n",
        " <matplotlib.text.Text at 0x20b058d0>,\n",
        " <matplotlib.text.Text at 0x20b08050>]"
       ]
      },
      {
       "metadata": {},
       "output_type": "display_data",
       "png": "[encoded data removed]",
       "text": [
        "<matplotlib.figure.Figure at 0xa932c90>"
       ]
      }
     ],
     "prompt_number": 11
    },
    {
     "cell_type": "code",
     "collapsed": false,
     "input": [
      "fig = pylab.figure()\n",
      "ax1 = fig.add_axes([0.0,0.0,1.0,1.0])\n",
      "ax1.spy(test_unigram_sdtm._smatrix)\n",
      "ax1.set_xticks(range(len(test_unigram_sdtm._term_idx)))\n",
      "ax1.set_xticklabels(test_unigram_sdtm._term_idx, fontproperties=cfont)"
     ],
     "language": "python",
     "metadata": {},
     "outputs": [
      {
       "metadata": {},
       "output_type": "pyout",
       "prompt_number": 12,
       "text": [
        "[<matplotlib.text.Text at 0x55a84d0>,\n",
        " <matplotlib.text.Text at 0x9adf510>,\n",
        " <matplotlib.text.Text at 0x20b2aad0>,\n",
        " <matplotlib.text.Text at 0x20b27250>,\n",
        " <matplotlib.text.Text at 0x20b27990>,\n",
        " <matplotlib.text.Text at 0x20b25110>,\n",
        " <matplotlib.text.Text at 0x20b25850>,\n",
        " <matplotlib.text.Text at 0x20b25f90>,\n",
        " <matplotlib.text.Text at 0x20b22710>,\n",
        " <matplotlib.text.Text at 0x20b22e50>,\n",
        " <matplotlib.text.Text at 0x20b215d0>,\n",
        " <matplotlib.text.Text at 0x20b21d10>,\n",
        " <matplotlib.text.Text at 0x20b1e490>,\n",
        " <matplotlib.text.Text at 0x20b1ebd0>,\n",
        " <matplotlib.text.Text at 0x20b1c350>,\n",
        " <matplotlib.text.Text at 0x20b1ca90>,\n",
        " <matplotlib.text.Text at 0x20b1a210>,\n",
        " <matplotlib.text.Text at 0x20b1a950>,\n",
        " <matplotlib.text.Text at 0x20b190d0>]"
       ]
      },
      {
       "metadata": {},
       "output_type": "display_data",
       "png": "[encoded data removed]",
       "text": [
        "<matplotlib.figure.Figure at 0x20afed10>"
       ]
      }
     ],
     "prompt_number": 12
    },
    {
     "cell_type": "code",
     "collapsed": false,
     "input": [
      "fig = pylab.figure()\n",
      "ax1 = fig.add_axes([0.0,0.0,1.0,1.0])\n",
      "ax1.spy(test_bigram_sdtm._smatrix)\n",
      "ax1.set_xticks(range(len(test_bigram_sdtm._term_idx)))\n",
      "ax1.set_xticklabels(test_bigram_sdtm._term_idx, fontproperties=cfont)"
     ],
     "language": "python",
     "metadata": {},
     "outputs": [
      {
       "metadata": {},
       "output_type": "pyout",
       "prompt_number": 13,
       "text": [
        "[<matplotlib.text.Text at 0x20b2a410>,\n",
        " <matplotlib.text.Text at 0x55b6110>,\n",
        " <matplotlib.text.Text at 0x55c66d0>,\n",
        " <matplotlib.text.Text at 0x55c6e10>,\n",
        " <matplotlib.text.Text at 0x55c7590>,\n",
        " <matplotlib.text.Text at 0x55c7cd0>,\n",
        " <matplotlib.text.Text at 0x55cb450>,\n",
        " <matplotlib.text.Text at 0x55cbb90>,\n",
        " <matplotlib.text.Text at 0x55cc310>,\n",
        " <matplotlib.text.Text at 0x55cca50>,\n",
        " <matplotlib.text.Text at 0x55ce1d0>,\n",
        " <matplotlib.text.Text at 0x55ce910>,\n",
        " <matplotlib.text.Text at 0x55d1090>,\n",
        " <matplotlib.text.Text at 0x55d17d0>,\n",
        " <matplotlib.text.Text at 0x55d1f10>,\n",
        " <matplotlib.text.Text at 0x55d2690>,\n",
        " <matplotlib.text.Text at 0x55d2dd0>,\n",
        " <matplotlib.text.Text at 0x55d4550>,\n",
        " <matplotlib.text.Text at 0x55d4c90>,\n",
        " <matplotlib.text.Text at 0x55d7410>,\n",
        " <matplotlib.text.Text at 0x55d7b50>,\n",
        " <matplotlib.text.Text at 0x91a92d0>,\n",
        " <matplotlib.text.Text at 0x91a9a10>,\n",
        " <matplotlib.text.Text at 0x91aa190>,\n",
        " <matplotlib.text.Text at 0x91aa8d0>]"
       ]
      },
      {
       "metadata": {},
       "output_type": "display_data",
       "png": "[encoded data removed]",
       "text": [
        "<matplotlib.figure.Figure at 0x20b03a90>"
       ]
      }
     ],
     "prompt_number": 13
    },
    {
     "cell_type": "markdown",
     "metadata": {},
     "source": [
      "# Load PTT Data"
     ]
    },
    {
     "cell_type": "code",
     "collapsed": false,
     "input": [
      "import pickle\n",
      "\n",
      "with open(\"PTT___Physics_Accounting_Economics_Math_Statistics.pickle\",\"rb\") as read_file:\n",
      "    articles_df,articles_push_df = pickle.load(read_file)"
     ],
     "language": "python",
     "metadata": {},
     "outputs": [],
     "prompt_number": 14
    },
    {
     "cell_type": "code",
     "collapsed": false,
     "input": [
      "articles_df.head()"
     ],
     "language": "python",
     "metadata": {},
     "outputs": [
      {
       "html": [
        "<div style=\"max-height:1000px;max-width:1500px;overflow:auto;\">\n",
        "<table border=\"1\" class=\"dataframe\">\n",
        "  <thead>\n",
        "    <tr style=\"text-align: right;\">\n",
        "      <th></th>\n",
        "      <th>Board</th>\n",
        "      <th>_id</th>\n",
        "      <th>text</th>\n",
        "      <th>time</th>\n",
        "      <th>title</th>\n",
        "      <th>url</th>\n",
        "      <th>user</th>\n",
        "      <th>user_id</th>\n",
        "      <th>user_nickname</th>\n",
        "    </tr>\n",
        "  </thead>\n",
        "  <tbody>\n",
        "    <tr>\n",
        "      <th>0</th>\n",
        "      <td> Accounting</td>\n",
        "      <td> 52f223db74798d7e7bbe9965</td>\n",
        "      <td>   \\n102\u5e74\u8d85\u7d1a\u51fd\u6388CD\u7248\\n\\n\u9ad8\u6703(\u856d\u9756) \u6b32\u552e$2500 NT\\n\\n\u516c\u53f8\u6cd5(\u8463\u8b19...</td>\n",
        "      <td> Wed Feb  5 13:48:58 2014</td>\n",
        "      <td>             [\u51fa\u552e] 102\u5e74\u8d85\u7d1a\u51fd\u6388 \u9ad8\u6703\u3001\u516c\u53f8\u6cd5</td>\n",
        "      <td> http://www.ptt.cc/bbs/Accounting/M.1391579341....</td>\n",
        "      <td>           sunnykiller (\u5929\u7c5f\u4e4b\u8072)</td>\n",
        "      <td>  sunnykiller</td>\n",
        "      <td> \u5929\u7c5f\u4e4b\u8072</td>\n",
        "    </tr>\n",
        "    <tr>\n",
        "      <th>1</th>\n",
        "      <td> Accounting</td>\n",
        "      <td> 52f223db74798d7e78be9965</td>\n",
        "      <td>   \\n\u5982\u6a19\u984c\\n\u5269\u4e0b\u4e00\u6b21\u6388\u6b0a\u5373\u53ef\\n\u8b1b\u7fa9\u6211\u6709\\n\u4f46\u662f\u7f3a\u7b46\u8a18\\n\u5982\u679c\u9858\u610f\u8ce3\u7b46\u8a18\u4e5fOK\\n\\n...</td>\n",
        "      <td> Wed Feb  5 14:44:15 2014</td>\n",
        "      <td>               [\u5fb5\u6c42]\u5f90\u9326\u83ef\u9ad8\u6703DVD or \u8b1b\u7fa9</td>\n",
        "      <td> http://www.ptt.cc/bbs/Accounting/M.1391582662....</td>\n",
        "      <td> JilSander (Doer brokenheart)</td>\n",
        "      <td>    JilSander</td>\n",
        "      <td>  Doe</td>\n",
        "    </tr>\n",
        "    <tr>\n",
        "      <th>2</th>\n",
        "      <td> Accounting</td>\n",
        "      <td> 52f223db74798d7e76be9965</td>\n",
        "      <td>   \\n\u203b \u5f15\u8ff0\u300aflora713 (pretty world)\u300b\u4e4b\u9298\u8a00\uff1a: 1. \u51fa\u552e\uff1a\u5fd7...</td>\n",
        "      <td> Wed Feb  5 16:47:30 2014</td>\n",
        "      <td> Re: [\u51fa\u552e/\u8d08\u9001] \u5fd7\u5149\u5c0a\u69ae\u512a\u60e0\u5238/ \u8d85\u7d1a\u51fd\u6388VIP\u63a8\u85a6\u79ae\u5238</td>\n",
        "      <td> http://www.ptt.cc/bbs/Accounting/M.1391590052....</td>\n",
        "      <td>            lphotoimpact (\u6953\u96ea)</td>\n",
        "      <td> lphotoimpact</td>\n",
        "      <td>   \u6953\u96ea</td>\n",
        "    </tr>\n",
        "    <tr>\n",
        "      <th>3</th>\n",
        "      <td> Accounting</td>\n",
        "      <td> 52f223dd74798d7e7abe9965</td>\n",
        "      <td>   \\n\\n     \u521d\u6703\\n     http://goods.ruten.com.tw/...</td>\n",
        "      <td> Wed Feb  5 14:57:59 2014</td>\n",
        "      <td>      [\u552e] \u521d\u7d1a\u6703\u8a08\u5b78.\u4e2d\u7d1a\u6703\u8a08\u5b78.\u6210\u672c\u6703\u8a08 DVD+\u8b1b\u7fa9</td>\n",
        "      <td> http://www.ptt.cc/bbs/Accounting/M.1391583483....</td>\n",
        "      <td>                  ap22 (\u65cb\u8f49\u74f6\u5b50)</td>\n",
        "      <td>         ap22</td>\n",
        "      <td> \u65cb\u8f49\u74f6\u5b50</td>\n",
        "    </tr>\n",
        "    <tr>\n",
        "      <th>4</th>\n",
        "      <td>       Math</td>\n",
        "      <td> 52f223de74798d7e78be9966</td>\n",
        "      <td>   \\n\u984c\u76ee:\u627e\u5230\u4e00\u500b\u5207\u7dda\u5e73\u9762\u5728:f(x,y)=x^2y\u7684\u5e73\u9762\u4e0a\uff0c\u4ea4\u9ede\u70ba(2,-1,-4)\\...</td>\n",
        "      <td> Tue Feb  4 15:48:18 2014</td>\n",
        "      <td>                 [\u5fae\u7a4d] \u5229\u7528\u65b9\u5411\u5c0e\u6578\u6c42\u5207\u7dda\u4e00\u554f</td>\n",
        "      <td> http://www.ptt.cc/bbs/Math/M.1391500100.A.7D1....</td>\n",
        "      <td>                  gbd37 (\u6709\u5920\u778e)</td>\n",
        "      <td>        gbd37</td>\n",
        "      <td>  \u6709\u5920\u778e</td>\n",
        "    </tr>\n",
        "  </tbody>\n",
        "</table>\n",
        "<p>5 rows \u00d7 9 columns</p>\n",
        "</div>"
       ],
       "metadata": {},
       "output_type": "pyout",
       "prompt_number": 15,
       "text": [
        "        Board                       _id  \\\n",
        "0  Accounting  52f223db74798d7e7bbe9965   \n",
        "1  Accounting  52f223db74798d7e78be9965   \n",
        "2  Accounting  52f223db74798d7e76be9965   \n",
        "3  Accounting  52f223dd74798d7e7abe9965   \n",
        "4        Math  52f223de74798d7e78be9966   \n",
        "\n",
        "                                                text  \\\n",
        "0    \\n102\u5e74\u8d85\u7d1a\u51fd\u6388CD\u7248\\n\\n\u9ad8\u6703(\u856d\u9756) \u6b32\u552e$2500 NT\\n\\n\u516c\u53f8\u6cd5(\u8463\u8b19...   \n",
        "1    \\n\u5982\u6a19\u984c\\n\u5269\u4e0b\u4e00\u6b21\u6388\u6b0a\u5373\u53ef\\n\u8b1b\u7fa9\u6211\u6709\\n\u4f46\u662f\u7f3a\u7b46\u8a18\\n\u5982\u679c\u9858\u610f\u8ce3\u7b46\u8a18\u4e5fOK\\n\\n...   \n",
        "2    \\n\u203b \u5f15\u8ff0\u300aflora713 (pretty world)\u300b\u4e4b\u9298\u8a00\uff1a: 1. \u51fa\u552e\uff1a\u5fd7...   \n",
        "3    \\n\\n     \u521d\u6703\\n     http://goods.ruten.com.tw/...   \n",
        "4    \\n\u984c\u76ee:\u627e\u5230\u4e00\u500b\u5207\u7dda\u5e73\u9762\u5728:f(x,y)=x^2y\u7684\u5e73\u9762\u4e0a\uff0c\u4ea4\u9ede\u70ba(2,-1,-4)\\...   \n",
        "\n",
        "                       time                             title  \\\n",
        "0  Wed Feb  5 13:48:58 2014              [\u51fa\u552e] 102\u5e74\u8d85\u7d1a\u51fd\u6388 \u9ad8\u6703\u3001\u516c\u53f8\u6cd5   \n",
        "1  Wed Feb  5 14:44:15 2014                [\u5fb5\u6c42]\u5f90\u9326\u83ef\u9ad8\u6703DVD or \u8b1b\u7fa9   \n",
        "2  Wed Feb  5 16:47:30 2014  Re: [\u51fa\u552e/\u8d08\u9001] \u5fd7\u5149\u5c0a\u69ae\u512a\u60e0\u5238/ \u8d85\u7d1a\u51fd\u6388VIP\u63a8\u85a6\u79ae\u5238   \n",
        "3  Wed Feb  5 14:57:59 2014       [\u552e] \u521d\u7d1a\u6703\u8a08\u5b78.\u4e2d\u7d1a\u6703\u8a08\u5b78.\u6210\u672c\u6703\u8a08 DVD+\u8b1b\u7fa9   \n",
        "4  Tue Feb  4 15:48:18 2014                  [\u5fae\u7a4d] \u5229\u7528\u65b9\u5411\u5c0e\u6578\u6c42\u5207\u7dda\u4e00\u554f   \n",
        "\n",
        "                                                 url  \\\n",
        "0  http://www.ptt.cc/bbs/Accounting/M.1391579341....   \n",
        "1  http://www.ptt.cc/bbs/Accounting/M.1391582662....   \n",
        "2  http://www.ptt.cc/bbs/Accounting/M.1391590052....   \n",
        "3  http://www.ptt.cc/bbs/Accounting/M.1391583483....   \n",
        "4  http://www.ptt.cc/bbs/Math/M.1391500100.A.7D1....   \n",
        "\n",
        "                           user       user_id user_nickname  \n",
        "0            sunnykiller (\u5929\u7c5f\u4e4b\u8072)   sunnykiller          \u5929\u7c5f\u4e4b\u8072  \n",
        "1  JilSander (Doer brokenheart)     JilSander           Doe  \n",
        "2             lphotoimpact (\u6953\u96ea)  lphotoimpact            \u6953\u96ea  \n",
        "3                   ap22 (\u65cb\u8f49\u74f6\u5b50)          ap22          \u65cb\u8f49\u74f6\u5b50  \n",
        "4                   gbd37 (\u6709\u5920\u778e)         gbd37           \u6709\u5920\u778e  \n",
        "\n",
        "[5 rows x 9 columns]"
       ]
      }
     ],
     "prompt_number": 15
    },
    {
     "cell_type": "markdown",
     "metadata": {},
     "source": [
      "# vectorize (Accounting Board) \"text\" column "
     ]
    },
    {
     "cell_type": "code",
     "collapsed": false,
     "input": [
      "from PlaYnlp.sparse import L0_norm_col_summarizer as L0_col_sum\n",
      "from PlaYnlp.sparse import L1_norm_col_summarizer as L1_col_sum"
     ],
     "language": "python",
     "metadata": {},
     "outputs": [],
     "prompt_number": 16
    },
    {
     "cell_type": "code",
     "collapsed": false,
     "input": [
      "articles_df.groupby(\"Board\").groups.keys()"
     ],
     "language": "python",
     "metadata": {},
     "outputs": [
      {
       "metadata": {},
       "output_type": "pyout",
       "prompt_number": 17,
       "text": [
        "[u'Statistics', u'Accounting', u'Economics', u'Physics', u'Math']"
       ]
      }
     ],
     "prompt_number": 17
    },
    {
     "cell_type": "code",
     "collapsed": false,
     "input": [
      "test_ptt_text_sdtm = vcr.vectorize_text(df=articles_df,\n",
      "                                         text_col=\"text\", \n",
      "                                         idx_col=\"url\", \n",
      "                                         cond_query={\"Board\":u'Statistics'},\n",
      "                                         idx_query= [],\n",
      "                                         vect_gen=vcr.CountVectorizer, \n",
      "                                         vect_gen_init_kwargs = jieba_vec_count_kwargs,\n",
      "                                         summarizer = L0_col_sum)"
     ],
     "language": "python",
     "metadata": {},
     "outputs": [],
     "prompt_number": 18
    },
    {
     "cell_type": "code",
     "collapsed": false,
     "input": [
      "test_ptt_text_sdtm"
     ],
     "language": "python",
     "metadata": {},
     "outputs": [
      {
       "metadata": {},
       "output_type": "pyout",
       "prompt_number": 19,
       "text": [
        "{'col_idx': array([u'\\n', u' ', u'!', ..., u'\\uffe1', u'\\uffe3', u'\\ufffc'], \n",
        "       dtype='<U186'),\n",
        " 'row_idx': array([u'http://www.ptt.cc/bbs/Statistics/M.1391174704.A.04F.html',\n",
        "        u'http://www.ptt.cc/bbs/Statistics/M.1391005069.A.60B.html',\n",
        "        u'http://www.ptt.cc/bbs/Statistics/M.1391330470.A.ACF.html', ...,\n",
        "        u'http://www.ptt.cc/bbs/Statistics/M.1360249087.A.CF0.html',\n",
        "        u'http://www.ptt.cc/bbs/Statistics/M.1360337458.A.280.html',\n",
        "        u'http://www.ptt.cc/bbs/Statistics/M.1360509019.A.DF2.html'], dtype=object),\n",
        " 'smatrix': <17034x103086 sparse matrix of type '<type 'numpy.int64'>'\n",
        " \twith 2390748 stored elements in Compressed Sparse Column format>,\n",
        " 'summarizer': <function PlaYnlp.sparse.<lambda>>}"
       ]
      }
     ],
     "prompt_number": 19
    },
    {
     "cell_type": "markdown",
     "metadata": {},
     "source": [
      "## [BUG of pickling]\n",
      "\n",
      "- ## [Reference](http://stackoverflow.com/questions/5247250/why-does-pickle-getstate-accept-as-a-return-value-the-very-instance-it-requi)"
     ]
    },
    {
     "cell_type": "code",
     "collapsed": false,
     "input": [
      "# import pickle\n",
      "# with open(\"test.pickle\",\"wb\") as wfile:\n",
      "#     pickle.dump(test_ptt_text_sdtm,wfile)"
     ],
     "language": "python",
     "metadata": {},
     "outputs": [],
     "prompt_number": 20
    },
    {
     "cell_type": "markdown",
     "metadata": {},
     "source": [
      "# How many words each document have? (count repeatly)"
     ]
    },
    {
     "cell_type": "code",
     "collapsed": false,
     "input": [
      "test_ptt_text_sdtm.change_default_summerizer(L1_col_sum)"
     ],
     "language": "python",
     "metadata": {},
     "outputs": [
      {
       "metadata": {},
       "output_type": "pyout",
       "prompt_number": 21,
       "text": [
        "True"
       ]
      }
     ],
     "prompt_number": 21
    },
    {
     "cell_type": "code",
     "collapsed": false,
     "input": [
      "test_ptt_text_sdtm.T.summary"
     ],
     "language": "python",
     "metadata": {},
     "outputs": [
      {
       "metadata": {},
       "output_type": "pyout",
       "prompt_number": 22,
       "text": [
        "{'sdf': {'col_idx': array([u'http://www.ptt.cc/bbs/Statistics/M.1391174704.A.04F.html',\n",
        "         u'http://www.ptt.cc/bbs/Statistics/M.1391005069.A.60B.html',\n",
        "         u'http://www.ptt.cc/bbs/Statistics/M.1391330470.A.ACF.html', ...,\n",
        "         u'http://www.ptt.cc/bbs/Statistics/M.1360249087.A.CF0.html',\n",
        "         u'http://www.ptt.cc/bbs/Statistics/M.1360337458.A.280.html',\n",
        "         u'http://www.ptt.cc/bbs/Statistics/M.1360509019.A.DF2.html'], dtype=object),\n",
        "  'row_idx': array([u'\\n', u' ', u'!', ..., u'\\uffe1', u'\\uffe3', u'\\ufffc'], \n",
        "        dtype='<U186'),\n",
        "  'smatrix': <103086x17034 sparse matrix of type '<type 'numpy.int64'>'\n",
        "  \twith 2390748 stored elements in Compressed Sparse Row format>,\n",
        "  'summarizer': <function PlaYnlp.sparse.<lambda>>},\n",
        " 'summary_data': array([2269,  915,  584, ...,  201,  254,  369]),\n",
        " 'summary_idx': array([u'http://www.ptt.cc/bbs/Statistics/M.1391174704.A.04F.html',\n",
        "        u'http://www.ptt.cc/bbs/Statistics/M.1391005069.A.60B.html',\n",
        "        u'http://www.ptt.cc/bbs/Statistics/M.1391330470.A.ACF.html', ...,\n",
        "        u'http://www.ptt.cc/bbs/Statistics/M.1360249087.A.CF0.html',\n",
        "        u'http://www.ptt.cc/bbs/Statistics/M.1360337458.A.280.html',\n",
        "        u'http://www.ptt.cc/bbs/Statistics/M.1360509019.A.DF2.html'], dtype=object),\n",
        " 'summary_type': 'col'}"
       ]
      }
     ],
     "prompt_number": 22
    },
    {
     "cell_type": "markdown",
     "metadata": {},
     "source": [
      "## Average words each document have (count repeatly)"
     ]
    },
    {
     "cell_type": "code",
     "collapsed": false,
     "input": [
      "test_ptt_text_sdtm.T.summary._data.mean()"
     ],
     "language": "python",
     "metadata": {},
     "outputs": [
      {
       "metadata": {},
       "output_type": "pyout",
       "prompt_number": 23,
       "text": [
        "361.93548197722203"
       ]
      }
     ],
     "prompt_number": 23
    },
    {
     "cell_type": "code",
     "collapsed": false,
     "input": [
      "test_ptt_text_sdtm.T.summary._data"
     ],
     "language": "python",
     "metadata": {},
     "outputs": [
      {
       "metadata": {},
       "output_type": "pyout",
       "prompt_number": 24,
       "text": [
        "array([2269,  915,  584, ...,  201,  254,  369])"
       ]
      }
     ],
     "prompt_number": 24
    },
    {
     "cell_type": "markdown",
     "metadata": {},
     "source": [
      "## Draw Historgram \n",
      "\n",
      "## reference: \n",
      "\n",
      "- ### http://matplotlib.org/examples/pylab_examples/histogram_demo_extended.html\n",
      "- ### http://en.wikipedia.org/wiki/Exponential_distribution"
     ]
    },
    {
     "cell_type": "code",
     "collapsed": false,
     "input": [
      "n, bins, patches = pylab.hist(test_ptt_text_sdtm.T.summary._data, \n",
      "                              50, normed=1, histtype='stepfilled')"
     ],
     "language": "python",
     "metadata": {},
     "outputs": [
      {
       "metadata": {},
       "output_type": "display_data",
       "png": "[encoded data removed]",
       "text": [
        "<matplotlib.figure.Figure at 0x20b00cd0>"
       ]
      }
     ],
     "prompt_number": 25
    },
    {
     "cell_type": "code",
     "collapsed": false,
     "input": [
      "lmda = 1.0 / test_ptt_text_sdtm.T.summary._data.mean()\n",
      "lmda"
     ],
     "language": "python",
     "metadata": {},
     "outputs": [
      {
       "metadata": {},
       "output_type": "pyout",
       "prompt_number": 26,
       "text": [
        "0.0027629233656150179"
       ]
      }
     ],
     "prompt_number": 26
    },
    {
     "cell_type": "markdown",
     "metadata": {},
     "source": [
      "# How many words each document have? (count non-repeatedly)"
     ]
    },
    {
     "cell_type": "code",
     "collapsed": false,
     "input": [
      "test_ptt_text_sdtm.change_default_summerizer(L0_col_sum)\n",
      "test_ptt_text_sdtm.T.summary"
     ],
     "language": "python",
     "metadata": {},
     "outputs": [
      {
       "metadata": {},
       "output_type": "pyout",
       "prompt_number": 27,
       "text": [
        "{'sdf': {'col_idx': array([u'http://www.ptt.cc/bbs/Statistics/M.1391174704.A.04F.html',\n",
        "         u'http://www.ptt.cc/bbs/Statistics/M.1391005069.A.60B.html',\n",
        "         u'http://www.ptt.cc/bbs/Statistics/M.1391330470.A.ACF.html', ...,\n",
        "         u'http://www.ptt.cc/bbs/Statistics/M.1360249087.A.CF0.html',\n",
        "         u'http://www.ptt.cc/bbs/Statistics/M.1360337458.A.280.html',\n",
        "         u'http://www.ptt.cc/bbs/Statistics/M.1360509019.A.DF2.html'], dtype=object),\n",
        "  'row_idx': array([u'\\n', u' ', u'!', ..., u'\\uffe1', u'\\uffe3', u'\\ufffc'], \n",
        "        dtype='<U186'),\n",
        "  'smatrix': <103086x17034 sparse matrix of type '<type 'numpy.int64'>'\n",
        "  \twith 2390748 stored elements in Compressed Sparse Row format>,\n",
        "  'summarizer': <function PlaYnlp.sparse.<lambda>>},\n",
        " 'summary_data': array([568, 290, 243, ...,  96, 124, 127]),\n",
        " 'summary_idx': array([u'http://www.ptt.cc/bbs/Statistics/M.1391174704.A.04F.html',\n",
        "        u'http://www.ptt.cc/bbs/Statistics/M.1391005069.A.60B.html',\n",
        "        u'http://www.ptt.cc/bbs/Statistics/M.1391330470.A.ACF.html', ...,\n",
        "        u'http://www.ptt.cc/bbs/Statistics/M.1360249087.A.CF0.html',\n",
        "        u'http://www.ptt.cc/bbs/Statistics/M.1360337458.A.280.html',\n",
        "        u'http://www.ptt.cc/bbs/Statistics/M.1360509019.A.DF2.html'], dtype=object),\n",
        " 'summary_type': 'col'}"
       ]
      }
     ],
     "prompt_number": 27
    },
    {
     "cell_type": "markdown",
     "metadata": {},
     "source": [
      "## Average words each document have (count non-repeatly)"
     ]
    },
    {
     "cell_type": "code",
     "collapsed": false,
     "input": [
      "test_ptt_text_sdtm.T.summary._data.mean()"
     ],
     "language": "python",
     "metadata": {},
     "outputs": [
      {
       "metadata": {},
       "output_type": "pyout",
       "prompt_number": 28,
       "text": [
        "140.35153222965832"
       ]
      }
     ],
     "prompt_number": 28
    },
    {
     "cell_type": "markdown",
     "metadata": {},
     "source": [
      "## Draw Historgram \n"
     ]
    },
    {
     "cell_type": "code",
     "collapsed": false,
     "input": [
      "n, bins, patches = pylab.hist(test_ptt_text_sdtm.T.summary._data, \n",
      "                              50, normed=1, histtype='stepfilled')"
     ],
     "language": "python",
     "metadata": {},
     "outputs": [
      {
       "metadata": {},
       "output_type": "display_data",
       "png": "[encoded data removed]",
       "text": [
        "<matplotlib.figure.Figure at 0x6fc9510>"
       ]
      }
     ],
     "prompt_number": 29
    },
    {
     "cell_type": "markdown",
     "metadata": {},
     "source": [
      "# How many documents each word appears? (count repeatly)"
     ]
    },
    {
     "cell_type": "code",
     "collapsed": false,
     "input": [
      "test_ptt_text_sdtm.change_default_summerizer(L1_col_sum)\n",
      "test_ptt_text_sdtm.summary"
     ],
     "language": "python",
     "metadata": {},
     "outputs": [
      {
       "metadata": {},
       "output_type": "pyout",
       "prompt_number": 30,
       "text": [
        "{'sdf': {'col_idx': array([u'\\n', u' ', u'!', ..., u'\\uffe1', u'\\uffe3', u'\\ufffc'], \n",
        "        dtype='<U186'),\n",
        "  'row_idx': array([u'http://www.ptt.cc/bbs/Statistics/M.1391174704.A.04F.html',\n",
        "         u'http://www.ptt.cc/bbs/Statistics/M.1391005069.A.60B.html',\n",
        "         u'http://www.ptt.cc/bbs/Statistics/M.1391330470.A.ACF.html', ...,\n",
        "         u'http://www.ptt.cc/bbs/Statistics/M.1360249087.A.CF0.html',\n",
        "         u'http://www.ptt.cc/bbs/Statistics/M.1360337458.A.280.html',\n",
        "         u'http://www.ptt.cc/bbs/Statistics/M.1360509019.A.DF2.html'], dtype=object),\n",
        "  'smatrix': <17034x103086 sparse matrix of type '<type 'numpy.int64'>'\n",
        "  \twith 2390748 stored elements in Compressed Sparse Column format>,\n",
        "  'summarizer': <function PlaYnlp.sparse.<lambda>>},\n",
        " 'summary_data': array([387525, 992060,  17848, ...,     17,    439,    125]),\n",
        " 'summary_idx': array([u'\\n', u' ', u'!', ..., u'\\uffe1', u'\\uffe3', u'\\ufffc'], \n",
        "       dtype='<U186'),\n",
        " 'summary_type': 'col'}"
       ]
      }
     ],
     "prompt_number": 30
    },
    {
     "cell_type": "markdown",
     "metadata": {},
     "source": [
      "## Average documents each word appears (count repeatly)"
     ]
    },
    {
     "cell_type": "code",
     "collapsed": false,
     "input": [
      "test_ptt_text_sdtm.summary._data.mean()"
     ],
     "language": "python",
     "metadata": {},
     "outputs": [
      {
       "metadata": {},
       "output_type": "pyout",
       "prompt_number": 31,
       "text": [
        "59.806462565236792"
       ]
      }
     ],
     "prompt_number": 31
    },
    {
     "cell_type": "markdown",
     "metadata": {},
     "source": [
      "## Draw Historgram \n"
     ]
    },
    {
     "cell_type": "code",
     "collapsed": false,
     "input": [
      "n, bins, patches = pylab.hist(test_ptt_text_sdtm.summary._data, \n",
      "                              50, normed=1, histtype='stepfilled')\n",
      "# print bins"
     ],
     "language": "python",
     "metadata": {},
     "outputs": [
      {
       "metadata": {},
       "output_type": "display_data",
       "png": "[encoded data removed]",
       "text": [
        "<matplotlib.figure.Figure at 0x55b4ed0>"
       ]
      }
     ],
     "prompt_number": 32
    },
    {
     "cell_type": "markdown",
     "metadata": {},
     "source": [
      "## Draw Log-Historgram \n"
     ]
    },
    {
     "cell_type": "code",
     "collapsed": false,
     "input": [
      "n, bins, patches = pylab.hist(np.log(test_ptt_text_sdtm.summary._data), \n",
      "                              50, normed=1, histtype='stepfilled')"
     ],
     "language": "python",
     "metadata": {},
     "outputs": [
      {
       "metadata": {},
       "output_type": "display_data",
       "png": "[encoded data removed]",
       "text": [
        "<matplotlib.figure.Figure at 0x6fbf990>"
       ]
      }
     ],
     "prompt_number": 33
    },
    {
     "cell_type": "markdown",
     "metadata": {},
     "source": [
      "# How many documents each word appear? (count non-repeatly)"
     ]
    },
    {
     "cell_type": "code",
     "collapsed": false,
     "input": [
      "test_ptt_text_sdtm.change_default_summerizer(L0_col_sum)\n",
      "test_ptt_text_sdtm.summary"
     ],
     "language": "python",
     "metadata": {},
     "outputs": [
      {
       "metadata": {},
       "output_type": "pyout",
       "prompt_number": 34,
       "text": [
        "{'sdf': {'col_idx': array([u'\\n', u' ', u'!', ..., u'\\uffe1', u'\\uffe3', u'\\ufffc'], \n",
        "        dtype='<U186'),\n",
        "  'row_idx': array([u'http://www.ptt.cc/bbs/Statistics/M.1391174704.A.04F.html',\n",
        "         u'http://www.ptt.cc/bbs/Statistics/M.1391005069.A.60B.html',\n",
        "         u'http://www.ptt.cc/bbs/Statistics/M.1391330470.A.ACF.html', ...,\n",
        "         u'http://www.ptt.cc/bbs/Statistics/M.1360249087.A.CF0.html',\n",
        "         u'http://www.ptt.cc/bbs/Statistics/M.1360337458.A.280.html',\n",
        "         u'http://www.ptt.cc/bbs/Statistics/M.1360509019.A.DF2.html'], dtype=object),\n",
        "  'smatrix': <17034x103086 sparse matrix of type '<type 'numpy.int64'>'\n",
        "  \twith 2390748 stored elements in Compressed Sparse Column format>,\n",
        "  'summarizer': <function PlaYnlp.sparse.<lambda>>},\n",
        " 'summary_data': array([17021, 17017,  5383, ...,     5,   213,    53]),\n",
        " 'summary_idx': array([u'\\n', u' ', u'!', ..., u'\\uffe1', u'\\uffe3', u'\\ufffc'], \n",
        "       dtype='<U186'),\n",
        " 'summary_type': 'col'}"
       ]
      }
     ],
     "prompt_number": 34
    },
    {
     "cell_type": "markdown",
     "metadata": {},
     "source": [
      "## Average documents each word appears (count non-repeatly)"
     ]
    },
    {
     "cell_type": "code",
     "collapsed": false,
     "input": [
      "test_ptt_text_sdtm.summary._data.mean()"
     ],
     "language": "python",
     "metadata": {},
     "outputs": [
      {
       "metadata": {},
       "output_type": "pyout",
       "prompt_number": 35,
       "text": [
        "23.191781619230547"
       ]
      }
     ],
     "prompt_number": 35
    },
    {
     "cell_type": "markdown",
     "metadata": {},
     "source": [
      "## Draw Log-Historgram \n"
     ]
    },
    {
     "cell_type": "code",
     "collapsed": false,
     "input": [
      "n, bins, patches = pylab.hist(np.log(test_ptt_text_sdtm.summary._data), \n",
      "                              50, normed=1, histtype='stepfilled')"
     ],
     "language": "python",
     "metadata": {},
     "outputs": [
      {
       "metadata": {},
       "output_type": "display_data",
       "png": "[encoded data removed]",
       "text": [
        "<matplotlib.figure.Figure at 0x20775b50>"
       ]
      }
     ],
     "prompt_number": 36
    },
    {
     "cell_type": "markdown",
     "metadata": {},
     "source": [
      "# Quantiles"
     ]
    },
    {
     "cell_type": "code",
     "collapsed": false,
     "input": [
      "temp_summary = test_ptt_text_sdtm.summary\n",
      "print np.percentile(temp_summary._data,50)\n",
      "print np.percentile(temp_summary._data,75)\n",
      "print np.percentile(temp_summary._data,90)\n",
      "print np.percentile(temp_summary._data,95)\n",
      "print np.percentile(temp_summary._data,99)\n",
      "print np.percentile(temp_summary._data,99.9)"
     ],
     "language": "python",
     "metadata": {},
     "outputs": [
      {
       "output_type": "stream",
       "stream": "stdout",
       "text": [
        "1.0\n",
        "3.0\n",
        "12.0\n",
        "32.0\n",
        "321.15\n",
        "3347.915\n"
       ]
      }
     ],
     "prompt_number": 37
    },
    {
     "cell_type": "markdown",
     "metadata": {},
     "source": [
      "# Inversed Quantiles"
     ]
    },
    {
     "cell_type": "code",
     "collapsed": false,
     "input": [
      "print sp.stats.percentileofscore(temp_summary._data,1, kind='weak')\n",
      "print sp.stats.percentileofscore(temp_summary._data,4, kind='weak')\n",
      "print sp.stats.percentileofscore(temp_summary._data,15, kind='weak')\n",
      "print sp.stats.percentileofscore(temp_summary._data,40, kind='weak')\n",
      "print sp.stats.percentileofscore(temp_summary._data,340, kind='weak')\n",
      "print sp.stats.percentileofscore(temp_summary._data,3457, kind='weak')"
     ],
     "language": "python",
     "metadata": {},
     "outputs": [
      {
       "output_type": "stream",
       "stream": "stdout",
       "text": [
        "52.6405137458\n",
        "80.0777991192\n",
        "91.8650447199\n",
        "95.8025338067\n",
        "99.0386667443\n",
        "99.902993617\n"
       ]
      }
     ],
     "prompt_number": 38
    },
    {
     "cell_type": "code",
     "collapsed": false,
     "input": [
      "print 1.0 - float(len(np.nonzero((temp_summary > 4)._data)[0])) / len(temp_summary._data)\n",
      "print 1.0 - float(len(np.nonzero((temp_summary > 40)._data)[0])) / len(temp_summary._data)"
     ],
     "language": "python",
     "metadata": {},
     "outputs": [
      {
       "output_type": "stream",
       "stream": "stdout",
       "text": [
        "0.800777991192\n",
        "0.958025338067\n"
       ]
      }
     ],
     "prompt_number": 39
    },
    {
     "cell_type": "markdown",
     "metadata": {},
     "source": [
      "# Get Filtered Sub-SDTM"
     ]
    },
    {
     "cell_type": "code",
     "collapsed": false,
     "input": [
      "filtered_sdtm = ((temp_summary >= 1) & (temp_summary <= 400))._sub_sdf\n",
      "print ((temp_summary >= 1) & (temp_summary <= 4000))._filtered_idx.shape\n",
      "print filtered_sdtm"
     ],
     "language": "python",
     "metadata": {},
     "outputs": [
      {
       "output_type": "stream",
       "stream": "stdout",
       "text": [
        "(48744,)\n",
        "{'summarizer': <function <lambda> at 0x49c0140>, 'row_idx': array([u'http://www.ptt.cc/bbs/Statistics/M.1391174704.A.04F.html',\n",
        "       u'http://www.ptt.cc/bbs/Statistics/M.1391005069.A.60B.html',\n",
        "       u'http://www.ptt.cc/bbs/Statistics/M.1391330470.A.ACF.html', ...,\n",
        "       u'http://www.ptt.cc/bbs/Statistics/M.1360249087.A.CF0.html',\n",
        "       u'http://www.ptt.cc/bbs/Statistics/M.1360337458.A.280.html',\n",
        "       u'http://www.ptt.cc/bbs/Statistics/M.1360509019.A.DF2.html'], dtype=object), 'col_idx': array([u'#', u'##', u'###', ..., u'\\uffe1', u'\\uffe3', u'\\ufffc'], \n",
        "      dtype='<U186'), 'smatrix': <17034x47911 sparse matrix of type '<type 'numpy.int64'>'\n",
        "\twith 667090 stored elements in Compressed Sparse Column format>}\n"
       ]
      }
     ],
     "prompt_number": 67
    },
    {
     "cell_type": "markdown",
     "metadata": {},
     "source": [
      "## Average documents each word appears (count non-repeatly)"
     ]
    },
    {
     "cell_type": "code",
     "collapsed": false,
     "input": [
      "print test_ptt_text_sdtm.summary._data.mean()\n",
      "print filtered_sdtm.summary._data.mean()"
     ],
     "language": "python",
     "metadata": {},
     "outputs": [
      {
       "output_type": "stream",
       "stream": "stdout",
       "text": [
        "23.1917816192\n",
        "13.923524869\n"
       ]
      }
     ],
     "prompt_number": 68
    },
    {
     "cell_type": "markdown",
     "metadata": {},
     "source": [
      "## Average words each document have (count non-repeatly)"
     ]
    },
    {
     "cell_type": "code",
     "collapsed": false,
     "input": [
      "print test_ptt_text_sdtm.T.summary._data.mean()\n",
      "print filtered_sdtm.T.summary._data.mean()"
     ],
     "language": "python",
     "metadata": {},
     "outputs": [
      {
       "output_type": "stream",
       "stream": "stdout",
       "text": [
        "140.35153223\n",
        "39.1622637079\n"
       ]
      }
     ],
     "prompt_number": 69
    },
    {
     "cell_type": "markdown",
     "metadata": {},
     "source": [
      "# Get Filtered Sub-SDTM"
     ]
    },
    {
     "cell_type": "code",
     "collapsed": false,
     "input": [
      "one_row_idx = 3000\n",
      "print articles_df.ix[one_row_idx][\"title\"]\n",
      "print articles_df.ix[one_row_idx][\"text\"]\n",
      "\n",
      "one_row = filtered_sdtm.select_rows([one_row_idx])\n",
      "print \"// \".join((one_row.summary > 0)._filtered_idx)\n",
      "# print \"one_row = \",one_row\n",
      "one_row_n_words = float(len((one_row.summary > 0)._filtered_idx))\n",
      "print \"one_row_n_words = \",one_row_n_words\n",
      "one_row_temp_sum = filtered_sdtm.select_columns((one_row.summary > 0)._data).T.summary._data / one_row_n_words\n",
      "print \"one_row_temp_sum.argsort()[-20:] = \",one_row_temp_sum.argsort()[-20:]\n",
      "print \"one_row_temp_sum[one_row_temp_sum.argsort()[-20:]] = \",one_row_temp_sum[one_row_temp_sum.argsort()[-20:]]\n",
      "articles_df.ix[one_row_temp_sum.argsort()[-20:]][[\"Board\",\"title\"]]\n",
      "\n",
      "# one_row_group = filtered_sdtm.select_rows(one_row_temp_sum.argsort()[-20:])\n",
      "# # print \"one_row_group = \",one_row_group\n",
      "# print (one_row_group.summary > 0)._filtered_idx.shape\n",
      "# # print \"// \".join((one_row_group.summary > 0)._filtered_idx)\n",
      "# one_row_group_sub_sdtm = filtered_sdtm.select_columns((one_row_group.summary > 0))\n",
      "# one_row_group_sub_sdtm\n"
     ],
     "language": "python",
     "metadata": {},
     "outputs": [
      {
       "output_type": "stream",
       "stream": "stdout",
       "text": [
        "Re: [\u554f\u984c] \u6709\u4e00\u672c\u66f8\u53eb\u505a\u63ed\u958b\u79d1\u5b78\u53f2\u4e0a\u6700\u5927\u7684\u932f\u8aa4\n",
        "  \n",
        "\u63a8 lovekwen :\u75fe...\u65e2\u7136\u5728\u5b9a\u7fa9\u4e0a\u9762:\u7f3a\u4e86\u96fb\u5b50\u7a31\"\u6b63\" \u591a\u4e86\u96fb\u5b50\u7a31\"\u8ca0\"\u7684\u8a71 05/23 01:47\u2192 lovekwen :\u6b63\u8ddf\u8ca0\u7d14\u7cb9\u53ea\u662f\u96fb\u5b50\u591a\u5be1\u800c\u5df2  \u90a3\u96fb\u5b50\u5e36\"\u8ca0\"\u96fb\u7a76\u7adf\u662f\u70ba\u4f55? 05/23 01:48\u63a8 caseypie :\u6211\u5df2\u7d93\u8aaa\u904e,\u9019\u500b\u770b\u6cd5\u662f\u932f\u7684 05/23 01:50\u2192 caseypie :\"\u89c0\u6e2c\u51fa\u4f86\u7684\u7d50\u679c\u4e0d\u662f\u9019\u6a23\" 05/23 01:50\u63a8 lovekwen :\u7528\u89c0\u5bdf\u7576\u7136\u770b\u7684\u51fa\u4f86,\u6b63\u96e2\u5b50\u548c\u8ca0\u96e2\u5b50\u662f\u4e0d\u540c\u6027\u8cea\u7684,\u53ef\u662f\u4e0d\uaf20 05/23 01:52\u6211\u4e0d\u662f\u5728\u8aaa\u9019\u500b\n",
        "\n",
        "\"\u5c11\u96fb\u8377\u548c\u6c92\u6709\u96fb\u8377\u662f\u5169\u56de\u4e8b\"\n",
        "\n",
        "\u2192 lovekwen :\u80fd\u8aaa\u660e\u96fb\u5b50\u5e36\"\"\u8ca0\"\"\u96fb\u963f \u96e2\u5b50\u7684\u6b63\u8ca0\u53ea\u662f\u76f8\u5c0d\u65bc\u521d\u614b\u800c\u5df2.. 05/23 01:53\u4f60\u53ef\u80fd\u5fd8\u8a18\u4e86\u4e00\u4ef6\u4e8b\u60c5:\n",
        "\n",
        "\u8ca0\u96e2\u5b50\u662f\u8ca0\u96e2\u5b50,\u6b63\u96e2\u5b50\u662f\u6b63\u96e2\u5b50,\u8cea\u5b50\u662f\u8cea\u5b50,\u96fb\u5b50\u662f\u96fb\u5b50\n",
        "\n",
        "\u7528\u4e9b\u6587\u5b57\u5b78\u6539\u8b8a\u6539\u8b8a\u5b9a\u7fa9,\u4f60\u4e5f\u8a31\u80fd\u8aaa\u96e2\u5b50\u53ea\u662f\u591a\u4e00\u500b\u6216\u5c11\u4e00\u500b\u96fb\u8377\n",
        "\u4f46\u662f\u8cea\u5b50\u548c\u96fb\u5b50\u6c92\u8fa6\u6cd5\u9019\u6a23\u641e\n",
        "\n",
        "\u8acb\u554f\u8cea\u5b50\u662f\u76f8\u5c0d\u65bc\u4ec0\u9ebc\u6771\u897f\u591a(\u5c11)\u4e00\u500b\u96fb\u8377?\n",
        "\u8acb\u554f\u96fb\u5b50\u662f\u76f8\u5c0d\u65bc\u4ec0\u9ebc\u6771\u897f\u5c11(\u591a)\u4e00\u500b\u96fb\u8377?\n",
        "\n",
        "\u4f60\u8981\u5b9a\u7fa9\u8cea\u5b50\u662f\u591a\u4e00\u500b\u96fb\u8377,\u90a3\u5c31\u7121\u6cd5\u89e3\u91cb\u96fb\u5b50\n",
        "\u56e0\u70ba\u8cea\u5b50\u662f\u76f8\u5c0d\u65bc\"\u5b8c\u5168\u6c92\u6709\u96fb\u8377\",\u5df2\u7d93\u5b8c\u5168\u6c92\u6709\u4e86,\u54ea\u88e1\u4f86\u7684\"\u5c11\"?\n",
        "\u53cd\u4e4b\u4ea6\u7136\n",
        "\n",
        "--\n",
        "\u203b \u767c\u4fe1\u7ad9: \u6279\u8e22\u8e22\u5be6\u696d\u574a(ptt.cc)\u25c6 From: 140.112.245.199\n",
        "\u63a8 lovekwen :\u901a\u5e38\u6211\u5011\u90fd\u4ee5\u96fb\u5b50\u4f5c\u57fa\u6e96\u5427?\u90a3\u9ebc\u591a\u4e00\u500b\u8cea\u5b50\u5c31\u662f\u5c11\u4e00\u500b\u96fb\u5b50 05/23 02:08\u63a8 lovekwen :\u800c\u4e14\u55ae\u7368\u8a0e\u8ad6\u96fb\u5b50\u8cea\u5b50,\u6709\u4ec0\u9ebc\u65b9\u6cd5\u5f97\u77e5\u4e00\u500b\u6b63\u96fb\u4e00\u500b\u8ca0\u96fb?? 05/23 02:13\u63a8 lightspeed :\u5efa\u8b70lovekwen\u53ef\u4ee5\u53bb\u7ffb\u7ffb\u570b\u4e2d\u7406\u5316\u4e2d\u7684\u96fb\u5b78\u90e8\u5206... 05/23 02:25\u2192 lightspeed :\u6211\u8a18\u5f97\u8ab2\u672c\u4e2d\u597d\u50cf\u6709\u5c0d\u65bc\u600e\u9ebc\u5b9a\u7fa9\u7684\u6b63\u8ca0\u96fb\u7684\u65b9\u6cd5\u6709\u4ea4\u4ee3 05/23 02:27\u63a8 caseypie :\u4f60\u932f\u4e86,\u4e16\u754c\u4e0a\u6709\u5169\u7a2e\u96fb\u6027,\u8cea\u5b50\u662f\u4e00\u7a2e,\u96fb\u5b50\u662f\u4e00\u7a2e 05/23 02:29\u63a8 lovekwen :lightspeed\u5927\u5927,\u60a8\u8a8d\u70ba\u570b\u4e2d\u7406\u5316\u8ab2\u672c\u6bd4\u5927\u5b78\u7269\u7406\u8ab2\u672c\u8a73\u76e1?? 05/23 02:46\u63a8 lovekwen :\u60a8\u8aaa\u8cea\u5b50\u548c\u96fb\u5b50\u6c92\u8fa6\u6cd5\u9019\u6a23\u641e,\u90a3\u7a76\u7adf\u5982\u4f55\u5f97\u77e5\u96fb\u5b50\u662f\u8ca0\u7684? 05/23 02:53\u2192 AppleFox :\u9019\u8ddf \u6211\u5011\u8aaa \"\u6c92\u6709\u5149\" \u53eb \"\u9ed1\u6697\" \u4e0d\u662f\u4e00\u6a23\u610f\u601d\u55ce? =.=' 05/23 09:57\n",
        "Adjusted// Excel// HELP// Yhat// hat// on// warep// \u4e0d\u4f46// \u5169\u6b21// \u5404\u8dd1// \u56db\u500b// \u5c08// \u5e73\u65b9// \u62ff\u4f86// \u6700\u5c0f// \u6839\u672c// \u696d// \u6b98\u5dee// \u73a9// \u76f8\u7b49// \u7adf\u7136// \u7d71// \u81ea\u8b8a\u6578// \u8a08// \u8ca0\u7684// \u8cbc// \u904a\u6232// \u96f6// \ufe3f// \uff39\n",
        "one_row_n_words =  30.0\n",
        "one_row_temp_sum.argsort()[-20:] =  [6098 6109 3864 2152 2736 6162 4396  567 4941 6207 4033 4037 6032 2266 2991\n",
        " 2259 2235 1763 2885 3000]\n",
        "one_row_temp_sum[one_row_temp_sum.argsort()[-20:]] =  [ 0.26666667  0.26666667  0.26666667  0.26666667  0.26666667  0.26666667\n",
        "  0.26666667  0.26666667  0.26666667  0.26666667  0.26666667  0.26666667\n",
        "  0.26666667  0.26666667  0.26666667  0.3         0.3         0.3         0.5\n",
        "  1.        ]\n"
       ]
      },
      {
       "html": [
        "<div style=\"max-height:1000px;max-width:1500px;overflow:auto;\">\n",
        "<table border=\"1\" class=\"dataframe\">\n",
        "  <thead>\n",
        "    <tr style=\"text-align: right;\">\n",
        "      <th></th>\n",
        "      <th>Board</th>\n",
        "      <th>title</th>\n",
        "    </tr>\n",
        "  </thead>\n",
        "  <tbody>\n",
        "    <tr>\n",
        "      <th>6098</th>\n",
        "      <td>  Economics</td>\n",
        "      <td>                   Re: [\u8a0e\u8ad6] \u793e\u6703\u7684\u504f\u597d\u600e\u9ebc\u4f86\u7684?</td>\n",
        "    </tr>\n",
        "    <tr>\n",
        "      <th>6109</th>\n",
        "      <td>  Economics</td>\n",
        "      <td>                            [\u9592\u804a] \u8cfd\u5c40\u8a66\u9a572</td>\n",
        "    </tr>\n",
        "    <tr>\n",
        "      <th>3864</th>\n",
        "      <td>  Economics</td>\n",
        "      <td>                     [\u8acb\u76ca] \u60f3\u554f\u500b\u95dc\u65bc\u7d93\u6fdf\u6578\u5b78\u7684\u554f\u984c</td>\n",
        "    </tr>\n",
        "    <tr>\n",
        "      <th>2152</th>\n",
        "      <td>       Math</td>\n",
        "      <td>                  Re: [\u8acb\u554f]\u6709\u4eba\u80fd\u63a8\u85a6\u5be6\u8b8a\u7684\u66f8\u55ce??</td>\n",
        "    </tr>\n",
        "    <tr>\n",
        "      <th>2736</th>\n",
        "      <td>  Economics</td>\n",
        "      <td> Re: [\u8a0e\u8ad6] \u8acb\u554f\u6709\u95dc\u53cd\u5411\u9700\u6c42(Inverse demand)\u7684\u554f \u2026</td>\n",
        "    </tr>\n",
        "    <tr>\n",
        "      <th>6162</th>\n",
        "      <td>  Economics</td>\n",
        "      <td>           Re: [\u8acb\u6559] \u7d22\u7f85\u65af\u653e\u7a7a\u82f1\u78c5--\u72d9\u64ca\u82f1\u78c5\u7684\u91d1\u878d\u5927\u9c77</td>\n",
        "    </tr>\n",
        "    <tr>\n",
        "      <th>4396</th>\n",
        "      <td>       Math</td>\n",
        "      <td>                  Re: [\u5fae\u7a4d] \u4e00\u984c\u5fae\u4e59\uff0c\u9019\u53ef\u4ee5\u7a4d\u55ce\uff1f</td>\n",
        "    </tr>\n",
        "    <tr>\n",
        "      <th>567 </th>\n",
        "      <td>    Physics</td>\n",
        "      <td>                         Re: \u8acb\u554f\u6709\u95dc\u661f\u7403\u7684\u554f\u984c</td>\n",
        "    </tr>\n",
        "    <tr>\n",
        "      <th>4941</th>\n",
        "      <td>       Math</td>\n",
        "      <td>                [\u5206\u6790] Apostol\u4e0a\u7684exercise</td>\n",
        "    </tr>\n",
        "    <tr>\n",
        "      <th>6207</th>\n",
        "      <td>       Math</td>\n",
        "      <td>            [\u5e7e\u4f55] \u4e00\u500b\u5c01\u9589\u5340\u584a\u76842D\u5e73\u9762\u6c42\u5176\u4e2d\u6700\u5927\u584a\u7684\u77e9\u5f62?</td>\n",
        "    </tr>\n",
        "    <tr>\n",
        "      <th>4033</th>\n",
        "      <td>  Economics</td>\n",
        "      <td>                               \u7b2c\u4e00\u6ce2\u5fb5\u6587\u767c\u9322</td>\n",
        "    </tr>\n",
        "    <tr>\n",
        "      <th>4037</th>\n",
        "      <td> Accounting</td>\n",
        "      <td>                             [\u554f\u984c] \u4fdd\u7559\u76c8\u9918</td>\n",
        "    </tr>\n",
        "    <tr>\n",
        "      <th>6032</th>\n",
        "      <td>  Economics</td>\n",
        "      <td>                      Re: 2006\u5e74\u5e74\u4e2d\u7684\u7d93\u6fdf\u9810\u6e2c</td>\n",
        "    </tr>\n",
        "    <tr>\n",
        "      <th>2266</th>\n",
        "      <td>    Physics</td>\n",
        "      <td>                       Re: [\u984c\u76ee] \u95dc\u65bc\u6ce2\u7684\u758a\u52a0</td>\n",
        "    </tr>\n",
        "    <tr>\n",
        "      <th>2991</th>\n",
        "      <td>    Physics</td>\n",
        "      <td>                   Re: [\u8acb\u76ca] \u8acb\u554f\u7269\u7406\u7cfb\u5c07\u4f86\u7684\u51fa\u8def</td>\n",
        "    </tr>\n",
        "    <tr>\n",
        "      <th>2259</th>\n",
        "      <td>    Physics</td>\n",
        "      <td>                        [\u8acb\u76ca] \u60f3\u8acb\u554f\u7528\u986f\u5fae\u93e1\u770b\u5149</td>\n",
        "    </tr>\n",
        "    <tr>\n",
        "      <th>2235</th>\n",
        "      <td> Accounting</td>\n",
        "      <td>                       Re: [\u8acb\u76ca] \u6fb3\u6d32CPA?</td>\n",
        "    </tr>\n",
        "    <tr>\n",
        "      <th>1763</th>\n",
        "      <td> Accounting</td>\n",
        "      <td>                [\u554f\u984c] \u5e74\u85aa\u8fd162\u842c\u5931\u696d \u5b58\u6b3e\u53ea\u5920\u6d3b77\u5929</td>\n",
        "    </tr>\n",
        "    <tr>\n",
        "      <th>2885</th>\n",
        "      <td>    Physics</td>\n",
        "      <td>            Re: [\u554f\u984c] \u6709\u4e00\u672c\u66f8\u53eb\u505a\u63ed\u958b\u79d1\u5b78\u53f2\u4e0a\u6700\u5927\u7684\u932f\u8aa4</td>\n",
        "    </tr>\n",
        "    <tr>\n",
        "      <th>3000</th>\n",
        "      <td>    Physics</td>\n",
        "      <td>            Re: [\u554f\u984c] \u6709\u4e00\u672c\u66f8\u53eb\u505a\u63ed\u958b\u79d1\u5b78\u53f2\u4e0a\u6700\u5927\u7684\u932f\u8aa4</td>\n",
        "    </tr>\n",
        "  </tbody>\n",
        "</table>\n",
        "<p>20 rows \u00d7 2 columns</p>\n",
        "</div>"
       ],
       "metadata": {},
       "output_type": "pyout",
       "prompt_number": 70,
       "text": [
        "           Board                                  title\n",
        "6098   Economics                    Re: [\u8a0e\u8ad6] \u793e\u6703\u7684\u504f\u597d\u600e\u9ebc\u4f86\u7684?\n",
        "6109   Economics                             [\u9592\u804a] \u8cfd\u5c40\u8a66\u9a572\n",
        "3864   Economics                      [\u8acb\u76ca] \u60f3\u554f\u500b\u95dc\u65bc\u7d93\u6fdf\u6578\u5b78\u7684\u554f\u984c\n",
        "2152        Math                   Re: [\u8acb\u554f]\u6709\u4eba\u80fd\u63a8\u85a6\u5be6\u8b8a\u7684\u66f8\u55ce??\n",
        "2736   Economics  Re: [\u8a0e\u8ad6] \u8acb\u554f\u6709\u95dc\u53cd\u5411\u9700\u6c42(Inverse demand)\u7684\u554f \u2026\n",
        "6162   Economics            Re: [\u8acb\u6559] \u7d22\u7f85\u65af\u653e\u7a7a\u82f1\u78c5--\u72d9\u64ca\u82f1\u78c5\u7684\u91d1\u878d\u5927\u9c77\n",
        "4396        Math                   Re: [\u5fae\u7a4d] \u4e00\u984c\u5fae\u4e59\uff0c\u9019\u53ef\u4ee5\u7a4d\u55ce\uff1f\n",
        "567      Physics                          Re: \u8acb\u554f\u6709\u95dc\u661f\u7403\u7684\u554f\u984c\n",
        "4941        Math                 [\u5206\u6790] Apostol\u4e0a\u7684exercise\n",
        "6207        Math             [\u5e7e\u4f55] \u4e00\u500b\u5c01\u9589\u5340\u584a\u76842D\u5e73\u9762\u6c42\u5176\u4e2d\u6700\u5927\u584a\u7684\u77e9\u5f62?\n",
        "4033   Economics                                \u7b2c\u4e00\u6ce2\u5fb5\u6587\u767c\u9322\n",
        "4037  Accounting                              [\u554f\u984c] \u4fdd\u7559\u76c8\u9918\n",
        "6032   Economics                       Re: 2006\u5e74\u5e74\u4e2d\u7684\u7d93\u6fdf\u9810\u6e2c\n",
        "2266     Physics                        Re: [\u984c\u76ee] \u95dc\u65bc\u6ce2\u7684\u758a\u52a0\n",
        "2991     Physics                    Re: [\u8acb\u76ca] \u8acb\u554f\u7269\u7406\u7cfb\u5c07\u4f86\u7684\u51fa\u8def\n",
        "2259     Physics                         [\u8acb\u76ca] \u60f3\u8acb\u554f\u7528\u986f\u5fae\u93e1\u770b\u5149\n",
        "2235  Accounting                        Re: [\u8acb\u76ca] \u6fb3\u6d32CPA?\n",
        "1763  Accounting                 [\u554f\u984c] \u5e74\u85aa\u8fd162\u842c\u5931\u696d \u5b58\u6b3e\u53ea\u5920\u6d3b77\u5929\n",
        "2885     Physics             Re: [\u554f\u984c] \u6709\u4e00\u672c\u66f8\u53eb\u505a\u63ed\u958b\u79d1\u5b78\u53f2\u4e0a\u6700\u5927\u7684\u932f\u8aa4\n",
        "3000     Physics             Re: [\u554f\u984c] \u6709\u4e00\u672c\u66f8\u53eb\u505a\u63ed\u958b\u79d1\u5b78\u53f2\u4e0a\u6700\u5927\u7684\u932f\u8aa4\n",
        "\n",
        "[20 rows x 2 columns]"
       ]
      }
     ],
     "prompt_number": 70
    },
    {
     "cell_type": "markdown",
     "metadata": {},
     "source": [
      "# Distance Summary"
     ]
    },
    {
     "cell_type": "code",
     "collapsed": false,
     "input": [
      "test_ptt_text_sdtm.change_default_summerizer(L1_col_sum)"
     ],
     "language": "python",
     "metadata": {},
     "outputs": [
      {
       "metadata": {},
       "output_type": "pyout",
       "prompt_number": 78,
       "text": [
        "True"
       ]
      }
     ],
     "prompt_number": 78
    },
    {
     "cell_type": "code",
     "collapsed": false,
     "input": [
      "ne_row_idx = 3000\n",
      "# print articles_df.ix[one_row_idx][\"title\"]\n",
      "# print articles_df.ix[one_row_idx][\"text\"]\n",
      "one_row = test_ptt_text_sdtm.select_rows([one_row_idx])\n",
      "(one_row.summary > 0)._sub_sdf.summary._data.argsort()[-20:]"
     ],
     "language": "python",
     "metadata": {},
     "outputs": [
      {
       "metadata": {},
       "output_type": "pyout",
       "prompt_number": 85,
       "text": [
        "array([199,  37,  33,   3,   6,  13,  35, 161, 190,   5,   4, 220,   7,\n",
        "        60,   9,  15,   2,   8,   0,   1])"
       ]
      }
     ],
     "prompt_number": 85
    },
    {
     "cell_type": "code",
     "collapsed": false,
     "input": [],
     "language": "python",
     "metadata": {},
     "outputs": []
    }
   ],
   "metadata": {}
  }
 ]
}