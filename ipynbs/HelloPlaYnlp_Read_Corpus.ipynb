{
 "metadata": {
  "name": ""
 },
 "nbformat": 3,
 "nbformat_minor": 0,
 "worksheets": [
  {
   "cells": [
    {
     "cell_type": "markdown",
     "metadata": {},
     "source": [
      "# PlaYnlp-Corpus\n",
      "\n",
      "### [Corpus Project] https://github.com/c3h3/PlaYnlp-Corpus"
     ]
    },
    {
     "cell_type": "markdown",
     "metadata": {},
     "source": [
      "# [First Step] git clone the project\n",
      "\n",
      "```\n",
      "$ git clone https://github.com/c3h3/PlaYnlp-Corpus.git\n",
      "```"
     ]
    },
    {
     "cell_type": "markdown",
     "metadata": {},
     "source": [
      "# [Second Step] Extract out the pickle files "
     ]
    },
    {
     "cell_type": "code",
     "collapsed": false,
     "input": [
      "!ls *.pickle"
     ],
     "language": "python",
     "metadata": {},
     "outputs": [
      {
       "output_type": "stream",
       "stream": "stdout",
       "text": [
        "PTT___Food.pickle  PTT___movie.pickle  PTT___Physics_Accounting_Economics_Math_Statistics.pickle\r\n"
       ]
      }
     ],
     "prompt_number": 1
    },
    {
     "cell_type": "markdown",
     "metadata": {},
     "source": [
      "# [Third Step] Read the DataFrame From pickle files"
     ]
    },
    {
     "cell_type": "code",
     "collapsed": false,
     "input": [
      "import pickle\n",
      "\n",
      "with open(\"PTT___movie.pickle\",\"rb\") as read_file:\n",
      "    articles_df,articles_push_df = pickle.load(read_file)"
     ],
     "language": "python",
     "metadata": {},
     "outputs": [],
     "prompt_number": 3
    },
    {
     "cell_type": "markdown",
     "metadata": {},
     "source": [
      "# [Finally] ... DataFrames on your hand ..."
     ]
    },
    {
     "cell_type": "code",
     "collapsed": false,
     "input": [
      "print articles_df.shape\n",
      "articles_df.head()"
     ],
     "language": "python",
     "metadata": {},
     "outputs": [
      {
       "output_type": "stream",
       "stream": "stdout",
       "text": [
        "(26132, 9)\n"
       ]
      },
      {
       "html": [
        "<div style=\"max-height:1000px;max-width:1500px;overflow:auto;\">\n",
        "<table border=\"1\" class=\"dataframe\">\n",
        "  <thead>\n",
        "    <tr style=\"text-align: right;\">\n",
        "      <th></th>\n",
        "      <th>Board</th>\n",
        "      <th>_id</th>\n",
        "      <th>text</th>\n",
        "      <th>time</th>\n",
        "      <th>title</th>\n",
        "      <th>url</th>\n",
        "      <th>user</th>\n",
        "      <th>user_id</th>\n",
        "      <th>user_nickname</th>\n",
        "    </tr>\n",
        "  </thead>\n",
        "  <tbody>\n",
        "    <tr>\n",
        "      <th>0</th>\n",
        "      <td> movie</td>\n",
        "      <td> 52f3dd8e74798d1630998356</td>\n",
        "      <td>   \\n\\n\u6545\u4e8b\u7684\u9023\u7d50\u5f88\u8584\u5f31\uff0c\u526a\u63a5\u6b65\u8abf\u7de9\u6162\uff0c\u662f\u4e00\u90e8\u6c92\u6709\u8868\u60c5\u7684\u96fb\u5f71\uff0c\\n\u4f46\u6211\u771f\u7684\u5f88\u611b\u90a3\u500b\u7f8e\u8853\u3002...</td>\n",
        "      <td>  \u4e2d\u592e\u60c5\u5831\u5c40 (Wed May 26 10:28:19 2004)</td>\n",
        "      <td>     \u770b\u5b8c\u300a\u5973\u795e\u9677\u9631\u300b\u7684\u788e\u788e\u5538..........</td>\n",
        "      <td>   http://www.ptt.cc/bbs/movie/M.1085596329.A.html</td>\n",
        "      <td> Comer.bbs@cia.hinet.net (SMILE!X_X),</td>\n",
        "      <td> Comer.bbs@cia.hinet.net</td>\n",
        "      <td> SMILE!X_X)</td>\n",
        "    </tr>\n",
        "    <tr>\n",
        "      <th>1</th>\n",
        "      <td> movie</td>\n",
        "      <td> 52f3dd9074798d30533cc6c5</td>\n",
        "      <td>   \\n[\u4e09\u90e8\u66f2\u4e4b\u9b25\u6cd5]\\n\u6b50\u6d32\u5f71\u58c7\u3001\u7372\u734e\u7121\u6578\\n\u88ab\u8b7d\u70ba\u7e7c\u5947\u58eb\u52de\u65af\u57fa\u300c\u85cd\u3001\u767d\u3001\u7d05\u300d\u4e4b\u5f8c\\n\u6700...</td>\n",
        "      <td>          Wed May 12 03:17:03 2004</td>\n",
        "      <td>                [\u5fc3\u5f97] \u4e09\u90e8\u66f2\u4e4b\u9b25\u6cd5</td>\n",
        "      <td> http://www.ptt.cc/bbs/movie/M.1084331792.A.C96...</td>\n",
        "      <td>                         cyrille (\u5c0f\u5049)</td>\n",
        "      <td>                 cyrille</td>\n",
        "      <td>         \u5c0f\u5049</td>\n",
        "    </tr>\n",
        "    <tr>\n",
        "      <th>2</th>\n",
        "      <td> movie</td>\n",
        "      <td> 52f3dd9374798d30583cc7fc</td>\n",
        "      <td>   \\n\u203b \u5f15\u8ff0\u300afruit.bbs@bbs.au.edu.tw (\u5927\u4e09\u4e0d\u52aa\u529b?\u7b49\u7576\u5175?\u8822)...</td>\n",
        "      <td> KKCITY (Sun Jan 11 22:29:04 2004)</td>\n",
        "      <td>             Re: \u6211\u53c8\u518d\u770b\u795e\u9b3c\u50b3\u59471\u4e86</td>\n",
        "      <td>   http://www.ptt.cc/bbs/movie/M.1073844095.A.html</td>\n",
        "      <td>             demona@kkcity.com.tw (),</td>\n",
        "      <td>    demona@kkcity.com.tw</td>\n",
        "      <td>          )</td>\n",
        "    </tr>\n",
        "    <tr>\n",
        "      <th>3</th>\n",
        "      <td> movie</td>\n",
        "      <td> 52f3dd9674798d30533cc6c6</td>\n",
        "      <td>   \\n\u56e0\u70ba\u525b\u770b\u5b8c\u7570\u578b\u6230\u5834\\n\u611f\u89ba\u61c9\u8a72\u6709\u5f88\u591a\u4eba\u4e0d\u77e5\u9053\u6700\u5f8c\u8a95\u751f\u7684\u90a3\u96bb\u662f\u4ec0\u9ebc\\n\u4e7e\u8106\u4f86\u4ecb\u7d39\u4e00\u4e0b\u7570...</td>\n",
        "      <td>          Sat Aug 28 23:16:49 2004</td>\n",
        "      <td>                   \u95dc\u65bc\u7570\u5f62\u7684\u5c0f\u5e38\u8b58</td>\n",
        "      <td> http://www.ptt.cc/bbs/movie/M.1093706165.A.6F6...</td>\n",
        "      <td>                            A1an (\u518d\u8aaa)</td>\n",
        "      <td>                    A1an</td>\n",
        "      <td>         \u518d\u8aaa</td>\n",
        "    </tr>\n",
        "    <tr>\n",
        "      <th>4</th>\n",
        "      <td> movie</td>\n",
        "      <td> 52f3dd9a74798d162c99863e</td>\n",
        "      <td>   \\nCarrie (1976\u5e74) \u6e2f\u8b6f\uff1a\u9b54\u5973\u5609\u9e97 / \u53f0\u8b6f\uff1a\u51f6\u9748\\n\u25c6 \u5c0e\u3000\u3000\u6f14\uff1a\u5e03\u840a\u6069...</td>\n",
        "      <td>          Sat Aug  7 18:37:43 2004</td>\n",
        "      <td> [\u5fc3\u5f97] Movie~\u9b54\u5973\u5609\u9e97--\u7121\u6cd5\u64fa\u812b\u7684\u6821\u5712\u60b2\u5287</td>\n",
        "      <td> http://www.ptt.cc/bbs/movie/M.1091874869.A.FA5...</td>\n",
        "      <td>                      bushman (weery)</td>\n",
        "      <td>                 bushman</td>\n",
        "      <td>      weery</td>\n",
        "    </tr>\n",
        "  </tbody>\n",
        "</table>\n",
        "<p>5 rows \u00d7 9 columns</p>\n",
        "</div>"
       ],
       "metadata": {},
       "output_type": "pyout",
       "prompt_number": 5,
       "text": [
        "   Board                       _id  \\\n",
        "0  movie  52f3dd8e74798d1630998356   \n",
        "1  movie  52f3dd9074798d30533cc6c5   \n",
        "2  movie  52f3dd9374798d30583cc7fc   \n",
        "3  movie  52f3dd9674798d30533cc6c6   \n",
        "4  movie  52f3dd9a74798d162c99863e   \n",
        "\n",
        "                                                text  \\\n",
        "0    \\n\\n\u6545\u4e8b\u7684\u9023\u7d50\u5f88\u8584\u5f31\uff0c\u526a\u63a5\u6b65\u8abf\u7de9\u6162\uff0c\u662f\u4e00\u90e8\u6c92\u6709\u8868\u60c5\u7684\u96fb\u5f71\uff0c\\n\u4f46\u6211\u771f\u7684\u5f88\u611b\u90a3\u500b\u7f8e\u8853\u3002...   \n",
        "1    \\n[\u4e09\u90e8\u66f2\u4e4b\u9b25\u6cd5]\\n\u6b50\u6d32\u5f71\u58c7\u3001\u7372\u734e\u7121\u6578\\n\u88ab\u8b7d\u70ba\u7e7c\u5947\u58eb\u52de\u65af\u57fa\u300c\u85cd\u3001\u767d\u3001\u7d05\u300d\u4e4b\u5f8c\\n\u6700...   \n",
        "2    \\n\u203b \u5f15\u8ff0\u300afruit.bbs@bbs.au.edu.tw (\u5927\u4e09\u4e0d\u52aa\u529b?\u7b49\u7576\u5175?\u8822)...   \n",
        "3    \\n\u56e0\u70ba\u525b\u770b\u5b8c\u7570\u578b\u6230\u5834\\n\u611f\u89ba\u61c9\u8a72\u6709\u5f88\u591a\u4eba\u4e0d\u77e5\u9053\u6700\u5f8c\u8a95\u751f\u7684\u90a3\u96bb\u662f\u4ec0\u9ebc\\n\u4e7e\u8106\u4f86\u4ecb\u7d39\u4e00\u4e0b\u7570...   \n",
        "4    \\nCarrie (1976\u5e74) \u6e2f\u8b6f\uff1a\u9b54\u5973\u5609\u9e97 / \u53f0\u8b6f\uff1a\u51f6\u9748\\n\u25c6 \u5c0e\u3000\u3000\u6f14\uff1a\u5e03\u840a\u6069...   \n",
        "\n",
        "                                time                       title  \\\n",
        "0   \u4e2d\u592e\u60c5\u5831\u5c40 (Wed May 26 10:28:19 2004)      \u770b\u5b8c\u300a\u5973\u795e\u9677\u9631\u300b\u7684\u788e\u788e\u5538..........   \n",
        "1           Wed May 12 03:17:03 2004                 [\u5fc3\u5f97] \u4e09\u90e8\u66f2\u4e4b\u9b25\u6cd5   \n",
        "2  KKCITY (Sun Jan 11 22:29:04 2004)              Re: \u6211\u53c8\u518d\u770b\u795e\u9b3c\u50b3\u59471\u4e86   \n",
        "3           Sat Aug 28 23:16:49 2004                    \u95dc\u65bc\u7570\u5f62\u7684\u5c0f\u5e38\u8b58   \n",
        "4           Sat Aug  7 18:37:43 2004  [\u5fc3\u5f97] Movie~\u9b54\u5973\u5609\u9e97--\u7121\u6cd5\u64fa\u812b\u7684\u6821\u5712\u60b2\u5287   \n",
        "\n",
        "                                                 url  \\\n",
        "0    http://www.ptt.cc/bbs/movie/M.1085596329.A.html   \n",
        "1  http://www.ptt.cc/bbs/movie/M.1084331792.A.C96...   \n",
        "2    http://www.ptt.cc/bbs/movie/M.1073844095.A.html   \n",
        "3  http://www.ptt.cc/bbs/movie/M.1093706165.A.6F6...   \n",
        "4  http://www.ptt.cc/bbs/movie/M.1091874869.A.FA5...   \n",
        "\n",
        "                                   user                  user_id user_nickname  \n",
        "0  Comer.bbs@cia.hinet.net (SMILE!X_X),  Comer.bbs@cia.hinet.net    SMILE!X_X)  \n",
        "1                          cyrille (\u5c0f\u5049)                  cyrille            \u5c0f\u5049  \n",
        "2              demona@kkcity.com.tw (),     demona@kkcity.com.tw             )  \n",
        "3                             A1an (\u518d\u8aaa)                     A1an            \u518d\u8aaa  \n",
        "4                       bushman (weery)                  bushman         weery  \n",
        "\n",
        "[5 rows x 9 columns]"
       ]
      }
     ],
     "prompt_number": 5
    },
    {
     "cell_type": "code",
     "collapsed": false,
     "input": [
      "print articles_push_df.shape\n",
      "articles_push_df.head()"
     ],
     "language": "python",
     "metadata": {},
     "outputs": [
      {
       "output_type": "stream",
       "stream": "stdout",
       "text": [
        "(627710, 6)\n"
       ]
      },
      {
       "html": [
        "<div style=\"max-height:1000px;max-width:1500px;overflow:auto;\">\n",
        "<table border=\"1\" class=\"dataframe\">\n",
        "  <thead>\n",
        "    <tr style=\"text-align: right;\">\n",
        "      <th></th>\n",
        "      <th>_id</th>\n",
        "      <th>content</th>\n",
        "      <th>datetime</th>\n",
        "      <th>tag</th>\n",
        "      <th>url</th>\n",
        "      <th>userid</th>\n",
        "    </tr>\n",
        "  </thead>\n",
        "  <tbody>\n",
        "    <tr>\n",
        "      <th>0</th>\n",
        "      <td> 52f3dd8e74798d1630998357</td>\n",
        "      <td> :\u5efa\u8b70\u770b\u7e6a\u672c</td>\n",
        "      <td> 04/10 17:52</td>\n",
        "      <td> \u2192</td>\n",
        "      <td> http://www.ptt.cc/bbs/movie/M.1085596329.A.html</td>\n",
        "      <td>     Rajia</td>\n",
        "    </tr>\n",
        "    <tr>\n",
        "      <th>1</th>\n",
        "      <td> 52f3dd8e74798d1630998358</td>\n",
        "      <td>  :\u883b\u597d\u770b\u7684</td>\n",
        "      <td> 12/16 16:10</td>\n",
        "      <td> \u63a8</td>\n",
        "      <td> http://www.ptt.cc/bbs/movie/M.1085596329.A.html</td>\n",
        "      <td>   Hateson</td>\n",
        "    </tr>\n",
        "    <tr>\n",
        "      <th>2</th>\n",
        "      <td> 52f3dd8e74798d1630998359</td>\n",
        "      <td>      :</td>\n",
        "      <td> 07/30 21:20</td>\n",
        "      <td> \u63a8</td>\n",
        "      <td> http://www.ptt.cc/bbs/movie/M.1085596329.A.html</td>\n",
        "      <td> WooMonkey</td>\n",
        "    </tr>\n",
        "    <tr>\n",
        "      <th>3</th>\n",
        "      <td> 52f3dd8e74798d163099835a</td>\n",
        "      <td>      :</td>\n",
        "      <td> 07/30 21:22</td>\n",
        "      <td> \u63a8</td>\n",
        "      <td> http://www.ptt.cc/bbs/movie/M.1085596329.A.html</td>\n",
        "      <td> WooMonkey</td>\n",
        "    </tr>\n",
        "    <tr>\n",
        "      <th>4</th>\n",
        "      <td> 52f3dd8e74798d163099835b</td>\n",
        "      <td>      :</td>\n",
        "      <td> 08/05 16:54</td>\n",
        "      <td> \u2192</td>\n",
        "      <td> http://www.ptt.cc/bbs/movie/M.1085596329.A.html</td>\n",
        "      <td>  wenvsjye</td>\n",
        "    </tr>\n",
        "  </tbody>\n",
        "</table>\n",
        "<p>5 rows \u00d7 6 columns</p>\n",
        "</div>"
       ],
       "metadata": {},
       "output_type": "pyout",
       "prompt_number": 6,
       "text": [
        "                        _id content     datetime tag  \\\n",
        "0  52f3dd8e74798d1630998357  :\u5efa\u8b70\u770b\u7e6a\u672c  04/10 17:52   \u2192   \n",
        "1  52f3dd8e74798d1630998358   :\u883b\u597d\u770b\u7684  12/16 16:10   \u63a8   \n",
        "2  52f3dd8e74798d1630998359       :  07/30 21:20   \u63a8   \n",
        "3  52f3dd8e74798d163099835a       :  07/30 21:22   \u63a8   \n",
        "4  52f3dd8e74798d163099835b       :  08/05 16:54   \u2192   \n",
        "\n",
        "                                               url     userid  \n",
        "0  http://www.ptt.cc/bbs/movie/M.1085596329.A.html      Rajia  \n",
        "1  http://www.ptt.cc/bbs/movie/M.1085596329.A.html    Hateson  \n",
        "2  http://www.ptt.cc/bbs/movie/M.1085596329.A.html  WooMonkey  \n",
        "3  http://www.ptt.cc/bbs/movie/M.1085596329.A.html  WooMonkey  \n",
        "4  http://www.ptt.cc/bbs/movie/M.1085596329.A.html   wenvsjye  \n",
        "\n",
        "[5 rows x 6 columns]"
       ]
      }
     ],
     "prompt_number": 6
    },
    {
     "cell_type": "code",
     "collapsed": false,
     "input": [],
     "language": "python",
     "metadata": {},
     "outputs": []
    }
   ],
   "metadata": {}
  }
 ]
}