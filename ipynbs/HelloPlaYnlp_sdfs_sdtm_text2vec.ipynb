{
 "metadata": {
  "name": ""
 },
 "nbformat": 3,
 "nbformat_minor": 0,
 "worksheets": [
  {
   "cells": [
    {
     "cell_type": "code",
     "collapsed": false,
     "input": [
      "%matplotlib inline"
     ],
     "language": "python",
     "metadata": {},
     "outputs": [],
     "prompt_number": 85
    },
    {
     "cell_type": "code",
     "collapsed": false,
     "input": [
      "import matplotlib.pylab as pylab\n",
      "pylab.rcParams['figure.figsize'] = 16, 12\n",
      "\n",
      "from matplotlib.font_manager import FontProperties\n",
      "cfont = FontProperties(fname=\"/usr/share/fonts/truetype/wqy/wqy-zenhei.ttc\", size = 14)"
     ],
     "language": "python",
     "metadata": {},
     "outputs": [],
     "prompt_number": 86
    },
    {
     "cell_type": "markdown",
     "metadata": {},
     "source": [
      "# Import tkr and vcr from PlaYnlp"
     ]
    },
    {
     "cell_type": "code",
     "collapsed": false,
     "input": [
      "import PlaYnlp.tokenizer as tkr \n",
      "import PlaYnlp.vectorizer as vcr "
     ],
     "language": "python",
     "metadata": {},
     "outputs": [],
     "prompt_number": 4
    },
    {
     "cell_type": "markdown",
     "metadata": {},
     "source": [
      "# Initialize jieba, unigram, bigram tokenizer "
     ]
    },
    {
     "cell_type": "code",
     "collapsed": false,
     "input": [
      "jieba_without_html_tokenizer = tkr.tokenize_gen(lambda text:tkr.jieba.cut(tkr.nltk.clean_html(text)))\n",
      "unigram_without_html_tokenizer = tkr.tokenize_gen(lambda text:tkr.ngram(tkr.nltk.clean_html(text),n=1))\n",
      "bigram_without_html_tokenizer = tkr.tokenize_gen(lambda text:tkr.ngram(tkr.nltk.clean_html(text),n=2))"
     ],
     "language": "python",
     "metadata": {},
     "outputs": [],
     "prompt_number": 19
    },
    {
     "cell_type": "code",
     "collapsed": false,
     "input": [
      "jieba_vec_count_kwargs = {\"tokenizer\":jieba_without_html_tokenizer,\"lowercase\":False}\n",
      "unigram_vec_count_kwargs = {\"tokenizer\":unigram_without_html_tokenizer,\"lowercase\":False}\n",
      "bigram_vec_count_kwargs = {\"tokenizer\":bigram_without_html_tokenizer,\"lowercase\":False}"
     ],
     "language": "python",
     "metadata": {},
     "outputs": [],
     "prompt_number": 20
    },
    {
     "cell_type": "markdown",
     "metadata": {},
     "source": [
      "# Setup a testing dataframe"
     ]
    },
    {
     "cell_type": "code",
     "collapsed": false,
     "input": [
      "import pandas as pd \n",
      "test_text_df = pd.DataFrame([u\"\u4eca\u5929\u5929\u6c23\u5f88\u597d\",u\"\u4eca\u5929\u5929\u6c23\u5f88\u721b\",u\"\u6211\u6068\u5b83\",u\"\u5b83\u6068\u6211\",u\"\u6211\u611b\u5b83\",u\"\u5b83\u611b\u6211\",u\"\u4eca\u5929\u5f88\u8870\",\"\u65e5\u5b50\u4e00\u5929\u4e00\u5929\u904e\",\"\u5929\u5929\u5237\u7259\u6d17\u81c9\"])\n",
      "test_text_df.columns = [\"text\"]\n",
      "test_text_df"
     ],
     "language": "python",
     "metadata": {},
     "outputs": [
      {
       "html": [
        "<div style=\"max-height:1000px;max-width:1500px;overflow:auto;\">\n",
        "<table border=\"1\" class=\"dataframe\">\n",
        "  <thead>\n",
        "    <tr style=\"text-align: right;\">\n",
        "      <th></th>\n",
        "      <th>text</th>\n",
        "    </tr>\n",
        "  </thead>\n",
        "  <tbody>\n",
        "    <tr>\n",
        "      <th>0</th>\n",
        "      <td>  \u4eca\u5929\u5929\u6c23\u5f88\u597d</td>\n",
        "    </tr>\n",
        "    <tr>\n",
        "      <th>1</th>\n",
        "      <td>  \u4eca\u5929\u5929\u6c23\u5f88\u721b</td>\n",
        "    </tr>\n",
        "    <tr>\n",
        "      <th>2</th>\n",
        "      <td>     \u6211\u6068\u5b83</td>\n",
        "    </tr>\n",
        "    <tr>\n",
        "      <th>3</th>\n",
        "      <td>     \u5b83\u6068\u6211</td>\n",
        "    </tr>\n",
        "    <tr>\n",
        "      <th>4</th>\n",
        "      <td>     \u6211\u611b\u5b83</td>\n",
        "    </tr>\n",
        "    <tr>\n",
        "      <th>5</th>\n",
        "      <td>     \u5b83\u611b\u6211</td>\n",
        "    </tr>\n",
        "    <tr>\n",
        "      <th>6</th>\n",
        "      <td>    \u4eca\u5929\u5f88\u8870</td>\n",
        "    </tr>\n",
        "    <tr>\n",
        "      <th>7</th>\n",
        "      <td> \u65e5\u5b50\u4e00\u5929\u4e00\u5929\u904e</td>\n",
        "    </tr>\n",
        "    <tr>\n",
        "      <th>8</th>\n",
        "      <td>  \u5929\u5929\u5237\u7259\u6d17\u81c9</td>\n",
        "    </tr>\n",
        "  </tbody>\n",
        "</table>\n",
        "<p>9 rows \u00d7 1 columns</p>\n",
        "</div>"
       ],
       "metadata": {},
       "output_type": "pyout",
       "prompt_number": 21,
       "text": [
        "      text\n",
        "0   \u4eca\u5929\u5929\u6c23\u5f88\u597d\n",
        "1   \u4eca\u5929\u5929\u6c23\u5f88\u721b\n",
        "2      \u6211\u6068\u5b83\n",
        "3      \u5b83\u6068\u6211\n",
        "4      \u6211\u611b\u5b83\n",
        "5      \u5b83\u611b\u6211\n",
        "6     \u4eca\u5929\u5f88\u8870\n",
        "7  \u65e5\u5b50\u4e00\u5929\u4e00\u5929\u904e\n",
        "8   \u5929\u5929\u5237\u7259\u6d17\u81c9\n",
        "\n",
        "[9 rows x 1 columns]"
       ]
      }
     ],
     "prompt_number": 21
    },
    {
     "cell_type": "markdown",
     "metadata": {},
     "source": [
      "# [text2vec] vectorize_text"
     ]
    },
    {
     "cell_type": "code",
     "collapsed": false,
     "input": [
      "test_jieba_sdtm = vcr.vectorize_text(df=test_text_df,\n",
      "                                     text_col=\"text\", \n",
      "                                     idx_col=None, \n",
      "                                     cond_query={},\n",
      "                                     idx_query= [],\n",
      "                                     vect_gen=vcr.CountVectorizer, \n",
      "                                     vect_gen_init_kwargs = jieba_vec_count_kwargs)\n",
      "\n",
      "test_unigram_sdtm = vcr.vectorize_text(df=test_text_df,\n",
      "                                     text_col=\"text\", \n",
      "                                     idx_col=None, \n",
      "                                     cond_query={},\n",
      "                                     idx_query= [],\n",
      "                                     vect_gen=vcr.CountVectorizer, \n",
      "                                     vect_gen_init_kwargs = unigram_vec_count_kwargs)\n",
      "\n",
      "test_bigram_sdtm = vcr.vectorize_text(df=test_text_df,\n",
      "                                     text_col=\"text\", \n",
      "                                     idx_col=None, \n",
      "                                     cond_query={},\n",
      "                                     idx_query= [],\n",
      "                                     vect_gen=vcr.CountVectorizer, \n",
      "                                     vect_gen_init_kwargs = bigram_vec_count_kwargs)"
     ],
     "language": "python",
     "metadata": {},
     "outputs": [],
     "prompt_number": 22
    },
    {
     "cell_type": "markdown",
     "metadata": {},
     "source": [
      "# Viewing text2vec Results with pd.DataFrame "
     ]
    },
    {
     "cell_type": "code",
     "collapsed": false,
     "input": [
      "pd.DataFrame(test_jieba_sdtm._smatrix.todense(), columns=test_jieba_sdtm._col_idx)"
     ],
     "language": "python",
     "metadata": {},
     "outputs": [
      {
       "html": [
        "<div style=\"max-height:1000px;max-width:1500px;overflow:auto;\">\n",
        "<table border=\"1\" class=\"dataframe\">\n",
        "  <thead>\n",
        "    <tr style=\"text-align: right;\">\n",
        "      <th></th>\n",
        "      <th>\u4e00\u5929</th>\n",
        "      <th>\u4eca\u5929</th>\n",
        "      <th>\u4eca\u5929\u5929\u6c23</th>\n",
        "      <th>\u5237\u7259</th>\n",
        "      <th>\u5929\u5929</th>\n",
        "      <th>\u597d</th>\n",
        "      <th>\u5b83</th>\n",
        "      <th>\u5f88</th>\n",
        "      <th>\u5f88\u721b</th>\n",
        "      <th>\u5f88\u8870</th>\n",
        "      <th>\u6068</th>\n",
        "      <th>\u611b\u6211</th>\n",
        "      <th>\u6211</th>\n",
        "      <th>\u6211\u611b\u5b83</th>\n",
        "      <th>\u65e5\u5b50</th>\n",
        "      <th>\u6d17\u81c9</th>\n",
        "      <th>\u904e</th>\n",
        "    </tr>\n",
        "  </thead>\n",
        "  <tbody>\n",
        "    <tr>\n",
        "      <th>0</th>\n",
        "      <td> 0</td>\n",
        "      <td> 0</td>\n",
        "      <td> 1</td>\n",
        "      <td> 0</td>\n",
        "      <td> 0</td>\n",
        "      <td> 1</td>\n",
        "      <td> 0</td>\n",
        "      <td> 1</td>\n",
        "      <td> 0</td>\n",
        "      <td> 0</td>\n",
        "      <td> 0</td>\n",
        "      <td> 0</td>\n",
        "      <td> 0</td>\n",
        "      <td> 0</td>\n",
        "      <td> 0</td>\n",
        "      <td> 0</td>\n",
        "      <td> 0</td>\n",
        "    </tr>\n",
        "    <tr>\n",
        "      <th>1</th>\n",
        "      <td> 0</td>\n",
        "      <td> 0</td>\n",
        "      <td> 1</td>\n",
        "      <td> 0</td>\n",
        "      <td> 0</td>\n",
        "      <td> 0</td>\n",
        "      <td> 0</td>\n",
        "      <td> 0</td>\n",
        "      <td> 1</td>\n",
        "      <td> 0</td>\n",
        "      <td> 0</td>\n",
        "      <td> 0</td>\n",
        "      <td> 0</td>\n",
        "      <td> 0</td>\n",
        "      <td> 0</td>\n",
        "      <td> 0</td>\n",
        "      <td> 0</td>\n",
        "    </tr>\n",
        "    <tr>\n",
        "      <th>2</th>\n",
        "      <td> 0</td>\n",
        "      <td> 0</td>\n",
        "      <td> 0</td>\n",
        "      <td> 0</td>\n",
        "      <td> 0</td>\n",
        "      <td> 0</td>\n",
        "      <td> 1</td>\n",
        "      <td> 0</td>\n",
        "      <td> 0</td>\n",
        "      <td> 0</td>\n",
        "      <td> 1</td>\n",
        "      <td> 0</td>\n",
        "      <td> 1</td>\n",
        "      <td> 0</td>\n",
        "      <td> 0</td>\n",
        "      <td> 0</td>\n",
        "      <td> 0</td>\n",
        "    </tr>\n",
        "    <tr>\n",
        "      <th>3</th>\n",
        "      <td> 0</td>\n",
        "      <td> 0</td>\n",
        "      <td> 0</td>\n",
        "      <td> 0</td>\n",
        "      <td> 0</td>\n",
        "      <td> 0</td>\n",
        "      <td> 1</td>\n",
        "      <td> 0</td>\n",
        "      <td> 0</td>\n",
        "      <td> 0</td>\n",
        "      <td> 1</td>\n",
        "      <td> 0</td>\n",
        "      <td> 1</td>\n",
        "      <td> 0</td>\n",
        "      <td> 0</td>\n",
        "      <td> 0</td>\n",
        "      <td> 0</td>\n",
        "    </tr>\n",
        "    <tr>\n",
        "      <th>4</th>\n",
        "      <td> 0</td>\n",
        "      <td> 0</td>\n",
        "      <td> 0</td>\n",
        "      <td> 0</td>\n",
        "      <td> 0</td>\n",
        "      <td> 0</td>\n",
        "      <td> 0</td>\n",
        "      <td> 0</td>\n",
        "      <td> 0</td>\n",
        "      <td> 0</td>\n",
        "      <td> 0</td>\n",
        "      <td> 0</td>\n",
        "      <td> 0</td>\n",
        "      <td> 1</td>\n",
        "      <td> 0</td>\n",
        "      <td> 0</td>\n",
        "      <td> 0</td>\n",
        "    </tr>\n",
        "    <tr>\n",
        "      <th>5</th>\n",
        "      <td> 0</td>\n",
        "      <td> 0</td>\n",
        "      <td> 0</td>\n",
        "      <td> 0</td>\n",
        "      <td> 0</td>\n",
        "      <td> 0</td>\n",
        "      <td> 1</td>\n",
        "      <td> 0</td>\n",
        "      <td> 0</td>\n",
        "      <td> 0</td>\n",
        "      <td> 0</td>\n",
        "      <td> 1</td>\n",
        "      <td> 0</td>\n",
        "      <td> 0</td>\n",
        "      <td> 0</td>\n",
        "      <td> 0</td>\n",
        "      <td> 0</td>\n",
        "    </tr>\n",
        "    <tr>\n",
        "      <th>6</th>\n",
        "      <td> 0</td>\n",
        "      <td> 1</td>\n",
        "      <td> 0</td>\n",
        "      <td> 0</td>\n",
        "      <td> 0</td>\n",
        "      <td> 0</td>\n",
        "      <td> 0</td>\n",
        "      <td> 0</td>\n",
        "      <td> 0</td>\n",
        "      <td> 1</td>\n",
        "      <td> 0</td>\n",
        "      <td> 0</td>\n",
        "      <td> 0</td>\n",
        "      <td> 0</td>\n",
        "      <td> 0</td>\n",
        "      <td> 0</td>\n",
        "      <td> 0</td>\n",
        "    </tr>\n",
        "    <tr>\n",
        "      <th>7</th>\n",
        "      <td> 2</td>\n",
        "      <td> 0</td>\n",
        "      <td> 0</td>\n",
        "      <td> 0</td>\n",
        "      <td> 0</td>\n",
        "      <td> 0</td>\n",
        "      <td> 0</td>\n",
        "      <td> 0</td>\n",
        "      <td> 0</td>\n",
        "      <td> 0</td>\n",
        "      <td> 0</td>\n",
        "      <td> 0</td>\n",
        "      <td> 0</td>\n",
        "      <td> 0</td>\n",
        "      <td> 1</td>\n",
        "      <td> 0</td>\n",
        "      <td> 1</td>\n",
        "    </tr>\n",
        "    <tr>\n",
        "      <th>8</th>\n",
        "      <td> 0</td>\n",
        "      <td> 0</td>\n",
        "      <td> 0</td>\n",
        "      <td> 1</td>\n",
        "      <td> 1</td>\n",
        "      <td> 0</td>\n",
        "      <td> 0</td>\n",
        "      <td> 0</td>\n",
        "      <td> 0</td>\n",
        "      <td> 0</td>\n",
        "      <td> 0</td>\n",
        "      <td> 0</td>\n",
        "      <td> 0</td>\n",
        "      <td> 0</td>\n",
        "      <td> 0</td>\n",
        "      <td> 1</td>\n",
        "      <td> 0</td>\n",
        "    </tr>\n",
        "  </tbody>\n",
        "</table>\n",
        "<p>9 rows \u00d7 17 columns</p>\n",
        "</div>"
       ],
       "metadata": {},
       "output_type": "pyout",
       "prompt_number": 27,
       "text": [
        "   \u4e00\u5929  \u4eca\u5929  \u4eca\u5929\u5929\u6c23  \u5237\u7259  \u5929\u5929  \u597d  \u5b83  \u5f88  \u5f88\u721b  \u5f88\u8870  \u6068  \u611b\u6211  \u6211  \u6211\u611b\u5b83  \u65e5\u5b50  \u6d17\u81c9  \u904e\n",
        "0   0   0     1   0   0  1  0  1   0   0  0   0  0    0   0   0  0\n",
        "1   0   0     1   0   0  0  0  0   1   0  0   0  0    0   0   0  0\n",
        "2   0   0     0   0   0  0  1  0   0   0  1   0  1    0   0   0  0\n",
        "3   0   0     0   0   0  0  1  0   0   0  1   0  1    0   0   0  0\n",
        "4   0   0     0   0   0  0  0  0   0   0  0   0  0    1   0   0  0\n",
        "5   0   0     0   0   0  0  1  0   0   0  0   1  0    0   0   0  0\n",
        "6   0   1     0   0   0  0  0  0   0   1  0   0  0    0   0   0  0\n",
        "7   2   0     0   0   0  0  0  0   0   0  0   0  0    0   1   0  1\n",
        "8   0   0     0   1   1  0  0  0   0   0  0   0  0    0   0   1  0\n",
        "\n",
        "[9 rows x 17 columns]"
       ]
      }
     ],
     "prompt_number": 27
    },
    {
     "cell_type": "code",
     "collapsed": false,
     "input": [
      "pd.DataFrame(test_unigram_sdtm._smatrix.todense(), columns=test_unigram_sdtm._col_idx)"
     ],
     "language": "python",
     "metadata": {},
     "outputs": [
      {
       "html": [
        "<div style=\"max-height:1000px;max-width:1500px;overflow:auto;\">\n",
        "<table border=\"1\" class=\"dataframe\">\n",
        "  <thead>\n",
        "    <tr style=\"text-align: right;\">\n",
        "      <th></th>\n",
        "      <th>\u4e00</th>\n",
        "      <th>\u4eca</th>\n",
        "      <th>\u5237</th>\n",
        "      <th>\u5929</th>\n",
        "      <th>\u597d</th>\n",
        "      <th>\u5b50</th>\n",
        "      <th>\u5b83</th>\n",
        "      <th>\u5f88</th>\n",
        "      <th>\u6068</th>\n",
        "      <th>\u611b</th>\n",
        "      <th>\u6211</th>\n",
        "      <th>\u65e5</th>\n",
        "      <th>\u6c23</th>\n",
        "      <th>\u6d17</th>\n",
        "      <th>\u721b</th>\n",
        "      <th>\u7259</th>\n",
        "      <th>\u81c9</th>\n",
        "      <th>\u8870</th>\n",
        "      <th>\u904e</th>\n",
        "    </tr>\n",
        "  </thead>\n",
        "  <tbody>\n",
        "    <tr>\n",
        "      <th>0</th>\n",
        "      <td> 0</td>\n",
        "      <td> 1</td>\n",
        "      <td> 0</td>\n",
        "      <td> 2</td>\n",
        "      <td> 1</td>\n",
        "      <td> 0</td>\n",
        "      <td> 0</td>\n",
        "      <td> 1</td>\n",
        "      <td> 0</td>\n",
        "      <td> 0</td>\n",
        "      <td> 0</td>\n",
        "      <td> 0</td>\n",
        "      <td> 1</td>\n",
        "      <td> 0</td>\n",
        "      <td> 0</td>\n",
        "      <td> 0</td>\n",
        "      <td> 0</td>\n",
        "      <td> 0</td>\n",
        "      <td> 0</td>\n",
        "    </tr>\n",
        "    <tr>\n",
        "      <th>1</th>\n",
        "      <td> 0</td>\n",
        "      <td> 1</td>\n",
        "      <td> 0</td>\n",
        "      <td> 2</td>\n",
        "      <td> 0</td>\n",
        "      <td> 0</td>\n",
        "      <td> 0</td>\n",
        "      <td> 1</td>\n",
        "      <td> 0</td>\n",
        "      <td> 0</td>\n",
        "      <td> 0</td>\n",
        "      <td> 0</td>\n",
        "      <td> 1</td>\n",
        "      <td> 0</td>\n",
        "      <td> 1</td>\n",
        "      <td> 0</td>\n",
        "      <td> 0</td>\n",
        "      <td> 0</td>\n",
        "      <td> 0</td>\n",
        "    </tr>\n",
        "    <tr>\n",
        "      <th>2</th>\n",
        "      <td> 0</td>\n",
        "      <td> 0</td>\n",
        "      <td> 0</td>\n",
        "      <td> 0</td>\n",
        "      <td> 0</td>\n",
        "      <td> 0</td>\n",
        "      <td> 1</td>\n",
        "      <td> 0</td>\n",
        "      <td> 1</td>\n",
        "      <td> 0</td>\n",
        "      <td> 1</td>\n",
        "      <td> 0</td>\n",
        "      <td> 0</td>\n",
        "      <td> 0</td>\n",
        "      <td> 0</td>\n",
        "      <td> 0</td>\n",
        "      <td> 0</td>\n",
        "      <td> 0</td>\n",
        "      <td> 0</td>\n",
        "    </tr>\n",
        "    <tr>\n",
        "      <th>3</th>\n",
        "      <td> 0</td>\n",
        "      <td> 0</td>\n",
        "      <td> 0</td>\n",
        "      <td> 0</td>\n",
        "      <td> 0</td>\n",
        "      <td> 0</td>\n",
        "      <td> 1</td>\n",
        "      <td> 0</td>\n",
        "      <td> 1</td>\n",
        "      <td> 0</td>\n",
        "      <td> 1</td>\n",
        "      <td> 0</td>\n",
        "      <td> 0</td>\n",
        "      <td> 0</td>\n",
        "      <td> 0</td>\n",
        "      <td> 0</td>\n",
        "      <td> 0</td>\n",
        "      <td> 0</td>\n",
        "      <td> 0</td>\n",
        "    </tr>\n",
        "    <tr>\n",
        "      <th>4</th>\n",
        "      <td> 0</td>\n",
        "      <td> 0</td>\n",
        "      <td> 0</td>\n",
        "      <td> 0</td>\n",
        "      <td> 0</td>\n",
        "      <td> 0</td>\n",
        "      <td> 1</td>\n",
        "      <td> 0</td>\n",
        "      <td> 0</td>\n",
        "      <td> 1</td>\n",
        "      <td> 1</td>\n",
        "      <td> 0</td>\n",
        "      <td> 0</td>\n",
        "      <td> 0</td>\n",
        "      <td> 0</td>\n",
        "      <td> 0</td>\n",
        "      <td> 0</td>\n",
        "      <td> 0</td>\n",
        "      <td> 0</td>\n",
        "    </tr>\n",
        "    <tr>\n",
        "      <th>5</th>\n",
        "      <td> 0</td>\n",
        "      <td> 0</td>\n",
        "      <td> 0</td>\n",
        "      <td> 0</td>\n",
        "      <td> 0</td>\n",
        "      <td> 0</td>\n",
        "      <td> 1</td>\n",
        "      <td> 0</td>\n",
        "      <td> 0</td>\n",
        "      <td> 1</td>\n",
        "      <td> 1</td>\n",
        "      <td> 0</td>\n",
        "      <td> 0</td>\n",
        "      <td> 0</td>\n",
        "      <td> 0</td>\n",
        "      <td> 0</td>\n",
        "      <td> 0</td>\n",
        "      <td> 0</td>\n",
        "      <td> 0</td>\n",
        "    </tr>\n",
        "    <tr>\n",
        "      <th>6</th>\n",
        "      <td> 0</td>\n",
        "      <td> 1</td>\n",
        "      <td> 0</td>\n",
        "      <td> 1</td>\n",
        "      <td> 0</td>\n",
        "      <td> 0</td>\n",
        "      <td> 0</td>\n",
        "      <td> 1</td>\n",
        "      <td> 0</td>\n",
        "      <td> 0</td>\n",
        "      <td> 0</td>\n",
        "      <td> 0</td>\n",
        "      <td> 0</td>\n",
        "      <td> 0</td>\n",
        "      <td> 0</td>\n",
        "      <td> 0</td>\n",
        "      <td> 0</td>\n",
        "      <td> 1</td>\n",
        "      <td> 0</td>\n",
        "    </tr>\n",
        "    <tr>\n",
        "      <th>7</th>\n",
        "      <td> 2</td>\n",
        "      <td> 0</td>\n",
        "      <td> 0</td>\n",
        "      <td> 2</td>\n",
        "      <td> 0</td>\n",
        "      <td> 1</td>\n",
        "      <td> 0</td>\n",
        "      <td> 0</td>\n",
        "      <td> 0</td>\n",
        "      <td> 0</td>\n",
        "      <td> 0</td>\n",
        "      <td> 1</td>\n",
        "      <td> 0</td>\n",
        "      <td> 0</td>\n",
        "      <td> 0</td>\n",
        "      <td> 0</td>\n",
        "      <td> 0</td>\n",
        "      <td> 0</td>\n",
        "      <td> 1</td>\n",
        "    </tr>\n",
        "    <tr>\n",
        "      <th>8</th>\n",
        "      <td> 0</td>\n",
        "      <td> 0</td>\n",
        "      <td> 1</td>\n",
        "      <td> 2</td>\n",
        "      <td> 0</td>\n",
        "      <td> 0</td>\n",
        "      <td> 0</td>\n",
        "      <td> 0</td>\n",
        "      <td> 0</td>\n",
        "      <td> 0</td>\n",
        "      <td> 0</td>\n",
        "      <td> 0</td>\n",
        "      <td> 0</td>\n",
        "      <td> 1</td>\n",
        "      <td> 0</td>\n",
        "      <td> 1</td>\n",
        "      <td> 1</td>\n",
        "      <td> 0</td>\n",
        "      <td> 0</td>\n",
        "    </tr>\n",
        "  </tbody>\n",
        "</table>\n",
        "<p>9 rows \u00d7 19 columns</p>\n",
        "</div>"
       ],
       "metadata": {},
       "output_type": "pyout",
       "prompt_number": 28,
       "text": [
        "   \u4e00  \u4eca  \u5237  \u5929  \u597d  \u5b50  \u5b83  \u5f88  \u6068  \u611b  \u6211  \u65e5  \u6c23  \u6d17  \u721b  \u7259  \u81c9  \u8870  \u904e\n",
        "0  0  1  0  2  1  0  0  1  0  0  0  0  1  0  0  0  0  0  0\n",
        "1  0  1  0  2  0  0  0  1  0  0  0  0  1  0  1  0  0  0  0\n",
        "2  0  0  0  0  0  0  1  0  1  0  1  0  0  0  0  0  0  0  0\n",
        "3  0  0  0  0  0  0  1  0  1  0  1  0  0  0  0  0  0  0  0\n",
        "4  0  0  0  0  0  0  1  0  0  1  1  0  0  0  0  0  0  0  0\n",
        "5  0  0  0  0  0  0  1  0  0  1  1  0  0  0  0  0  0  0  0\n",
        "6  0  1  0  1  0  0  0  1  0  0  0  0  0  0  0  0  0  1  0\n",
        "7  2  0  0  2  0  1  0  0  0  0  0  1  0  0  0  0  0  0  1\n",
        "8  0  0  1  2  0  0  0  0  0  0  0  0  0  1  0  1  1  0  0\n",
        "\n",
        "[9 rows x 19 columns]"
       ]
      }
     ],
     "prompt_number": 28
    },
    {
     "cell_type": "code",
     "collapsed": false,
     "input": [
      "pd.DataFrame(test_bigram_sdtm._smatrix.todense(), columns=test_bigram_sdtm._col_idx)"
     ],
     "language": "python",
     "metadata": {},
     "outputs": [
      {
       "html": [
        "<div style=\"max-height:1000px;max-width:1500px;overflow:auto;\">\n",
        "<table border=\"1\" class=\"dataframe\">\n",
        "  <thead>\n",
        "    <tr style=\"text-align: right;\">\n",
        "      <th></th>\n",
        "      <th>\u4e00\u5929</th>\n",
        "      <th>\u4eca\u5929</th>\n",
        "      <th>\u5237\u7259</th>\n",
        "      <th>\u5929\u4e00</th>\n",
        "      <th>\u5929\u5237</th>\n",
        "      <th>\u5929\u5929</th>\n",
        "      <th>\u5929\u5f88</th>\n",
        "      <th>\u5929\u6c23</th>\n",
        "      <th>\u5929\u904e</th>\n",
        "      <th>\u5b50\u4e00</th>\n",
        "      <th>\u5b83\u6068</th>\n",
        "      <th>\u5b83\u611b</th>\n",
        "      <th>\u5f88\u597d</th>\n",
        "      <th>\u5f88\u721b</th>\n",
        "      <th>\u5f88\u8870</th>\n",
        "      <th>\u6068\u5b83</th>\n",
        "      <th>\u6068\u6211</th>\n",
        "      <th>\u611b\u5b83</th>\n",
        "      <th>\u611b\u6211</th>\n",
        "      <th>\u6211\u6068</th>\n",
        "      <th></th>\n",
        "    </tr>\n",
        "  </thead>\n",
        "  <tbody>\n",
        "    <tr>\n",
        "      <th>0</th>\n",
        "      <td> 0</td>\n",
        "      <td> 1</td>\n",
        "      <td> 0</td>\n",
        "      <td> 0</td>\n",
        "      <td> 0</td>\n",
        "      <td> 1</td>\n",
        "      <td> 0</td>\n",
        "      <td> 1</td>\n",
        "      <td> 0</td>\n",
        "      <td> 0</td>\n",
        "      <td> 0</td>\n",
        "      <td> 0</td>\n",
        "      <td> 1</td>\n",
        "      <td> 0</td>\n",
        "      <td> 0</td>\n",
        "      <td> 0</td>\n",
        "      <td> 0</td>\n",
        "      <td> 0</td>\n",
        "      <td> 0</td>\n",
        "      <td> 0</td>\n",
        "      <td>...</td>\n",
        "    </tr>\n",
        "    <tr>\n",
        "      <th>1</th>\n",
        "      <td> 0</td>\n",
        "      <td> 1</td>\n",
        "      <td> 0</td>\n",
        "      <td> 0</td>\n",
        "      <td> 0</td>\n",
        "      <td> 1</td>\n",
        "      <td> 0</td>\n",
        "      <td> 1</td>\n",
        "      <td> 0</td>\n",
        "      <td> 0</td>\n",
        "      <td> 0</td>\n",
        "      <td> 0</td>\n",
        "      <td> 0</td>\n",
        "      <td> 1</td>\n",
        "      <td> 0</td>\n",
        "      <td> 0</td>\n",
        "      <td> 0</td>\n",
        "      <td> 0</td>\n",
        "      <td> 0</td>\n",
        "      <td> 0</td>\n",
        "      <td>...</td>\n",
        "    </tr>\n",
        "    <tr>\n",
        "      <th>2</th>\n",
        "      <td> 0</td>\n",
        "      <td> 0</td>\n",
        "      <td> 0</td>\n",
        "      <td> 0</td>\n",
        "      <td> 0</td>\n",
        "      <td> 0</td>\n",
        "      <td> 0</td>\n",
        "      <td> 0</td>\n",
        "      <td> 0</td>\n",
        "      <td> 0</td>\n",
        "      <td> 0</td>\n",
        "      <td> 0</td>\n",
        "      <td> 0</td>\n",
        "      <td> 0</td>\n",
        "      <td> 0</td>\n",
        "      <td> 1</td>\n",
        "      <td> 0</td>\n",
        "      <td> 0</td>\n",
        "      <td> 0</td>\n",
        "      <td> 1</td>\n",
        "      <td>...</td>\n",
        "    </tr>\n",
        "    <tr>\n",
        "      <th>3</th>\n",
        "      <td> 0</td>\n",
        "      <td> 0</td>\n",
        "      <td> 0</td>\n",
        "      <td> 0</td>\n",
        "      <td> 0</td>\n",
        "      <td> 0</td>\n",
        "      <td> 0</td>\n",
        "      <td> 0</td>\n",
        "      <td> 0</td>\n",
        "      <td> 0</td>\n",
        "      <td> 1</td>\n",
        "      <td> 0</td>\n",
        "      <td> 0</td>\n",
        "      <td> 0</td>\n",
        "      <td> 0</td>\n",
        "      <td> 0</td>\n",
        "      <td> 1</td>\n",
        "      <td> 0</td>\n",
        "      <td> 0</td>\n",
        "      <td> 0</td>\n",
        "      <td>...</td>\n",
        "    </tr>\n",
        "    <tr>\n",
        "      <th>4</th>\n",
        "      <td> 0</td>\n",
        "      <td> 0</td>\n",
        "      <td> 0</td>\n",
        "      <td> 0</td>\n",
        "      <td> 0</td>\n",
        "      <td> 0</td>\n",
        "      <td> 0</td>\n",
        "      <td> 0</td>\n",
        "      <td> 0</td>\n",
        "      <td> 0</td>\n",
        "      <td> 0</td>\n",
        "      <td> 0</td>\n",
        "      <td> 0</td>\n",
        "      <td> 0</td>\n",
        "      <td> 0</td>\n",
        "      <td> 0</td>\n",
        "      <td> 0</td>\n",
        "      <td> 1</td>\n",
        "      <td> 0</td>\n",
        "      <td> 0</td>\n",
        "      <td>...</td>\n",
        "    </tr>\n",
        "    <tr>\n",
        "      <th>5</th>\n",
        "      <td> 0</td>\n",
        "      <td> 0</td>\n",
        "      <td> 0</td>\n",
        "      <td> 0</td>\n",
        "      <td> 0</td>\n",
        "      <td> 0</td>\n",
        "      <td> 0</td>\n",
        "      <td> 0</td>\n",
        "      <td> 0</td>\n",
        "      <td> 0</td>\n",
        "      <td> 0</td>\n",
        "      <td> 1</td>\n",
        "      <td> 0</td>\n",
        "      <td> 0</td>\n",
        "      <td> 0</td>\n",
        "      <td> 0</td>\n",
        "      <td> 0</td>\n",
        "      <td> 0</td>\n",
        "      <td> 1</td>\n",
        "      <td> 0</td>\n",
        "      <td>...</td>\n",
        "    </tr>\n",
        "    <tr>\n",
        "      <th>6</th>\n",
        "      <td> 0</td>\n",
        "      <td> 1</td>\n",
        "      <td> 0</td>\n",
        "      <td> 0</td>\n",
        "      <td> 0</td>\n",
        "      <td> 0</td>\n",
        "      <td> 1</td>\n",
        "      <td> 0</td>\n",
        "      <td> 0</td>\n",
        "      <td> 0</td>\n",
        "      <td> 0</td>\n",
        "      <td> 0</td>\n",
        "      <td> 0</td>\n",
        "      <td> 0</td>\n",
        "      <td> 1</td>\n",
        "      <td> 0</td>\n",
        "      <td> 0</td>\n",
        "      <td> 0</td>\n",
        "      <td> 0</td>\n",
        "      <td> 0</td>\n",
        "      <td>...</td>\n",
        "    </tr>\n",
        "    <tr>\n",
        "      <th>7</th>\n",
        "      <td> 2</td>\n",
        "      <td> 0</td>\n",
        "      <td> 0</td>\n",
        "      <td> 1</td>\n",
        "      <td> 0</td>\n",
        "      <td> 0</td>\n",
        "      <td> 0</td>\n",
        "      <td> 0</td>\n",
        "      <td> 1</td>\n",
        "      <td> 1</td>\n",
        "      <td> 0</td>\n",
        "      <td> 0</td>\n",
        "      <td> 0</td>\n",
        "      <td> 0</td>\n",
        "      <td> 0</td>\n",
        "      <td> 0</td>\n",
        "      <td> 0</td>\n",
        "      <td> 0</td>\n",
        "      <td> 0</td>\n",
        "      <td> 0</td>\n",
        "      <td>...</td>\n",
        "    </tr>\n",
        "    <tr>\n",
        "      <th>8</th>\n",
        "      <td> 0</td>\n",
        "      <td> 0</td>\n",
        "      <td> 1</td>\n",
        "      <td> 0</td>\n",
        "      <td> 1</td>\n",
        "      <td> 1</td>\n",
        "      <td> 0</td>\n",
        "      <td> 0</td>\n",
        "      <td> 0</td>\n",
        "      <td> 0</td>\n",
        "      <td> 0</td>\n",
        "      <td> 0</td>\n",
        "      <td> 0</td>\n",
        "      <td> 0</td>\n",
        "      <td> 0</td>\n",
        "      <td> 0</td>\n",
        "      <td> 0</td>\n",
        "      <td> 0</td>\n",
        "      <td> 0</td>\n",
        "      <td> 0</td>\n",
        "      <td>...</td>\n",
        "    </tr>\n",
        "  </tbody>\n",
        "</table>\n",
        "<p>9 rows \u00d7 25 columns</p>\n",
        "</div>"
       ],
       "metadata": {},
       "output_type": "pyout",
       "prompt_number": 29,
       "text": [
        "   \u4e00\u5929  \u4eca\u5929  \u5237\u7259  \u5929\u4e00  \u5929\u5237  \u5929\u5929  \u5929\u5f88  \u5929\u6c23  \u5929\u904e  \u5b50\u4e00  \u5b83\u6068  \u5b83\u611b  \u5f88\u597d  \u5f88\u721b  \u5f88\u8870  \u6068\u5b83  \u6068\u6211  \u611b\u5b83  \u611b\u6211  \\\n",
        "0   0   1   0   0   0   1   0   1   0   0   0   0   1   0   0   0   0   0   0   \n",
        "1   0   1   0   0   0   1   0   1   0   0   0   0   0   1   0   0   0   0   0   \n",
        "2   0   0   0   0   0   0   0   0   0   0   0   0   0   0   0   1   0   0   0   \n",
        "3   0   0   0   0   0   0   0   0   0   0   1   0   0   0   0   0   1   0   0   \n",
        "4   0   0   0   0   0   0   0   0   0   0   0   0   0   0   0   0   0   1   0   \n",
        "5   0   0   0   0   0   0   0   0   0   0   0   1   0   0   0   0   0   0   1   \n",
        "6   0   1   0   0   0   0   1   0   0   0   0   0   0   0   1   0   0   0   0   \n",
        "7   2   0   0   1   0   0   0   0   1   1   0   0   0   0   0   0   0   0   0   \n",
        "8   0   0   1   0   1   1   0   0   0   0   0   0   0   0   0   0   0   0   0   \n",
        "\n",
        "   \u6211\u6068      \n",
        "0   0 ...  \n",
        "1   0 ...  \n",
        "2   1 ...  \n",
        "3   0 ...  \n",
        "4   0 ...  \n",
        "5   0 ...  \n",
        "6   0 ...  \n",
        "7   0 ...  \n",
        "8   0 ...  \n",
        "\n",
        "[9 rows x 25 columns]"
       ]
      }
     ],
     "prompt_number": 29
    },
    {
     "cell_type": "markdown",
     "metadata": {},
     "source": [
      "# Viewing text2vec Results with pylab.spy"
     ]
    },
    {
     "cell_type": "code",
     "collapsed": false,
     "input": [
      "fig = pylab.figure()\n",
      "ax1 = fig.add_axes([0.0,0.0,1.0,1.0])\n",
      "ax1.spy(test_jieba_sdtm._smatrix)\n",
      "ax1.set_xticks(range(len(test_jieba_sdtm._term_idx)))\n",
      "ax1.set_xticklabels(test_jieba_sdtm._term_idx, fontproperties=cfont)"
     ],
     "language": "python",
     "metadata": {},
     "outputs": [
      {
       "metadata": {},
       "output_type": "pyout",
       "prompt_number": 42,
       "text": [
        "[<matplotlib.text.Text at 0x1eb5a9d0>,\n",
        " <matplotlib.text.Text at 0x1e6c6550>,\n",
        " <matplotlib.text.Text at 0x1eb52fd0>,\n",
        " <matplotlib.text.Text at 0x1eb4b310>,\n",
        " <matplotlib.text.Text at 0x1dc68c10>,\n",
        " <matplotlib.text.Text at 0x1dc981d0>,\n",
        " <matplotlib.text.Text at 0x1f72c710>,\n",
        " <matplotlib.text.Text at 0x1f72ce50>,\n",
        " <matplotlib.text.Text at 0x1eb605d0>,\n",
        " <matplotlib.text.Text at 0x1eb60d10>,\n",
        " <matplotlib.text.Text at 0x1eb5b490>,\n",
        " <matplotlib.text.Text at 0x1eb5bbd0>,\n",
        " <matplotlib.text.Text at 0x1eb5c350>,\n",
        " <matplotlib.text.Text at 0x1eb5ca90>,\n",
        " <matplotlib.text.Text at 0x1e754210>,\n",
        " <matplotlib.text.Text at 0x1e754950>,\n",
        " <matplotlib.text.Text at 0x1e7820d0>]"
       ]
      },
      {
       "metadata": {},
       "output_type": "display_data",
       "png": "[encoded data removed]",
       "text": [
        "<matplotlib.figure.Figure at 0x1e6eafd0>"
       ]
      }
     ],
     "prompt_number": 42
    },
    {
     "cell_type": "code",
     "collapsed": false,
     "input": [
      "fig = pylab.figure()\n",
      "ax1 = fig.add_axes([0.0,0.0,1.0,1.0])\n",
      "ax1.spy(test_unigram_sdtm._smatrix)\n",
      "ax1.set_xticks(range(len(test_unigram_sdtm._term_idx)))\n",
      "ax1.set_xticklabels(test_unigram_sdtm._term_idx, fontproperties=cfont)"
     ],
     "language": "python",
     "metadata": {},
     "outputs": [
      {
       "metadata": {},
       "output_type": "pyout",
       "prompt_number": 38,
       "text": [
        "[<matplotlib.text.Text at 0x1e2328d0>,\n",
        " <matplotlib.text.Text at 0x1dc6ff90>,\n",
        " <matplotlib.text.Text at 0x1dc85590>,\n",
        " <matplotlib.text.Text at 0x1dc85cd0>,\n",
        " <matplotlib.text.Text at 0x1dc89450>,\n",
        " <matplotlib.text.Text at 0x1dc89b90>,\n",
        " <matplotlib.text.Text at 0x1dc8a310>,\n",
        " <matplotlib.text.Text at 0x1dc8aa50>,\n",
        " <matplotlib.text.Text at 0x1dc8e1d0>,\n",
        " <matplotlib.text.Text at 0x1dc8e910>,\n",
        " <matplotlib.text.Text at 0x1dc90090>,\n",
        " <matplotlib.text.Text at 0x1dc907d0>,\n",
        " <matplotlib.text.Text at 0x1dc90f10>,\n",
        " <matplotlib.text.Text at 0x1dc92690>,\n",
        " <matplotlib.text.Text at 0x1dc92dd0>,\n",
        " <matplotlib.text.Text at 0x1dc96550>,\n",
        " <matplotlib.text.Text at 0x1dc96c90>,\n",
        " <matplotlib.text.Text at 0x1dc98410>,\n",
        " <matplotlib.text.Text at 0x1dc98b50>]"
       ]
      },
      {
       "metadata": {},
       "output_type": "display_data",
       "png": "[encoded data removed]",
       "text": [
        "<matplotlib.figure.Figure at 0x1e23d510>"
       ]
      }
     ],
     "prompt_number": 38
    },
    {
     "cell_type": "code",
     "collapsed": false,
     "input": [
      "fig = pylab.figure()\n",
      "ax1 = fig.add_axes([0.0,0.0,1.0,1.0])\n",
      "ax1.spy(test_bigram_sdtm._smatrix)\n",
      "ax1.set_xticks(range(len(test_bigram_sdtm._term_idx)))\n",
      "ax1.set_xticklabels(test_bigram_sdtm._term_idx, fontproperties=cfont)"
     ],
     "language": "python",
     "metadata": {},
     "outputs": [
      {
       "metadata": {},
       "output_type": "pyout",
       "prompt_number": 37,
       "text": [
        "[<matplotlib.text.Text at 0x1cb82d10>,\n",
        " <matplotlib.text.Text at 0x1e2136d0>,\n",
        " <matplotlib.text.Text at 0x1e225c90>,\n",
        " <matplotlib.text.Text at 0x1e229410>,\n",
        " <matplotlib.text.Text at 0x1e229b50>,\n",
        " <matplotlib.text.Text at 0x1e22c2d0>,\n",
        " <matplotlib.text.Text at 0x1e22ca10>,\n",
        " <matplotlib.text.Text at 0x1e22f190>,\n",
        " <matplotlib.text.Text at 0x1e22f8d0>,\n",
        " <matplotlib.text.Text at 0x1e232050>,\n",
        " <matplotlib.text.Text at 0x1e232790>,\n",
        " <matplotlib.text.Text at 0x1e232ed0>,\n",
        " <matplotlib.text.Text at 0x1e233650>,\n",
        " <matplotlib.text.Text at 0x1e233d90>,\n",
        " <matplotlib.text.Text at 0x1e237510>,\n",
        " <matplotlib.text.Text at 0x1e237c50>,\n",
        " <matplotlib.text.Text at 0x1e23b3d0>,\n",
        " <matplotlib.text.Text at 0x1e23bb10>,\n",
        " <matplotlib.text.Text at 0x1e23d290>,\n",
        " <matplotlib.text.Text at 0x1e23d9d0>,\n",
        " <matplotlib.text.Text at 0x1e240150>,\n",
        " <matplotlib.text.Text at 0x1e240890>,\n",
        " <matplotlib.text.Text at 0x1e240fd0>,\n",
        " <matplotlib.text.Text at 0x1e244750>,\n",
        " <matplotlib.text.Text at 0x1e244e90>]"
       ]
      },
      {
       "metadata": {},
       "output_type": "display_data",
       "png": "[encoded data removed]",
       "text": [
        "<matplotlib.figure.Figure at 0x1d398b10>"
       ]
      }
     ],
     "prompt_number": 37
    },
    {
     "cell_type": "markdown",
     "metadata": {},
     "source": [
      "# Load PTT Data"
     ]
    },
    {
     "cell_type": "code",
     "collapsed": false,
     "input": [
      "import pickle\n",
      "\n",
      "with open(\"PTT___Physics_Accounting_Economics_Math_Statistics.pickle\",\"rb\") as read_file:\n",
      "    articles_df,articles_push_df = pickle.load(read_file)"
     ],
     "language": "python",
     "metadata": {},
     "outputs": [],
     "prompt_number": 44
    },
    {
     "cell_type": "code",
     "collapsed": false,
     "input": [
      "articles_df.head()"
     ],
     "language": "python",
     "metadata": {},
     "outputs": [
      {
       "html": [
        "<div style=\"max-height:1000px;max-width:1500px;overflow:auto;\">\n",
        "<table border=\"1\" class=\"dataframe\">\n",
        "  <thead>\n",
        "    <tr style=\"text-align: right;\">\n",
        "      <th></th>\n",
        "      <th>Board</th>\n",
        "      <th>_id</th>\n",
        "      <th>text</th>\n",
        "      <th>time</th>\n",
        "      <th>title</th>\n",
        "      <th>url</th>\n",
        "      <th>user</th>\n",
        "      <th>user_id</th>\n",
        "      <th>user_nickname</th>\n",
        "    </tr>\n",
        "  </thead>\n",
        "  <tbody>\n",
        "    <tr>\n",
        "      <th>0</th>\n",
        "      <td> Accounting</td>\n",
        "      <td> 52f223db74798d7e7bbe9965</td>\n",
        "      <td>   \\n102\u5e74\u8d85\u7d1a\u51fd\u6388CD\u7248\\n\\n\u9ad8\u6703(\u856d\u9756) \u6b32\u552e$2500 NT\\n\\n\u516c\u53f8\u6cd5(\u8463\u8b19...</td>\n",
        "      <td> Wed Feb  5 13:48:58 2014</td>\n",
        "      <td>             [\u51fa\u552e] 102\u5e74\u8d85\u7d1a\u51fd\u6388 \u9ad8\u6703\u3001\u516c\u53f8\u6cd5</td>\n",
        "      <td> http://www.ptt.cc/bbs/Accounting/M.1391579341....</td>\n",
        "      <td>           sunnykiller (\u5929\u7c5f\u4e4b\u8072)</td>\n",
        "      <td>  sunnykiller</td>\n",
        "      <td> \u5929\u7c5f\u4e4b\u8072</td>\n",
        "    </tr>\n",
        "    <tr>\n",
        "      <th>1</th>\n",
        "      <td> Accounting</td>\n",
        "      <td> 52f223db74798d7e78be9965</td>\n",
        "      <td>   \\n\u5982\u6a19\u984c\\n\u5269\u4e0b\u4e00\u6b21\u6388\u6b0a\u5373\u53ef\\n\u8b1b\u7fa9\u6211\u6709\\n\u4f46\u662f\u7f3a\u7b46\u8a18\\n\u5982\u679c\u9858\u610f\u8ce3\u7b46\u8a18\u4e5fOK\\n\\n...</td>\n",
        "      <td> Wed Feb  5 14:44:15 2014</td>\n",
        "      <td>               [\u5fb5\u6c42]\u5f90\u9326\u83ef\u9ad8\u6703DVD or \u8b1b\u7fa9</td>\n",
        "      <td> http://www.ptt.cc/bbs/Accounting/M.1391582662....</td>\n",
        "      <td> JilSander (Doer brokenheart)</td>\n",
        "      <td>    JilSander</td>\n",
        "      <td>  Doe</td>\n",
        "    </tr>\n",
        "    <tr>\n",
        "      <th>2</th>\n",
        "      <td> Accounting</td>\n",
        "      <td> 52f223db74798d7e76be9965</td>\n",
        "      <td>   \\n\u203b \u5f15\u8ff0\u300aflora713 (pretty world)\u300b\u4e4b\u9298\u8a00\uff1a: 1. \u51fa\u552e\uff1a\u5fd7...</td>\n",
        "      <td> Wed Feb  5 16:47:30 2014</td>\n",
        "      <td> Re: [\u51fa\u552e/\u8d08\u9001] \u5fd7\u5149\u5c0a\u69ae\u512a\u60e0\u5238/ \u8d85\u7d1a\u51fd\u6388VIP\u63a8\u85a6\u79ae\u5238</td>\n",
        "      <td> http://www.ptt.cc/bbs/Accounting/M.1391590052....</td>\n",
        "      <td>            lphotoimpact (\u6953\u96ea)</td>\n",
        "      <td> lphotoimpact</td>\n",
        "      <td>   \u6953\u96ea</td>\n",
        "    </tr>\n",
        "    <tr>\n",
        "      <th>3</th>\n",
        "      <td> Accounting</td>\n",
        "      <td> 52f223dd74798d7e7abe9965</td>\n",
        "      <td>   \\n\\n     \u521d\u6703\\n     http://goods.ruten.com.tw/...</td>\n",
        "      <td> Wed Feb  5 14:57:59 2014</td>\n",
        "      <td>      [\u552e] \u521d\u7d1a\u6703\u8a08\u5b78.\u4e2d\u7d1a\u6703\u8a08\u5b78.\u6210\u672c\u6703\u8a08 DVD+\u8b1b\u7fa9</td>\n",
        "      <td> http://www.ptt.cc/bbs/Accounting/M.1391583483....</td>\n",
        "      <td>                  ap22 (\u65cb\u8f49\u74f6\u5b50)</td>\n",
        "      <td>         ap22</td>\n",
        "      <td> \u65cb\u8f49\u74f6\u5b50</td>\n",
        "    </tr>\n",
        "    <tr>\n",
        "      <th>4</th>\n",
        "      <td>       Math</td>\n",
        "      <td> 52f223de74798d7e78be9966</td>\n",
        "      <td>   \\n\u984c\u76ee:\u627e\u5230\u4e00\u500b\u5207\u7dda\u5e73\u9762\u5728:f(x,y)=x^2y\u7684\u5e73\u9762\u4e0a\uff0c\u4ea4\u9ede\u70ba(2,-1,-4)\\...</td>\n",
        "      <td> Tue Feb  4 15:48:18 2014</td>\n",
        "      <td>                 [\u5fae\u7a4d] \u5229\u7528\u65b9\u5411\u5c0e\u6578\u6c42\u5207\u7dda\u4e00\u554f</td>\n",
        "      <td> http://www.ptt.cc/bbs/Math/M.1391500100.A.7D1....</td>\n",
        "      <td>                  gbd37 (\u6709\u5920\u778e)</td>\n",
        "      <td>        gbd37</td>\n",
        "      <td>  \u6709\u5920\u778e</td>\n",
        "    </tr>\n",
        "  </tbody>\n",
        "</table>\n",
        "<p>5 rows \u00d7 9 columns</p>\n",
        "</div>"
       ],
       "metadata": {},
       "output_type": "pyout",
       "prompt_number": 48,
       "text": [
        "        Board                       _id  \\\n",
        "0  Accounting  52f223db74798d7e7bbe9965   \n",
        "1  Accounting  52f223db74798d7e78be9965   \n",
        "2  Accounting  52f223db74798d7e76be9965   \n",
        "3  Accounting  52f223dd74798d7e7abe9965   \n",
        "4        Math  52f223de74798d7e78be9966   \n",
        "\n",
        "                                                text  \\\n",
        "0    \\n102\u5e74\u8d85\u7d1a\u51fd\u6388CD\u7248\\n\\n\u9ad8\u6703(\u856d\u9756) \u6b32\u552e$2500 NT\\n\\n\u516c\u53f8\u6cd5(\u8463\u8b19...   \n",
        "1    \\n\u5982\u6a19\u984c\\n\u5269\u4e0b\u4e00\u6b21\u6388\u6b0a\u5373\u53ef\\n\u8b1b\u7fa9\u6211\u6709\\n\u4f46\u662f\u7f3a\u7b46\u8a18\\n\u5982\u679c\u9858\u610f\u8ce3\u7b46\u8a18\u4e5fOK\\n\\n...   \n",
        "2    \\n\u203b \u5f15\u8ff0\u300aflora713 (pretty world)\u300b\u4e4b\u9298\u8a00\uff1a: 1. \u51fa\u552e\uff1a\u5fd7...   \n",
        "3    \\n\\n     \u521d\u6703\\n     http://goods.ruten.com.tw/...   \n",
        "4    \\n\u984c\u76ee:\u627e\u5230\u4e00\u500b\u5207\u7dda\u5e73\u9762\u5728:f(x,y)=x^2y\u7684\u5e73\u9762\u4e0a\uff0c\u4ea4\u9ede\u70ba(2,-1,-4)\\...   \n",
        "\n",
        "                       time                             title  \\\n",
        "0  Wed Feb  5 13:48:58 2014              [\u51fa\u552e] 102\u5e74\u8d85\u7d1a\u51fd\u6388 \u9ad8\u6703\u3001\u516c\u53f8\u6cd5   \n",
        "1  Wed Feb  5 14:44:15 2014                [\u5fb5\u6c42]\u5f90\u9326\u83ef\u9ad8\u6703DVD or \u8b1b\u7fa9   \n",
        "2  Wed Feb  5 16:47:30 2014  Re: [\u51fa\u552e/\u8d08\u9001] \u5fd7\u5149\u5c0a\u69ae\u512a\u60e0\u5238/ \u8d85\u7d1a\u51fd\u6388VIP\u63a8\u85a6\u79ae\u5238   \n",
        "3  Wed Feb  5 14:57:59 2014       [\u552e] \u521d\u7d1a\u6703\u8a08\u5b78.\u4e2d\u7d1a\u6703\u8a08\u5b78.\u6210\u672c\u6703\u8a08 DVD+\u8b1b\u7fa9   \n",
        "4  Tue Feb  4 15:48:18 2014                  [\u5fae\u7a4d] \u5229\u7528\u65b9\u5411\u5c0e\u6578\u6c42\u5207\u7dda\u4e00\u554f   \n",
        "\n",
        "                                                 url  \\\n",
        "0  http://www.ptt.cc/bbs/Accounting/M.1391579341....   \n",
        "1  http://www.ptt.cc/bbs/Accounting/M.1391582662....   \n",
        "2  http://www.ptt.cc/bbs/Accounting/M.1391590052....   \n",
        "3  http://www.ptt.cc/bbs/Accounting/M.1391583483....   \n",
        "4  http://www.ptt.cc/bbs/Math/M.1391500100.A.7D1....   \n",
        "\n",
        "                           user       user_id user_nickname  \n",
        "0            sunnykiller (\u5929\u7c5f\u4e4b\u8072)   sunnykiller          \u5929\u7c5f\u4e4b\u8072  \n",
        "1  JilSander (Doer brokenheart)     JilSander           Doe  \n",
        "2             lphotoimpact (\u6953\u96ea)  lphotoimpact            \u6953\u96ea  \n",
        "3                   ap22 (\u65cb\u8f49\u74f6\u5b50)          ap22          \u65cb\u8f49\u74f6\u5b50  \n",
        "4                   gbd37 (\u6709\u5920\u778e)         gbd37           \u6709\u5920\u778e  \n",
        "\n",
        "[5 rows x 9 columns]"
       ]
      }
     ],
     "prompt_number": 48
    },
    {
     "cell_type": "markdown",
     "metadata": {},
     "source": [
      "# vectorize \"title\" column"
     ]
    },
    {
     "cell_type": "code",
     "collapsed": false,
     "input": [
      "test_ptt_title_sdtm = vcr.vectorize_text(df=articles_df,\n",
      "                                         text_col=\"title\", \n",
      "                                         idx_col=\"url\", \n",
      "                                         cond_query={},\n",
      "                                         idx_query= [],\n",
      "                                         vect_gen=vcr.CountVectorizer, \n",
      "                                         vect_gen_init_kwargs = jieba_vec_count_kwargs)"
     ],
     "language": "python",
     "metadata": {},
     "outputs": [],
     "prompt_number": 49
    },
    {
     "cell_type": "code",
     "collapsed": false,
     "input": [
      "test_ptt_title_sdtm"
     ],
     "language": "python",
     "metadata": {},
     "outputs": [
      {
       "metadata": {},
       "output_type": "pyout",
       "prompt_number": 50,
       "text": [
        "{'col_idx': array([u' ', u'!', u'\"', ..., u'\\uff56', u'\\uff5c', u'\\uff5e'], \n",
        "       dtype='<U32'),\n",
        " 'row_idx': array([u'http://www.ptt.cc/bbs/Accounting/M.1391579341.A.20A.html',\n",
        "        u'http://www.ptt.cc/bbs/Accounting/M.1391582662.A.8A1.html',\n",
        "        u'http://www.ptt.cc/bbs/Accounting/M.1391590052.A.364.html', ...,\n",
        "        u'http://www.ptt.cc/bbs/Statistics/M.1360249087.A.CF0.html',\n",
        "        u'http://www.ptt.cc/bbs/Statistics/M.1360337458.A.280.html',\n",
        "        u'http://www.ptt.cc/bbs/Statistics/M.1360509019.A.DF2.html'], dtype=object),\n",
        " 'smatrix': <85276x27599 sparse matrix of type '<type 'numpy.int64'>'\n",
        " \twith 826954 stored elements in Compressed Sparse Column format>}"
       ]
      }
     ],
     "prompt_number": 50
    },
    {
     "cell_type": "markdown",
     "metadata": {},
     "source": [
      "# Create $l_0$-norm column summarizer"
     ]
    },
    {
     "cell_type": "code",
     "collapsed": false,
     "input": [
      "L0_norm_col_summarizer = lambda xx:xx.sign().sum(axis=0)"
     ],
     "language": "python",
     "metadata": {},
     "outputs": [],
     "prompt_number": 52
    },
    {
     "cell_type": "markdown",
     "metadata": {},
     "source": [
      "# Summerize how many times \"every terms\" appear in all documents ... "
     ]
    },
    {
     "cell_type": "code",
     "collapsed": false,
     "input": [
      "test_ptt_title_sdtm.summarize_sdf(L0_norm_col_summarizer)"
     ],
     "language": "python",
     "metadata": {},
     "outputs": [
      {
       "metadata": {},
       "output_type": "pyout",
       "prompt_number": 53,
       "text": [
        "{'sdf': {'col_idx': array([u' ', u'!', u'\"', ..., u'\\uff56', u'\\uff5c', u'\\uff5e'], \n",
        "        dtype='<U32'),\n",
        "  'row_idx': array([u'http://www.ptt.cc/bbs/Accounting/M.1391579341.A.20A.html',\n",
        "         u'http://www.ptt.cc/bbs/Accounting/M.1391582662.A.8A1.html',\n",
        "         u'http://www.ptt.cc/bbs/Accounting/M.1391590052.A.364.html', ...,\n",
        "         u'http://www.ptt.cc/bbs/Statistics/M.1360249087.A.CF0.html',\n",
        "         u'http://www.ptt.cc/bbs/Statistics/M.1360337458.A.280.html',\n",
        "         u'http://www.ptt.cc/bbs/Statistics/M.1360509019.A.DF2.html'], dtype=object),\n",
        "  'smatrix': <85276x27599 sparse matrix of type '<type 'numpy.int64'>'\n",
        "  \twith 826954 stored elements in Compressed Sparse Column format>},\n",
        " 'summary_data': array([79968,   805,   654, ...,     2,     1,   122]),\n",
        " 'summary_idx': array([u' ', u'!', u'\"', ..., u'\\uff56', u'\\uff5c', u'\\uff5e'], \n",
        "       dtype='<U32'),\n",
        " 'summary_type': 'col'}"
       ]
      }
     ],
     "prompt_number": 53
    },
    {
     "cell_type": "markdown",
     "metadata": {},
     "source": [
      "# Take terms which appears more than 10 times"
     ]
    },
    {
     "cell_type": "code",
     "collapsed": false,
     "input": [
      "(test_ptt_title_sdtm.summarize_sdf(L0_norm_col_summarizer) > 0)._filtered_idx.shape"
     ],
     "language": "python",
     "metadata": {},
     "outputs": [
      {
       "metadata": {},
       "output_type": "pyout",
       "prompt_number": 61,
       "text": [
        "(27599,)"
       ]
      }
     ],
     "prompt_number": 61
    },
    {
     "cell_type": "code",
     "collapsed": false,
     "input": [
      "(test_ptt_title_sdtm.summarize_sdf(L0_norm_col_summarizer) > 10)._filtered_idx.shape"
     ],
     "language": "python",
     "metadata": {},
     "outputs": [
      {
       "metadata": {},
       "output_type": "pyout",
       "prompt_number": 59,
       "text": [
        "(4272,)"
       ]
      }
     ],
     "prompt_number": 59
    },
    {
     "cell_type": "code",
     "collapsed": false,
     "input": [
      "#print \"// \".join((test_ptt_title_sdtm.summarize_sdf(L0_norm_col_summarizer) > 10)._filtered_idx)"
     ],
     "language": "python",
     "metadata": {},
     "outputs": [],
     "prompt_number": 76
    },
    {
     "cell_type": "markdown",
     "metadata": {},
     "source": [
      "# Take terms which appears more than 10 times and less than 100 times"
     ]
    },
    {
     "cell_type": "code",
     "collapsed": false,
     "input": [
      "((test_ptt_title_sdtm.summarize_sdf(L0_norm_col_summarizer) > 10) & (test_ptt_title_sdtm.summarize_sdf(L0_norm_col_summarizer) < 100))._filtered_idx.shape"
     ],
     "language": "python",
     "metadata": {},
     "outputs": [
      {
       "metadata": {},
       "output_type": "pyout",
       "prompt_number": 72,
       "text": [
        "(3598,)"
       ]
      }
     ],
     "prompt_number": 72
    },
    {
     "cell_type": "code",
     "collapsed": false,
     "input": [
      "#print \"// \".join(((test_ptt_title_sdtm.summarize_sdf(L0_norm_col_summarizer) > 10) & (test_ptt_title_sdtm.summarize_sdf(L0_norm_col_summarizer) < 100))._filtered_idx)"
     ],
     "language": "python",
     "metadata": {},
     "outputs": [],
     "prompt_number": 75
    },
    {
     "cell_type": "markdown",
     "metadata": {},
     "source": [
      "# Take sdtm which appears more than 10 times and less than 100 times"
     ]
    },
    {
     "cell_type": "code",
     "collapsed": false,
     "input": [
      "filtered_sdtm = ((test_ptt_title_sdtm.summarize_sdf(L0_norm_col_summarizer) > 10) & (test_ptt_title_sdtm.summarize_sdf(L0_norm_col_summarizer) < 100))._sub_sdf\n",
      "print \"type(filtered_sdtm) = \",type(filtered_sdtm)\n",
      "filtered_sdtm"
     ],
     "language": "python",
     "metadata": {},
     "outputs": [
      {
       "output_type": "stream",
       "stream": "stdout",
       "text": [
        "type(filtered_sdtm) =  <class 'PlaYnlp.vectorizer.SparseDocumentTermMatrix'>\n"
       ]
      },
      {
       "metadata": {},
       "output_type": "pyout",
       "prompt_number": 80,
       "text": [
        "{'col_idx': array([u'#', u'$', u'%', ..., u'\\uff1c', u'\\uff1d', u'\\uff23'], \n",
        "       dtype='<U32'),\n",
        " 'row_idx': array([u'http://www.ptt.cc/bbs/Accounting/M.1391579341.A.20A.html',\n",
        "        u'http://www.ptt.cc/bbs/Accounting/M.1391582662.A.8A1.html',\n",
        "        u'http://www.ptt.cc/bbs/Accounting/M.1391590052.A.364.html', ...,\n",
        "        u'http://www.ptt.cc/bbs/Statistics/M.1360249087.A.CF0.html',\n",
        "        u'http://www.ptt.cc/bbs/Statistics/M.1360337458.A.280.html',\n",
        "        u'http://www.ptt.cc/bbs/Statistics/M.1360509019.A.DF2.html'], dtype=object),\n",
        " 'smatrix': <85276x3598 sparse matrix of type '<type 'numpy.int64'>'\n",
        " \twith 107411 stored elements in Compressed Sparse Column format>}"
       ]
      }
     ],
     "prompt_number": 80
    },
    {
     "cell_type": "code",
     "collapsed": false,
     "input": [
      "fig = pylab.figure()\n",
      "ax1 = fig.add_axes([0.0,0.0,1.0,1.0])\n",
      "pylab.spy(filtered_sdtm._smatrix[:1000,:])"
     ],
     "language": "python",
     "metadata": {},
     "outputs": [
      {
       "metadata": {},
       "output_type": "pyout",
       "prompt_number": 94,
       "text": [
        "<matplotlib.lines.Line2D at 0x40218610>"
       ]
      },
      {
       "metadata": {},
       "output_type": "display_data",
       "png": "[encoded data removed]",
       "text": [
        "<matplotlib.figure.Figure at 0x40396290>"
       ]
      }
     ],
     "prompt_number": 94
    },
    {
     "cell_type": "code",
     "collapsed": false,
     "input": [
      "fig = pylab.figure()\n",
      "ax1 = fig.add_axes([0.0,0.0,1.0,1.0])\n",
      "pylab.spy(filtered_sdtm._smatrix[1000:2000,:])"
     ],
     "language": "python",
     "metadata": {},
     "outputs": [
      {
       "metadata": {},
       "output_type": "pyout",
       "prompt_number": 95,
       "text": [
        "<matplotlib.lines.Line2D at 0x42e7c450>"
       ]
      },
      {
       "metadata": {},
       "output_type": "display_data",
       "png": "[encoded data removed]",
       "text": [
        "<matplotlib.figure.Figure at 0x40396710>"
       ]
      }
     ],
     "prompt_number": 95
    },
    {
     "cell_type": "markdown",
     "metadata": {},
     "source": [
      "# Use select_rows with pd.DataFrame.groupby"
     ]
    },
    {
     "cell_type": "code",
     "collapsed": false,
     "input": [
      "grouped = articles_df.groupby(\"Board\")\n",
      "grouped.groups.keys()"
     ],
     "language": "python",
     "metadata": {},
     "outputs": [
      {
       "metadata": {},
       "output_type": "pyout",
       "prompt_number": 131,
       "text": [
        "[u'Statistics', u'Accounting', u'Economics', u'Physics', u'Math']"
       ]
      }
     ],
     "prompt_number": 131
    },
    {
     "cell_type": "code",
     "collapsed": false,
     "input": [
      "one_group = u'Accounting'\n",
      "one_group_ix = grouped.groups[one_group]\n",
      "one_group_sdtm = filtered_sdtm.select_rows(one_group_ix)\n",
      "one_group_sdtm"
     ],
     "language": "python",
     "metadata": {},
     "outputs": [
      {
       "metadata": {},
       "output_type": "pyout",
       "prompt_number": 138,
       "text": [
        "{'col_idx': array([u'#', u'$', u'%', ..., u'\\uff1c', u'\\uff1d', u'\\uff23'], \n",
        "       dtype='<U32'),\n",
        " 'row_idx': array([u'http://www.ptt.cc/bbs/Accounting/M.1391579341.A.20A.html',\n",
        "        u'http://www.ptt.cc/bbs/Accounting/M.1391582662.A.8A1.html',\n",
        "        u'http://www.ptt.cc/bbs/Accounting/M.1391590052.A.364.html', ...,\n",
        "        u'http://www.ptt.cc/bbs/Accounting/M.1388857344.A.617.html',\n",
        "        u'http://www.ptt.cc/bbs/Accounting/M.1388937222.A.D5F.html',\n",
        "        u'http://www.ptt.cc/bbs/Accounting/M.1389000970.A.662.html'], dtype=object),\n",
        " 'smatrix': <18786x3598 sparse matrix of type '<type 'numpy.int64'>'\n",
        " \twith 23152 stored elements in Compressed Sparse Column format>}"
       ]
      }
     ],
     "prompt_number": 138
    },
    {
     "cell_type": "code",
     "collapsed": false,
     "input": [
      "one_group_summary = one_group_sdtm.summarize_sdf()\n",
      "one_group_summary"
     ],
     "language": "python",
     "metadata": {},
     "outputs": [
      {
       "metadata": {},
       "output_type": "pyout",
       "prompt_number": 139,
       "text": [
        "{'sdf': {'col_idx': array([u'#', u'$', u'%', ..., u'\\uff1c', u'\\uff1d', u'\\uff23'], \n",
        "        dtype='<U32'),\n",
        "  'row_idx': array([u'http://www.ptt.cc/bbs/Accounting/M.1391579341.A.20A.html',\n",
        "         u'http://www.ptt.cc/bbs/Accounting/M.1391582662.A.8A1.html',\n",
        "         u'http://www.ptt.cc/bbs/Accounting/M.1391590052.A.364.html', ...,\n",
        "         u'http://www.ptt.cc/bbs/Accounting/M.1388857344.A.617.html',\n",
        "         u'http://www.ptt.cc/bbs/Accounting/M.1388937222.A.D5F.html',\n",
        "         u'http://www.ptt.cc/bbs/Accounting/M.1389000970.A.662.html'], dtype=object),\n",
        "  'smatrix': <18786x3598 sparse matrix of type '<type 'numpy.int64'>'\n",
        "  \twith 23152 stored elements in Compressed Sparse Column format>},\n",
        " 'summary_data': array([11, 12,  2, ...,  0,  0,  2]),\n",
        " 'summary_idx': array([u'#', u'$', u'%', ..., u'\\uff1c', u'\\uff1d', u'\\uff23'], \n",
        "       dtype='<U32'),\n",
        " 'summary_type': 'col'}"
       ]
      }
     ],
     "prompt_number": 139
    },
    {
     "cell_type": "code",
     "collapsed": false,
     "input": [
      "fig = pylab.figure()\n",
      "ax1 = fig.add_axes([0.0,0.0,1.0,1.0])\n",
      "ax1.bar(range(len(one_group_summary[\"summary_data\"])),one_group_summary[\"summary_data\"])"
     ],
     "language": "python",
     "metadata": {},
     "outputs": [
      {
       "metadata": {},
       "output_type": "pyout",
       "prompt_number": 140,
       "text": [
        "<Container object of 3598 artists>"
       ]
      },
      {
       "metadata": {},
       "output_type": "display_data",
       "png": "[encoded data removed]",
       "text": [
        "<matplotlib.figure.Figure at 0x20e37090>"
       ]
      }
     ],
     "prompt_number": 140
    },
    {
     "cell_type": "markdown",
     "metadata": {},
     "source": [
      "# Top Words and Last Words:"
     ]
    },
    {
     "cell_type": "code",
     "collapsed": false,
     "input": [
      "one_group_summary"
     ],
     "language": "python",
     "metadata": {},
     "outputs": [
      {
       "metadata": {},
       "output_type": "pyout",
       "prompt_number": 143,
       "text": [
        "{'sdf': {'col_idx': array([u'#', u'$', u'%', ..., u'\\uff1c', u'\\uff1d', u'\\uff23'], \n",
        "        dtype='<U32'),\n",
        "  'row_idx': array([u'http://www.ptt.cc/bbs/Accounting/M.1391579341.A.20A.html',\n",
        "         u'http://www.ptt.cc/bbs/Accounting/M.1391582662.A.8A1.html',\n",
        "         u'http://www.ptt.cc/bbs/Accounting/M.1391590052.A.364.html', ...,\n",
        "         u'http://www.ptt.cc/bbs/Accounting/M.1388857344.A.617.html',\n",
        "         u'http://www.ptt.cc/bbs/Accounting/M.1388937222.A.D5F.html',\n",
        "         u'http://www.ptt.cc/bbs/Accounting/M.1389000970.A.662.html'], dtype=object),\n",
        "  'smatrix': <18786x3598 sparse matrix of type '<type 'numpy.int64'>'\n",
        "  \twith 23152 stored elements in Compressed Sparse Column format>},\n",
        " 'summary_data': array([11, 12,  2, ...,  0,  0,  2]),\n",
        " 'summary_idx': array([u'#', u'$', u'%', ..., u'\\uff1c', u'\\uff1d', u'\\uff23'], \n",
        "       dtype='<U32'),\n",
        " 'summary_type': 'col'}"
       ]
      }
     ],
     "prompt_number": 143
    },
    {
     "cell_type": "markdown",
     "metadata": {},
     "source": [
      "## Last 60 Words"
     ]
    },
    {
     "cell_type": "code",
     "collapsed": false,
     "input": [
      "print \"// \".join(one_group_summary[\"summary_idx\"][one_group_summary[\"summary_data\"].argsort()[:60]])"
     ],
     "language": "python",
     "metadata": {},
     "outputs": [
      {
       "output_type": "stream",
       "stream": "stdout",
       "text": [
        "\u6307\u8003// \u6ce2\u5c0e\u7ba1// \u6ce2\u901f// \u6ce2\u9577// \u540d\u76ee// \u6cf0\u52d2// \u540d\u4eba// \u540c\u8cea\u6027// \u6d3b\u7d61// \u91ab\u5b78// \u627e\u51fa// \u6d41\u529b// \u5411\u5fc3\u529b// \u63cf\u8ff0// \u91cd\u529b\u5834// \u8d85\u5c0e// \u89d2\u901f\u5ea6// \u5408\u6210// \u91cd\u5fc3// \u5408// \u89d2\u5316// \u6d41\u901f// \u6d41\u9ad4// \u5404\u570b// \u6d41\u9ad4\u529b\u5b78// \u91cd\u529b// \u89d2\u52d5\u91cf// \u5411\u91cf\u5206\u6790// \u9178\u9e7c// \u908a\u9577// \u552f\u4e00// \u6c89\u6fb1// \u6c92\u591a\u5370// \u54f2\u5b78// \u6cb8\u9a30// \u6cb8\u9ede// \u6cb9// \u6cb9\u50f9// \u6279\u8a55// \u89e3\u8b80// \u5426\u8a8d// \u6cd5\u62c9\u7b2c// \u6ce1\u6cab// \u548c\u51f1// \u6ce1\u6cab\u7d93\u6fdf// \u6ce2// \u90fd\u535c\u52d2// \u914d// \u6ce2\u51fd\u6578// \u5438\u6536// \u5438\u5f15\u529b// \u6ce2\u52d5// \u914d\u5c0d// \u54c1\u7ba1// \u53f2// \u53f0\u5e63// \u53f0\u5546// \u6e05\u6eaa// \u6e1b\u7a05// \u53cd\u63a8\n"
       ]
      }
     ],
     "prompt_number": 144
    },
    {
     "cell_type": "markdown",
     "metadata": {},
     "source": [
      "## Top 60 Words"
     ]
    },
    {
     "cell_type": "code",
     "collapsed": false,
     "input": [
      "print \"// \".join(one_group_summary[\"summary_idx\"][one_group_summary[\"summary_data\"].argsort()[-60:]])"
     ],
     "language": "python",
     "metadata": {},
     "outputs": [
      {
       "output_type": "stream",
       "stream": "stdout",
       "text": [
        "\u79d1\u76ee// \u4e09\u7b49// \u8cc7\u672c// \u767c\u884c// \u7b2c\u4e94\u7248// \u5f35\u65ed// \u90ed// \u8b49\u7167// \u89e3\u6790// \u5fb5\u7a3f// \u4ea4\u6613// \u80a1// Becker// \u96c6\u9326// \u88dc\u7fd2// CIA// \u5408\u8cfc// 2013// \u80a1\u5229// \u85cd\u8272// \u8ca1\u52d9\u5831\u8868// 103// \u8ca1\u52d9// \u6e96\u5247// \u9326\u83ef// KPMG// \u5546\u6703// \u5f90// \u9032// \u5831\u540d// \u6b0a\u76ca\u6cd5// \u640d\u76ca// \u856d\u9756// \u6703\u8a08\u7cfb// \u71df\u696d// \u8ca1\u5831// \u79ae\u5238// \u5be6\u52d9// \u542b// \u5b89\u4faf// \u7b2c\u5341\u7248// \u6298\u820a// \u8cc7\u683c// \u7b2c\u4e5d\u7248// \u7a0b// \u6821\u5712// \u6210\u7ba1// \u5e33\u6b3e// \u5b89\u6c38// \u6bcf\u80a1// \u6700\u65b0\u7248// \u8ca1\u7a05// \u521d\u6703// \u5206\u9304// \u76c8\u9918// \u6210\u672c\u6703\u8a08// \u4e0a\u518a// \u4e0b\u518a// \u8cc7\u8aa0// \u65bd\u654f\n"
       ]
      }
     ],
     "prompt_number": 145
    },
    {
     "cell_type": "markdown",
     "metadata": {},
     "source": [
      "## Checking row_idx"
     ]
    },
    {
     "cell_type": "code",
     "collapsed": false,
     "input": [
      "one_group_summary[\"sdf\"]._row_idx"
     ],
     "language": "python",
     "metadata": {},
     "outputs": [
      {
       "metadata": {},
       "output_type": "pyout",
       "prompt_number": 146,
       "text": [
        "array([u'http://www.ptt.cc/bbs/Accounting/M.1391579341.A.20A.html',\n",
        "       u'http://www.ptt.cc/bbs/Accounting/M.1391582662.A.8A1.html',\n",
        "       u'http://www.ptt.cc/bbs/Accounting/M.1391590052.A.364.html', ...,\n",
        "       u'http://www.ptt.cc/bbs/Accounting/M.1388857344.A.617.html',\n",
        "       u'http://www.ptt.cc/bbs/Accounting/M.1388937222.A.D5F.html',\n",
        "       u'http://www.ptt.cc/bbs/Accounting/M.1389000970.A.662.html'], dtype=object)"
       ]
      }
     ],
     "prompt_number": 146
    },
    {
     "cell_type": "code",
     "collapsed": false,
     "input": [],
     "language": "python",
     "metadata": {},
     "outputs": []
    }
   ],
   "metadata": {}
  }
 ]
}