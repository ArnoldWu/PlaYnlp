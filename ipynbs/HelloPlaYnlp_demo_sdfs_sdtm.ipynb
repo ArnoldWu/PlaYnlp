{
 "metadata": {
  "name": ""
 },
 "nbformat": 3,
 "nbformat_minor": 0,
 "worksheets": [
  {
   "cells": [
    {
     "cell_type": "code",
     "collapsed": false,
     "input": [
      "%matplotlib inline"
     ],
     "language": "python",
     "metadata": {},
     "outputs": [],
     "prompt_number": 1
    },
    {
     "cell_type": "code",
     "collapsed": false,
     "input": [
      "import matplotlib.pylab as pylab\n",
      "pylab.rcParams['figure.figsize'] = 16, 12\n",
      "\n",
      "from matplotlib.font_manager import FontProperties\n",
      "cfont = FontProperties(fname=\"/usr/share/fonts/truetype/wqy/wqy-zenhei.ttc\", size = 14)"
     ],
     "language": "python",
     "metadata": {},
     "outputs": [],
     "prompt_number": 2
    },
    {
     "cell_type": "markdown",
     "metadata": {},
     "source": [
      "# Import tkr and vcr from PlaYnlp"
     ]
    },
    {
     "cell_type": "code",
     "collapsed": false,
     "input": [
      "import PlaYnlp.tokenizer as tkr \n",
      "import PlaYnlp.vectorizer as vcr "
     ],
     "language": "python",
     "metadata": {},
     "outputs": [],
     "prompt_number": 3
    },
    {
     "cell_type": "markdown",
     "metadata": {},
     "source": [
      "# Initialize jieba, unigram, bigram tokenizer "
     ]
    },
    {
     "cell_type": "code",
     "collapsed": false,
     "input": [
      "jieba_without_html_tokenizer = tkr.tokenize_gen(lambda text:tkr.jieba.cut(tkr.nltk.clean_html(text)))\n",
      "unigram_without_html_tokenizer = tkr.tokenize_gen(lambda text:tkr.ngram(tkr.nltk.clean_html(text),n=1))\n",
      "bigram_without_html_tokenizer = tkr.tokenize_gen(lambda text:tkr.ngram(tkr.nltk.clean_html(text),n=2))"
     ],
     "language": "python",
     "metadata": {},
     "outputs": [],
     "prompt_number": 4
    },
    {
     "cell_type": "code",
     "collapsed": false,
     "input": [
      "jieba_vec_count_kwargs = {\"tokenizer\":jieba_without_html_tokenizer,\"lowercase\":False}\n",
      "unigram_vec_count_kwargs = {\"tokenizer\":unigram_without_html_tokenizer,\"lowercase\":False}\n",
      "bigram_vec_count_kwargs = {\"tokenizer\":bigram_without_html_tokenizer,\"lowercase\":False}"
     ],
     "language": "python",
     "metadata": {},
     "outputs": [],
     "prompt_number": 5
    },
    {
     "cell_type": "markdown",
     "metadata": {},
     "source": [
      "# Setup a testing dataframe"
     ]
    },
    {
     "cell_type": "code",
     "collapsed": false,
     "input": [
      "import pandas as pd \n",
      "test_text_df = pd.DataFrame([u\"\u4eca\u5929\u5929\u6c23\u5f88\u597d\",u\"\u4eca\u5929\u5929\u6c23\u5f88\u721b\",u\"\u6211\u6068\u5b83\",u\"\u5b83\u6068\u6211\",u\"\u6211\u611b\u5b83\",u\"\u5b83\u611b\u6211\",u\"\u4eca\u5929\u5f88\u8870\",\"\u65e5\u5b50\u4e00\u5929\u4e00\u5929\u904e\",\"\u5929\u5929\u5237\u7259\u6d17\u81c9\"])\n",
      "test_text_df.columns = [\"text\"]\n",
      "test_text_df"
     ],
     "language": "python",
     "metadata": {},
     "outputs": [
      {
       "html": [
        "<div style=\"max-height:1000px;max-width:1500px;overflow:auto;\">\n",
        "<table border=\"1\" class=\"dataframe\">\n",
        "  <thead>\n",
        "    <tr style=\"text-align: right;\">\n",
        "      <th></th>\n",
        "      <th>text</th>\n",
        "    </tr>\n",
        "  </thead>\n",
        "  <tbody>\n",
        "    <tr>\n",
        "      <th>0</th>\n",
        "      <td>  \u4eca\u5929\u5929\u6c23\u5f88\u597d</td>\n",
        "    </tr>\n",
        "    <tr>\n",
        "      <th>1</th>\n",
        "      <td>  \u4eca\u5929\u5929\u6c23\u5f88\u721b</td>\n",
        "    </tr>\n",
        "    <tr>\n",
        "      <th>2</th>\n",
        "      <td>     \u6211\u6068\u5b83</td>\n",
        "    </tr>\n",
        "    <tr>\n",
        "      <th>3</th>\n",
        "      <td>     \u5b83\u6068\u6211</td>\n",
        "    </tr>\n",
        "    <tr>\n",
        "      <th>4</th>\n",
        "      <td>     \u6211\u611b\u5b83</td>\n",
        "    </tr>\n",
        "    <tr>\n",
        "      <th>5</th>\n",
        "      <td>     \u5b83\u611b\u6211</td>\n",
        "    </tr>\n",
        "    <tr>\n",
        "      <th>6</th>\n",
        "      <td>    \u4eca\u5929\u5f88\u8870</td>\n",
        "    </tr>\n",
        "    <tr>\n",
        "      <th>7</th>\n",
        "      <td> \u65e5\u5b50\u4e00\u5929\u4e00\u5929\u904e</td>\n",
        "    </tr>\n",
        "    <tr>\n",
        "      <th>8</th>\n",
        "      <td>  \u5929\u5929\u5237\u7259\u6d17\u81c9</td>\n",
        "    </tr>\n",
        "  </tbody>\n",
        "</table>\n",
        "<p>9 rows \u00d7 1 columns</p>\n",
        "</div>"
       ],
       "metadata": {},
       "output_type": "pyout",
       "prompt_number": 6,
       "text": [
        "      text\n",
        "0   \u4eca\u5929\u5929\u6c23\u5f88\u597d\n",
        "1   \u4eca\u5929\u5929\u6c23\u5f88\u721b\n",
        "2      \u6211\u6068\u5b83\n",
        "3      \u5b83\u6068\u6211\n",
        "4      \u6211\u611b\u5b83\n",
        "5      \u5b83\u611b\u6211\n",
        "6     \u4eca\u5929\u5f88\u8870\n",
        "7  \u65e5\u5b50\u4e00\u5929\u4e00\u5929\u904e\n",
        "8   \u5929\u5929\u5237\u7259\u6d17\u81c9\n",
        "\n",
        "[9 rows x 1 columns]"
       ]
      }
     ],
     "prompt_number": 6
    },
    {
     "cell_type": "markdown",
     "metadata": {},
     "source": [
      "# [text2vec] vectorize_text"
     ]
    },
    {
     "cell_type": "code",
     "collapsed": false,
     "input": [
      "test_jieba_sdtm = vcr.vectorize_text(df=test_text_df,\n",
      "                                     text_col=\"text\", \n",
      "                                     idx_col=None, \n",
      "                                     cond_query={},\n",
      "                                     idx_query= [],\n",
      "                                     vect_gen=vcr.CountVectorizer, \n",
      "                                     vect_gen_init_kwargs = jieba_vec_count_kwargs)\n",
      "\n",
      "test_unigram_sdtm = vcr.vectorize_text(df=test_text_df,\n",
      "                                     text_col=\"text\", \n",
      "                                     idx_col=None, \n",
      "                                     cond_query={},\n",
      "                                     idx_query= [],\n",
      "                                     vect_gen=vcr.CountVectorizer, \n",
      "                                     vect_gen_init_kwargs = unigram_vec_count_kwargs)\n",
      "\n",
      "test_bigram_sdtm = vcr.vectorize_text(df=test_text_df,\n",
      "                                     text_col=\"text\", \n",
      "                                     idx_col=None, \n",
      "                                     cond_query={},\n",
      "                                     idx_query= [],\n",
      "                                     vect_gen=vcr.CountVectorizer, \n",
      "                                     vect_gen_init_kwargs = bigram_vec_count_kwargs)"
     ],
     "language": "python",
     "metadata": {},
     "outputs": [
      {
       "output_type": "stream",
       "stream": "stderr",
       "text": [
        "Building Trie..., from /usr/local/lib/python2.7/dist-packages/jieba/dict.txt\n",
        "loading model from cache /tmp/jieba.cache\n",
        "loading model cost "
       ]
      },
      {
       "output_type": "stream",
       "stream": "stderr",
       "text": [
        " 1.81993412971 seconds.\n",
        "Trie has been built succesfully.\n"
       ]
      }
     ],
     "prompt_number": 7
    },
    {
     "cell_type": "markdown",
     "metadata": {},
     "source": [
      "# Viewing text2vec Results with pd.DataFrame "
     ]
    },
    {
     "cell_type": "code",
     "collapsed": false,
     "input": [
      "pd.DataFrame(test_jieba_sdtm._smatrix.todense(), columns=test_jieba_sdtm._col_idx)"
     ],
     "language": "python",
     "metadata": {},
     "outputs": [
      {
       "html": [
        "<div style=\"max-height:1000px;max-width:1500px;overflow:auto;\">\n",
        "<table border=\"1\" class=\"dataframe\">\n",
        "  <thead>\n",
        "    <tr style=\"text-align: right;\">\n",
        "      <th></th>\n",
        "      <th>\u4e00\u5929</th>\n",
        "      <th>\u4eca\u5929</th>\n",
        "      <th>\u4eca\u5929\u5929\u6c23</th>\n",
        "      <th>\u5237\u7259</th>\n",
        "      <th>\u5929\u5929</th>\n",
        "      <th>\u597d</th>\n",
        "      <th>\u5b83</th>\n",
        "      <th>\u5f88</th>\n",
        "      <th>\u5f88\u721b</th>\n",
        "      <th>\u5f88\u8870</th>\n",
        "      <th>\u6068</th>\n",
        "      <th>\u611b\u6211</th>\n",
        "      <th>\u6211</th>\n",
        "      <th>\u6211\u611b\u5b83</th>\n",
        "      <th>\u65e5\u5b50</th>\n",
        "      <th>\u6d17\u81c9</th>\n",
        "      <th>\u904e</th>\n",
        "    </tr>\n",
        "  </thead>\n",
        "  <tbody>\n",
        "    <tr>\n",
        "      <th>0</th>\n",
        "      <td> 0</td>\n",
        "      <td> 0</td>\n",
        "      <td> 1</td>\n",
        "      <td> 0</td>\n",
        "      <td> 0</td>\n",
        "      <td> 1</td>\n",
        "      <td> 0</td>\n",
        "      <td> 1</td>\n",
        "      <td> 0</td>\n",
        "      <td> 0</td>\n",
        "      <td> 0</td>\n",
        "      <td> 0</td>\n",
        "      <td> 0</td>\n",
        "      <td> 0</td>\n",
        "      <td> 0</td>\n",
        "      <td> 0</td>\n",
        "      <td> 0</td>\n",
        "    </tr>\n",
        "    <tr>\n",
        "      <th>1</th>\n",
        "      <td> 0</td>\n",
        "      <td> 0</td>\n",
        "      <td> 1</td>\n",
        "      <td> 0</td>\n",
        "      <td> 0</td>\n",
        "      <td> 0</td>\n",
        "      <td> 0</td>\n",
        "      <td> 0</td>\n",
        "      <td> 1</td>\n",
        "      <td> 0</td>\n",
        "      <td> 0</td>\n",
        "      <td> 0</td>\n",
        "      <td> 0</td>\n",
        "      <td> 0</td>\n",
        "      <td> 0</td>\n",
        "      <td> 0</td>\n",
        "      <td> 0</td>\n",
        "    </tr>\n",
        "    <tr>\n",
        "      <th>2</th>\n",
        "      <td> 0</td>\n",
        "      <td> 0</td>\n",
        "      <td> 0</td>\n",
        "      <td> 0</td>\n",
        "      <td> 0</td>\n",
        "      <td> 0</td>\n",
        "      <td> 1</td>\n",
        "      <td> 0</td>\n",
        "      <td> 0</td>\n",
        "      <td> 0</td>\n",
        "      <td> 1</td>\n",
        "      <td> 0</td>\n",
        "      <td> 1</td>\n",
        "      <td> 0</td>\n",
        "      <td> 0</td>\n",
        "      <td> 0</td>\n",
        "      <td> 0</td>\n",
        "    </tr>\n",
        "    <tr>\n",
        "      <th>3</th>\n",
        "      <td> 0</td>\n",
        "      <td> 0</td>\n",
        "      <td> 0</td>\n",
        "      <td> 0</td>\n",
        "      <td> 0</td>\n",
        "      <td> 0</td>\n",
        "      <td> 1</td>\n",
        "      <td> 0</td>\n",
        "      <td> 0</td>\n",
        "      <td> 0</td>\n",
        "      <td> 1</td>\n",
        "      <td> 0</td>\n",
        "      <td> 1</td>\n",
        "      <td> 0</td>\n",
        "      <td> 0</td>\n",
        "      <td> 0</td>\n",
        "      <td> 0</td>\n",
        "    </tr>\n",
        "    <tr>\n",
        "      <th>4</th>\n",
        "      <td> 0</td>\n",
        "      <td> 0</td>\n",
        "      <td> 0</td>\n",
        "      <td> 0</td>\n",
        "      <td> 0</td>\n",
        "      <td> 0</td>\n",
        "      <td> 0</td>\n",
        "      <td> 0</td>\n",
        "      <td> 0</td>\n",
        "      <td> 0</td>\n",
        "      <td> 0</td>\n",
        "      <td> 0</td>\n",
        "      <td> 0</td>\n",
        "      <td> 1</td>\n",
        "      <td> 0</td>\n",
        "      <td> 0</td>\n",
        "      <td> 0</td>\n",
        "    </tr>\n",
        "    <tr>\n",
        "      <th>5</th>\n",
        "      <td> 0</td>\n",
        "      <td> 0</td>\n",
        "      <td> 0</td>\n",
        "      <td> 0</td>\n",
        "      <td> 0</td>\n",
        "      <td> 0</td>\n",
        "      <td> 1</td>\n",
        "      <td> 0</td>\n",
        "      <td> 0</td>\n",
        "      <td> 0</td>\n",
        "      <td> 0</td>\n",
        "      <td> 1</td>\n",
        "      <td> 0</td>\n",
        "      <td> 0</td>\n",
        "      <td> 0</td>\n",
        "      <td> 0</td>\n",
        "      <td> 0</td>\n",
        "    </tr>\n",
        "    <tr>\n",
        "      <th>6</th>\n",
        "      <td> 0</td>\n",
        "      <td> 1</td>\n",
        "      <td> 0</td>\n",
        "      <td> 0</td>\n",
        "      <td> 0</td>\n",
        "      <td> 0</td>\n",
        "      <td> 0</td>\n",
        "      <td> 0</td>\n",
        "      <td> 0</td>\n",
        "      <td> 1</td>\n",
        "      <td> 0</td>\n",
        "      <td> 0</td>\n",
        "      <td> 0</td>\n",
        "      <td> 0</td>\n",
        "      <td> 0</td>\n",
        "      <td> 0</td>\n",
        "      <td> 0</td>\n",
        "    </tr>\n",
        "    <tr>\n",
        "      <th>7</th>\n",
        "      <td> 2</td>\n",
        "      <td> 0</td>\n",
        "      <td> 0</td>\n",
        "      <td> 0</td>\n",
        "      <td> 0</td>\n",
        "      <td> 0</td>\n",
        "      <td> 0</td>\n",
        "      <td> 0</td>\n",
        "      <td> 0</td>\n",
        "      <td> 0</td>\n",
        "      <td> 0</td>\n",
        "      <td> 0</td>\n",
        "      <td> 0</td>\n",
        "      <td> 0</td>\n",
        "      <td> 1</td>\n",
        "      <td> 0</td>\n",
        "      <td> 1</td>\n",
        "    </tr>\n",
        "    <tr>\n",
        "      <th>8</th>\n",
        "      <td> 0</td>\n",
        "      <td> 0</td>\n",
        "      <td> 0</td>\n",
        "      <td> 1</td>\n",
        "      <td> 1</td>\n",
        "      <td> 0</td>\n",
        "      <td> 0</td>\n",
        "      <td> 0</td>\n",
        "      <td> 0</td>\n",
        "      <td> 0</td>\n",
        "      <td> 0</td>\n",
        "      <td> 0</td>\n",
        "      <td> 0</td>\n",
        "      <td> 0</td>\n",
        "      <td> 0</td>\n",
        "      <td> 1</td>\n",
        "      <td> 0</td>\n",
        "    </tr>\n",
        "  </tbody>\n",
        "</table>\n",
        "<p>9 rows \u00d7 17 columns</p>\n",
        "</div>"
       ],
       "metadata": {},
       "output_type": "pyout",
       "prompt_number": 8,
       "text": [
        "   \u4e00\u5929  \u4eca\u5929  \u4eca\u5929\u5929\u6c23  \u5237\u7259  \u5929\u5929  \u597d  \u5b83  \u5f88  \u5f88\u721b  \u5f88\u8870  \u6068  \u611b\u6211  \u6211  \u6211\u611b\u5b83  \u65e5\u5b50  \u6d17\u81c9  \u904e\n",
        "0   0   0     1   0   0  1  0  1   0   0  0   0  0    0   0   0  0\n",
        "1   0   0     1   0   0  0  0  0   1   0  0   0  0    0   0   0  0\n",
        "2   0   0     0   0   0  0  1  0   0   0  1   0  1    0   0   0  0\n",
        "3   0   0     0   0   0  0  1  0   0   0  1   0  1    0   0   0  0\n",
        "4   0   0     0   0   0  0  0  0   0   0  0   0  0    1   0   0  0\n",
        "5   0   0     0   0   0  0  1  0   0   0  0   1  0    0   0   0  0\n",
        "6   0   1     0   0   0  0  0  0   0   1  0   0  0    0   0   0  0\n",
        "7   2   0     0   0   0  0  0  0   0   0  0   0  0    0   1   0  1\n",
        "8   0   0     0   1   1  0  0  0   0   0  0   0  0    0   0   1  0\n",
        "\n",
        "[9 rows x 17 columns]"
       ]
      }
     ],
     "prompt_number": 8
    },
    {
     "cell_type": "code",
     "collapsed": false,
     "input": [
      "pd.DataFrame(test_unigram_sdtm._smatrix.todense(), columns=test_unigram_sdtm._col_idx)"
     ],
     "language": "python",
     "metadata": {},
     "outputs": [
      {
       "html": [
        "<div style=\"max-height:1000px;max-width:1500px;overflow:auto;\">\n",
        "<table border=\"1\" class=\"dataframe\">\n",
        "  <thead>\n",
        "    <tr style=\"text-align: right;\">\n",
        "      <th></th>\n",
        "      <th>\u4e00</th>\n",
        "      <th>\u4eca</th>\n",
        "      <th>\u5237</th>\n",
        "      <th>\u5929</th>\n",
        "      <th>\u597d</th>\n",
        "      <th>\u5b50</th>\n",
        "      <th>\u5b83</th>\n",
        "      <th>\u5f88</th>\n",
        "      <th>\u6068</th>\n",
        "      <th>\u611b</th>\n",
        "      <th>\u6211</th>\n",
        "      <th>\u65e5</th>\n",
        "      <th>\u6c23</th>\n",
        "      <th>\u6d17</th>\n",
        "      <th>\u721b</th>\n",
        "      <th>\u7259</th>\n",
        "      <th>\u81c9</th>\n",
        "      <th>\u8870</th>\n",
        "      <th>\u904e</th>\n",
        "    </tr>\n",
        "  </thead>\n",
        "  <tbody>\n",
        "    <tr>\n",
        "      <th>0</th>\n",
        "      <td> 0</td>\n",
        "      <td> 1</td>\n",
        "      <td> 0</td>\n",
        "      <td> 2</td>\n",
        "      <td> 1</td>\n",
        "      <td> 0</td>\n",
        "      <td> 0</td>\n",
        "      <td> 1</td>\n",
        "      <td> 0</td>\n",
        "      <td> 0</td>\n",
        "      <td> 0</td>\n",
        "      <td> 0</td>\n",
        "      <td> 1</td>\n",
        "      <td> 0</td>\n",
        "      <td> 0</td>\n",
        "      <td> 0</td>\n",
        "      <td> 0</td>\n",
        "      <td> 0</td>\n",
        "      <td> 0</td>\n",
        "    </tr>\n",
        "    <tr>\n",
        "      <th>1</th>\n",
        "      <td> 0</td>\n",
        "      <td> 1</td>\n",
        "      <td> 0</td>\n",
        "      <td> 2</td>\n",
        "      <td> 0</td>\n",
        "      <td> 0</td>\n",
        "      <td> 0</td>\n",
        "      <td> 1</td>\n",
        "      <td> 0</td>\n",
        "      <td> 0</td>\n",
        "      <td> 0</td>\n",
        "      <td> 0</td>\n",
        "      <td> 1</td>\n",
        "      <td> 0</td>\n",
        "      <td> 1</td>\n",
        "      <td> 0</td>\n",
        "      <td> 0</td>\n",
        "      <td> 0</td>\n",
        "      <td> 0</td>\n",
        "    </tr>\n",
        "    <tr>\n",
        "      <th>2</th>\n",
        "      <td> 0</td>\n",
        "      <td> 0</td>\n",
        "      <td> 0</td>\n",
        "      <td> 0</td>\n",
        "      <td> 0</td>\n",
        "      <td> 0</td>\n",
        "      <td> 1</td>\n",
        "      <td> 0</td>\n",
        "      <td> 1</td>\n",
        "      <td> 0</td>\n",
        "      <td> 1</td>\n",
        "      <td> 0</td>\n",
        "      <td> 0</td>\n",
        "      <td> 0</td>\n",
        "      <td> 0</td>\n",
        "      <td> 0</td>\n",
        "      <td> 0</td>\n",
        "      <td> 0</td>\n",
        "      <td> 0</td>\n",
        "    </tr>\n",
        "    <tr>\n",
        "      <th>3</th>\n",
        "      <td> 0</td>\n",
        "      <td> 0</td>\n",
        "      <td> 0</td>\n",
        "      <td> 0</td>\n",
        "      <td> 0</td>\n",
        "      <td> 0</td>\n",
        "      <td> 1</td>\n",
        "      <td> 0</td>\n",
        "      <td> 1</td>\n",
        "      <td> 0</td>\n",
        "      <td> 1</td>\n",
        "      <td> 0</td>\n",
        "      <td> 0</td>\n",
        "      <td> 0</td>\n",
        "      <td> 0</td>\n",
        "      <td> 0</td>\n",
        "      <td> 0</td>\n",
        "      <td> 0</td>\n",
        "      <td> 0</td>\n",
        "    </tr>\n",
        "    <tr>\n",
        "      <th>4</th>\n",
        "      <td> 0</td>\n",
        "      <td> 0</td>\n",
        "      <td> 0</td>\n",
        "      <td> 0</td>\n",
        "      <td> 0</td>\n",
        "      <td> 0</td>\n",
        "      <td> 1</td>\n",
        "      <td> 0</td>\n",
        "      <td> 0</td>\n",
        "      <td> 1</td>\n",
        "      <td> 1</td>\n",
        "      <td> 0</td>\n",
        "      <td> 0</td>\n",
        "      <td> 0</td>\n",
        "      <td> 0</td>\n",
        "      <td> 0</td>\n",
        "      <td> 0</td>\n",
        "      <td> 0</td>\n",
        "      <td> 0</td>\n",
        "    </tr>\n",
        "    <tr>\n",
        "      <th>5</th>\n",
        "      <td> 0</td>\n",
        "      <td> 0</td>\n",
        "      <td> 0</td>\n",
        "      <td> 0</td>\n",
        "      <td> 0</td>\n",
        "      <td> 0</td>\n",
        "      <td> 1</td>\n",
        "      <td> 0</td>\n",
        "      <td> 0</td>\n",
        "      <td> 1</td>\n",
        "      <td> 1</td>\n",
        "      <td> 0</td>\n",
        "      <td> 0</td>\n",
        "      <td> 0</td>\n",
        "      <td> 0</td>\n",
        "      <td> 0</td>\n",
        "      <td> 0</td>\n",
        "      <td> 0</td>\n",
        "      <td> 0</td>\n",
        "    </tr>\n",
        "    <tr>\n",
        "      <th>6</th>\n",
        "      <td> 0</td>\n",
        "      <td> 1</td>\n",
        "      <td> 0</td>\n",
        "      <td> 1</td>\n",
        "      <td> 0</td>\n",
        "      <td> 0</td>\n",
        "      <td> 0</td>\n",
        "      <td> 1</td>\n",
        "      <td> 0</td>\n",
        "      <td> 0</td>\n",
        "      <td> 0</td>\n",
        "      <td> 0</td>\n",
        "      <td> 0</td>\n",
        "      <td> 0</td>\n",
        "      <td> 0</td>\n",
        "      <td> 0</td>\n",
        "      <td> 0</td>\n",
        "      <td> 1</td>\n",
        "      <td> 0</td>\n",
        "    </tr>\n",
        "    <tr>\n",
        "      <th>7</th>\n",
        "      <td> 2</td>\n",
        "      <td> 0</td>\n",
        "      <td> 0</td>\n",
        "      <td> 2</td>\n",
        "      <td> 0</td>\n",
        "      <td> 1</td>\n",
        "      <td> 0</td>\n",
        "      <td> 0</td>\n",
        "      <td> 0</td>\n",
        "      <td> 0</td>\n",
        "      <td> 0</td>\n",
        "      <td> 1</td>\n",
        "      <td> 0</td>\n",
        "      <td> 0</td>\n",
        "      <td> 0</td>\n",
        "      <td> 0</td>\n",
        "      <td> 0</td>\n",
        "      <td> 0</td>\n",
        "      <td> 1</td>\n",
        "    </tr>\n",
        "    <tr>\n",
        "      <th>8</th>\n",
        "      <td> 0</td>\n",
        "      <td> 0</td>\n",
        "      <td> 1</td>\n",
        "      <td> 2</td>\n",
        "      <td> 0</td>\n",
        "      <td> 0</td>\n",
        "      <td> 0</td>\n",
        "      <td> 0</td>\n",
        "      <td> 0</td>\n",
        "      <td> 0</td>\n",
        "      <td> 0</td>\n",
        "      <td> 0</td>\n",
        "      <td> 0</td>\n",
        "      <td> 1</td>\n",
        "      <td> 0</td>\n",
        "      <td> 1</td>\n",
        "      <td> 1</td>\n",
        "      <td> 0</td>\n",
        "      <td> 0</td>\n",
        "    </tr>\n",
        "  </tbody>\n",
        "</table>\n",
        "<p>9 rows \u00d7 19 columns</p>\n",
        "</div>"
       ],
       "metadata": {},
       "output_type": "pyout",
       "prompt_number": 9,
       "text": [
        "   \u4e00  \u4eca  \u5237  \u5929  \u597d  \u5b50  \u5b83  \u5f88  \u6068  \u611b  \u6211  \u65e5  \u6c23  \u6d17  \u721b  \u7259  \u81c9  \u8870  \u904e\n",
        "0  0  1  0  2  1  0  0  1  0  0  0  0  1  0  0  0  0  0  0\n",
        "1  0  1  0  2  0  0  0  1  0  0  0  0  1  0  1  0  0  0  0\n",
        "2  0  0  0  0  0  0  1  0  1  0  1  0  0  0  0  0  0  0  0\n",
        "3  0  0  0  0  0  0  1  0  1  0  1  0  0  0  0  0  0  0  0\n",
        "4  0  0  0  0  0  0  1  0  0  1  1  0  0  0  0  0  0  0  0\n",
        "5  0  0  0  0  0  0  1  0  0  1  1  0  0  0  0  0  0  0  0\n",
        "6  0  1  0  1  0  0  0  1  0  0  0  0  0  0  0  0  0  1  0\n",
        "7  2  0  0  2  0  1  0  0  0  0  0  1  0  0  0  0  0  0  1\n",
        "8  0  0  1  2  0  0  0  0  0  0  0  0  0  1  0  1  1  0  0\n",
        "\n",
        "[9 rows x 19 columns]"
       ]
      }
     ],
     "prompt_number": 9
    },
    {
     "cell_type": "code",
     "collapsed": false,
     "input": [
      "pd.DataFrame(test_bigram_sdtm._smatrix.todense(), columns=test_bigram_sdtm._col_idx)"
     ],
     "language": "python",
     "metadata": {},
     "outputs": [
      {
       "html": [
        "<div style=\"max-height:1000px;max-width:1500px;overflow:auto;\">\n",
        "<table border=\"1\" class=\"dataframe\">\n",
        "  <thead>\n",
        "    <tr style=\"text-align: right;\">\n",
        "      <th></th>\n",
        "      <th>\u4e00\u5929</th>\n",
        "      <th>\u4eca\u5929</th>\n",
        "      <th>\u5237\u7259</th>\n",
        "      <th>\u5929\u4e00</th>\n",
        "      <th>\u5929\u5237</th>\n",
        "      <th>\u5929\u5929</th>\n",
        "      <th>\u5929\u5f88</th>\n",
        "      <th>\u5929\u6c23</th>\n",
        "      <th>\u5929\u904e</th>\n",
        "      <th>\u5b50\u4e00</th>\n",
        "      <th>\u5b83\u6068</th>\n",
        "      <th>\u5b83\u611b</th>\n",
        "      <th>\u5f88\u597d</th>\n",
        "      <th>\u5f88\u721b</th>\n",
        "      <th>\u5f88\u8870</th>\n",
        "      <th>\u6068\u5b83</th>\n",
        "      <th>\u6068\u6211</th>\n",
        "      <th>\u611b\u5b83</th>\n",
        "      <th>\u611b\u6211</th>\n",
        "      <th>\u6211\u6068</th>\n",
        "      <th></th>\n",
        "    </tr>\n",
        "  </thead>\n",
        "  <tbody>\n",
        "    <tr>\n",
        "      <th>0</th>\n",
        "      <td> 0</td>\n",
        "      <td> 1</td>\n",
        "      <td> 0</td>\n",
        "      <td> 0</td>\n",
        "      <td> 0</td>\n",
        "      <td> 1</td>\n",
        "      <td> 0</td>\n",
        "      <td> 1</td>\n",
        "      <td> 0</td>\n",
        "      <td> 0</td>\n",
        "      <td> 0</td>\n",
        "      <td> 0</td>\n",
        "      <td> 1</td>\n",
        "      <td> 0</td>\n",
        "      <td> 0</td>\n",
        "      <td> 0</td>\n",
        "      <td> 0</td>\n",
        "      <td> 0</td>\n",
        "      <td> 0</td>\n",
        "      <td> 0</td>\n",
        "      <td>...</td>\n",
        "    </tr>\n",
        "    <tr>\n",
        "      <th>1</th>\n",
        "      <td> 0</td>\n",
        "      <td> 1</td>\n",
        "      <td> 0</td>\n",
        "      <td> 0</td>\n",
        "      <td> 0</td>\n",
        "      <td> 1</td>\n",
        "      <td> 0</td>\n",
        "      <td> 1</td>\n",
        "      <td> 0</td>\n",
        "      <td> 0</td>\n",
        "      <td> 0</td>\n",
        "      <td> 0</td>\n",
        "      <td> 0</td>\n",
        "      <td> 1</td>\n",
        "      <td> 0</td>\n",
        "      <td> 0</td>\n",
        "      <td> 0</td>\n",
        "      <td> 0</td>\n",
        "      <td> 0</td>\n",
        "      <td> 0</td>\n",
        "      <td>...</td>\n",
        "    </tr>\n",
        "    <tr>\n",
        "      <th>2</th>\n",
        "      <td> 0</td>\n",
        "      <td> 0</td>\n",
        "      <td> 0</td>\n",
        "      <td> 0</td>\n",
        "      <td> 0</td>\n",
        "      <td> 0</td>\n",
        "      <td> 0</td>\n",
        "      <td> 0</td>\n",
        "      <td> 0</td>\n",
        "      <td> 0</td>\n",
        "      <td> 0</td>\n",
        "      <td> 0</td>\n",
        "      <td> 0</td>\n",
        "      <td> 0</td>\n",
        "      <td> 0</td>\n",
        "      <td> 1</td>\n",
        "      <td> 0</td>\n",
        "      <td> 0</td>\n",
        "      <td> 0</td>\n",
        "      <td> 1</td>\n",
        "      <td>...</td>\n",
        "    </tr>\n",
        "    <tr>\n",
        "      <th>3</th>\n",
        "      <td> 0</td>\n",
        "      <td> 0</td>\n",
        "      <td> 0</td>\n",
        "      <td> 0</td>\n",
        "      <td> 0</td>\n",
        "      <td> 0</td>\n",
        "      <td> 0</td>\n",
        "      <td> 0</td>\n",
        "      <td> 0</td>\n",
        "      <td> 0</td>\n",
        "      <td> 1</td>\n",
        "      <td> 0</td>\n",
        "      <td> 0</td>\n",
        "      <td> 0</td>\n",
        "      <td> 0</td>\n",
        "      <td> 0</td>\n",
        "      <td> 1</td>\n",
        "      <td> 0</td>\n",
        "      <td> 0</td>\n",
        "      <td> 0</td>\n",
        "      <td>...</td>\n",
        "    </tr>\n",
        "    <tr>\n",
        "      <th>4</th>\n",
        "      <td> 0</td>\n",
        "      <td> 0</td>\n",
        "      <td> 0</td>\n",
        "      <td> 0</td>\n",
        "      <td> 0</td>\n",
        "      <td> 0</td>\n",
        "      <td> 0</td>\n",
        "      <td> 0</td>\n",
        "      <td> 0</td>\n",
        "      <td> 0</td>\n",
        "      <td> 0</td>\n",
        "      <td> 0</td>\n",
        "      <td> 0</td>\n",
        "      <td> 0</td>\n",
        "      <td> 0</td>\n",
        "      <td> 0</td>\n",
        "      <td> 0</td>\n",
        "      <td> 1</td>\n",
        "      <td> 0</td>\n",
        "      <td> 0</td>\n",
        "      <td>...</td>\n",
        "    </tr>\n",
        "    <tr>\n",
        "      <th>5</th>\n",
        "      <td> 0</td>\n",
        "      <td> 0</td>\n",
        "      <td> 0</td>\n",
        "      <td> 0</td>\n",
        "      <td> 0</td>\n",
        "      <td> 0</td>\n",
        "      <td> 0</td>\n",
        "      <td> 0</td>\n",
        "      <td> 0</td>\n",
        "      <td> 0</td>\n",
        "      <td> 0</td>\n",
        "      <td> 1</td>\n",
        "      <td> 0</td>\n",
        "      <td> 0</td>\n",
        "      <td> 0</td>\n",
        "      <td> 0</td>\n",
        "      <td> 0</td>\n",
        "      <td> 0</td>\n",
        "      <td> 1</td>\n",
        "      <td> 0</td>\n",
        "      <td>...</td>\n",
        "    </tr>\n",
        "    <tr>\n",
        "      <th>6</th>\n",
        "      <td> 0</td>\n",
        "      <td> 1</td>\n",
        "      <td> 0</td>\n",
        "      <td> 0</td>\n",
        "      <td> 0</td>\n",
        "      <td> 0</td>\n",
        "      <td> 1</td>\n",
        "      <td> 0</td>\n",
        "      <td> 0</td>\n",
        "      <td> 0</td>\n",
        "      <td> 0</td>\n",
        "      <td> 0</td>\n",
        "      <td> 0</td>\n",
        "      <td> 0</td>\n",
        "      <td> 1</td>\n",
        "      <td> 0</td>\n",
        "      <td> 0</td>\n",
        "      <td> 0</td>\n",
        "      <td> 0</td>\n",
        "      <td> 0</td>\n",
        "      <td>...</td>\n",
        "    </tr>\n",
        "    <tr>\n",
        "      <th>7</th>\n",
        "      <td> 2</td>\n",
        "      <td> 0</td>\n",
        "      <td> 0</td>\n",
        "      <td> 1</td>\n",
        "      <td> 0</td>\n",
        "      <td> 0</td>\n",
        "      <td> 0</td>\n",
        "      <td> 0</td>\n",
        "      <td> 1</td>\n",
        "      <td> 1</td>\n",
        "      <td> 0</td>\n",
        "      <td> 0</td>\n",
        "      <td> 0</td>\n",
        "      <td> 0</td>\n",
        "      <td> 0</td>\n",
        "      <td> 0</td>\n",
        "      <td> 0</td>\n",
        "      <td> 0</td>\n",
        "      <td> 0</td>\n",
        "      <td> 0</td>\n",
        "      <td>...</td>\n",
        "    </tr>\n",
        "    <tr>\n",
        "      <th>8</th>\n",
        "      <td> 0</td>\n",
        "      <td> 0</td>\n",
        "      <td> 1</td>\n",
        "      <td> 0</td>\n",
        "      <td> 1</td>\n",
        "      <td> 1</td>\n",
        "      <td> 0</td>\n",
        "      <td> 0</td>\n",
        "      <td> 0</td>\n",
        "      <td> 0</td>\n",
        "      <td> 0</td>\n",
        "      <td> 0</td>\n",
        "      <td> 0</td>\n",
        "      <td> 0</td>\n",
        "      <td> 0</td>\n",
        "      <td> 0</td>\n",
        "      <td> 0</td>\n",
        "      <td> 0</td>\n",
        "      <td> 0</td>\n",
        "      <td> 0</td>\n",
        "      <td>...</td>\n",
        "    </tr>\n",
        "  </tbody>\n",
        "</table>\n",
        "<p>9 rows \u00d7 25 columns</p>\n",
        "</div>"
       ],
       "metadata": {},
       "output_type": "pyout",
       "prompt_number": 10,
       "text": [
        "   \u4e00\u5929  \u4eca\u5929  \u5237\u7259  \u5929\u4e00  \u5929\u5237  \u5929\u5929  \u5929\u5f88  \u5929\u6c23  \u5929\u904e  \u5b50\u4e00  \u5b83\u6068  \u5b83\u611b  \u5f88\u597d  \u5f88\u721b  \u5f88\u8870  \u6068\u5b83  \u6068\u6211  \u611b\u5b83  \u611b\u6211  \\\n",
        "0   0   1   0   0   0   1   0   1   0   0   0   0   1   0   0   0   0   0   0   \n",
        "1   0   1   0   0   0   1   0   1   0   0   0   0   0   1   0   0   0   0   0   \n",
        "2   0   0   0   0   0   0   0   0   0   0   0   0   0   0   0   1   0   0   0   \n",
        "3   0   0   0   0   0   0   0   0   0   0   1   0   0   0   0   0   1   0   0   \n",
        "4   0   0   0   0   0   0   0   0   0   0   0   0   0   0   0   0   0   1   0   \n",
        "5   0   0   0   0   0   0   0   0   0   0   0   1   0   0   0   0   0   0   1   \n",
        "6   0   1   0   0   0   0   1   0   0   0   0   0   0   0   1   0   0   0   0   \n",
        "7   2   0   0   1   0   0   0   0   1   1   0   0   0   0   0   0   0   0   0   \n",
        "8   0   0   1   0   1   1   0   0   0   0   0   0   0   0   0   0   0   0   0   \n",
        "\n",
        "   \u6211\u6068      \n",
        "0   0 ...  \n",
        "1   0 ...  \n",
        "2   1 ...  \n",
        "3   0 ...  \n",
        "4   0 ...  \n",
        "5   0 ...  \n",
        "6   0 ...  \n",
        "7   0 ...  \n",
        "8   0 ...  \n",
        "\n",
        "[9 rows x 25 columns]"
       ]
      }
     ],
     "prompt_number": 10
    },
    {
     "cell_type": "markdown",
     "metadata": {},
     "source": [
      "# Viewing text2vec Results with pylab.spy"
     ]
    },
    {
     "cell_type": "code",
     "collapsed": false,
     "input": [
      "fig = pylab.figure()\n",
      "ax1 = fig.add_axes([0.0,0.0,1.0,1.0])\n",
      "ax1.spy(test_jieba_sdtm._smatrix)\n",
      "ax1.set_xticks(range(len(test_jieba_sdtm._term_idx)))\n",
      "ax1.set_xticklabels(test_jieba_sdtm._term_idx, fontproperties=cfont)"
     ],
     "language": "python",
     "metadata": {},
     "outputs": [
      {
       "metadata": {},
       "output_type": "pyout",
       "prompt_number": 11,
       "text": [
        "[<matplotlib.text.Text at 0x1c659150>,\n",
        " <matplotlib.text.Text at 0x1c654dd0>,\n",
        " <matplotlib.text.Text at 0x1c7241d0>,\n",
        " <matplotlib.text.Text at 0x1c724910>,\n",
        " <matplotlib.text.Text at 0x1c727090>,\n",
        " <matplotlib.text.Text at 0x1c7277d0>,\n",
        " <matplotlib.text.Text at 0x1c727f10>,\n",
        " <matplotlib.text.Text at 0x1c72b690>,\n",
        " <matplotlib.text.Text at 0x1c72bdd0>,\n",
        " <matplotlib.text.Text at 0x1c72c550>,\n",
        " <matplotlib.text.Text at 0x1c72cc90>,\n",
        " <matplotlib.text.Text at 0x1c72f410>,\n",
        " <matplotlib.text.Text at 0x1c72fb50>,\n",
        " <matplotlib.text.Text at 0x1c7322d0>,\n",
        " <matplotlib.text.Text at 0x1c732a10>,\n",
        " <matplotlib.text.Text at 0x1c734190>,\n",
        " <matplotlib.text.Text at 0x1c7348d0>]"
       ]
      },
      {
       "metadata": {},
       "output_type": "display_data",
       "png": "[encoded data removed]",
       "text": [
        "<matplotlib.figure.Figure at 0x1c650c90>"
       ]
      }
     ],
     "prompt_number": 11
    },
    {
     "cell_type": "code",
     "collapsed": false,
     "input": [
      "fig = pylab.figure()\n",
      "ax1 = fig.add_axes([0.0,0.0,1.0,1.0])\n",
      "ax1.spy(test_unigram_sdtm._smatrix)\n",
      "ax1.set_xticks(range(len(test_unigram_sdtm._term_idx)))\n",
      "ax1.set_xticklabels(test_unigram_sdtm._term_idx, fontproperties=cfont)"
     ],
     "language": "python",
     "metadata": {},
     "outputs": [
      {
       "metadata": {},
       "output_type": "pyout",
       "prompt_number": 12,
       "text": [
        "[<matplotlib.text.Text at 0x1c73fe90>,\n",
        " <matplotlib.text.Text at 0x1c750450>,\n",
        " <matplotlib.text.Text at 0x1c885910>,\n",
        " <matplotlib.text.Text at 0x1c887090>,\n",
        " <matplotlib.text.Text at 0x1c8877d0>,\n",
        " <matplotlib.text.Text at 0x1c887f10>,\n",
        " <matplotlib.text.Text at 0x1c889690>,\n",
        " <matplotlib.text.Text at 0x1c889dd0>,\n",
        " <matplotlib.text.Text at 0x1c88d550>,\n",
        " <matplotlib.text.Text at 0x1c88dc90>,\n",
        " <matplotlib.text.Text at 0x1c88e410>,\n",
        " <matplotlib.text.Text at 0x1c88eb50>,\n",
        " <matplotlib.text.Text at 0x1c8902d0>,\n",
        " <matplotlib.text.Text at 0x1c890a10>,\n",
        " <matplotlib.text.Text at 0x1c893190>,\n",
        " <matplotlib.text.Text at 0x1c8938d0>,\n",
        " <matplotlib.text.Text at 0x1c895050>,\n",
        " <matplotlib.text.Text at 0x1c895790>,\n",
        " <matplotlib.text.Text at 0x1c895ed0>]"
       ]
      },
      {
       "metadata": {},
       "output_type": "display_data",
       "png": "[encoded data removed]",
       "text": [
        "<matplotlib.figure.Figure at 0x1c72c5d0>"
       ]
      }
     ],
     "prompt_number": 12
    },
    {
     "cell_type": "code",
     "collapsed": false,
     "input": [
      "fig = pylab.figure()\n",
      "ax1 = fig.add_axes([0.0,0.0,1.0,1.0])\n",
      "ax1.spy(test_bigram_sdtm._smatrix)\n",
      "ax1.set_xticks(range(len(test_bigram_sdtm._term_idx)))\n",
      "ax1.set_xticklabels(test_bigram_sdtm._term_idx, fontproperties=cfont)"
     ],
     "language": "python",
     "metadata": {},
     "outputs": [
      {
       "metadata": {},
       "output_type": "pyout",
       "prompt_number": 13,
       "text": [
        "[<matplotlib.text.Text at 0x1c74c3d0>,\n",
        " <matplotlib.text.Text at 0x1c8a8110>,\n",
        " <matplotlib.text.Text at 0x1cabe6d0>,\n",
        " <matplotlib.text.Text at 0x1cabee10>,\n",
        " <matplotlib.text.Text at 0x1cabf590>,\n",
        " <matplotlib.text.Text at 0x1cabfcd0>,\n",
        " <matplotlib.text.Text at 0x1cac3450>,\n",
        " <matplotlib.text.Text at 0x1cac3b90>,\n",
        " <matplotlib.text.Text at 0x1cac5310>,\n",
        " <matplotlib.text.Text at 0x1cac5a50>,\n",
        " <matplotlib.text.Text at 0x1cac71d0>,\n",
        " <matplotlib.text.Text at 0x1cac7910>,\n",
        " <matplotlib.text.Text at 0x1caca090>,\n",
        " <matplotlib.text.Text at 0x1caca7d0>,\n",
        " <matplotlib.text.Text at 0x1cacaf10>,\n",
        " <matplotlib.text.Text at 0x1cacb690>,\n",
        " <matplotlib.text.Text at 0x1cacbdd0>,\n",
        " <matplotlib.text.Text at 0x1cace550>,\n",
        " <matplotlib.text.Text at 0x1cacec90>,\n",
        " <matplotlib.text.Text at 0x1cad0410>,\n",
        " <matplotlib.text.Text at 0x1cad0b50>,\n",
        " <matplotlib.text.Text at 0x1cad52d0>,\n",
        " <matplotlib.text.Text at 0x1cad5a10>,\n",
        " <matplotlib.text.Text at 0x1cad6190>,\n",
        " <matplotlib.text.Text at 0x1cad68d0>]"
       ]
      },
      {
       "metadata": {},
       "output_type": "display_data",
       "png": "[encoded data removed]",
       "text": [
        "<matplotlib.figure.Figure at 0x1c7342d0>"
       ]
      }
     ],
     "prompt_number": 13
    },
    {
     "cell_type": "markdown",
     "metadata": {},
     "source": [
      "# Load PTT Data"
     ]
    },
    {
     "cell_type": "code",
     "collapsed": false,
     "input": [
      "import pickle\n",
      "\n",
      "with open(\"PTT___Physics_Accounting_Economics_Math_Statistics.pickle\",\"rb\") as read_file:\n",
      "    articles_df,articles_push_df = pickle.load(read_file)"
     ],
     "language": "python",
     "metadata": {},
     "outputs": [],
     "prompt_number": 14
    },
    {
     "cell_type": "code",
     "collapsed": false,
     "input": [
      "articles_df.head()"
     ],
     "language": "python",
     "metadata": {},
     "outputs": [
      {
       "html": [
        "<div style=\"max-height:1000px;max-width:1500px;overflow:auto;\">\n",
        "<table border=\"1\" class=\"dataframe\">\n",
        "  <thead>\n",
        "    <tr style=\"text-align: right;\">\n",
        "      <th></th>\n",
        "      <th>Board</th>\n",
        "      <th>_id</th>\n",
        "      <th>text</th>\n",
        "      <th>time</th>\n",
        "      <th>title</th>\n",
        "      <th>url</th>\n",
        "      <th>user</th>\n",
        "      <th>user_id</th>\n",
        "      <th>user_nickname</th>\n",
        "    </tr>\n",
        "  </thead>\n",
        "  <tbody>\n",
        "    <tr>\n",
        "      <th>0</th>\n",
        "      <td> Accounting</td>\n",
        "      <td> 52f223db74798d7e7bbe9965</td>\n",
        "      <td>   \\n102\u5e74\u8d85\u7d1a\u51fd\u6388CD\u7248\\n\\n\u9ad8\u6703(\u856d\u9756) \u6b32\u552e$2500 NT\\n\\n\u516c\u53f8\u6cd5(\u8463\u8b19...</td>\n",
        "      <td> Wed Feb  5 13:48:58 2014</td>\n",
        "      <td>             [\u51fa\u552e] 102\u5e74\u8d85\u7d1a\u51fd\u6388 \u9ad8\u6703\u3001\u516c\u53f8\u6cd5</td>\n",
        "      <td> http://www.ptt.cc/bbs/Accounting/M.1391579341....</td>\n",
        "      <td>           sunnykiller (\u5929\u7c5f\u4e4b\u8072)</td>\n",
        "      <td>  sunnykiller</td>\n",
        "      <td> \u5929\u7c5f\u4e4b\u8072</td>\n",
        "    </tr>\n",
        "    <tr>\n",
        "      <th>1</th>\n",
        "      <td> Accounting</td>\n",
        "      <td> 52f223db74798d7e78be9965</td>\n",
        "      <td>   \\n\u5982\u6a19\u984c\\n\u5269\u4e0b\u4e00\u6b21\u6388\u6b0a\u5373\u53ef\\n\u8b1b\u7fa9\u6211\u6709\\n\u4f46\u662f\u7f3a\u7b46\u8a18\\n\u5982\u679c\u9858\u610f\u8ce3\u7b46\u8a18\u4e5fOK\\n\\n...</td>\n",
        "      <td> Wed Feb  5 14:44:15 2014</td>\n",
        "      <td>               [\u5fb5\u6c42]\u5f90\u9326\u83ef\u9ad8\u6703DVD or \u8b1b\u7fa9</td>\n",
        "      <td> http://www.ptt.cc/bbs/Accounting/M.1391582662....</td>\n",
        "      <td> JilSander (Doer brokenheart)</td>\n",
        "      <td>    JilSander</td>\n",
        "      <td>  Doe</td>\n",
        "    </tr>\n",
        "    <tr>\n",
        "      <th>2</th>\n",
        "      <td> Accounting</td>\n",
        "      <td> 52f223db74798d7e76be9965</td>\n",
        "      <td>   \\n\u203b \u5f15\u8ff0\u300aflora713 (pretty world)\u300b\u4e4b\u9298\u8a00\uff1a: 1. \u51fa\u552e\uff1a\u5fd7...</td>\n",
        "      <td> Wed Feb  5 16:47:30 2014</td>\n",
        "      <td> Re: [\u51fa\u552e/\u8d08\u9001] \u5fd7\u5149\u5c0a\u69ae\u512a\u60e0\u5238/ \u8d85\u7d1a\u51fd\u6388VIP\u63a8\u85a6\u79ae\u5238</td>\n",
        "      <td> http://www.ptt.cc/bbs/Accounting/M.1391590052....</td>\n",
        "      <td>            lphotoimpact (\u6953\u96ea)</td>\n",
        "      <td> lphotoimpact</td>\n",
        "      <td>   \u6953\u96ea</td>\n",
        "    </tr>\n",
        "    <tr>\n",
        "      <th>3</th>\n",
        "      <td> Accounting</td>\n",
        "      <td> 52f223dd74798d7e7abe9965</td>\n",
        "      <td>   \\n\\n     \u521d\u6703\\n     http://goods.ruten.com.tw/...</td>\n",
        "      <td> Wed Feb  5 14:57:59 2014</td>\n",
        "      <td>      [\u552e] \u521d\u7d1a\u6703\u8a08\u5b78.\u4e2d\u7d1a\u6703\u8a08\u5b78.\u6210\u672c\u6703\u8a08 DVD+\u8b1b\u7fa9</td>\n",
        "      <td> http://www.ptt.cc/bbs/Accounting/M.1391583483....</td>\n",
        "      <td>                  ap22 (\u65cb\u8f49\u74f6\u5b50)</td>\n",
        "      <td>         ap22</td>\n",
        "      <td> \u65cb\u8f49\u74f6\u5b50</td>\n",
        "    </tr>\n",
        "    <tr>\n",
        "      <th>4</th>\n",
        "      <td>       Math</td>\n",
        "      <td> 52f223de74798d7e78be9966</td>\n",
        "      <td>   \\n\u984c\u76ee:\u627e\u5230\u4e00\u500b\u5207\u7dda\u5e73\u9762\u5728:f(x,y)=x^2y\u7684\u5e73\u9762\u4e0a\uff0c\u4ea4\u9ede\u70ba(2,-1,-4)\\...</td>\n",
        "      <td> Tue Feb  4 15:48:18 2014</td>\n",
        "      <td>                 [\u5fae\u7a4d] \u5229\u7528\u65b9\u5411\u5c0e\u6578\u6c42\u5207\u7dda\u4e00\u554f</td>\n",
        "      <td> http://www.ptt.cc/bbs/Math/M.1391500100.A.7D1....</td>\n",
        "      <td>                  gbd37 (\u6709\u5920\u778e)</td>\n",
        "      <td>        gbd37</td>\n",
        "      <td>  \u6709\u5920\u778e</td>\n",
        "    </tr>\n",
        "  </tbody>\n",
        "</table>\n",
        "<p>5 rows \u00d7 9 columns</p>\n",
        "</div>"
       ],
       "metadata": {},
       "output_type": "pyout",
       "prompt_number": 15,
       "text": [
        "        Board                       _id  \\\n",
        "0  Accounting  52f223db74798d7e7bbe9965   \n",
        "1  Accounting  52f223db74798d7e78be9965   \n",
        "2  Accounting  52f223db74798d7e76be9965   \n",
        "3  Accounting  52f223dd74798d7e7abe9965   \n",
        "4        Math  52f223de74798d7e78be9966   \n",
        "\n",
        "                                                text  \\\n",
        "0    \\n102\u5e74\u8d85\u7d1a\u51fd\u6388CD\u7248\\n\\n\u9ad8\u6703(\u856d\u9756) \u6b32\u552e$2500 NT\\n\\n\u516c\u53f8\u6cd5(\u8463\u8b19...   \n",
        "1    \\n\u5982\u6a19\u984c\\n\u5269\u4e0b\u4e00\u6b21\u6388\u6b0a\u5373\u53ef\\n\u8b1b\u7fa9\u6211\u6709\\n\u4f46\u662f\u7f3a\u7b46\u8a18\\n\u5982\u679c\u9858\u610f\u8ce3\u7b46\u8a18\u4e5fOK\\n\\n...   \n",
        "2    \\n\u203b \u5f15\u8ff0\u300aflora713 (pretty world)\u300b\u4e4b\u9298\u8a00\uff1a: 1. \u51fa\u552e\uff1a\u5fd7...   \n",
        "3    \\n\\n     \u521d\u6703\\n     http://goods.ruten.com.tw/...   \n",
        "4    \\n\u984c\u76ee:\u627e\u5230\u4e00\u500b\u5207\u7dda\u5e73\u9762\u5728:f(x,y)=x^2y\u7684\u5e73\u9762\u4e0a\uff0c\u4ea4\u9ede\u70ba(2,-1,-4)\\...   \n",
        "\n",
        "                       time                             title  \\\n",
        "0  Wed Feb  5 13:48:58 2014              [\u51fa\u552e] 102\u5e74\u8d85\u7d1a\u51fd\u6388 \u9ad8\u6703\u3001\u516c\u53f8\u6cd5   \n",
        "1  Wed Feb  5 14:44:15 2014                [\u5fb5\u6c42]\u5f90\u9326\u83ef\u9ad8\u6703DVD or \u8b1b\u7fa9   \n",
        "2  Wed Feb  5 16:47:30 2014  Re: [\u51fa\u552e/\u8d08\u9001] \u5fd7\u5149\u5c0a\u69ae\u512a\u60e0\u5238/ \u8d85\u7d1a\u51fd\u6388VIP\u63a8\u85a6\u79ae\u5238   \n",
        "3  Wed Feb  5 14:57:59 2014       [\u552e] \u521d\u7d1a\u6703\u8a08\u5b78.\u4e2d\u7d1a\u6703\u8a08\u5b78.\u6210\u672c\u6703\u8a08 DVD+\u8b1b\u7fa9   \n",
        "4  Tue Feb  4 15:48:18 2014                  [\u5fae\u7a4d] \u5229\u7528\u65b9\u5411\u5c0e\u6578\u6c42\u5207\u7dda\u4e00\u554f   \n",
        "\n",
        "                                                 url  \\\n",
        "0  http://www.ptt.cc/bbs/Accounting/M.1391579341....   \n",
        "1  http://www.ptt.cc/bbs/Accounting/M.1391582662....   \n",
        "2  http://www.ptt.cc/bbs/Accounting/M.1391590052....   \n",
        "3  http://www.ptt.cc/bbs/Accounting/M.1391583483....   \n",
        "4  http://www.ptt.cc/bbs/Math/M.1391500100.A.7D1....   \n",
        "\n",
        "                           user       user_id user_nickname  \n",
        "0            sunnykiller (\u5929\u7c5f\u4e4b\u8072)   sunnykiller          \u5929\u7c5f\u4e4b\u8072  \n",
        "1  JilSander (Doer brokenheart)     JilSander           Doe  \n",
        "2             lphotoimpact (\u6953\u96ea)  lphotoimpact            \u6953\u96ea  \n",
        "3                   ap22 (\u65cb\u8f49\u74f6\u5b50)          ap22          \u65cb\u8f49\u74f6\u5b50  \n",
        "4                   gbd37 (\u6709\u5920\u778e)         gbd37           \u6709\u5920\u778e  \n",
        "\n",
        "[5 rows x 9 columns]"
       ]
      }
     ],
     "prompt_number": 15
    },
    {
     "cell_type": "markdown",
     "metadata": {},
     "source": [
      "# vectorize (Accounting Board) \"text\" column "
     ]
    },
    {
     "cell_type": "code",
     "collapsed": false,
     "input": [
      "from PlaYnlp.sparse import L0_norm_col_summarizer as L0_col_sum\n",
      "from PlaYnlp.sparse import L1_norm_col_summarizer as L1_col_sum"
     ],
     "language": "python",
     "metadata": {},
     "outputs": [],
     "prompt_number": 16
    },
    {
     "cell_type": "code",
     "collapsed": false,
     "input": [
      "articles_df.groupby(\"Board\").groups.keys()"
     ],
     "language": "python",
     "metadata": {},
     "outputs": [
      {
       "metadata": {},
       "output_type": "pyout",
       "prompt_number": 17,
       "text": [
        "[u'Statistics', u'Accounting', u'Economics', u'Physics', u'Math']"
       ]
      }
     ],
     "prompt_number": 17
    },
    {
     "cell_type": "code",
     "collapsed": false,
     "input": [
      "test_ptt_text_sdtm = vcr.vectorize_text(df=articles_df,\n",
      "                                         text_col=\"text\", \n",
      "                                         idx_col=\"url\", \n",
      "                                         cond_query={\"Board\":\"Accounting\"},\n",
      "                                         idx_query= [],\n",
      "                                         vect_gen=vcr.CountVectorizer, \n",
      "                                         vect_gen_init_kwargs = jieba_vec_count_kwargs,\n",
      "                                         summarizer = L0_col_sum)"
     ],
     "language": "python",
     "metadata": {},
     "outputs": [],
     "prompt_number": 18
    },
    {
     "cell_type": "code",
     "collapsed": false,
     "input": [
      "test_ptt_text_sdtm"
     ],
     "language": "python",
     "metadata": {},
     "outputs": [
      {
       "metadata": {},
       "output_type": "pyout",
       "prompt_number": 19,
       "text": [
        "{'col_idx': array([u'\\n', u' ', u'!', ..., u'\\uff63', u'\\uffe3', u'\\ufffc'], \n",
        "       dtype='<U84'),\n",
        " 'row_idx': array([u'http://www.ptt.cc/bbs/Accounting/M.1391579341.A.20A.html',\n",
        "        u'http://www.ptt.cc/bbs/Accounting/M.1391582662.A.8A1.html',\n",
        "        u'http://www.ptt.cc/bbs/Accounting/M.1391590052.A.364.html', ...,\n",
        "        u'http://www.ptt.cc/bbs/Accounting/M.1388857344.A.617.html',\n",
        "        u'http://www.ptt.cc/bbs/Accounting/M.1388937222.A.D5F.html',\n",
        "        u'http://www.ptt.cc/bbs/Accounting/M.1389000970.A.662.html'], dtype=object),\n",
        " 'smatrix': <18786x114926 sparse matrix of type '<type 'numpy.int64'>'\n",
        " \twith 2726508 stored elements in Compressed Sparse Column format>,\n",
        " 'summarizer': <function PlaYnlp.sparse.<lambda>>}"
       ]
      }
     ],
     "prompt_number": 19
    },
    {
     "cell_type": "markdown",
     "metadata": {},
     "source": [
      "## [BUG of pickling]\n",
      "\n",
      "- ## [Reference](http://stackoverflow.com/questions/5247250/why-does-pickle-getstate-accept-as-a-return-value-the-very-instance-it-requi)"
     ]
    },
    {
     "cell_type": "code",
     "collapsed": false,
     "input": [
      "# import pickle\n",
      "# with open(\"test.pickle\",\"wb\") as wfile:\n",
      "#     pickle.dump(test_ptt_text_sdtm,wfile)"
     ],
     "language": "python",
     "metadata": {},
     "outputs": [],
     "prompt_number": 20
    },
    {
     "cell_type": "markdown",
     "metadata": {},
     "source": [
      "# How many words each document have? (count repeatly)"
     ]
    },
    {
     "cell_type": "code",
     "collapsed": false,
     "input": [
      "test_ptt_text_sdtm.T.summarize_sdf(L1_col_sum)"
     ],
     "language": "python",
     "metadata": {},
     "outputs": [
      {
       "ename": "KeyError",
       "evalue": "'summerizer'",
       "output_type": "pyerr",
       "traceback": [
        "\u001b[1;31m---------------------------------------------------------------------------\u001b[0m\n\u001b[1;31mKeyError\u001b[0m                                  Traceback (most recent call last)",
        "\u001b[1;32m<ipython-input-21-2b7539eb233b>\u001b[0m in \u001b[0;36m<module>\u001b[1;34m()\u001b[0m\n\u001b[1;32m----> 1\u001b[1;33m \u001b[0mtest_ptt_text_sdtm\u001b[0m\u001b[1;33m.\u001b[0m\u001b[0mT\u001b[0m\u001b[1;33m.\u001b[0m\u001b[0msummarize_sdf\u001b[0m\u001b[1;33m(\u001b[0m\u001b[0mL1_col_sum\u001b[0m\u001b[1;33m)\u001b[0m\u001b[1;33m\u001b[0m\u001b[0m\n\u001b[0m",
        "\u001b[1;32m/usr/local/lib/python2.7/dist-packages/PlaYnlp-0.0.1dev-py2.7.egg/PlaYnlp/vectorizer.pyc\u001b[0m in \u001b[0;36mT\u001b[1;34m(self)\u001b[0m\n\u001b[0;32m     14\u001b[0m                                           \u001b[0mrow_idx\u001b[0m \u001b[1;33m=\u001b[0m \u001b[0mself\u001b[0m\u001b[1;33m.\u001b[0m\u001b[0m_term_idx\u001b[0m\u001b[1;33m,\u001b[0m\u001b[1;33m\u001b[0m\u001b[0m\n\u001b[0;32m     15\u001b[0m                                           \u001b[0mcol_idx\u001b[0m \u001b[1;33m=\u001b[0m \u001b[0mself\u001b[0m\u001b[1;33m.\u001b[0m\u001b[0m_doc_idx\u001b[0m\u001b[1;33m,\u001b[0m\u001b[1;33m\u001b[0m\u001b[0m\n\u001b[1;32m---> 16\u001b[1;33m                                           summarizer = self[\"summerizer\"] if self._has_default_summarizer else None)\n\u001b[0m\u001b[0;32m     17\u001b[0m         \u001b[1;32mreturn\u001b[0m \u001b[0mtr_sdf\u001b[0m\u001b[1;33m\u001b[0m\u001b[0m\n\u001b[0;32m     18\u001b[0m \u001b[1;33m\u001b[0m\u001b[0m\n",
        "\u001b[1;31mKeyError\u001b[0m: 'summerizer'"
       ]
      }
     ],
     "prompt_number": 21
    },
    {
     "cell_type": "markdown",
     "metadata": {},
     "source": [
      "## Average words each document have (count repeatly)"
     ]
    },
    {
     "cell_type": "code",
     "collapsed": false,
     "input": [
      "test_ptt_text_sdtm.T.summarize_sdf(L1_col_sum)._data.mean()"
     ],
     "language": "python",
     "metadata": {},
     "outputs": []
    },
    {
     "cell_type": "code",
     "collapsed": false,
     "input": [
      "test_ptt_text_sdtm.T.summarize_sdf(L1_col_sum)._data"
     ],
     "language": "python",
     "metadata": {},
     "outputs": []
    },
    {
     "cell_type": "markdown",
     "metadata": {},
     "source": [
      "## Draw Historgram \n",
      "\n",
      "## reference: \n",
      "\n",
      "- ### http://matplotlib.org/examples/pylab_examples/histogram_demo_extended.html\n",
      "- ### http://en.wikipedia.org/wiki/Exponential_distribution"
     ]
    },
    {
     "cell_type": "code",
     "collapsed": false,
     "input": [
      "n, bins, patches = pylab.hist(test_ptt_text_sdtm.T.summarize_sdf(L1_col_sum)._data, \n",
      "                              50, normed=1, histtype='stepfilled')"
     ],
     "language": "python",
     "metadata": {},
     "outputs": []
    },
    {
     "cell_type": "code",
     "collapsed": false,
     "input": [
      "lmda = 1.0 / test_ptt_text_sdtm.T.summarize_sdf(L1_col_sum)._data.mean()\n",
      "lmda"
     ],
     "language": "python",
     "metadata": {},
     "outputs": []
    },
    {
     "cell_type": "markdown",
     "metadata": {},
     "source": [
      "# How many words each document have? (count non-repeatedly)"
     ]
    },
    {
     "cell_type": "code",
     "collapsed": false,
     "input": [
      "print test_ptt_text_sdtm._has_default_summarizer\n",
      "print test_ptt_text_sdtm.T._has_default_summarizer\n",
      "print test_ptt_text_sdtm.T.summary"
     ],
     "language": "python",
     "metadata": {},
     "outputs": [
      {
       "output_type": "stream",
       "stream": "stdout",
       "text": [
        "False\n",
        "False\n",
        "None"
       ]
      },
      {
       "output_type": "stream",
       "stream": "stdout",
       "text": [
        "\n"
       ]
      }
     ],
     "prompt_number": 33
    },
    {
     "cell_type": "markdown",
     "metadata": {},
     "source": [
      "## Average words each document have (count non-repeatly)"
     ]
    },
    {
     "cell_type": "code",
     "collapsed": false,
     "input": [
      "test_ptt_text_sdtm.T.summarize_sdf(L0_norm_col_summarizer)._data.mean()"
     ],
     "language": "python",
     "metadata": {},
     "outputs": [
      {
       "metadata": {},
       "output_type": "pyout",
       "prompt_number": 27,
       "text": [
        "145.13510060683487"
       ]
      }
     ],
     "prompt_number": 27
    },
    {
     "cell_type": "markdown",
     "metadata": {},
     "source": [
      "## Draw Historgram \n"
     ]
    },
    {
     "cell_type": "code",
     "collapsed": false,
     "input": [
      "n, bins, patches = pylab.hist(test_ptt_text_sdtm.T.summarize_sdf(L0_norm_col_summarizer)._data, \n",
      "                              50, normed=1, histtype='stepfilled')"
     ],
     "language": "python",
     "metadata": {},
     "outputs": [
      {
       "metadata": {},
       "output_type": "display_data",
       "png": "[encoded data removed]",
       "text": [
        "<matplotlib.figure.Figure at 0x4253acd0>"
       ]
      }
     ],
     "prompt_number": 28
    },
    {
     "cell_type": "markdown",
     "metadata": {},
     "source": [
      "# How many documents each word appears? (count repeatly)"
     ]
    },
    {
     "cell_type": "code",
     "collapsed": false,
     "input": [
      "test_ptt_text_sdtm.summarize_sdf(L1_norm_col_summarizer)"
     ],
     "language": "python",
     "metadata": {},
     "outputs": [
      {
       "metadata": {},
       "output_type": "pyout",
       "prompt_number": 29,
       "text": [
        "{'sdf': {'col_idx': array([u'\\n', u' ', u'!', ..., u'\\uff63', u'\\uffe3', u'\\ufffc'], \n",
        "        dtype='<U84'),\n",
        "  'row_idx': array([u'http://www.ptt.cc/bbs/Accounting/M.1391579341.A.20A.html',\n",
        "         u'http://www.ptt.cc/bbs/Accounting/M.1391582662.A.8A1.html',\n",
        "         u'http://www.ptt.cc/bbs/Accounting/M.1391590052.A.364.html', ...,\n",
        "         u'http://www.ptt.cc/bbs/Accounting/M.1388857344.A.617.html',\n",
        "         u'http://www.ptt.cc/bbs/Accounting/M.1388937222.A.D5F.html',\n",
        "         u'http://www.ptt.cc/bbs/Accounting/M.1389000970.A.662.html'], dtype=object),\n",
        "  'smatrix': <18786x114926 sparse matrix of type '<type 'numpy.int64'>'\n",
        "  \twith 2726508 stored elements in Compressed Sparse Column format>},\n",
        " 'summary_data': array([433482, 949564,  27967, ...,     12,   1363,      8]),\n",
        " 'summary_idx': array([u'\\n', u' ', u'!', ..., u'\\uff63', u'\\uffe3', u'\\ufffc'], \n",
        "       dtype='<U84'),\n",
        " 'summary_type': 'col'}"
       ]
      }
     ],
     "prompt_number": 29
    },
    {
     "cell_type": "markdown",
     "metadata": {},
     "source": [
      "## Average documents each word appears (count repeatly)"
     ]
    },
    {
     "cell_type": "code",
     "collapsed": false,
     "input": [
      "test_ptt_text_sdtm.summarize_sdf(L1_norm_col_summarizer)._data.mean()"
     ],
     "language": "python",
     "metadata": {},
     "outputs": [
      {
       "metadata": {},
       "output_type": "pyout",
       "prompt_number": 30,
       "text": [
        "61.021492090562624"
       ]
      }
     ],
     "prompt_number": 30
    },
    {
     "cell_type": "markdown",
     "metadata": {},
     "source": [
      "## Draw Historgram \n"
     ]
    },
    {
     "cell_type": "code",
     "collapsed": false,
     "input": [
      "n, bins, patches = pylab.hist(test_ptt_text_sdtm.summarize_sdf(L1_norm_col_summarizer)._data, \n",
      "                              50, normed=1, histtype='stepfilled')\n",
      "# print bins"
     ],
     "language": "python",
     "metadata": {},
     "outputs": [
      {
       "metadata": {},
       "output_type": "display_data",
       "png": "[encoded data removed]",
       "text": [
        "<matplotlib.figure.Figure at 0x1d468110>"
       ]
      }
     ],
     "prompt_number": 31
    },
    {
     "cell_type": "markdown",
     "metadata": {},
     "source": [
      "## Draw Log-Historgram \n"
     ]
    },
    {
     "cell_type": "code",
     "collapsed": false,
     "input": [
      "n, bins, patches = pylab.hist(np.log(test_ptt_text_sdtm.summarize_sdf(L1_norm_col_summarizer)._data), \n",
      "                              50, normed=1, histtype='stepfilled')"
     ],
     "language": "python",
     "metadata": {},
     "outputs": [
      {
       "metadata": {},
       "output_type": "display_data",
       "png": "[encoded data removed]",
       "text": [
        "<matplotlib.figure.Figure at 0x218479d0>"
       ]
      }
     ],
     "prompt_number": 32
    },
    {
     "cell_type": "markdown",
     "metadata": {},
     "source": [
      "# How many documents each word appear? (count non-repeatly)"
     ]
    },
    {
     "cell_type": "code",
     "collapsed": false,
     "input": [
      "test_ptt_text_sdtm.summarize_sdf(L0_norm_col_summarizer)"
     ],
     "language": "python",
     "metadata": {},
     "outputs": [
      {
       "metadata": {},
       "output_type": "pyout",
       "prompt_number": 33,
       "text": [
        "{'sdf': {'col_idx': array([u'\\n', u' ', u'!', ..., u'\\uff63', u'\\uffe3', u'\\ufffc'], \n",
        "        dtype='<U84'),\n",
        "  'row_idx': array([u'http://www.ptt.cc/bbs/Accounting/M.1391579341.A.20A.html',\n",
        "         u'http://www.ptt.cc/bbs/Accounting/M.1391582662.A.8A1.html',\n",
        "         u'http://www.ptt.cc/bbs/Accounting/M.1391590052.A.364.html', ...,\n",
        "         u'http://www.ptt.cc/bbs/Accounting/M.1388857344.A.617.html',\n",
        "         u'http://www.ptt.cc/bbs/Accounting/M.1388937222.A.D5F.html',\n",
        "         u'http://www.ptt.cc/bbs/Accounting/M.1389000970.A.662.html'], dtype=object),\n",
        "  'smatrix': <18786x114926 sparse matrix of type '<type 'numpy.int64'>'\n",
        "  \twith 2726508 stored elements in Compressed Sparse Column format>},\n",
        " 'summary_data': array([18776, 18786,  6632, ...,     5,   132,     4]),\n",
        " 'summary_idx': array([u'\\n', u' ', u'!', ..., u'\\uff63', u'\\uffe3', u'\\ufffc'], \n",
        "       dtype='<U84'),\n",
        " 'summary_type': 'col'}"
       ]
      }
     ],
     "prompt_number": 33
    },
    {
     "cell_type": "markdown",
     "metadata": {},
     "source": [
      "## Average documents each word appears (count non-repeatly)"
     ]
    },
    {
     "cell_type": "code",
     "collapsed": false,
     "input": [
      "test_ptt_text_sdtm.summarize_sdf(L0_norm_col_summarizer)._data.mean()"
     ],
     "language": "python",
     "metadata": {},
     "outputs": [
      {
       "metadata": {},
       "output_type": "pyout",
       "prompt_number": 34,
       "text": [
        "23.724031115674435"
       ]
      }
     ],
     "prompt_number": 34
    },
    {
     "cell_type": "markdown",
     "metadata": {},
     "source": [
      "## Draw Log-Historgram \n"
     ]
    },
    {
     "cell_type": "code",
     "collapsed": false,
     "input": [
      "n, bins, patches = pylab.hist(np.log(test_ptt_text_sdtm.summarize_sdf(L0_norm_col_summarizer)._data), \n",
      "                              50, normed=1, histtype='stepfilled')"
     ],
     "language": "python",
     "metadata": {},
     "outputs": [
      {
       "metadata": {},
       "output_type": "display_data",
       "png": "[encoded data removed]",
       "text": [
        "<matplotlib.figure.Figure at 0x37452b10>"
       ]
      }
     ],
     "prompt_number": 35
    },
    {
     "cell_type": "markdown",
     "metadata": {},
     "source": [
      "# Quantiles"
     ]
    },
    {
     "cell_type": "code",
     "collapsed": false,
     "input": [
      "temp_summary = test_ptt_text_sdtm.summarize_sdf(L0_norm_col_summarizer)\n",
      "print np.percentile(temp_summary._data,50)\n",
      "print np.percentile(temp_summary._data,75)\n",
      "print np.percentile(temp_summary._data,90)\n",
      "print np.percentile(temp_summary._data,95)\n",
      "print np.percentile(temp_summary._data,99)\n",
      "print np.percentile(temp_summary._data,99.9)"
     ],
     "language": "python",
     "metadata": {},
     "outputs": [
      {
       "output_type": "stream",
       "stream": "stdout",
       "text": [
        "1.0\n",
        "4.0\n",
        "15.0\n",
        "39.0\n",
        "339.75\n",
        "3457.075\n"
       ]
      }
     ],
     "prompt_number": 50
    },
    {
     "cell_type": "markdown",
     "metadata": {},
     "source": [
      "# Inversed Quantiles"
     ]
    },
    {
     "cell_type": "code",
     "collapsed": false,
     "input": [
      "print sp.stats.percentileofscore(temp_summary._data,1, kind='weak')\n",
      "print sp.stats.percentileofscore(temp_summary._data,4, kind='weak')\n",
      "print sp.stats.percentileofscore(temp_summary._data,15, kind='weak')\n",
      "print sp.stats.percentileofscore(temp_summary._data,40, kind='weak')\n",
      "print sp.stats.percentileofscore(temp_summary._data,340, kind='weak')\n",
      "print sp.stats.percentileofscore(temp_summary._data,3457, kind='weak')"
     ],
     "language": "python",
     "metadata": {},
     "outputs": [
      {
       "output_type": "stream",
       "stream": "stdout",
       "text": [
        "51.1642274159\n",
        "77.6203818109\n",
        "90.3555331257\n",
        "95.12294868\n",
        "99.003706733\n",
        "99.8999356107\n"
       ]
      }
     ],
     "prompt_number": 111
    },
    {
     "cell_type": "code",
     "collapsed": false,
     "input": [
      "print 1.0 - float(len(np.nonzero((temp_summary > 4)._data)[0])) / len(temp_summary._data)\n",
      "print 1.0 - float(len(np.nonzero((temp_summary > 40)._data)[0])) / len(temp_summary._data)"
     ],
     "language": "python",
     "metadata": {},
     "outputs": [
      {
       "output_type": "stream",
       "stream": "stdout",
       "text": [
        "0.776203818109\n",
        "0.9512294868\n"
       ]
      }
     ],
     "prompt_number": 113
    },
    {
     "cell_type": "markdown",
     "metadata": {},
     "source": [
      "# Get Filtered Sub-SDTM"
     ]
    },
    {
     "cell_type": "code",
     "collapsed": false,
     "input": [
      "filtered_sdtm = ((temp_summary >= 3) & (temp_summary <= 40))._sub_sdf\n",
      "print filtered_sdtm"
     ],
     "language": "python",
     "metadata": {},
     "outputs": [
      {
       "output_type": "stream",
       "stream": "stdout",
       "text": [
        "{'row_idx': array([u'http://www.ptt.cc/bbs/Accounting/M.1391579341.A.20A.html',\n",
        "       u'http://www.ptt.cc/bbs/Accounting/M.1391582662.A.8A1.html',\n",
        "       u'http://www.ptt.cc/bbs/Accounting/M.1391590052.A.364.html', ...,\n",
        "       u'http://www.ptt.cc/bbs/Accounting/M.1388857344.A.617.html',\n",
        "       u'http://www.ptt.cc/bbs/Accounting/M.1388937222.A.D5F.html',\n",
        "       u'http://www.ptt.cc/bbs/Accounting/M.1389000970.A.662.html'], dtype=object), 'col_idx': array([u'##', u'+++', u'+...', ..., u'\\uff62', u'\\uff63', u'\\ufffc'], \n",
        "      dtype='<U84'), 'smatrix': <18786x24953 sparse matrix of type '<type 'numpy.int64'>'\n",
        "\twith 274901 stored elements in Compressed Sparse Column format>}\n"
       ]
      }
     ],
     "prompt_number": 87
    },
    {
     "cell_type": "markdown",
     "metadata": {},
     "source": [
      "## Average documents each word appears (count non-repeatly)"
     ]
    },
    {
     "cell_type": "code",
     "collapsed": false,
     "input": [
      "print test_ptt_text_sdtm.summarize_sdf(L0_norm_col_summarizer)._data.mean()\n",
      "print filtered_sdtm.summarize_sdf(L0_norm_col_summarizer)._data.mean()"
     ],
     "language": "python",
     "metadata": {},
     "outputs": [
      {
       "output_type": "stream",
       "stream": "stdout",
       "text": [
        "23.7240311157\n",
        "11.0167514928\n"
       ]
      }
     ],
     "prompt_number": 88
    },
    {
     "cell_type": "markdown",
     "metadata": {},
     "source": [
      "## Average words each document have (count non-repeatly)"
     ]
    },
    {
     "cell_type": "code",
     "collapsed": false,
     "input": [
      "print test_ptt_text_sdtm.T.summarize_sdf(L0_norm_col_summarizer)._data.mean()\n",
      "print filtered_sdtm.T.summarize_sdf(L0_norm_col_summarizer)._data.mean()"
     ],
     "language": "python",
     "metadata": {},
     "outputs": [
      {
       "output_type": "stream",
       "stream": "stdout",
       "text": [
        "145.135100607\n",
        "14.6332907484\n"
       ]
      }
     ],
     "prompt_number": 89
    },
    {
     "cell_type": "markdown",
     "metadata": {},
     "source": [
      "# Get Filtered Sub-SDTM"
     ]
    },
    {
     "cell_type": "code",
     "collapsed": false,
     "input": [
      "one_row = filtered_sdtm.select_rows([1000])\n",
      "filtered_sdtm.select_columns((one_row.summarize_sdf() > 0)._data)"
     ],
     "language": "python",
     "metadata": {},
     "outputs": [
      {
       "metadata": {},
       "output_type": "pyout",
       "prompt_number": 103,
       "text": [
        "{'col_idx': array([u'\\u4e00\\u767e\\u842c', u'\\u4e43\\u662f', u'\\u5169\\u56de\\u4e8b',\n",
        "        u'\\u62d9\\u898b', u'\\u6307\\u6709', u'\\u723e\\u5f8c', u'\\u8981\\u5206',\n",
        "        u'\\u9084\\u6e05', u'\\u958b\\u7968'], \n",
        "       dtype='<U84'),\n",
        " 'row_idx': array([u'http://www.ptt.cc/bbs/Accounting/M.1391579341.A.20A.html',\n",
        "        u'http://www.ptt.cc/bbs/Accounting/M.1391582662.A.8A1.html',\n",
        "        u'http://www.ptt.cc/bbs/Accounting/M.1391590052.A.364.html', ...,\n",
        "        u'http://www.ptt.cc/bbs/Accounting/M.1388857344.A.617.html',\n",
        "        u'http://www.ptt.cc/bbs/Accounting/M.1388937222.A.D5F.html',\n",
        "        u'http://www.ptt.cc/bbs/Accounting/M.1389000970.A.662.html'], dtype=object),\n",
        " 'smatrix': <18786x9 sparse matrix of type '<type 'numpy.int64'>'\n",
        " \twith 117 stored elements in Compressed Sparse Column format>}"
       ]
      }
     ],
     "prompt_number": 103
    },
    {
     "cell_type": "code",
     "collapsed": false,
     "input": [],
     "language": "python",
     "metadata": {},
     "outputs": [
      {
       "metadata": {},
       "output_type": "pyout",
       "prompt_number": 116,
       "text": [
        "False"
       ]
      }
     ],
     "prompt_number": 116
    },
    {
     "cell_type": "code",
     "collapsed": false,
     "input": [],
     "language": "python",
     "metadata": {},
     "outputs": []
    },
    {
     "cell_type": "code",
     "collapsed": false,
     "input": [],
     "language": "python",
     "metadata": {},
     "outputs": []
    },
    {
     "cell_type": "code",
     "collapsed": false,
     "input": [
      "((test_ptt_text_sdtm.summarize_sdf(L0_norm_col_summarizer) > 3) & (test_ptt_text_sdtm.summarize_sdf(L0_norm_col_summarizer) < 40))._filtered_idx.shape"
     ],
     "language": "python",
     "metadata": {},
     "outputs": [
      {
       "metadata": {},
       "output_type": "pyout",
       "prompt_number": 37,
       "text": [
        "(24856,)"
       ]
      }
     ],
     "prompt_number": 37
    },
    {
     "cell_type": "code",
     "collapsed": false,
     "input": [],
     "language": "python",
     "metadata": {},
     "outputs": [],
     "prompt_number": 37
    },
    {
     "cell_type": "code",
     "collapsed": false,
     "input": [
      "test_ptt_text_sdtm.summarize_sdf(L0_norm_col_summarizer)"
     ],
     "language": "python",
     "metadata": {},
     "outputs": [
      {
       "metadata": {},
       "output_type": "pyout",
       "prompt_number": 38,
       "text": [
        "{'sdf': {'col_idx': array([u'\\n', u' ', u'!', ..., u'\\uff63', u'\\uffe3', u'\\ufffc'], \n",
        "        dtype='<U84'),\n",
        "  'row_idx': array([u'http://www.ptt.cc/bbs/Accounting/M.1391579341.A.20A.html',\n",
        "         u'http://www.ptt.cc/bbs/Accounting/M.1391582662.A.8A1.html',\n",
        "         u'http://www.ptt.cc/bbs/Accounting/M.1391590052.A.364.html', ...,\n",
        "         u'http://www.ptt.cc/bbs/Accounting/M.1388857344.A.617.html',\n",
        "         u'http://www.ptt.cc/bbs/Accounting/M.1388937222.A.D5F.html',\n",
        "         u'http://www.ptt.cc/bbs/Accounting/M.1389000970.A.662.html'], dtype=object),\n",
        "  'smatrix': <18786x114926 sparse matrix of type '<type 'numpy.int64'>'\n",
        "  \twith 2726508 stored elements in Compressed Sparse Column format>},\n",
        " 'summary_data': array([18776, 18786,  6632, ...,     5,   132,     4]),\n",
        " 'summary_idx': array([u'\\n', u' ', u'!', ..., u'\\uff63', u'\\uffe3', u'\\ufffc'], \n",
        "       dtype='<U84'),\n",
        " 'summary_type': 'col'}"
       ]
      }
     ],
     "prompt_number": 38
    },
    {
     "cell_type": "code",
     "collapsed": false,
     "input": [],
     "language": "python",
     "metadata": {},
     "outputs": []
    },
    {
     "cell_type": "code",
     "collapsed": false,
     "input": [],
     "language": "python",
     "metadata": {},
     "outputs": []
    },
    {
     "cell_type": "code",
     "collapsed": false,
     "input": [],
     "language": "python",
     "metadata": {},
     "outputs": []
    },
    {
     "cell_type": "markdown",
     "metadata": {},
     "source": [
      "# Summerize how many times \"every terms\" appear in all documents ... "
     ]
    },
    {
     "cell_type": "code",
     "collapsed": false,
     "input": [
      "test_ptt_title_sdtm.summarize_sdf(L0_norm_col_summarizer)"
     ],
     "language": "python",
     "metadata": {},
     "outputs": [
      {
       "metadata": {},
       "output_type": "pyout",
       "prompt_number": 19,
       "text": [
        "{'sdf': {'col_idx': array([u' ', u'!', u'\"', ..., u'\\uff56', u'\\uff5c', u'\\uff5e'], \n",
        "        dtype='<U32'),\n",
        "  'row_idx': array([u'http://www.ptt.cc/bbs/Accounting/M.1391579341.A.20A.html',\n",
        "         u'http://www.ptt.cc/bbs/Accounting/M.1391582662.A.8A1.html',\n",
        "         u'http://www.ptt.cc/bbs/Accounting/M.1391590052.A.364.html', ...,\n",
        "         u'http://www.ptt.cc/bbs/Statistics/M.1360249087.A.CF0.html',\n",
        "         u'http://www.ptt.cc/bbs/Statistics/M.1360337458.A.280.html',\n",
        "         u'http://www.ptt.cc/bbs/Statistics/M.1360509019.A.DF2.html'], dtype=object),\n",
        "  'smatrix': <85276x27599 sparse matrix of type '<type 'numpy.int64'>'\n",
        "  \twith 826954 stored elements in Compressed Sparse Column format>},\n",
        " 'summary_data': array([79968,   805,   654, ...,     2,     1,   122]),\n",
        " 'summary_idx': array([u' ', u'!', u'\"', ..., u'\\uff56', u'\\uff5c', u'\\uff5e'], \n",
        "       dtype='<U32'),\n",
        " 'summary_type': 'col'}"
       ]
      }
     ],
     "prompt_number": 19
    },
    {
     "cell_type": "markdown",
     "metadata": {},
     "source": [
      "# Take terms which appears more than 10 times"
     ]
    },
    {
     "cell_type": "code",
     "collapsed": false,
     "input": [
      "(test_ptt_title_sdtm.summarize_sdf(L0_norm_col_summarizer) > 0)._filtered_idx.shape"
     ],
     "language": "python",
     "metadata": {},
     "outputs": [
      {
       "metadata": {},
       "output_type": "pyout",
       "prompt_number": 20,
       "text": [
        "(27599,)"
       ]
      }
     ],
     "prompt_number": 20
    },
    {
     "cell_type": "code",
     "collapsed": false,
     "input": [
      "(test_ptt_title_sdtm.summarize_sdf(L0_norm_col_summarizer) > 10)._filtered_idx.shape"
     ],
     "language": "python",
     "metadata": {},
     "outputs": [
      {
       "metadata": {},
       "output_type": "pyout",
       "prompt_number": 21,
       "text": [
        "(4272,)"
       ]
      }
     ],
     "prompt_number": 21
    },
    {
     "cell_type": "code",
     "collapsed": false,
     "input": [
      "#print \"// \".join((test_ptt_title_sdtm.summarize_sdf(L0_norm_col_summarizer) > 10)._filtered_idx)"
     ],
     "language": "python",
     "metadata": {},
     "outputs": [],
     "prompt_number": 22
    },
    {
     "cell_type": "markdown",
     "metadata": {},
     "source": [
      "# Take terms which appears more than 10 times and less than 100 times"
     ]
    },
    {
     "cell_type": "code",
     "collapsed": false,
     "input": [
      "((test_ptt_title_sdtm.summarize_sdf(L0_norm_col_summarizer) > 10) & (test_ptt_title_sdtm.summarize_sdf(L0_norm_col_summarizer) < 100))._filtered_idx.shape"
     ],
     "language": "python",
     "metadata": {},
     "outputs": [
      {
       "metadata": {},
       "output_type": "pyout",
       "prompt_number": 23,
       "text": [
        "(3598,)"
       ]
      }
     ],
     "prompt_number": 23
    },
    {
     "cell_type": "code",
     "collapsed": false,
     "input": [
      "#print \"// \".join(((test_ptt_title_sdtm.summarize_sdf(L0_norm_col_summarizer) > 10) & (test_ptt_title_sdtm.summarize_sdf(L0_norm_col_summarizer) < 100))._filtered_idx)"
     ],
     "language": "python",
     "metadata": {},
     "outputs": [],
     "prompt_number": 24
    },
    {
     "cell_type": "markdown",
     "metadata": {},
     "source": [
      "# Take sdtm which appears more than 10 times and less than 100 times"
     ]
    },
    {
     "cell_type": "code",
     "collapsed": false,
     "input": [
      "filtered_sdtm = ((test_ptt_title_sdtm.summarize_sdf(L0_norm_col_summarizer) > 10) & (test_ptt_title_sdtm.summarize_sdf(L0_norm_col_summarizer) < 100))._sub_sdf\n",
      "print \"type(filtered_sdtm) = \",type(filtered_sdtm)\n",
      "filtered_sdtm"
     ],
     "language": "python",
     "metadata": {},
     "outputs": [
      {
       "output_type": "stream",
       "stream": "stdout",
       "text": [
        "type(filtered_sdtm) =  <class 'PlaYnlp.vectorizer.SparseDocumentTermMatrix'>\n"
       ]
      },
      {
       "metadata": {},
       "output_type": "pyout",
       "prompt_number": 25,
       "text": [
        "{'col_idx': array([u'#', u'$', u'%', ..., u'\\uff1c', u'\\uff1d', u'\\uff23'], \n",
        "       dtype='<U32'),\n",
        " 'row_idx': array([u'http://www.ptt.cc/bbs/Accounting/M.1391579341.A.20A.html',\n",
        "        u'http://www.ptt.cc/bbs/Accounting/M.1391582662.A.8A1.html',\n",
        "        u'http://www.ptt.cc/bbs/Accounting/M.1391590052.A.364.html', ...,\n",
        "        u'http://www.ptt.cc/bbs/Statistics/M.1360249087.A.CF0.html',\n",
        "        u'http://www.ptt.cc/bbs/Statistics/M.1360337458.A.280.html',\n",
        "        u'http://www.ptt.cc/bbs/Statistics/M.1360509019.A.DF2.html'], dtype=object),\n",
        " 'smatrix': <85276x3598 sparse matrix of type '<type 'numpy.int64'>'\n",
        " \twith 107411 stored elements in Compressed Sparse Column format>}"
       ]
      }
     ],
     "prompt_number": 25
    },
    {
     "cell_type": "code",
     "collapsed": false,
     "input": [
      "fig = pylab.figure()\n",
      "ax1 = fig.add_axes([0.0,0.0,1.0,1.0])\n",
      "pylab.spy(filtered_sdtm._smatrix[:1000,:])"
     ],
     "language": "python",
     "metadata": {},
     "outputs": [
      {
       "metadata": {},
       "output_type": "pyout",
       "prompt_number": 26,
       "text": [
        "<matplotlib.lines.Line2D at 0x41901c10>"
       ]
      },
      {
       "metadata": {},
       "output_type": "display_data",
       "png": "[encoded data removed]",
       "text": [
        "<matplotlib.figure.Figure at 0x371e1550>"
       ]
      }
     ],
     "prompt_number": 26
    },
    {
     "cell_type": "code",
     "collapsed": false,
     "input": [
      "fig = pylab.figure()\n",
      "ax1 = fig.add_axes([0.0,0.0,1.0,1.0])\n",
      "pylab.spy(filtered_sdtm._smatrix[1000:2000,:])"
     ],
     "language": "python",
     "metadata": {},
     "outputs": [
      {
       "metadata": {},
       "output_type": "pyout",
       "prompt_number": 27,
       "text": [
        "<matplotlib.lines.Line2D at 0x3da5aa50>"
       ]
      },
      {
       "metadata": {},
       "output_type": "display_data",
       "png": "[encoded data removed]",
       "text": [
        "<matplotlib.figure.Figure at 0x41914110>"
       ]
      }
     ],
     "prompt_number": 27
    },
    {
     "cell_type": "markdown",
     "metadata": {},
     "source": [
      "# Use select_rows with pd.DataFrame.groupby"
     ]
    },
    {
     "cell_type": "code",
     "collapsed": false,
     "input": [
      "grouped = articles_df.groupby(\"Board\")\n",
      "grouped.groups.keys()"
     ],
     "language": "python",
     "metadata": {},
     "outputs": [
      {
       "metadata": {},
       "output_type": "pyout",
       "prompt_number": 28,
       "text": [
        "[u'Statistics', u'Accounting', u'Economics', u'Physics', u'Math']"
       ]
      }
     ],
     "prompt_number": 28
    },
    {
     "cell_type": "code",
     "collapsed": false,
     "input": [
      "one_group = u'Accounting'\n",
      "one_group_ix = grouped.groups[one_group]\n",
      "one_group_sdtm = filtered_sdtm.select_rows(one_group_ix)\n",
      "one_group_sdtm"
     ],
     "language": "python",
     "metadata": {},
     "outputs": [
      {
       "metadata": {},
       "output_type": "pyout",
       "prompt_number": 29,
       "text": [
        "{'col_idx': array([u'#', u'$', u'%', ..., u'\\uff1c', u'\\uff1d', u'\\uff23'], \n",
        "       dtype='<U32'),\n",
        " 'row_idx': array([u'http://www.ptt.cc/bbs/Accounting/M.1391579341.A.20A.html',\n",
        "        u'http://www.ptt.cc/bbs/Accounting/M.1391582662.A.8A1.html',\n",
        "        u'http://www.ptt.cc/bbs/Accounting/M.1391590052.A.364.html', ...,\n",
        "        u'http://www.ptt.cc/bbs/Accounting/M.1388857344.A.617.html',\n",
        "        u'http://www.ptt.cc/bbs/Accounting/M.1388937222.A.D5F.html',\n",
        "        u'http://www.ptt.cc/bbs/Accounting/M.1389000970.A.662.html'], dtype=object),\n",
        " 'smatrix': <18786x3598 sparse matrix of type '<type 'numpy.int64'>'\n",
        " \twith 23152 stored elements in Compressed Sparse Column format>}"
       ]
      }
     ],
     "prompt_number": 29
    },
    {
     "cell_type": "code",
     "collapsed": false,
     "input": [
      "one_group_summary = one_group_sdtm.summarize_sdf()\n",
      "one_group_summary"
     ],
     "language": "python",
     "metadata": {},
     "outputs": [
      {
       "metadata": {},
       "output_type": "pyout",
       "prompt_number": 30,
       "text": [
        "{'sdf': {'col_idx': array([u'#', u'$', u'%', ..., u'\\uff1c', u'\\uff1d', u'\\uff23'], \n",
        "        dtype='<U32'),\n",
        "  'row_idx': array([u'http://www.ptt.cc/bbs/Accounting/M.1391579341.A.20A.html',\n",
        "         u'http://www.ptt.cc/bbs/Accounting/M.1391582662.A.8A1.html',\n",
        "         u'http://www.ptt.cc/bbs/Accounting/M.1391590052.A.364.html', ...,\n",
        "         u'http://www.ptt.cc/bbs/Accounting/M.1388857344.A.617.html',\n",
        "         u'http://www.ptt.cc/bbs/Accounting/M.1388937222.A.D5F.html',\n",
        "         u'http://www.ptt.cc/bbs/Accounting/M.1389000970.A.662.html'], dtype=object),\n",
        "  'smatrix': <18786x3598 sparse matrix of type '<type 'numpy.int64'>'\n",
        "  \twith 23152 stored elements in Compressed Sparse Column format>},\n",
        " 'summary_data': array([11, 12,  2, ...,  0,  0,  2]),\n",
        " 'summary_idx': array([u'#', u'$', u'%', ..., u'\\uff1c', u'\\uff1d', u'\\uff23'], \n",
        "       dtype='<U32'),\n",
        " 'summary_type': 'col'}"
       ]
      }
     ],
     "prompt_number": 30
    },
    {
     "cell_type": "code",
     "collapsed": false,
     "input": [
      "fig = pylab.figure()\n",
      "ax1 = fig.add_axes([0.0,0.0,1.0,1.0])\n",
      "ax1.bar(range(len(one_group_summary[\"summary_data\"])),one_group_summary[\"summary_data\"])"
     ],
     "language": "python",
     "metadata": {},
     "outputs": [
      {
       "metadata": {},
       "output_type": "pyout",
       "prompt_number": 31,
       "text": [
        "<Container object of 3598 artists>"
       ]
      },
      {
       "metadata": {},
       "output_type": "display_data",
       "png": "[encoded data removed]",
       "text": [
        "<matplotlib.figure.Figure at 0x3da60210>"
       ]
      }
     ],
     "prompt_number": 31
    },
    {
     "cell_type": "markdown",
     "metadata": {},
     "source": [
      "# Top Words and Last Words:"
     ]
    },
    {
     "cell_type": "code",
     "collapsed": false,
     "input": [
      "one_group_summary"
     ],
     "language": "python",
     "metadata": {},
     "outputs": [
      {
       "metadata": {},
       "output_type": "pyout",
       "prompt_number": 32,
       "text": [
        "{'sdf': {'col_idx': array([u'#', u'$', u'%', ..., u'\\uff1c', u'\\uff1d', u'\\uff23'], \n",
        "        dtype='<U32'),\n",
        "  'row_idx': array([u'http://www.ptt.cc/bbs/Accounting/M.1391579341.A.20A.html',\n",
        "         u'http://www.ptt.cc/bbs/Accounting/M.1391582662.A.8A1.html',\n",
        "         u'http://www.ptt.cc/bbs/Accounting/M.1391590052.A.364.html', ...,\n",
        "         u'http://www.ptt.cc/bbs/Accounting/M.1388857344.A.617.html',\n",
        "         u'http://www.ptt.cc/bbs/Accounting/M.1388937222.A.D5F.html',\n",
        "         u'http://www.ptt.cc/bbs/Accounting/M.1389000970.A.662.html'], dtype=object),\n",
        "  'smatrix': <18786x3598 sparse matrix of type '<type 'numpy.int64'>'\n",
        "  \twith 23152 stored elements in Compressed Sparse Column format>},\n",
        " 'summary_data': array([11, 12,  2, ...,  0,  0,  2]),\n",
        " 'summary_idx': array([u'#', u'$', u'%', ..., u'\\uff1c', u'\\uff1d', u'\\uff23'], \n",
        "       dtype='<U32'),\n",
        " 'summary_type': 'col'}"
       ]
      }
     ],
     "prompt_number": 32
    },
    {
     "cell_type": "markdown",
     "metadata": {},
     "source": [
      "## Last 60 Words"
     ]
    },
    {
     "cell_type": "code",
     "collapsed": false,
     "input": [
      "print \"// \".join(one_group_summary[\"summary_idx\"][one_group_summary[\"summary_data\"].argsort()[:60]])"
     ],
     "language": "python",
     "metadata": {},
     "outputs": [
      {
       "output_type": "stream",
       "stream": "stdout",
       "text": [
        "\u6307\u8003// \u6ce2\u5c0e\u7ba1// \u6ce2\u901f// \u6ce2\u9577// \u540d\u76ee// \u6cf0\u52d2// \u540d\u4eba// \u540c\u8cea\u6027// \u6d3b\u7d61// \u91ab\u5b78// \u627e\u51fa// \u6d41\u529b// \u5411\u5fc3\u529b// \u63cf\u8ff0// \u91cd\u529b\u5834// \u8d85\u5c0e// \u89d2\u901f\u5ea6// \u5408\u6210// \u91cd\u5fc3// \u5408// \u89d2\u5316// \u6d41\u901f// \u6d41\u9ad4// \u5404\u570b// \u6d41\u9ad4\u529b\u5b78// \u91cd\u529b// \u89d2\u52d5\u91cf// \u5411\u91cf\u5206\u6790// \u9178\u9e7c// \u908a\u9577// \u552f\u4e00// \u6c89\u6fb1// \u6c92\u591a\u5370// \u54f2\u5b78// \u6cb8\u9a30// \u6cb8\u9ede// \u6cb9// \u6cb9\u50f9// \u6279\u8a55// \u89e3\u8b80// \u5426\u8a8d// \u6cd5\u62c9\u7b2c// \u6ce1\u6cab// \u548c\u51f1// \u6ce1\u6cab\u7d93\u6fdf// \u6ce2// \u90fd\u535c\u52d2// \u914d// \u6ce2\u51fd\u6578// \u5438\u6536// \u5438\u5f15\u529b// \u6ce2\u52d5// \u914d\u5c0d// \u54c1\u7ba1// \u53f2// \u53f0\u5e63// \u53f0\u5546// \u6e05\u6eaa// \u6e1b\u7a05// \u53cd\u63a8\n"
       ]
      }
     ],
     "prompt_number": 33
    },
    {
     "cell_type": "markdown",
     "metadata": {},
     "source": [
      "## Top 60 Words"
     ]
    },
    {
     "cell_type": "code",
     "collapsed": false,
     "input": [
      "print \"// \".join(one_group_summary[\"summary_idx\"][one_group_summary[\"summary_data\"].argsort()[-60:]])"
     ],
     "language": "python",
     "metadata": {},
     "outputs": [
      {
       "output_type": "stream",
       "stream": "stdout",
       "text": [
        "\u79d1\u76ee// \u4e09\u7b49// \u8cc7\u672c// \u767c\u884c// \u7b2c\u4e94\u7248// \u5f35\u65ed// \u90ed// \u8b49\u7167// \u89e3\u6790// \u5fb5\u7a3f// \u4ea4\u6613// \u80a1// Becker// \u96c6\u9326// \u88dc\u7fd2// CIA// \u5408\u8cfc// 2013// \u80a1\u5229// \u85cd\u8272// \u8ca1\u52d9\u5831\u8868// 103// \u8ca1\u52d9// \u6e96\u5247// \u9326\u83ef// KPMG// \u5546\u6703// \u5f90// \u9032// \u5831\u540d// \u6b0a\u76ca\u6cd5// \u640d\u76ca// \u856d\u9756// \u6703\u8a08\u7cfb// \u71df\u696d// \u8ca1\u5831// \u79ae\u5238// \u5be6\u52d9// \u542b// \u5b89\u4faf// \u7b2c\u5341\u7248// \u6298\u820a// \u8cc7\u683c// \u7b2c\u4e5d\u7248// \u7a0b// \u6821\u5712// \u6210\u7ba1// \u5e33\u6b3e// \u5b89\u6c38// \u6bcf\u80a1// \u6700\u65b0\u7248// \u8ca1\u7a05// \u521d\u6703// \u5206\u9304// \u76c8\u9918// \u6210\u672c\u6703\u8a08// \u4e0a\u518a// \u4e0b\u518a// \u8cc7\u8aa0// \u65bd\u654f\n"
       ]
      }
     ],
     "prompt_number": 34
    },
    {
     "cell_type": "markdown",
     "metadata": {},
     "source": [
      "## Checking row_idx"
     ]
    },
    {
     "cell_type": "code",
     "collapsed": false,
     "input": [
      "one_group_summary[\"sdf\"]._row_idx"
     ],
     "language": "python",
     "metadata": {},
     "outputs": [
      {
       "metadata": {},
       "output_type": "pyout",
       "prompt_number": 35,
       "text": [
        "array([u'http://www.ptt.cc/bbs/Accounting/M.1391579341.A.20A.html',\n",
        "       u'http://www.ptt.cc/bbs/Accounting/M.1391582662.A.8A1.html',\n",
        "       u'http://www.ptt.cc/bbs/Accounting/M.1391590052.A.364.html', ...,\n",
        "       u'http://www.ptt.cc/bbs/Accounting/M.1388857344.A.617.html',\n",
        "       u'http://www.ptt.cc/bbs/Accounting/M.1388937222.A.D5F.html',\n",
        "       u'http://www.ptt.cc/bbs/Accounting/M.1389000970.A.662.html'], dtype=object)"
       ]
      }
     ],
     "prompt_number": 35
    },
    {
     "cell_type": "code",
     "collapsed": false,
     "input": [],
     "language": "python",
     "metadata": {},
     "outputs": [],
     "prompt_number": 35
    }
   ],
   "metadata": {}
  }
 ]
}